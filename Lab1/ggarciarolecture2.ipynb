{
  "nbformat": 4,
  "nbformat_minor": 0,
  "metadata": {
    "colab": {
      "name": "ggarciarolecture2.ipynb",
      "provenance": []
    },
    "kernelspec": {
      "display_name": "Python 3",
      "name": "python3"
    }
  },
  "cells": [
    {
      "cell_type": "markdown",
      "metadata": {
        "id": "0SlYY1E5yDMy"
      },
      "source": [
        "# Introduction to Python\n",
        "by Maxwell Margenot\n",
        "\n",
        "Part of the Quantopian Lecture Series:\n",
        "\n",
        "* [www.quantopian.com/lectures](https://www.quantopian.com/lectures)\n",
        "* [github.com/quantopian/research_public](https://github.com/quantopian/research_public)\n",
        "\n",
        "\n",
        "---\n",
        "\n",
        "All of the coding that you will do on the Quantopian platform will be in Python. It is also just a good, jack-of-all-trades language to know! Here we will provide you with the basics so that you can feel confident going through our other lectures and understanding what is happening."
      ]
    },
    {
      "cell_type": "markdown",
      "metadata": {
        "id": "EACrwZgdyDNP"
      },
      "source": [
        "## Code Comments\n",
        "\n",
        "A comment is a note made by a programmer in the source code of a program. Its purpose is to clarify the source code and make it easier for people to follow along with what is happening. Anything in a comment is generally ignored when the code is actually run, making comments useful for including explanations and reasoning as well as removing specific lines of code that you may be unsure about. Comments in Python are created by using the pound symbol (`# Insert Text Here`). Including a `#` in a line of code will comment out anything that follows it."
      ]
    },
    {
      "cell_type": "code",
      "metadata": {
        "id": "KGXTiP-JyDNS"
      },
      "source": [
        "# This is a comment\n",
        "# These lines of code will not change any values\n",
        "# Anything following the first # is not run as code\n"
      ],
      "execution_count": 257,
      "outputs": []
    },
    {
      "cell_type": "code",
      "metadata": {
        "id": "xiPLFVQveQVJ"
      },
      "source": [
        "#My example\n",
        "# Comentary with all special characters´+ñ{}.<!\"#$%&/()="
      ],
      "execution_count": 258,
      "outputs": []
    },
    {
      "cell_type": "markdown",
      "metadata": {
        "id": "VhJu7JgyyDNV"
      },
      "source": [
        "You may hear text enclosed in triple quotes (`\"\"\" Insert Text Here \"\"\"`) referred to as multi-line comments, but this is not entirely accurate. This is a special type of `string` (a data type we will cover), called a `docstring`, used to explain the purpose of a function."
      ]
    },
    {
      "cell_type": "code",
      "metadata": {
        "colab": {
          "base_uri": "https://localhost:8080/",
          "height": 35
        },
        "id": "DNxblhoryDNX",
        "outputId": "68d74792-6477-4cf7-c114-5830c7e97b49"
      },
      "source": [
        "\"\"\" This is a special string \"\"\""
      ],
      "execution_count": 259,
      "outputs": [
        {
          "output_type": "execute_result",
          "data": {
            "application/vnd.google.colaboratory.intrinsic+json": {
              "type": "string"
            },
            "text/plain": [
              "' This is a special string '"
            ]
          },
          "metadata": {
            "tags": []
          },
          "execution_count": 259
        }
      ]
    },
    {
      "cell_type": "code",
      "metadata": {
        "colab": {
          "base_uri": "https://localhost:8080/",
          "height": 35
        },
        "id": "ABaLPkQTeZza",
        "outputId": "eb722904-61a9-484f-fc1b-446ba129f046"
      },
      "source": [
        "#My example\n",
        "\"\"\" Esta es una cadena especial \"\"\""
      ],
      "execution_count": 260,
      "outputs": [
        {
          "output_type": "execute_result",
          "data": {
            "application/vnd.google.colaboratory.intrinsic+json": {
              "type": "string"
            },
            "text/plain": [
              "' Esta es una cadena especial '"
            ]
          },
          "metadata": {
            "tags": []
          },
          "execution_count": 260
        }
      ]
    },
    {
      "cell_type": "markdown",
      "metadata": {
        "id": "XcTUoA2jyDNY"
      },
      "source": [
        "Make sure you read the comments within each code cell (if they are there). They will provide more real-time explanations of what is going on as you look at each line of code."
      ]
    },
    {
      "cell_type": "markdown",
      "metadata": {
        "id": "JU7HeY0iyDNc"
      },
      "source": [
        "## Variables\n",
        "\n",
        "Variables provide names for values in programming. If you want to save a value for later or repeated use, you give the value a name, storing the contents in a variable. Variables in programming work in a fundamentally similar way to variables in algebra, but in Python they can take on various different data types.\n",
        "\n",
        "The basic variable types that we will cover in this section are `integers`, `floating point numbers`, `booleans`, and `strings`. \n",
        "\n",
        "An `integer` in programming is the same as in mathematics, a round number with no values after the decimal point. We use the built-in `print` function here to display the values of our variables as well as their types!"
      ]
    },
    {
      "cell_type": "code",
      "metadata": {
        "colab": {
          "base_uri": "https://localhost:8080/"
        },
        "id": "gjn4A5IuyDNe",
        "outputId": "37456d07-d0c9-43d7-af5f-d4e87252aec8"
      },
      "source": [
        "my_integer = 50\n",
        "print (my_integer, type(my_integer))"
      ],
      "execution_count": 261,
      "outputs": [
        {
          "output_type": "stream",
          "text": [
            "50 <class 'int'>\n"
          ],
          "name": "stdout"
        }
      ]
    },
    {
      "cell_type": "code",
      "metadata": {
        "colab": {
          "base_uri": "https://localhost:8080/"
        },
        "id": "U_OercST0DoC",
        "outputId": "c0d2e575-96fb-4124-df03-7a535eb41d08"
      },
      "source": [
        "#My example\n",
        "my_second_integer = 34\n",
        "print (my_second_integer, type(my_second_integer))"
      ],
      "execution_count": 262,
      "outputs": [
        {
          "output_type": "stream",
          "text": [
            "34 <class 'int'>\n"
          ],
          "name": "stdout"
        }
      ]
    },
    {
      "cell_type": "markdown",
      "metadata": {
        "id": "KtV_hovhyDNf"
      },
      "source": [
        "Variables, regardless of type, are assigned by using a single equals sign (`=`). Variables are case-sensitive so any changes in variation in the capitals of a variable name will reference a different variable entirely."
      ]
    },
    {
      "cell_type": "code",
      "metadata": {
        "colab": {
          "base_uri": "https://localhost:8080/"
        },
        "id": "UPhYmaKcyDNg",
        "outputId": "d8d3e604-cdd8-4239-cc57-9cadea92cd09"
      },
      "source": [
        "one = 1\n",
        "One = \"number one\" #My example, the variables are case sentitive\n",
        "print (One) \n",
        "print (one)"
      ],
      "execution_count": 263,
      "outputs": [
        {
          "output_type": "stream",
          "text": [
            "number one\n",
            "1\n"
          ],
          "name": "stdout"
        }
      ]
    },
    {
      "cell_type": "markdown",
      "metadata": {
        "id": "QwQUZPHoyDNh"
      },
      "source": [
        "A `floating point` number, or a `float` is a fancy name for a real number (again as in mathematics). To define a `float`, we need to either include a decimal point or specify that the value is a float."
      ]
    },
    {
      "cell_type": "code",
      "metadata": {
        "colab": {
          "base_uri": "https://localhost:8080/"
        },
        "id": "e9Tkpj34yDNi",
        "scrolled": true,
        "outputId": "27ffbd50-d159-4cee-d866-b849063c4dff"
      },
      "source": [
        "my_float = 1.0\n",
        "print (my_float, type(my_float))\n",
        "my_float = float(1)\n",
        "print (my_float, type(my_float))"
      ],
      "execution_count": 264,
      "outputs": [
        {
          "output_type": "stream",
          "text": [
            "1.0 <class 'float'>\n",
            "1.0 <class 'float'>\n"
          ],
          "name": "stdout"
        }
      ]
    },
    {
      "cell_type": "code",
      "metadata": {
        "colab": {
          "base_uri": "https://localhost:8080/"
        },
        "id": "vPZK1Ky60XOv",
        "outputId": "d299dbdb-385b-4fd0-d080-760a742907d3"
      },
      "source": [
        "#My example, float number\n",
        "my_second_float = 3.0\n",
        "print (my_second_float, type(my_second_float))\n",
        "my_second_float = float(4)\n",
        "print (my_second_float, type(my_second_float))"
      ],
      "execution_count": 265,
      "outputs": [
        {
          "output_type": "stream",
          "text": [
            "3.0 <class 'float'>\n",
            "4.0 <class 'float'>\n"
          ],
          "name": "stdout"
        }
      ]
    },
    {
      "cell_type": "markdown",
      "metadata": {
        "id": "GKzTb4oryDNj"
      },
      "source": [
        "A variable of type `float` will not round the number that you store in it, while a variable of type `integer` will. This makes `floats` more suitable for mathematical calculations where you want more than just integers.\n",
        "\n",
        "Note that as we used the `float()` function to force an number to be considered a `float`, we can use the `int()` function to force a number to be considered an `int`."
      ]
    },
    {
      "cell_type": "code",
      "metadata": {
        "colab": {
          "base_uri": "https://localhost:8080/"
        },
        "id": "O4ZAq7oAyDNk",
        "outputId": "c7b139e0-a628-4bb0-d08e-7581d9de2b8f"
      },
      "source": [
        "my_int = int(3.14159)\n",
        "print (my_int, type(my_int))"
      ],
      "execution_count": 266,
      "outputs": [
        {
          "output_type": "stream",
          "text": [
            "3 <class 'int'>\n"
          ],
          "name": "stdout"
        }
      ]
    },
    {
      "cell_type": "code",
      "metadata": {
        "colab": {
          "base_uri": "https://localhost:8080/"
        },
        "id": "vddl9CSq0h2y",
        "outputId": "2df41fa7-fc16-4e83-89f1-625ff43f8b19"
      },
      "source": [
        "#My example, interger number\n",
        "my_second_int = int(3/4)\n",
        "print (my_second_int, type(my_second_int))"
      ],
      "execution_count": 267,
      "outputs": [
        {
          "output_type": "stream",
          "text": [
            "0 <class 'int'>\n"
          ],
          "name": "stdout"
        }
      ]
    },
    {
      "cell_type": "markdown",
      "metadata": {
        "id": "HKE69ShWyDNl"
      },
      "source": [
        "The `int()` function will also truncate any digits that a number may have after the decimal point!\n",
        "\n",
        "Strings allow you to include text as a variable to operate on. They are defined using either single quotes ('') or double quotes (\"\")."
      ]
    },
    {
      "cell_type": "code",
      "metadata": {
        "colab": {
          "base_uri": "https://localhost:8080/"
        },
        "id": "MZ-76iTEyDNm",
        "outputId": "e7e1dd3f-b364-4726-e816-53b46c2a8bd5"
      },
      "source": [
        "my_string = 'This is a string with single quotes'\n",
        "print (my_string)\n",
        "my_string = \"This is a string with double quotes\"\n",
        "print (my_string)"
      ],
      "execution_count": 268,
      "outputs": [
        {
          "output_type": "stream",
          "text": [
            "This is a string with single quotes\n",
            "This is a string with double quotes\n"
          ],
          "name": "stdout"
        }
      ]
    },
    {
      "cell_type": "code",
      "metadata": {
        "colab": {
          "base_uri": "https://localhost:8080/"
        },
        "id": "IAlmNYDw0peJ",
        "outputId": "f8921586-cbc2-4ad4-c9aa-2bf889474aec"
      },
      "source": [
        "#My example, string quotes\n",
        "my_second_string = 'A string can be defined using either single quotes'\n",
        "print (my_second_string)\n",
        "my_second_string = \"Or double quotes, either way is correct\"\n",
        "print (my_second_string)"
      ],
      "execution_count": 269,
      "outputs": [
        {
          "output_type": "stream",
          "text": [
            "A string can be defined using either single quotes\n",
            "Or double quotes, either way is correct\n"
          ],
          "name": "stdout"
        }
      ]
    },
    {
      "cell_type": "markdown",
      "metadata": {
        "id": "mVumG0-hyDNo"
      },
      "source": [
        "Both are allowed so that we can include apostrophes or quotation marks in a string if we so choose."
      ]
    },
    {
      "cell_type": "code",
      "metadata": {
        "colab": {
          "base_uri": "https://localhost:8080/"
        },
        "id": "2coMbbODyDNq",
        "outputId": "b93ad874-3284-4319-e21f-f731e2e48bef"
      },
      "source": [
        "my_string = '\"Jabberwocky\", by Lewis Carroll'\n",
        "print (my_string)\n",
        "my_string = \"'Twas brillig, and the slithy toves / Did gyre and gimble in the wabe;\"\n",
        "print (my_string)"
      ],
      "execution_count": 270,
      "outputs": [
        {
          "output_type": "stream",
          "text": [
            "\"Jabberwocky\", by Lewis Carroll\n",
            "'Twas brillig, and the slithy toves / Did gyre and gimble in the wabe;\n"
          ],
          "name": "stdout"
        }
      ]
    },
    {
      "cell_type": "code",
      "metadata": {
        "colab": {
          "base_uri": "https://localhost:8080/"
        },
        "id": "vWnohlmD0zfs",
        "outputId": "f8474074-9c03-45c1-8456-6da097ca8afe"
      },
      "source": [
        "#My example\n",
        "my_second_string = '\"Bohemian Rhapsody\", by Queen'\n",
        "print (my_second_string)\n",
        "my_second_string = \"You can't write apostrophes when not using quotation marks\"\n",
        "print (my_second_string)"
      ],
      "execution_count": 271,
      "outputs": [
        {
          "output_type": "stream",
          "text": [
            "\"Bohemian Rhapsody\", by Queen\n",
            "You can't write apostrophes when not using quotation marks\n"
          ],
          "name": "stdout"
        }
      ]
    },
    {
      "cell_type": "markdown",
      "metadata": {
        "id": "OS1wHu8dyDNs"
      },
      "source": [
        "Booleans, or `bools` are binary variable types. A `bool` can only take on one of two values, these being `True` or `False`. There is much more to this idea of truth values when it comes to programming, which we cover later in the [Logical Operators](#id-section5) of this notebook."
      ]
    },
    {
      "cell_type": "code",
      "metadata": {
        "colab": {
          "base_uri": "https://localhost:8080/"
        },
        "id": "Djua6Dq_yDNw",
        "outputId": "4f922cf9-6bfc-44c7-dc68-f3d20a2ffc03"
      },
      "source": [
        "my_bool = True\n",
        "print (my_bool, type(my_bool))"
      ],
      "execution_count": 272,
      "outputs": [
        {
          "output_type": "stream",
          "text": [
            "True <class 'bool'>\n"
          ],
          "name": "stdout"
        }
      ]
    },
    {
      "cell_type": "code",
      "metadata": {
        "colab": {
          "base_uri": "https://localhost:8080/"
        },
        "id": "MdhGGP7m1KrG",
        "outputId": "0b55de55-3173-4af1-fab6-6e7cc081e4c6"
      },
      "source": [
        "#My example, boolean variables\n",
        "my_second_bool = False\n",
        "print (my_second_bool, type(my_second_bool))"
      ],
      "execution_count": 273,
      "outputs": [
        {
          "output_type": "stream",
          "text": [
            "False <class 'bool'>\n"
          ],
          "name": "stdout"
        }
      ]
    },
    {
      "cell_type": "markdown",
      "metadata": {
        "id": "xGsG1TBryDNy"
      },
      "source": [
        "There are many more data types that you can assign as variables in Python, but these are the basic ones! We will cover a few more later as we move through this tutorial."
      ]
    },
    {
      "cell_type": "markdown",
      "metadata": {
        "id": "43A2uggLyDNz"
      },
      "source": [
        "## Basic Math\n",
        "\n",
        "Python has a number of built-in math functions. These can be extended even further by importing the **math** package or by including any number of other calculation-based packages.\n",
        "\n",
        "All of the basic arithmetic operations are supported: `+`, `-`, `/`, and `*`. You can create exponents by using `**` and modular arithmetic is introduced with the mod operator, `%`."
      ]
    },
    {
      "cell_type": "code",
      "metadata": {
        "colab": {
          "base_uri": "https://localhost:8080/"
        },
        "id": "ZBbD0pbRyDN-",
        "outputId": "96477f13-8ebe-4977-9af7-7dfa14755006"
      },
      "source": [
        "print ('Addition: ', 2 + 2)\n",
        "print ('Subtraction: ', 7 - 4)\n",
        "print ('Multiplication: ', 2 * 5)\n",
        "print ('Division: ', 10 / 2)\n",
        "print ('Exponentiation: ', 3**2)"
      ],
      "execution_count": 274,
      "outputs": [
        {
          "output_type": "stream",
          "text": [
            "Addition:  4\n",
            "Subtraction:  3\n",
            "Multiplication:  10\n",
            "Division:  5.0\n",
            "Exponentiation:  9\n"
          ],
          "name": "stdout"
        }
      ]
    },
    {
      "cell_type": "code",
      "metadata": {
        "colab": {
          "base_uri": "https://localhost:8080/"
        },
        "id": "b79hsUb71TqQ",
        "outputId": "e9f477bf-c8d7-4b64-edce-7ca7a01dd4b1"
      },
      "source": [
        "#My example, several arithmetic operations\n",
        "print ('A second addition: ', 32+ 3)\n",
        "print ('A second subtraction: ', 32-76)\n",
        "print ('A second multiplication: ', 12 * 5)\n",
        "print ('A second division: ', 14 / 5)\n",
        "print ('A second exponentiation: ', 2**10)"
      ],
      "execution_count": 275,
      "outputs": [
        {
          "output_type": "stream",
          "text": [
            "A second addition:  35\n",
            "A second subtraction:  -44\n",
            "A second multiplication:  60\n",
            "A second division:  2.8\n",
            "A second exponentiation:  1024\n"
          ],
          "name": "stdout"
        }
      ]
    },
    {
      "cell_type": "markdown",
      "metadata": {
        "id": "6nTnA8qmyDOB"
      },
      "source": [
        "If you are not familiar with the the mod operator, it operates like a remainder function. If we type $15 \\ \\% \\ 4$, it will return the remainder after dividing $15$ by $4$."
      ]
    },
    {
      "cell_type": "code",
      "metadata": {
        "colab": {
          "base_uri": "https://localhost:8080/"
        },
        "id": "jm55qkxxyDOC",
        "outputId": "6429a304-a1fe-4f0c-d60d-8bf59cfcd186"
      },
      "source": [
        "print ('Modulo: ', 15 % 4)"
      ],
      "execution_count": 276,
      "outputs": [
        {
          "output_type": "stream",
          "text": [
            "Modulo:  3\n"
          ],
          "name": "stdout"
        }
      ]
    },
    {
      "cell_type": "code",
      "metadata": {
        "colab": {
          "base_uri": "https://localhost:8080/"
        },
        "id": "GzAz7DpS1YMh",
        "outputId": "84c94a2c-4ff2-4b07-e691-6cf4976333c2"
      },
      "source": [
        "#My example, modulo operator\n",
        "print ('A second  modulo: ', 734 % 12)"
      ],
      "execution_count": 277,
      "outputs": [
        {
          "output_type": "stream",
          "text": [
            "A second  modulo:  2\n"
          ],
          "name": "stdout"
        }
      ]
    },
    {
      "cell_type": "markdown",
      "metadata": {
        "id": "cTrVsTs2yDOE"
      },
      "source": [
        "Mathematical functions also work on variables!"
      ]
    },
    {
      "cell_type": "code",
      "metadata": {
        "colab": {
          "base_uri": "https://localhost:8080/"
        },
        "id": "d_3cpqWYyDOF",
        "scrolled": true,
        "outputId": "6331548f-79df-4297-b0e6-57037ab075c4"
      },
      "source": [
        "first_integer = 4\n",
        "second_integer = 5\n",
        "print (first_integer * second_integer)\n"
      ],
      "execution_count": 278,
      "outputs": [
        {
          "output_type": "stream",
          "text": [
            "20\n"
          ],
          "name": "stdout"
        }
      ]
    },
    {
      "cell_type": "code",
      "metadata": {
        "colab": {
          "base_uri": "https://localhost:8080/"
        },
        "id": "S_nGPFQi1cu-",
        "outputId": "1de03c95-0218-4ae9-9e53-ea965bb693ae"
      },
      "source": [
        "#My example\n",
        "third_integer = 3\n",
        "fourth_integer = 3\n",
        "print (third_integer * fourth_integer)"
      ],
      "execution_count": 279,
      "outputs": [
        {
          "output_type": "stream",
          "text": [
            "9\n"
          ],
          "name": "stdout"
        }
      ]
    },
    {
      "cell_type": "markdown",
      "metadata": {
        "id": "4OAeSk4syDOH"
      },
      "source": [
        "Make sure that your variables are floats if you want to have decimal points in your answer. If you perform math exclusively with integers, you get an integer. Including any float in the calculation will make the result a float."
      ]
    },
    {
      "cell_type": "code",
      "metadata": {
        "colab": {
          "base_uri": "https://localhost:8080/"
        },
        "id": "HF9Px4OoyDOJ",
        "outputId": "dc139240-be87-461e-fd19-a6ab60e0c090"
      },
      "source": [
        "first_integer = 11\n",
        "second_integer = 3\n",
        "print (first_integer / second_integer)"
      ],
      "execution_count": 280,
      "outputs": [
        {
          "output_type": "stream",
          "text": [
            "3.6666666666666665\n"
          ],
          "name": "stdout"
        }
      ]
    },
    {
      "cell_type": "code",
      "metadata": {
        "colab": {
          "base_uri": "https://localhost:8080/"
        },
        "id": "-3cpzItY1k4N",
        "outputId": "10cd5ab2-5064-4291-ae24-215b25c2b19f"
      },
      "source": [
        "#My example\n",
        "third_integer = 2\n",
        "fourth_integer = 2\n",
        "print (third_integer / fourth_integer)"
      ],
      "execution_count": 281,
      "outputs": [
        {
          "output_type": "stream",
          "text": [
            "1.0\n"
          ],
          "name": "stdout"
        }
      ]
    },
    {
      "cell_type": "code",
      "metadata": {
        "colab": {
          "base_uri": "https://localhost:8080/"
        },
        "id": "ld4yTLXeyDOQ",
        "outputId": "2fd36cbf-8448-42cb-a0fc-1cfab235cc3e"
      },
      "source": [
        "first_number = 11.0\n",
        "second_number = 3.0\n",
        "print (first_number / second_number)"
      ],
      "execution_count": 282,
      "outputs": [
        {
          "output_type": "stream",
          "text": [
            "3.6666666666666665\n"
          ],
          "name": "stdout"
        }
      ]
    },
    {
      "cell_type": "code",
      "metadata": {
        "colab": {
          "base_uri": "https://localhost:8080/"
        },
        "id": "TrjEA0co247B",
        "outputId": "367fc537-5d74-4818-f1ac-84280957fd98"
      },
      "source": [
        "#My example\n",
        "third_number = 33.0\n",
        "fourth_number = 5.0\n",
        "print (third_number / fourth_number)"
      ],
      "execution_count": 283,
      "outputs": [
        {
          "output_type": "stream",
          "text": [
            "6.6\n"
          ],
          "name": "stdout"
        }
      ]
    },
    {
      "cell_type": "markdown",
      "metadata": {
        "id": "qBNvrC2vyDOS"
      },
      "source": [
        "Python has a few built-in math functions. The most notable of these are:\n",
        "\n",
        "* `abs()`\n",
        "* `round()`\n",
        "* `max()`\n",
        "* `min()`\n",
        "* `sum()`\n",
        "\n",
        "These functions all act as you would expect, given their names. Calling `abs()` on a number will return its absolute value. The `round()` function will round a number to a specified number of the decimal points (the default is $0$). Calling `max()` or `min()` on a collection of numbers will return, respectively, the maximum or minimum value in the collection. Calling `sum()` on a collection of numbers will add them all up. If you're not familiar with how collections of values in Python work, don't worry! We will cover collections in-depth in the next section. \n",
        "\n",
        "Additional math functionality can be added in with the `math` package."
      ]
    },
    {
      "cell_type": "code",
      "metadata": {
        "id": "aflLoSMKyDOU"
      },
      "source": [
        "import math"
      ],
      "execution_count": 284,
      "outputs": []
    },
    {
      "cell_type": "markdown",
      "metadata": {
        "id": "m80WA1eRyDOW"
      },
      "source": [
        "The math library adds a long list of new mathematical functions to Python. Feel free to check out the [documentation](https://docs.python.org/2/library/math.html) for the full list and details. It concludes some mathematical constants"
      ]
    },
    {
      "cell_type": "code",
      "metadata": {
        "colab": {
          "base_uri": "https://localhost:8080/"
        },
        "id": "CV1thaG7yDOZ",
        "outputId": "bd8dd0d0-d1fa-4fc5-d4ab-ad7a349257bd"
      },
      "source": [
        "print ('Pi: ', math.pi)\n",
        "print (\"Euler's Constant: \", math.e)\n"
      ],
      "execution_count": 285,
      "outputs": [
        {
          "output_type": "stream",
          "text": [
            "Pi:  3.141592653589793\n",
            "Euler's Constant:  2.718281828459045\n"
          ],
          "name": "stdout"
        }
      ]
    },
    {
      "cell_type": "markdown",
      "metadata": {
        "id": "31YVwYB0yDOb"
      },
      "source": [
        "As well as some commonly used math functions"
      ]
    },
    {
      "cell_type": "code",
      "metadata": {
        "colab": {
          "base_uri": "https://localhost:8080/"
        },
        "id": "EqvOBQdwyDOe",
        "outputId": "3761da73-7f79-4339-94b1-461db432220c"
      },
      "source": [
        "print ('Cosine of pi: ', math.cos(math.pi))"
      ],
      "execution_count": 286,
      "outputs": [
        {
          "output_type": "stream",
          "text": [
            "Cosine of pi:  -1.0\n"
          ],
          "name": "stdout"
        }
      ]
    },
    {
      "cell_type": "code",
      "metadata": {
        "colab": {
          "base_uri": "https://localhost:8080/"
        },
        "id": "aWXGwlcq3S03",
        "outputId": "ea5d9c8a-95f4-4e34-f031-c5bde3532359"
      },
      "source": [
        "#My example, math functions\n",
        "print (\"Euler's ceiling value: \", math.ceil(math.e))\n",
        "print (\"Euler's floor value \", math.floor(math.e))"
      ],
      "execution_count": 287,
      "outputs": [
        {
          "output_type": "stream",
          "text": [
            "Euler's ceiling value:  3\n",
            "Euler's floor value  2\n"
          ],
          "name": "stdout"
        }
      ]
    },
    {
      "cell_type": "markdown",
      "metadata": {
        "id": "XlE22DqqyDOg"
      },
      "source": [
        "## Collections\n",
        "### Lists\n",
        "\n",
        "A `list` in Python is an ordered collection of objects that can contain any data type. We define a `list` using brackets (`[]`).\n",
        "\n",
        "Let's supose $X$ is a list of $n$ elements, defined as it follows:\n",
        "\n",
        "$$X =[x_{1},x_{2},....,x_{n-1}]$$"
      ]
    },
    {
      "cell_type": "code",
      "metadata": {
        "colab": {
          "base_uri": "https://localhost:8080/"
        },
        "id": "RgCnnNFiyDOh",
        "outputId": "9466e251-d0c6-4676-ce3d-4524cb383b6f"
      },
      "source": [
        "my_list = [1, 2, 3]\n",
        "print (my_list)"
      ],
      "execution_count": 288,
      "outputs": [
        {
          "output_type": "stream",
          "text": [
            "[1, 2, 3]\n"
          ],
          "name": "stdout"
        }
      ]
    },
    {
      "cell_type": "code",
      "metadata": {
        "colab": {
          "base_uri": "https://localhost:8080/"
        },
        "id": "mLZ6G3Is3YcS",
        "outputId": "56b37336-2e2e-45c3-fd7b-2aa3cfb9ae02"
      },
      "source": [
        "#My list example\n",
        "my_second_list = [2, 4, 6, 8, 10]\n",
        "print (my_second_list)"
      ],
      "execution_count": 289,
      "outputs": [
        {
          "output_type": "stream",
          "text": [
            "[2, 4, 6, 8, 10]\n"
          ],
          "name": "stdout"
        }
      ]
    },
    {
      "cell_type": "markdown",
      "metadata": {
        "id": "4C9TAXgQyDOk"
      },
      "source": [
        "We can access and index the list by using brackets as well. In order to select an individual element, simply type the list name followed by the index of the item you are looking for in braces.\n",
        "\n",
        "$$X[n]=x_{n}$$"
      ]
    },
    {
      "cell_type": "code",
      "metadata": {
        "colab": {
          "base_uri": "https://localhost:8080/"
        },
        "id": "wqGT5yQiyDOm",
        "outputId": "64e250c5-9286-4143-c031-75b0dbfb12e8"
      },
      "source": [
        "print (my_list[0])\n",
        "print (my_list[2])"
      ],
      "execution_count": 290,
      "outputs": [
        {
          "output_type": "stream",
          "text": [
            "1\n",
            "3\n"
          ],
          "name": "stdout"
        }
      ]
    },
    {
      "cell_type": "code",
      "metadata": {
        "colab": {
          "base_uri": "https://localhost:8080/"
        },
        "id": "fU-YJ9Eb3csH",
        "outputId": "209b2ef7-02c4-4269-dae8-75ead532725c"
      },
      "source": [
        "#My example\n",
        "print (my_second_list[1])\n",
        "print (my_second_list[3])"
      ],
      "execution_count": 291,
      "outputs": [
        {
          "output_type": "stream",
          "text": [
            "4\n",
            "8\n"
          ],
          "name": "stdout"
        }
      ]
    },
    {
      "cell_type": "markdown",
      "metadata": {
        "id": "j3rmJHgFyDOn"
      },
      "source": [
        "Indexing in Python starts from $0$. If you have a list of length $n$, the first element of the list is at index $0$, the second element is at index $1$, and so on and so forth. The final element of the list will be at index $n-1$. Be careful! Trying to access a non-existent index will cause an error."
      ]
    },
    {
      "cell_type": "code",
      "metadata": {
        "colab": {
          "base_uri": "https://localhost:8080/"
        },
        "id": "GJhndxaRyDOo",
        "outputId": "7c07ecc2-c9f2-4d22-cd3e-d13e96e13f4a"
      },
      "source": [
        "print ('The first, second, and third list elements: ', my_list[0], my_list[1], my_list[2])\n",
        "#print ('Accessing outside the list bounds causes an error: ', my_list[3])"
      ],
      "execution_count": 292,
      "outputs": [
        {
          "output_type": "stream",
          "text": [
            "The first, second, and third list elements:  1 2 3\n"
          ],
          "name": "stdout"
        }
      ]
    },
    {
      "cell_type": "code",
      "metadata": {
        "colab": {
          "base_uri": "https://localhost:8080/"
        },
        "id": "l-FtwS7t3o7N",
        "outputId": "fc7b8dbf-5cf9-4b83-cbe0-570a497b0a73"
      },
      "source": [
        "#My example\n",
        "print ('The first, second, third and fourth second list elements: ', my_second_list[0], my_second_list[1], my_second_list[2], my_second_list[3])\n",
        "#print ('Accessing outside the list bounds causes an error: ', my_list[8])"
      ],
      "execution_count": 293,
      "outputs": [
        {
          "output_type": "stream",
          "text": [
            "The first, second, third and fourth second list elements:  2 4 6 8\n"
          ],
          "name": "stdout"
        }
      ]
    },
    {
      "cell_type": "markdown",
      "metadata": {
        "id": "yIWgtDiSyDOp"
      },
      "source": [
        "We can see the number of elements in a list by calling the `len()` function."
      ]
    },
    {
      "cell_type": "code",
      "metadata": {
        "colab": {
          "base_uri": "https://localhost:8080/"
        },
        "id": "QISYN9psyDOr",
        "outputId": "6e734bb8-1444-49d1-e3ca-026805fe26a9"
      },
      "source": [
        "print (len(my_list))"
      ],
      "execution_count": 294,
      "outputs": [
        {
          "output_type": "stream",
          "text": [
            "3\n"
          ],
          "name": "stdout"
        }
      ]
    },
    {
      "cell_type": "code",
      "metadata": {
        "colab": {
          "base_uri": "https://localhost:8080/"
        },
        "id": "TEUCcw5g3wkM",
        "outputId": "1a768076-0888-4b6b-bc88-2cbe8f2dbb41"
      },
      "source": [
        "#My example\n",
        "print (len(my_second_list))"
      ],
      "execution_count": 295,
      "outputs": [
        {
          "output_type": "stream",
          "text": [
            "5\n"
          ],
          "name": "stdout"
        }
      ]
    },
    {
      "cell_type": "markdown",
      "metadata": {
        "id": "LVWjWIpuyDOw"
      },
      "source": [
        "We can update and change a list by accessing an index and assigning new value.\n",
        "\n",
        "Let's suppose we have to assign a new value $a$ to $x_{n}$\n",
        "$$X[n] = x_{n} = a$$"
      ]
    },
    {
      "cell_type": "code",
      "metadata": {
        "colab": {
          "base_uri": "https://localhost:8080/"
        },
        "id": "nGORRsn7yDOx",
        "outputId": "5d8fab44-327b-4766-933e-e92b4a9f3929"
      },
      "source": [
        "print (my_list)\n",
        "my_list[0] = 42\n",
        "print (my_list)"
      ],
      "execution_count": 296,
      "outputs": [
        {
          "output_type": "stream",
          "text": [
            "[1, 2, 3]\n",
            "[42, 2, 3]\n"
          ],
          "name": "stdout"
        }
      ]
    },
    {
      "cell_type": "code",
      "metadata": {
        "colab": {
          "base_uri": "https://localhost:8080/"
        },
        "id": "7g0lgjwU31so",
        "outputId": "fab7a6e2-4f7e-4413-cc5e-611fc481bb14"
      },
      "source": [
        "#My example\n",
        "print (my_second_list)\n",
        "my_second_list[0] = 33\n",
        "print (my_second_list)"
      ],
      "execution_count": 297,
      "outputs": [
        {
          "output_type": "stream",
          "text": [
            "[2, 4, 6, 8, 10]\n",
            "[33, 4, 6, 8, 10]\n"
          ],
          "name": "stdout"
        }
      ]
    },
    {
      "cell_type": "markdown",
      "metadata": {
        "id": "ehb4d8QkyDOy"
      },
      "source": [
        "This is fundamentally different from how strings are handled. A `list` is mutable, meaning that you can change a `list`'s elements without changing the list itself. Some data types, like `strings`, are immutable, meaning you cannot change them at all. Once a `string` or other immutable data type has been created, it cannot be directly modified without creating an entirely new object."
      ]
    },
    {
      "cell_type": "code",
      "metadata": {
        "id": "-TvUfMjkyDOz",
        "colab": {
          "base_uri": "https://localhost:8080/",
          "height": 132
        },
        "outputId": "43d3d29e-3f0b-448a-93ae-614c3d01d6e7"
      },
      "source": [
        "my_string = (\"Strings never change\")\n",
        " my_string[0] = 'Z'"
      ],
      "execution_count": 298,
      "outputs": [
        {
          "output_type": "error",
          "ename": "IndentationError",
          "evalue": "ignored",
          "traceback": [
            "\u001b[0;36m  File \u001b[0;32m\"<ipython-input-298-a8c3e2a6e725>\"\u001b[0;36m, line \u001b[0;32m2\u001b[0m\n\u001b[0;31m    my_string[0] = 'Z'\u001b[0m\n\u001b[0m    ^\u001b[0m\n\u001b[0;31mIndentationError\u001b[0m\u001b[0;31m:\u001b[0m unexpected indent\n"
          ]
        }
      ]
    },
    {
      "cell_type": "code",
      "metadata": {
        "id": "SiMQ2fb0370y",
        "colab": {
          "base_uri": "https://localhost:8080/",
          "height": 203
        },
        "outputId": "69ec54a1-d3a3-42e2-d4bf-5419e90871d0"
      },
      "source": [
        "#My example\n",
        "my_second_string = \"You can't directly modify them\"\n",
        "my_second_string[0] = '9'"
      ],
      "execution_count": 299,
      "outputs": [
        {
          "output_type": "error",
          "ename": "TypeError",
          "evalue": "ignored",
          "traceback": [
            "\u001b[0;31m---------------------------------------------------------------------------\u001b[0m",
            "\u001b[0;31mTypeError\u001b[0m                                 Traceback (most recent call last)",
            "\u001b[0;32m<ipython-input-299-b177023a2ce7>\u001b[0m in \u001b[0;36m<module>\u001b[0;34m()\u001b[0m\n\u001b[1;32m      1\u001b[0m \u001b[0;31m#My example\u001b[0m\u001b[0;34m\u001b[0m\u001b[0;34m\u001b[0m\u001b[0;34m\u001b[0m\u001b[0m\n\u001b[1;32m      2\u001b[0m \u001b[0mmy_second_string\u001b[0m \u001b[0;34m=\u001b[0m \u001b[0;34m\"You can't directly modify them\"\u001b[0m\u001b[0;34m\u001b[0m\u001b[0;34m\u001b[0m\u001b[0m\n\u001b[0;32m----> 3\u001b[0;31m \u001b[0mmy_second_string\u001b[0m\u001b[0;34m[\u001b[0m\u001b[0;36m0\u001b[0m\u001b[0;34m]\u001b[0m \u001b[0;34m=\u001b[0m \u001b[0;34m'9'\u001b[0m\u001b[0;34m\u001b[0m\u001b[0;34m\u001b[0m\u001b[0m\n\u001b[0m",
            "\u001b[0;31mTypeError\u001b[0m: 'str' object does not support item assignment"
          ]
        }
      ]
    },
    {
      "cell_type": "markdown",
      "metadata": {
        "id": "EY6VedoHyDO2"
      },
      "source": [
        "As we stated before, a list can contain any data type. Thus, lists can also contain strings."
      ]
    },
    {
      "cell_type": "code",
      "metadata": {
        "id": "uytPYM1jyDO5"
      },
      "source": [
        "my_list_2 = ['one', 'two', 'three']\n",
        "print (my_list_2)"
      ],
      "execution_count": null,
      "outputs": []
    },
    {
      "cell_type": "code",
      "metadata": {
        "id": "lMHppNul3_63"
      },
      "source": [
        "#My example\n",
        "my_second_list_2 = ['monday', 'tuesday', 'wednesday']\n",
        "print (my_second_list_2)"
      ],
      "execution_count": null,
      "outputs": []
    },
    {
      "cell_type": "markdown",
      "metadata": {
        "id": "yvKrXSFByDO_"
      },
      "source": [
        "Lists can also contain multiple different data types at once!"
      ]
    },
    {
      "cell_type": "code",
      "metadata": {
        "id": "Snr0bRJ9yDPB"
      },
      "source": [
        "my_list_3 = [True, 'False', 42]"
      ],
      "execution_count": null,
      "outputs": []
    },
    {
      "cell_type": "code",
      "metadata": {
        "id": "txeAl_rH4LXC"
      },
      "source": [
        "#My example\n",
        "my_second_list_3 = [0, 0.0, 'Zero', False]"
      ],
      "execution_count": null,
      "outputs": []
    },
    {
      "cell_type": "markdown",
      "metadata": {
        "id": "Us3GOZ21yDPC"
      },
      "source": [
        "If you want to put two lists together, they can be combined with a `+` symbol. Let's suppose we have two lists $X =[x_{1},x_{2},....,x_{n-1}]$ and \n",
        "$Y =[y_{1},y_{2},....,y_{m-1}]$ of size $n$ and $m$ respectively, the operation can be defined as:\n",
        "\n",
        "$$X+Y=[x_{1},x_{2},....,x_{n-1},y_{1},y_{2},....,y_{m-1}]$$"
      ]
    },
    {
      "cell_type": "code",
      "metadata": {
        "id": "a3_iiPWOyDPF"
      },
      "source": [
        "my_list_4 = my_list + my_list_2 + my_list_3\n",
        "print (my_list_4)"
      ],
      "execution_count": null,
      "outputs": []
    },
    {
      "cell_type": "code",
      "metadata": {
        "id": "sUUyPi1e4THf"
      },
      "source": [
        "#My example, combining lists\n",
        "my_second_list_4 = my_second_list + my_second_list_2 + my_second_list_3\n",
        "print (my_second_list_4)"
      ],
      "execution_count": null,
      "outputs": []
    },
    {
      "cell_type": "markdown",
      "metadata": {
        "id": "Gib7uLUgyDPG"
      },
      "source": [
        "In addition to accessing individual elements of a list, we can access groups of elements through slicing."
      ]
    },
    {
      "cell_type": "code",
      "metadata": {
        "id": "Fp_iN0CiyDPI"
      },
      "source": [
        "my_list = ['friends', 'romans', 'countrymen', 'lend', 'me', 'your', 'ears']"
      ],
      "execution_count": null,
      "outputs": []
    },
    {
      "cell_type": "code",
      "metadata": {
        "id": "0svmFqcX4cxQ"
      },
      "source": [
        "#My example\n",
        "my_second_list = ['cats', 'dogs', 'cows', 'chikens', 'tortoise', 'hamsters', 'birds']"
      ],
      "execution_count": null,
      "outputs": []
    },
    {
      "cell_type": "markdown",
      "metadata": {
        "id": "HYjBb7_YyDPJ"
      },
      "source": [
        "#### Slicing\n",
        "\n",
        "We use the colon (`:`) to slice lists. For a list $X$ of size $n$\n",
        "\n",
        "$$X[a:b] =[x_{a},x_{a+1},....,x_{b-1}],\\ \\ \\  \\ \\ \\ 0\\leq a <n \\ \\ and \\ \\ 0 <b\\leq n$$"
      ]
    },
    {
      "cell_type": "code",
      "metadata": {
        "id": "_N_VK3eIyDPL",
        "scrolled": true
      },
      "source": [
        "print (my_list[2:4])"
      ],
      "execution_count": null,
      "outputs": []
    },
    {
      "cell_type": "code",
      "metadata": {
        "id": "tuTAun2E4lYE"
      },
      "source": [
        "#My example, from second to fourth element\n",
        "print (my_second_list[1:5])"
      ],
      "execution_count": null,
      "outputs": []
    },
    {
      "cell_type": "markdown",
      "metadata": {
        "id": "okJNwF21yDPN"
      },
      "source": [
        "Using `:` we can select a group of elements in the list starting from the first element indicated and going up to  (but not including) the last element indicated.\n",
        "\n",
        "We can also select everything after a certain point.\n",
        "\n",
        "$$X[a:] =[x_{a},x_{a+1},....,x_{n-1}],\\ \\ \\  \\ \\ \\ 0\\leq a < n$$"
      ]
    },
    {
      "cell_type": "code",
      "metadata": {
        "id": "1wrq5974yDPQ",
        "scrolled": true
      },
      "source": [
        "print (my_list[1:])"
      ],
      "execution_count": null,
      "outputs": []
    },
    {
      "cell_type": "code",
      "metadata": {
        "id": "n0NtnD_d49e-"
      },
      "source": [
        "#My example, starting from the fourth element on\n",
        "print (my_second_list[3:])"
      ],
      "execution_count": null,
      "outputs": []
    },
    {
      "cell_type": "markdown",
      "metadata": {
        "id": "KwNd35dQyDPS"
      },
      "source": [
        "And everything before a certain point\n",
        "\n",
        "\n",
        "$$X[:a] =[x_{0},x_{1},....,x_{a-1}],\\ \\ \\  \\ \\ \\ 0\\leq a \\leq n$$"
      ]
    },
    {
      "cell_type": "code",
      "metadata": {
        "id": "3Q0hexnRyDPT",
        "scrolled": true
      },
      "source": [
        "print (my_list[:4])"
      ],
      "execution_count": null,
      "outputs": []
    },
    {
      "cell_type": "code",
      "metadata": {
        "id": "J0l92q3T5CLO"
      },
      "source": [
        "#My example, first and second element\n",
        "print (my_second_list[:2])"
      ],
      "execution_count": null,
      "outputs": []
    },
    {
      "cell_type": "markdown",
      "metadata": {
        "id": "v0aacOq5yDPU"
      },
      "source": [
        "Using negative numbers will count from the end of the indices instead of from the beginning. For example, an index of `-1` indicates the last element of the list.\n",
        "\n",
        "$$X[-a]= X[n-a]$$"
      ]
    },
    {
      "cell_type": "code",
      "metadata": {
        "id": "6wuyw9GsyDPX"
      },
      "source": [
        "print (my_list[-1])"
      ],
      "execution_count": null,
      "outputs": []
    },
    {
      "cell_type": "code",
      "metadata": {
        "id": "Y_8a8iRT5ItT"
      },
      "source": [
        "#My example, third to last element\n",
        "print (my_second_list[-3])"
      ],
      "execution_count": null,
      "outputs": []
    },
    {
      "cell_type": "markdown",
      "metadata": {
        "id": "qr7SSLxMyDPY"
      },
      "source": [
        "You can also add a third component to slicing. Instead of simply indicating the first and final parts of your slice, you can specify the step size that you want to take. So instead of taking every single element, you can take every other element.\n",
        "\n",
        "$$X[a:b:c]= [x_{a+0c},\\ x_{a+1c},\\ x_{a+2c},...,,\\ x_{b-1}]\\ \\ \\  \\ \\ 0\\leq a < n \\  and\\ \\ 0 < b,c\\leq n$$"
      ]
    },
    {
      "cell_type": "code",
      "metadata": {
        "id": "zDN3d3VFyDPZ"
      },
      "source": [
        "print (my_list[0:7:2])"
      ],
      "execution_count": null,
      "outputs": []
    },
    {
      "cell_type": "code",
      "metadata": {
        "id": "Yiibv-OS5PU2"
      },
      "source": [
        "#My example\n",
        "print (my_second_list[2:6:2])"
      ],
      "execution_count": null,
      "outputs": []
    },
    {
      "cell_type": "markdown",
      "metadata": {
        "id": "5bfsE6vCyDPb"
      },
      "source": [
        "Here we have selected the entire list (because `0:7` will yield elements `0` through `6`) and we have selected a step size of `2`. So this will spit out element `0` , element `2`, element `4`, and so on through the list element selected. We can skip indicated the beginning and end of our slice, only indicating the step, if we like."
      ]
    },
    {
      "cell_type": "code",
      "metadata": {
        "id": "V4xQJXmMyDPc"
      },
      "source": [
        "print (my_list[::2])"
      ],
      "execution_count": null,
      "outputs": []
    },
    {
      "cell_type": "code",
      "metadata": {
        "id": "ZvBkcXl35aiC"
      },
      "source": [
        "#My example, step of 3\n",
        "print (my_second_list[::3])"
      ],
      "execution_count": null,
      "outputs": []
    },
    {
      "cell_type": "markdown",
      "metadata": {
        "id": "56_Z_whjyDPh"
      },
      "source": [
        "Lists implictly select the beginning and end of the list when not otherwise specified."
      ]
    },
    {
      "cell_type": "code",
      "metadata": {
        "id": "xpsOhFaeyDPj"
      },
      "source": [
        "print (my_list[:])"
      ],
      "execution_count": null,
      "outputs": []
    },
    {
      "cell_type": "code",
      "metadata": {
        "id": "cM_nCeVC5fov"
      },
      "source": [
        "#My example\n",
        "print (my_second_list[:])"
      ],
      "execution_count": null,
      "outputs": []
    },
    {
      "cell_type": "markdown",
      "metadata": {
        "id": "VVpJQOHNyDPk"
      },
      "source": [
        "With a negative step size we can even reverse the list!"
      ]
    },
    {
      "cell_type": "code",
      "metadata": {
        "id": "vYZ7ED3syDPl"
      },
      "source": [
        "print (my_list[::-1])"
      ],
      "execution_count": null,
      "outputs": []
    },
    {
      "cell_type": "code",
      "metadata": {
        "id": "FteLOqkk6uiw"
      },
      "source": [
        "#My example\n",
        "print (my_second_list[::-1])"
      ],
      "execution_count": null,
      "outputs": []
    },
    {
      "cell_type": "markdown",
      "metadata": {
        "id": "qj99ws-CyDPm"
      },
      "source": [
        "Python does not have native matrices, but with lists we can produce a working fascimile. Other packages, such as `numpy`, add matrices as a separate data type, but in base Python the best way to create a matrix is to use a list of lists."
      ]
    },
    {
      "cell_type": "markdown",
      "metadata": {
        "id": "Q9ujCn61yDPp"
      },
      "source": [
        "We can also use built-in functions to generate lists. In particular we will look at `range()` (because we will be using it later!). Range can take several different inputs and will return a list.\n",
        "\n",
        "$$range(a) = [0,1,2,...,a-1]$$"
      ]
    },
    {
      "cell_type": "code",
      "metadata": {
        "id": "an4zyjryyDPq"
      },
      "source": [
        "b = 10\n",
        "my_list = range(b)\n",
        "print (my_list)"
      ],
      "execution_count": null,
      "outputs": []
    },
    {
      "cell_type": "code",
      "metadata": {
        "id": "rD8BPGV665uI"
      },
      "source": [
        "#My example\n",
        "b_2 = 20\n",
        "my_second_list = range(b_2)\n",
        "print (my_second_list)"
      ],
      "execution_count": null,
      "outputs": []
    },
    {
      "cell_type": "markdown",
      "metadata": {
        "id": "YEU0xld6yDPs"
      },
      "source": [
        "Similar to our list-slicing methods from before, we can define both a start and an end for our range. This will return a list that is includes the start and excludes the end, just like a slice.\n",
        "\n",
        "$$range(a,b) = [a,a+1,a+2,...,b-1]$$"
      ]
    },
    {
      "cell_type": "code",
      "metadata": {
        "id": "7VH4hP4fyDPt"
      },
      "source": [
        "a = 0\n",
        "b = 10\n",
        "my_list = range(a, b)\n",
        "print (my_list)"
      ],
      "execution_count": null,
      "outputs": []
    },
    {
      "cell_type": "code",
      "metadata": {
        "id": "8ce2-XfU7Dz1"
      },
      "source": [
        "#My example\n",
        "a_2 = 10\n",
        "b_2 = 20\n",
        "my_second_list = range(a_2,b_2)\n",
        "print (my_second_list)"
      ],
      "execution_count": null,
      "outputs": []
    },
    {
      "cell_type": "markdown",
      "metadata": {
        "id": "p2xubrxqyDPt"
      },
      "source": [
        "We can also specify a step size. This again has the same behavior as a slice.\n",
        "\n",
        "$$range(a,b,c) = [a,a+1c,a+2c,...,b-1]$$"
      ]
    },
    {
      "cell_type": "code",
      "metadata": {
        "id": "qLIEUXbDyDPw",
        "scrolled": true
      },
      "source": [
        "a = 0\n",
        "b = 10\n",
        "step = 2\n",
        "my_list = range(a, b, step)\n",
        "print (my_list)"
      ],
      "execution_count": null,
      "outputs": []
    },
    {
      "cell_type": "code",
      "metadata": {
        "id": "UXBdXvQF7Lii"
      },
      "source": [
        "#My example\n",
        "a_2 = 10\n",
        "b_2 = 20\n",
        "step_2 = 2\n",
        "my_second_list = range(a_2, b_2, step_2)\n",
        "print (my_second_list)"
      ],
      "execution_count": null,
      "outputs": []
    },
    {
      "cell_type": "markdown",
      "metadata": {
        "id": "KnhrqZbJyDPx"
      },
      "source": [
        "### Tuples\n",
        "\n",
        "A `tuple` is a data type similar to a list in that it can hold different kinds of data types. The key difference here is that a `tuple` is immutable. We define a `tuple` by separating the elements we want to include by commas. It is conventional to surround a `tuple` with parentheses.\n",
        "\n",
        "Let's supose $T$ is a tuple of $n$ elements, defined as it follows:\n",
        "\n",
        "$$T =\\ (t_{0},t_{1},....,t_{n-1})$$\n",
        "\n"
      ]
    },
    {
      "cell_type": "code",
      "metadata": {
        "id": "QiqdCP9kyDPy"
      },
      "source": [
        "my_tuple = 'I', 'have', 30, 'cats'\n",
        "print (my_tuple)"
      ],
      "execution_count": null,
      "outputs": []
    },
    {
      "cell_type": "code",
      "metadata": {
        "id": "X7xM08gL7Q7E"
      },
      "source": [
        "#My tuple example\n",
        "my_second_tuple = \"I'm\", 'Allergic', 2, 'cats'\n",
        "print (my_second_tuple)"
      ],
      "execution_count": null,
      "outputs": []
    },
    {
      "cell_type": "markdown",
      "metadata": {
        "id": "Mv9_NjDDyDPz"
      },
      "source": [
        "As mentioned before, tuples are immutable. You can't change any part of them without defining a new tuple."
      ]
    },
    {
      "cell_type": "code",
      "metadata": {
        "id": "T-qL9In6yDP1"
      },
      "source": [
        "#my_tuple[3] = 'dogs' # Attempts to change the 'cats' value stored in the the tuple to 'dogs'\n",
        "\n",
        "#my_tuple[2] = 'to' # Attempts to change the 2 value stored in the the tuple to 'to'\n"
      ],
      "execution_count": null,
      "outputs": []
    },
    {
      "cell_type": "markdown",
      "metadata": {
        "id": "g2omwPeEyDP2"
      },
      "source": [
        "You can slice tuples the same way that you slice lists!\n",
        "\n",
        "$$T[a:b] =\\ (t_{a},t_{a+1},....,t_{b-1}),\\ \\ \\  \\ \\ \\ 0\\leq a <n \\ \\ and \\ \\ 0 <b\\leq n$$"
      ]
    },
    {
      "cell_type": "code",
      "metadata": {
        "id": "uG41NAD4yDP2"
      },
      "source": [
        "print (my_tuple[1:3])"
      ],
      "execution_count": null,
      "outputs": []
    },
    {
      "cell_type": "code",
      "metadata": {
        "id": "_GZkPJYV7eX7"
      },
      "source": [
        "#My example\n",
        "print (my_second_tuple[0:4])"
      ],
      "execution_count": null,
      "outputs": []
    },
    {
      "cell_type": "markdown",
      "metadata": {
        "id": "bpAmX-DjyDP3"
      },
      "source": [
        "And concatenate them the way that you would with strings!\n",
        "\n",
        "Having 2 tuples $T =\\ (t_{0},t_{1},....,t_{n-1})$ and $U =\\ (u_{0},u_{1},....,u_{m-1})$ of size $n$ and $m$ respectively, the concatenation of tuples is defined as:\n",
        "\n",
        "$$T+U =\\ (t_{0},t_{1},....,t_{n-1},u_{0},u_{1},....,u_{m-1})$$"
      ]
    },
    {
      "cell_type": "code",
      "metadata": {
        "id": "qg2SLybJyDP4"
      },
      "source": [
        "my_other_tuple = ('make', 'that', 50)\n",
        "print (my_tuple + my_other_tuple)"
      ],
      "execution_count": null,
      "outputs": []
    },
    {
      "cell_type": "code",
      "metadata": {
        "id": "ruRftaPK7mht"
      },
      "source": [
        "#My example, concatenating tuples\n",
        "my_second_other_tuple = ('dont', 'bring', 'them', 'close')\n",
        "print (my_second_tuple + my_second_other_tuple)"
      ],
      "execution_count": null,
      "outputs": []
    },
    {
      "cell_type": "markdown",
      "metadata": {
        "id": "J7MFmr-jyDP5"
      },
      "source": [
        "We can 'pack' values together, creating a tuple (as above), or we can 'unpack' values from a tuple, taking them out."
      ]
    },
    {
      "cell_type": "code",
      "metadata": {
        "id": "uVhooGCDyDP6"
      },
      "source": [
        "str_1, str_2, int_1 = my_other_tuple\n",
        "print (str_1, str_2, int_1)"
      ],
      "execution_count": null,
      "outputs": []
    },
    {
      "cell_type": "code",
      "metadata": {
        "id": "ExXOJnDn7r_5"
      },
      "source": [
        "#My example\n",
        "second_str_1, second_str_2, second_int_1, second_str_3 = my_second_tuple\n",
        "print (second_str_1, second_str_2, second_int_1, second_str_3)"
      ],
      "execution_count": null,
      "outputs": []
    },
    {
      "cell_type": "markdown",
      "metadata": {
        "id": "JBzfMoZ9yDP6"
      },
      "source": [
        "Unpacking assigns each value of the tuple in order to each variable on the left hand side of the equals sign. Some functions, including user-defined functions, may return tuples, so we can use this to directly unpack them and access the values that we want."
      ]
    },
    {
      "cell_type": "markdown",
      "metadata": {
        "id": "1698W6AdyDP7"
      },
      "source": [
        "### Sets\n",
        "\n",
        "A `set` is a collection of unordered, unique elements. It works almost exactly as you would expect a normal set of things in mathematics to work and is defined using braces (`{}`).\n",
        "\n",
        "Let's suppose $S$ is a set with a size $n$\n",
        "$$S=\\{s_{0},s_{1},....,s_{n-1}\\}$$"
      ]
    },
    {
      "cell_type": "code",
      "metadata": {
        "id": "s5FPSJNByDP8"
      },
      "source": [
        "things_i_like = {'dogs', 7, 'the number 4', 4, 4, 4, 42, 'lizards', 'man I just LOVE the number 4'}\n",
        "print (things_i_like, type(things_i_like))"
      ],
      "execution_count": null,
      "outputs": []
    },
    {
      "cell_type": "code",
      "metadata": {
        "id": "9p1sYVUV71Xw"
      },
      "source": [
        "#My set example\n",
        "box_of_things = {'pizza', 'apples', 'pasta ',32, 33.0, 'hamburguer', 21, 'food in general'}\n",
        "print (box_of_things, type(box_of_things))"
      ],
      "execution_count": null,
      "outputs": []
    },
    {
      "cell_type": "markdown",
      "metadata": {
        "id": "jieZ01npyDP9"
      },
      "source": [
        "Note how any extra instances of the same item are removed in the final set. We can also create a `set` from a list, using the `set()` function."
      ]
    },
    {
      "cell_type": "code",
      "metadata": {
        "id": "yxxRJHWlyDP-"
      },
      "source": [
        "animal_list = ['cats', 'dogs', 'dogs', 'dogs', 'lizards', 'sponges', 'cows', 'bats', 'sponges']\n",
        "animal_set = set(animal_list)\n",
        "print (animal_set) # Removes all extra instances from the list"
      ],
      "execution_count": null,
      "outputs": []
    },
    {
      "cell_type": "code",
      "metadata": {
        "id": "95_0adPC77SP"
      },
      "source": [
        "#My set example\n",
        "food_list = ['pizza', 'pizza', 'hamburguer', 'pasta', 'sushi', 'bandeja paisa', 'ajiaco', 'ajiaco', 'ajiaco', 'tamal', 'tamal']\n",
        "food_set = set(food_list)\n",
        "print (food_set) # Removes all extra instances from the list"
      ],
      "execution_count": null,
      "outputs": []
    },
    {
      "cell_type": "markdown",
      "metadata": {
        "id": "o2e1_W_9yDP-"
      },
      "source": [
        "Calling `len()` on a set will tell you how many elements are in it."
      ]
    },
    {
      "cell_type": "code",
      "metadata": {
        "id": "qPeDIZeayDP_"
      },
      "source": [
        "print (len(animal_set))"
      ],
      "execution_count": null,
      "outputs": []
    },
    {
      "cell_type": "code",
      "metadata": {
        "id": "KsTk86ay8FmN"
      },
      "source": [
        "print (len(food_set))"
      ],
      "execution_count": null,
      "outputs": []
    },
    {
      "cell_type": "markdown",
      "metadata": {
        "id": "HrR489MnyDQA"
      },
      "source": [
        "Because a `set` is unordered, we can't access individual elements using an index. We can, however, easily check for membership (to see if something is contained in a set) and take the unions and intersections of sets by using the built-in set functions.\n",
        "\n",
        "Having an element $e$, and a set $S$:\n",
        " $$e\\ in\\ S \\equiv e\\in S$$"
      ]
    },
    {
      "cell_type": "code",
      "metadata": {
        "id": "plAypKK_yDQB"
      },
      "source": [
        "'cats' in animal_set # Here we check for membership using the `in` keyword."
      ],
      "execution_count": null,
      "outputs": []
    },
    {
      "cell_type": "code",
      "metadata": {
        "id": "9QDYYiZgjREZ"
      },
      "source": [
        "'turtle' in animal_set"
      ],
      "execution_count": null,
      "outputs": []
    },
    {
      "cell_type": "code",
      "metadata": {
        "id": "8qa2G2Z8jQLU"
      },
      "source": [
        "#My example\n",
        "'pizza' in food_set"
      ],
      "execution_count": null,
      "outputs": []
    },
    {
      "cell_type": "code",
      "metadata": {
        "id": "W6wi6sZnjO71"
      },
      "source": [
        "#My example\n",
        "'sandwich' in food_set"
      ],
      "execution_count": null,
      "outputs": []
    },
    {
      "cell_type": "markdown",
      "metadata": {
        "id": "URUCXY8MyDQB"
      },
      "source": [
        "Here we checked to see whether the string 'cats' was contained within our `animal_set` and it returned `True`, telling us that it is indeed in our set.\n",
        "\n",
        "We can connect sets by using typical mathematical set operators, namely `|`, for union, and `&`, for intersection. Using `|` or `&` will return exactly what you would expect if you are familiar with sets in mathematics.\n",
        "\n",
        "Having two sets $S_{1}$ and $S_{2}$:\n",
        " $$S_{1}\\ |\\ S_{2} \\equiv S_{1}\\cup S_{2} $$"
      ]
    },
    {
      "cell_type": "code",
      "metadata": {
        "id": "8hGKw7TwyDQC"
      },
      "source": [
        "print (animal_set | things_i_like) # You can also write things_i_like | animal_set with no difference"
      ],
      "execution_count": null,
      "outputs": []
    },
    {
      "cell_type": "code",
      "metadata": {
        "id": "y1YVrnmF8Q5l"
      },
      "source": [
        "#My example\n",
        "print (food_set | box_of_things)"
      ],
      "execution_count": null,
      "outputs": []
    },
    {
      "cell_type": "markdown",
      "metadata": {
        "id": "2K_mg66gyDQC"
      },
      "source": [
        "Pairing two sets together with `|` combines the sets, removing any repetitions to make every set element unique.\n",
        "\n",
        "Now, having two sets $S_{1}$ and $S_{2}$:\n",
        " $$S_{1}\\ \\&\\ S_{2} \\equiv S_{1}\\cap S_{2} $$"
      ]
    },
    {
      "cell_type": "code",
      "metadata": {
        "id": "va8qwJc7yDQE"
      },
      "source": [
        "print (animal_set & things_i_like) # You can also write things_i_like & animal_set with no difference"
      ],
      "execution_count": null,
      "outputs": []
    },
    {
      "cell_type": "code",
      "metadata": {
        "id": "hTAFKlFo8Vpe"
      },
      "source": [
        "#My example\n",
        "print (food_set & box_of_things)"
      ],
      "execution_count": null,
      "outputs": []
    },
    {
      "cell_type": "markdown",
      "metadata": {
        "id": "9FPvLvaPyDQF"
      },
      "source": [
        "Pairing two sets together with `&` will calculate the intersection of both sets, returning a set that only contains what they have in common.\n",
        "\n",
        "If you are interested in learning more about the built-in functions for sets, feel free to check out the [documentation](https://docs.python.org/2/library/sets.html)."
      ]
    },
    {
      "cell_type": "markdown",
      "metadata": {
        "id": "Ad5r2xViyDQG"
      },
      "source": [
        "### Dictionaries\n",
        "\n",
        "Another essential data structure in Python is the dictionary. Dictionaries are defined with a combination of curly braces (`{}`) and colons (`:`). The braces define the beginning and end of a dictionary and the colons indicate key-value pairs. A dictionary is essentially a set of key-value pairs. The key of any entry must be an immutable data type. This makes both strings and tuples candidates. Keys can be both added and deleted.\n",
        "\n",
        "In the following example, we have a dictionary composed of key-value pairs where the key is a genre of fiction (`string`) and the value is a list of books (`list`) within that genre. Since a collection is still considered a single entity, we can use one to collect multiple variables or values into one key-value pair."
      ]
    },
    {
      "cell_type": "code",
      "metadata": {
        "id": "LGnbj4-pyDQG"
      },
      "source": [
        "my_dict = {\"High Fantasy\": [\"Wheel of Time\", \"Lord of the Rings\"], \n",
        "           \"Sci-fi\": [\"Book of the New Sun\", \"Neuromancer\", \"Snow Crash\"],\n",
        "           \"Weird Fiction\": [\"At the Mountains of Madness\", \"The House on the Borderland\"]}"
      ],
      "execution_count": null,
      "outputs": []
    },
    {
      "cell_type": "code",
      "metadata": {
        "id": "isPhNgyD8jUQ"
      },
      "source": [
        "#my dictionary example\n",
        "my_second_dict = { 'List' : \"a number of connected items or names written or printed consecutively\",\n",
        "                   'Tuple' : \"a data structure consisting of multiple parts\",\n",
        "                   'Set':  \"a collection of implements, containers, or other objects customarily used together\"}"
      ],
      "execution_count": null,
      "outputs": []
    },
    {
      "cell_type": "markdown",
      "metadata": {
        "id": "fhPc7157yDQH"
      },
      "source": [
        "After defining a dictionary, we can access any individual value by indicating its key in brackets."
      ]
    },
    {
      "cell_type": "code",
      "metadata": {
        "id": "_PMxSbCRyDQH"
      },
      "source": [
        "print (my_dict[\"Sci-fi\"])"
      ],
      "execution_count": null,
      "outputs": []
    },
    {
      "cell_type": "code",
      "metadata": {
        "id": "OY6_HoML8nH6"
      },
      "source": [
        "#My example\n",
        "print (my_second_dict['List'])"
      ],
      "execution_count": null,
      "outputs": []
    },
    {
      "cell_type": "markdown",
      "metadata": {
        "id": "GViFRmFHyDQI"
      },
      "source": [
        "We can also change the value associated with a given key"
      ]
    },
    {
      "cell_type": "code",
      "metadata": {
        "id": "aAnjdbxOyDQJ"
      },
      "source": [
        "my_dict[\"Sci-fi\"] = \"I can't read\"\n",
        "print (my_dict[\"Sci-fi\"])"
      ],
      "execution_count": null,
      "outputs": []
    },
    {
      "cell_type": "code",
      "metadata": {
        "id": "zAU3twSN8uK7"
      },
      "source": [
        "#My example\n",
        "my_second_dict['List'] = \"a simple series of words or numerals\"\n",
        "print (my_second_dict['List'])"
      ],
      "execution_count": null,
      "outputs": []
    },
    {
      "cell_type": "markdown",
      "metadata": {
        "id": "xtxPCFDJyDQJ"
      },
      "source": [
        "Adding a new key-value pair is as simple as defining it."
      ]
    },
    {
      "cell_type": "code",
      "metadata": {
        "id": "LAdpEhupyDQK"
      },
      "source": [
        "my_dict[\"Historical Fiction\"] = [\"Pillars of the Earth\"]\n",
        "print (my_dict[\"Historical Fiction\"])"
      ],
      "execution_count": null,
      "outputs": []
    },
    {
      "cell_type": "code",
      "metadata": {
        "id": "Kcm2QMSoyDQK"
      },
      "source": [
        "print (my_dict)"
      ],
      "execution_count": null,
      "outputs": []
    },
    {
      "cell_type": "code",
      "metadata": {
        "id": "4OXmnsyg86R2"
      },
      "source": [
        "#My example\n",
        "my_second_dict['Dictionary'] = \"a list of codes, terms, keys, etc., and their meanings, used by a computer program or system\"\n",
        "print (my_second_dict['Dictionary'])"
      ],
      "execution_count": null,
      "outputs": []
    },
    {
      "cell_type": "code",
      "metadata": {
        "id": "kyVCuuNM9AX9"
      },
      "source": [
        "#My example\n",
        "print (my_second_dict)"
      ],
      "execution_count": null,
      "outputs": []
    },
    {
      "cell_type": "markdown",
      "metadata": {
        "id": "LAFK_QhYyDQL"
      },
      "source": [
        "## String Shenanigans\n",
        "\n",
        "We already know that strings are generally used for text. We can used built-in operations to combine, split, and format strings easily, depending on our needs.\n",
        "\n",
        "The `+` symbol indicates concatenation in string language. It will combine two strings into a longer string.\n",
        "\n",
        "Let's supose $S = s_{0}s_{1}...s_{n-1}$ and $R = r_{0}r_{1}...r_{m-1}$ are strings of size $n$ and $m$ respectively, then\n",
        "\n",
        "$$S+R=s_{0}s_{1}...s_{n-1}r_{0}r_{1}...r_{m-1}$$"
      ]
    },
    {
      "cell_type": "code",
      "metadata": {
        "id": "0eyaAywEyDQM"
      },
      "source": [
        "first_string = '\"Beware the Jabberwock, my son! /The jaws that bite, the claws that catch! /'\n",
        "second_string = 'Beware the Jubjub bird, and shun /The frumious Bandersnatch!\"/'\n",
        "third_string = first_string + second_string\n",
        "print (third_string)"
      ],
      "execution_count": null,
      "outputs": []
    },
    {
      "cell_type": "code",
      "metadata": {
        "id": "2683FuUA9OhC"
      },
      "source": [
        "#My example\n",
        "first_string_2 = \"I find myself no inspiration for creating an interesting string, \"\n",
        "second_string_2 = 'so I just write whatever comes to my mind'\n",
        "third_string_2 = first_string_2 + second_string_2\n",
        "print (third_string_2)"
      ],
      "execution_count": null,
      "outputs": []
    },
    {
      "cell_type": "markdown",
      "metadata": {
        "id": "ORWCKqyJyDQM"
      },
      "source": [
        "Strings are also indexed much in the same way that lists are."
      ]
    },
    {
      "cell_type": "code",
      "metadata": {
        "id": "CxRIQnWPyDQN"
      },
      "source": [
        "my_string = 'Supercalifragilisticexpialidocious'\n",
        "print ('The first letter is: ', my_string[0]) # Uppercase S\n",
        "print ('The last letter is: ', my_string[-1]) # lowercase s\n",
        "print ('The second to last letter is: ', my_string[-2]) # lowercase u\n",
        "print ('The first five characters are: ', my_string[0:5]) # Remember: slicing doesn't include the final element!\n",
        "print ('Reverse it!: ', my_string[::-1])"
      ],
      "execution_count": null,
      "outputs": []
    },
    {
      "cell_type": "code",
      "metadata": {
        "id": "kWh-cpkv9Yj6"
      },
      "source": [
        "#My example\n",
        "my_second_string = 'Sternocleidomastoid'\n",
        "print ('The first letter is: ', my_second_string[0]) # Uppercase S\n",
        "print ('The last letter is: ', my_second_string[-1]) # lowercase d\n",
        "print ('The second to last letter is: ', my_second_string[-2]) # lowercase i\n",
        "print ('The first seven characters are: ', my_second_string[0:7]) # Remember: slicing doesn't include the final element!\n",
        "print ('Reverse it!: ', my_second_string[::-1])"
      ],
      "execution_count": null,
      "outputs": []
    },
    {
      "cell_type": "markdown",
      "metadata": {
        "id": "h-8WpwLNyDQN"
      },
      "source": [
        "Built-in objects and classes often have special functions associated with them that are called methods. We access these methods by using a period ('.'). We will cover objects and their associated methods more in another lecture!\n",
        "\n",
        "Using string methods we can count instances of a character or group of characters."
      ]
    },
    {
      "cell_type": "code",
      "metadata": {
        "id": "ELj2PEklyDQP",
        "scrolled": true
      },
      "source": [
        "print ('Count of the letter i in Supercalifragilisticexpialidocious: ', my_string.count('i'))\n",
        "print ('Count of \"li\" in the same word: ', my_string.count('li'))"
      ],
      "execution_count": null,
      "outputs": []
    },
    {
      "cell_type": "code",
      "metadata": {
        "id": "EZNF-bMG9hg3"
      },
      "source": [
        "#My example\n",
        "print ('Count of the letter o in Sternocleidomastoid: ', my_second_string.count('o'))\n",
        "print ('Count of \"no\" in the same word: ', my_second_string.count('no'))"
      ],
      "execution_count": null,
      "outputs": []
    },
    {
      "cell_type": "markdown",
      "metadata": {
        "id": "Im_C9KSDyDQP"
      },
      "source": [
        "We can also find the first instance of a character or group of characters in a string."
      ]
    },
    {
      "cell_type": "code",
      "metadata": {
        "id": "gMwniQWOyDQQ"
      },
      "source": [
        "print ('The first time i in Supercalifragilisticexpialidociousappears is at index: ', my_string.find('i'))"
      ],
      "execution_count": null,
      "outputs": []
    },
    {
      "cell_type": "code",
      "metadata": {
        "id": "mT3rFP5O9psQ"
      },
      "source": [
        "#My example\n",
        "print ('The first time o in Sternocleidomastoid appears is at index: ', my_second_string.find('o'))"
      ],
      "execution_count": null,
      "outputs": []
    },
    {
      "cell_type": "markdown",
      "metadata": {
        "id": "I0TjHA0-yDQR"
      },
      "source": [
        "As well as replace characters in a string."
      ]
    },
    {
      "cell_type": "code",
      "metadata": {
        "id": "vE0dvQtayDQR"
      },
      "source": [
        "print (\"All i's in Supercalifragilisticexpialidociousappears are now a's: \", my_string.replace('i', 'a'))"
      ],
      "execution_count": null,
      "outputs": []
    },
    {
      "cell_type": "code",
      "metadata": {
        "id": "p162DQ9s9xdT"
      },
      "source": [
        "#My example\n",
        "print (\"All o's in Sternocleidomastoid are now i's: \", my_second_string.replace('o', 'i'))"
      ],
      "execution_count": null,
      "outputs": []
    },
    {
      "cell_type": "code",
      "metadata": {
        "id": "b4ApbDIjyDQT"
      },
      "source": [
        "print (\"It's raining cats and dogs\".replace('dogs', 'more cats'))"
      ],
      "execution_count": null,
      "outputs": []
    },
    {
      "cell_type": "code",
      "metadata": {
        "id": "fGXvbE5y95j9"
      },
      "source": [
        "#My example\n",
        "print (\"I'm eating hamburguer and pizza tonight\".replace('pizza','fries'))"
      ],
      "execution_count": null,
      "outputs": []
    },
    {
      "cell_type": "markdown",
      "metadata": {
        "id": "0frsXl0eyDQT"
      },
      "source": [
        "There are also some methods that are unique to strings. The function `upper()` will convert all characters in a string to uppercase, while `lower()` will convert all characters in a string to lowercase!"
      ]
    },
    {
      "cell_type": "code",
      "metadata": {
        "id": "cKnPoHN1yDQU"
      },
      "source": [
        "my_string = \"I can't hear you\"\n",
        "print (my_string.upper())\n",
        "my_string = \"I said HELLO\"\n",
        "print (my_string.lower())"
      ],
      "execution_count": null,
      "outputs": []
    },
    {
      "cell_type": "code",
      "metadata": {
        "id": "muzHeTf59_TZ"
      },
      "source": [
        "#My example\n",
        "my_second_string = \"Hi, my name is Gabriela\"\n",
        "print (my_second_string.upper())\n",
        "my_second_string = \"And I LOVE food\"\n",
        "print (my_second_string.lower())"
      ],
      "execution_count": null,
      "outputs": []
    },
    {
      "cell_type": "markdown",
      "metadata": {
        "id": "y-0zHDRQyDQU"
      },
      "source": [
        "### String Formatting\n",
        "\n",
        "Using the `format()` method we can add in variable values and generally format our strings."
      ]
    },
    {
      "cell_type": "code",
      "metadata": {
        "id": "-TPdJVlFyDQV"
      },
      "source": [
        "my_string = \"{0} {1}\".format('Marco', 'Polo')\n",
        "print (my_string)"
      ],
      "execution_count": null,
      "outputs": []
    },
    {
      "cell_type": "code",
      "metadata": {
        "id": "18Lw0ETSyDQW"
      },
      "source": [
        "my_string = \"{1} {0}\".format('Marco', 'Polo')\n",
        "print (my_string)"
      ],
      "execution_count": null,
      "outputs": []
    },
    {
      "cell_type": "code",
      "metadata": {
        "id": "1wD3L0En-JxL"
      },
      "source": [
        "#My example\n",
        "my_second_string = \"{0} {1}\".format('AC', 'DC')\n",
        "print (my_second_string)"
      ],
      "execution_count": null,
      "outputs": []
    },
    {
      "cell_type": "code",
      "metadata": {
        "id": "5PhiFyIC-Ova"
      },
      "source": [
        "#My example\n",
        "my_second_string = \"{1} {0}\".format('AC', 'DC')\n",
        "print (my_second_string)"
      ],
      "execution_count": null,
      "outputs": []
    },
    {
      "cell_type": "markdown",
      "metadata": {
        "id": "vAYoAMNeyDQW"
      },
      "source": [
        "We use braces (`{}`) to indicate parts of the string that will be filled in later and we use the arguments of the `format()` function to provide the values to substitute. The numbers within the braces indicate the index of the value in the `format()` arguments."
      ]
    },
    {
      "cell_type": "markdown",
      "metadata": {
        "id": "RntiwVv-yDQX"
      },
      "source": [
        "See the `format()` [documentation](https://docs.python.org/2/library/string.html#format-examples) for additional examples."
      ]
    },
    {
      "cell_type": "markdown",
      "metadata": {
        "id": "Kx6YqfQqyDQX"
      },
      "source": [
        "If you need some quick and dirty formatting, you can instead use the `%` symbol, called the string formatting operator. "
      ]
    },
    {
      "cell_type": "code",
      "metadata": {
        "id": "pDc7I13UyDQY"
      },
      "source": [
        "print ('insert %s here' % 'value')"
      ],
      "execution_count": null,
      "outputs": []
    },
    {
      "cell_type": "code",
      "metadata": {
        "id": "Kgo7f55p-Zel"
      },
      "source": [
        "#My example\n",
        "print ('My name is %s' % 'Gabriela')"
      ],
      "execution_count": null,
      "outputs": []
    },
    {
      "cell_type": "markdown",
      "metadata": {
        "id": "cXAxjojYyDQZ"
      },
      "source": [
        "The `%` symbol basically cues Python to create a placeholder. Whatever character follows the `%` (in the string) indicates what sort of type the value put into the placeholder will have. This character is called a *conversion type*. Once the string has been closed, we need another `%` that will be followed by the values to insert. In the case of one value, you can just put it there. If you are inserting more than one value, they must be enclosed in a tuple."
      ]
    },
    {
      "cell_type": "code",
      "metadata": {
        "id": "Qzp3RXIUyDQZ"
      },
      "source": [
        "print ('There are %s cats in my %s' % (13, 'apartment'))"
      ],
      "execution_count": null,
      "outputs": []
    },
    {
      "cell_type": "code",
      "metadata": {
        "id": "xpZm20AT-hDS"
      },
      "source": [
        "#My example\n",
        "print ('I eat %i grapes a %s' % (4, 'week'))"
      ],
      "execution_count": null,
      "outputs": []
    },
    {
      "cell_type": "markdown",
      "metadata": {
        "id": "HaMQe6CjyDQa"
      },
      "source": [
        "In these examples, the `%s` indicates that Python should convert the values into strings. There are multiple conversion types that you can use to get more specific with the the formatting. See the string formatting [documentation](https://docs.python.org/2/library/stdtypes.html#string-formatting) for additional examples and more complete details on use."
      ]
    },
    {
      "cell_type": "markdown",
      "metadata": {
        "id": "fDG4J_seyDQa"
      },
      "source": [
        "## Logical Operators\n",
        "### Basic Logic\n",
        "\n",
        "Logical operators deal with `boolean` values, as we briefly covered before. If you recall, a `bool` takes on one of two values, `True` or `False` (or $1$ or $0$). The basic logical statements that we can make are defined using the built-in comparators. These are `==` (equal), `!=` (not equal), `<` (less than), `>` (greater than), `<=` (less than or equal to), and `>=` (greater than or equal to)."
      ]
    },
    {
      "cell_type": "code",
      "metadata": {
        "id": "jEvC_zJbyDQb"
      },
      "source": [
        "print (5 == 5)"
      ],
      "execution_count": null,
      "outputs": []
    },
    {
      "cell_type": "code",
      "metadata": {
        "id": "0wHwfkyw-scr"
      },
      "source": [
        "#My example\n",
        "print (6 == -6)"
      ],
      "execution_count": null,
      "outputs": []
    },
    {
      "cell_type": "code",
      "metadata": {
        "id": "gqfLgecbyDQb"
      },
      "source": [
        "#My example\n",
        "print (5 > 5)"
      ],
      "execution_count": null,
      "outputs": []
    },
    {
      "cell_type": "code",
      "metadata": {
        "id": "L9E2RCYB-zTB"
      },
      "source": [
        "print (6 >= 5)"
      ],
      "execution_count": null,
      "outputs": []
    },
    {
      "cell_type": "markdown",
      "metadata": {
        "id": "Z6tLbAl3yDQc"
      },
      "source": [
        "These comparators also work in conjunction with variables."
      ]
    },
    {
      "cell_type": "code",
      "metadata": {
        "id": "DycgXp6XyDQc"
      },
      "source": [
        "m = 2\n",
        "n = 23\n",
        "print (m < n)"
      ],
      "execution_count": null,
      "outputs": []
    },
    {
      "cell_type": "code",
      "metadata": {
        "id": "-eBROmx0_Lcm"
      },
      "source": [
        "#My example\n",
        "m_2 = 32\n",
        "n_2 = -32\n",
        "print (m_2 == n_2)"
      ],
      "execution_count": null,
      "outputs": []
    },
    {
      "cell_type": "markdown",
      "metadata": {
        "id": "1_rR4FusyDQd"
      },
      "source": [
        "We can string these comparators together to make more complex logical statements using the logical operators `or`, `and`, and `not`. "
      ]
    },
    {
      "cell_type": "code",
      "metadata": {
        "id": "iU-t3zwJyDQd"
      },
      "source": [
        "statement_1 = 10 > 2\n",
        "statement_2 = 4 <= 6\n",
        "print (\"Statement 1 truth value: {0}\".format(statement_1))\n",
        "print (\"Statement 2 truth value: {0}\".format(statement_2))\n",
        "print (\"Statement 1 and Statement 2: {0}\".format(statement_1 and statement_2))"
      ],
      "execution_count": null,
      "outputs": []
    },
    {
      "cell_type": "code",
      "metadata": {
        "id": "pqmYvtep_SUO"
      },
      "source": [
        "#My example\n",
        "second_statement_1 = 13 < 13\n",
        "second_statement_2 = 45 >= 6\n",
        "print (\"Second statement 1 truth value: {0}\".format(second_statement_1))\n",
        "print (\"Second statement 2 truth value: {0}\".format(second_statement_2))\n",
        "print (\"Second statement 1 and second statement 2: {0}\".format(second_statement_1 and second_statement_2))"
      ],
      "execution_count": null,
      "outputs": []
    },
    {
      "cell_type": "markdown",
      "metadata": {
        "id": "4QPQKFrZyDQe"
      },
      "source": [
        "The `or` operator performs a logical `or` calculation. This is an inclusive `or`, so if either component paired together by `or` is `True`, the whole statement will be `True`. The `and` statement only outputs `True` if all components that are `and`ed together are True. Otherwise it will output `False`. The `not` statement simply inverts the truth value of whichever statement follows it. So a `True` statement will be evaluated as `False` when a `not` is placed in front of it. Similarly, a `False` statement will become `True` when a `not` is in front of it.\n",
        "\n",
        "Say that we have two logical statements, or assertions, $P$ and $Q$. The truth table for the basic logical operators is as follows:\n",
        "\n",
        "|  P  |  Q  | `not` P| P `and` Q | P `or` Q|\n",
        "|:-----:|:-----:|:---:|:---:|:---:|\n",
        "| `True` | `True` | `False` | `True` | `True` |\n",
        "| `False` | `True` | `True` | `False` | `True` |\n",
        "| `True` | `False` | `False` | `False` | `True` |\n",
        "| `False` | `False` | `True` | `False` | `False` |\n",
        "\n",
        "We can string multiple logical statements together using the logical operators."
      ]
    },
    {
      "cell_type": "code",
      "metadata": {
        "id": "G4JQy8NQyDQf"
      },
      "source": [
        "print (((2 < 3) and (3 > 0)) or ((5 > 6) and not (4 < 2)))"
      ],
      "execution_count": null,
      "outputs": []
    },
    {
      "cell_type": "code",
      "metadata": {
        "id": "VQbXt_lG_bwJ"
      },
      "source": [
        "#My example\n",
        "print ( ((3 == 5) or ( 4 > 5) and not ( 7 >= 7)) or (25 < 5))"
      ],
      "execution_count": null,
      "outputs": []
    },
    {
      "cell_type": "markdown",
      "metadata": {
        "id": "Pm7eGPtPyDQf"
      },
      "source": [
        "Logical statements can be as simple or complex as we like, depending on what we need to express. Evaluating the above logical statement step by step we see that we are evaluating (`True and True`) `or` (`False and not False`). This becomes `True or (False and True`), subsequently becoming `True or False`, ultimately being evaluated as `True`."
      ]
    },
    {
      "cell_type": "markdown",
      "metadata": {
        "id": "GjR4Im2OyDQg"
      },
      "source": [
        "#### Truthiness\n",
        "\n",
        "Data types in Python have a fun characteristic called truthiness. What this means is that most built-in types will evaluate as either `True` or `False` when a boolean value is needed (such as with an if-statement). As a general rule, containers like strings, tuples, dictionaries, lists, and sets, will return `True` if they contain anything at all and `False` if they contain nothing."
      ]
    },
    {
      "cell_type": "code",
      "metadata": {
        "id": "3DkBzjDVyDQg"
      },
      "source": [
        "# Similar to how float() and int() work, bool() forces a value to be considered a boolean!\n",
        "print (bool(''))"
      ],
      "execution_count": null,
      "outputs": []
    },
    {
      "cell_type": "code",
      "metadata": {
        "id": "2EiLVV0tyDQi"
      },
      "source": [
        "print (bool('I have character!'))"
      ],
      "execution_count": null,
      "outputs": []
    },
    {
      "cell_type": "code",
      "metadata": {
        "id": "Yg7wEC-pyDQj"
      },
      "source": [
        "print (bool([]))"
      ],
      "execution_count": null,
      "outputs": []
    },
    {
      "cell_type": "code",
      "metadata": {
        "id": "kJ0tCtfeyDQj"
      },
      "source": [
        "print (bool([1, 2, 3]))"
      ],
      "execution_count": null,
      "outputs": []
    },
    {
      "cell_type": "code",
      "metadata": {
        "id": "CNaBb-mZzywi"
      },
      "source": [
        "#My example\n",
        "print (bool(0))"
      ],
      "execution_count": null,
      "outputs": []
    },
    {
      "cell_type": "code",
      "metadata": {
        "id": "64CpgbSmzyau"
      },
      "source": [
        "#My example\n",
        "print (bool(4))"
      ],
      "execution_count": null,
      "outputs": []
    },
    {
      "cell_type": "markdown",
      "metadata": {
        "id": "J3yylqjayDQj"
      },
      "source": [
        "And so on, for the other collections and containers. `None` also evaluates as `False`. The number `1` is equivalent to `True` and the number `0` is equivalent to `False` as well, in a boolean context."
      ]
    },
    {
      "cell_type": "markdown",
      "metadata": {
        "id": "pbqrYd_jyDQk"
      },
      "source": [
        "### If-statements\n",
        "\n",
        "We can create segments of code that only execute if a set of conditions is met. We use if-statements in conjunction with logical statements in order to create branches in our code. \n",
        "\n",
        "An `if` block gets entered when the condition is considered to be `True`. If condition is evaluated as `False`, the `if` block will simply be skipped unless there is an `else` block to accompany it. Conditions are made using either logical operators or by using the truthiness of values in Python. An if-statement is defined with a colon and a block of indented text."
      ]
    },
    {
      "cell_type": "code",
      "metadata": {
        "id": "H3221nOiyDQl"
      },
      "source": [
        "# This is the basic format of an if statement. This is a vacuous example. \n",
        "# The string \"Condition\" will always evaluated as True because it is a\n",
        "# non-empty string. he purpose of this code is to show the formatting of\n",
        "# an if-statement.\n",
        "if \"Condition\": \n",
        "    # This block of code will execute because the string is non-empty\n",
        "    # Everything on these indented lines\n",
        "    print (True)\n",
        "else:\n",
        "    # So if the condition that we examined with if is in fact False\n",
        "    # This block of code will execute INSTEAD of the first block of code\n",
        "    # Everything on these indented lines\n",
        "    print (False)\n",
        "# The else block here will never execute because \"Condition\" is a non-empty string."
      ],
      "execution_count": null,
      "outputs": []
    },
    {
      "cell_type": "code",
      "metadata": {
        "id": "Ui_asyJmyDQm"
      },
      "source": [
        "i = 4\n",
        "if i == 5:\n",
        "    print ('The variable i has a value of 5')"
      ],
      "execution_count": null,
      "outputs": []
    },
    {
      "cell_type": "code",
      "metadata": {
        "id": "XJHLBSaT_qN8"
      },
      "source": [
        "#My example, if\n",
        "i_2 = 3\n",
        "if i_2 > 2:\n",
        "    print ('The variable i_2 is greater than 3')"
      ],
      "execution_count": null,
      "outputs": []
    },
    {
      "cell_type": "markdown",
      "metadata": {
        "id": "xjElbORMyDQp"
      },
      "source": [
        "Because in this example `i = 4` and the if-statement is only looking for whether `i` is equal to `5`, the print statement will never be executed. We can add in an `else` statement to create a contingency block of code in case the condition in the if-statement is not evaluated as `True`."
      ]
    },
    {
      "cell_type": "code",
      "metadata": {
        "id": "pWubtOBtyDQp"
      },
      "source": [
        "i = 4\n",
        "if i == 5:\n",
        "    print (\"All lines in this indented block are part of this block\")\n",
        "    print ('The variable i has a value of 5')\n",
        "else:\n",
        "    print (\"All lines in this indented block are part of this block\")\n",
        "    print ('The variable i is not equal to 5')"
      ],
      "execution_count": null,
      "outputs": []
    },
    {
      "cell_type": "code",
      "metadata": {
        "id": "e9UPSeNG_vaM"
      },
      "source": [
        "#My example, if and else\n",
        "i_2 = 3\n",
        "if i_2 > 3:\n",
        "    print ('The variable i_2 is greater than 3')\n",
        "    print ('so the statement is true')\n",
        "else: \n",
        "    print ('The variable i_2 is not greater than 3')\n",
        "    print ('so the statement is false')"
      ],
      "execution_count": null,
      "outputs": []
    },
    {
      "cell_type": "markdown",
      "metadata": {
        "id": "SvA4LdfwyDQr"
      },
      "source": [
        "We can implement other branches off of the same if-statement by using `elif`, an abbreviation of \"else if\". We can include as many `elifs` as we like until we have exhausted all the logical branches of a condition."
      ]
    },
    {
      "cell_type": "code",
      "metadata": {
        "id": "Nv_5ZtZJyDQr"
      },
      "source": [
        "i = 1\n",
        "if i == 1:\n",
        "    print ('The variable i has a value of 1')\n",
        "elif i == 2:\n",
        "    print ('The variable i has a value of 2')\n",
        "elif i == 3:\n",
        "    print ('The variable i has a value of 3')\n",
        "else:\n",
        "    print (\"I don't care what i is\")"
      ],
      "execution_count": null,
      "outputs": []
    },
    {
      "cell_type": "code",
      "metadata": {
        "id": "VUKUaF0M_8WY"
      },
      "source": [
        "#My example, elif\n",
        "i_2 = 4\n",
        "if i_2 > 4:\n",
        "    print ('The variable i_2 is greater than 4')\n",
        "elif i_2 < 4:\n",
        "    print ('The variable i_2 is less than 4')\n",
        "else:\n",
        "    print (\"The variable i_2 is equal to 4\")"
      ],
      "execution_count": null,
      "outputs": []
    },
    {
      "cell_type": "markdown",
      "metadata": {
        "id": "u4UPf_uUyDQs"
      },
      "source": [
        "You can also nest if-statements within if-statements to check for further conditions."
      ]
    },
    {
      "cell_type": "code",
      "metadata": {
        "id": "CbzRLepRyDQs"
      },
      "source": [
        "i = 10\n",
        "if i % 2 == 0:\n",
        "    if i % 3 == 0:\n",
        "        print ('i is divisible by both 2 and 3! Wow!')\n",
        "    elif i % 5 == 0:\n",
        "        print ('i is divisible by both 2 and 5! Wow!')\n",
        "    else:\n",
        "        print ('i is divisible by 2, but not 3 or 5. Meh.')\n",
        "else:\n",
        "    print ('I guess that i is an odd number. Boring.')"
      ],
      "execution_count": null,
      "outputs": []
    },
    {
      "cell_type": "code",
      "metadata": {
        "id": "VC_dBDW7A4La"
      },
      "source": [
        "#My example, if's within if's\n",
        "i_2 = 432\n",
        "if i_2 <= 1000:\n",
        "    if i_2 < 500:\n",
        "        print ('The number is less than 500')\n",
        "    elif i_2 > 500:\n",
        "        print ('The number is between 501 and 1000')\n",
        "    else:\n",
        "        print ('The number is 500')\n",
        "else:\n",
        "    print ('The number is greater than 1000')"
      ],
      "execution_count": null,
      "outputs": []
    },
    {
      "cell_type": "markdown",
      "metadata": {
        "id": "pOm4ltdnyDQt"
      },
      "source": [
        "Remember that we can group multiple conditions together by using the logical operators!"
      ]
    },
    {
      "cell_type": "code",
      "metadata": {
        "id": "t6GDFkoPyDQu"
      },
      "source": [
        "i = 5\n",
        "j = 12\n",
        "if i < 10 and j > 11:\n",
        "    print ('{0} is less than 10 and {1} is greater than 11! How novel and interesting!'.format(i, j))"
      ],
      "execution_count": null,
      "outputs": []
    },
    {
      "cell_type": "code",
      "metadata": {
        "id": "LS0OTcrgCPP2"
      },
      "source": [
        "#My example, grouping various conditions\n",
        "i_2 = 3\n",
        "j_2 = 32\n",
        "if i_2 % 2 == 0 or j_2 % 2 == 0:\n",
        "    print ('Either {0} or {1} are even numbers, or both, who nows'.format(i_2, j_2))"
      ],
      "execution_count": null,
      "outputs": []
    },
    {
      "cell_type": "markdown",
      "metadata": {
        "id": "rlXfKh4HyDQu"
      },
      "source": [
        "You can use the logical comparators to compare strings!"
      ]
    },
    {
      "cell_type": "code",
      "metadata": {
        "id": "2DhmsDBDyDQv"
      },
      "source": [
        "my_string = \"Carthago delenda est\"\n",
        "if my_string == \"Carthago delenda est\":\n",
        "    print ('And so it was! For the glory of Rome!')\n",
        "else:\n",
        "    print ('War elephants are TERRIFYING. I am staying home.')"
      ],
      "execution_count": null,
      "outputs": []
    },
    {
      "cell_type": "code",
      "metadata": {
        "id": "osCEb_zFC1k5"
      },
      "source": [
        "#My example\n",
        "my_second_string = \"How are you doing?\"\n",
        "if my_second_string == \"To be or not to be\":\n",
        "    print ('That is the question')\n",
        "else:\n",
        "    print (\"That's not the question\")"
      ],
      "execution_count": null,
      "outputs": []
    },
    {
      "cell_type": "markdown",
      "metadata": {
        "id": "1Q_vKF9wyDQw"
      },
      "source": [
        "As with other data types, `==` will check for whether the two things on either side of it have the same value. In this case, we compare whether the value of the strings are the same. Using `>` or `<` or any of the other comparators is not quite so intuitive, however, so we will stay from using comparators with strings in this lecture. Comparators will examine the [lexicographical order](https://en.wikipedia.org/wiki/Lexicographical_order) of the strings, which might be a bit more in-depth than you might like."
      ]
    },
    {
      "cell_type": "markdown",
      "metadata": {
        "id": "oI-I9t4FyDQx"
      },
      "source": [
        "Some built-in functions return a boolean value, so they can be used as conditions in an if-statement. User-defined functions can also be constructed so that they return a boolean value. This will be covered later with function definition!\n",
        "\n",
        "The `in` keyword is generally used to check membership of a value within another value. We can check memebership in the context of an if-statement and use it to output a truth value."
      ]
    },
    {
      "cell_type": "code",
      "metadata": {
        "id": "Lwa6WAxwyDQy"
      },
      "source": [
        "if 'a' in my_string or 'e' in my_string:\n",
        "    print ('Those are my favorite vowels!')"
      ],
      "execution_count": null,
      "outputs": []
    },
    {
      "cell_type": "code",
      "metadata": {
        "id": "iGbTdIPGEFvl"
      },
      "source": [
        "#My example\n",
        "if 'u' in my_second_string or 'i' in my_second_string:\n",
        "    print ('Seems u and i are on the same string')"
      ],
      "execution_count": null,
      "outputs": []
    },
    {
      "cell_type": "markdown",
      "metadata": {
        "id": "rgy9OnLqyDQz"
      },
      "source": [
        "Here we use `in` to check whether the variable `my_string` contains any particular letters. We will later use `in` to iterate through lists!"
      ]
    },
    {
      "cell_type": "markdown",
      "metadata": {
        "id": "2TUutLQ5yDQz"
      },
      "source": [
        "## Loop Structures\n",
        "\n",
        "Loop structures are one of the most important parts of programming. The `for` loop and the `while` loop provide a way to repeatedly run a block of code repeatedly. A `while` loop will iterate until a certain condition has been met. If at any point after an iteration that condition is no longer satisfied, the loop terminates. A `for` loop will iterate over a sequence of values and terminate when the sequence has ended. You can instead include conditions within the `for` loop to decide whether it should terminate early or you could simply let it run its course."
      ]
    },
    {
      "cell_type": "code",
      "metadata": {
        "id": "Jf-u_1N1yDQ0"
      },
      "source": [
        "i = 5\n",
        "while i > 0: # We can write this as 'while i:' because 0 is False!\n",
        "    i -= 1\n",
        "    print ('I am looping! {0} more to go!'.format(i))"
      ],
      "execution_count": null,
      "outputs": []
    },
    {
      "cell_type": "code",
      "metadata": {
        "id": "dV0YHybjEiA3"
      },
      "source": [
        "#My example, while\n",
        "i_2 = 0\n",
        "while i_2 < 4:\n",
        "    i_2 +=1\n",
        "    print (\"This is my {0} loop\".format(i_2))"
      ],
      "execution_count": null,
      "outputs": []
    },
    {
      "cell_type": "markdown",
      "metadata": {
        "id": "EtyJzwQ3yDQ0"
      },
      "source": [
        "\n",
        "With `while` loops we need to make sure that something actually changes from iteration to iteration so that that the loop actually terminates. In this case, we use the shorthand `i -= 1` (short for `i = i - 1`) so that the value of `i` gets smaller with each iteration. Eventually `i` will be reduced to `0`, rendering the condition `False` and exiting the loop."
      ]
    },
    {
      "cell_type": "markdown",
      "metadata": {
        "id": "kVI_cPVKyDQ1"
      },
      "source": [
        "A `for` loop iterates a set number of times, determined when you state the entry into the loop. In this case we are iterating over the list returned from `range()`. The `for` loop selects a value from the list, in order, and temporarily assigns the value of `i` to it so that operations can be performed with the value."
      ]
    },
    {
      "cell_type": "code",
      "metadata": {
        "id": "tXCmXESTyDQ1"
      },
      "source": [
        "for i in range(5):\n",
        "    print ('I am looping! I have looped {0} times!'.format(i + 1))"
      ],
      "execution_count": null,
      "outputs": []
    },
    {
      "cell_type": "code",
      "metadata": {
        "id": "vHFbHTs3EtjY"
      },
      "source": [
        "#My example\n",
        "for i_2 in range(1,11,2):\n",
        "    print ('This is my {0} step'.format(i_2))"
      ],
      "execution_count": null,
      "outputs": []
    },
    {
      "cell_type": "markdown",
      "metadata": {
        "id": "Op5HM8ZzyDQ2"
      },
      "source": [
        "Note that in this `for` loop we use the `in` keyword. Use of the `in` keyword is not limited to checking for membership as in the if-statement example. You can iterate over any collection with a `for` loop by using the `in` keyword.\n",
        "\n",
        "In this next example, we will iterate over a `set` because we want to check for containment and add to a new set."
      ]
    },
    {
      "cell_type": "code",
      "metadata": {
        "id": "FzGAdPPxyDQ2"
      },
      "source": [
        "my_list = {'cats', 'dogs', 'lizards', 'cows', 'bats', 'sponges', 'humans'} # Lists all the animals in the world\n",
        "mammal_list = {'cats', 'dogs', 'cows', 'bats', 'humans'} # Lists all the mammals in the world\n",
        "my_new_list = set()\n",
        "for animal in my_list:\n",
        "    if animal in mammal_list:\n",
        "        # This adds any animal that is both in my_list and mammal_list to my_new_list\n",
        "        my_new_list.add(animal)\n",
        "        \n",
        "print (my_new_list)"
      ],
      "execution_count": null,
      "outputs": []
    },
    {
      "cell_type": "code",
      "metadata": {
        "id": "fQ_A6QvA5t7N"
      },
      "source": [
        "#My example\n",
        "lunch_list = {'sandwich', 'tamal', 'eggs', 'ajiaco', 'bandeja paisa', 'sushi', 'pizza', 'hamburguer'} # Lists all the animals in the world\n",
        "breakfast_list = {'pancakes', 'tamal', 'sandwich', 'caldito', 'eggs', 'arepa'} # Lists all the mammals in the world\n",
        "my_other_list = set()\n",
        "for meal in lunch_list:\n",
        "    if meal in breakfast_list:\n",
        "        my_other_list.add(meal)\n",
        "        \n",
        "print (my_other_list)"
      ],
      "execution_count": null,
      "outputs": []
    },
    {
      "cell_type": "markdown",
      "metadata": {
        "id": "kzT4EFwOyDQ2"
      },
      "source": [
        "There are two statements that are very helpful in dealing with both `for` and `while` loops. These are `break` and `continue`. If `break` is encountered at any point while a loop is executing, the loop will immediately end."
      ]
    },
    {
      "cell_type": "code",
      "metadata": {
        "id": "y79VepItyDQ4"
      },
      "source": [
        "i = 10\n",
        "while True:\n",
        "    if i == 14:\n",
        "        break\n",
        "    i += 1 # This is shorthand for i = i + 1. It increments i with each iteration.\n",
        "    print (i)"
      ],
      "execution_count": null,
      "outputs": []
    },
    {
      "cell_type": "code",
      "metadata": {
        "id": "ZCTEb86E7Coa"
      },
      "source": [
        "#My example\n",
        "i_2 = 100\n",
        "while True:\n",
        "    if i_2 == 90:\n",
        "        break\n",
        "    i_2 -= 1 # This is shorthand for i = i + 1. It increments i with each iteration.\n",
        "    print (i_2)"
      ],
      "execution_count": null,
      "outputs": []
    },
    {
      "cell_type": "code",
      "metadata": {
        "id": "Qk-2HDXiyDQ4"
      },
      "source": [
        "for i in range(5):\n",
        "    if i == 2:\n",
        "        break\n",
        "    print (i)\n",
        "\n"
      ],
      "execution_count": null,
      "outputs": []
    },
    {
      "cell_type": "code",
      "metadata": {
        "id": "5iX_vkDU7m7g"
      },
      "source": [
        "#My example, break\n",
        "for i_2 in range(10):\n",
        "    if i_2 > 4:\n",
        "        break;\n",
        "    print (i_2)"
      ],
      "execution_count": null,
      "outputs": []
    },
    {
      "cell_type": "markdown",
      "metadata": {
        "id": "Vql91AHyyDQ4"
      },
      "source": [
        "The `continue` statement will tell the loop to immediately end this iteration and continue onto the next iteration of the loop."
      ]
    },
    {
      "cell_type": "code",
      "metadata": {
        "id": "nNP3_iNAyDQ5"
      },
      "source": [
        "i = 0\n",
        "while i < 5:\n",
        "    i += 1\n",
        "    if i == 3:\n",
        "        continue\n",
        "    print (i)"
      ],
      "execution_count": null,
      "outputs": []
    },
    {
      "cell_type": "code",
      "metadata": {
        "id": "pqhAkdBh8B6z"
      },
      "source": [
        "#My example, continue\n",
        "i_2 = 10\n",
        "while i_2 > 0:\n",
        "    i_2 -= 1\n",
        "    if i_2 % 2 == 0:\n",
        "        continue\n",
        "    print (i_2)"
      ],
      "execution_count": null,
      "outputs": []
    },
    {
      "cell_type": "markdown",
      "metadata": {
        "id": "1B5awvGKyDQ5"
      },
      "source": [
        "This loop skips printing the number $3$ because of the `continue` statement that executes when we enter the if-statement. The code never sees the command to print the number $3$ because it has already moved to the next iteration. The `break` and `continue` statements are further tools to help you control the flow of your loops and, as a result, your code."
      ]
    },
    {
      "cell_type": "markdown",
      "metadata": {
        "id": "Zx1gTFsSyDQ6"
      },
      "source": [
        "The variable that we use to iterate over a loop will retain its value when the loop exits. Similarly, any variables defined within the context of the loop will continue to exist outside of it."
      ]
    },
    {
      "cell_type": "code",
      "metadata": {
        "id": "g43lHXl6yDQ7"
      },
      "source": [
        "for i in range(5):\n",
        "    loop_string = 'I transcend the loop!'\n",
        "    print ('I am eternal! I am {0} and I exist everywhere!'.format(i))\n",
        "\n",
        "print ('I persist! My value is {0}'.format(i))\n",
        "print (loop_string)"
      ],
      "execution_count": null,
      "outputs": []
    },
    {
      "cell_type": "code",
      "metadata": {
        "id": "N00f-Mb885rH"
      },
      "source": [
        "#My example\n",
        "for i_2 in range(3):\n",
        "    loop_string = 'My value will always be the same, even outside the loop'\n",
        "    print ('This is my {0} loop'.format(i_2))\n",
        "\n",
        "print ('Now, after looping, i_2 value equals to {0}'.format(i_2))\n",
        "print (loop_string)"
      ],
      "execution_count": null,
      "outputs": []
    },
    {
      "cell_type": "markdown",
      "metadata": {
        "id": "32Rmqmp7yDQ7"
      },
      "source": [
        "We can also iterate over a dictionary!"
      ]
    },
    {
      "cell_type": "code",
      "metadata": {
        "id": "uSD-oGHoyDQ7"
      },
      "source": [
        "my_dict = {'firstname' : 'Inigo', 'lastname' : 'Montoya', 'nemesis' : 'Rugen'}"
      ],
      "execution_count": null,
      "outputs": []
    },
    {
      "cell_type": "code",
      "metadata": {
        "id": "24dNoRh6yDQ8"
      },
      "source": [
        "for key in my_dict:\n",
        "    print (key)"
      ],
      "execution_count": null,
      "outputs": []
    },
    {
      "cell_type": "code",
      "metadata": {
        "id": "OAceSkuM-VG8"
      },
      "source": [
        "#My example\n",
        "my_second_dict = {'Hello': 'Hola', 'Goodbye': 'Adios', 'Thank you': 'Gracias','Sorry': 'Lo siento' }"
      ],
      "execution_count": null,
      "outputs": []
    },
    {
      "cell_type": "code",
      "metadata": {
        "id": "bzfNTvUs-99J"
      },
      "source": [
        "#My example, iteration over a dictionary\n",
        "for key in my_second_dict:\n",
        "    print (key)"
      ],
      "execution_count": null,
      "outputs": []
    },
    {
      "cell_type": "markdown",
      "metadata": {
        "id": "_9T4BHI9yDQ9"
      },
      "source": [
        "If we just iterate over a dictionary without doing anything else, we will only get the keys. We can either use the keys to get the values, like so:"
      ]
    },
    {
      "cell_type": "code",
      "metadata": {
        "id": "hS0kUpXJyDQ9"
      },
      "source": [
        "for key in my_dict:\n",
        "    print (my_dict[key])"
      ],
      "execution_count": null,
      "outputs": []
    },
    {
      "cell_type": "code",
      "metadata": {
        "id": "JBnYGCOX_EjQ"
      },
      "source": [
        "#My example\n",
        "for key in my_second_dict:\n",
        "    print (my_second_dict[key])"
      ],
      "execution_count": null,
      "outputs": []
    },
    {
      "cell_type": "markdown",
      "metadata": {
        "id": "020UQlM9yDQ9"
      },
      "source": [
        "Or we can use the `items()` function to get both key and value at the same time."
      ]
    },
    {
      "cell_type": "code",
      "metadata": {
        "id": "zPC-mHlwyDQ-"
      },
      "source": [
        "for key, value in my_dict.items():\n",
        "    print (key, ':', value)"
      ],
      "execution_count": null,
      "outputs": []
    },
    {
      "cell_type": "code",
      "metadata": {
        "id": "EYnaRp1w_cda"
      },
      "source": [
        "#My example\n",
        "for key, value in my_second_dict.items():\n",
        "    print (key, ':', value)"
      ],
      "execution_count": null,
      "outputs": []
    },
    {
      "cell_type": "markdown",
      "metadata": {
        "id": "8PHLtIAKyDQ-"
      },
      "source": [
        "The `items()` function creates a tuple of each key-value pair and the for loop unpacks that tuple into `key, value` on each separate execution of the loop!"
      ]
    },
    {
      "cell_type": "markdown",
      "metadata": {
        "id": "h48PolxuyDQ_"
      },
      "source": [
        "## Functions\n",
        "\n",
        "A function is a reusable block of code that you can call repeatedly to make calculations, output data, or really do anything that you want. This is one of the key aspects of using a programming language. To add to the built-in functions in Python, you can define your own!"
      ]
    },
    {
      "cell_type": "code",
      "metadata": {
        "id": "bbk3qUZcyDRA"
      },
      "source": [
        "def hello_world():\n",
        "    \"\"\" Prints Hello, world! \"\"\"\n",
        "    print ('Hello, world!')\n",
        "\n",
        "hello_world()"
      ],
      "execution_count": null,
      "outputs": []
    },
    {
      "cell_type": "code",
      "metadata": {
        "id": "LLZdj6XW_uTw"
      },
      "source": [
        "#My example\n",
        "def goodbye_people():\n",
        "    print ('Goodbye people')\n",
        "\n",
        "goodbye_people()"
      ],
      "execution_count": null,
      "outputs": []
    },
    {
      "cell_type": "code",
      "metadata": {
        "id": "rx2yEJqWyDRA"
      },
      "source": [
        "for i in range(5):\n",
        "    hello_world()\n",
        "    goodbye_people()"
      ],
      "execution_count": null,
      "outputs": []
    },
    {
      "cell_type": "markdown",
      "metadata": {
        "id": "JKpqNeyzyDRA"
      },
      "source": [
        "Functions are defined with `def`, a function name, a list of parameters, and a colon. Everything indented below the colon will be included in the definition of the function.\n",
        "\n",
        "We can have our functions do anything that you can do with a normal block of code. For example, our `hello_world()` function prints a string every time it is called. If we want to keep a value that a function calculates, we can define the function so that it will `return` the value we want. This is a very important feature of functions, as any variable defined purely within a function will not exist outside of it."
      ]
    },
    {
      "cell_type": "code",
      "metadata": {
        "id": "nWlUzy10yDRB"
      },
      "source": [
        "def see_the_scope():\n",
        "    in_function_string = \"I'm stuck in here!\"\n",
        "\n",
        "see_the_scope()\n",
        "#print (in_function_string)"
      ],
      "execution_count": null,
      "outputs": []
    },
    {
      "cell_type": "code",
      "metadata": {
        "id": "qsBNIYaIFlwB"
      },
      "source": [
        "#My example\n",
        "def see_the_other_scope():\n",
        "    in_function_constant = 3.333333\n",
        "\n",
        "see_the_other_scope()\n",
        "#print (in_function_constant)"
      ],
      "execution_count": null,
      "outputs": []
    },
    {
      "cell_type": "markdown",
      "metadata": {
        "id": "OafV4hZoyDRD"
      },
      "source": [
        " The **scope** of a variable is the part of a block of code where that variable is tied to a particular value. Functions in Python have an enclosed scope, making it so that variables defined within them can only be accessed directly within them. If we pass those values to a return statement we can get them out of the function. This makes it so that the function call returns values so that you can store them in variables that have a greater scope.\n",
        " \n",
        "In this case specifically, including a return statement allows us to keep the string value that we define in the function."
      ]
    },
    {
      "cell_type": "code",
      "metadata": {
        "id": "PI1Ho09byDRD"
      },
      "source": [
        "def free_the_scope():\n",
        "    in_function_string = \"Anything you can do I can do better!\"\n",
        "    return in_function_string\n",
        "my_string = free_the_scope()\n",
        "print (my_string)"
      ],
      "execution_count": null,
      "outputs": []
    },
    {
      "cell_type": "code",
      "metadata": {
        "id": "gxolaNVEg8oD"
      },
      "source": [
        "#My example\n",
        "def free_the_scope_again():\n",
        "    in_function_string = \"This string can be seen from outside the function\"\n",
        "    return in_function_string\n",
        "my_second_string = free_the_scope_again()\n",
        "print (my_second_string)"
      ],
      "execution_count": null,
      "outputs": []
    },
    {
      "cell_type": "markdown",
      "metadata": {
        "id": "-oChWMGHyDRE"
      },
      "source": [
        "Just as we can get values out of a function, we can also put values into a function. We do this by defining our function with parameters."
      ]
    },
    {
      "cell_type": "code",
      "metadata": {
        "id": "NHwV0VwLyDRE"
      },
      "source": [
        "def multiply_by_five(x):\n",
        "    \"\"\" Multiplies an input number by 5 \"\"\"\n",
        "    return x * 5\n",
        "\n",
        "n = 4\n",
        "print (n)\n",
        "print (multiply_by_five(n))"
      ],
      "execution_count": null,
      "outputs": []
    },
    {
      "cell_type": "code",
      "metadata": {
        "id": "DdFF6vbkh5dL"
      },
      "source": [
        "#My example\n",
        "def adding_thirty_two(x):\n",
        "    \"\"\" Adds 32 to a number \"\"\"\n",
        "    return x + 32\n",
        "\n",
        "n_2 = 8\n",
        "print (n_2)\n",
        "print (adding_thirty_two(n_2))"
      ],
      "execution_count": null,
      "outputs": []
    },
    {
      "cell_type": "markdown",
      "metadata": {
        "id": "ozM5qpzqyDRF"
      },
      "source": [
        "In this example we only had one parameter for our function, `x`. We can easily add more parameters, separating everything with a comma."
      ]
    },
    {
      "cell_type": "code",
      "metadata": {
        "id": "yAM3S5TGyDRF"
      },
      "source": [
        "def calculate_area(length, width):\n",
        "    \"\"\" Calculates the area of a rectangle \"\"\"\n",
        "    return length * width"
      ],
      "execution_count": null,
      "outputs": []
    },
    {
      "cell_type": "code",
      "metadata": {
        "id": "qSOAjap7yDRG"
      },
      "source": [
        "l = 5\n",
        "w = 10\n",
        "print ('Area: ', calculate_area(l, w))\n",
        "print ('Length: ', l)\n",
        "print ('Width: ', w)"
      ],
      "execution_count": null,
      "outputs": []
    },
    {
      "cell_type": "code",
      "metadata": {
        "id": "-szXmNx6yDRG"
      },
      "source": [
        "def calculate_volume(length, width, depth):\n",
        "    \"\"\" Calculates the volume of a rectangular prism \"\"\"\n",
        "    return length * width * depth"
      ],
      "execution_count": null,
      "outputs": []
    },
    {
      "cell_type": "code",
      "metadata": {
        "id": "GfJlXHeJjWYV"
      },
      "source": [
        "l = 5\n",
        "w = 10\n",
        "d = 3\n",
        "print ('Volume: ', calculate_volume(l, w,d))\n",
        "print ('Length: ', l)\n",
        "print ('Width: ', w)\n",
        "print ('Depth: ', d)"
      ],
      "execution_count": null,
      "outputs": []
    },
    {
      "cell_type": "code",
      "metadata": {
        "id": "InoCQGLpj0Ky"
      },
      "source": [
        "#My example, hypotenuse function\n",
        "def get_hypotenuse (adjacent_leg,opposite_leg):\n",
        "    return math.sqrt(adjacent_leg**2 + opposite_leg**2)"
      ],
      "execution_count": null,
      "outputs": []
    },
    {
      "cell_type": "code",
      "metadata": {
        "id": "POVJu4dbjzvR"
      },
      "source": [
        "#My example\n",
        "a = 3\n",
        "o = 4\n",
        "print (get_hypotenuse(a,o))\n"
      ],
      "execution_count": null,
      "outputs": []
    },
    {
      "cell_type": "markdown",
      "metadata": {
        "id": "GJg-5P7NyDRH"
      },
      "source": [
        "If we want to, we can define a function so that it takes an arbitrary number of parameters. We tell Python that we want this by using an asterisk (`*`)."
      ]
    },
    {
      "cell_type": "code",
      "metadata": {
        "id": "jSZKBGGjyDRH"
      },
      "source": [
        "def sum_values(*args):\n",
        "    sum_val = 0\n",
        "    for i in args:\n",
        "        sum_val += i\n",
        "    return sum_val"
      ],
      "execution_count": null,
      "outputs": []
    },
    {
      "cell_type": "code",
      "metadata": {
        "id": "izCzBFw6yDRI"
      },
      "source": [
        "print (sum_values(1, 2, 3))\n",
        "print (sum_values(10, 20, 30, 40, 50))\n",
        "print (sum_values(4, 2, 5, 1, 10, 249, 25, 24, 13, 6, 4))"
      ],
      "execution_count": null,
      "outputs": []
    },
    {
      "cell_type": "code",
      "metadata": {
        "id": "cur-wHmQzN8v"
      },
      "source": [
        "import matplotlib"
      ],
      "execution_count": null,
      "outputs": []
    },
    {
      "cell_type": "code",
      "metadata": {
        "id": "zdEzZXoywY2l"
      },
      "source": [
        "#My example\n",
        "def concat_strings(*args):\n",
        "    concat_val = \"\"\n",
        "    for s in args:\n",
        "        concat_val = concat_val + s \n",
        "    return concat_val"
      ],
      "execution_count": null,
      "outputs": []
    },
    {
      "cell_type": "code",
      "metadata": {
        "id": "_k2WrtWUw2EY"
      },
      "source": [
        "#My example\n",
        "print (concat_strings(\"Hello\", \"Wold\"))\n",
        "print (concat_strings(\"Antidis\", \"establi\", \"shmenta\", \"rianism\"))\n",
        "print (concat_strings(\"Superc\", \"alifra\", \"gilist\", \"icexpi\", \"alido\", \"cious\"))\n"
      ],
      "execution_count": null,
      "outputs": []
    },
    {
      "cell_type": "markdown",
      "metadata": {
        "id": "RzRWIQ0nyDRK"
      },
      "source": [
        "The time to use `*args` as a parameter for your function is when you do not know how many values may be passed to it, as in the case of our sum function. The asterisk in this case is the syntax that tells Python that you are going to pass an arbitrary number of parameters into your function. These parameters are stored in the form of a tuple."
      ]
    },
    {
      "cell_type": "code",
      "metadata": {
        "id": "u-VVCtSHyDRK"
      },
      "source": [
        "def test_args(*args):\n",
        "    print (type(args))\n",
        "\n",
        "test_args(1, 2, 3, 4, 5, 6)\n",
        "test_args(\"jkdkej\", 32, 5.0, False, \"Hello\")"
      ],
      "execution_count": null,
      "outputs": []
    },
    {
      "cell_type": "code",
      "metadata": {
        "id": "e0HXBFMu2NQG"
      },
      "source": [
        "#My example\n",
        "def len_args(*args):\n",
        "    print (len(args))\n",
        "\n",
        "len_args(1, 2, 3, 4, 5, 6)\n",
        "len_args(\"jkdkej\", 32, 5.0, False, \"Hello\")"
      ],
      "execution_count": null,
      "outputs": []
    },
    {
      "cell_type": "markdown",
      "metadata": {
        "id": "GfbjD0r8yDRL"
      },
      "source": [
        "We can put as many elements into the `args` tuple as we want to when we call the function. However, because `args` is a tuple, we cannot modify it after it has been created.\n",
        "\n",
        "The `args` name of the variable is purely by convention. You could just as easily name your parameter `*vars` or `*things`. You can treat the `args` tuple like you would any other tuple, easily accessing `arg`'s values and iterating over it, as in the above `sum_values(*args)` function."
      ]
    },
    {
      "cell_type": "markdown",
      "metadata": {
        "id": "lCRxny_TyDRL"
      },
      "source": [
        "Our functions can return any data type. This makes it easy for us to create functions that check for conditions that we might want to monitor.\n",
        "\n",
        "Here we define a function that returns a boolean value. We can easily use this in conjunction with if-statements and  other situations that require a boolean."
      ]
    },
    {
      "cell_type": "code",
      "metadata": {
        "id": "NMEcp02pyDRO"
      },
      "source": [
        "def has_a_vowel(word):\n",
        "    \"\"\" \n",
        "    Checks to see whether a word contains a vowel \n",
        "    If it doesn't contain a conventional vowel, it\n",
        "    will check for the presence of 'y' or 'w'. Does\n",
        "    not check to see whether those are in the word\n",
        "    in a vowel context.\n",
        "    \"\"\"\n",
        "    vowel_list = ['a', 'e', 'i', 'o', 'u']\n",
        "    \n",
        "    for vowel in vowel_list:\n",
        "        if vowel in word:\n",
        "            return True\n",
        "    # If there is a vowel in the word, the function returns, preventing anything after this loop from running\n",
        "    return False"
      ],
      "execution_count": null,
      "outputs": []
    },
    {
      "cell_type": "code",
      "metadata": {
        "id": "Dzmly_N2yDRO"
      },
      "source": [
        "my_word = 'catnapping'\n",
        "if has_a_vowel(my_word):\n",
        "    print ('How surprising, an english word contains a vowel.')\n",
        "else:\n",
        "    print ('This is actually surprising.')"
      ],
      "execution_count": null,
      "outputs": []
    },
    {
      "cell_type": "code",
      "metadata": {
        "id": "jUh4CtYmlOck"
      },
      "source": [
        "#My example\n",
        "def is_a_palindrome(word):\n",
        "    \"\"\" \n",
        "    Checks to see whether a wordis a palindrome.\n",
        "    \"\"\"\n",
        "    return word.lower()  == word[::-1].lower()\n"
      ],
      "execution_count": null,
      "outputs": []
    },
    {
      "cell_type": "code",
      "metadata": {
        "id": "P9WjLLMXmECq"
      },
      "source": [
        "#My example\n",
        "my_second_word = 'Racecar'\n",
        "if is_a_palindrome(my_second_word):\n",
        "    print (\"The word you've written is a palindrome.\")\n",
        "else:\n",
        "    print ('Well, I guess is not.')"
      ],
      "execution_count": null,
      "outputs": []
    },
    {
      "cell_type": "markdown",
      "metadata": {
        "id": "tZjk5LWcnmKL"
      },
      "source": [
        "This function below returns an ordered pair of the input parameters, stored as a tuple."
      ]
    },
    {
      "cell_type": "code",
      "metadata": {
        "id": "vCzwaK_PyDRP"
      },
      "source": [
        "def point_maker(x, y):\n",
        "    \"\"\" Groups x and y values into a point, technically a tuple \"\"\"\n",
        "    return x, y"
      ],
      "execution_count": null,
      "outputs": []
    },
    {
      "cell_type": "markdown",
      "metadata": {
        "id": "n6fApnfDyDRR"
      },
      "source": [
        "And that one calculates the slope between two points!"
      ]
    },
    {
      "cell_type": "code",
      "metadata": {
        "id": "MLQR5_BiyDRQ",
        "scrolled": true
      },
      "source": [
        "a = point_maker(0, 10)\n",
        "b = point_maker(5, 3)\n",
        "def calculate_slope(point_a, point_b):\n",
        "    \"\"\" Calculates the linear slope between two points \"\"\"\n",
        "    return (point_b[1] - point_a[1])/(point_b[0] - point_a[0])\n",
        "print (\"The slope between a and b is {0}\".format(calculate_slope(a, b)))"
      ],
      "execution_count": null,
      "outputs": []
    },
    {
      "cell_type": "code",
      "metadata": {
        "id": "S3VGl7nryDRR"
      },
      "source": [
        "print (\"The slope-intercept form of the line between a and b, using point a, is: y - {0} = {2}(x - {1})\".format(a[1], a[0], calculate_slope(a, b)))"
      ],
      "execution_count": null,
      "outputs": []
    },
    {
      "cell_type": "markdown",
      "metadata": {
        "id": "DVMube4LUp4W"
      },
      "source": [
        "My example for a tuple function:"
      ]
    },
    {
      "cell_type": "code",
      "metadata": {
        "id": "EJUbDriJzIbH"
      },
      "source": [
        "#My example\n",
        "def option_maker(x,y):\n",
        "    return x,y\n",
        "c = option_maker(\"A\",3)"
      ],
      "execution_count": null,
      "outputs": []
    },
    {
      "cell_type": "code",
      "metadata": {
        "id": "EeEsqLNkVXeu"
      },
      "source": [
        "#My example\n",
        "def make_order(option):\n",
        "  if option[0]== 'A' and option[1]== 1:\n",
        "      return \"Coke\"\n",
        "  elif option[0]== 'A' and option[1]== 2:\n",
        "      return \"Sprite\"\n",
        "  elif option[0]== 'A' and option[1]== 3:\n",
        "      return \"Fanta\"\n",
        "  elif option[0]== 'B' and option[1]== 1:\n",
        "      return \"Chips\"\n",
        "  elif option[0]== 'B' and option[1]== 2:\n",
        "      return \"Cheetos\"\n",
        "  elif option[0]== 'B' and option[1]== 3:\n",
        "      return \"Platanitos\""
      ],
      "execution_count": null,
      "outputs": []
    },
    {
      "cell_type": "code",
      "metadata": {
        "id": "RysWOEQCXE0p"
      },
      "source": [
        "#My example\n",
        "print (\"The order you've made is {0}{1}, the vending machine will now proceed to give you {2}\".format(c[0], c[1], make_order(c)))"
      ],
      "execution_count": null,
      "outputs": []
    },
    {
      "cell_type": "markdown",
      "metadata": {
        "id": "CsJ_v4wiyDRS"
      },
      "source": [
        "With the proper syntax, you can define functions to do whatever calculations you want. This makes them an indispensible part of programming in any language."
      ]
    },
    {
      "cell_type": "markdown",
      "metadata": {
        "id": "HBR8a9sKyDRS"
      },
      "source": [
        "## Next Steps\n",
        "\n",
        "This was a lot of material and there is still even more to cover! Make sure you play around with the cells in each notebook to accustom yourself to the syntax featured here and to figure out any limitations. If you want to delve even deeper into the material, the [documentation for Python](https://docs.python.org/2/) is all available online. We are in the process of developing a second part to this Python tutorial, designed to provide you with even more programming knowledge, so keep an eye on the [Quantopian Lectures Page](quantopian.com/lectures) and the [forums](quantopian.com/posts) for any new lectures."
      ]
    },
    {
      "cell_type": "markdown",
      "metadata": {
        "id": "mF2hdyZsyDRU"
      },
      "source": [
        "*This presentation is for informational purposes only and does not constitute an offer to sell, a solicitation to buy, or a recommendation for any security; nor does it constitute an offer to provide investment advisory or other services by Quantopian, Inc. (\"Quantopian\"). Nothing contained herein constitutes investment advice or offers any opinion with respect to the suitability of any security, and any views expressed herein should not be taken as advice to buy, sell, or hold any security or as an endorsement of any security or company.  In preparing the information contained herein, Quantopian, Inc. has not taken into account the investment needs, objectives, and financial circumstances of any particular investor. Any views expressed and data illustrated herein were prepared based upon information, believed to be reliable, available to Quantopian, Inc. at the time of publication. Quantopian makes no guarantees as to their accuracy or completeness. All information is subject to change and may quickly become unreliable for various reasons, including changes in market conditions or economic circumstances.*"
      ]
    }
  ]
}