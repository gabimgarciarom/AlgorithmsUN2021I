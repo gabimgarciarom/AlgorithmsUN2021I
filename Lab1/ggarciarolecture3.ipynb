{
  "nbformat": 4,
  "nbformat_minor": 0,
  "metadata": {
    "kernelspec": {
      "name": "python3",
      "display_name": "Python 3"
    },
    "colab": {
      "name": "ggarciarolecture3.ipynb",
      "provenance": []
    }
  },
  "cells": [
    {
      "cell_type": "markdown",
      "metadata": {
        "id": "0HN1Avv_Cwp6"
      },
      "source": [
        "# Introduction to NumPy\n",
        "by Maxwell Margenot\n",
        "\n",
        "Part of the Quantopian Lecture Series:\n",
        "\n",
        "* [www.quantopian.com/lectures](https://www.quantopian.com/lectures)\n",
        "* [github.com/quantopian/research_public](https://github.com/quantopian/research_public)\n",
        "\n",
        "Notebook released under the Creative Commons Attribution 4.0 License."
      ]
    },
    {
      "cell_type": "markdown",
      "metadata": {
        "id": "y0gd0MqPCwp-"
      },
      "source": [
        "NumPy is an incredibly powerful package in Python that is ubiquitous throughout the Quantopian platform. It has strong integration with Pandas, another tool we will be covering in the lecture series. NumPy adds support for multi-dimensional arrays and mathematical functions that allow you to easily perform linear algebra calculations. This lecture will be a collection of linear algebra examples computed using NumPy."
      ]
    },
    {
      "cell_type": "code",
      "metadata": {
        "collapsed": true,
        "id": "kLik-BU4Cwp_"
      },
      "source": [
        "import numpy as np\n",
        "import matplotlib.pyplot as plt"
      ],
      "execution_count": 68,
      "outputs": []
    },
    {
      "cell_type": "markdown",
      "metadata": {
        "id": "ofGZYS4NCwqA"
      },
      "source": [
        "### Basic NumPy arrays"
      ]
    },
    {
      "cell_type": "markdown",
      "metadata": {
        "id": "SR0_6--UCwqB"
      },
      "source": [
        "The most basic way that we could make use of NumPy in finance is calculating the mean return of a portfolio. Say that we have a list containing the historical return of several stocks."
      ]
    },
    {
      "cell_type": "code",
      "metadata": {
        "collapsed": true,
        "id": "pKjkoa2_CwqC"
      },
      "source": [
        "stock_list = [3.5, 5, 2, 8, 4.2]"
      ],
      "execution_count": 69,
      "outputs": []
    },
    {
      "cell_type": "code",
      "metadata": {
        "id": "Q7PM2I_b9JEZ"
      },
      "source": [
        "#My example, list\n",
        "stock_list_2 = [-5, 65, 44.5, 32, 34.3, 12, 87]"
      ],
      "execution_count": 70,
      "outputs": []
    },
    {
      "cell_type": "markdown",
      "metadata": {
        "id": "Wq48IUWlCwqD"
      },
      "source": [
        "We can make an array by calling a function on the list:"
      ]
    },
    {
      "cell_type": "code",
      "metadata": {
        "colab": {
          "base_uri": "https://localhost:8080/"
        },
        "id": "VzGYQ551CwqD",
        "outputId": "cfc1ba7b-ecad-4b43-fb38-6c753568ce89"
      },
      "source": [
        "returns = np.array(stock_list)\n",
        "print (returns, type(returns))"
      ],
      "execution_count": 71,
      "outputs": [
        {
          "output_type": "stream",
          "text": [
            "[3.5 5.  2.  8.  4.2] <class 'numpy.ndarray'>\n"
          ],
          "name": "stdout"
        }
      ]
    },
    {
      "cell_type": "code",
      "metadata": {
        "colab": {
          "base_uri": "https://localhost:8080/"
        },
        "id": "fTPZVtWz9_rj",
        "outputId": "403ba6c4-54f6-48c8-9a53-1e70ce6556aa"
      },
      "source": [
        "#My example of numpy array\n",
        "returns_2 = np.array(stock_list_2)\n",
        "print (returns_2, type(returns_2))"
      ],
      "execution_count": 72,
      "outputs": [
        {
          "output_type": "stream",
          "text": [
            "[-5.  65.  44.5 32.  34.3 12.  87. ] <class 'numpy.ndarray'>\n"
          ],
          "name": "stdout"
        }
      ]
    },
    {
      "cell_type": "markdown",
      "metadata": {
        "id": "Nit3EPpGCwqF"
      },
      "source": [
        "You'll notice that the type of our array is 'ndarray', not just 'array'. This is because NumPy arrays can be created with multiple dimensions. If we pass np.array() a list of lists, it will create a 2-dimensional array. If we pass a list of lists of lists, it will create a 3-dimensional array, and so on and so forth."
      ]
    },
    {
      "cell_type": "code",
      "metadata": {
        "colab": {
          "base_uri": "https://localhost:8080/"
        },
        "id": "R6GW6CdECwqG",
        "outputId": "be36e356-520d-4f76-b91d-81bcf016b664"
      },
      "source": [
        "A = np.array([[1, 2], [3, 4]])\n",
        "print (A, type(A))"
      ],
      "execution_count": 73,
      "outputs": [
        {
          "output_type": "stream",
          "text": [
            "[[1 2]\n",
            " [3 4]] <class 'numpy.ndarray'>\n"
          ],
          "name": "stdout"
        }
      ]
    },
    {
      "cell_type": "code",
      "metadata": {
        "colab": {
          "base_uri": "https://localhost:8080/"
        },
        "id": "cJ_DVt49_J5Z",
        "outputId": "456c4945-6d6b-478d-d221-346e94100ecf"
      },
      "source": [
        "#My example of array\n",
        "B = np.array([[3,2], [4,8], [4,7],[6,0]])\n",
        "print (B, type(B))"
      ],
      "execution_count": 74,
      "outputs": [
        {
          "output_type": "stream",
          "text": [
            "[[3 2]\n",
            " [4 8]\n",
            " [4 7]\n",
            " [6 0]] <class 'numpy.ndarray'>\n"
          ],
          "name": "stdout"
        }
      ]
    },
    {
      "cell_type": "markdown",
      "metadata": {
        "id": "RpSDTGmBCwqG"
      },
      "source": [
        "We can access the dimensions of an array by looking at its `shape` member variable."
      ]
    },
    {
      "cell_type": "code",
      "metadata": {
        "colab": {
          "base_uri": "https://localhost:8080/"
        },
        "id": "_WPP0qZ3CwqH",
        "outputId": "49d385a1-91fb-45d7-8618-b26a9a0f7f5c"
      },
      "source": [
        "print (A.shape)"
      ],
      "execution_count": 75,
      "outputs": [
        {
          "output_type": "stream",
          "text": [
            "(2, 2)\n"
          ],
          "name": "stdout"
        }
      ]
    },
    {
      "cell_type": "code",
      "metadata": {
        "colab": {
          "base_uri": "https://localhost:8080/"
        },
        "id": "GwSgxEjy_rLI",
        "outputId": "7706f8c8-db22-4b2b-f5d2-5104fdf554d3"
      },
      "source": [
        "#My example\n",
        "print (B.shape)"
      ],
      "execution_count": 76,
      "outputs": [
        {
          "output_type": "stream",
          "text": [
            "(4, 2)\n"
          ],
          "name": "stdout"
        }
      ]
    },
    {
      "cell_type": "markdown",
      "metadata": {
        "id": "7fY5XDhGCwqH"
      },
      "source": [
        "Arrays are indexed in much the same way as lists in Python. Elements of a list begin indexing from $0$ and end at $n - 1$, where $n$ is the length of the array.\n",
        "\n",
        "An array $A$ of $n$ columns and $m$ rows, can be defined as:\n",
        "\n",
        "$$A =a_{i,j}=\\begin{bmatrix}\n",
        "a_{0,0}&a_{0,1}&.&.&.&.&.&a_{0,n-1}\\\\\n",
        "a_{1,0}&a_{1,1}&.&.&.&.&.&a_{1,n-1}\\\\\n",
        ".&&&&&&&.\\\\\n",
        ".&&&&&&&.\\\\\n",
        ".&&&&&&&.\\\\\n",
        "a_{m-1,0}&a_{m-1,1}&.&.&.&.&.&a_{m-1,n-1}\\\\\n",
        "\\end{bmatrix}\n",
        "$$"
      ]
    },
    {
      "cell_type": "code",
      "metadata": {
        "colab": {
          "base_uri": "https://localhost:8080/"
        },
        "id": "10ZoQnaFCwqH",
        "outputId": "f4a88704-5f6a-465a-9551-70e60cac46b9"
      },
      "source": [
        "print (returns[0], returns[len(returns) - 1])"
      ],
      "execution_count": 77,
      "outputs": [
        {
          "output_type": "stream",
          "text": [
            "3.5 4.2\n"
          ],
          "name": "stdout"
        }
      ]
    },
    {
      "cell_type": "code",
      "metadata": {
        "colab": {
          "base_uri": "https://localhost:8080/"
        },
        "id": "sbisAM8Z_93P",
        "outputId": "56e9e2ca-8e3c-4615-f653-e27117a485ad"
      },
      "source": [
        "#My example\n",
        "print (returns_2[0], returns_2[len(returns) - 1])"
      ],
      "execution_count": 78,
      "outputs": [
        {
          "output_type": "stream",
          "text": [
            "-5.0 34.3\n"
          ],
          "name": "stdout"
        }
      ]
    },
    {
      "cell_type": "markdown",
      "metadata": {
        "id": "yPsnbZXVCwqI"
      },
      "source": [
        "We can take a slice of an array using a colon, just like in a list.\n",
        "\n",
        "$$A[x:y] = a_{i,j}\\ :\\ x\\leq i< y$$"
      ]
    },
    {
      "cell_type": "code",
      "metadata": {
        "id": "GurIHeeOCwqI",
        "colab": {
          "base_uri": "https://localhost:8080/"
        },
        "outputId": "70a0b6ff-3231-41e8-dbe9-202cb3bdccec"
      },
      "source": [
        "print (returns[1:3])"
      ],
      "execution_count": 79,
      "outputs": [
        {
          "output_type": "stream",
          "text": [
            "[5. 2.]\n"
          ],
          "name": "stdout"
        }
      ]
    },
    {
      "cell_type": "code",
      "metadata": {
        "colab": {
          "base_uri": "https://localhost:8080/"
        },
        "id": "eJhyorO7AWPy",
        "outputId": "82db0966-3534-466e-a0b9-fc32841902a9"
      },
      "source": [
        "#My example\n",
        "print (returns_2[3:7])"
      ],
      "execution_count": 80,
      "outputs": [
        {
          "output_type": "stream",
          "text": [
            "[32.  34.3 12.  87. ]\n"
          ],
          "name": "stdout"
        }
      ]
    },
    {
      "cell_type": "markdown",
      "metadata": {
        "id": "JpP_lrY5CwqJ"
      },
      "source": [
        "A slice of an array, like in a list, will select a group of elements in the array starting from the first element indicated and going up to (but not including) the last element indicated.\n",
        "\n",
        "In the case of multidimensional arrays, many of the same conventions with slicing and indexing hold. We can access the first column of a 2-dimensional array like so:\n",
        "\n",
        "$$A[x:y,w:z] = a_{i,j}\\ :\\ x\\leq i< y\\ \\ and\\ \\ w\\leq j< z$$"
      ]
    },
    {
      "cell_type": "code",
      "metadata": {
        "id": "ye1md5G-CwqJ",
        "colab": {
          "base_uri": "https://localhost:8080/"
        },
        "outputId": "3e80b202-ac7c-44e7-9d1a-2fea7378483f"
      },
      "source": [
        "print (A[:, 0])"
      ],
      "execution_count": 81,
      "outputs": [
        {
          "output_type": "stream",
          "text": [
            "[1 3]\n"
          ],
          "name": "stdout"
        }
      ]
    },
    {
      "cell_type": "code",
      "metadata": {
        "colab": {
          "base_uri": "https://localhost:8080/"
        },
        "id": "jc3l4dkBApxy",
        "outputId": "dc94328f-09ad-4491-a1c9-1d28318908cb"
      },
      "source": [
        "#My example\n",
        "print (B[:, 1])"
      ],
      "execution_count": 82,
      "outputs": [
        {
          "output_type": "stream",
          "text": [
            "[2 8 7 0]\n"
          ],
          "name": "stdout"
        }
      ]
    },
    {
      "cell_type": "markdown",
      "metadata": {
        "id": "LbxyL3NKCwqJ"
      },
      "source": [
        "And the first row of a 2-dimensional array like so:"
      ]
    },
    {
      "cell_type": "code",
      "metadata": {
        "id": "dfbVptBHCwqK",
        "colab": {
          "base_uri": "https://localhost:8080/"
        },
        "outputId": "34c075a7-0802-4e67-fc9d-9d7b8689f32a"
      },
      "source": [
        "print (A[0, :])"
      ],
      "execution_count": 83,
      "outputs": [
        {
          "output_type": "stream",
          "text": [
            "[1 2]\n"
          ],
          "name": "stdout"
        }
      ]
    },
    {
      "cell_type": "code",
      "metadata": {
        "colab": {
          "base_uri": "https://localhost:8080/"
        },
        "id": "akHoEMfeBTxJ",
        "outputId": "80b1ede3-4faa-4ca3-baa8-962dcc6e3c6a"
      },
      "source": [
        "#My example\n",
        "print (B[0, :])"
      ],
      "execution_count": 84,
      "outputs": [
        {
          "output_type": "stream",
          "text": [
            "[3 2]\n"
          ],
          "name": "stdout"
        }
      ]
    },
    {
      "cell_type": "markdown",
      "metadata": {
        "id": "w9zGnnoQCwqK"
      },
      "source": [
        "Notice that each slice of the array returns yet another array!"
      ]
    },
    {
      "cell_type": "code",
      "metadata": {
        "id": "r-s0sDzHCwqK",
        "colab": {
          "base_uri": "https://localhost:8080/"
        },
        "outputId": "d4987872-1065-4e52-bca5-524bc8d07d13"
      },
      "source": [
        "print (type(A[0,:]))"
      ],
      "execution_count": 85,
      "outputs": [
        {
          "output_type": "stream",
          "text": [
            "<class 'numpy.ndarray'>\n"
          ],
          "name": "stdout"
        }
      ]
    },
    {
      "cell_type": "code",
      "metadata": {
        "colab": {
          "base_uri": "https://localhost:8080/"
        },
        "id": "6aDeEfDzBsA3",
        "outputId": "3a6d5d47-d72d-4488-9c8b-4f85f2731b0d"
      },
      "source": [
        "#My example\n",
        "print (type(B[0,:]))"
      ],
      "execution_count": 86,
      "outputs": [
        {
          "output_type": "stream",
          "text": [
            "<class 'numpy.ndarray'>\n"
          ],
          "name": "stdout"
        }
      ]
    },
    {
      "cell_type": "markdown",
      "metadata": {
        "id": "w88LxEwVCwqL"
      },
      "source": [
        "Passing only one index to a 2-dimensional array will result in returning the row with the given index as well, providing us with another way to access individual rows.\n",
        "\n",
        "$$A[x] = a_{i,j}\\ :\\ i=x$$"
      ]
    },
    {
      "cell_type": "code",
      "metadata": {
        "id": "eAkoGuibCwqL",
        "colab": {
          "base_uri": "https://localhost:8080/"
        },
        "outputId": "e462c77c-8343-450c-b256-9d95367fb5f9"
      },
      "source": [
        "print (A[0])"
      ],
      "execution_count": 87,
      "outputs": [
        {
          "output_type": "stream",
          "text": [
            "[1 2]\n"
          ],
          "name": "stdout"
        }
      ]
    },
    {
      "cell_type": "code",
      "metadata": {
        "colab": {
          "base_uri": "https://localhost:8080/"
        },
        "id": "JLXPxRMYB3Vr",
        "outputId": "c0239582-e9a8-4cdf-9f4d-493936e89097"
      },
      "source": [
        "#My example\n",
        "print (B[3])"
      ],
      "execution_count": 88,
      "outputs": [
        {
          "output_type": "stream",
          "text": [
            "[6 0]\n"
          ],
          "name": "stdout"
        }
      ]
    },
    {
      "cell_type": "markdown",
      "metadata": {
        "id": "Zfn6OfuCCwqL"
      },
      "source": [
        "Accessing the index of an individual element will return only the element.\n",
        "\n",
        "$$A[x,y] = a_{i,j}\\ :\\ i=x \\ \\ and \\ \\ j=y$$"
      ]
    },
    {
      "cell_type": "code",
      "metadata": {
        "id": "szIioNt5CwqM",
        "colab": {
          "base_uri": "https://localhost:8080/"
        },
        "outputId": "c67d0b3d-bf7e-487a-ba85-07cb5718f36a"
      },
      "source": [
        "print (A[1, 1])"
      ],
      "execution_count": 89,
      "outputs": [
        {
          "output_type": "stream",
          "text": [
            "4\n"
          ],
          "name": "stdout"
        }
      ]
    },
    {
      "cell_type": "code",
      "metadata": {
        "colab": {
          "base_uri": "https://localhost:8080/"
        },
        "id": "cRMx5nsCCfb7",
        "outputId": "6358759a-ffb5-4be7-f4d7-c84d76e3c7d2"
      },
      "source": [
        "#My example\n",
        "print (B[2, 0])"
      ],
      "execution_count": 90,
      "outputs": [
        {
          "output_type": "stream",
          "text": [
            "4\n"
          ],
          "name": "stdout"
        }
      ]
    },
    {
      "cell_type": "markdown",
      "metadata": {
        "id": "_JxWgIL7CwqM"
      },
      "source": [
        "#### Array functions\n",
        "\n",
        "Functions built into NumPy can be easily called on arrays. Most functions are applied to an array element-wise (as scalar multiplication is). For example, if we call `log()` on an array, the logarithm will be taken of each element.\n",
        "\n",
        "$$log(A) = log(a_{i,j})\\ \\ \\ for\\ 0\\leq i< n \\ \\ and\\ \\ 0\\leq j< m$$"
      ]
    },
    {
      "cell_type": "code",
      "metadata": {
        "id": "uboBQB8rCwqM",
        "colab": {
          "base_uri": "https://localhost:8080/"
        },
        "outputId": "49c09c1a-974d-465f-8f3f-12b52ad3cd98"
      },
      "source": [
        "print (np.log(returns))"
      ],
      "execution_count": 91,
      "outputs": [
        {
          "output_type": "stream",
          "text": [
            "[1.25276297 1.60943791 0.69314718 2.07944154 1.43508453]\n"
          ],
          "name": "stdout"
        }
      ]
    },
    {
      "cell_type": "code",
      "metadata": {
        "colab": {
          "base_uri": "https://localhost:8080/"
        },
        "id": "xgPRvB63Cz5_",
        "outputId": "cfe2fb67-984f-43da-c073-da1cf9ad60d1"
      },
      "source": [
        "#My example\n",
        "print (np.log(returns_2))"
      ],
      "execution_count": 92,
      "outputs": [
        {
          "output_type": "stream",
          "text": [
            "[       nan 4.17438727 3.79548919 3.4657359  3.53514535 2.48490665\n",
            " 4.46590812]\n"
          ],
          "name": "stdout"
        },
        {
          "output_type": "stream",
          "text": [
            "/usr/local/lib/python3.7/dist-packages/ipykernel_launcher.py:2: RuntimeWarning: invalid value encountered in log\n",
            "  \n"
          ],
          "name": "stderr"
        }
      ]
    },
    {
      "cell_type": "markdown",
      "metadata": {
        "id": "nsl6iUQ6CwqN"
      },
      "source": [
        "Some functions return a single value. This is because they treat the array as a collection (similar to a list), performing the designated function. For example, the `mean()` function will do exactly what you expect, calculating the mean of an array.\n",
        "\n",
        "$$mean(A) = \\mu = \\frac{1}{nm}\\ \\sum_{i=0}^{n-1}\\sum_{j=0}^{m-1}a_{i,j} $$"
      ]
    },
    {
      "cell_type": "code",
      "metadata": {
        "id": "JBNUHC6kCwqN",
        "colab": {
          "base_uri": "https://localhost:8080/"
        },
        "outputId": "9384a4fc-6517-4d90-f0a2-1997628d69be"
      },
      "source": [
        "print (np.mean(returns))"
      ],
      "execution_count": 93,
      "outputs": [
        {
          "output_type": "stream",
          "text": [
            "4.54\n"
          ],
          "name": "stdout"
        }
      ]
    },
    {
      "cell_type": "code",
      "metadata": {
        "colab": {
          "base_uri": "https://localhost:8080/"
        },
        "id": "a3_3LXGQDGPZ",
        "outputId": "27a01f77-9008-4fd1-aec0-96e0f1c786d9"
      },
      "source": [
        "#My example\n",
        "print (np.mean(returns_2))"
      ],
      "execution_count": 94,
      "outputs": [
        {
          "output_type": "stream",
          "text": [
            "38.542857142857144\n"
          ],
          "name": "stdout"
        }
      ]
    },
    {
      "cell_type": "markdown",
      "metadata": {
        "id": "a432sY70CwqN"
      },
      "source": [
        "Or the `max()` function will return the maximum element of an array.\n",
        "\n",
        "$$max(A) = max(a_{i,j} ) \\ \\ \\ for\\ 0\\leq i< n \\ \\ and\\ \\ 0\\leq j< m$$\n"
      ]
    },
    {
      "cell_type": "code",
      "metadata": {
        "id": "Hn3yiCtpCwqN",
        "colab": {
          "base_uri": "https://localhost:8080/"
        },
        "outputId": "dce48c2c-87b3-4274-c407-4e2712f5ea9c"
      },
      "source": [
        "print (np.max(returns))"
      ],
      "execution_count": 95,
      "outputs": [
        {
          "output_type": "stream",
          "text": [
            "8.0\n"
          ],
          "name": "stdout"
        }
      ]
    },
    {
      "cell_type": "code",
      "metadata": {
        "colab": {
          "base_uri": "https://localhost:8080/"
        },
        "id": "yEf--wvODiQG",
        "outputId": "bd077ca1-0efc-49ee-bdb7-d0c3c46de501"
      },
      "source": [
        "#My example\n",
        "print (np.max(returns_2))"
      ],
      "execution_count": 96,
      "outputs": [
        {
          "output_type": "stream",
          "text": [
            "87.0\n"
          ],
          "name": "stdout"
        }
      ]
    },
    {
      "cell_type": "code",
      "metadata": {
        "colab": {
          "base_uri": "https://localhost:8080/"
        },
        "id": "W-uGlrJBDoRp",
        "outputId": "e3bb49f1-c9b3-40fb-8137-d9f1fa1a3319"
      },
      "source": [
        "print (np.abs(returns))"
      ],
      "execution_count": 97,
      "outputs": [
        {
          "output_type": "stream",
          "text": [
            "[3.5 5.  2.  8.  4.2]\n"
          ],
          "name": "stdout"
        }
      ]
    },
    {
      "cell_type": "code",
      "metadata": {
        "colab": {
          "base_uri": "https://localhost:8080/"
        },
        "id": "GvhpgvP5EIRl",
        "outputId": "66d9ca74-2ba3-40f9-93e5-99b7a0cbdf46"
      },
      "source": [
        "#My example\n",
        "print (np.abs(returns_2))"
      ],
      "execution_count": 98,
      "outputs": [
        {
          "output_type": "stream",
          "text": [
            "[ 5.  65.  44.5 32.  34.3 12.  87. ]\n"
          ],
          "name": "stdout"
        }
      ]
    },
    {
      "cell_type": "markdown",
      "metadata": {
        "id": "XjzCoXsiCwqO"
      },
      "source": [
        "For further reading on the universal functions in NumPy, check out the [documentation](https://docs.scipy.org/doc/numpy/user/quickstart.html#universal-functions)."
      ]
    },
    {
      "cell_type": "markdown",
      "metadata": {
        "id": "ApnszfJWCwqO"
      },
      "source": [
        "### Return to the returns\n",
        "\n",
        "Now let's modify our returns array with scalar values. If we add a scalar value to an array it will be added to every element of the array. If we multiply an array by a scalar value it will be multiplied against every element of the array. If we do both, both will happen!\n",
        "\n",
        "Let $x\\in \\mathbb{R}:$\n",
        "\n",
        "\n",
        "*   $A+x = a_{i,j} + x \\ \\ \\ for\\ 0\\leq i< n \\ \\ and\\ \\ 0\\leq j< m$\n",
        "*   $A-x = a_{i,j} - x \\ \\ \\ for\\ 0\\leq i< n \\ \\ and\\ \\ 0\\leq j< m$\n",
        "*   $A*x = a_{i,j} * x \\ \\ \\ for\\ 0\\leq i< n \\ \\ and\\ \\ 0\\leq j< m$\n",
        "*   $A/x = a_{i,j} / x \\ \\ \\ for\\ 0\\leq i< n \\ \\ and\\ \\ 0\\leq j< m$\n",
        "\n"
      ]
    },
    {
      "cell_type": "code",
      "metadata": {
        "scrolled": false,
        "id": "fYIDP5L9CwqO",
        "colab": {
          "base_uri": "https://localhost:8080/"
        },
        "outputId": "f32db400-0238-4f5d-b915-8a2f25fac60e"
      },
      "source": [
        "returns*2 + 5"
      ],
      "execution_count": 99,
      "outputs": [
        {
          "output_type": "execute_result",
          "data": {
            "text/plain": [
              "array([12. , 15. ,  9. , 21. , 13.4])"
            ]
          },
          "metadata": {
            "tags": []
          },
          "execution_count": 99
        }
      ]
    },
    {
      "cell_type": "code",
      "metadata": {
        "colab": {
          "base_uri": "https://localhost:8080/"
        },
        "id": "w-a4NgIIExMj",
        "outputId": "8046a4b0-24ac-4456-ce80-d8f1738be760"
      },
      "source": [
        "#My example\n",
        "(returns_2*-1)/2"
      ],
      "execution_count": 100,
      "outputs": [
        {
          "output_type": "execute_result",
          "data": {
            "text/plain": [
              "array([  2.5 , -32.5 , -22.25, -16.  , -17.15,  -6.  , -43.5 ])"
            ]
          },
          "metadata": {
            "tags": []
          },
          "execution_count": 100
        }
      ]
    },
    {
      "cell_type": "markdown",
      "metadata": {
        "id": "MYAbBy-oCwqP"
      },
      "source": [
        "NumPy also has functions specifically built to operate on arrays. Let's take the mean and standard deviation of this group of returns.\n",
        "\n",
        "$$std(A) = \\sigma = \\sqrt{\\frac {\\sum_{i=0}^{n-1}\\sum_{j=0}^{m-1} (a_{i,j} - \\mu)^2}{nm}}$$"
      ]
    },
    {
      "cell_type": "code",
      "metadata": {
        "id": "aT-81DBxCwqP",
        "colab": {
          "base_uri": "https://localhost:8080/"
        },
        "outputId": "3ea6c958-62d9-4f6f-b5ab-6b43957edf04"
      },
      "source": [
        "print (\"Return's Mean: \", np.mean(returns), \"Return's Std Dev: \", np.std(returns))"
      ],
      "execution_count": 101,
      "outputs": [
        {
          "output_type": "stream",
          "text": [
            "Return's Mean:  4.54 Return's Std Dev:  1.9915822855207364\n"
          ],
          "name": "stdout"
        }
      ]
    },
    {
      "cell_type": "markdown",
      "metadata": {
        "id": "oW_rCxVakZtV"
      },
      "source": [
        "\n",
        "$$var(A) = v= \\sum_{i=0}^{n-1}\\sum_{j=0}^{m-1} \\frac {(a_{i,j} - \\mu)^2}{nm-1}$$"
      ]
    },
    {
      "cell_type": "code",
      "metadata": {
        "colab": {
          "base_uri": "https://localhost:8080/"
        },
        "id": "wb_64g2UFAvq",
        "outputId": "66c0e583-5347-44b0-e4e8-9c8085b18841"
      },
      "source": [
        "#My example\n",
        "print (\"Return_2's Variance: \", np.var(returns_2), \"Return_2' minimum: \", np.min(returns_2))"
      ],
      "execution_count": 102,
      "outputs": [
        {
          "output_type": "stream",
          "text": [
            "Return_2's Variance:  820.6967346938776 Return_2' minimum:  -5.0\n"
          ],
          "name": "stdout"
        }
      ]
    },
    {
      "cell_type": "markdown",
      "metadata": {
        "id": "w4UDq6AsCwqP"
      },
      "source": [
        "Let's simulate a universe of stocks using NumPy's functions. First we need to create the arrays to hold the assets and returns that we will use to build a portfolio. This is because arrays are created with a fixed size. Their dimensions can't be changed without creating a new array."
      ]
    },
    {
      "cell_type": "code",
      "metadata": {
        "collapsed": true,
        "id": "IORHNbmnCwqP"
      },
      "source": [
        "N = 10\n",
        "assets = np.zeros((N, 100))\n",
        "returns = np.zeros((N, 100))"
      ],
      "execution_count": 103,
      "outputs": []
    },
    {
      "cell_type": "code",
      "metadata": {
        "id": "Gknu6Z0-PhIP"
      },
      "source": [
        "#My example\n",
        "M = 50\n",
        "assets_2 = np.zeros((M, 100))\n",
        "returns_2 = np.zeros((M, 100))"
      ],
      "execution_count": 104,
      "outputs": []
    },
    {
      "cell_type": "markdown",
      "metadata": {
        "id": "78sOAwKHCwqQ"
      },
      "source": [
        "This function, `zeroes()`, creates a NumPy array with the given dimensions that is entirely filled in with $0$. We can pass a single value or a tuple of as many dimensions as we like. Passing in the tuple `(N, 100)`, will return a two-dimensional array with $N$ rows and $100$ columns. Our result is a $N \\times 100$ array.\n",
        "\n",
        "Now we will simulate a base asset. We want the universe of stocks to be correlated with each other so we will use this initial value to generate the others."
      ]
    },
    {
      "cell_type": "code",
      "metadata": {
        "id": "44vWdfmaCwqQ"
      },
      "source": [
        "R_1 = np.random.normal(1.01, 0.03, 100)\n",
        "returns[0] = R_1\n",
        "assets[0] = np.cumprod(R_1)"
      ],
      "execution_count": 105,
      "outputs": []
    },
    {
      "cell_type": "code",
      "metadata": {
        "id": "gk78CQZ3Zklr"
      },
      "source": [
        "#My example\n",
        "R_2 = np.random.normal(10,3,100)\n",
        "returns_2[0] = R_2\n",
        "assets_2[0] = np.cumprod(R_2)"
      ],
      "execution_count": 106,
      "outputs": []
    },
    {
      "cell_type": "markdown",
      "metadata": {
        "id": "zPvFsznpCwqQ"
      },
      "source": [
        "The `random` module in NumPy is exceedingly useful. It contains methods for sampling from many different probability distributions, some of which are covered in the [random variables lecture](https://www.quantopian.com/lectures/random-variables) in the Quantopian lecture series. In this case we draw $N = 100$ random samples from a normal distribution with mean $1.01$ and standard deviation $0.03$. We treat these as the daily percentage returns of our asset and take the cumulative product of these samples to get the current price.\n",
        "\n",
        "The way we have generated our universe, the the individual $R_i$ vectors are each 1-dimensional arrays and the `returns` and `assets` variables contain 2-dimensional arrays. Above, we set the initial row of both `returns` and `assets` to be the first $R_i$ vector and the cumulative asset price based on those returns, respectively.\n",
        "\n",
        "We will now use this base asset to create a few other random assets that are correlated with it."
      ]
    },
    {
      "cell_type": "code",
      "metadata": {
        "id": "ZMGLLedoCwqR"
      },
      "source": [
        "# Generate assets that are correlated with R_1\n",
        "for i in range(1, N):\n",
        "    R_i = R_1 + np.random.normal(0.001, 0.02, 100)\n",
        "    returns[i] = R_i # Set each row of returns equal to the new R_i array\n",
        "    assets[i] = np.cumprod(R_i)\n",
        "    \n",
        "mean_returns = [(np.mean(R) - 1)*100 for R in returns]\n",
        "return_volatilities = [np.std(R) for R in returns]"
      ],
      "execution_count": 107,
      "outputs": []
    },
    {
      "cell_type": "code",
      "metadata": {
        "id": "m8IVDDRD1BrN"
      },
      "source": [
        "#My example\n",
        "for i in range(1, M):\n",
        "    R_i = R_2 + np.random.normal(1, 2, 100)\n",
        "    returns_2[i] = R_i # Set each row of returns equal to the new R_i array\n",
        "    assets_2[i] = np.cumprod(R_i)\n",
        "\n",
        "mean_returns_2 = [(np.mean(R_2) - 1)*100 for R_2 in returns_2]\n",
        "return_volatilities_2 = [np.std(R_2) for R_2 in returns_2]"
      ],
      "execution_count": 108,
      "outputs": []
    },
    {
      "cell_type": "markdown",
      "metadata": {
        "id": "GjP-jDmZCwqR"
      },
      "source": [
        "Here we generate the remaining $N - 1$ securities that we want in our universe by adding random noise to $R_1$. This ensures that our $N - 1$ other assets will be correlated with the base asset because they have some underlying information that is shared.\n",
        "\n",
        "Let's plot what the mean return of each asset looks like:"
      ]
    },
    {
      "cell_type": "code",
      "metadata": {
        "scrolled": false,
        "colab": {
          "base_uri": "https://localhost:8080/",
          "height": 295
        },
        "id": "1203gR1pCwqT",
        "outputId": "13a51484-8f56-47f5-861b-ad3eb2899f69"
      },
      "source": [
        "plt.bar(np.arange(len(mean_returns)), mean_returns)\n",
        "plt.xlabel('Stock')\n",
        "plt.ylabel('Returns')\n",
        "plt.title('Returns for {0} Random Assets'.format(N));"
      ],
      "execution_count": 109,
      "outputs": [
        {
          "output_type": "display_data",
          "data": {
            "image/png": "[encoded data removed]",
            "text/plain": [
              "<Figure size 432x288 with 1 Axes>"
            ]
          },
          "metadata": {
            "tags": [],
            "needs_background": "light"
          }
        }
      ]
    },
    {
      "cell_type": "code",
      "metadata": {
        "colab": {
          "base_uri": "https://localhost:8080/",
          "height": 295
        },
        "id": "UNQdJ5wH1ADo",
        "outputId": "7ecd7577-f5e2-4631-f339-b00254e9b786"
      },
      "source": [
        "#My example\n",
        "plt.bar(np.arange(len(mean_returns_2)), mean_returns_2)\n",
        "plt.xlabel('Stock')\n",
        "plt.ylabel('Returns')\n",
        "plt.title('Returns for {0} Random Assets'.format(M));"
      ],
      "execution_count": 110,
      "outputs": [
        {
          "output_type": "display_data",
          "data": {
            "image/png": "[encoded data removed]",
            "text/plain": [
              "<Figure size 432x288 with 1 Axes>"
            ]
          },
          "metadata": {
            "tags": [],
            "needs_background": "light"
          }
        }
      ]
    },
    {
      "cell_type": "markdown",
      "metadata": {
        "id": "aHf3Bc0KCwqU"
      },
      "source": [
        "### Calculating Expected Return\n",
        "\n",
        "So we have a universe of stocks. Great! Now let's put them together in a portfolio and calculate its expected return and risk.\n",
        "\n",
        "We will start off by generating $N$ random weights for each asset in our portfolio."
      ]
    },
    {
      "cell_type": "code",
      "metadata": {
        "id": "uGqDe6NtCwqV"
      },
      "source": [
        "weights = np.random.uniform(0, 1, N)\n",
        "weights = weights/np.sum(weights)"
      ],
      "execution_count": 111,
      "outputs": []
    },
    {
      "cell_type": "code",
      "metadata": {
        "id": "Ui9l6APhXe2P"
      },
      "source": [
        "#My example\n",
        "weights_2 = np.random.uniform(0.2, 0.8, M)\n",
        "weights_2 = weights_2/np.sum(weights_2)"
      ],
      "execution_count": 112,
      "outputs": []
    },
    {
      "cell_type": "markdown",
      "metadata": {
        "id": "raqTF3XACwqV"
      },
      "source": [
        "We have to rescale the weights so that they all add up to $1$. We do this by scaling the weights vector by the sum total of all the weights. This step ensures that we will be using $100\\%$ of the portfolio's cash.\n",
        "\n",
        "To calculate the mean return of the portfolio, we have to scale each asset's return by its designated weight. We can pull each element of each array and multiply them individually, but it's quicker to use NumPy's linear algebra methods. The function that we want is `dot()`. This will calculate the dot product between two arrays for us. So if $v = \\left[ 1, 2, 3 \\right]$ and $w = \\left[4, 5, 6 \\right]$, then:\n",
        "\n",
        "$$ v \\cdot w = 1 \\times 4 + 2 \\times 5 + 3 \\times 6 $$\n",
        "\n",
        "For a one-dimensional vector, the dot product will multiply each element pointwise and add all the products together! In our case, we have a vector of weights, $\\omega = \\left[ \\omega_1, \\omega_2, \\dots \\omega_N\\right]$ and a vector of returns, $\\mu = \\left[ \\mu_1, \\mu_2, \\dots, \\mu_N\\right]$. If we take the dot product of these two we will get:\n",
        "\n",
        "$$ \\omega \\cdot \\mu = \\omega_1\\mu_1 + \\omega_2\\mu_2 + \\dots + \\omega_N\\mu_N = \\mu_P $$\n",
        "\n",
        "This yields the sum of all the asset returns scaled by their respective weights. This the the portfolio's overall expected return!"
      ]
    },
    {
      "cell_type": "code",
      "metadata": {
        "id": "G6GW8rnICwqX",
        "colab": {
          "base_uri": "https://localhost:8080/"
        },
        "outputId": "adfde397-4602-42fe-e1cc-411afff6e6a3"
      },
      "source": [
        "p_returns = np.dot(weights, mean_returns)\n",
        "print (\"Expected return of the portfolio: \", p_returns)"
      ],
      "execution_count": 113,
      "outputs": [
        {
          "output_type": "stream",
          "text": [
            "Expected return of the portfolio:  1.218960007227259\n"
          ],
          "name": "stdout"
        }
      ]
    },
    {
      "cell_type": "code",
      "metadata": {
        "id": "hZ3H1952YD7_",
        "colab": {
          "base_uri": "https://localhost:8080/"
        },
        "outputId": "2bf17255-c8c0-46de-aab3-6d17a7bf944e"
      },
      "source": [
        "#My example\n",
        "p_returns_2 = np.dot(weights_2, mean_returns_2)\n",
        "print (\"Expected return of the second portfolio: \", p_returns_2)"
      ],
      "execution_count": 114,
      "outputs": [
        {
          "output_type": "stream",
          "text": [
            "Expected return of the second portfolio:  997.2733552394881\n"
          ],
          "name": "stdout"
        }
      ]
    },
    {
      "cell_type": "markdown",
      "metadata": {
        "id": "w2MZO9BqYCaW"
      },
      "source": [
        ""
      ]
    },
    {
      "cell_type": "markdown",
      "metadata": {
        "id": "F_xnv3KICwqY"
      },
      "source": [
        "Calculating the mean return is fairly intuitive and does not require too much explanation of linear algebra. However, calculating the variance of our portfolio requires a bit more background."
      ]
    },
    {
      "cell_type": "markdown",
      "metadata": {
        "id": "U6Ef84F2CwqZ"
      },
      "source": [
        "#### Beware of NaN values\n",
        "\n",
        "Most of the time, all of these calculations will work without an issue. However, when working with real data we run the risk of having `nan` values in our arrays. This is NumPy's way of saying that the data there is missing or doesn't exist. These `nan` values can lead to errors in mathematical calculations so it is important to be aware of whether your array contains `nan` values and to know how to drop them."
      ]
    },
    {
      "cell_type": "code",
      "metadata": {
        "id": "SPg0YCbkCwqZ",
        "colab": {
          "base_uri": "https://localhost:8080/"
        },
        "outputId": "000f76e0-08a1-45a5-f75c-28a328234cc4"
      },
      "source": [
        "v = np.array([1, 2, np.nan, 4, 5])\n",
        "print (v)"
      ],
      "execution_count": 115,
      "outputs": [
        {
          "output_type": "stream",
          "text": [
            "[ 1.  2. nan  4.  5.]\n"
          ],
          "name": "stdout"
        }
      ]
    },
    {
      "cell_type": "code",
      "metadata": {
        "colab": {
          "base_uri": "https://localhost:8080/"
        },
        "id": "J8nRojp3YWMx",
        "outputId": "2837f925-a4e9-483c-d388-772f98804ccd"
      },
      "source": [
        "#My example\n",
        "v_2 = np.array([3,5,9,np.nan,15,np.nan,9,7,np.nan,8])\n",
        "print (v_2)"
      ],
      "execution_count": 116,
      "outputs": [
        {
          "output_type": "stream",
          "text": [
            "[ 3.  5.  9. nan 15. nan  9.  7. nan  8.]\n"
          ],
          "name": "stdout"
        }
      ]
    },
    {
      "cell_type": "markdown",
      "metadata": {
        "id": "tCMJX41BCwqa"
      },
      "source": [
        "Let's see what happens when we try to take the mean of this array."
      ]
    },
    {
      "cell_type": "code",
      "metadata": {
        "id": "PfwKQY4BCwqa",
        "colab": {
          "base_uri": "https://localhost:8080/"
        },
        "outputId": "d761dae8-31bb-4a6a-86d2-6a67c98c963f"
      },
      "source": [
        "print (np.mean(v))"
      ],
      "execution_count": 117,
      "outputs": [
        {
          "output_type": "stream",
          "text": [
            "nan\n"
          ],
          "name": "stdout"
        }
      ]
    },
    {
      "cell_type": "code",
      "metadata": {
        "colab": {
          "base_uri": "https://localhost:8080/"
        },
        "id": "DvFPss1tYr8e",
        "outputId": "b191bdc3-8a90-4ead-fdfa-abcc5c1a405c"
      },
      "source": [
        "#My example\n",
        "print (np.mean(v_2))"
      ],
      "execution_count": 118,
      "outputs": [
        {
          "output_type": "stream",
          "text": [
            "nan\n"
          ],
          "name": "stdout"
        }
      ]
    },
    {
      "cell_type": "markdown",
      "metadata": {
        "id": "ZPC9o_i-Cwqb"
      },
      "source": [
        "Clearly, `nan` values can have a large impact on our calculations. Fortunately, we can check for `nan` values with the `isnan()` function."
      ]
    },
    {
      "cell_type": "code",
      "metadata": {
        "id": "8zbWKBYJCwqb",
        "colab": {
          "base_uri": "https://localhost:8080/"
        },
        "outputId": "bff4e1b7-32dd-4aa6-d008-4b1bbf555e0e"
      },
      "source": [
        "np.isnan(v)"
      ],
      "execution_count": 119,
      "outputs": [
        {
          "output_type": "execute_result",
          "data": {
            "text/plain": [
              "array([False, False,  True, False, False])"
            ]
          },
          "metadata": {
            "tags": []
          },
          "execution_count": 119
        }
      ]
    },
    {
      "cell_type": "code",
      "metadata": {
        "colab": {
          "base_uri": "https://localhost:8080/"
        },
        "id": "oUdSzGSRYyx1",
        "outputId": "fc14358a-b9c9-4e28-debe-15b5047ad03d"
      },
      "source": [
        "#My example\n",
        "np.isnan(v_2)"
      ],
      "execution_count": 120,
      "outputs": [
        {
          "output_type": "execute_result",
          "data": {
            "text/plain": [
              "array([False, False, False,  True, False,  True, False, False,  True,\n",
              "       False])"
            ]
          },
          "metadata": {
            "tags": []
          },
          "execution_count": 120
        }
      ]
    },
    {
      "cell_type": "markdown",
      "metadata": {
        "id": "8ff784S3Cwqb"
      },
      "source": [
        "Calling `isnan()` on an array will call the function on each value of the array, returning a value of `True` if the element is `nan` and `False` if the element is valid. Now, knowing whether your array contains `nan` values is all well and good, but how do we remove `nan`s? Handily enough, NumPy arrays can be indexed by boolean values (`True` or `False`). If we use a boolean array to index an array, we will remove all values of the array that register as `False` under the condition. We use the `isnan()` function in create a boolean array, assigning a `True` value to everything that is *not* `nan` and a `False` to the `nan`s and we use that to index the same array."
      ]
    },
    {
      "cell_type": "code",
      "metadata": {
        "id": "kyH3_0zUCwqc",
        "colab": {
          "base_uri": "https://localhost:8080/"
        },
        "outputId": "07e55b4b-7525-4fde-ae3d-d40d26db1a2d"
      },
      "source": [
        "ix = ~np.isnan(v) # the ~ indicates a logical not, inverting the bools\n",
        "print (v[ix]) # We can also just write v = v[~np.isnan(v)]"
      ],
      "execution_count": 121,
      "outputs": [
        {
          "output_type": "stream",
          "text": [
            "[1. 2. 4. 5.]\n"
          ],
          "name": "stdout"
        }
      ]
    },
    {
      "cell_type": "code",
      "metadata": {
        "colab": {
          "base_uri": "https://localhost:8080/"
        },
        "id": "_d5_BqLSatQT",
        "outputId": "c3a25837-fa51-46a4-d105-6f4478a3fd23"
      },
      "source": [
        "#My example\n",
        "print (v_2[~np.isnan(v_2)]) "
      ],
      "execution_count": 122,
      "outputs": [
        {
          "output_type": "stream",
          "text": [
            "[ 3.  5.  9. 15.  9.  7.  8.]\n"
          ],
          "name": "stdout"
        }
      ]
    },
    {
      "cell_type": "markdown",
      "metadata": {
        "id": "eUP3KnL9Cwqd"
      },
      "source": [
        "There are a few shortcuts to this process in the form of NumPy functions specifically built to handle them, such as `nanmean()`."
      ]
    },
    {
      "cell_type": "code",
      "metadata": {
        "id": "2HbZJLbPCwqd",
        "colab": {
          "base_uri": "https://localhost:8080/"
        },
        "outputId": "6b45ace7-ab7c-4d34-a7de-8332bbb2eef2"
      },
      "source": [
        "print (np.nanmean(v))"
      ],
      "execution_count": 123,
      "outputs": [
        {
          "output_type": "stream",
          "text": [
            "3.0\n"
          ],
          "name": "stdout"
        }
      ]
    },
    {
      "cell_type": "code",
      "metadata": {
        "colab": {
          "base_uri": "https://localhost:8080/"
        },
        "id": "jsQ2sWvva9hB",
        "outputId": "f8c9a179-8630-45fc-f0f0-7688a5ccd9b0"
      },
      "source": [
        "#My example, a mean with nan values\n",
        "print (np.nanmean(v_2))"
      ],
      "execution_count": 124,
      "outputs": [
        {
          "output_type": "stream",
          "text": [
            "8.0\n"
          ],
          "name": "stdout"
        }
      ]
    },
    {
      "cell_type": "markdown",
      "metadata": {
        "id": "x83uE-BoCwqd"
      },
      "source": [
        "The `nanmean()` function simply calculates the mean of the array as if there were no `nan` values at all! There are a few more of these functions, so feel free to read more about them in the [documentation](https://docs.scipy.org/doc/numpy/user/index.html). These indeterminate values are more an issue with data than linear algebra itself so it is helpful that there are ways to handle them."
      ]
    },
    {
      "cell_type": "markdown",
      "metadata": {
        "id": "8e8sH_HTCwqe"
      },
      "source": [
        "### Conclusion\n",
        "\n",
        "Linear algebra is pervasive in finance and in general. For example, the calculation of *optimal* weights according to modern portfolio theory is done using linear algebra techniques. The arrays and functions in NumPy allow us to handle these calculations in an intuitive way. For a quick intro to linear algebra and how to use NumPy to do more significant matrix calculations, proceed to the next section."
      ]
    },
    {
      "cell_type": "markdown",
      "metadata": {
        "id": "nRrU_0pBCwqe"
      },
      "source": [
        "## A brief foray into linear algebra\n",
        "\n",
        "Let's start with a basic overview of some linear algebra. Linear algebra comes down to the multiplication and composition of scalar and matrix values. A scalar value is just a real number that we multiply against an array. When we scale a matrix or array using a scalar, we multiply each individual element of that matrix or array by the scalar.\n",
        "\n",
        "A matrix is a collection of values, typically represented by an $m \\times n$ grid, where $m$ is the number of rows and $n$ is the number of columns. The edge lengths $m$ and $n$ do not necessarily have to be different. If we have $m = n$, we call this a square matrix. A particularly interesting case of a matrix is when $m = 1$ or $n = 1$. In this case we have a special case of a matrix that we call a vector. While there is a matrix object in NumPy we will be doing everything using NumPy arrays because they can have dimensions greater than $2$. For the purpose of this section, we will be using matrix and array interchangeably.\n",
        "\n",
        "We can express the matrix equation as:\n",
        "\n",
        "$$ y = A\\cdot x $$\n",
        "\n",
        "Where $A$ is an $m \\times n$ matrix, $y$ is a $m \\times 1$ vector, and $x$ is a $n \\times 1$ vector. On the right-hand side of the equation we are multiplying a matrix by a vector. This requires a little bit more clarification, lest we think that we can go about multiplying any matrices by any other matrices.\n",
        "\n",
        "#### Matrix multiplication\n",
        "\n",
        "With matrix multiplication, the order in which the matrices are multiplied matters. Multiplying a matrix on the left side by another matrix may be just fine, but multiplying on the right may be undefined."
      ]
    },
    {
      "cell_type": "code",
      "metadata": {
        "collapsed": true,
        "id": "vxEVmxEwCwqf"
      },
      "source": [
        "A = np.array([\n",
        "        [1, 2, 3, 12, 6],\n",
        "        [4, 5, 6, 15, 20],\n",
        "        [7, 8, 9, 10, 10]        \n",
        "    ])\n",
        "B = np.array([\n",
        "        [4, 4, 2],\n",
        "        [2, 3, 1],\n",
        "        [6, 5, 8],\n",
        "        [9, 9, 9]\n",
        "    ])"
      ],
      "execution_count": 125,
      "outputs": []
    },
    {
      "cell_type": "code",
      "metadata": {
        "id": "8zGTa_AVbIZ6"
      },
      "source": [
        "#My example\n",
        "A_2 = np.array([\n",
        "        [1, 2, 3],\n",
        "        [4, 5, 6],\n",
        "        [7, 8, 9],\n",
        "        [10, 11, 12],\n",
        "        [13, 14, 15],\n",
        "        [16, 17, 18]\n",
        "    ])\n",
        "B_2 = np.array([\n",
        "        [1,3,5,7,9,11],\n",
        "        [2,4,6,8,10,12],      \n",
        "    ])"
      ],
      "execution_count": 126,
      "outputs": []
    },
    {
      "cell_type": "markdown",
      "metadata": {
        "id": "m93A7jcSCwqg"
      },
      "source": [
        "Notice that the above-defined matrices, $A$ and $B$, have different dimensions. $A$ is $3 \\times 5$ and $B$ is $4 \\times 3$. The general rule of what can and cannot be multiplied in which order is based on the dimensions of the matrices. Specifically, the number of columns in the matrix on the left must be equal to the number of rows in the matrix on the right. In super informal terms, let's say that we have an $m \\times n$ matrix and a $p \\times q$ matrix. If we multiply the first by the second on the right, we get the following:\n",
        "\n",
        "$$ (m \\times n) \\cdot (p \\times q) = (m \\times q) $$\n",
        "\n",
        "So the resultant product has the same number of rows as the left matrix and the same number of columns as the right matrix. This limitation of matrix multiplication with regards to dimensions is important to keep track of when writing code. To demonstrate this, we use the `dot()` function to multiply our matrices below:\n",
        "\n",
        "$$dot(A,B) = c_{i.j} = \\sum_{i=0}^{n-1}a_{i,j}b_{j,i}$$"
      ]
    },
    {
      "cell_type": "code",
      "metadata": {
        "id": "YlIGmJ9ECwqg",
        "colab": {
          "base_uri": "https://localhost:8080/",
          "height": 197
        },
        "outputId": "b3d0ac4d-9f62-4d99-d611-a6156d89ea02"
      },
      "source": [
        "print (np.dot(A, B))"
      ],
      "execution_count": 128,
      "outputs": [
        {
          "output_type": "error",
          "ename": "ValueError",
          "evalue": "ignored",
          "traceback": [
            "\u001b[0;31m---------------------------------------------------------------------------\u001b[0m",
            "\u001b[0;31mValueError\u001b[0m                                Traceback (most recent call last)",
            "\u001b[0;32m<ipython-input-128-39086c8c885f>\u001b[0m in \u001b[0;36m<module>\u001b[0;34m()\u001b[0m\n\u001b[0;32m----> 1\u001b[0;31m \u001b[0mprint\u001b[0m \u001b[0;34m(\u001b[0m\u001b[0mnp\u001b[0m\u001b[0;34m.\u001b[0m\u001b[0mdot\u001b[0m\u001b[0;34m(\u001b[0m\u001b[0mA\u001b[0m\u001b[0;34m,\u001b[0m \u001b[0mB\u001b[0m\u001b[0;34m)\u001b[0m\u001b[0;34m)\u001b[0m\u001b[0;34m\u001b[0m\u001b[0;34m\u001b[0m\u001b[0m\n\u001b[0m",
            "\u001b[0;32m<__array_function__ internals>\u001b[0m in \u001b[0;36mdot\u001b[0;34m(*args, **kwargs)\u001b[0m\n",
            "\u001b[0;31mValueError\u001b[0m: shapes (3,5) and (4,3) not aligned: 5 (dim 1) != 4 (dim 0)"
          ]
        }
      ]
    },
    {
      "cell_type": "code",
      "metadata": {
        "colab": {
          "base_uri": "https://localhost:8080/",
          "height": 214
        },
        "id": "KOQ4aMEOcVhk",
        "outputId": "0e263492-f957-4ec2-c41d-e75cdeb53458"
      },
      "source": [
        "#My example\n",
        "print (np.dot(A_2, B_2))"
      ],
      "execution_count": 129,
      "outputs": [
        {
          "output_type": "error",
          "ename": "ValueError",
          "evalue": "ignored",
          "traceback": [
            "\u001b[0;31m---------------------------------------------------------------------------\u001b[0m",
            "\u001b[0;31mValueError\u001b[0m                                Traceback (most recent call last)",
            "\u001b[0;32m<ipython-input-129-e74ce8fac4b5>\u001b[0m in \u001b[0;36m<module>\u001b[0;34m()\u001b[0m\n\u001b[1;32m      1\u001b[0m \u001b[0;31m#My example\u001b[0m\u001b[0;34m\u001b[0m\u001b[0;34m\u001b[0m\u001b[0;34m\u001b[0m\u001b[0m\n\u001b[0;32m----> 2\u001b[0;31m \u001b[0mprint\u001b[0m \u001b[0;34m(\u001b[0m\u001b[0mnp\u001b[0m\u001b[0;34m.\u001b[0m\u001b[0mdot\u001b[0m\u001b[0;34m(\u001b[0m\u001b[0mA_2\u001b[0m\u001b[0;34m,\u001b[0m \u001b[0mB_2\u001b[0m\u001b[0;34m)\u001b[0m\u001b[0;34m)\u001b[0m\u001b[0;34m\u001b[0m\u001b[0;34m\u001b[0m\u001b[0m\n\u001b[0m",
            "\u001b[0;32m<__array_function__ internals>\u001b[0m in \u001b[0;36mdot\u001b[0;34m(*args, **kwargs)\u001b[0m\n",
            "\u001b[0;31mValueError\u001b[0m: shapes (6,3) and (2,6) not aligned: 3 (dim 1) != 2 (dim 0)"
          ]
        }
      ]
    },
    {
      "cell_type": "markdown",
      "metadata": {
        "id": "tOg8zfRrCwqg"
      },
      "source": [
        "These results make sense in accordance with our rule. Multiplying a $3 \\times 5$ matrix on the right by a $4 \\times 3$ matrix results in an error while multiplying a $4 \\times 3$ matrix on the right by a $3 \\times 5$ matrix results in a $4 \\times 5$ matrix."
      ]
    },
    {
      "cell_type": "code",
      "metadata": {
        "id": "8VKFyhcYCwqg",
        "colab": {
          "base_uri": "https://localhost:8080/"
        },
        "outputId": "8a4d835f-1b82-4d8d-a054-efb5f1843c81"
      },
      "source": [
        "print (np.dot(B, A))"
      ],
      "execution_count": 130,
      "outputs": [
        {
          "output_type": "stream",
          "text": [
            "[[ 34  44  54 128 124]\n",
            " [ 21  27  33  79  82]\n",
            " [ 82 101 120 227 216]\n",
            " [108 135 162 333 324]]\n"
          ],
          "name": "stdout"
        }
      ]
    },
    {
      "cell_type": "code",
      "metadata": {
        "colab": {
          "base_uri": "https://localhost:8080/"
        },
        "id": "mZ3iXe89cARV",
        "outputId": "613126bc-3483-4721-b683-b99abc64a709"
      },
      "source": [
        "#My example\n",
        "print (np.dot(B_2, A_2))"
      ],
      "execution_count": 131,
      "outputs": [
        {
          "output_type": "stream",
          "text": [
            "[[411 447 483]\n",
            " [462 504 546]]\n"
          ],
          "name": "stdout"
        }
      ]
    },
    {
      "cell_type": "markdown",
      "metadata": {
        "id": "CLt4PhDzCwqh"
      },
      "source": [
        "### Portfolio Variance\n",
        "\n",
        "Let's return to our portfolio example from before. We calculated the expected return of the portfolio, but how do we calculate the variance? We start by trying to evaluate the portfolio as a sum of each individual asset, scaled by it's weight.\n",
        "\n",
        "$$ VAR[P] = VAR[\\omega_1 S_1 + \\omega_2 S_2 + \\cdots + \\omega_N S_N] $$\n",
        "\n",
        "Where $S_0, \\cdots, S_N$ are the assets contained within our universe. If all of our assets were independent of each other, we could simply evaluate this as\n",
        "\n",
        "$$ VAR[P] = VAR[\\omega_1 S_1] + VAR[\\omega_2 S_2] + \\cdots + VAR[\\omega_N S_N] = \\omega_1^2\\sigma_1^2 + \\omega_2^2\\sigma_2^2 + \\cdots + \\omega_N^2\\sigma_N^2 $$\n",
        "\n",
        "However, all of our assets depend on each other by their construction. They are all in some way related to our base asset and therefore each other. We thus have to calculate the variance of the portfolio by including the individual pairwise covariances of each asset. Our formula for the variance of the portfolio:\n",
        "\n",
        "$$ VAR[P] = \\sigma_P^2 = \\sum_i \\omega_i^2\\sigma_i^2 + \\sum_i\\sum_{i\\neq j} \\omega_i\\omega_j\\sigma_i\\sigma_j\\rho_{i, j}, \\ i, j \\in \\lbrace 1, 2, \\cdots, N \\rbrace $$\n",
        "\n",
        "Where $\\rho_{i,j}$ is the correlation between $S_i$ and $S_j$, $\\rho_{i, j} = \\frac{COV[S_i, S_j]}{\\sigma_i\\sigma_j}$. This seems exceedingly complicated, but we can easily handle all of this using NumPy arrays. First, we calculate the covariance matrix that relates all the individual stocks in our universe."
      ]
    },
    {
      "cell_type": "code",
      "metadata": {
        "id": "xVF4kRfmCwqh",
        "colab": {
          "base_uri": "https://localhost:8080/"
        },
        "outputId": "cd13e7fc-ff40-4e17-e623-cfb379eef12a"
      },
      "source": [
        "cov_mat = np.cov(returns)\n",
        "print (cov_mat)"
      ],
      "execution_count": 132,
      "outputs": [
        {
          "output_type": "stream",
          "text": [
            "[[0.00072095 0.00068821 0.00070542 0.00081472 0.00073112 0.00075572\n",
            "  0.00078813 0.00066514 0.00075666 0.00060724]\n",
            " [0.00068821 0.00101368 0.00068918 0.00079568 0.00072437 0.00069863\n",
            "  0.00070282 0.00061342 0.00072322 0.00060369]\n",
            " [0.00070542 0.00068918 0.00108935 0.00078443 0.00071732 0.00075226\n",
            "  0.00072625 0.00073105 0.00075756 0.0005135 ]\n",
            " [0.00081472 0.00079568 0.00078443 0.00121633 0.0007739  0.00090571\n",
            "  0.00089077 0.00076863 0.00086797 0.00066652]\n",
            " [0.00073112 0.00072437 0.00071732 0.0007739  0.0011583  0.00080921\n",
            "  0.00077021 0.00061352 0.0008229  0.00066482]\n",
            " [0.00075572 0.00069863 0.00075226 0.00090571 0.00080921 0.00125468\n",
            "  0.00077204 0.00077533 0.00066234 0.00058221]\n",
            " [0.00078813 0.00070282 0.00072625 0.00089077 0.00077021 0.00077204\n",
            "  0.00128215 0.0007101  0.00081331 0.00051094]\n",
            " [0.00066514 0.00061342 0.00073105 0.00076863 0.00061352 0.00077533\n",
            "  0.0007101  0.00105885 0.00067006 0.00051173]\n",
            " [0.00075666 0.00072322 0.00075756 0.00086797 0.0008229  0.00066234\n",
            "  0.00081331 0.00067006 0.00122259 0.00066101]\n",
            " [0.00060724 0.00060369 0.0005135  0.00066652 0.00066482 0.00058221\n",
            "  0.00051094 0.00051173 0.00066101 0.00099194]]\n"
          ],
          "name": "stdout"
        }
      ]
    },
    {
      "cell_type": "code",
      "metadata": {
        "colab": {
          "base_uri": "https://localhost:8080/"
        },
        "id": "xdxgDnrIdAWm",
        "outputId": "ca2a23d7-766f-4a2b-f26e-5296c4336ecd"
      },
      "source": [
        "#My example\n",
        "cov_mat_2 = np.cov(returns_2)\n",
        "print (cov_mat_2)"
      ],
      "execution_count": 133,
      "outputs": [
        {
          "output_type": "stream",
          "text": [
            "[[ 9.81401945  8.83459718 10.25623835 ... 11.65390463 10.06711849\n",
            "  10.30197749]\n",
            " [ 8.83459718 12.07109644  9.46663738 ... 10.2564212   8.5436449\n",
            "   9.41702554]\n",
            " [10.25623835  9.46663738 14.64175123 ... 12.01046587 10.82130628\n",
            "  10.79929203]\n",
            " ...\n",
            " [11.65390463 10.2564212  12.01046587 ... 18.23523906 12.18691771\n",
            "  12.17631544]\n",
            " [10.06711849  8.5436449  10.82130628 ... 12.18691771 14.18059387\n",
            "  10.43042103]\n",
            " [10.30197749  9.41702554 10.79929203 ... 12.17631544 10.43042103\n",
            "  13.7416411 ]]\n"
          ],
          "name": "stdout"
        }
      ]
    },
    {
      "cell_type": "markdown",
      "metadata": {
        "id": "lCjENt24Cwqh"
      },
      "source": [
        "This array is not formatted particularly nicely, but a covariance matrix is a very important concept. The covariance matrix is of the form:\n",
        "\n",
        "$$ \\left[\\begin{matrix}\n",
        "VAR[S_1] & COV[S_1, S_2] & \\cdots & COV[S_1, S_N] \\\\\n",
        "COV[S_2, S_1] & VAR[S_2] & \\cdots & COV[S_2, S_N] \\\\\n",
        "\\vdots & \\vdots & \\ddots & \\vdots \\\\\n",
        "COV[S_N, S_1] & COV[S_N, S_2] & \\cdots & VAR[S_N]\n",
        "\\end{matrix}\\right] $$\n",
        "\n",
        "So each diagonal entry is the variance of that asset at that index and each off-diagonal holds the covariance of two assets indexed by the column and row number. What is important is that once we have the covariance matrix we are able to do some very quick linear algebra to calculate the variance of the overall portfolio. We can represent the variance of the portfolio in array form as:\n",
        "\n",
        "$$ \\sigma_p^2 = \\omega \\ C \\ \\omega^\\intercal$$\n",
        "\n",
        "Where $C$ is the covariance matrix of all the assets and $\\omega$ is the array containing the weights of each individual asset. The superscript $\\intercal$ on the second $\\omega$ listed above denotes the **transpose** of $\\omega$. For a reference on the evaluation of the variance of a portfolio as a matrix equation, please see the Wikipedia article on [modern portfolio theory](https://en.wikipedia.org/wiki/Modern_portfolio_theory).\n",
        "\n",
        "The transpose of an array is what you get when you switch the rows and columns of an array. This has the effect of reflecting an array across what you might imagine as a diagonal. For example, take our array $A$ from before:"
      ]
    },
    {
      "cell_type": "code",
      "metadata": {
        "id": "YM76vSE7Cwqi",
        "colab": {
          "base_uri": "https://localhost:8080/"
        },
        "outputId": "701b0fa4-7e3d-485f-e84d-1e0f420ebc38"
      },
      "source": [
        "print (A)"
      ],
      "execution_count": 134,
      "outputs": [
        {
          "output_type": "stream",
          "text": [
            "[[ 1  2  3 12  6]\n",
            " [ 4  5  6 15 20]\n",
            " [ 7  8  9 10 10]]\n"
          ],
          "name": "stdout"
        }
      ]
    },
    {
      "cell_type": "code",
      "metadata": {
        "colab": {
          "base_uri": "https://localhost:8080/"
        },
        "id": "U_5kcsk-dQ4H",
        "outputId": "28ec097f-1ec6-4d72-f644-1d4cbc900935"
      },
      "source": [
        "#My example\n",
        "print (A_2)"
      ],
      "execution_count": 135,
      "outputs": [
        {
          "output_type": "stream",
          "text": [
            "[[ 1  2  3]\n",
            " [ 4  5  6]\n",
            " [ 7  8  9]\n",
            " [10 11 12]\n",
            " [13 14 15]\n",
            " [16 17 18]]\n"
          ],
          "name": "stdout"
        }
      ]
    },
    {
      "cell_type": "markdown",
      "metadata": {
        "id": "ffX8NDeBCwqi"
      },
      "source": [
        "The transpose looks like a mirror image of the same array."
      ]
    },
    {
      "cell_type": "code",
      "metadata": {
        "id": "f4c03_1qCwqk",
        "colab": {
          "base_uri": "https://localhost:8080/"
        },
        "outputId": "275cb613-02ff-4459-9243-717c898a3453"
      },
      "source": [
        "print (np.transpose(A))"
      ],
      "execution_count": 136,
      "outputs": [
        {
          "output_type": "stream",
          "text": [
            "[[ 1  4  7]\n",
            " [ 2  5  8]\n",
            " [ 3  6  9]\n",
            " [12 15 10]\n",
            " [ 6 20 10]]\n"
          ],
          "name": "stdout"
        }
      ]
    },
    {
      "cell_type": "code",
      "metadata": {
        "colab": {
          "base_uri": "https://localhost:8080/"
        },
        "id": "sFeQtgold8cP",
        "outputId": "2c99b8c9-43ee-46dd-b6d9-d902db26aa29"
      },
      "source": [
        "#My transpose matrix example\n",
        "print (np.transpose(A_2))"
      ],
      "execution_count": 137,
      "outputs": [
        {
          "output_type": "stream",
          "text": [
            "[[ 1  4  7 10 13 16]\n",
            " [ 2  5  8 11 14 17]\n",
            " [ 3  6  9 12 15 18]]\n"
          ],
          "name": "stdout"
        }
      ]
    },
    {
      "cell_type": "markdown",
      "metadata": {
        "id": "GKEcV7XDCwql"
      },
      "source": [
        "But $\\omega$ here is a 1-dimensional array, a vector! It makes perfect to take the transpose of $A$, a $3 \\times 5$ array, as the output will be a $5 \\times 3$ array, but a 1-dimensional array is not quite as intuitive. A typical 1-dimensional array can be thought of as a $1 \\times n$ horizontal vector. Thus, taking the tranpose of this array essentially means changing it into a $n \\times 1$ vertical vector. This makes sense because 1-dimensional arrays are still arrays and any multiplication done between 1-dimensional and higher dimensional arrays must keep in line with our dimensionality issue of matrix multiplication.\n",
        "\n",
        "To make a long story short, we think of $\\omega$ as $1 \\times N$ since we have $N$ securities. This makes it so that $\\omega^\\intercal$ is $N \\times 1$. Again, our covariance matrix is $N \\times N$. So the overall multiplication works out like so, in informal terms:\n",
        "\n",
        "$$ \\text{Dimensions}(\\sigma_p^2) = \\text{Dimensions}(\\omega C \\omega^\\intercal) = (1 \\times N)\\cdot (N \\times N)\\cdot (N \\times 1) = (1 \\times 1)$$\n",
        "\n",
        "Multiplying the covariance matrix on the left by the plain horizontal vector and on the right by that vector's transpose results in the calculation of a single scalar ($1 \\times 1$) value, our portfolio's variance.\n",
        "\n",
        "So knowing this, let's proceed and calculate the portfolio variance! We can easily calculate the product of these arrays by using `dot()` for matrix multiplication, though this time we have to do it twice."
      ]
    },
    {
      "cell_type": "code",
      "metadata": {
        "scrolled": false,
        "id": "PO6jamx0Cwqn",
        "colab": {
          "base_uri": "https://localhost:8080/"
        },
        "outputId": "247ada74-91d2-4370-c857-6a1696e78ce8"
      },
      "source": [
        "# Calculating the portfolio volatility\n",
        "var_p = np.dot(np.dot(weights, cov_mat), weights.T)\n",
        "vol_p = np.sqrt(var_p)\n",
        "print (\"Portfolio volatility: \", vol_p)"
      ],
      "execution_count": 138,
      "outputs": [
        {
          "output_type": "stream",
          "text": [
            "Portfolio volatility:  0.027894756370420295\n"
          ],
          "name": "stdout"
        }
      ]
    },
    {
      "cell_type": "code",
      "metadata": {
        "id": "xFLSPqAmegMu",
        "colab": {
          "base_uri": "https://localhost:8080/"
        },
        "outputId": "a8000b5f-0ee1-4135-bd2c-f4b2561962a3"
      },
      "source": [
        "# Myexample of calculating the portfolio volatility\n",
        "var_p_2 = np.dot(np.dot(weights_2, cov_mat_2), weights_2.T)\n",
        "vol_p_2 = np.sqrt(var_p_2)\n",
        "print (\"Portfolio volatility: \", vol_p_2)"
      ],
      "execution_count": 139,
      "outputs": [
        {
          "output_type": "stream",
          "text": [
            "Portfolio volatility:  3.2033619650009313\n"
          ],
          "name": "stdout"
        }
      ]
    },
    {
      "cell_type": "markdown",
      "metadata": {
        "id": "wzVzUlX0Cwqo"
      },
      "source": [
        "To confirm this calculation, let's simply evaluate the volatility of the portfolio using only NumPy functions."
      ]
    },
    {
      "cell_type": "code",
      "metadata": {
        "id": "GM1531dnCwqo",
        "colab": {
          "base_uri": "https://localhost:8080/"
        },
        "outputId": "ef602911-19a8-4f92-9a9d-5819fdc82d54"
      },
      "source": [
        "# Confirming calculation\n",
        "vol_p_alt = np.sqrt(np.var(np.dot(weights, returns), ddof=1))\n",
        "print (\"Portfolio volatility: \", vol_p_alt)"
      ],
      "execution_count": 140,
      "outputs": [
        {
          "output_type": "stream",
          "text": [
            "Portfolio volatility:  0.027894756370420302\n"
          ],
          "name": "stdout"
        }
      ]
    },
    {
      "cell_type": "code",
      "metadata": {
        "colab": {
          "base_uri": "https://localhost:8080/"
        },
        "id": "CPVCSvJC4zVH",
        "outputId": "e350fcec-2033-4528-a4c9-3a85171946ee"
      },
      "source": [
        "# My example, confirming calculation\n",
        "vol_p_alt_2 = np.sqrt(np.var(np.dot(weights_2, returns_2), ddof=1))\n",
        "print (\"Portfolio volatility: \", vol_p_alt_2)"
      ],
      "execution_count": 141,
      "outputs": [
        {
          "output_type": "stream",
          "text": [
            "Portfolio volatility:  3.2033619650009317\n"
          ],
          "name": "stdout"
        }
      ]
    },
    {
      "cell_type": "markdown",
      "metadata": {
        "id": "pk2xpQvNCwqp"
      },
      "source": [
        "The `ddof` parameter is a simple integer input that tells the function the number of degrees of freedom to take into account. This is a more statistical concept, but what this tells us that our matrix calculation is correct!\n",
        "\n",
        "A lot of this might not make sense at first glance. It helps to go back and forth between the theory and the code representations until you have a better grasp of the mathematics involved. It is definitely not necessary to be an expert on linear algebra and on matrix operations, but linear algebra can help to streamline the process of working with large amounts of data. For further reading on NumPy, check out the [documentation](https://docs.scipy.org/doc/numpy/user/index.html)."
      ]
    },
    {
      "cell_type": "markdown",
      "metadata": {
        "id": "1VRsqggPCwqp"
      },
      "source": [
        "*This presentation is for informational purposes only and does not constitute an offer to sell, a solicitation to buy, or a recommendation for any security; nor does it constitute an offer to provide investment advisory or other services by Quantopian, Inc. (\"Quantopian\"). Nothing contained herein constitutes investment advice or offers any opinion with respect to the suitability of any security, and any views expressed herein should not be taken as advice to buy, sell, or hold any security or as an endorsement of any security or company.  In preparing the information contained herein, Quantopian, Inc. has not taken into account the investment needs, objectives, and financial circumstances of any particular investor. Any views expressed and data illustrated herein were prepared based upon information, believed to be reliable, available to Quantopian, Inc. at the time of publication. Quantopian makes no guarantees as to their accuracy or completeness. All information is subject to change and may quickly become unreliable for various reasons, including changes in market conditions or economic circumstances.*"
      ]
    }
  ]
}