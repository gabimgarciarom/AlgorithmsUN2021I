{
  "nbformat": 4,
  "nbformat_minor": 0,
  "metadata": {
    "kernelspec": {
      "name": "python3",
      "display_name": "Python 3"
    },
    "colab": {
      "name": "ggarciarolecture3.ipynb",
      "provenance": []
    }
  },
  "cells": [
    {
      "cell_type": "markdown",
      "metadata": {
        "id": "0HN1Avv_Cwp6"
      },
      "source": [
        "# Introduction to NumPy\n",
        "by Maxwell Margenot\n",
        "\n",
        "Part of the Quantopian Lecture Series:\n",
        "\n",
        "* [www.quantopian.com/lectures](https://www.quantopian.com/lectures)\n",
        "* [github.com/quantopian/research_public](https://github.com/quantopian/research_public)\n",
        "\n",
        "Notebook released under the Creative Commons Attribution 4.0 License."
      ]
    },
    {
      "cell_type": "markdown",
      "metadata": {
        "id": "y0gd0MqPCwp-"
      },
      "source": [
        "NumPy is an incredibly powerful package in Python that is ubiquitous throughout the Quantopian platform. It has strong integration with Pandas, another tool we will be covering in the lecture series. NumPy adds support for multi-dimensional arrays and mathematical functions that allow you to easily perform linear algebra calculations. This lecture will be a collection of linear algebra examples computed using NumPy."
      ]
    },
    {
      "cell_type": "code",
      "metadata": {
        "collapsed": true,
        "id": "kLik-BU4Cwp_"
      },
      "source": [
        "import numpy as np\n",
        "import matplotlib.pyplot as plt"
      ],
      "execution_count": 1,
      "outputs": []
    },
    {
      "cell_type": "markdown",
      "metadata": {
        "id": "ofGZYS4NCwqA"
      },
      "source": [
        "### Basic NumPy arrays"
      ]
    },
    {
      "cell_type": "markdown",
      "metadata": {
        "id": "SR0_6--UCwqB"
      },
      "source": [
        "The most basic way that we could make use of NumPy in finance is calculating the mean return of a portfolio. Say that we have a list containing the historical return of several stocks."
      ]
    },
    {
      "cell_type": "code",
      "metadata": {
        "collapsed": true,
        "id": "pKjkoa2_CwqC"
      },
      "source": [
        "stock_list = [3.5, 5, 2, 8, 4.2]"
      ],
      "execution_count": 2,
      "outputs": []
    },
    {
      "cell_type": "code",
      "metadata": {
        "id": "Q7PM2I_b9JEZ"
      },
      "source": [
        "#My example, list\n",
        "stock_list_2 = [-5, 65, 44.5, 32, 34.3, 12, 87]"
      ],
      "execution_count": 3,
      "outputs": []
    },
    {
      "cell_type": "markdown",
      "metadata": {
        "id": "Wq48IUWlCwqD"
      },
      "source": [
        "We can make an array by calling a function on the list:"
      ]
    },
    {
      "cell_type": "code",
      "metadata": {
        "colab": {
          "base_uri": "https://localhost:8080/"
        },
        "id": "VzGYQ551CwqD",
        "outputId": "d37b84b4-451a-4b0d-bb8a-906f4d094770"
      },
      "source": [
        "returns = np.array(stock_list)\n",
        "print (returns, type(returns))"
      ],
      "execution_count": 4,
      "outputs": [
        {
          "output_type": "stream",
          "text": [
            "[3.5 5.  2.  8.  4.2] <class 'numpy.ndarray'>\n"
          ],
          "name": "stdout"
        }
      ]
    },
    {
      "cell_type": "code",
      "metadata": {
        "colab": {
          "base_uri": "https://localhost:8080/"
        },
        "id": "fTPZVtWz9_rj",
        "outputId": "d260a44e-f3d3-44e9-9951-396ccb24ff50"
      },
      "source": [
        "#My example of numpy array\n",
        "returns_2 = np.array(stock_list_2)\n",
        "print (returns_2, type(returns_2))"
      ],
      "execution_count": 5,
      "outputs": [
        {
          "output_type": "stream",
          "text": [
            "[-5.  65.  44.5 32.  34.3 12.  87. ] <class 'numpy.ndarray'>\n"
          ],
          "name": "stdout"
        }
      ]
    },
    {
      "cell_type": "markdown",
      "metadata": {
        "id": "Nit3EPpGCwqF"
      },
      "source": [
        "You'll notice that the type of our array is 'ndarray', not just 'array'. This is because NumPy arrays can be created with multiple dimensions. If we pass np.array() a list of lists, it will create a 2-dimensional array. If we pass a list of lists of lists, it will create a 3-dimensional array, and so on and so forth."
      ]
    },
    {
      "cell_type": "code",
      "metadata": {
        "colab": {
          "base_uri": "https://localhost:8080/"
        },
        "id": "R6GW6CdECwqG",
        "outputId": "201b473b-bf5e-4317-df48-6f496cd5a3ca"
      },
      "source": [
        "A = np.array([[1, 2], [3, 4]])\n",
        "print (A, type(A))"
      ],
      "execution_count": 6,
      "outputs": [
        {
          "output_type": "stream",
          "text": [
            "[[1 2]\n",
            " [3 4]] <class 'numpy.ndarray'>\n"
          ],
          "name": "stdout"
        }
      ]
    },
    {
      "cell_type": "code",
      "metadata": {
        "colab": {
          "base_uri": "https://localhost:8080/"
        },
        "id": "cJ_DVt49_J5Z",
        "outputId": "e89e7d85-29aa-46b0-8855-84b18620afc6"
      },
      "source": [
        "#My example of array\n",
        "B = np.array([[3,2], [4,8], [4,7],[6,0]])\n",
        "print (B, type(B))"
      ],
      "execution_count": 7,
      "outputs": [
        {
          "output_type": "stream",
          "text": [
            "[[3 2]\n",
            " [4 8]\n",
            " [4 7]\n",
            " [6 0]] <class 'numpy.ndarray'>\n"
          ],
          "name": "stdout"
        }
      ]
    },
    {
      "cell_type": "markdown",
      "metadata": {
        "id": "RpSDTGmBCwqG"
      },
      "source": [
        "We can access the dimensions of an array by looking at its `shape` member variable."
      ]
    },
    {
      "cell_type": "code",
      "metadata": {
        "colab": {
          "base_uri": "https://localhost:8080/"
        },
        "id": "_WPP0qZ3CwqH",
        "outputId": "baebcc6b-4082-4176-a527-5da85237e43b"
      },
      "source": [
        "print (A.shape)"
      ],
      "execution_count": 8,
      "outputs": [
        {
          "output_type": "stream",
          "text": [
            "(2, 2)\n"
          ],
          "name": "stdout"
        }
      ]
    },
    {
      "cell_type": "code",
      "metadata": {
        "colab": {
          "base_uri": "https://localhost:8080/"
        },
        "id": "GwSgxEjy_rLI",
        "outputId": "ec82666c-062b-4712-e51d-814cfeda5a48"
      },
      "source": [
        "#My example\n",
        "print (B.shape)"
      ],
      "execution_count": 9,
      "outputs": [
        {
          "output_type": "stream",
          "text": [
            "(4, 2)\n"
          ],
          "name": "stdout"
        }
      ]
    },
    {
      "cell_type": "markdown",
      "metadata": {
        "id": "7fY5XDhGCwqH"
      },
      "source": [
        "Arrays are indexed in much the same way as lists in Python. Elements of a list begin indexing from $0$ and end at $n - 1$, where $n$ is the length of the array."
      ]
    },
    {
      "cell_type": "code",
      "metadata": {
        "colab": {
          "base_uri": "https://localhost:8080/"
        },
        "id": "10ZoQnaFCwqH",
        "outputId": "6ad90a07-591d-4e1b-b6c7-641507939882"
      },
      "source": [
        "print (returns[0], returns[len(returns) - 1])"
      ],
      "execution_count": 10,
      "outputs": [
        {
          "output_type": "stream",
          "text": [
            "3.5 4.2\n"
          ],
          "name": "stdout"
        }
      ]
    },
    {
      "cell_type": "code",
      "metadata": {
        "colab": {
          "base_uri": "https://localhost:8080/"
        },
        "id": "sbisAM8Z_93P",
        "outputId": "7d590dda-57b6-44b2-a132-958a1a8efe78"
      },
      "source": [
        "#My example\n",
        "print (returns_2[0], returns_2[len(returns) - 1])"
      ],
      "execution_count": 11,
      "outputs": [
        {
          "output_type": "stream",
          "text": [
            "-5.0 34.3\n"
          ],
          "name": "stdout"
        }
      ]
    },
    {
      "cell_type": "markdown",
      "metadata": {
        "id": "yPsnbZXVCwqI"
      },
      "source": [
        "We can take a slice of an array using a colon, just like in a list."
      ]
    },
    {
      "cell_type": "code",
      "metadata": {
        "id": "GurIHeeOCwqI",
        "colab": {
          "base_uri": "https://localhost:8080/"
        },
        "outputId": "5b433e4b-b3ed-44ca-893c-041800c71fce"
      },
      "source": [
        "print (returns[1:3])"
      ],
      "execution_count": 12,
      "outputs": [
        {
          "output_type": "stream",
          "text": [
            "[5. 2.]\n"
          ],
          "name": "stdout"
        }
      ]
    },
    {
      "cell_type": "code",
      "metadata": {
        "colab": {
          "base_uri": "https://localhost:8080/"
        },
        "id": "eJhyorO7AWPy",
        "outputId": "4596b3ed-06dd-48d8-8d28-0f83125e8381"
      },
      "source": [
        "#My example\n",
        "print (returns_2[3:7])"
      ],
      "execution_count": 13,
      "outputs": [
        {
          "output_type": "stream",
          "text": [
            "[32.  34.3 12.  87. ]\n"
          ],
          "name": "stdout"
        }
      ]
    },
    {
      "cell_type": "markdown",
      "metadata": {
        "id": "JpP_lrY5CwqJ"
      },
      "source": [
        "A slice of an array, like in a list, will select a group of elements in the array starting from the first element indicated and going up to (but not including) the last element indicated.\n",
        "\n",
        "In the case of multidimensional arrays, many of the same conventions with slicing and indexing hold. We can access the first column of a 2-dimensional array like so:"
      ]
    },
    {
      "cell_type": "code",
      "metadata": {
        "id": "ye1md5G-CwqJ",
        "colab": {
          "base_uri": "https://localhost:8080/"
        },
        "outputId": "4946df77-d2e0-44cd-fedf-854b9a3fbcd8"
      },
      "source": [
        "print (A[:, 0])"
      ],
      "execution_count": 14,
      "outputs": [
        {
          "output_type": "stream",
          "text": [
            "[1 3]\n"
          ],
          "name": "stdout"
        }
      ]
    },
    {
      "cell_type": "code",
      "metadata": {
        "colab": {
          "base_uri": "https://localhost:8080/"
        },
        "id": "jc3l4dkBApxy",
        "outputId": "8d583ab8-8e6d-459b-f998-bb7f6a9ab29c"
      },
      "source": [
        "#My example\n",
        "print (B[:, 1])"
      ],
      "execution_count": 15,
      "outputs": [
        {
          "output_type": "stream",
          "text": [
            "[2 8 7 0]\n"
          ],
          "name": "stdout"
        }
      ]
    },
    {
      "cell_type": "markdown",
      "metadata": {
        "id": "LbxyL3NKCwqJ"
      },
      "source": [
        "And the first row of a 2-dimensional array like so:"
      ]
    },
    {
      "cell_type": "code",
      "metadata": {
        "id": "dfbVptBHCwqK",
        "colab": {
          "base_uri": "https://localhost:8080/"
        },
        "outputId": "4602cde2-1cb2-4af3-d2f0-dc9bf64aedc3"
      },
      "source": [
        "print (A[0, :])"
      ],
      "execution_count": 16,
      "outputs": [
        {
          "output_type": "stream",
          "text": [
            "[1 2]\n"
          ],
          "name": "stdout"
        }
      ]
    },
    {
      "cell_type": "code",
      "metadata": {
        "colab": {
          "base_uri": "https://localhost:8080/"
        },
        "id": "akHoEMfeBTxJ",
        "outputId": "0ebf8881-fde0-4099-dcc4-6ea04bd750bb"
      },
      "source": [
        "#My example\n",
        "print (B[0, :])"
      ],
      "execution_count": 17,
      "outputs": [
        {
          "output_type": "stream",
          "text": [
            "[3 2]\n"
          ],
          "name": "stdout"
        }
      ]
    },
    {
      "cell_type": "markdown",
      "metadata": {
        "id": "w9zGnnoQCwqK"
      },
      "source": [
        "Notice that each slice of the array returns yet another array!"
      ]
    },
    {
      "cell_type": "code",
      "metadata": {
        "id": "r-s0sDzHCwqK",
        "colab": {
          "base_uri": "https://localhost:8080/"
        },
        "outputId": "c8b8e967-7fdb-46d8-e9dd-45cb2239249b"
      },
      "source": [
        "print (type(A[0,:]))"
      ],
      "execution_count": 18,
      "outputs": [
        {
          "output_type": "stream",
          "text": [
            "<class 'numpy.ndarray'>\n"
          ],
          "name": "stdout"
        }
      ]
    },
    {
      "cell_type": "code",
      "metadata": {
        "colab": {
          "base_uri": "https://localhost:8080/"
        },
        "id": "6aDeEfDzBsA3",
        "outputId": "1b1a2a88-00f2-4b4a-b55c-23f99b447b7f"
      },
      "source": [
        "#My example\n",
        "print (type(B[0,:]))"
      ],
      "execution_count": 19,
      "outputs": [
        {
          "output_type": "stream",
          "text": [
            "<class 'numpy.ndarray'>\n"
          ],
          "name": "stdout"
        }
      ]
    },
    {
      "cell_type": "markdown",
      "metadata": {
        "id": "w88LxEwVCwqL"
      },
      "source": [
        "Passing only one index to a 2-dimensional array will result in returning the row with the given index as well, providing us with another way to access individual rows."
      ]
    },
    {
      "cell_type": "code",
      "metadata": {
        "id": "eAkoGuibCwqL",
        "colab": {
          "base_uri": "https://localhost:8080/"
        },
        "outputId": "d0b2df5b-0059-4c1b-a38a-19e6a483fd89"
      },
      "source": [
        "print (A[0])"
      ],
      "execution_count": 20,
      "outputs": [
        {
          "output_type": "stream",
          "text": [
            "[1 2]\n"
          ],
          "name": "stdout"
        }
      ]
    },
    {
      "cell_type": "code",
      "metadata": {
        "colab": {
          "base_uri": "https://localhost:8080/"
        },
        "id": "JLXPxRMYB3Vr",
        "outputId": "2ce06ea7-91e1-4b0b-b621-7fdfb106d78f"
      },
      "source": [
        "#My example\n",
        "print (B[3])"
      ],
      "execution_count": 21,
      "outputs": [
        {
          "output_type": "stream",
          "text": [
            "[6 0]\n"
          ],
          "name": "stdout"
        }
      ]
    },
    {
      "cell_type": "markdown",
      "metadata": {
        "id": "Zfn6OfuCCwqL"
      },
      "source": [
        "Accessing the index of an individual element will return only the element."
      ]
    },
    {
      "cell_type": "code",
      "metadata": {
        "id": "szIioNt5CwqM",
        "colab": {
          "base_uri": "https://localhost:8080/"
        },
        "outputId": "21c853e2-1aba-4873-fe7e-4c8a0c21f466"
      },
      "source": [
        "print (A[1, 1])"
      ],
      "execution_count": 22,
      "outputs": [
        {
          "output_type": "stream",
          "text": [
            "4\n"
          ],
          "name": "stdout"
        }
      ]
    },
    {
      "cell_type": "code",
      "metadata": {
        "colab": {
          "base_uri": "https://localhost:8080/"
        },
        "id": "cRMx5nsCCfb7",
        "outputId": "2f86c15c-f62c-4a20-b7ed-e2a585a2b2bc"
      },
      "source": [
        "#My example\n",
        "print (B[2, 0])"
      ],
      "execution_count": 23,
      "outputs": [
        {
          "output_type": "stream",
          "text": [
            "4\n"
          ],
          "name": "stdout"
        }
      ]
    },
    {
      "cell_type": "markdown",
      "metadata": {
        "id": "_JxWgIL7CwqM"
      },
      "source": [
        "#### Array functions\n",
        "\n",
        "Functions built into NumPy can be easily called on arrays. Most functions are applied to an array element-wise (as scalar multiplication is). For example, if we call `log()` on an array, the logarithm will be taken of each element."
      ]
    },
    {
      "cell_type": "code",
      "metadata": {
        "id": "uboBQB8rCwqM",
        "colab": {
          "base_uri": "https://localhost:8080/"
        },
        "outputId": "95d7dc04-95fa-4824-b893-58f977eb8298"
      },
      "source": [
        "print (np.log(returns))"
      ],
      "execution_count": 24,
      "outputs": [
        {
          "output_type": "stream",
          "text": [
            "[1.25276297 1.60943791 0.69314718 2.07944154 1.43508453]\n"
          ],
          "name": "stdout"
        }
      ]
    },
    {
      "cell_type": "code",
      "metadata": {
        "colab": {
          "base_uri": "https://localhost:8080/"
        },
        "id": "xgPRvB63Cz5_",
        "outputId": "a20015fd-7972-4c4f-9b17-42f60be31d88"
      },
      "source": [
        "#My example\n",
        "print (np.log(returns_2))"
      ],
      "execution_count": 25,
      "outputs": [
        {
          "output_type": "stream",
          "text": [
            "[       nan 4.17438727 3.79548919 3.4657359  3.53514535 2.48490665\n",
            " 4.46590812]\n"
          ],
          "name": "stdout"
        },
        {
          "output_type": "stream",
          "text": [
            "/usr/local/lib/python3.7/dist-packages/ipykernel_launcher.py:2: RuntimeWarning: invalid value encountered in log\n",
            "  \n"
          ],
          "name": "stderr"
        }
      ]
    },
    {
      "cell_type": "markdown",
      "metadata": {
        "id": "nsl6iUQ6CwqN"
      },
      "source": [
        "Some functions return a single value. This is because they treat the array as a collection (similar to a list), performing the designated function. For example, the `mean()` function will do exactly what you expect, calculating the mean of an array."
      ]
    },
    {
      "cell_type": "code",
      "metadata": {
        "id": "JBNUHC6kCwqN",
        "colab": {
          "base_uri": "https://localhost:8080/"
        },
        "outputId": "978f18bf-3a72-43c8-c8d4-ef9cea661b1d"
      },
      "source": [
        "print (np.mean(returns))"
      ],
      "execution_count": 26,
      "outputs": [
        {
          "output_type": "stream",
          "text": [
            "4.54\n"
          ],
          "name": "stdout"
        }
      ]
    },
    {
      "cell_type": "code",
      "metadata": {
        "colab": {
          "base_uri": "https://localhost:8080/"
        },
        "id": "a3_3LXGQDGPZ",
        "outputId": "f44f796a-4781-4632-dd7f-d693db7d0852"
      },
      "source": [
        "#My example\n",
        "print (np.mean(returns_2))"
      ],
      "execution_count": 27,
      "outputs": [
        {
          "output_type": "stream",
          "text": [
            "38.542857142857144\n"
          ],
          "name": "stdout"
        }
      ]
    },
    {
      "cell_type": "markdown",
      "metadata": {
        "id": "a432sY70CwqN"
      },
      "source": [
        "Or the `max()` function will return the maximum element of an array."
      ]
    },
    {
      "cell_type": "code",
      "metadata": {
        "id": "Hn3yiCtpCwqN",
        "colab": {
          "base_uri": "https://localhost:8080/"
        },
        "outputId": "2e2165e6-f5b0-464a-8198-df7e8ed6cca8"
      },
      "source": [
        "print (np.max(returns))"
      ],
      "execution_count": 28,
      "outputs": [
        {
          "output_type": "stream",
          "text": [
            "8.0\n"
          ],
          "name": "stdout"
        }
      ]
    },
    {
      "cell_type": "code",
      "metadata": {
        "colab": {
          "base_uri": "https://localhost:8080/"
        },
        "id": "yEf--wvODiQG",
        "outputId": "6d3dcec0-6250-4aba-c169-1b08bf5e78fd"
      },
      "source": [
        "#My example\n",
        "print (np.max(returns_2))"
      ],
      "execution_count": 29,
      "outputs": [
        {
          "output_type": "stream",
          "text": [
            "87.0\n"
          ],
          "name": "stdout"
        }
      ]
    },
    {
      "cell_type": "code",
      "metadata": {
        "colab": {
          "base_uri": "https://localhost:8080/"
        },
        "id": "W-uGlrJBDoRp",
        "outputId": "8754e974-3f51-4534-9c00-aacf67b12baa"
      },
      "source": [
        "print (np.abs(returns))"
      ],
      "execution_count": 30,
      "outputs": [
        {
          "output_type": "stream",
          "text": [
            "[3.5 5.  2.  8.  4.2]\n"
          ],
          "name": "stdout"
        }
      ]
    },
    {
      "cell_type": "code",
      "metadata": {
        "colab": {
          "base_uri": "https://localhost:8080/"
        },
        "id": "GvhpgvP5EIRl",
        "outputId": "c99188fb-57b9-4de8-8835-3289339255ed"
      },
      "source": [
        "#My example\n",
        "print (np.abs(returns_2))"
      ],
      "execution_count": 31,
      "outputs": [
        {
          "output_type": "stream",
          "text": [
            "[ 5.  65.  44.5 32.  34.3 12.  87. ]\n"
          ],
          "name": "stdout"
        }
      ]
    },
    {
      "cell_type": "markdown",
      "metadata": {
        "id": "XjzCoXsiCwqO"
      },
      "source": [
        "For further reading on the universal functions in NumPy, check out the [documentation](https://docs.scipy.org/doc/numpy/user/quickstart.html#universal-functions)."
      ]
    },
    {
      "cell_type": "markdown",
      "metadata": {
        "id": "ApnszfJWCwqO"
      },
      "source": [
        "### Return to the returns\n",
        "\n",
        "Now let's modify our returns array with scalar values. If we add a scalar value to an array it will be added to every element of the array. If we multiply an array by a scalar value it will be multiplied against every element of the array. If we do both, both will happen!"
      ]
    },
    {
      "cell_type": "code",
      "metadata": {
        "scrolled": false,
        "id": "fYIDP5L9CwqO",
        "colab": {
          "base_uri": "https://localhost:8080/"
        },
        "outputId": "36a44140-3e4e-4d64-ef98-47b560bf39da"
      },
      "source": [
        "returns*2 + 5"
      ],
      "execution_count": 32,
      "outputs": [
        {
          "output_type": "execute_result",
          "data": {
            "text/plain": [
              "array([12. , 15. ,  9. , 21. , 13.4])"
            ]
          },
          "metadata": {
            "tags": []
          },
          "execution_count": 32
        }
      ]
    },
    {
      "cell_type": "code",
      "metadata": {
        "colab": {
          "base_uri": "https://localhost:8080/"
        },
        "id": "w-a4NgIIExMj",
        "outputId": "71694de2-709d-4771-ea1c-9aacd11808ba"
      },
      "source": [
        "#My example\n",
        "(returns_2*-1)/2"
      ],
      "execution_count": 33,
      "outputs": [
        {
          "output_type": "execute_result",
          "data": {
            "text/plain": [
              "array([  2.5 , -32.5 , -22.25, -16.  , -17.15,  -6.  , -43.5 ])"
            ]
          },
          "metadata": {
            "tags": []
          },
          "execution_count": 33
        }
      ]
    },
    {
      "cell_type": "markdown",
      "metadata": {
        "id": "MYAbBy-oCwqP"
      },
      "source": [
        "NumPy also has functions specifically built to operate on arrays. Let's take the mean and standard deviation of this group of returns."
      ]
    },
    {
      "cell_type": "code",
      "metadata": {
        "id": "aT-81DBxCwqP",
        "colab": {
          "base_uri": "https://localhost:8080/"
        },
        "outputId": "b83539d4-8416-4442-e9e9-5a75d0b8984a"
      },
      "source": [
        "print (\"Return's Mean: \", np.mean(returns), \"Return's Std Dev: \", np.std(returns))"
      ],
      "execution_count": 34,
      "outputs": [
        {
          "output_type": "stream",
          "text": [
            "Return's Mean:  4.54 Return's Std Dev:  1.9915822855207364\n"
          ],
          "name": "stdout"
        }
      ]
    },
    {
      "cell_type": "code",
      "metadata": {
        "colab": {
          "base_uri": "https://localhost:8080/"
        },
        "id": "wb_64g2UFAvq",
        "outputId": "43902809-beef-47ea-9377-82f1d7f06d58"
      },
      "source": [
        "#My example\n",
        "print (\"Return_2's Variance: \", np.var(returns_2), \"Return_2' minimum: \", np.min(returns_2))"
      ],
      "execution_count": 35,
      "outputs": [
        {
          "output_type": "stream",
          "text": [
            "Return_2's Variance:  820.6967346938776 Return_2' minimum:  -5.0\n"
          ],
          "name": "stdout"
        }
      ]
    },
    {
      "cell_type": "markdown",
      "metadata": {
        "id": "w4UDq6AsCwqP"
      },
      "source": [
        "Let's simulate a universe of stocks using NumPy's functions. First we need to create the arrays to hold the assets and returns that we will use to build a portfolio. This is because arrays are created with a fixed size. Their dimensions can't be changed without creating a new array."
      ]
    },
    {
      "cell_type": "code",
      "metadata": {
        "collapsed": true,
        "id": "IORHNbmnCwqP"
      },
      "source": [
        "N = 10\n",
        "assets = np.zeros((N, 100))\n",
        "returns = np.zeros((N, 100))"
      ],
      "execution_count": 36,
      "outputs": []
    },
    {
      "cell_type": "code",
      "metadata": {
        "id": "Gknu6Z0-PhIP"
      },
      "source": [
        "#My example\n",
        "M = 100\n",
        "assets_2 = np.zeros((M, 100))\n",
        "returns_2 = np.zeros((M, 100))"
      ],
      "execution_count": 37,
      "outputs": []
    },
    {
      "cell_type": "markdown",
      "metadata": {
        "id": "78sOAwKHCwqQ"
      },
      "source": [
        "This function, `zeroes()`, creates a NumPy array with the given dimensions that is entirely filled in with $0$. We can pass a single value or a tuple of as many dimensions as we like. Passing in the tuple `(N, 100)`, will return a two-dimensional array with $N$ rows and $100$ columns. Our result is a $N \\times 100$ array.\n",
        "\n",
        "Now we will simulate a base asset. We want the universe of stocks to be correlated with each other so we will use this initial value to generate the others."
      ]
    },
    {
      "cell_type": "code",
      "metadata": {
        "id": "44vWdfmaCwqQ"
      },
      "source": [
        "R_1 = np.random.normal(1.01, 0.03, 100)\n",
        "returns[0] = R_1\n",
        "assets[0] = np.cumprod(R_1)"
      ],
      "execution_count": 38,
      "outputs": []
    },
    {
      "cell_type": "code",
      "metadata": {
        "id": "gk78CQZ3Zklr"
      },
      "source": [
        "#My example\n",
        "R_2 = np.random.normal(10,3,100)\n",
        "returns_2[0] = R_2\n",
        "assets_2[0] = np.cumprod(R_1)"
      ],
      "execution_count": 39,
      "outputs": []
    },
    {
      "cell_type": "markdown",
      "metadata": {
        "id": "zPvFsznpCwqQ"
      },
      "source": [
        "The `random` module in NumPy is exceedingly useful. It contains methods for sampling from many different probability distributions, some of which are covered in the [random variables lecture](https://www.quantopian.com/lectures/random-variables) in the Quantopian lecture series. In this case we draw $N = 100$ random samples from a normal distribution with mean $1.01$ and standard deviation $0.03$. We treat these as the daily percentage returns of our asset and take the cumulative product of these samples to get the current price.\n",
        "\n",
        "The way we have generated our universe, the the individual $R_i$ vectors are each 1-dimensional arrays and the `returns` and `assets` variables contain 2-dimensional arrays. Above, we set the initial row of both `returns` and `assets` to be the first $R_i$ vector and the cumulative asset price based on those returns, respectively.\n",
        "\n",
        "We will now use this base asset to create a few other random assets that are correlated with it."
      ]
    },
    {
      "cell_type": "code",
      "metadata": {
        "id": "ZMGLLedoCwqR"
      },
      "source": [
        "# Generate assets that are correlated with R_1\n",
        "for i in range(1, N):\n",
        "    R_i = R_1 + np.random.normal(0.001, 0.02, 100)\n",
        "    returns[i] = R_i # Set each row of returns equal to the new R_i array\n",
        "    assets[i] = np.cumprod(R_i)\n",
        "    \n",
        "mean_returns = [(np.mean(R) - 1)*100 for R in returns]\n",
        "return_volatilities = [np.std(R) for R in returns]"
      ],
      "execution_count": 40,
      "outputs": []
    },
    {
      "cell_type": "code",
      "metadata": {
        "id": "m8IVDDRD1BrN"
      },
      "source": [
        "#My example\n",
        "for i in range(1, M):\n",
        "    R_i = R_2 + np.random.normal(1, 2, 100)\n",
        "    returns_2[i] = R_i # Set each row of returns equal to the new R_i array\n",
        "    assets_2[i] = np.cumprod(R_i)\n",
        "\n",
        "mean_returns_2 = [(np.mean(R_2) - 1)*100 for R_2 in returns_2]\n",
        "return_volatilities_2 = [np.std(R_2) for R_2 in returns_2]"
      ],
      "execution_count": 84,
      "outputs": []
    },
    {
      "cell_type": "markdown",
      "metadata": {
        "id": "GjP-jDmZCwqR"
      },
      "source": [
        "Here we generate the remaining $N - 1$ securities that we want in our universe by adding random noise to $R_1$. This ensures that our $N - 1$ other assets will be correlated with the base asset because they have some underlying information that is shared.\n",
        "\n",
        "Let's plot what the mean return of each asset looks like:"
      ]
    },
    {
      "cell_type": "code",
      "metadata": {
        "scrolled": false,
        "colab": {
          "base_uri": "https://localhost:8080/",
          "height": 294
        },
        "id": "1203gR1pCwqT",
        "outputId": "3ccc2883-ce1e-4450-c266-40b1d499d18e"
      },
      "source": [
        "plt.bar(np.arange(len(mean_returns)), mean_returns)\n",
        "plt.xlabel('Stock')\n",
        "plt.ylabel('Returns')\n",
        "plt.title('Returns for {0} Random Assets'.format(N));"
      ],
      "execution_count": 63,
      "outputs": [
        {
          "output_type": "display_data",
          "data": {
            "image/png": "[encoded data removed]",
            "text/plain": [
              "<Figure size 432x288 with 1 Axes>"
            ]
          },
          "metadata": {
            "tags": [],
            "needs_background": "light"
          }
        }
      ]
    },
    {
      "cell_type": "code",
      "metadata": {
        "colab": {
          "base_uri": "https://localhost:8080/",
          "height": 294
        },
        "id": "UNQdJ5wH1ADo",
        "outputId": "bd66de3e-f830-41c8-ef40-217a643bbea8"
      },
      "source": [
        "#My example\n",
        "plt.bar(np.arange(len(mean_returns_2)), mean_returns_2)\n",
        "plt.xlabel('Stock')\n",
        "plt.ylabel('Returns')\n",
        "plt.title('Returns for {0} Random Assets'.format(M));"
      ],
      "execution_count": 85,
      "outputs": [
        {
          "output_type": "display_data",
          "data": {
            "image/png": "[encoded data removed]",
            "text/plain": [
              "<Figure size 432x288 with 1 Axes>"
            ]
          },
          "metadata": {
            "tags": [],
            "needs_background": "light"
          }
        }
      ]
    },
    {
      "cell_type": "markdown",
      "metadata": {
        "id": "aHf3Bc0KCwqU"
      },
      "source": [
        "### Calculating Expected Return\n",
        "\n",
        "So we have a universe of stocks. Great! Now let's put them together in a portfolio and calculate its expected return and risk.\n",
        "\n",
        "We will start off by generating $N$ random weights for each asset in our portfolio."
      ]
    },
    {
      "cell_type": "code",
      "metadata": {
        "id": "uGqDe6NtCwqV"
      },
      "source": [
        "weights = np.random.uniform(0, 1, N)\n",
        "weights = weights/np.sum(weights)"
      ],
      "execution_count": 65,
      "outputs": []
    },
    {
      "cell_type": "code",
      "metadata": {
        "id": "Ui9l6APhXe2P"
      },
      "source": [
        "#My example\n",
        "weights_2 = np.random.beta(0.2, 0.8, M)\n",
        "weights_2 = weights_2/np.sum(weights_2)"
      ],
      "execution_count": 66,
      "outputs": []
    },
    {
      "cell_type": "markdown",
      "metadata": {
        "id": "raqTF3XACwqV"
      },
      "source": [
        "We have to rescale the weights so that they all add up to $1$. We do this by scaling the weights vector by the sum total of all the weights. This step ensures that we will be using $100\\%$ of the portfolio's cash.\n",
        "\n",
        "To calculate the mean return of the portfolio, we have to scale each asset's return by its designated weight. We can pull each element of each array and multiply them individually, but it's quicker to use NumPy's linear algebra methods. The function that we want is `dot()`. This will calculate the dot product between two arrays for us. So if $v = \\left[ 1, 2, 3 \\right]$ and $w = \\left[4, 5, 6 \\right]$, then:\n",
        "\n",
        "$$ v \\cdot w = 1 \\times 4 + 2 \\times 5 + 3 \\times 6 $$\n",
        "\n",
        "For a one-dimensional vector, the dot product will multiply each element pointwise and add all the products together! In our case, we have a vector of weights, $\\omega = \\left[ \\omega_1, \\omega_2, \\dots \\omega_N\\right]$ and a vector of returns, $\\mu = \\left[ \\mu_1, \\mu_2, \\dots, \\mu_N\\right]$. If we take the dot product of these two we will get:\n",
        "\n",
        "$$ \\omega \\cdot \\mu = \\omega_1\\mu_1 + \\omega_2\\mu_2 + \\dots + \\omega_N\\mu_N = \\mu_P $$\n",
        "\n",
        "This yields the sum of all the asset returns scaled by their respective weights. This the the portfolio's overall expected return!"
      ]
    },
    {
      "cell_type": "code",
      "metadata": {
        "id": "G6GW8rnICwqX",
        "colab": {
          "base_uri": "https://localhost:8080/"
        },
        "outputId": "542c778f-7f3e-499f-c2c5-47aa69c12e56"
      },
      "source": [
        "p_returns = np.dot(weights, mean_returns)\n",
        "print (\"Expected return of the portfolio: \", p_returns)"
      ],
      "execution_count": 67,
      "outputs": [
        {
          "output_type": "stream",
          "text": [
            "Expected return of the portfolio:  0.7711275013145784\n"
          ],
          "name": "stdout"
        }
      ]
    },
    {
      "cell_type": "code",
      "metadata": {
        "id": "hZ3H1952YD7_",
        "colab": {
          "base_uri": "https://localhost:8080/"
        },
        "outputId": "7890a57a-4ee9-4e5e-8d46-16f829bb34ad"
      },
      "source": [
        "#My example\n",
        "p_returns_2 = np.dot(weights_2, mean_returns_2)\n",
        "print (\"Expected return of the second portfolio: \", p_returns_2)"
      ],
      "execution_count": 68,
      "outputs": [
        {
          "output_type": "stream",
          "text": [
            "Expected return of the second portfolio:  835.9466482524903\n"
          ],
          "name": "stdout"
        }
      ]
    },
    {
      "cell_type": "markdown",
      "metadata": {
        "id": "w2MZO9BqYCaW"
      },
      "source": [
        ""
      ]
    },
    {
      "cell_type": "markdown",
      "metadata": {
        "id": "F_xnv3KICwqY"
      },
      "source": [
        "Calculating the mean return is fairly intuitive and does not require too much explanation of linear algebra. However, calculating the variance of our portfolio requires a bit more background."
      ]
    },
    {
      "cell_type": "markdown",
      "metadata": {
        "id": "U6Ef84F2CwqZ"
      },
      "source": [
        "#### Beware of NaN values\n",
        "\n",
        "Most of the time, all of these calculations will work without an issue. However, when working with real data we run the risk of having `nan` values in our arrays. This is NumPy's way of saying that the data there is missing or doesn't exist. These `nan` values can lead to errors in mathematical calculations so it is important to be aware of whether your array contains `nan` values and to know how to drop them."
      ]
    },
    {
      "cell_type": "code",
      "metadata": {
        "id": "SPg0YCbkCwqZ",
        "colab": {
          "base_uri": "https://localhost:8080/"
        },
        "outputId": "8da1004b-4337-42df-f7b0-32a0b810f519"
      },
      "source": [
        "v = np.array([1, 2, np.nan, 4, 5])\n",
        "print (v)"
      ],
      "execution_count": 69,
      "outputs": [
        {
          "output_type": "stream",
          "text": [
            "[ 1.  2. nan  4.  5.]\n"
          ],
          "name": "stdout"
        }
      ]
    },
    {
      "cell_type": "code",
      "metadata": {
        "colab": {
          "base_uri": "https://localhost:8080/"
        },
        "id": "J8nRojp3YWMx",
        "outputId": "2b1b0e6d-9d4f-4b0f-94c3-c342e133e987"
      },
      "source": [
        "#My example\n",
        "v_2 = np.array([3,5,9,np.nan,15,np.nan,9,7,np.nan,8])\n",
        "print (v_2)"
      ],
      "execution_count": 70,
      "outputs": [
        {
          "output_type": "stream",
          "text": [
            "[ 3.  5.  9. nan 15. nan  9.  7. nan  8.]\n"
          ],
          "name": "stdout"
        }
      ]
    },
    {
      "cell_type": "markdown",
      "metadata": {
        "id": "tCMJX41BCwqa"
      },
      "source": [
        "Let's see what happens when we try to take the mean of this array."
      ]
    },
    {
      "cell_type": "code",
      "metadata": {
        "id": "PfwKQY4BCwqa",
        "colab": {
          "base_uri": "https://localhost:8080/"
        },
        "outputId": "e65a5650-5c9e-46db-98a2-ac6b8593b7bf"
      },
      "source": [
        "print (np.mean(v))"
      ],
      "execution_count": 71,
      "outputs": [
        {
          "output_type": "stream",
          "text": [
            "nan\n"
          ],
          "name": "stdout"
        }
      ]
    },
    {
      "cell_type": "code",
      "metadata": {
        "colab": {
          "base_uri": "https://localhost:8080/"
        },
        "id": "DvFPss1tYr8e",
        "outputId": "53428c6e-984a-4253-c901-c85073fbd82d"
      },
      "source": [
        "#My example\n",
        "print (np.mean(v_2))"
      ],
      "execution_count": 72,
      "outputs": [
        {
          "output_type": "stream",
          "text": [
            "nan\n"
          ],
          "name": "stdout"
        }
      ]
    },
    {
      "cell_type": "markdown",
      "metadata": {
        "id": "ZPC9o_i-Cwqb"
      },
      "source": [
        "Clearly, `nan` values can have a large impact on our calculations. Fortunately, we can check for `nan` values with the `isnan()` function."
      ]
    },
    {
      "cell_type": "code",
      "metadata": {
        "id": "8zbWKBYJCwqb",
        "colab": {
          "base_uri": "https://localhost:8080/"
        },
        "outputId": "f7cb6961-2d39-47ae-9133-277a72254d4e"
      },
      "source": [
        "np.isnan(v)"
      ],
      "execution_count": 73,
      "outputs": [
        {
          "output_type": "execute_result",
          "data": {
            "text/plain": [
              "array([False, False,  True, False, False])"
            ]
          },
          "metadata": {
            "tags": []
          },
          "execution_count": 73
        }
      ]
    },
    {
      "cell_type": "code",
      "metadata": {
        "colab": {
          "base_uri": "https://localhost:8080/"
        },
        "id": "oUdSzGSRYyx1",
        "outputId": "49f570cd-d83d-4d3b-d6dc-d5c947e58aac"
      },
      "source": [
        "#My example\n",
        "np.isnan(v_2)"
      ],
      "execution_count": 74,
      "outputs": [
        {
          "output_type": "execute_result",
          "data": {
            "text/plain": [
              "array([False, False, False,  True, False,  True, False, False,  True,\n",
              "       False])"
            ]
          },
          "metadata": {
            "tags": []
          },
          "execution_count": 74
        }
      ]
    },
    {
      "cell_type": "markdown",
      "metadata": {
        "id": "8ff784S3Cwqb"
      },
      "source": [
        "Calling `isnan()` on an array will call the function on each value of the array, returning a value of `True` if the element is `nan` and `False` if the element is valid. Now, knowing whether your array contains `nan` values is all well and good, but how do we remove `nan`s? Handily enough, NumPy arrays can be indexed by boolean values (`True` or `False`). If we use a boolean array to index an array, we will remove all values of the array that register as `False` under the condition. We use the `isnan()` function in create a boolean array, assigning a `True` value to everything that is *not* `nan` and a `False` to the `nan`s and we use that to index the same array."
      ]
    },
    {
      "cell_type": "code",
      "metadata": {
        "id": "kyH3_0zUCwqc",
        "colab": {
          "base_uri": "https://localhost:8080/"
        },
        "outputId": "c2821e4c-3878-4662-c543-adca14d1d3a7"
      },
      "source": [
        "ix = ~np.isnan(v) # the ~ indicates a logical not, inverting the bools\n",
        "print (v[ix]) # We can also just write v = v[~np.isnan(v)]"
      ],
      "execution_count": 75,
      "outputs": [
        {
          "output_type": "stream",
          "text": [
            "[1. 2. 4. 5.]\n"
          ],
          "name": "stdout"
        }
      ]
    },
    {
      "cell_type": "code",
      "metadata": {
        "colab": {
          "base_uri": "https://localhost:8080/"
        },
        "id": "_d5_BqLSatQT",
        "outputId": "6ee3b4b3-ceac-40f2-b67f-67318b5a3726"
      },
      "source": [
        "#My example\n",
        "print (v_2[~np.isnan(v_2)]) "
      ],
      "execution_count": 76,
      "outputs": [
        {
          "output_type": "stream",
          "text": [
            "[ 3.  5.  9. 15.  9.  7.  8.]\n"
          ],
          "name": "stdout"
        }
      ]
    },
    {
      "cell_type": "markdown",
      "metadata": {
        "id": "eUP3KnL9Cwqd"
      },
      "source": [
        "There are a few shortcuts to this process in the form of NumPy functions specifically built to handle them, such as `nanmean()`."
      ]
    },
    {
      "cell_type": "code",
      "metadata": {
        "id": "2HbZJLbPCwqd",
        "colab": {
          "base_uri": "https://localhost:8080/"
        },
        "outputId": "995d0ae6-f17d-4953-bc85-8e5f168211ed"
      },
      "source": [
        "print (np.nanmean(v))"
      ],
      "execution_count": 77,
      "outputs": [
        {
          "output_type": "stream",
          "text": [
            "3.0\n"
          ],
          "name": "stdout"
        }
      ]
    },
    {
      "cell_type": "code",
      "metadata": {
        "colab": {
          "base_uri": "https://localhost:8080/"
        },
        "id": "jsQ2sWvva9hB",
        "outputId": "04622a57-7264-4fb7-d3cd-a909df4dccdb"
      },
      "source": [
        "#My example, a mean with nan values\n",
        "print (np.nanmean(v_2))"
      ],
      "execution_count": 78,
      "outputs": [
        {
          "output_type": "stream",
          "text": [
            "8.0\n"
          ],
          "name": "stdout"
        }
      ]
    },
    {
      "cell_type": "markdown",
      "metadata": {
        "id": "x83uE-BoCwqd"
      },
      "source": [
        "The `nanmean()` function simply calculates the mean of the array as if there were no `nan` values at all! There are a few more of these functions, so feel free to read more about them in the [documentation](https://docs.scipy.org/doc/numpy/user/index.html). These indeterminate values are more an issue with data than linear algebra itself so it is helpful that there are ways to handle them."
      ]
    },
    {
      "cell_type": "markdown",
      "metadata": {
        "id": "8e8sH_HTCwqe"
      },
      "source": [
        "### Conclusion\n",
        "\n",
        "Linear algebra is pervasive in finance and in general. For example, the calculation of *optimal* weights according to modern portfolio theory is done using linear algebra techniques. The arrays and functions in NumPy allow us to handle these calculations in an intuitive way. For a quick intro to linear algebra and how to use NumPy to do more significant matrix calculations, proceed to the next section."
      ]
    },
    {
      "cell_type": "markdown",
      "metadata": {
        "id": "nRrU_0pBCwqe"
      },
      "source": [
        "## A brief foray into linear algebra\n",
        "\n",
        "Let's start with a basic overview of some linear algebra. Linear algebra comes down to the multiplication and composition of scalar and matrix values. A scalar value is just a real number that we multiply against an array. When we scale a matrix or array using a scalar, we multiply each individual element of that matrix or array by the scalar.\n",
        "\n",
        "A matrix is a collection of values, typically represented by an $m \\times n$ grid, where $m$ is the number of rows and $n$ is the number of columns. The edge lengths $m$ and $n$ do not necessarily have to be different. If we have $m = n$, we call this a square matrix. A particularly interesting case of a matrix is when $m = 1$ or $n = 1$. In this case we have a special case of a matrix that we call a vector. While there is a matrix object in NumPy we will be doing everything using NumPy arrays because they can have dimensions greater than $2$. For the purpose of this section, we will be using matrix and array interchangeably.\n",
        "\n",
        "We can express the matrix equation as:\n",
        "\n",
        "$$ y = A\\cdot x $$\n",
        "\n",
        "Where $A$ is an $m \\times n$ matrix, $y$ is a $m \\times 1$ vector, and $x$ is a $n \\times 1$ vector. On the right-hand side of the equation we are multiplying a matrix by a vector. This requires a little bit more clarification, lest we think that we can go about multiplying any matrices by any other matrices.\n",
        "\n",
        "#### Matrix multiplication\n",
        "\n",
        "With matrix multiplication, the order in which the matrices are multiplied matters. Multiplying a matrix on the left side by another matrix may be just fine, but multiplying on the right may be undefined."
      ]
    },
    {
      "cell_type": "code",
      "metadata": {
        "collapsed": true,
        "id": "vxEVmxEwCwqf"
      },
      "source": [
        "A = np.array([\n",
        "        [1, 2, 3, 12, 6],\n",
        "        [4, 5, 6, 15, 20],\n",
        "        [7, 8, 9, 10, 10]        \n",
        "    ])\n",
        "B = np.array([\n",
        "        [4, 4, 2],\n",
        "        [2, 3, 1],\n",
        "        [6, 5, 8],\n",
        "        [9, 9, 9]\n",
        "    ])"
      ],
      "execution_count": 79,
      "outputs": []
    },
    {
      "cell_type": "code",
      "metadata": {
        "id": "8zGTa_AVbIZ6"
      },
      "source": [
        "#My example\n",
        "A_2 = np.array([\n",
        "        [1, 2, 3],\n",
        "        [4, 5, 6],\n",
        "        [7, 8, 9],\n",
        "        [10, 11, 12],\n",
        "        [13, 14, 15],\n",
        "        [16, 17, 18]\n",
        "    ])\n",
        "B_2 = np.array([\n",
        "        [1,3,5,7,9,11],\n",
        "        [2,4,6,8,10,12],      \n",
        "    ])"
      ],
      "execution_count": 80,
      "outputs": []
    },
    {
      "cell_type": "markdown",
      "metadata": {
        "id": "m93A7jcSCwqg"
      },
      "source": [
        "Notice that the above-defined matrices, $A$ and $B$, have different dimensions. $A$ is $3 \\times 5$ and $B$ is $4 \\times 3$. The general rule of what can and cannot be multiplied in which order is based on the dimensions of the matrices. Specifically, the number of columns in the matrix on the left must be equal to the number of rows in the matrix on the right. In super informal terms, let's say that we have an $m \\times n$ matrix and a $p \\times q$ matrix. If we multiply the first by the second on the right, we get the following:\n",
        "\n",
        "$$ (m \\times n) \\cdot (p \\times q) = (m \\times q) $$\n",
        "\n",
        "So the resultant product has the same number of rows as the left matrix and the same number of columns as the right matrix. This limitation of matrix multiplication with regards to dimensions is important to keep track of when writing code. To demonstrate this, we use the `dot()` function to multiply our matrices below:"
      ]
    },
    {
      "cell_type": "code",
      "metadata": {
        "id": "YlIGmJ9ECwqg",
        "colab": {
          "base_uri": "https://localhost:8080/",
          "height": 203
        },
        "outputId": "4db2fcbf-664b-43db-81ee-76f2dd0b97f3"
      },
      "source": [
        "print (np.dot(A, B))"
      ],
      "execution_count": 81,
      "outputs": [
        {
          "output_type": "error",
          "ename": "ValueError",
          "evalue": "ignored",
          "traceback": [
            "\u001b[0;31m---------------------------------------------------------------------------\u001b[0m",
            "\u001b[0;31mValueError\u001b[0m                                Traceback (most recent call last)",
            "\u001b[0;32m<ipython-input-81-39086c8c885f>\u001b[0m in \u001b[0;36m<module>\u001b[0;34m()\u001b[0m\n\u001b[0;32m----> 1\u001b[0;31m \u001b[0mprint\u001b[0m \u001b[0;34m(\u001b[0m\u001b[0mnp\u001b[0m\u001b[0;34m.\u001b[0m\u001b[0mdot\u001b[0m\u001b[0;34m(\u001b[0m\u001b[0mA\u001b[0m\u001b[0;34m,\u001b[0m \u001b[0mB\u001b[0m\u001b[0;34m)\u001b[0m\u001b[0;34m)\u001b[0m\u001b[0;34m\u001b[0m\u001b[0;34m\u001b[0m\u001b[0m\n\u001b[0m",
            "\u001b[0;32m<__array_function__ internals>\u001b[0m in \u001b[0;36mdot\u001b[0;34m(*args, **kwargs)\u001b[0m\n",
            "\u001b[0;31mValueError\u001b[0m: shapes (3,5) and (4,3) not aligned: 5 (dim 1) != 4 (dim 0)"
          ]
        }
      ]
    },
    {
      "cell_type": "code",
      "metadata": {
        "colab": {
          "base_uri": "https://localhost:8080/",
          "height": 221
        },
        "id": "KOQ4aMEOcVhk",
        "outputId": "6f57d89a-7f74-47cb-80e0-648fe9052dd3"
      },
      "source": [
        "#My example\n",
        "print (np.dot(A_2, B_2))"
      ],
      "execution_count": 96,
      "outputs": [
        {
          "output_type": "error",
          "ename": "ValueError",
          "evalue": "ignored",
          "traceback": [
            "\u001b[0;31m---------------------------------------------------------------------------\u001b[0m",
            "\u001b[0;31mValueError\u001b[0m                                Traceback (most recent call last)",
            "\u001b[0;32m<ipython-input-96-e74ce8fac4b5>\u001b[0m in \u001b[0;36m<module>\u001b[0;34m()\u001b[0m\n\u001b[1;32m      1\u001b[0m \u001b[0;31m#My example\u001b[0m\u001b[0;34m\u001b[0m\u001b[0;34m\u001b[0m\u001b[0;34m\u001b[0m\u001b[0m\n\u001b[0;32m----> 2\u001b[0;31m \u001b[0mprint\u001b[0m \u001b[0;34m(\u001b[0m\u001b[0mnp\u001b[0m\u001b[0;34m.\u001b[0m\u001b[0mdot\u001b[0m\u001b[0;34m(\u001b[0m\u001b[0mA_2\u001b[0m\u001b[0;34m,\u001b[0m \u001b[0mB_2\u001b[0m\u001b[0;34m)\u001b[0m\u001b[0;34m)\u001b[0m\u001b[0;34m\u001b[0m\u001b[0;34m\u001b[0m\u001b[0m\n\u001b[0m",
            "\u001b[0;32m<__array_function__ internals>\u001b[0m in \u001b[0;36mdot\u001b[0;34m(*args, **kwargs)\u001b[0m\n",
            "\u001b[0;31mValueError\u001b[0m: shapes (6,3) and (2,6) not aligned: 3 (dim 1) != 2 (dim 0)"
          ]
        }
      ]
    },
    {
      "cell_type": "markdown",
      "metadata": {
        "id": "tOg8zfRrCwqg"
      },
      "source": [
        "These results make sense in accordance with our rule. Multiplying a $3 \\times 5$ matrix on the right by a $4 \\times 3$ matrix results in an error while multiplying a $4 \\times 3$ matrix on the right by a $3 \\times 5$ matrix results in a $4 \\times 5$ matrix."
      ]
    },
    {
      "cell_type": "code",
      "metadata": {
        "id": "8VKFyhcYCwqg",
        "colab": {
          "base_uri": "https://localhost:8080/"
        },
        "outputId": "b8d91e67-2faa-4af8-afe9-d5df5e02da4b"
      },
      "source": [
        "print (np.dot(B, A))"
      ],
      "execution_count": 97,
      "outputs": [
        {
          "output_type": "stream",
          "text": [
            "[[ 34  44  54 128 124]\n",
            " [ 21  27  33  79  82]\n",
            " [ 82 101 120 227 216]\n",
            " [108 135 162 333 324]]\n"
          ],
          "name": "stdout"
        }
      ]
    },
    {
      "cell_type": "code",
      "metadata": {
        "colab": {
          "base_uri": "https://localhost:8080/"
        },
        "id": "mZ3iXe89cARV",
        "outputId": "29bf9e66-8f69-4b47-875d-b8b368d5e575"
      },
      "source": [
        "#My example\n",
        "print (np.dot(B_2, A_2))"
      ],
      "execution_count": 98,
      "outputs": [
        {
          "output_type": "stream",
          "text": [
            "[[411 447 483]\n",
            " [462 504 546]]\n"
          ],
          "name": "stdout"
        }
      ]
    },
    {
      "cell_type": "markdown",
      "metadata": {
        "id": "CLt4PhDzCwqh"
      },
      "source": [
        "### Portfolio Variance\n",
        "\n",
        "Let's return to our portfolio example from before. We calculated the expected return of the portfolio, but how do we calculate the variance? We start by trying to evaluate the portfolio as a sum of each individual asset, scaled by it's weight.\n",
        "\n",
        "$$ VAR[P] = VAR[\\omega_1 S_1 + \\omega_2 S_2 + \\cdots + \\omega_N S_N] $$\n",
        "\n",
        "Where $S_0, \\cdots, S_N$ are the assets contained within our universe. If all of our assets were independent of each other, we could simply evaluate this as\n",
        "\n",
        "$$ VAR[P] = VAR[\\omega_1 S_1] + VAR[\\omega_2 S_2] + \\cdots + VAR[\\omega_N S_N] = \\omega_1^2\\sigma_1^2 + \\omega_2^2\\sigma_2^2 + \\cdots + \\omega_N^2\\sigma_N^2 $$\n",
        "\n",
        "However, all of our assets depend on each other by their construction. They are all in some way related to our base asset and therefore each other. We thus have to calculate the variance of the portfolio by including the individual pairwise covariances of each asset. Our formula for the variance of the portfolio:\n",
        "\n",
        "$$ VAR[P] = \\sigma_P^2 = \\sum_i \\omega_i^2\\sigma_i^2 + \\sum_i\\sum_{i\\neq j} \\omega_i\\omega_j\\sigma_i\\sigma_j\\rho_{i, j}, \\ i, j \\in \\lbrace 1, 2, \\cdots, N \\rbrace $$\n",
        "\n",
        "Where $\\rho_{i,j}$ is the correlation between $S_i$ and $S_j$, $\\rho_{i, j} = \\frac{COV[S_i, S_j]}{\\sigma_i\\sigma_j}$. This seems exceedingly complicated, but we can easily handle all of this using NumPy arrays. First, we calculate the covariance matrix that relates all the individual stocks in our universe."
      ]
    },
    {
      "cell_type": "code",
      "metadata": {
        "id": "xVF4kRfmCwqh",
        "colab": {
          "base_uri": "https://localhost:8080/"
        },
        "outputId": "61ef31c8-7bc5-4fe0-a8bb-e0eef820e23b"
      },
      "source": [
        "cov_mat = np.cov(returns)\n",
        "print (cov_mat)"
      ],
      "execution_count": 99,
      "outputs": [
        {
          "output_type": "stream",
          "text": [
            "[[0.0009303  0.00088595 0.0008654  0.00094354 0.00087811 0.00088789\n",
            "  0.00086023 0.00090221 0.00100629 0.00098062]\n",
            " [0.00088595 0.00124308 0.00079508 0.00085016 0.00089177 0.00079783\n",
            "  0.00079673 0.00080893 0.00091736 0.00090805]\n",
            " [0.0008654  0.00079508 0.00115406 0.0009196  0.00083012 0.00086637\n",
            "  0.0008222  0.00082866 0.00104096 0.00089129]\n",
            " [0.00094354 0.00085016 0.0009196  0.00137994 0.00094095 0.00096557\n",
            "  0.00092745 0.00094458 0.00101814 0.00100555]\n",
            " [0.00087811 0.00089177 0.00083012 0.00094095 0.00128839 0.00078181\n",
            "  0.00080317 0.00089642 0.00095811 0.00095006]\n",
            " [0.00088789 0.00079783 0.00086637 0.00096557 0.00078181 0.00120018\n",
            "  0.00090119 0.0008841  0.00101212 0.00089241]\n",
            " [0.00086023 0.00079673 0.0008222  0.00092745 0.00080317 0.00090119\n",
            "  0.00121447 0.00086802 0.00101261 0.00089349]\n",
            " [0.00090221 0.00080893 0.00082866 0.00094458 0.00089642 0.0008841\n",
            "  0.00086802 0.001223   0.00098499 0.00090691]\n",
            " [0.00100629 0.00091736 0.00104096 0.00101814 0.00095811 0.00101212\n",
            "  0.00101261 0.00098499 0.00158592 0.00101811]\n",
            " [0.00098062 0.00090805 0.00089129 0.00100555 0.00095006 0.00089241\n",
            "  0.00089349 0.00090691 0.00101811 0.0014744 ]]\n"
          ],
          "name": "stdout"
        }
      ]
    },
    {
      "cell_type": "code",
      "metadata": {
        "colab": {
          "base_uri": "https://localhost:8080/"
        },
        "id": "xdxgDnrIdAWm",
        "outputId": "b16caa58-e44f-46b2-f592-a76b071ee829"
      },
      "source": [
        "#My example\n",
        "cov_mat_2 = np.cov(returns_2)\n",
        "print (cov_mat_2)"
      ],
      "execution_count": 100,
      "outputs": [
        {
          "output_type": "stream",
          "text": [
            "[[ 8.22900418  8.2924305   8.197109    7.68035177  7.91022777  8.61478528\n",
            "   7.86649861  7.3272022   7.89060869  7.88103915  8.07212327  8.2968026\n",
            "   8.22895734  8.77351304  8.19857016  8.0043338   8.3775841   7.41505645\n",
            "   8.7089441   8.45289556]\n",
            " [ 8.2924305  12.60493553  8.74574482  7.99987399  8.64987788  8.8510844\n",
            "   7.51290227  7.93726186  8.48970403  8.25494965  7.85298953  8.79256438\n",
            "   7.91997466  8.53361018  8.09701477  7.90311096  9.07742006  7.27309038\n",
            "   8.36713358  8.77320089]\n",
            " [ 8.197109    8.74574482 11.85974315  7.19028749  7.49763226  8.55233314\n",
            "   8.05318036  7.52597256  8.24103607  8.12700123  8.42498273  7.92372211\n",
            "   7.81895345  9.32174635  8.40027072  7.3574833   8.84126465  7.69977261\n",
            "   8.40587762  8.95848351]\n",
            " [ 7.68035177  7.99987399  7.19028749 12.64725345  8.10863406  8.44142734\n",
            "   7.91162086  6.30573733  7.07070265  7.25840322  6.65432913  7.3817792\n",
            "   7.7027659   7.89810754  8.03294145  8.06582056  7.3971845   6.99505096\n",
            "   7.84748063  7.81252719]\n",
            " [ 7.91022777  8.64987788  7.49763226  8.10863406 11.6866987   7.7264994\n",
            "   7.67263431  6.91848466  8.01912628  7.69346057  7.8182558   8.37407416\n",
            "   7.76251806  7.87951608  8.06060419  7.24554621  7.97070727  6.68505397\n",
            "   7.92740135  8.18195293]\n",
            " [ 8.61478528  8.8510844   8.55233314  8.44142734  7.7264994  13.24394492\n",
            "   8.24130348  7.40023944  7.4552232   7.80921024  7.65015947  8.38595737\n",
            "   8.41042752  9.49258455  8.77595265  9.1312507   8.82015461  7.93204789\n",
            "   8.90870118  8.72888748]\n",
            " [ 7.86649861  7.51290227  8.05318036  7.91162086  7.67263431  8.24130348\n",
            "  12.40990167  6.47405266  8.337716    7.47292288  7.87565019  7.44256503\n",
            "   7.84941932  8.33006643  7.25444854  8.42849103  8.01549101  8.13034437\n",
            "   8.84499399  8.79369849]\n",
            " [ 7.3272022   7.93726186  7.52597256  6.30573733  6.91848466  7.40023944\n",
            "   6.47405266 10.38456758  7.60486191  7.6093952   6.78389072  7.05690054\n",
            "   7.35770862  7.30336403  7.14385277  6.84446455  7.33431816  6.7955538\n",
            "   8.27299163  7.63304428]\n",
            " [ 7.89060869  8.48970403  8.24103607  7.07070265  8.01912628  7.4552232\n",
            "   8.337716    7.60486191 10.5663591   7.81382433  7.95872728  7.78764641\n",
            "   8.04911799  8.64060827  7.04492216  7.54217353  7.70611648  7.07149143\n",
            "   8.69226411  8.78514282]\n",
            " [ 7.88103915  8.25494965  8.12700123  7.25840322  7.69346057  7.80921024\n",
            "   7.47292288  7.6093952   7.81382433 11.78605512  7.22420013  8.62885009\n",
            "   7.59923869  7.89513814  7.82375006  7.52814417  8.27814564  7.56523622\n",
            "   8.25804816  7.85530634]\n",
            " [ 8.07212327  7.85298953  8.42498273  6.65432913  7.8182558   7.65015947\n",
            "   7.87565019  6.78389072  7.95872728  7.22420013 11.22434782  8.00173805\n",
            "   8.44634238  8.7159129   7.06330161  7.71596559  8.5143173   7.08030062\n",
            "   8.30175866  7.99070847]\n",
            " [ 8.2968026   8.79256438  7.92372211  7.3817792   8.37407416  8.38595737\n",
            "   7.44256503  7.05690054  7.78764641  8.62885009  8.00173805 12.24861121\n",
            "   8.49746347  8.10656766  8.47623242  8.13918362  8.89040843  7.23652935\n",
            "   8.59279543  7.95451525]\n",
            " [ 8.22895734  7.91997466  7.81895345  7.7027659   7.76251806  8.41042752\n",
            "   7.84941932  7.35770862  8.04911799  7.59923869  8.44634238  8.49746347\n",
            "  12.47227957  9.23069052  8.43395462  8.18894854  8.23323479  7.73638433\n",
            "   8.6297655   8.71057915]\n",
            " [ 8.77351304  8.53361018  9.32174635  7.89810754  7.87951608  9.49258455\n",
            "   8.33006643  7.30336403  8.64060827  7.89513814  8.7159129   8.10656766\n",
            "   9.23069052 13.13610953  9.07430173  8.89371097  8.47884248  7.83826056\n",
            "   9.59718414  9.31021648]\n",
            " [ 8.19857016  8.09701477  8.40027072  8.03294145  8.06060419  8.77595265\n",
            "   7.25444854  7.14385277  7.04492216  7.82375006  7.06330161  8.47623242\n",
            "   8.43395462  9.07430173 12.65712009  6.94329524  8.6754372   7.09910716\n",
            "   8.83104447  8.78766169]\n",
            " [ 8.0043338   7.90311096  7.3574833   8.06582056  7.24554621  9.1312507\n",
            "   8.42849103  6.84446455  7.54217353  7.52814417  7.71596559  8.13918362\n",
            "   8.18894854  8.89371097  6.94329524 11.44629637  7.5588932   7.60378441\n",
            "   8.10298982  8.37715645]\n",
            " [ 8.3775841   9.07742006  8.84126465  7.3971845   7.97070727  8.82015461\n",
            "   8.01549101  7.33431816  7.70611648  8.27814564  8.5143173   8.89040843\n",
            "   8.23323479  8.47884248  8.6754372   7.5588932  12.2216929   7.45046672\n",
            "   8.32943143  8.87035244]\n",
            " [ 7.41505645  7.27309038  7.69977261  6.99505096  6.68505397  7.93204789\n",
            "   8.13034437  6.7955538   7.07149143  7.56523622  7.08030062  7.23652935\n",
            "   7.73638433  7.83826056  7.09910716  7.60378441  7.45046672 11.08418673\n",
            "   7.63417489  7.06368093]\n",
            " [ 8.7089441   8.36713358  8.40587762  7.84748063  7.92740135  8.90870118\n",
            "   8.84499399  8.27299163  8.69226411  8.25804816  8.30175866  8.59279543\n",
            "   8.6297655   9.59718414  8.83104447  8.10298982  8.32943143  7.63417489\n",
            "  12.586468    8.83772031]\n",
            " [ 8.45289556  8.77320089  8.95848351  7.81252719  8.18195293  8.72888748\n",
            "   8.79369849  7.63304428  8.78514282  7.85530634  7.99070847  7.95451525\n",
            "   8.71057915  9.31021648  8.78766169  8.37715645  8.87035244  7.06368093\n",
            "   8.83772031 13.51448922]]\n"
          ],
          "name": "stdout"
        }
      ]
    },
    {
      "cell_type": "markdown",
      "metadata": {
        "id": "lCjENt24Cwqh"
      },
      "source": [
        "This array is not formatted particularly nicely, but a covariance matrix is a very important concept. The covariance matrix is of the form:\n",
        "\n",
        "$$ \\left[\\begin{matrix}\n",
        "VAR[S_1] & COV[S_1, S_2] & \\cdots & COV[S_1, S_N] \\\\\n",
        "COV[S_2, S_1] & VAR[S_2] & \\cdots & COV[S_2, S_N] \\\\\n",
        "\\vdots & \\vdots & \\ddots & \\vdots \\\\\n",
        "COV[S_N, S_1] & COV[S_N, S_2] & \\cdots & VAR[S_N]\n",
        "\\end{matrix}\\right] $$\n",
        "\n",
        "So each diagonal entry is the variance of that asset at that index and each off-diagonal holds the covariance of two assets indexed by the column and row number. What is important is that once we have the covariance matrix we are able to do some very quick linear algebra to calculate the variance of the overall portfolio. We can represent the variance of the portfolio in array form as:\n",
        "\n",
        "$$ \\sigma_p^2 = \\omega \\ C \\ \\omega^\\intercal$$\n",
        "\n",
        "Where $C$ is the covariance matrix of all the assets and $\\omega$ is the array containing the weights of each individual asset. The superscript $\\intercal$ on the second $\\omega$ listed above denotes the **transpose** of $\\omega$. For a reference on the evaluation of the variance of a portfolio as a matrix equation, please see the Wikipedia article on [modern portfolio theory](https://en.wikipedia.org/wiki/Modern_portfolio_theory).\n",
        "\n",
        "The transpose of an array is what you get when you switch the rows and columns of an array. This has the effect of reflecting an array across what you might imagine as a diagonal. For example, take our array $A$ from before:"
      ]
    },
    {
      "cell_type": "code",
      "metadata": {
        "id": "YM76vSE7Cwqi",
        "colab": {
          "base_uri": "https://localhost:8080/"
        },
        "outputId": "2f693caa-d130-46ef-ec98-bf10127d74e2"
      },
      "source": [
        "print (A)"
      ],
      "execution_count": 101,
      "outputs": [
        {
          "output_type": "stream",
          "text": [
            "[[ 1  2  3 12  6]\n",
            " [ 4  5  6 15 20]\n",
            " [ 7  8  9 10 10]]\n"
          ],
          "name": "stdout"
        }
      ]
    },
    {
      "cell_type": "code",
      "metadata": {
        "colab": {
          "base_uri": "https://localhost:8080/"
        },
        "id": "U_5kcsk-dQ4H",
        "outputId": "6e4b7ce4-90e1-4fb8-e1ba-5b50dd220886"
      },
      "source": [
        "#My example\n",
        "print (A_2)"
      ],
      "execution_count": 102,
      "outputs": [
        {
          "output_type": "stream",
          "text": [
            "[[ 1  2  3]\n",
            " [ 4  5  6]\n",
            " [ 7  8  9]\n",
            " [10 11 12]\n",
            " [13 14 15]\n",
            " [16 17 18]]\n"
          ],
          "name": "stdout"
        }
      ]
    },
    {
      "cell_type": "markdown",
      "metadata": {
        "id": "ffX8NDeBCwqi"
      },
      "source": [
        "The transpose looks like a mirror image of the same array."
      ]
    },
    {
      "cell_type": "code",
      "metadata": {
        "id": "f4c03_1qCwqk",
        "colab": {
          "base_uri": "https://localhost:8080/"
        },
        "outputId": "34374440-48d6-4296-a9a8-737acc4c4a5e"
      },
      "source": [
        "print (np.transpose(A))"
      ],
      "execution_count": 103,
      "outputs": [
        {
          "output_type": "stream",
          "text": [
            "[[ 1  4  7]\n",
            " [ 2  5  8]\n",
            " [ 3  6  9]\n",
            " [12 15 10]\n",
            " [ 6 20 10]]\n"
          ],
          "name": "stdout"
        }
      ]
    },
    {
      "cell_type": "code",
      "metadata": {
        "colab": {
          "base_uri": "https://localhost:8080/"
        },
        "id": "sFeQtgold8cP",
        "outputId": "24fbfff7-54d5-4963-8971-c9b28639e838"
      },
      "source": [
        "#My transpose matrix example\n",
        "print (np.transpose(A_2))"
      ],
      "execution_count": 104,
      "outputs": [
        {
          "output_type": "stream",
          "text": [
            "[[ 1  4  7 10 13 16]\n",
            " [ 2  5  8 11 14 17]\n",
            " [ 3  6  9 12 15 18]]\n"
          ],
          "name": "stdout"
        }
      ]
    },
    {
      "cell_type": "markdown",
      "metadata": {
        "id": "GKEcV7XDCwql"
      },
      "source": [
        "But $\\omega$ here is a 1-dimensional array, a vector! It makes perfect to take the transpose of $A$, a $3 \\times 5$ array, as the output will be a $5 \\times 3$ array, but a 1-dimensional array is not quite as intuitive. A typical 1-dimensional array can be thought of as a $1 \\times n$ horizontal vector. Thus, taking the tranpose of this array essentially means changing it into a $n \\times 1$ vertical vector. This makes sense because 1-dimensional arrays are still arrays and any multiplication done between 1-dimensional and higher dimensional arrays must keep in line with our dimensionality issue of matrix multiplication.\n",
        "\n",
        "To make a long story short, we think of $\\omega$ as $1 \\times N$ since we have $N$ securities. This makes it so that $\\omega^\\intercal$ is $N \\times 1$. Again, our covariance matrix is $N \\times N$. So the overall multiplication works out like so, in informal terms:\n",
        "\n",
        "$$ \\text{Dimensions}(\\sigma_p^2) = \\text{Dimensions}(\\omega C \\omega^\\intercal) = (1 \\times N)\\cdot (N \\times N)\\cdot (N \\times 1) = (1 \\times 1)$$\n",
        "\n",
        "Multiplying the covariance matrix on the left by the plain horizontal vector and on the right by that vector's transpose results in the calculation of a single scalar ($1 \\times 1$) value, our portfolio's variance.\n",
        "\n",
        "So knowing this, let's proceed and calculate the portfolio variance! We can easily calculate the product of these arrays by using `dot()` for matrix multiplication, though this time we have to do it twice."
      ]
    },
    {
      "cell_type": "code",
      "metadata": {
        "scrolled": false,
        "id": "PO6jamx0Cwqn",
        "colab": {
          "base_uri": "https://localhost:8080/"
        },
        "outputId": "972fddb2-31da-4584-e777-db350df4c372"
      },
      "source": [
        "# Calculating the portfolio volatility\n",
        "var_p = np.dot(np.dot(weights, cov_mat), weights.T)\n",
        "vol_p = np.sqrt(var_p)\n",
        "print (\"Portfolio volatility: \", vol_p)"
      ],
      "execution_count": 106,
      "outputs": [
        {
          "output_type": "stream",
          "text": [
            "Portfolio volatility:  0.03074912680898817\n"
          ],
          "name": "stdout"
        }
      ]
    },
    {
      "cell_type": "code",
      "metadata": {
        "id": "xFLSPqAmegMu",
        "colab": {
          "base_uri": "https://localhost:8080/"
        },
        "outputId": "eb85efb2-6fd2-4872-f83b-e286cbc5e7bf"
      },
      "source": [
        "# Myexample of calculating the portfolio volatility\n",
        "var_p_2 = np.dot(np.dot(weights_2, cov_mat_2), weights_2.T)\n",
        "vol_p_2 = np.sqrt(var_p_2)\n",
        "print (\"Portfolio volatility: \", vol_p_2)"
      ],
      "execution_count": 108,
      "outputs": [
        {
          "output_type": "stream",
          "text": [
            "Portfolio volatility:  3.0019757400412277\n"
          ],
          "name": "stdout"
        }
      ]
    },
    {
      "cell_type": "markdown",
      "metadata": {
        "id": "wzVzUlX0Cwqo"
      },
      "source": [
        "To confirm this calculation, let's simply evaluate the volatility of the portfolio using only NumPy functions."
      ]
    },
    {
      "cell_type": "code",
      "metadata": {
        "id": "GM1531dnCwqo",
        "colab": {
          "base_uri": "https://localhost:8080/"
        },
        "outputId": "2b0051e1-5077-4372-c28c-08a3025c51a4"
      },
      "source": [
        "# Confirming calculation\n",
        "vol_p_alt = np.sqrt(np.var(np.dot(weights, returns), ddof=1))\n",
        "print (\"Portfolio volatility: \", vol_p_alt)"
      ],
      "execution_count": 109,
      "outputs": [
        {
          "output_type": "stream",
          "text": [
            "Portfolio volatility:  0.030749126808988163\n"
          ],
          "name": "stdout"
        }
      ]
    },
    {
      "cell_type": "code",
      "metadata": {
        "colab": {
          "base_uri": "https://localhost:8080/"
        },
        "id": "CPVCSvJC4zVH",
        "outputId": "e03640a6-e67c-4b69-b970-7c8a125f7617"
      },
      "source": [
        "# My example, confirming calculation\n",
        "vol_p_alt_2 = np.sqrt(np.var(np.dot(weights_2, returns_2), ddof=1))\n",
        "print (\"Portfolio volatility: \", vol_p_alt_2)"
      ],
      "execution_count": 110,
      "outputs": [
        {
          "output_type": "stream",
          "text": [
            "Portfolio volatility:  3.0019757400412277\n"
          ],
          "name": "stdout"
        }
      ]
    },
    {
      "cell_type": "markdown",
      "metadata": {
        "id": "pk2xpQvNCwqp"
      },
      "source": [
        "The `ddof` parameter is a simple integer input that tells the function the number of degrees of freedom to take into account. This is a more statistical concept, but what this tells us that our matrix calculation is correct!\n",
        "\n",
        "A lot of this might not make sense at first glance. It helps to go back and forth between the theory and the code representations until you have a better grasp of the mathematics involved. It is definitely not necessary to be an expert on linear algebra and on matrix operations, but linear algebra can help to streamline the process of working with large amounts of data. For further reading on NumPy, check out the [documentation](https://docs.scipy.org/doc/numpy/user/index.html)."
      ]
    },
    {
      "cell_type": "markdown",
      "metadata": {
        "id": "1VRsqggPCwqp"
      },
      "source": [
        "*This presentation is for informational purposes only and does not constitute an offer to sell, a solicitation to buy, or a recommendation for any security; nor does it constitute an offer to provide investment advisory or other services by Quantopian, Inc. (\"Quantopian\"). Nothing contained herein constitutes investment advice or offers any opinion with respect to the suitability of any security, and any views expressed herein should not be taken as advice to buy, sell, or hold any security or as an endorsement of any security or company.  In preparing the information contained herein, Quantopian, Inc. has not taken into account the investment needs, objectives, and financial circumstances of any particular investor. Any views expressed and data illustrated herein were prepared based upon information, believed to be reliable, available to Quantopian, Inc. at the time of publication. Quantopian makes no guarantees as to their accuracy or completeness. All information is subject to change and may quickly become unreliable for various reasons, including changes in market conditions or economic circumstances.*"
      ]
    }
  ]
}