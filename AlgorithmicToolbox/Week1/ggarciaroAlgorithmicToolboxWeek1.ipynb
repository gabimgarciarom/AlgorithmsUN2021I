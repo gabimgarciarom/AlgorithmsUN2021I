{
  "nbformat": 4,
  "nbformat_minor": 0,
  "metadata": {
    "colab": {
      "name": "ggarciaroAlgorithmicToolboxWeek1.ipynb",
      "provenance": [],
      "collapsed_sections": []
    },
    "kernelspec": {
      "name": "python3",
      "display_name": "Python 3"
    },
    "language_info": {
      "name": "python"
    }
  },
  "cells": [
    {
      "cell_type": "markdown",
      "metadata": {
        "id": "N1ok_-56OjB1"
      },
      "source": [
        "# I Solving the Sum of Two Digits Programming Challenge"
      ]
    },
    {
      "cell_type": "markdown",
      "metadata": {
        "id": "MMY7kmDSO0KM"
      },
      "source": [
        "## C++"
      ]
    },
    {
      "cell_type": "code",
      "metadata": {
        "colab": {
          "base_uri": "https://localhost:8080/"
        },
        "id": "2pGGf9BkPNIk",
        "outputId": "fa1fbf44-292c-4164-d353-e02bc8c8266c"
      },
      "source": [
        "%%writefile sum.cpp\n",
        "#include <iostream>\n",
        "\n",
        "int sum_of_two_digits(int first_digit, int second_digit) {\n",
        "    return first_digit + second_digit;\n",
        "}\n",
        "\n",
        "int main() {\n",
        "    int a = 0;\n",
        "    int b = 0;\n",
        "    std::cin >> a;\n",
        "    std::cin >> b;\n",
        "    std::cout << sum_of_two_digits(a, b);\n",
        "    return 0;\n",
        "}"
      ],
      "execution_count": 1,
      "outputs": [
        {
          "output_type": "stream",
          "text": [
            "Writing sum.cpp\n"
          ],
          "name": "stdout"
        }
      ]
    },
    {
      "cell_type": "code",
      "metadata": {
        "colab": {
          "base_uri": "https://localhost:8080/"
        },
        "id": "0G3ZKOYAPXSU",
        "outputId": "f9582caf-dcc3-4e1c-9f01-cfce12292ed4"
      },
      "source": [
        "!g++ sum.cpp -o sum\n",
        "!./sum"
      ],
      "execution_count": 2,
      "outputs": [
        {
          "output_type": "stream",
          "text": [
            "4 3\n",
            "7"
          ],
          "name": "stdout"
        }
      ]
    },
    {
      "cell_type": "markdown",
      "metadata": {
        "id": "MMAXRZGNPpLR"
      },
      "source": [
        "**Group 14 solution**\n"
      ]
    },
    {
      "cell_type": "markdown",
      "metadata": {
        "id": "Zu2Enp99P4Sd"
      },
      "source": [
        "We take into account that the sum of the greatest input overflows the c++ interger datatype. Therefore, we change the result datatype to *long long*"
      ]
    },
    {
      "cell_type": "code",
      "metadata": {
        "colab": {
          "base_uri": "https://localhost:8080/"
        },
        "id": "1JaF7jYxP34l",
        "outputId": "64e80aae-7423-435b-a2a9-a961b1defef8"
      },
      "source": [
        "%%writefile sum_efficient.cpp\n",
        "#include <iostream>\n",
        "\n",
        "long long sum_of_two_digits(int first_digit, int second_digit) {\n",
        "    return (long long)first_digit + second_digit;\n",
        "}\n",
        "\n",
        "int main() {\n",
        "    int a = 0;\n",
        "    int b = 0;\n",
        "    std::cin >> a;\n",
        "    std::cin >> b;\n",
        "    std::cout << sum_of_two_digits(a, b);\n",
        "    return 0;\n",
        "}"
      ],
      "execution_count": 3,
      "outputs": [
        {
          "output_type": "stream",
          "text": [
            "Writing sum_efficient.cpp\n"
          ],
          "name": "stdout"
        }
      ]
    },
    {
      "cell_type": "code",
      "metadata": {
        "colab": {
          "base_uri": "https://localhost:8080/"
        },
        "id": "oNXiwxLJQkv4",
        "outputId": "f2215d80-7ba0-48a2-97e5-07c38b9cf5b6"
      },
      "source": [
        "!g++ sum_efficient.cpp -o sum_efficient\n",
        "!./sum_efficient"
      ],
      "execution_count": 4,
      "outputs": [
        {
          "output_type": "stream",
          "text": [
            "9 8\n",
            "17"
          ],
          "name": "stdout"
        }
      ]
    },
    {
      "cell_type": "markdown",
      "metadata": {
        "id": "iNkG2HqfTl9c"
      },
      "source": [
        "### Test input output files"
      ]
    },
    {
      "cell_type": "markdown",
      "metadata": {
        "id": "W30UPn7RRIqv"
      },
      "source": [
        "Testing with a small input"
      ]
    },
    {
      "cell_type": "code",
      "metadata": {
        "colab": {
          "base_uri": "https://localhost:8080/"
        },
        "id": "aTzU2efzMxly",
        "outputId": "f94bfd1c-812a-4e4e-e4f1-bee7cd98f96e"
      },
      "source": [
        "%%writefile input1.txt\n",
        "4 8"
      ],
      "execution_count": 5,
      "outputs": [
        {
          "output_type": "stream",
          "text": [
            "Writing input1.txt\n"
          ],
          "name": "stdout"
        }
      ]
    },
    {
      "cell_type": "code",
      "metadata": {
        "colab": {
          "base_uri": "https://localhost:8080/"
        },
        "id": "zBJ0Gc0NQRet",
        "outputId": "1fff42d1-c2fd-4692-b1ae-74407a49f713"
      },
      "source": [
        "%%writefile output1.txt\n",
        "12"
      ],
      "execution_count": 6,
      "outputs": [
        {
          "output_type": "stream",
          "text": [
            "Writing output1.txt\n"
          ],
          "name": "stdout"
        }
      ]
    },
    {
      "cell_type": "code",
      "metadata": {
        "colab": {
          "base_uri": "https://localhost:8080/"
        },
        "id": "PST6G-s-Pwgc",
        "outputId": "03bc59aa-81ee-499e-ccd3-b4135f80bb27"
      },
      "source": [
        "!./sum < input1.txt"
      ],
      "execution_count": 7,
      "outputs": [
        {
          "output_type": "stream",
          "text": [
            "12"
          ],
          "name": "stdout"
        }
      ]
    },
    {
      "cell_type": "code",
      "metadata": {
        "colab": {
          "base_uri": "https://localhost:8080/"
        },
        "id": "FxLvSsQXSP8A",
        "outputId": "86d1d1a6-1156-4639-99e5-445e5223cfdf"
      },
      "source": [
        "!./sum_efficient < input1.txt"
      ],
      "execution_count": 8,
      "outputs": [
        {
          "output_type": "stream",
          "text": [
            "12"
          ],
          "name": "stdout"
        }
      ]
    },
    {
      "cell_type": "markdown",
      "metadata": {
        "id": "ZvLGaGbuRMWS"
      },
      "source": [
        "Second test: negative numbers"
      ]
    },
    {
      "cell_type": "code",
      "metadata": {
        "colab": {
          "base_uri": "https://localhost:8080/"
        },
        "id": "IjEcIx63PJAN",
        "outputId": "efb1685f-8ae9-4dcc-f107-c51f5cb3cb17"
      },
      "source": [
        "%%writefile input2.txt\n",
        "-5 9"
      ],
      "execution_count": 9,
      "outputs": [
        {
          "output_type": "stream",
          "text": [
            "Writing input2.txt\n"
          ],
          "name": "stdout"
        }
      ]
    },
    {
      "cell_type": "code",
      "metadata": {
        "colab": {
          "base_uri": "https://localhost:8080/"
        },
        "id": "Up9gOrxURTmd",
        "outputId": "1c477101-4406-450c-e4b0-1d69ccf378e7"
      },
      "source": [
        "%%writefile output2.txt\n",
        "4"
      ],
      "execution_count": 10,
      "outputs": [
        {
          "output_type": "stream",
          "text": [
            "Writing output2.txt\n"
          ],
          "name": "stdout"
        }
      ]
    },
    {
      "cell_type": "code",
      "metadata": {
        "colab": {
          "base_uri": "https://localhost:8080/"
        },
        "id": "cKxZOjSlRfIN",
        "outputId": "d3724a8e-f1f9-4862-c2c7-7af51ddfce2b"
      },
      "source": [
        "!./sum < input2.txt"
      ],
      "execution_count": 11,
      "outputs": [
        {
          "output_type": "stream",
          "text": [
            "4"
          ],
          "name": "stdout"
        }
      ]
    },
    {
      "cell_type": "code",
      "metadata": {
        "colab": {
          "base_uri": "https://localhost:8080/"
        },
        "id": "j1McyzBRSSo2",
        "outputId": "93d7e817-8462-4d16-e395-40f834728e11"
      },
      "source": [
        "!./sum_efficient < input2.txt"
      ],
      "execution_count": 12,
      "outputs": [
        {
          "output_type": "stream",
          "text": [
            "4"
          ],
          "name": "stdout"
        }
      ]
    },
    {
      "cell_type": "markdown",
      "metadata": {
        "id": "N3WqdO6oTDMZ"
      },
      "source": [
        "Our example: biggest intergers test"
      ]
    },
    {
      "cell_type": "code",
      "metadata": {
        "id": "gMz7YLssPk4k",
        "colab": {
          "base_uri": "https://localhost:8080/"
        },
        "outputId": "e31b63ca-6709-4b3a-e7b3-1a88fcf0dd6f"
      },
      "source": [
        "%%writefile input3.txt\n",
        "2147483647 2147483647"
      ],
      "execution_count": 13,
      "outputs": [
        {
          "output_type": "stream",
          "text": [
            "Writing input3.txt\n"
          ],
          "name": "stdout"
        }
      ]
    },
    {
      "cell_type": "code",
      "metadata": {
        "colab": {
          "base_uri": "https://localhost:8080/"
        },
        "id": "ZYwo4tu6S799",
        "outputId": "8fc937d5-cd2a-4056-a274-d27f1be187e3"
      },
      "source": [
        "%%writefile output3.txt\n",
        "4294967294"
      ],
      "execution_count": 14,
      "outputs": [
        {
          "output_type": "stream",
          "text": [
            "Writing output3.txt\n"
          ],
          "name": "stdout"
        }
      ]
    },
    {
      "cell_type": "code",
      "metadata": {
        "colab": {
          "base_uri": "https://localhost:8080/"
        },
        "id": "OM767U93TLsn",
        "outputId": "ef34733a-ea9d-4a67-e4a2-83c0287118a7"
      },
      "source": [
        "!./sum < input3.txt"
      ],
      "execution_count": 15,
      "outputs": [
        {
          "output_type": "stream",
          "text": [
            "-2"
          ],
          "name": "stdout"
        }
      ]
    },
    {
      "cell_type": "code",
      "metadata": {
        "colab": {
          "base_uri": "https://localhost:8080/"
        },
        "id": "cMBCCcraTXbY",
        "outputId": "b6793bd9-a8d8-4505-ae88-7ac8814a93a7"
      },
      "source": [
        "!./sum_efficient < input3.txt"
      ],
      "execution_count": 16,
      "outputs": [
        {
          "output_type": "stream",
          "text": [
            "4294967294"
          ],
          "name": "stdout"
        }
      ]
    },
    {
      "cell_type": "markdown",
      "metadata": {
        "id": "Qw2TQWCCUwqk"
      },
      "source": [
        "### Comparing files with grep\n",
        "\n",
        "https://askubuntu.com/questions/546796/comparing-two-text-files"
      ]
    },
    {
      "cell_type": "code",
      "metadata": {
        "id": "WVIaAmMKU4QM"
      },
      "source": [
        "!grep -xvFf output1.txt output1.txt "
      ],
      "execution_count": 17,
      "outputs": []
    },
    {
      "cell_type": "code",
      "metadata": {
        "colab": {
          "base_uri": "https://localhost:8080/"
        },
        "id": "MQU8gPPjQuYO",
        "outputId": "5c32485f-8208-4e09-c934-16a0bf22c976"
      },
      "source": [
        "!grep -xvFf output1.txt output2.txt "
      ],
      "execution_count": 18,
      "outputs": [
        {
          "output_type": "stream",
          "text": [
            "4\n"
          ],
          "name": "stdout"
        }
      ]
    },
    {
      "cell_type": "code",
      "metadata": {
        "colab": {
          "base_uri": "https://localhost:8080/"
        },
        "id": "jYL9OuYBTD_l",
        "outputId": "14beb1d6-1d85-487e-9a7a-69d889fcd6f6"
      },
      "source": [
        "!grep -xvFf output2.txt output1.txt "
      ],
      "execution_count": 19,
      "outputs": [
        {
          "output_type": "stream",
          "text": [
            "12\n"
          ],
          "name": "stdout"
        }
      ]
    },
    {
      "cell_type": "markdown",
      "metadata": {
        "id": "1dHT07nITp9t"
      },
      "source": [
        "Comparing the expected outputs for the naive solution"
      ]
    },
    {
      "cell_type": "code",
      "metadata": {
        "id": "Jlja0Xm4TX9M"
      },
      "source": [
        "!./sum < input1.txt> ctest1.txt\n",
        "!grep -xvFf output1.txt ctest1.txt"
      ],
      "execution_count": 20,
      "outputs": []
    },
    {
      "cell_type": "code",
      "metadata": {
        "id": "g9OIUZA_QLCQ"
      },
      "source": [
        "!./sum < input2.txt > ctest2.txt\n",
        "!grep -xvFf output2.txt ctest2.txt"
      ],
      "execution_count": 21,
      "outputs": []
    },
    {
      "cell_type": "code",
      "metadata": {
        "colab": {
          "base_uri": "https://localhost:8080/"
        },
        "id": "_oCqA30tV3hw",
        "outputId": "9983452a-6968-4e47-8fa7-c006a992c05c"
      },
      "source": [
        "!./sum < input3.txt> ctest3.txt\n",
        "!grep -xvFf output3.txt ctest3.txt"
      ],
      "execution_count": 22,
      "outputs": [
        {
          "output_type": "stream",
          "text": [
            "-2\n"
          ],
          "name": "stdout"
        }
      ]
    },
    {
      "cell_type": "markdown",
      "metadata": {
        "id": "HzD3YXX7PMTc"
      },
      "source": [
        "Comparing the expected outputs for the efficient solution"
      ]
    },
    {
      "cell_type": "code",
      "metadata": {
        "id": "1p2jkydlPTbn",
        "colab": {
          "base_uri": "https://localhost:8080/"
        },
        "outputId": "e04ddd7b-81d1-42b2-cdc8-e0031d221064"
      },
      "source": [
        "!./sumEfficient < input1.txt> ctest1.txt\n",
        "!grep -xvFf output1.txt ctest1.txt"
      ],
      "execution_count": 23,
      "outputs": [
        {
          "output_type": "stream",
          "text": [
            "/bin/bash: ./sumEfficient: No such file or directory\n"
          ],
          "name": "stdout"
        }
      ]
    },
    {
      "cell_type": "code",
      "metadata": {
        "id": "mGmCeSN5PTb2",
        "colab": {
          "base_uri": "https://localhost:8080/"
        },
        "outputId": "784ad50d-02e6-44c9-da9b-22045024055e"
      },
      "source": [
        "!./sumEfficient < input2.txt > ctest2.txt\n",
        "!grep -xvFf output2.txt ctest2.txt"
      ],
      "execution_count": 24,
      "outputs": [
        {
          "output_type": "stream",
          "text": [
            "/bin/bash: ./sumEfficient: No such file or directory\n"
          ],
          "name": "stdout"
        }
      ]
    },
    {
      "cell_type": "code",
      "metadata": {
        "id": "MhicXpc5WJsT",
        "colab": {
          "base_uri": "https://localhost:8080/"
        },
        "outputId": "5467290e-23b1-4d57-b9a7-0d6d0c165d3e"
      },
      "source": [
        "!./sumEfficient< input3.txt> ctest3.txt\n",
        "!grep -xvFf output3.txt ctest3.txt"
      ],
      "execution_count": 25,
      "outputs": [
        {
          "output_type": "stream",
          "text": [
            "/bin/bash: ./sumEfficient: No such file or directory\n"
          ],
          "name": "stdout"
        }
      ]
    },
    {
      "cell_type": "markdown",
      "metadata": {
        "id": "3BgOaDjUVJk6"
      },
      "source": [
        "## Python"
      ]
    },
    {
      "cell_type": "code",
      "metadata": {
        "colab": {
          "base_uri": "https://localhost:8080/"
        },
        "id": "DBvl-T0CTN_8",
        "outputId": "87fe962d-9b9e-4681-83ba-46b8f44b6587"
      },
      "source": [
        "%%writefile sum.py\n",
        "# python3\n",
        "\n",
        "\n",
        "def sum_of_two_digits(first_digit, second_digit):\n",
        "    return first_digit + second_digit\n",
        "\n",
        "if __name__ == '__main__':\n",
        "    a, b = map(int, input().split())\n",
        "    print(sum_of_two_digits(a, b))"
      ],
      "execution_count": 26,
      "outputs": [
        {
          "output_type": "stream",
          "text": [
            "Writing sum.py\n"
          ],
          "name": "stdout"
        }
      ]
    },
    {
      "cell_type": "code",
      "metadata": {
        "colab": {
          "base_uri": "https://localhost:8080/"
        },
        "id": "QKoKM11_WGyF",
        "outputId": "f1a84198-9bfd-4cd7-a100-28b45d4cc460"
      },
      "source": [
        "!python sum.py"
      ],
      "execution_count": 27,
      "outputs": [
        {
          "output_type": "stream",
          "text": [
            "7 5\n",
            "12\n"
          ],
          "name": "stdout"
        }
      ]
    },
    {
      "cell_type": "markdown",
      "metadata": {
        "id": "PPFBLnKcUEdu"
      },
      "source": [
        "Testing with a small input"
      ]
    },
    {
      "cell_type": "code",
      "metadata": {
        "id": "cocFbPRTWrqt"
      },
      "source": [
        "!python sum.py  < input1.txt> ptest1.txt\n",
        "!grep -xvFf output1.txt ptest1.txt"
      ],
      "execution_count": 28,
      "outputs": []
    },
    {
      "cell_type": "markdown",
      "metadata": {
        "id": "a6si_Q1OUF3R"
      },
      "source": [
        "Second test: negative numbers"
      ]
    },
    {
      "cell_type": "code",
      "metadata": {
        "id": "MorKTa-XXASN"
      },
      "source": [
        "!python sum.py  < input2.txt> ptest2.txt\n",
        "!grep -xvFf output2.txt ptest2.txt"
      ],
      "execution_count": 29,
      "outputs": []
    },
    {
      "cell_type": "markdown",
      "metadata": {
        "id": "eOAWy34SWiyr"
      },
      "source": [
        "Our example: biggest intergers test. As we can observe no overflow occurs on python, this happens because there is no limit of the interger value in python language"
      ]
    },
    {
      "cell_type": "code",
      "metadata": {
        "id": "MzVjlByYXA5D"
      },
      "source": [
        "!python sum.py  < input3.txt> ptest3.txt\n",
        "!grep -xvFf output3.txt ptest3.txt"
      ],
      "execution_count": 30,
      "outputs": []
    },
    {
      "cell_type": "markdown",
      "metadata": {
        "id": "uvP-mOubW_5F"
      },
      "source": [
        "# II Solving The Maximum Pairwise Product Programming Challenge in C++"
      ]
    },
    {
      "cell_type": "markdown",
      "metadata": {
        "id": "C12yoFR6Xonl"
      },
      "source": [
        "## C++"
      ]
    },
    {
      "cell_type": "code",
      "metadata": {
        "colab": {
          "base_uri": "https://localhost:8080/"
        },
        "id": "YL4qJX3tXxdd",
        "outputId": "2fd6a6a2-79ec-430d-dc75-e2ffcae1476c"
      },
      "source": [
        "%%writefile max_pairwise_product.cpp\n",
        "#include <iostream>\n",
        "#include <vector>\n",
        "#include <algorithm>\n",
        "\n",
        "int MaxPairwiseProduct(const std::vector<int>& numbers) {\n",
        "    int max_product = 0;\n",
        "    int n = numbers.size();\n",
        "\n",
        "    for (int first = 0; first < n; ++first) {\n",
        "        for (int second = first + 1; second < n; ++second) {\n",
        "            max_product = std::max(max_product,\n",
        "                numbers[first] * numbers[second]);\n",
        "        }\n",
        "    }\n",
        "\n",
        "    return max_product;\n",
        "}\n",
        "\n",
        "int main() {\n",
        "    int n;\n",
        "    std::cin >> n;\n",
        "    std::vector<int> numbers(n);\n",
        "    for (int i = 0; i < n; ++i) {\n",
        "        std::cin >> numbers[i];\n",
        "    }\n",
        "\n",
        "    std::cout << MaxPairwiseProduct(numbers) << \"\\n\";\n",
        "    return 0;\n",
        "}\n"
      ],
      "execution_count": 31,
      "outputs": [
        {
          "output_type": "stream",
          "text": [
            "Writing max_pairwise_product.cpp\n"
          ],
          "name": "stdout"
        }
      ]
    },
    {
      "cell_type": "code",
      "metadata": {
        "colab": {
          "base_uri": "https://localhost:8080/"
        },
        "id": "KGxaEjvWX__O",
        "outputId": "299fda29-6871-4eac-bf71-ed506c251024"
      },
      "source": [
        "!g++ max_pairwise_product.cpp -o max_pairwise_product\n",
        "!./max_pairwise_product"
      ],
      "execution_count": 32,
      "outputs": [
        {
          "output_type": "stream",
          "text": [
            "3\n",
            "1 4 5\n",
            "20\n"
          ],
          "name": "stdout"
        }
      ]
    },
    {
      "cell_type": "markdown",
      "metadata": {
        "id": "qGP7jLwiIsZG"
      },
      "source": [
        "### Test 1: small numbers"
      ]
    },
    {
      "cell_type": "code",
      "metadata": {
        "colab": {
          "base_uri": "https://localhost:8080/"
        },
        "id": "kgBJ43B9JMxQ",
        "outputId": "a2dbec08-0bcb-4545-a4c6-9224dcc6f212"
      },
      "source": [
        "%%writefile input1.txt\n",
        "6\n",
        "1 2 3 4 5 6"
      ],
      "execution_count": 33,
      "outputs": [
        {
          "output_type": "stream",
          "text": [
            "Overwriting input1.txt\n"
          ],
          "name": "stdout"
        }
      ]
    },
    {
      "cell_type": "code",
      "metadata": {
        "colab": {
          "base_uri": "https://localhost:8080/"
        },
        "id": "yyr_2S_XJMxS",
        "outputId": "57202afa-706d-46df-cdae-49eccdf1acc5"
      },
      "source": [
        "%%writefile output1.txt\n",
        "30"
      ],
      "execution_count": 34,
      "outputs": [
        {
          "output_type": "stream",
          "text": [
            "Overwriting output1.txt\n"
          ],
          "name": "stdout"
        }
      ]
    },
    {
      "cell_type": "code",
      "metadata": {
        "colab": {
          "base_uri": "https://localhost:8080/"
        },
        "id": "Q-Zr-U2vJAMd",
        "outputId": "eae57bca-63ff-4a23-fb71-aa46b682a609"
      },
      "source": [
        "!./max_pairwise_product < input1.txt"
      ],
      "execution_count": 35,
      "outputs": [
        {
          "output_type": "stream",
          "text": [
            "30\n"
          ],
          "name": "stdout"
        }
      ]
    },
    {
      "cell_type": "code",
      "metadata": {
        "id": "WXTmvnyCJAMg"
      },
      "source": [
        "!./max_pairwise_product  < input1.txt> ctest1.txt\n",
        "!grep -xvFf output1.txt ctest1.txt"
      ],
      "execution_count": 36,
      "outputs": []
    },
    {
      "cell_type": "markdown",
      "metadata": {
        "id": "IeZ3kTjpYmR9"
      },
      "source": [
        "### Test 2: lagest input numbers 200000 200000 in the input"
      ]
    },
    {
      "cell_type": "code",
      "metadata": {
        "colab": {
          "base_uri": "https://localhost:8080/"
        },
        "id": "LQNlZqaqYt7U",
        "outputId": "2b2465f5-b6d0-49d9-f83d-0e0079caf0ba"
      },
      "source": [
        "%%writefile input2.txt\n",
        "6\n",
        "1 3 200000 9 200000 23"
      ],
      "execution_count": 37,
      "outputs": [
        {
          "output_type": "stream",
          "text": [
            "Overwriting input2.txt\n"
          ],
          "name": "stdout"
        }
      ]
    },
    {
      "cell_type": "code",
      "metadata": {
        "colab": {
          "base_uri": "https://localhost:8080/"
        },
        "id": "9P2DlgrrHDCK",
        "outputId": "7f5f0aa8-8477-42fb-9b49-4a7ddf6bd0de"
      },
      "source": [
        "%%writefile output2.txt\n",
        "40000000000"
      ],
      "execution_count": 38,
      "outputs": [
        {
          "output_type": "stream",
          "text": [
            "Overwriting output2.txt\n"
          ],
          "name": "stdout"
        }
      ]
    },
    {
      "cell_type": "code",
      "metadata": {
        "colab": {
          "base_uri": "https://localhost:8080/"
        },
        "id": "2Wad2VZUZDxR",
        "outputId": "c6fd496d-ae4d-432c-ed2e-25d85f308e7d"
      },
      "source": [
        "!./max_pairwise_product < input2.txt"
      ],
      "execution_count": 39,
      "outputs": [
        {
          "output_type": "stream",
          "text": [
            "1345294336\n"
          ],
          "name": "stdout"
        }
      ]
    },
    {
      "cell_type": "code",
      "metadata": {
        "colab": {
          "base_uri": "https://localhost:8080/"
        },
        "id": "1MsM6PxCG2Up",
        "outputId": "851f5cfd-7259-4c1c-932b-87481937639c"
      },
      "source": [
        "!./max_pairwise_product1  < input2.txt> ctest2.txt\n",
        "!grep -xvFf output2.txt ctest2.txt"
      ],
      "execution_count": 40,
      "outputs": [
        {
          "output_type": "stream",
          "text": [
            "/bin/bash: ./max_pairwise_product1: No such file or directory\n"
          ],
          "name": "stdout"
        }
      ]
    },
    {
      "cell_type": "markdown",
      "metadata": {
        "id": "WLh1NhjVIDFf"
      },
      "source": [
        "As we could observe, the expected product is differerent from the expected output. This occurs beause the expected output *40000000000* overflows c++ interger datatype"
      ]
    },
    {
      "cell_type": "code",
      "metadata": {
        "colab": {
          "base_uri": "https://localhost:8080/"
        },
        "id": "MPcmsxiQZSfE",
        "outputId": "f53c11ae-5547-43c9-b453-8a20fae12204"
      },
      "source": [
        "%%writefile max_pairwise_product_improved.cpp\n",
        "#include <iostream>\n",
        "#include <vector>\n",
        "#include <algorithm>\n",
        "\n",
        "long long MaxPairwiseProduct(const std::vector<int>& numbers) {\n",
        "    long long max_product = 0LL;\n",
        "\t  long long aux_product = 0LL;\n",
        "    int n = numbers.size();\n",
        "\n",
        "    for (int first = 0; first < n; ++first) {\n",
        "        for (int second = first + 1; second < n; ++second) {\n",
        "\t\t\t       aux_product =  (long long) numbers[first] * numbers[second];\n",
        "            if ( max_product < aux_product)  {\n",
        "\t\t\t\t        max_product = aux_product;\n",
        "             }\n",
        "        }\n",
        "    }\n",
        "\n",
        "    return max_product;\n",
        "}\n",
        "\n",
        "int main() {\n",
        "    int n;\n",
        "    std::cin >> n;\n",
        "    std::vector<int> numbers(n);\n",
        "    for (int i = 0; i < n; ++i) {\n",
        "        std::cin >> numbers[i];\n",
        "    }\n",
        "\n",
        "    std::cout << MaxPairwiseProduct(numbers) << \"\\n\";\n",
        "    return 0;\n",
        "}\n"
      ],
      "execution_count": 41,
      "outputs": [
        {
          "output_type": "stream",
          "text": [
            "Writing max_pairwise_product_improved.cpp\n"
          ],
          "name": "stdout"
        }
      ]
    },
    {
      "cell_type": "markdown",
      "metadata": {
        "id": "VdG-1_0JI6E1"
      },
      "source": [
        "Note that if we change the *int* data type to *long long*, the overflow doesn't occur, due to it's 8 bytes data size"
      ]
    },
    {
      "cell_type": "code",
      "metadata": {
        "colab": {
          "base_uri": "https://localhost:8080/"
        },
        "id": "I5pCeOG1Zm7s",
        "outputId": "4d193104-2049-413c-fd7d-b8cd11ca61f2"
      },
      "source": [
        "!g++ max_pairwise_product_improved.cpp -o max_pairwise_product_improved\n",
        "!./max_pairwise_product_improved"
      ],
      "execution_count": 42,
      "outputs": [
        {
          "output_type": "stream",
          "text": [
            "2\n",
            "2 6\n",
            "12\n"
          ],
          "name": "stdout"
        }
      ]
    },
    {
      "cell_type": "markdown",
      "metadata": {
        "id": "0mQ3nurTbKph"
      },
      "source": [
        "###Test 1: small numbers"
      ]
    },
    {
      "cell_type": "code",
      "metadata": {
        "colab": {
          "base_uri": "https://localhost:8080/"
        },
        "id": "4z-qj45tberL",
        "outputId": "ab296995-e777-425f-cf4b-454bf856c746"
      },
      "source": [
        "!./max_pairwise_product_improved < input1.txt"
      ],
      "execution_count": 43,
      "outputs": [
        {
          "output_type": "stream",
          "text": [
            "30\n"
          ],
          "name": "stdout"
        }
      ]
    },
    {
      "cell_type": "code",
      "metadata": {
        "id": "8AhHxHJcberZ"
      },
      "source": [
        "!./max_pairwise_product_improved < input1.txt> ctest1.txt\n",
        "!grep -xvFf output1.txt ctest1.txt"
      ],
      "execution_count": 44,
      "outputs": []
    },
    {
      "cell_type": "markdown",
      "metadata": {
        "id": "E5QJV0NSbLE3"
      },
      "source": [
        "### Test 2: lagest input numbers 200000 200000 in the input"
      ]
    },
    {
      "cell_type": "code",
      "metadata": {
        "colab": {
          "base_uri": "https://localhost:8080/"
        },
        "id": "WpjuOIzVbptN",
        "outputId": "f73803ad-57d9-4760-fac7-0e9f8cb7e5a4"
      },
      "source": [
        "!./max_pairwise_product_improved < input2.txt"
      ],
      "execution_count": 45,
      "outputs": [
        {
          "output_type": "stream",
          "text": [
            "40000000000\n"
          ],
          "name": "stdout"
        }
      ]
    },
    {
      "cell_type": "code",
      "metadata": {
        "id": "rWPEOeoGHUpD"
      },
      "source": [
        "!./max_pairwise_product_improved  < input2.txt> ctest2.txt\n",
        "!grep -xvFf output2.txt ctest2.txt"
      ],
      "execution_count": 46,
      "outputs": []
    },
    {
      "cell_type": "markdown",
      "metadata": {
        "id": "9z9yr5QkeyJF"
      },
      "source": [
        "### Test 3  generate a tests file with the maximum n 200000 numbres and measure time"
      ]
    },
    {
      "cell_type": "code",
      "metadata": {
        "id": "oLiMjbAIfPlX",
        "colab": {
          "base_uri": "https://localhost:8080/"
        },
        "outputId": "072c48f2-b0e5-4539-cb99-71f04a04727c"
      },
      "source": [
        "%%writefile generate200k.cpp\n",
        "#include <iostream>\n",
        "#include <time.h>\n",
        "int generate200k(){\n",
        "  srand (time(NULL));\n",
        "  std::cout << 200000<<\"\\n\";\n",
        "    for(int i=0;i<200000;i++){\n",
        "        int random = rand() %(200000 + 1);\n",
        "        std::cout << random<< \" \";\n",
        "    }\n",
        "}\n",
        "\n",
        "\n",
        "int main() {\n",
        "    generate200k();\n",
        "    return 0;\n",
        "}"
      ],
      "execution_count": 47,
      "outputs": [
        {
          "output_type": "stream",
          "text": [
            "Writing generate200k.cpp\n"
          ],
          "name": "stdout"
        }
      ]
    },
    {
      "cell_type": "markdown",
      "metadata": {
        "id": "qL_kb17VXTZ3"
      },
      "source": [
        "We write the file *input200kData.txt* containing 200000 random numbers between 1 and 2000000, and then measure time"
      ]
    },
    {
      "cell_type": "code",
      "metadata": {
        "id": "kG3-K-Vhg1GC"
      },
      "source": [
        "!g++ generate200k.cpp -o 200kdata\n",
        "!./200kdata > input200kData.txt"
      ],
      "execution_count": 48,
      "outputs": []
    },
    {
      "cell_type": "code",
      "metadata": {
        "colab": {
          "base_uri": "https://localhost:8080/"
        },
        "id": "F4xyn50Kg1se",
        "outputId": "c5aa49c6-1411-4128-cddf-c6a657774867"
      },
      "source": [
        "%time !./max_pairwise_product_improved < input200kData.txt"
      ],
      "execution_count": 49,
      "outputs": [
        {
          "output_type": "stream",
          "text": [
            "40000000000\n",
            "CPU times: user 969 ms, sys: 160 ms, total: 1.13 s\n",
            "Wall time: 2min 16s\n"
          ],
          "name": "stdout"
        }
      ]
    },
    {
      "cell_type": "markdown",
      "metadata": {
        "id": "sc9nOLQrfTm0"
      },
      "source": [
        "### Efficient solution "
      ]
    },
    {
      "cell_type": "code",
      "metadata": {
        "colab": {
          "base_uri": "https://localhost:8080/"
        },
        "id": "5uJ_ty1tg4uh",
        "outputId": "4a3d99cc-37d5-4c16-9d17-ffa9b3fa9a93"
      },
      "source": [
        "%%writefile max_pairwise_product_efficient.cpp\n",
        "#include <iostream>\n",
        "#include <vector>\n",
        "#include <algorithm>\n",
        "\n",
        "long long MaxPairwiseProduct(const std::vector<int>& numbers) {\n",
        "    long long max = 0;\n",
        "    long long max2 = 0;\n",
        "    int n = numbers.size();\n",
        "\n",
        "    for (int i = 0; i < n; ++i) {\n",
        "        if (max<numbers[i]){\n",
        "            max2 = max;\n",
        "            max = numbers[i];\n",
        "        }\n",
        "        else if(max2<numbers[i]){\n",
        "            max2 = numbers[i];\n",
        "        }\n",
        "    }\n",
        "\n",
        "    return (long long) max*max2;\n",
        "}\n",
        "\n",
        "int main() {\n",
        "    int n;\n",
        "    std::cin >> n;\n",
        "    std::vector<int> numbers(n);\n",
        "    for (int i = 0; i < n; ++i) {\n",
        "        std::cin >> numbers[i];\n",
        "    }\n",
        "\n",
        "    std::cout << MaxPairwiseProduct(numbers) << \"\\n\";\n",
        "    return 0;\n",
        "}\n"
      ],
      "execution_count": 50,
      "outputs": [
        {
          "output_type": "stream",
          "text": [
            "Writing max_pairwise_product_efficient.cpp\n"
          ],
          "name": "stdout"
        }
      ]
    },
    {
      "cell_type": "code",
      "metadata": {
        "colab": {
          "base_uri": "https://localhost:8080/"
        },
        "id": "MUNC7skfhEg5",
        "outputId": "20b00e80-23c6-4bd9-bc3b-0e5e07810a96"
      },
      "source": [
        "!g++ max_pairwise_product_efficient.cpp -o max_pairwise_product_efficient\n",
        "!./max_pairwise_product_efficient"
      ],
      "execution_count": 51,
      "outputs": [
        {
          "output_type": "stream",
          "text": [
            "4\n",
            "2 6 5 3\n",
            "30\n"
          ],
          "name": "stdout"
        }
      ]
    },
    {
      "cell_type": "markdown",
      "metadata": {
        "id": "bhqiKQG6fjKM"
      },
      "source": [
        "### Test 1: small numbers"
      ]
    },
    {
      "cell_type": "code",
      "metadata": {
        "colab": {
          "base_uri": "https://localhost:8080/"
        },
        "id": "M-jlCNpqN5TF",
        "outputId": "3b1d9bbe-d02c-4e0a-b58b-4295702ede27"
      },
      "source": [
        "!./max_pairwise_product_efficient < input1.txt"
      ],
      "execution_count": 52,
      "outputs": [
        {
          "output_type": "stream",
          "text": [
            "30\n"
          ],
          "name": "stdout"
        }
      ]
    },
    {
      "cell_type": "code",
      "metadata": {
        "id": "d_Rm0FndOFFr"
      },
      "source": [
        "!./max_pairwise_product_efficient < input1.txt> ctest1.txt\n",
        "!grep -xvFf output1.txt ctest1.txt"
      ],
      "execution_count": 53,
      "outputs": []
    },
    {
      "cell_type": "markdown",
      "metadata": {
        "id": "D-n-EDyNOdCw"
      },
      "source": [
        "### Test 2: lagest input numbers 200000 200000 in the input"
      ]
    },
    {
      "cell_type": "code",
      "metadata": {
        "colab": {
          "base_uri": "https://localhost:8080/"
        },
        "id": "uI--67KaOVoJ",
        "outputId": "51f31b6d-9160-4a2e-d82a-a0db74cfe214"
      },
      "source": [
        "!./max_pairwise_product_efficient < input2.txt"
      ],
      "execution_count": 54,
      "outputs": [
        {
          "output_type": "stream",
          "text": [
            "40000000000\n"
          ],
          "name": "stdout"
        }
      ]
    },
    {
      "cell_type": "code",
      "metadata": {
        "id": "BGWEHiHiOVom"
      },
      "source": [
        "!./max_pairwise_product_efficient < input2.txt> ctest2.txt\n",
        "!grep -xvFf output2.txt ctest2.txt"
      ],
      "execution_count": 55,
      "outputs": []
    },
    {
      "cell_type": "markdown",
      "metadata": {
        "id": "yBYnp6KjpxU0"
      },
      "source": [
        "### Test 3: input with the maximum n 200000 numbres and measure time"
      ]
    },
    {
      "cell_type": "code",
      "metadata": {
        "colab": {
          "base_uri": "https://localhost:8080/"
        },
        "id": "mhikfcXLhYV0",
        "outputId": "3e505fa7-50c8-4162-c632-e672596525d0"
      },
      "source": [
        "%time !./max_pairwise_product_efficient < input200kData.txt"
      ],
      "execution_count": 56,
      "outputs": [
        {
          "output_type": "stream",
          "text": [
            "40000000000\n",
            "CPU times: user 10.1 ms, sys: 5.38 ms, total: 15.5 ms\n",
            "Wall time: 119 ms\n"
          ],
          "name": "stdout"
        }
      ]
    },
    {
      "cell_type": "markdown",
      "metadata": {
        "id": "t_Fk5cH2L13Y"
      },
      "source": [
        "This solution takes less time because it goes through the array only once, instead of having a quadratic complexity like last solution"
      ]
    },
    {
      "cell_type": "markdown",
      "metadata": {
        "id": "rydCU4bFfrhG"
      },
      "source": [
        "## Python"
      ]
    },
    {
      "cell_type": "markdown",
      "metadata": {
        "id": "3B10qUWCMX94"
      },
      "source": [
        "###Naive solution"
      ]
    },
    {
      "cell_type": "code",
      "metadata": {
        "colab": {
          "base_uri": "https://localhost:8080/"
        },
        "id": "rosnN2GoMp9K",
        "outputId": "2095736c-1796-4f4f-80fe-0686d246155b"
      },
      "source": [
        "%%writefile maximum_product.py\n",
        "# python3\n",
        "def max_product(numbers):\n",
        "    n = len(numbers)\n",
        "    max_product = 0\n",
        "    for first in range(n):\n",
        "        for second in range(first + 1, n):\n",
        "            max_product = max(max_product,\n",
        "                numbers[first] * numbers[second])\n",
        "\n",
        "    return max_product\n",
        "\n",
        "n = int(input())\n",
        "numbers = [int(x) for x in input().split()]\n",
        "print(max_product(numbers))\n",
        "\n",
        "\n"
      ],
      "execution_count": 57,
      "outputs": [
        {
          "output_type": "stream",
          "text": [
            "Writing maximum_product.py\n"
          ],
          "name": "stdout"
        }
      ]
    },
    {
      "cell_type": "markdown",
      "metadata": {
        "id": "FT8Ky9MwKiNQ"
      },
      "source": [
        "###Test 1: small numbers"
      ]
    },
    {
      "cell_type": "code",
      "metadata": {
        "colab": {
          "base_uri": "https://localhost:8080/"
        },
        "id": "h7_w7XCzLG2o",
        "outputId": "2c8795d6-bb1e-475b-bc81-5dc99bc1b80e"
      },
      "source": [
        "!python maximum_product.py < input1.txt"
      ],
      "execution_count": 58,
      "outputs": [
        {
          "output_type": "stream",
          "text": [
            "30\n"
          ],
          "name": "stdout"
        }
      ]
    },
    {
      "cell_type": "code",
      "metadata": {
        "id": "h4sR3181LG2p"
      },
      "source": [
        "!python maximum_product.py   < input1.txt> ptest1.txt\n",
        "!grep -xvFf output1.txt ptest1.txt"
      ],
      "execution_count": 59,
      "outputs": []
    },
    {
      "cell_type": "markdown",
      "metadata": {
        "id": "99bmoS_qITTs"
      },
      "source": [
        "### Test 2: lagest input numbers 200000 200000 in the input"
      ]
    },
    {
      "cell_type": "code",
      "metadata": {
        "colab": {
          "base_uri": "https://localhost:8080/"
        },
        "id": "1KmkYvpkIow3",
        "outputId": "3c176d1e-2d59-40e2-f618-ec5b19d6c331"
      },
      "source": [
        "!python maximum_product.py < input2.txt"
      ],
      "execution_count": 60,
      "outputs": [
        {
          "output_type": "stream",
          "text": [
            "40000000000\n"
          ],
          "name": "stdout"
        }
      ]
    },
    {
      "cell_type": "code",
      "metadata": {
        "id": "caZqANQkIoxf"
      },
      "source": [
        "!python maximum_product.py  < input2.txt> ptest2.txt\n",
        "!grep -xvFf output2.txt ptest2.txt"
      ],
      "execution_count": 61,
      "outputs": []
    },
    {
      "cell_type": "markdown",
      "metadata": {
        "id": "KhwQ8WXTLlD0"
      },
      "source": [
        "### Test 3: input with the maximum n 200000 numbres and measure time"
      ]
    },
    {
      "cell_type": "code",
      "metadata": {
        "colab": {
          "base_uri": "https://localhost:8080/"
        },
        "id": "thFAbWniMpuY",
        "outputId": "98e0d04b-0c61-4eb2-d4b3-c7078182f99b"
      },
      "source": [
        "%time !python maximum_product.py  < input200kData.txt"
      ],
      "execution_count": 62,
      "outputs": [
        {
          "output_type": "stream",
          "text": [
            "40000000000\n",
            "CPU times: user 39.8 s, sys: 5.57 s, total: 45.4 s\n",
            "Wall time: 1h 34min 2s\n"
          ],
          "name": "stdout"
        }
      ]
    },
    {
      "cell_type": "markdown",
      "metadata": {
        "id": "7SfI8CacMqXd"
      },
      "source": [
        "###Efficient solution"
      ]
    },
    {
      "cell_type": "code",
      "metadata": {
        "colab": {
          "base_uri": "https://localhost:8080/"
        },
        "id": "qbFD1G6pjH6n",
        "outputId": "b46bd1ff-d7ca-460d-aa00-61ada7db3fdd"
      },
      "source": [
        "%%writefile maximum_product_efficient.py\n",
        "# python3\n",
        "\n",
        "def max_product(numbers):\n",
        "  max1 = 0\n",
        "  max2 = 0\n",
        "  for number in numbers:\n",
        "      if max1<number:\n",
        "        max2 = max1\n",
        "        max1 = number\n",
        "      elif max2<number:\n",
        "        max2=number\n",
        "  return max2*max1\n",
        "\n",
        "\n",
        "n = int(input())\n",
        "numbers = [int(x) for x in input().split()]\n",
        "print(max_product(numbers))"
      ],
      "execution_count": 63,
      "outputs": [
        {
          "output_type": "stream",
          "text": [
            "Writing maximum_product_efficient.py\n"
          ],
          "name": "stdout"
        }
      ]
    },
    {
      "cell_type": "markdown",
      "metadata": {
        "id": "fQOxrhk3M4Rv"
      },
      "source": [
        "### Test 1: small numbers"
      ]
    },
    {
      "cell_type": "code",
      "metadata": {
        "colab": {
          "base_uri": "https://localhost:8080/"
        },
        "id": "gfN5lETWM3mq",
        "outputId": "24d4a501-c04e-4362-8a5c-162b4a43045e"
      },
      "source": [
        "!python maximum_product_efficient.py < input1.txt"
      ],
      "execution_count": 64,
      "outputs": [
        {
          "output_type": "stream",
          "text": [
            "30\n"
          ],
          "name": "stdout"
        }
      ]
    },
    {
      "cell_type": "code",
      "metadata": {
        "id": "nhLtuIUsM3mu"
      },
      "source": [
        "!python maximum_product_efficient.py  < input1.txt> ptest1.txt\n",
        "!grep -xvFf output1.txt ptest1.txt"
      ],
      "execution_count": 65,
      "outputs": []
    },
    {
      "cell_type": "markdown",
      "metadata": {
        "id": "8YNxBHveM-py"
      },
      "source": [
        "### Test 2: lagest input numbers 200000 200000 in the input"
      ]
    },
    {
      "cell_type": "code",
      "metadata": {
        "colab": {
          "base_uri": "https://localhost:8080/"
        },
        "id": "EXvSE8AdNIVI",
        "outputId": "7920d8f8-d338-4d4b-9fa1-e09008fc69d5"
      },
      "source": [
        "!python maximum_product_efficient.py < input2.txt"
      ],
      "execution_count": 66,
      "outputs": [
        {
          "output_type": "stream",
          "text": [
            "40000000000\n"
          ],
          "name": "stdout"
        }
      ]
    },
    {
      "cell_type": "code",
      "metadata": {
        "id": "gdSF4Fb7NIVJ"
      },
      "source": [
        "!python maximum_product_efficient.py  < input2.txt> ptest2.txt\n",
        "!grep -xvFf output2.txt ptest2.txt"
      ],
      "execution_count": 67,
      "outputs": []
    },
    {
      "cell_type": "markdown",
      "metadata": {
        "id": "cS74j39rNe8b"
      },
      "source": [
        "### Test 3: input with the maximum n 200000 numbres and measure time"
      ]
    },
    {
      "cell_type": "code",
      "metadata": {
        "colab": {
          "base_uri": "https://localhost:8080/"
        },
        "id": "14jAXYbcjN-h",
        "outputId": "fd588053-6cc2-4420-d3a8-6a8767033175"
      },
      "source": [
        "%time !python maximum_product_efficient.py  < input200kData.txt"
      ],
      "execution_count": 68,
      "outputs": [
        {
          "output_type": "stream",
          "text": [
            "40000000000\n",
            "CPU times: user 13 ms, sys: 3.22 ms, total: 16.2 ms\n",
            "Wall time: 227 ms\n"
          ],
          "name": "stdout"
        }
      ]
    },
    {
      "cell_type": "markdown",
      "metadata": {
        "id": "Enc4hN7qZjYx"
      },
      "source": [
        "This solution takes less time as well because it goes through the array once."
      ]
    },
    {
      "cell_type": "markdown",
      "metadata": {
        "id": "T6aBGhovWAjb"
      },
      "source": [
        "**COMPROBANTE COURSERA:**"
      ]
    },
    {
      "cell_type": "markdown",
      "metadata": {
        "id": "tg4kbDozCAIw"
      },
      "source": [
        "![alrgoitmicToolboxWeek1.jpeg](data:image/jpeg;base64,/9j/4AAQSkZJRgABAQEAYABgAAD/4SVoRXhpZgAATU0AKgAAAAgABgALAAIAAAAmAAAIYgESAAMAAAABAAEAAAExAAIAAAAmAAAIiAEyAAIAAAAUAAAIrodpAAQAAAABAAAIwuocAAcAAAgMAAAAVgAAEUYc6gAAAAgAAAAAAAAAAAAAAAAAAAAAAAAAAAAAAAAAAAAAAAAAAAAAAAAAAAAAAAAAAAAAAAAAAAAAAAAAAAAAAAAAAAAAAAAAAAAAAAAAAAAAAAAAAAAAAAAAAAAAAAAAAAAAAAAAAAAAAAAAAAAAAAAAAAAAAAAAAAAAAAAAAAAAAAAAAAAAAAAAAAAAAAAAAAAAAAAAAAAAAAAAAAAAAAAAAAAAAAAAAAAAAAAAAAAAAAAAAAAAAAAAAAAAAAAAAAAAAAAAAAAAAAAAAAAAAAAAAAAAAAAAAAAAAAAAAAAAAAAAAAAAAAAAAAAAAAAAAAAAAAAAAAAAAAAAAAAAAAAAAAAAAAAAAAAAAAAAAAAAAAAAAAAAAAAAAAAAAAAAAAAAAAAAAAAAAAAAAAAAAAAAAAAAAAAAAAAAAAAAAAAAAAAAAAAAAAAAAAAAAAAAAAAAAAAAAAAAAAAAAAAAAAAAAAAAAAAAAAAAAAAAAAAAAAAAAAAAAAAAAAAAAAAAAAAAAAAAAAAAAAAAAAAAAAAAAAAAAAAAAAAAAAAAAAAAAAAAAAAAAAAAAAAAAAAAAAAAAAAAAAAAAAAAAAAAAAAAAAAAAAAAAAAAAAAAAAAAAAAAAAAAAAAAAAAAAAAAAAAAAAAAAAAAAAAAAAAAAAAAAAAAAAAAAAAAAAAAAAAAAAAAAAAAAAAAAAAAAAAAAAAAAAAAAAAAAAAAAAAAAAAAAAAAAAAAAAAAAAAAAAAAAAAAAAAAAAAAAAAAAAAAAAAAAAAAAAAAAAAAAAAAAAAAAAAAAAAAAAAAAAAAAAAAAAAAAAAAAAAAAAAAAAAAAAAAAAAAAAAAAAAAAAAAAAAAAAAAAAAAAAAAAAAAAAAAAAAAAAAAAAAAAAAAAAAAAAAAAAAAAAAAAAAAAAAAAAAAAAAAAAAAAAAAAAAAAAAAAAAAAAAAAAAAAAAAAAAAAAAAAAAAAAAAAAAAAAAAAAAAAAAAAAAAAAAAAAAAAAAAAAAAAAAAAAAAAAAAAAAAAAAAAAAAAAAAAAAAAAAAAAAAAAAAAAAAAAAAAAAAAAAAAAAAAAAAAAAAAAAAAAAAAAAAAAAAAAAAAAAAAAAAAAAAAAAAAAAAAAAAAAAAAAAAAAAAAAAAAAAAAAAAAAAAAAAAAAAAAAAAAAAAAAAAAAAAAAAAAAAAAAAAAAAAAAAAAAAAAAAAAAAAAAAAAAAAAAAAAAAAAAAAAAAAAAAAAAAAAAAAAAAAAAAAAAAAAAAAAAAAAAAAAAAAAAAAAAAAAAAAAAAAAAAAAAAAAAAAAAAAAAAAAAAAAAAAAAAAAAAAAAAAAAAAAAAAAAAAAAAAAAAAAAAAAAAAAAAAAAAAAAAAAAAAAAAAAAAAAAAAAAAAAAAAAAAAAAAAAAAAAAAAAAAAAAAAAAAAAAAAAAAAAAAAAAAAAAAAAAAAAAAAAAAAAAAAAAAAAAAAAAAAAAAAAAAAAAAAAAAAAAAAAAAAAAAAAAAAAAAAAAAAAAAAAAAAAAAAAAAAAAAAAAAAAAAAAAAAAAAAAAAAAAAAAAAAAAAAAAAAAAAAAAAAAAAAAAAAAAAAAAAAAAAAAAAAAAAAAAAAAAAAAAAAAAAAAAAAAAAAAAAAAAAAAAAAAAAAAAAAAAAAAAAAAAAAAAAAAAAAAAAAAAAAAAAAAAAAAAAAAAAAAAAAAAAAAAAAAAAAAAAAAAAAAAAAAAAAAAAAAAAAAAAAAAAAAAAAAAAAAAAAAAAAAAAAAAAAAAAAAAAAAAAAAAAAAAAAAAAAAAAAAAAAAAAAAAAAAAAAAAAAAAAAAAAAAAAAAAAAAAAAAAAAAAAAAAAAAAAAAAAAAAAAAAAAAAAAAAAAAAAAAAAAAAAAAAAAAAAAAAAAAAAAAAAAAAAAAAAAAAAAAAAAAAAAAAAAAAAAAAAAAAAAAAAAAAAAAAAAAAAAAAAAAAAAAAAAAAAAAAAAAAAAAAAAAAAAAAAAAAAAAAAAAAAAAAAAAAAAAAAAAAAAAAAAAAAAAAAAAAAAAAAAAAAAAAAAAAAAAAAAAAAAAAAAAAAAAAAAAAAAAAAAAAAAAAAAAAAAAAAAAAAAAAAAAAAAAAAAAAAAAAAAAAAAAAAAAAAAAAAAAAAAAAAAAAAAAAAAAAAAAAAAAAAAAAAAAAAAAAAAAAAAAAAAAAAAAAAAAAAAAAAAAAAAAAAAAAAAAAAAAAAAAAAAAAAAAAAAAAAAAAAAAAAAAAAAAAAAAAAAAAAAAAAAAAAAAAAAAAAAAAAAAAAAAAAAAAAAAAAAAAAAAAAAAAAAAAAAAAAAAAAAAAAAAAAAAAAAAAAAAAAAAAAAAAAAAAAAAAAAAAAAAAAAAAAAAAAAAAAAAAAAAAAAAAAAAAAAAAAAAAAAAAAAAAAAAAAAAAAAAAAAAAAAAAAAAAAAAAAAAAAAAAAAAAAAAAAAAAAAAAAAAAAAAAAAAAAAAAAAAAAAAAAAAAAAAAAAAAAAAAAAAAAAAAAAAAAAAAAAAAAAAAAAAAAAAAAAAAAAAAAAAAAAAAAAAAAAAAAAAAAAAAAAAAAAAAAAAAAAAAAAAAAAAAAAAAAAAAAAAAAAAAAAAAAAAAAAAAAAAAAAAAAAAAAAAAAAAAAAAAAAAAAAAAAAAAAAAAAAAAAAAAAAAAAAAAAAAAAAAAAAAAAAAAAAAAAAAAAAAAAAAAAAAAAAAAAAAAAAAAAAAAAAAAAAAAAAAAAAAAAAAAAAAAAAAAAAAFdpbmRvd3MgUGhvdG8gRWRpdG9yIDEwLjAuMTAwMTEuMTYzODQAV2luZG93cyBQaG90byBFZGl0b3IgMTAuMC4xMDAxMS4xNjM4NAAyMDIxOjAzOjI3IDIzOjEwOjMzAAAGkAMAAgAAABQAABEckAQAAgAAABQAABEwkpEAAgAAAAM2NQAAkpIAAgAAAAM2NQAAoAEAAwAAAAEAAQAA6hwABwAACAwAAAkQAAAAABzqAAAACAAAAAAAAAAAAAAAAAAAAAAAAAAAAAAAAAAAAAAAAAAAAAAAAAAAAAAAAAAAAAAAAAAAAAAAAAAAAAAAAAAAAAAAAAAAAAAAAAAAAAAAAAAAAAAAAAAAAAAAAAAAAAAAAAAAAAAAAAAAAAAAAAAAAAAAAAAAAAAAAAAAAAAAAAAAAAAAAAAAAAAAAAAAAAAAAAAAAAAAAAAAAAAAAAAAAAAAAAAAAAAAAAAAAAAAAAAAAAAAAAAAAAAAAAAAAAAAAAAAAAAAAAAAAAAAAAAAAAAAAAAAAAAAAAAAAAAAAAAAAAAAAAAAAAAAAAAAAAAAAAAAAAAAAAAAAAAAAAAAAAAAAAAAAAAAAAAAAAAAAAAAAAAAAAAAAAAAAAAAAAAAAAAAAAAAAAAAAAAAAAAAAAAAAAAAAAAAAAAAAAAAAAAAAAAAAAAAAAAAAAAAAAAAAAAAAAAAAAAAAAAAAAAAAAAAAAAAAAAAAAAAAAAAAAAAAAAAAAAAAAAAAAAAAAAAAAAAAAAAAAAAAAAAAAAAAAAAAAAAAAAAAAAAAAAAAAAAAAAAAAAAAAAAAAAAAAAAAAAAAAAAAAAAAAAAAAAAAAAAAAAAAAAAAAAAAAAAAAAAAAAAAAAAAAAAAAAAAAAAAAAAAAAAAAAAAAAAAAAAAAAAAAAAAAAAAAAAAAAAAAAAAAAAAAAAAAAAAAAAAAAAAAAAAAAAAAAAAAAAAAAAAAAAAAAAAAAAAAAAAAAAAAAAAAAAAAAAAAAAAAAAAAAAAAAAAAAAAAAAAAAAAAAAAAAAAAAAAAAAAAAAAAAAAAAAAAAAAAAAAAAAAAAAAAAAAAAAAAAAAAAAAAAAAAAAAAAAAAAAAAAAAAAAAAAAAAAAAAAAAAAAAAAAAAAAAAAAAAAAAAAAAAAAAAAAAAAAAAAAAAAAAAAAAAAAAAAAAAAAAAAAAAAAAAAAAAAAAAAAAAAAAAAAAAAAAAAAAAAAAAAAAAAAAAAAAAAAAAAAAAAAAAAAAAAAAAAAAAAAAAAAAAAAAAAAAAAAAAAAAAAAAAAAAAAAAAAAAAAAAAAAAAAAAAAAAAAAAAAAAAAAAAAAAAAAAAAAAAAAAAAAAAAAAAAAAAAAAAAAAAAAAAAAAAAAAAAAAAAAAAAAAAAAAAAAAAAAAAAAAAAAAAAAAAAAAAAAAAAAAAAAAAAAAAAAAAAAAAAAAAAAAAAAAAAAAAAAAAAAAAAAAAAAAAAAAAAAAAAAAAAAAAAAAAAAAAAAAAAAAAAAAAAAAAAAAAAAAAAAAAAAAAAAAAAAAAAAAAAAAAAAAAAAAAAAAAAAAAAAAAAAAAAAAAAAAAAAAAAAAAAAAAAAAAAAAAAAAAAAAAAAAAAAAAAAAAAAAAAAAAAAAAAAAAAAAAAAAAAAAAAAAAAAAAAAAAAAAAAAAAAAAAAAAAAAAAAAAAAAAAAAAAAAAAAAAAAAAAAAAAAAAAAAAAAAAAAAAAAAAAAAAAAAAAAAAAAAAAAAAAAAAAAAAAAAAAAAAAAAAAAAAAAAAAAAAAAAAAAAAAAAAAAAAAAAAAAAAAAAAAAAAAAAAAAAAAAAAAAAAAAAAAAAAAAAAAAAAAAAAAAAAAAAAAAAAAAAAAAAAAAAAAAAAAAAAAAAAAAAAAAAAAAAAAAAAAAAAAAAAAAAAAAAAAAAAAAAAAAAAAAAAAAAAAAAAAAAAAAAAAAAAAAAAAAAAAAAAAAAAAAAAAAAAAAAAAAAAAAAAAAAAAAAAAAAAAAAAAAAAAAAAAAAAAAAAAAAAAAAAAAAAAAAAAAAAAAAAAAAAAAAAAAAAAAAAAAAAAAAAAAAAAAAAAAAAAAAAAAAAAAAAAAAAAAAAAAAAAAAAAAAAAAAAAAAAAAAAAAAAAAAAAAAAAAAAAAAAAAAAAAAAAAAAAAAAAAAAAAAAAAAAAAAAAAAAAAAAAAAAAAAAAAAAAAAAAAAAAAAAAAAAAAAAAAAAAAAAAAAAAAAAAAAAAAAAAAAAAAAAAAAAAAAAAAAAAAAAAAAAAAAAAAAAAAAAAAAAAAAAAAAAAAAAAAAAAAAAAAAAAAAAAAAAAAAAAAAAAAAAAAAAAAAAAAAAAAAAAAAAAAAAAAAAAAAAAAAAAAAAAAAAAAAAAAAAAAAAAAAAAAAAAAAAAAAAAAAAAAAAAAAAAAAAAAAAAAAAAAAAAAAAAAAAAAAAAAAAAAAAAAAAAAAAAAAAAAAAAAAAAAAAAAAAAAAAAAAAAAAAAAAAAAAAAAAAAAAAAAAAAAAAAAAAAAAAAAAAAAAAAAAAAAAAAAAAAAAAAAAAAAAAAAAAAAAAAAAAAAAAAAAAAAAAAAAAAAAAAAAAAAAAAAAAAAAAAAAAAAAAAAAAAAAAAAAAAAAAAAAAAAAAAAAAAAAAAAAAAAAAAAAAAAAAAAAAAAAAAAAAAAAAAAAAAAAAAAAAAAAAAAAAAAAAAAAAAAAAAAAAAAAAAAAAAAAAAAAAAAAAAAAAAAAAAAAAAAAAAAAAAAAAAAAAAAAAAAAAAAAAAAAAAAAAAAAAAAAAAAAAAAAAAAAAAAAAAAAAAAAAAAAAAAAAAAAAAAAAAAAAAAAAAAAAAAAAAAAAAAAAAAAAAAAAAAAAAAAAAAAAAAAAAAAAAAAAAAAAAAAAAAAAAAAAAAAAAAAAAAAAAAAAAAAAAAAAAAAAAAAAAAAAAAAAAAAAAAAAAAAAAAAAAAAAAAAAAAAAAAAAAAAAAAAAAAAAAAAAAAAMjAyMTowMzoyNyAyMzowOTo0NgAyMDIxOjAzOjI3IDIzOjA5OjQ2AAAAAAYBAwADAAAAAQAGAAABGgAFAAAAAQAAEZQBGwAFAAAAAQAAEZwBKAADAAAAAQACAAACAQAEAAAAAQAAEaQCAgAEAAAAAQAAE7sAAAAAAAAAYAAAAAEAAABgAAAAAf/Y/9sAQwAIBgYHBgUIBwcHCQkICgwUDQwLCwwZEhMPFB0aHx4dGhwcICQuJyAiLCMcHCg3KSwwMTQ0NB8nOT04MjwuMzQy/9sAQwEJCQkMCwwYDQ0YMiEcITIyMjIyMjIyMjIyMjIyMjIyMjIyMjIyMjIyMjIyMjIyMjIyMjIyMjIyMjIyMjIyMjIy/8AAEQgAhAEAAwEhAAIRAQMRAf/EAB8AAAEFAQEBAQEBAAAAAAAAAAABAgMEBQYHCAkKC//EALUQAAIBAwMCBAMFBQQEAAABfQECAwAEEQUSITFBBhNRYQcicRQygZGhCCNCscEVUtHwJDNicoIJChYXGBkaJSYnKCkqNDU2Nzg5OkNERUZHSElKU1RVVldYWVpjZGVmZ2hpanN0dXZ3eHl6g4SFhoeIiYqSk5SVlpeYmZqio6Slpqeoqaqys7S1tre4ubrCw8TFxsfIycrS09TV1tfY2drh4uPk5ebn6Onq8fLz9PX29/j5+v/EAB8BAAMBAQEBAQEBAQEAAAAAAAABAgMEBQYHCAkKC//EALURAAIBAgQEAwQHBQQEAAECdwABAgMRBAUhMQYSQVEHYXETIjKBCBRCkaGxwQkjM1LwFWJy0QoWJDThJfEXGBkaJicoKSo1Njc4OTpDREVGR0hJSlNUVVZXWFlaY2RlZmdoaWpzdHV2d3h5eoKDhIWGh4iJipKTlJWWl5iZmqKjpKWmp6ipqrKztLW2t7i5usLDxMXGx8jJytLT1NXW19jZ2uLj5OXm5+jp6vLz9PX29/j5+v/aAAwDAQACEQMRAD8A9w1PU/7NFv8AuHl86TZwcBeO/wDSsP8A4TZfJLnTLkMQCiHq2SOPqM8jtXVSwzqR5rmFStyO1gl8aGGaSJtJui8bujbeR8vocc5/l+Vael642o381o9lJA0S5JY55zjH+HqKc8LyR5uYUK/M7WL9xdGG1WULktjii3uTNbGUoQR1ArkOgsKdyg4Iz2NLQAUUAFFABRQAUUAFFABRQAUUAFFABRQAmfmx7VyN74i1NLm8lt4f9HtZfLKGIneB94lu2K3oU4zb5jkxdaVKK5To11GMhcxTZZQeIyR09aUahEQD5c/Jx/qm/wA96xa1sdSd1cminWVQVVxkkfMpHSpaQxCSBk4x7mk/AfnQAbuv3eOvNGSOTgfjQAEbl2lVK+lICFUAbQOg5oAd83oPzoyfb86ADn0H50m7nHy5+tABu+bbld3pmgNnoVP0NAC/N6D86Pm9B+dAB83oPzo+b0H50AHzeg/Oj5vQfnQAfN6D86Pm9B+dAB83oPzo+b0H50AHzeg/Oj5vQfnQAfN6D86Pm9B+dABznOB+dUZtIsp7n7RJbgyHk/MQG+o6GqjNxd0ROnGatJF3djj5R7Zo3cZ+XH1qSw3c4yufTNG7J42/nQAjosqFHRWU9Qarrp1qihRboQPXmqUmlZCaTHtZW7KqmFSF6DPSnJbRRoUSNQp6jNHO7WCyIxp9qOlvHSyCFmELRBsdARxScm9wSSIV0+zUqn2VOSSM8+9SHTbQ7s26YbGR9KQwGm2gUD7NGcHPPrUjWkDqqtCpC9BmgBDZW5UqYEwTk/5/CkFhbifzvJXzPXJoAsc+g/Ojn0H50AHPoPzo59B+dABz6D86OfQfnQAc+g/Ojn0H50AHPoPzo59B+dABz6D86OfQfnQAc+g/Ojn0H50AHPoPzo59B+dAFeWyt5nLyQIzHqSetOjtYolcRxKocYbB60ANmsoJ5A8kYLDvuNEdlbW5DxwIpXkEUAJexXMqILW6Fu4bklA2RjpzVc2uq/NjUo+SSMwDj9aANBMhAGYMwHJAxk06gArIcbtfkTdgGDGfSgC9EgiMab92M84xVmgAooAKKACigAooAKKACigAooAKKACigAooAKKACorr/jzm/wCubfyoAo6zEJYYVNmLr9590zCPbweQc9axILA/dOjy/KT9/UOmccdecYHNAFqz09Fmhm+wm3aNwxxebxjBz3x1xXQ+dEcYlTnp8w5oAUOrHAYE+xrKb/kYW/65CgC+v+uT8asUAFFABRQAUUAFFABRQAUUAFFABRQAUUAFFABRQAVDdf8AHnP/ANc2/lQBn69faVYWsUmrY8ppNqZQt82Dzx7Z5qCSz0GzcRSxYJORu3sOcd/wFBKkm3HsO+xaGCjrEF53AruGcj+VL9h0JmLeQrE5OcNz60FFmw07ToJWntIsPkjcWY49hntULf8AIwt/1yFAF9f9cn41YoAR92w7MbscZ6VkjW3CHNlKzqgZscLz2ycc/WgCVNWEhkH2eRdgJBbv82PwHPf+hqNNbP2KOeSzlRncJ5fGc7d3T8KACXWxFOkDWziRzgAsBnpx9eacNZJdgLObYrEF8frjrQAz+2yUVls5eTggjkcA/r0Hqalk1KfyEeKzdnL7SmeQNpOf0/WgCObXBC4je1cOeilgM8Zx9fSnDWGaRlWymIV9pbt25H5/oaAEGsPuUNZTLnk+w45/X9KT+2wYYZktndHjLllOQvPAJ9eDx14oAP7bHnrCLZvMZyqgtjONvPv97t6GlXWmZUb7BOFc4GcDHTrnp1oAmg1CSdHb7KyFWUbWPOD3/WmTar9nZt0DuAqlfL+YnIJ/pQAr6oyQNI1pLuDlAvrjPP8A47x9RTZtSmtdrS2rurKvEQJIYgk/gMGgBH1Z/KWRbZuSfkbqcBTge/P5g1FHr3mlilsxVSQx3jgjH689OvHGeKANmigAqG6/485/+ubfyoAS6s7a9jWO6gjmRW3BZFBAPrUF2zpIWxdbcAL5OCAfp/jQKyvchYTlgQ16AAc/KvP61ZF2wRStpOQQCMKB1GefegZLBceczr5Msew4y64z9Kzm/wCRhb/rkKAL6/65PxqxQBFcmYWsptwpmCHyw3TdjjNZ9hNqg09DdRxtcbyCGYA7fXjIzRZ3M25c67FgzX3aG36/89T/AIVKzy4UhYiQM43d++KLMu6Ii92zBjb25IzgmTkfpVzcPUfnTswug3L6j86Ny+o/OizC6Gny2IJ2kjoT2p25fUfnRZhdBuU9xSLsUYXaAOwoswuhD5ZYMdpYdD3FO3L6j86LMLoNy+o/OjcvqPzoswug3L6j86Ny+o/OizC6DcvqPzpq+Wudu0ZOTiizC6HbgehFLSGFQ3X/AB5z/wDXNv5UATZB6VUngEkjEwl8gDIkIoAcLKDKttYEdt5/xqzQAVkN/wAjC3/XIUAX1/1yfjVigCK5x5DZ6d6oyeaCxi+znngP0/SrjsS9xubjn5bQ8HHP5UE3OOEtB170ahoOBm7ra9R0PbvTAbrAO2z6dOaNQ0FJuOMLae/5/wCGKCbjdwtpjA/A96NRaCA3RLDbZgZ4NOUz7hvW1C55x6UahoDef5jbfspTPGRzSnztnAtd3P09q090nUP3u4f8eu3vxSZn9LT60e6GpZXyto3eVuxzjFL+4/6Z/pUalaB+4/6Z/pR+4/6Z/pS1DQP3H/TP9KP3H/TP9KNQ0IbcOJV8wxE+Ydmwfw4PX3rQqZFIKhuv+POf/rm38qQzk4BrMng7SP7HljWfYhkMmDlce/vita+vntpiPtscYCjcrwM4B7cj8aup/El6mNLm67WRHDqhWUefeI6gbWVbV1y3sTWnBcx3Me+JiR7qR/OoNiWs4f8AIfb/AK5UAaK/65PxqxQAUm1f7o/KgA2r/dH5UbV/uj8qd2Fg2r/dH5UbV/uj8qLsLBtX+6Pyo2r/AHR+VF2Fg2r/AHR+VG1f7o/Ki7CwbV/uj8qNq/3R+VF2Fg2r/dH5UbV/uj8qLsLBtX+6Pyo2r/dH5UXYWDav90flRtX+6PyouwsG1f7o/Kjav90flRdhYNoHQD8qWkAVDdf8ec//AFzb+VAGR4Z/5FjTf+vdP5VPeB952Lc8gEmIgj8jWlX+I/Uin8CECylsYuxnuWXAqaOWVESNoZXIUAucc8dTWZZPGxdAzIUJ/hPaqA/5D7f9cqANFf8AXJ+NWKAI54zNbyRrI0bOpUOnVcjqPeqA026Ds39q3BBBGCq+/wCvP6UAH9m3fmFzqk/JztCjA56Cp7xpEYFWlCkc+Wm7nn/P4UAVQ8wHM95nHTyKN0vzEzXgydoAh6Z/pxQA9ndn3K94oTkjyvvZ44/z2pPMlETfvLs7iCCYTlQDjFABmQnBlveTgER8Dt+VWY7oLGi+Vcs23PzRnP4/lQA77YN2PInHOP8AVmj7Yox+5n5/6ZnigCzRQAUUAFFABRQAUUAFQ3X/AB5z/wDXNv5UAZHhkEeGdNBGD9nT+VXpLdZJstECCOW3EH/69XU+N+pFP4EENlBA++NCD9TxU9QWFZw/5D7f9cqANFf9cn41YoAR3VEZ2OFUZJ9BVcahaEEidcA4NAC/brXeE85dxOAO+ah1TUk0yCKR/LxJJsBkcqo4J6gH09KAKTa/t+8dPB2hsfa26EZ/551p2F2t/p1reKAFuIllAByMMAevfrQBYooAKKACigAooAKKACigBGYKpZjgAZNV/wC0LTaW89cA4NADo7u3mfZHKrN6Cp6ACobr/jzn/wCubfyoAp6xObe3iIuntsvjckRk7Z/DpWUb0qcLrdwAO7Wuc9B/OgCQX0ohjU6rKXZlKv8AYz8w5GMfl+XvS2t1cXNzFDFq7OGLbg1rtJGD0Pr/AIUAbNnBcwIVuLs3HTBMYUj8utUW/wCRhb/rkKAL6/65PxqxQBHPNFb28k0zqkUalnZugA6msb/hKPDn/QStPzFa06NSorwVzOdWENJMP+Ep8Ocf8TK045HIqG88Q+H7xIx/bUEbRvvVlYHBwR3BHQmr+qVv5SPrFJ9S+NMlZQw1KYgjg+XH0/75q9a262lpDbISUhjWNSepAGK57GqVib8aPxoKD8aPxoAPxo/GgA/Gj8aAD8aPxoAPxo/GgBCMjB5Bpvkx/wDPNP8AvkUAKEUEEKMjocU6gAqG6/485/8Arm38qAK2quY4Y2EtzHh+tugY9D1HpWRHfeVueTUNTKKRkta8HP0WgB++c+X5Wo6js8sHDWwLHOADkjr6iryWV1NHuGqXa8kYaNQeD9PagC/axSw2yRzzmeRR80hXbu/Cs5v+Rhb/AK5CgC+v+uT8asUAUNctZb7Qb+0gAMs1u8aAnAyVIFeVJ8PfEaQrGbOyYKxbcZBk5HTPpXqYDFU6MGpvdnn4zDzqyTiL/wAK/wBf35/s6x6dPO/+vTZvh34glRAtjaRFepWb73513f2lQ7s5PqNbsewwKUgjRuqqAfyqSvnm7s9pKyCikMKKACigAooAKKACigAooAKKACobr/jzn/65t/KgCvqdzcW0cRtzbbmfaRcSbAeD0PrVIalqLfdXTW5xj7Sf8PSgAXU710idX00q4BY+eeOvI9e1SW2pXRmUXRsEi53GO43Eenb1oA1UdJEDoysp6FTkGspv+Rhb/rkKAL6/65PxqxQA10WRGRwCrDBBGQazm0cGFY/tUoVMbMfwYBHHoef0FADm0pmkDC+uhgnA3noSDj9KvQxmKFIy7OVAG5up9zQA+igAooAKKACigAooAKKACigAooAKKACorr/jzm/65t/KgCDULea4hVYUtnIOSJ13DpWWulXsIZ47DRt4xtCxYI9ecUAX49ItJEjku7G0a4C4YpH8pz169R9amOl6eRg2Fr/35X/CgCa3t4rWBIIECRIMKo6Cs51b+32badvlAZxQBeX/AFyfjVigCO4hFxbSwsWVZEKEocEZGOD2NUYdJENys4vL5iD915sqRzwR6c0AaOT/AHTRk/3TQAZP900ZP900AGT/AHTRk/3TQAZP900ZP900AGT/AHTRk/3TQAZP900ZP900AGT/AHTVK805buUSefdwsBtzDMV457fj+lAEDaKG4N/qO3GNvn8dKvWsH2WARCSaXB+9K+5vzoAqXOmNdXJmN9exDP3IpNoxjGPz5qIaGAMDUdSxnOPtFAGlbxC3hWJS7Bf4nbcT9TUtABTX+430oAz9YJEUOBelvM4+yY3dD1z2rFjLtGQE19h5mVzgFMDBH3unzdPb2oAcu7cqMmvxqxAHzADIHse9Pmad2KiHXQC/zbGHuOM9uc/gKAL2i3Jd5IvJ1Pac4e8AwMHGBg1oSf6//PpQAq/65PxqxQAyWMSxPGxYK6lSVYqRn0I5B9xVdrFTGsfnXPyqF3CU5POc59aAGNpwZ932m8HAGBMccULpyowP2i8OMcGcmgBf7OXZt865PJOS+Tz9acbFCirvmG3uH5oARNPiRlO6ZtuPvPnOOmat5PoaADJ9DRk+hoAMn0NGT6GgAyfQ0ZPoaADJ9DRk+hoAhuFLhRscgHJ2nFKJX+UeS31z0oATzpc8wNjPrTIS0QYCKU7mLHJzjPagCzn2NLQAUj/cb6UAVdQs1vIljaWWPk/NE+09KqjQbYKQJ7vn/puaACTQ4Hm3fabxc5O1ZyBStoVszOfOuxuzkCdgOuaALlnZx2UTJG8j7mLEyNuOaST/AF/+fSgBV/1yfjVigAproHIJJ49DQBD9lXeW82Xntu4o+xplSJJRt9H6/WgBiWirOT5svABA3cVboAKKACigAooAKKACigCOWFZtu4sNpyNpxTJbVJYjGzOAQBkNg0J2AgGmpkH7RccH/np70p06Mk/v7jB6jzOKvn8ibCf2ZHtZTPcc/wDTSlOmRMysZp/l6fvKOd9h8o6OwSOTeJpyfRn4q0/3G+lS3cErH//ZAP/hMehodHRwOi8vbnMuYWRvYmUuY29tL3hhcC8xLjAvADw/eHBhY2tldCBiZWdpbj0n77u/JyBpZD0nVzVNME1wQ2VoaUh6cmVTek5UY3prYzlkJz8+DQo8eDp4bXBtZXRhIHhtbG5zOng9ImFkb2JlOm5zOm1ldGEvIj48cmRmOlJERiB4bWxuczpyZGY9Imh0dHA6Ly93d3cudzMub3JnLzE5OTkvMDIvMjItcmRmLXN5bnRheC1ucyMiPjxyZGY6RGVzY3JpcHRpb24gcmRmOmFib3V0PSJ1dWlkOmZhZjViZGQ1LWJhM2QtMTFkYS1hZDMxLWQzM2Q3NTE4MmYxYiIgeG1sbnM6eG1wPSJodHRwOi8vbnMuYWRvYmUuY29tL3hhcC8xLjAvIj48eG1wOkNyZWF0b3JUb29sPldpbmRvd3MgUGhvdG8gRWRpdG9yIDEwLjAuMTAwMTEuMTYzODQ8L3htcDpDcmVhdG9yVG9vbD48eG1wOkNyZWF0ZURhdGU+MjAyMS0wMy0yN1QyMzowOTo0Ni42NTE8L3htcDpDcmVhdGVEYXRlPjwvcmRmOkRlc2NyaXB0aW9uPjwvcmRmOlJERj48L3g6eG1wbWV0YT4NCiAgICAgICAgICAgICAgICAgICAgICAgICAgICAgICAgICAgICAgICAgICAgICAgICAgICAgICAgICAgICAgICAgICAgICAgICAgICAgICAgICAgICAgICAgICAgICAgICAgICAKICAgICAgICAgICAgICAgICAgICAgICAgICAgICAgICAgICAgICAgICAgICAgICAgICAgICAgICAgICAgICAgICAgICAgICAgICAgICAgICAgICAgICAgICAgICAgICAgICAgIAogICAgICAgICAgICAgICAgICAgICAgICAgICAgICAgICAgICAgICAgICAgICAgICAgICAgICAgICAgICAgICAgICAgICAgICAgICAgICAgICAgICAgICAgICAgICAgICAgICAgCiAgICAgICAgICAgICAgICAgICAgICAgICAgICAgICAgICAgICAgICAgICAgICAgICAgICAgICAgICAgICAgICAgICAgICAgICAgICAgICAgICAgICAgICAgICAgICAgICAgICAKICAgICAgICAgICAgICAgICAgICAgICAgICAgICAgICAgICAgICAgICAgICAgICAgICAgICAgICAgICAgICAgICAgICAgICAgICAgICAgICAgICAgICAgICAgICAgICAgICAgIAogICAgICAgICAgICAgICAgICAgICAgICAgICAgICAgICAgICAgICAgICAgICAgICAgICAgICAgICAgICAgICAgICAgICAgICAgICAgICAgICAgICAgICAgICAgICAgICAgICAgCiAgICAgICAgICAgICAgICAgICAgICAgICAgICAgICAgICAgICAgICAgICAgICAgICAgICAgICAgICAgICAgICAgICAgICAgICAgICAgICAgICAgICAgICAgICAgICAgICAgICAKICAgICAgICAgICAgICAgICAgICAgICAgICAgICAgICAgICAgICAgICAgICAgICAgICAgICAgICAgICAgICAgICAgICAgICAgICAgICAgICAgICAgICAgICAgICAgICAgICAgIAogICAgICAgICAgICAgICAgICAgICAgICAgICAgICAgICAgICAgICAgICAgICAgICAgICAgICAgICAgICAgICAgICAgICAgICAgICAgICAgICAgICAgICAgICAgICAgICAgICAgCiAgICAgICAgICAgICAgICAgICAgICAgICAgICAgICAgICAgICAgICAgICAgICAgICAgICAgICAgICAgICAgICAgICAgICAgICAgICAgICAgICAgICAgICAgICAgICAgICAgICAKICAgICAgICAgICAgICAgICAgICAgICAgICAgICAgICAgICAgICAgICAgICAgICAgICAgICAgICAgICAgICAgICAgICAgICAgICAgICAgICAgICAgICAgICAgICAgICAgICAgIAogICAgICAgICAgICAgICAgICAgICAgICAgICAgICAgICAgICAgICAgICAgICAgICAgICAgICAgICAgICAgICAgICAgICAgICAgICAgICAgICAgICAgICAgICAgICAgICAgICAgCiAgICAgICAgICAgICAgICAgICAgICAgICAgICAgICAgICAgICAgICAgICAgICAgICAgICAgICAgICAgICAgICAgICAgICAgICAgICAgICAgICAgICAgICAgICAgICAgICAgICAKICAgICAgICAgICAgICAgICAgICAgICAgICAgICAgICAgICAgICAgICAgICAgICAgICAgICAgICAgICAgICAgICAgICAgICAgICAgICAgICAgICAgICAgICAgICAgICAgICAgIAogICAgICAgICAgICAgICAgICAgICAgICAgICAgICAgICAgICAgICAgICAgICAgICAgICAgICAgICAgICAgICAgICAgICAgICAgICAgICAgICAgICAgICAgICAgICAgICAgICAgCiAgICAgICAgICAgICAgICAgICAgICAgICAgICAgICAgICAgICAgICAgICAgICAgICAgICAgICAgICAgICAgICAgICAgICAgICAgICAgICAgICAgICAgICAgICAgICAgICAgICAKICAgICAgICAgICAgICAgICAgICAgICAgICAgICAgICAgICAgICAgICAgICAgICAgICAgICAgICAgICAgICAgICAgICAgICAgICAgICAgICAgICAgICAgICAgICAgICAgICAgIAogICAgICAgICAgICAgICAgICAgICAgICAgICAgICAgICAgICAgICAgICAgICAgICAgICAgICAgICAgICAgICAgICAgICAgICAgICAgICAgICAgICAgICAgICAgICAgICAgICAgCiAgICAgICAgICAgICAgICAgICAgICAgICAgICAgICAgICAgICAgICAgICAgICAgICAgICAgICAgICAgICAgICAgICAgICAgICAgICAgICAgICAgICAgICAgICAgICAgICAgICAKICAgICAgICAgICAgICAgICAgICAgICAgICAgICAgICAgICAgICAgICAgICAgICAgICAgICAgICAgICAgICAgICAgICAgICAgICAgICAgICAgICAgICAgICAgICAgICAgICAgIAogICAgICAgICAgICAgICAgICAgICAgICAgICAgICAgICAgICAgICAgICAgICAgICAgICAgICAgICAgICAgICAgICAgICAgICAgICAgICAgICAgICAgICAgICAgICAgICAgICAgCiAgICAgICAgICAgICAgICAgICAgICAgICAgICAgICAgICAgICAgICAgICAgICAgICAgICAgICAgICAgICAgICAgICAgICAgICAgICAgICAgICAgICAgICAgICAgICAgICAgICAKICAgICAgICAgICAgICAgICAgICAgICAgICAgICAgICAgICAgICAgICAgICAgICAgICAgICAgICAgICAgICAgICAgICAgICAgICAgICAgICAgICAgICAgICAgICAgICAgICAgIAogICAgICAgICAgICAgICAgICAgICAgICAgICAgICAgICAgICAgICAgICAgICAgICAgICAgICAgICAgICAgICAgICAgICAgICAgICAgICAgICAgICAgICAgICAgICAgICAgICAgCiAgICAgICAgICAgICAgICAgICAgICAgICAgICAgICAgICAgICAgICAgICAgICAgICAgICAgICAgICAgICAgICAgICAgICAgICAgICAgICAgICAgICAgICAgICAgICAgICAgICAKICAgICAgICAgICAgICAgICAgICAgICAgICAgICAgICAgICAgICAgICAgICAgICAgICAgICAgICAgICAgICAgICAgICAgICAgICAgICAgICAgICAgICAgICAgICAgICAgICAgIAogICAgICAgICAgICAgICAgICAgICAgICAgICAgICAgICAgICAgICAgICAgICAgICAgICAgICAgICAgICAgICAgICAgICAgICAgICAgICAgICAgICAgICAgICAgICAgICAgICAgCiAgICAgICAgICAgICAgICAgICAgICAgICAgICAgICAgICAgICAgICAgICAgICAgICAgICAgICAgICAgICAgICAgICAgICAgICAgICAgICAgICAgICAgICAgICAgICAgICAgICAKICAgICAgICAgICAgICAgICAgICAgICAgICAgICAgICAgICAgICAgICAgICAgICAgICAgICAgICAgICAgICAgICAgICAgICAgICAgICAgICAgICAgICAgICAgICAgICAgICAgIAogICAgICAgICAgICAgICAgICAgICAgICAgICAgICAgICAgICAgICAgICAgICAgICAgICAgICAgICAgICAgICAgICAgICAgICAgICAgICAgICAgICAgICAgICAgICAgICAgICAgCiAgICAgICAgICAgICAgICAgICAgICAgICAgICAgICAgICAgICAgICAgICAgICAgICAgICAgICAgICAgICAgICAgICAgICAgICAgICAgICAgICAgICAgICAgICAgICAgICAgICAKICAgICAgICAgICAgICAgICAgICAgICAgICAgICAgICAgICAgICAgICAgICAgICAgICAgICAgICAgICAgICAgICAgICAgICAgICAgICAgICAgICAgICAgICAgICAgICAgICAgIAogICAgICAgICAgICAgICAgICAgICAgICAgICAgICAgICAgICAgICAgICAgICAgICAgICAgICAgICAgICAgICAgICAgICAgICAgICAgICAgICAgICAgICAgICAgICAgICAgICAgCiAgICAgICAgICAgICAgICAgICAgICAgICAgICAgICAgICAgICAgICAgICAgICAgICAgICAgICAgICAgICAgICAgICAgICAgICAgICAgICAgICAgICAgICAgICAgICAgICAgICAKICAgICAgICAgICAgICAgICAgICAgICAgICAgICAgICAgICAgICAgICAgICAgICAgICAgICAgICAgICAgICAgICAgICAgICAgICAgICAgICAgICAgICAgICAgICAgICAgICAgIAogICAgICAgICAgICAgICAgICAgICAgICAgICAgICAgICAgICAgICAgICAgICAgICAgICAgICAgICAgICAgICAgICAgICAgICAgICAgICAgICAgICAgICAgICAgICAgICAgICAgCiAgICAgICAgICAgICAgICAgICAgICAgICAgICAgICAgICAgICAgICAgICAgICAgICAgICAgICAgICAgICAgICAgICAgICAgICAgICAgICAgICAgICAgICAgICAgICAgICAgICAKICAgICAgICAgICAgICAgICAgICAgICAgICAgICAgICAgICAgICAgICAgICAgICAgICAgICAgICAgICAgICAgICAgICAgICAgICAgICAgICAgICAgICAgICAgICAgICAgICAgIAogICAgICAgICAgICAgICAgICAgICAgICAgICAgICAgICAgICAgICAgICAgICAgICAgICAgICAgICAgICAgICAgICAgICAgICAgICAgICAgICAgICAgICAgICAgICAgICAgICAgCiAgICAgICAgICAgICAgICAgICAgICAgICAgICAgICAgICAgICAgICAgICAgICAgICAgICAgICAgICAgICAgICAgICAgICAgICAgICAgICAgICAgICAgICAgICAgICAgICAgICAKICAgICAgICAgICAgICAgICAgICAgICAgICAgICAgICAgICAgICAgICAgICAgICAgICAgICAgICAgICAgICAgICAgICAgICAgICAgICAgICAgICAgICAgICAgICAgICAgICAgIAogICAgICAgICAgICAgICAgICAgICAgICAgICAgICAgICAgICAgICAgICAgICAgICAgICAgICAgICAgICAgICAgICAgICAgICAgICAgICAgICAgICAgICAgICAgICAgICAgICAgCiAgICAgICAgICAgICAgICAgICAgICAgICAgICAgICAgICAgICAgICAgICAgICAgICAgICAgICAgICAgICAgICAgICAgICAgICAgICAgICAgICAgICAgICAgICAgICAgICAgICAKICAgICAgICAgICAgICAgICAgICAgICAgICAgICAgICAgICAgICAgICAgICAgICAgICAgICAgICAgICAgICAgICAgICAgICAgICAgICAgICAgICAgICAgICAgICAgICAgICAgIAogICAgICAgICAgICAgICAgICAgICAgICAgICAgICAgICAgICAgICAgICAgICAgICAgICAgICAgICAgICAgICAgICAgICAgICAgICAgICAgICAgICAgICAgICAgICAgICAgICAgCiAgICAgICAgICAgICAgICAgICAgICAgICAgICAgICAgICAgICAgICAgICAgICAgICAgICAgICAgICAgICAgICAgICAgICAgICAgICAgICAgICAgICAgICAgICAgICAgICAgICAKICAgICAgICAgICAgICAgICAgICAgICAgICAgICAgICAgICAgICAgICAgICAgICAgICAgICAgICAgICAgICAgICAgICAgICAgICAgICAgICAgICAgICAgICAgICAgICAgICAgIAogICAgICAgICAgICAgICAgICAgICAgICAgICAgICAgICAgICAgICAgICAgICAgICAgICAgICAgICAgICAgICAgICAgICAgICAgICAgICAgICAgICAgICAgICAgICAgICAgICAgCiAgICAgICAgICAgICAgICAgICAgICAgICAgICAgICAgICAgICAgICAgICAgICAgICAgICAgICAgICAgICAgICAgICAgICAgICAgICAgICAgICAgICAgICAgICAgICAgICAgICAKICAgICAgICAgICAgICAgICAgICAgICAgICAgICAgICAgICAgICAgICAgICAgICAgICAgICAgICAgICAgICAgICAgICAgICAgICAgICAgICAgICAgICAgICAgICAgICAgICAgIAogICAgICAgICAgICAgICAgICAgICAgICAgICAgICAgICAgICAgICAgICAgICAgICAgICAgICAgICAgICAgICAgICAgICAgICAgICAgICAgICAgICAgICAgICAgICAgICAgICAgCiAgICAgICAgICAgICAgICAgICAgICAgICAgICAgICAgICAgICAgICAgICAgICAgICAgICAgICAgICAgICAgICAgICAgICAgICAgICAgICAgICAgICAgICAgICAgICAgICAgICAKICAgICAgICAgICAgICAgICAgICAgICAgICAgICAgICAgICAgICAgICAgICAgICAgICAgICAgICAgICAgICAgICAgICAgICAgICAgICAgICAgICAgICAgICAgICAgICAgICAgIAogICAgICAgICAgICAgICAgICAgICAgICAgICAgICAgICAgICAgICAgICAgICAgICAgICAgICAgICAgICAgICAgICAgICAgICAgICAgICAgICAgICAgICAgICAgICAgICAgICAgCiAgICAgICAgICAgICAgICAgICAgICAgICAgICAgICAgICAgICAgICAgICAgICAgICAgICAgICAgICAgICAgICAgICAgICAgICAgICAgICAgICAgICAgICAgICAgICAgICAgICAKICAgICAgICAgICAgICAgICAgICAgICAgICAgICAgICAgICAgICAgICAgICAgICAgICAgICAgICAgICAgICAgICAgICAgICAgICAgICAgICAgICAgICAgICAgICAgICAgICAgIAogICAgICAgICAgICAgICAgICAgICAgICAgICAgICAgICAgICAgICAgICAgICAgICAgICAgICAgICAgICAgICAgICAgICAgICAgICAgICAgICAgICAgICAgICAgICAgICAgICAgCiAgICAgICAgICAgICAgICAgICAgICAgICAgICAgICAgICAgICAgICAgICAgICAgICAgICAgICAgICAgICAgICAgICAgICAgICAgICAgICAgICAgICAgICAgICAgICAgICAgICAKICAgICAgICAgICAgICAgICAgICAgICAgICAgICAgICAgICAgICAgICAgICAgICAgICAgICAgICAgICAgICAgICAgICAgICAgICAgICAgICAgICAgICAgICAgICAgICAgICAgIAogICAgICAgICAgICAgICAgICAgICAgICAgICAgICAgICAgICAgICAgICAgICAgICAgICAgICAgICAgICAgICAgICAgICAgICAgICAgICAgICAgICAgICAgICAgICAgICAgICAgCiAgICAgICAgICAgICAgICAgICAgICAgICAgICAgICAgICAgICAgICAgICAgICAgICAgICAgICAgICAgICAgICAgICAgICAgICAgICAgICAgICAgICAgICAgICAgICAgICAgICAKICAgICAgICAgICAgICAgICAgICAgICAgICAgICAgICAgICAgICAgICAgICAgICAgICAgICAgICAgICAgICAgICAgICAgICAgICAgICAgICAgICAgICAgICAgICAgICAgICAgIAogICAgICAgICAgICAgICAgICAgICAgICAgICAgICAgICAgICAgICAgICAgICAgICAgICAgICAgICAgICAgICAgICAgICAgICAgICAgICAgICAgICAgICAgICAgICAgICAgICAgCiAgICAgICAgICAgICAgICAgICAgICAgICAgICAgICAgICAgICAgICAgICAgICAgICAgICAgICAgICAgICAgICAgICAgICAgICAgICAgICAgICAgICAgICAgICAgICAgICAgICAKICAgICAgICAgICAgICAgICAgICAgICAgICAgICAgICAgICAgICAgICAgICAgICAgICAgICAgICAgICAgICAgICAgICAgICAgICAgICAgICAgICAgICAgICAgICAgICAgICAgIAogICAgICAgICAgICAgICAgICAgICAgICAgICAgICAgICAgICAgICAgICAgICAgICAgICAgICAgICAgICAgICAgICAgICAgICAgICAgICAgICAgICAgICAgICAgICAgICAgICAgCiAgICAgICAgICAgICAgICAgICAgICAgICAgICAgICAgICAgICAgICAgICAgICAgICAgICAgICAgICAgICAgICAgICAgICAgICAgICAgICAgICAgICAgICAgICAgICAgICAgICAKICAgICAgICAgICAgICAgICAgICAgICAgICAgICAgICAgICAgICAgICAgICAgICAgICAgICAgICAgICAgICAgICAgICAgICAgICAgICAgICAgICAgICAgICAgICAgICAgICAgIAogICAgICAgICAgICAgICAgICAgICAgICAgICAgICAgICAgICAgICAgICAgICAgICAgICAgICAgICAgICAgICAgICAgICAgICAgICAgICAgICAgICAgICAgICAgICAgICAgICAgCiAgICAgICAgICAgICAgICAgICAgICAgICAgICAgICAgICAgICAgICAgICAgICAgICAgICAgICAgICAgICAgICAgICAgICAgICAgICAgICAgICAgICAgICAgICAgICAgICAgICAKICAgICAgICAgICAgICAgICAgICAgICAgICAgICAgICAgICAgICAgICAgICAgICAgICAgICAgICAgICAgICAgICAgICAgICAgICAgICAgICAgICAgICAgICAgICAgICAgICAgIAogICAgICAgICAgICAgICAgICAgICAgICAgICAgICAgICAgICAgICAgICAgICAgICAgICAgICAgICAgICAgICAgICAgICAgICAgICAgICAgICAgICAgICAgICAgICAgICAgICAgCiAgICAgICAgICAgICAgICAgICAgICAgICAgICAgICAgICAgICAgICAgICAgICAgICAgICAgICAgICAgICAgICAgICAgICAgICAgICAgICAgICAgICAgICAgICAgICAgICAgICAKICAgICAgICAgICAgICAgICAgICAgICAgICAgICAgICAgICAgICAgICAgICAgICAgICAgICAgICAgICAgICAgICAgICAgICAgICAgICAgICAgICAgICAgICAgICAgICAgICAgIAogICAgICAgICAgICAgICAgICAgICAgICAgICAgICAgICAgICAgICAgICAgICAgICAgICAgICAgICAgICAgICAgICAgICAgICAgICAgICAgICAgICAgICAgICAgICAgICAgICAgCiAgICAgICAgICAgICAgICAgICAgICAgICAgICAgICAgICAgICAgICAgICAgICAgICAgICAgICAgICAgICAgICAgICAgICAgICAgICAgICAgICAgICAgICAgICAgICAgICAgICAKICAgICAgICAgICAgICAgICAgICAgICAgICAgICAgICAgICAgICAgICAgICAgICAgICAgICAgICAgICAgICAgICAgICAgICAgICAgICAgICAgICAgICAgICAgICAgICAgICAgIAogICAgICAgICAgICAgICAgICAgICAgICAgICAgICAgICAgICAgICAgICAgICAgICAgICAgICAgICAgICAgICAgICAgICAgICAgICAgICAgICAgICAgICAgICAgICAgICAgICAgCiAgICAgICAgICAgICAgICAgICAgICAgICAgICAgICAgICAgICAgICAgICAgICAgICAgICAgICAgICAgICAgICAgICAgICAgICAgICAgICAgICAgICAgICAgICAgICAgICAgICAKICAgICAgICAgICAgICAgICAgICAgICAgICAgICAgICAgICAgICAgICAgICAgICAgICAgICAgICAgICAgICAgICAgICAgICAgICAgICAgICAgICAgICAgICAgICAgICAgICAgIAogICAgICAgICAgICAgICAgICAgICAgICAgICAgICAgICAgICAgICAgICAgICAgICAgICAgICAgICAgICAgICAgICAgICAgICAgICAgICAgICAgICAgICAgICAgICAgICAgICAgCiAgICAgICAgICAgICAgICAgICAgICAgICAgICAgICAgICAgICAgICAgICAgICAgICAgICAgICAgICAgICAgICAgICAgICAgICAgICAgICAgICAgICAgICAgICAgICAgICAgICAKICAgICAgICAgICAgICAgICAgICAgICAgICAgICAgICAgICAgICAgICAgICAgICAgICAgICAgICAgICAgICAgICAgICAgICAgICAgICAgICAgICAgICAgICAgICAgICAgICAgIAogICAgICAgICAgICAgICAgICAgICAgICAgICAgICAgICAgICAgICAgICAgICAgICAgICAgICAgICAgICAgICAgICAgICAgICAgICAgICAgICAgICAgICAgICAgICAgICAgICAgCiAgICAgICAgICAgICAgICAgICAgICAgICAgICAgICAgICAgICAgICAgICAgICAgICAgICAgICAgICAgICAgICAgICAgICAgICAgICAgICAgICAgICAgICAgICAgICAgICAgICAKICAgICAgICAgICAgICAgICAgICAgICAgICAgICAgICAgICAgICAgICAgICAgICAgICAgICAgICAgICAgICAgICAgICAgICAgICAgICAgICAgICAgICAgICAgICAgICAgICAgIAogICAgICAgICAgICAgICAgICAgICAgICAgICAgICAgICAgICAgICAgICAgICAgICAgICAgICAgICAgICAgICAgICAgICAgICAgICAgICAgICAgICAgICAgICAgICAgICAgICAgCiAgICAgICAgICAgICAgICAgICAgICAgICAgICAgICAgICAgICAgICAgICAgICAgICAgICAgICAgICAgICAgICAgICAgICAgICAgICAgICAgICAgICAgICAgICAgICAgICAgICAKICAgICAgICAgICAgICAgICAgICAgICAgICAgICAgICAgICAgICAgICAgICAgICAgICAgICAgICAgICAgICAgICAgICAgICAgICAgICAgICAgICAgICAgICAgICAgICAgICAgIAogICAgICAgICAgICAgICAgICAgICAgICAgICAgICAgICAgICAgICAgICAgICAgICAgICAgICAgICAgICAgICAgICAgICAgICAgICAgICAgICAgICAgICAgICAgICAgICAgICAgCiAgICAgICAgICAgICAgICAgICAgICAgICAgICAgICAgICAgICAgICAgICAgICAgICAgICAgICAgICAgICAgICAgICAgICAgICAgICAgICAgICAgICAgICAgICAgICAgICAgICAKICAgICAgICAgICAgICAgICAgICAgICAgICAgICAgICAgICAgICAgICAgICAgICAgICAgICAgICAgICAgICAgICAgICAgICAgICAgICAgICAgICAgICAgICAgICAgICAgICAgIAogICAgICAgICAgICAgICAgICAgICAgICAgICAgICAgICAgICAgICAgICAgICAgICAgICAgICAgICAgICAgICAgICAgICAgICAgICAgICAgICAgICAgICAgICAgICAgICAgICAgCiAgICAgICAgICAgICAgICAgICAgICAgICAgICAgICAgICAgICAgICAgICAgICAgICAgICAgICAgICAgICAgICAgICAgICAgICAgICAgICAgICAgICAgICAgICAgICAgICAgICAKICAgICAgICAgICAgICAgICAgICAgICAgICAgICAgICAgICAgICAgICAgICAgICAgICAgICAgICAgICAgICAgICAgICAgICAgICAgICAgICAgICAgICAgICAgICAgICAgICAgIAogICAgICAgICAgICAgICAgICAgICAgICAgICAgICAgICAgICAgICAgICAgICAgICAgICAgICAgICAgICAgICAgICAgICAgICAgICAgICAgICAgICAgICAgICAgICAgICAgICAgCiAgICAgICAgICAgICAgICAgICAgICAgICAgICAgICAgICAgICAgICAgICAgICAgICAgICAgICAgICAgICAgICAgICAgICAgICAgICAgICAgICAgICAgICAgICAgICAgICAgICAKICAgICAgICAgICAgICAgICAgICAgICAgICAgICAgICAgICAgICAgICAgICAgICAgICAgICAgICAgICAgICAgICAgICAgICAgICAgICAgICAgICAgICAgICAgICAgICAgICAgIAogICAgICAgICAgICAgICAgICAgICAgICAgICAgICAgICAgICAgICAgICAgICAgICAgICAgICAgICAgICAgICAgICAgICAgICAgICAgICAgICAgICAgICAgICAgICAgICAgICAgCiAgICAgICAgICAgICAgICAgICAgICAgICAgICAgICAgICAgICAgICAgICAgICAgICAgICAgICAgICAgICAgICAgICAgICAgICAgICAgICAgICAgICAgICAgICAgICAgICAgICAKICAgICAgICAgICAgICAgICAgICAgICAgICAgICAgICAgICAgICAgICAgICAgICAgICAgICAgICAgICAgICAgICAgICAgICAgICAgICAgICAgICAgICAgICAgICAgICAgICAgIAogICAgICAgICAgICAgICAgICAgICAgICAgICAgICAgICAgICAgICAgICAgICAgICAgICAgICAgICAgICAgICAgICAgICAgICAgICAgICAgICAgICAgICAgICAgICAgICAgICAgCiAgICAgICAgICAgICAgICAgICAgICAgICAgICAgICAgICAgICAgICAgICAgICAgICAgICAgICAgICAgICAgICAgICAgICAgICAgICAgICAgICAgICAgICAgICAgICAgICAgICAKICAgICAgICAgICAgICAgICAgICAgICAgICAgICAgICAgICAgICAgICAgICAgICAgICAgICAgICAgICAgICAgICAgICAgICAgICAgICAgICAgICAgICAgICAgICAgICAgICAgIAogICAgICAgICAgICAgICAgICAgICAgICAgICAgICAgICAgICAgICAgICAgICAgICAgICAgICAgICAgICAgICAgICAgICAgICAgICAgICAgICAgICAgICAgICAgICAgICAgICAgCiAgICAgICAgICAgICAgICAgICAgICAgICAgICAgICAgICAgICAgICAgICAgICAgICAgICAgICAgICAgICAgICAgICAgICAgICAgICAgICAgICAgICAgICAgICAgICAgICAgICAKICAgICAgICAgICAgICAgICAgICAgICAgICAgICAgICAgICAgICAgICAgICAgICAgICAgICAgICAgICAgICAgICAgICAgICAgICAgICAgICAgICAgICAgICAgICAgICAgICAgIAogICAgICAgICAgICAgICAgICAgICAgICAgICAgICAgICAgICAgICAgICAgICAgICAgICAgICAgICAgICAgICAgICAgICAgICAgICAgICAgICAgICAgICAgICAgICAgICAgICAgCiAgICAgICAgICAgICAgICAgICAgICAgICAgICAgICAgICAgICAgICAgICAgICAgICAgICAgICAgICAgICAgICAgICAgICAgICAgICAgICAgICAgICAgICAgICAgICAgICAgICAKICAgICAgICAgICAgICAgICAgICAgICAgICAgICAgICAgICAgICAgICAgICAgICAgICAgICAgICAgICAgICAgICAgICAgICAgICAgICAgICAgICAgICAgICAgICAgICAgICAgIAogICAgICAgICAgICAgICAgICAgICAgICAgICAgICAgICAgICAgICAgICAgICAgICAgICAgICAgICAgICAgICAgICAgICAgICAgICAgICAgICAgICAgICAgICAgICAgICAgICAgCiAgICAgICAgICAgICAgICAgICAgICAgICAgICAgICAgICAgICAgICAgICAgICAgICAgICAgICAgICAgICAgICAgICAgICAgICAgICAgICAgICAgICAgICAgICAgICAgICAgICAKICAgICAgICAgICAgICAgICAgICAgICAgICAgICAgICAgICAgICAgICAgICAgICAgICAgICAgICAgICAgICAgICAgICAgICAgICAgICAgICAgICAgICAgICAgICAgICAgICAgIAogICAgICAgICAgICAgICAgICAgICAgICAgICAgICAgICAgICAgICAgICAgICAgICAgICAgICAgICAgICAgICAgICAgICAgICAgICAgICAgICAgICAgICAgICAgICAgICAgICAgCiAgICAgICAgICAgICAgICAgICAgICAgICAgICAgICAgICAgICAgICAgICAgICAgICAgICAgICAgICAgICAgICAgICAgICAgICAgICAgICAgICAgICAgICAgICAgICAgICAgICAKICAgICAgICAgICAgICAgICAgICAgICAgICAgICAgICAgICAgICAgICAgICAgICAgICAgICAgICAgICAgICAgICAgICAgICAgICAgICAgICAgICAgICAgICAgICAgICAgICAgIAogICAgICAgICAgICAgICAgICAgICAgICAgICAgICAgICAgICAgICAgICAgICAgICAgICAgICAgICAgICAgICAgICAgICAgICAgICAgICAgICAgICAgICAgICAgICAgICAgICAgCiAgICAgICAgICAgICAgICAgICAgICAgICAgICAgICAgICAgICAgICAgICAgICAgICAgICAgICAgICAgICAgICAgICAgICAgICAgICAgICAgICAgICAgICAgICAgICAgICAgICAKICAgICAgICAgICAgICAgICAgICAgICAgICAgICAgICAgICAgICAgICAgICAgICAgICAgICAgICAgICAgICAgICAgICAgICAgICAgICAgICAgICAgICAgICAgICAgICAgICAgIAogICAgICAgICAgICAgICAgICAgICAgICAgICAgICAgICAgICAgICAgICAgICAgICAgICAgICAgICAgICAgICAgICAgICAgICAgICAgICAgICAgICAgICAgICAgICAgICAgICAgCiAgICAgICAgICAgICAgICAgICAgICAgICAgICAgICAgICAgICAgICAgICAgICAgICAgICAgICAgICAgICAgICAgICAgICAgICAgICAgICAgICAgICAgICAgICAgICAgICAgICAKICAgICAgICAgICAgICAgICAgICAgICAgICAgICAgICAgICAgICAgICAgICAgICAgICAgICAgICAgICAgICAgICAgIDw/eHBhY2tldCBlbmQ9J3cnPz7/2wBDAAMCAgMCAgMDAwMEAwMEBQgFBQQEBQoHBwYIDAoMDAsKCwsNDhIQDQ4RDgsLEBYQERMUFRUVDA8XGBYUGBIUFRT/2wBDAQMEBAUEBQkFBQkUDQsNFBQUFBQUFBQUFBQUFBQUFBQUFBQUFBQUFBQUFBQUFBQUFBQUFBQUFBQUFBQUFBQUFBT/wAARCAKQBPQDASIAAhEBAxEB/8QAHwAAAQUBAQEBAQEAAAAAAAAAAAECAwQFBgcICQoL/8QAtRAAAgEDAwIEAwUFBAQAAAF9AQIDAAQRBRIhMUEGE1FhByJxFDKBkaEII0KxwRVS0fAkM2JyggkKFhcYGRolJicoKSo0NTY3ODk6Q0RFRkdISUpTVFVWV1hZWmNkZWZnaGlqc3R1dnd4eXqDhIWGh4iJipKTlJWWl5iZmqKjpKWmp6ipqrKztLW2t7i5usLDxMXGx8jJytLT1NXW19jZ2uHi4+Tl5ufo6erx8vP09fb3+Pn6/8QAHwEAAwEBAQEBAQEBAQAAAAAAAAECAwQFBgcICQoL/8QAtREAAgECBAQDBAcFBAQAAQJ3AAECAxEEBSExBhJBUQdhcRMiMoEIFEKRobHBCSMzUvAVYnLRChYkNOEl8RcYGRomJygpKjU2Nzg5OkNERUZHSElKU1RVVldYWVpjZGVmZ2hpanN0dXZ3eHl6goOEhYaHiImKkpOUlZaXmJmaoqOkpaanqKmqsrO0tba3uLm6wsPExcbHyMnK0tPU1dbX2Nna4uPk5ebn6Onq8vP09fb3+Pn6/9oADAMBAAIRAxEAPwD9U6KKKACiiigAooooAKKKKACiiigAooooAKKKKACiiigAooooAKKKKACiiigAooooAKKrPqFtG217iJG9GcA/zqaORJV3IwdfVTkUAPooooAKKKKACiiigAooooAKKKKACiiigAooooAKKKKACiiigAooooAKKKKACiiigAooooAKKKKACiiigAooooAKKKKACiiigAooooAKKKKACiiigAooooAKKKKACiiigAooooAKKKKACiiigAooooAKKKKACiiigAooooAKKKKACiiigAooooAKKKKACiiigAooooAKKKKACiiigAooooAKKKKACiiigAooooAKKKKACiiigAooooAKKKKACiiigAooooAKKKKACiiigAooooAKKKqRXvmX81ttwY1Dbs9c+1AFuiiigBvakpa47xz8VvDnw9jH9rX3+ksMpaQDfK3vtHQe5wPerp051ZKFNNt9jCtXpYeDqVZKKXc7EmjtXzxdftgWCTkW3h24mi/vyXCo3/fIB/nXUeEf2mfCniS4jtb0zaLcScKboDyifTeOB9SAPevRnleMpx55U3Y8iln2W1p+zjWV/u/E9hoqOORZkV0ZXQjIKnI+uakryz3t9UFFFFABRRRQAUUUUAFFFFABRRRQAUUUUAFFFFABRRRQAUUUUAFFFFABRRRQAzp2ryD4jftW/DX4X6o+ma1r6tqEfElraRmZ4z6Njofaui+PHiq88E/B/wAW65p4Y3tnp8jwlRkqxGAw9xnP4V8h/sT/ALOfg/4reDdT8Z+Mbb/hI9Sub2WBYbiRtsQABZiAeWYknJ6DGMc5+nyzL8LPC1MfjpP2cWklHdt69djwsdjK8a8MLhUueSvd7WR9f/DL42eDfi7aSTeF9agv2j/1kH3ZU/3lPOKxfiX+038PPhLfGw1/X401ADLWdspmlQf7Sr0+h5rhI/2b/Bv7PNt4w8feFYL1dWg06aS1tnuC0VvhDwq9WGcH5ienGK8F/Ym+BHhn45Wvibxv44RvEF+NQa2W1uJG27iiSNK4ByxO/aAeBtPU4x20cuyycauNc5+whZWsuZt9O1l3OWpjcdF08Nyx9rK+t9LI+x/hl8dvBPxeWT/hGNchvZ4xl7V8pMo9dp5x7il0f47+DNe+I114Gs9V83xLbvIklp5ZGGQEsM9OADXxH+0R8O9N/Zd+PHgnXPAkk2npfSLI+nRuWwBIquq5OSrqSMHv0rW+DMhm/wCChniCQjaXuL9iPTMRNds+H8JKhPGUZt03TlON7XTTs0/+Acsc3xEascPVilNTUXbaz6o+zfid8avCXwdispPFOpf2cl4zLCfLLbioBPT61h6z+058OPD/AIsm8O6l4hjs9UijSWRJkIVVaISqS3TlGU/jXzd/wU6Yf2Z4IHfzpzj22rXm/wAQ/AOnfET9tTRdA1FT9hv7fTTdKrbWkUWkW4ZHcqoFVluQYPE4SnicRKS5ozk7W+y0tPvYYzNsTRxE6FJJ2cUr/wB5H2zb/tPfDy48Bz+MG1r7NoMdw1qlxPGymaReqxr1b8KxfA/7ZXws8fa1FpWn681reSv5cS30DQLI3YKW457V4x+2l+zPqV14F8NJ8O9B3aTory+do+nJ8w34Pmqg5c5GDjLdD615N4N+KHwcvvFWg2nxE+FH/CIanYOsbXWmho7dpOAGmhIVsA4PViPpTw2SZfi8G8RQU5tt6JxvFLa6erv5CrZnjMPiFSq8sUratOzvvZ9D9CPH/wATPDPwx0c6p4l1a30u0JwrSt8zn0VRyT9K8+8GfthfC3x1rUelaf4iWG8lIWJbyJoRIx6BS3Ga+Mf2nvFH/CcftRW+mXuk6h4m8O6akaW2i6S5V7iLy9/yFQxAbglgM4zjHUUfizpWneM/DsNv4V+APiTwdrNvIrRX9vDKykD7yuojGTjoc5BrfDcM4b2NL6zKXNUV7pxSintdN3fnYyrZ5X9pP2KXLF2tZtvvZo/QP4mfHjwZ8H7ixg8UaqunyXqs8A8tn3AcE8Ung/48eC/Hmv63pOiaqL2TR08y8uVUi3QBsHEh4ODnp6V+eH7Tmq6/rXw5+Eknie2urTWo9Pnt5kvY2SVtkgVWZWAOSADXt37Wng/SP2b/ANn+w0LwZZLpr65cx2eo38efPuVRGcl26ncQeOnOOlYPh3Cxp4ek5t1arkla3L7r1ffboarOMRKdWaiuSCTd99Vse36h+2t8JNN1xtMk8TB5FfY08ULPCDnH3wMY967Dwv8AtAeBfGnjZ/Cmi65DqGsLEZvLhBZSgVWJDdDwwrxf4K/sX/DO7+E2kTazpSa7qWpWiTz6gZnBDOoP7sq3ygZ4x+NeIfsq+DLf4efttaz4ctbr7ba6bDeQxT5BJQBSAxHG4AgH3BrJ5VlFenifqsp81GLetrNrqjT6/mFKdH2yjy1Glpurn6P0UUV8AfXHO+EdSudQbWxcSmUW+pTQR5AG1FC4Xj0ya6KuV8C/f8Sf9hif+SV1VACdOTXHa94gkuJnggcpAvBK8Fj/AIV1GpymHTrl1+8sbEflXkc15o//AAlFhba5PGNPaGRikjYQSDbtLY7YzgnjPvigCzd6tBZz+SwkllCeYywxs5Vc43NjoOD+RrS03VXh8u5tJcowDAg5Vh7iuf8Ah62tTXGv3+g2lncaZM8lpbf2hdtFIFjlk8ptoRmCYdhhtrY24GOuFay6VpnhPxFFq7rD4ns90dsySlgshX5GiZTjaGILegzuAp2Fc960nUk1S1WVeG6MvoavVyHge5ErTBJBJGyK4ZTlT7j866+kMZJIsaFnIC+tV/tUrcpbOV9SQD+VEv7y8hQ/dVWfHuCAP515B4s/aLX4f6pquieIfDl8viQybfD+n6eGnXXVdtsYhfaArqTiRWxsHzfMMUwPZILhZsgBlYdVYYIqasPR7jUbjSdJutWs4tP1eSNBdWtvN5qRSMuWUNgZAPfH59a3KQBRRRQAUUUUAFFFFABRRRQAUUUUAFFFFABRRRQAUUUUAFFFFABRRRQAUUUUAFFFFABRRRQAUUUUAFFFFABRRRQAUUUUAFFFFABRRRQAUUUUAFFFFABRRRQAUUUUAFFFFABRRRQAUUUUAFFFFABRRRQAUUUUAFFFFABRRRQAUUUUAFFFFABRRRQAUUUUAFFFFABRRRQAUUUUAFFFFABRRRQAUUUUAFFFFABRRRQAUUUUAFFFFABRRRQAUUUUAFFFFABRRRQAVmWv/Idvf+uUf9a06zLX/kO3v/XKP+tAGnRRRQB598ZfiQvw38JvdRbW1G4PlWyN03Y5J9gOa+JdU1S61rUJ72+ne5uZmLSSyHLEmvaP2tNUlm8aabYM37mCz80L23O7A/8AoArwyv0rJMLClhlVt70uvkfh/E+PqYnGyot+7DS3n1Z7H4G/Zr1fxh4bi1aS/hsFuF328bIWLL2LY6A15f4k8P3nhXXLvSr5Al1bOUYDofQj2I5r6w+CvxS0Gb4b2EN/qttZ3enxGGaO4lWNgFJwQCeRjH4ivmP4l+JI/F3jnV9UhbdbzTnyieuwcL+gFPAYnF1sVVp1l7q20t10/AWa4LL8PgaFXDSvOVr636a3PWf2b/i5cWeqQeFtUnMtnNkWckhyY267M+h7Dsa+o/5V+c+lX8mlapaXkRKyW8yygj1Vgf6V97+KPFtv4R8EX/iG8UtBY2bXTopwWwucA9snivnc/wALChWjVgrc2/qj7PhHHVMVQlh6ju4PT0fQ6L0o9a828M+NNbh8RT6Z4i1vwxeX62ZvX0PR0lXULRcZC7TI5nHbcFjyRkLzgYPij45XJ8P6k9nomr6HrWl6npsNxp17HazTywXFwiBo/KlljIdRIoywYFTkLwa+WtqkferV2PaDSV5o3xvtI7REm8M6/Drb339nf2CUtmu1mMbSKCyzmEKyqSG83b6kU0/GOOxh1Lz9OvtU1FNXfTLXSrGCGKd2WFJWUtJceUdqsxMjOinGAM43LrYLrTzPTuKT2ry/S/idJrHi52tIrq40ltCS+TT44Va4+0Gd4ymQcbvlC/e2jGcgZNbHh34pWevaDr+oz6ZqGhzaG7JfWGomBpoyIllBDQySRsCrAgq55yDggim9CmmmkdxRXlnhH4gazqHiHSItX1rwpCms2zXlr4fgMialHCVLI4cyMJ+ByBFGBkkE7cGaX47adp/9uf2n4f13SX0y3F6sdzFAz3cBkCB4kjmcg5K5SQI43DKg5ALa26i3PTaM157b/Fp7rVLXToPB3iKa9YRy3saLaf8AEuidsI8xNxg7lBbZEZJABygJAOVb/Ed/Dei63rstnr/iqP8AtG6jlhtIbaJbKKB2Q7RJMgKgLn7zSOSSFAwqq6Dpc9ZorP07VodW0m31C13SwTxCaMBcMykZAwe9UbPxlpF3ob6ubtbezi4m+0Dy3gYdUdTyrA8bTznpnIpivc3qKp6XqC6pp9vdrFNAkyB1juIzHIAem5TyD7HmrlAwooooAKKKKACiiigAooooAzPEGh2fibRb7Sb+ITWd5C0EsZ/iVhg/zr4S/wCGePjn+zr4k1L/AIVbf/2n4fv33CLeh+haNuAwGBuB5r7+pNvevay7Nq2XKUIpShLeMldPs/U8zGZfTxjUm3GS2a0Z8pfs6/BT4sL4j1fxF8T/ABLPNaapC0U+hmYSJMGXHzKBtQAEjC4Nea6p+zP8Y/2fPGmp6j8ItQ+3aJqDZNqWXeBkkK6NwduThgQf1r73orup8RYqFadTki4ySThyrlsttPLucksnoSpxgpNSjqpX11PiP4V/ssfEL4ifE+y8e/GK+EjWMiywWG8MWZTlRhflVQQDgdai+Pn7NvxH8LfG5/id8Kx9qnun857dGUSRSldrja2AyMMnrxkj0NfcOaWrjxJjI4j2/LHls48lvd5X0sT/AGLh3R9nd817819b97n5w/Ff9nv9oX41x6drXii2trq8j3RR6dFIkYt04JYgHGWPuTxXrLfAHxo37XmheNhpqf8ACPWttaRy3HnLlSlqqMNvXhgRX2L2pOBzWlTibE1IKmoRjFRlFJKySla/5EwyShGXO5Nu6bbfVHz/APtT/D34peL7PSb34b+JJNOksHEk2mpIIvPYNlW345xjBQ8HvXzl4w+CPx//AGjtW0W08b6Tpuk2tgxB1AIiNtONxJUsWOBwOBmv0NpRiubA59WwFNQp04NxvaTWqvvqbYrKaWLqOc5ys7XV9HY+Rfj1+yNruoah4d8YfDjUfsXi7RbeGBvMfYZ/KUKrhuQGwMFSMMDg965a00L9q/x9qGn6fqV7D4Xs7eZZJL6MRpuAPUhSS3+7wDX3HkUfWqp8Q4iNFUqtOFRxVk5K7Sfb9CZ5PRlNzhKUU90noz43/bQ/Z+8dfFq88GvoFomryafatHdz71iBkJByFJ74Jr334+fBmy+OXw4uvDt3J9lucia1usZ8mZehI7g9D7GvSsCiuGWb4nkw8Y2TotuLXm03f7jqjl1FSqyevtEk16Kx+ffhv4b/ALU3w10//hDdAuVbRVYxW94JYmSFD3VmG4DvjBx2rov2Yv2YPiD8K/2hZPEHiOKO80/7LcCTVFn3GaWQKScHkksWBJ9M19xH0pf516tbibE1adSkqUI+0VpNKzd+tzgp5JRhOE3OT5HdJvRC0tFFfIH0ZyvgX7/iT/sMT/ySuqqjp+l22mNcm3jMf2iZriX5idztjJ56dBwOKvUARTxCeF4z0YEGvLLC01jwffajFZvZn7ROZWknhJkOegLA8gdvSvWKz9U0a31RP3gKSD7si9R/jQB5Dr2g3XirUWvNRuI4JvszQBrANEzbiMM5By23bwD0yfWtvT9X17S7CGztzpqQRIECrAyggDGSAcc966OTwbchsJPEy+rZB/LBq7p3hGKBw9y/nEchAML+PrQKxR+Hfh6TSLO+uZ/LWS+nM/lwJsjQEAYVew4z9ST3rsaaoCgAcDoAKdQMrXMbMySR48xDwPUdxVWY2lxcQTXFsDc25LQs8W5oyQVYq2OMgkHB5FadFAFSNXuJlkdSkafdVupPqat0UUAFFFFABRRRQAUUUUAFFFFABRRRQAUUUUAFFFFABRRRQAUUUUAFFFFABRRRQAUUUUAFFFFABRRRQAUUUUAFFFFABRRRQAUUUUAFFFFABRRRQAUUUUAFFFFABRRRQAUUUUAFFFFABRRRQAUUUUAFFFFABRRRQAUUUUAFFFFABRRRQAUUUUAFFFFABRRRQAUUUUAFFFFABRRRQAUUUUAFFFFABRRRQAUUUUAFFFFABRRRQAUUUUAFFFFABRRRQAUUUUAFFFFABWZa/wDIdvf+uUf9a06zLX/kO3v/AFyj/rQBp0UUUAfL37XHhuWPVNI1xEJhkjNrIwH3SCWXP1y1cp8FvgevxOs7vULy+eysYJfJVYlBZ2wCevAGCK+rPGfhCx8ceH7rSdQXMMw4dfvIw6MPcGvlHX4fH/wPkk0y2u7i20oyM0NzbxgxyZ7k44OOoPIr7XL8ZOthPqtKajUWzfVeXmfl2cZbSwuYPH4im50nq0uj8z2u1/Zf8GW8BSVbu4dhgu82CPpgcVzfir9lDSxYXE2i6jcQ3KIWjhuMMrEDOCRgj6143/wvLxz/ANDDc/kv+FWdP+LnxE1q6jtLLV728uJDtWKKMMxJ7YArojgsypS53XXzf/AOOeZZJiIezjhnrorLX8zlvBvh+bxN4q03S4kZnnuFRxjoufmJ+gBr7z1rw7Z+IvDl3ot/H5tjdW7W0yA7SyFdpwR0OK8x+BvwZfwX5mu60qvr10CRGoG23U8kccbj3xwOlexc14WdY2OLrKMHdR6931Pq+Gcsnl1CVSorSm726pdLnmq/CnVrozjU/GF1elbCawsZorVYJ7dZFCmRnVsuwAXkBeQTxnjD0v8AZvttLsdYWLWI7a+1KbT7iW4sdNitkElpM0qt5anBZtwDMxJOM55wPaKXNeBdn2Ox5xpPwiFtqlrq2oaxJqOsLqI1G4uhbrEszLC0SIEBO1QrepOazvFH7P8ApfiZLt5prea7k1eTV4G1HT4ryCJ5IliZGhfhxtXIOQQTntz6vS0v6/r7hWW55ZefBMS2vlWWsDR5DpK6Wf7Mslt4hibzQyorAKpO5SoPIY8jrV/4d/B3TvAWl69ZBreeHWpRLdQWllHZ24PlLEQkUfCghQTyTkk5r0P0o3UbldUzzfR/hTf6bqGlC68T3F7o2kLINNsjaqk0JaNo1LTAkvtR2A+UdienPNaJ+zRa6Za6gLnWhc319YLp895Dp8cMkyrIjiSVgS0spKcuxJO7t39tBy1Gad3e/US8jhb74fahH4sbW9E8QPpH2pIY9QtXtVnS48vhWUlgY225UkZGAOOOeZ8Vfs+2/iixNk+sZspbi8nmtbyxS5iYzuXLKjHarqThXIJHpmvYfekFQ0uozN8O6Knh/QtP0yN2ljs4EgV2ABIVQASB9Kp3ngnRr3W01aazD3ilWJ3MEZl+6zJnazDJwSCRW/zS1YkrBRRRSGFFFFABRRRQAUUUUAFFVfMvf+eEH/f5v/iKPMvf+eEH/f5v/iKALVFVfMvf+eEH/f5v/iKPMvf+eEH/AH+b/wCIoAtUlVvMvP8AnjB/3+b/AOIo8y9/54Qf9/m/+IoAtUVV8y9/54Qf9/m/+Io8y9/54Qf9/m/+IoAtUVV8y9/54Qf9/m/+Io8y9/54Qf8Af5v/AIigC1RVXzL3/nhB/wB/m/8AiKPMvf8AnhB/3+b/AOIoAtUVV8y9/wCeEH/f5v8A4ijzL3/nhB/3+b/4igCzS1V8y9/54Qf9/m/+Io8y9/54Qf8Af5v/AIigC1RVXzL3/nhB/wB/m/8AiKPMvf8AnhB/3+b/AOIoAtUVV8y9/wCeEH/f5v8A4ijzL3/nhB/3+b/4igC1RVXzL3/nhB/3+b/4ijzL3/nhB/3+b/4igC1RVXzL3/nhB/3+b/4ijzL3/nhB/wB/m/8AiKALVFVfMvf+eEH/AH+b/wCIo8y9/wCeEH/f5v8A4igC1RVXzL3/AJ4Qf9/m/wDiKPMvf+eEH/f5v/iKALVFVfMvf+eEH/f5v/iKPMvf+eEH/f5v/iKALVFVfMvf+eEH/f5v/iKPMvf+eEH/AH+b/wCIoAtUVV8y9/54Qf8Af5v/AIijzL3/AJ4Qf9/m/wDiKALVFVfMvf8AnhB/3+b/AOIo8y9/54Qf9/m/+IoAtUVV8y9/54Qf9/m/+Io8y9/54Qf9/m/+IoAtUVV8y9/54Qf9/m/+Io8y9/54Qf8Af5v/AIigC1RVXzL3/nhB/wB/m/8AiKPMvf8AnhB/3+b/AOIoAtUVV8y9/wCeEH/f5v8A4ijzL3/nhB/3+b/4igC1RVXzL3/nhB/3+b/4ijzL3/nhB/3+b/4igC1RVXzL3/nhB/3+b/4ijzL3/nhB/wB/m/8AiKALVFVfMvf+eEH/AH+b/wCIo8y9/wCeEH/f5v8A4igC1RVXzL3/AJ4Qf9/m/wDiKPMvf+eEH/f5v/iKALVFVfMvf+eEH/f5v/iKPMvf+eEH/f5v/iKALVFVfMvf+eEH/f5v/iKPMvf+eEH/AH+b/wCIoAtUVV8y9/54Qf8Af5v/AIijzL3/AJ4Qf9/m/wDiKALVFVfMvf8AnhB/3+b/AOIo8y9/54Qf9/m/+IoAtUVV8y9/54Qf9/m/+Io8y9/54Qf9/m/+IoAtUVV8y9/54Qf9/m/+Io8y9/54Qf8Af5v/AIigC1RVXzL3/nhB/wB/m/8AiKPMvf8AnhB/3+b/AOIoAtUVV8y9/wCeEH/f5v8A4ijzL3/nhB/3+b/4igC1RVXzL3/nhB/3+b/4ijzL3/nhB/3+b/4igC1RVXzL3/nhB/3+b/4ijzL3/nhB/wB/m/8AiKALVFVfMvf+eEH/AH+b/wCIo8y9/wCeEH/f5v8A4igC1RVXzL3/AJ4Qf9/m/wDiKPMvf+eEH/f5v/iKALVFVfMvf+eEH/f5v/iKPMvf+eEH/f5v/iKALVFVfMvf+eEH/f5v/iKPMvf+eEH/AH+b/wCIoAtUVV8y9/54Qf8Af5v/AIijzL3/AJ4Qf9/m/wDiKALVFVfMvf8AnhB/3+b/AOIo8y9/54Qf9/m/+IoAtUVV8y9/54Qf9/m/+Io8y9/54Qf9/m/+IoAtUVV8y9/54Qf9/m/+Io8y9/54Qf8Af5v/AIigC1RVXzL3/nhB/wB/m/8AiKPMvf8AnhB/3+b/AOIoAtUVV8y9/wCeEH/f5v8A4ijzL3/nhB/3+b/4igC1RVXzL3/nhB/3+b/4ijzL3/nhB/3+b/4igC1RVXzL3/nhB/3+b/4ijzL3/nhB/wB/m/8AiKALVFVfMvf+eEH/AH+b/wCIo8y9/wCeEH/f5v8A4igC1RVXzL3/AJ4Qf9/m/wDiKPMvf+eEH/f5v/iKALVFVfMvf+eEH/f5v/iKPMvf+eEH/f5v/iKALVFVfMvf+eEH/f5v/iKPMvf+eEH/AH+b/wCIoAtUVV8y9/54Qf8Af5v/AIijzL3/AJ4Qf9/m/wDiKALVFVfMvf8AnhB/3+b/AOIo8y9/54Qf9/m/+IoAtUVV8y9/54Qf9/m/+Io8y9/54Qf9/m/+IoAtUVV8y9/54Qf9/m/+Io8y9/54Qf8Af5v/AIigC1RVXzL3/nhB/wB/m/8AiKPMvf8AnhB/3+b/AOIoAtUVV8y9/wCeEH/f5v8A4ijzL3/nhB/3+b/4igC1RVXzL3/nhB/3+b/4ijzL3/nhB/3+b/4igC1RVXzL3/nhB/3+b/4ijzL3/nhB/wB/m/8AiKALVFVfMvf+eEH/AH+b/wCIo8y9/wCeEH/f5v8A4igC1RVXzL3/AJ4Qf9/m/wDiKPMvf+eEH/f5v/iKALVFVfMvf+eEH/f5v/iKPMvf+eEH/f5v/iKALVFVfMvf+eEH/f5v/iKPMvf+eEH/AH+b/wCIoAtUVV8y9/54Qf8Af5v/AIijzL3/AJ4Qf9/m/wDiKALVRLBGszyhQJHADN646VF5l7/zwg/7/N/8RR5l7/zwg/7/ADf/ABFAFqiqvmXv/PCD/v8AN/8AEUeZe/8APCD/AL/N/wDEUAWar3VnBfQNFcQxzxMMNHIoZT9QeKTzL3/nhB/3+b/4ijfef88IP+/zf/EU02tUJpSVmcjd/BnwVeTmaXw7ZmTr8qlR+QIFb2h+E9H8Nx7dM023sgRgmGMAke56mr/mXv8Azxg/7/H/AOJpN95/zxg/7/N/8TWsq9WcbSk2vU5YYTD05c8KaT7pIt0tVfMvf+eEH/f5v/iKPMvf+eEH/f5v/iKxOstUVV8y9/54Qf8Af5v/AIijzL3/AJ4Qf9/m/wDiKALVFVfMvf8AnhB/3+b/AOIo8y9/54Qf9/m/+IoAtUVV8y9/54Qf9/m/+Io8y9/54Qf9/m/+IoAtUVV8y9/54Qf9/m/+Io8y9/54Qf8Af5v/AIigC1RVXzL3/nhB/wB/m/8AiKPMvf8AnhB/3+b/AOIoAtUVV8y9/wCeEH/f5v8A4ijzL3/nhB/3+b/4igC1RVXzL3/nhB/3+b/4ijzL3/nhB/3+b/4igC1RVXzL3/nhB/3+b/4ijzL3/nhB/wB/m/8AiKALVFVfMvf+eEH/AH+b/wCIo8y9/wCeEH/f5v8A4igC1RVXzL3/AJ4Qf9/m/wDiKKALVFFFABRRSdOTQAlFc5a+PtFu9Pnvorlmt4bv7C7eW2RLuC4xjOMkc9K6PcOmapwlD4kTzJ9R1N20u4etVV1K1e4mgEy+dDtDrnBXd90fjilZsdyzx6U6s3Statdajme0kLrDM0DkqRh1OGHNaO4etDi4uzQXTEOKXqKrLewSXUlssimaNQzJ3APQ1neKPE1v4U0t7+6try5gT7wsrZ53UAEliqgkAAdaFGUmopaickk22bP4UVi+F/FFt4u0tL+1t7y3gflBe2zwMwIBDBWAJBB61tevNOUXB2a1CMlJJpi/zoFYUPjDTJ9WXTkmY3TTSQBfLbG+NQzDOMcAjmtzcPWk4Sja6tcd0OopMiorm6is4WlnkWONeSzHAFIZJ/DRQG3AHqDXM6l4807T9eXSBBfXl0Nnm/YrSSZINx+UyMoIXOCeewJqoxc/hIlJRV5M6iik3D1o3D1qSri0UmR60ZFAxKX1poPcc1ieHvGGl+KJtRj024+0fYZ/s8zBSFD4BwCeCOeo4pqLaultuTzJNJvc3qKgmuord4llkVGlbagY43HGcD34qekUIaK4y3+K2iXHiZ9DK38Nwty1mLmaykS2eYAExrKRtZsHoDXZd6XRMOrQ6iiimAUUlFAC0UVVsb6DUI5Ht5FlWOR4WK9nVirD8CCPwoAtUUlZXiTxLYeE9KfUNSlaK2VlTKqWJZmCgADk8kUAaopajjlWWNXQ7kYAgjoQehqK7voLGES3EixRlgu4+pOAPzoAs0UlLQAUUlLQAUVG8ix43MFBOBk457CsXxT4x0rwXZ29zqtx5Ec88dtCqozs8jsFUBQCep5PYcmgDeopu4Yz2rl/D/xA07xRqk1nYW2pSRRFwL57GRbRyrbWCTEbWIYEcHqD6UAdVRRRQAlFFYcPiyyufE1xoMSXUt5bxCWaRLdzBHkAqrSY2hiCCFznHNAG7RXEeH/itpniTxDLolvpevW97CA0v2zSZ4Y41YNtLOygANtbHPOK7YmgANHagn8a4af4vaDaaxNp86albxw3X2KTUZbCVbJZs7QpnK7BliFHOMkCjd2QeZ3VFVbW+gvJLhYZVkaCTypQP4WwDg/gQfxpF1G2a4mtxMvnQlQ6ZwV3fdH49qALdFFFABRRRQAUUUUAFFFFABRRRQAUUUUAFFFFABRRRQAUUUUAFFFFABRRRQAUUUUAFFFFABRRRQAUUUUAFFFFABRRRQAUUUUAFFFFABRRRQAUUUUAFFFFABRRRQAUUUUAFFFFABRRRQAUUUUAFFFFABRRRQAUUUUAFFFFABRRRQAUUUUAFFFFABRRRQAUUUUAFFFFABRRRQAUUUUAFFFFABRRRQAUVh/8JfpX/CWf8I59q/4m/wBn+1eRg/6vOM56Z9uuOau/2xYLcpbNe2y3LkhYTKodiDg4XOTggj8KAL9FYmk+MNG1xtQFlqMExsJWgucOB5bLjdn2GevSrsWr2M9qtzHe28lsxIEyyqUJHUBgcUAXqKyrXxBZ3k9yscmYbdFka5yPKZSM5Vs4OMc1Yg1WyurUXMN5by2xOBMkqshPpkHGaALtFQWt3BeQiW3mjniPSSNgyn8RxU9ABRWR4d1o65b3khh8n7PeTWuA+7d5bld3QYzjOO1a9ABRXKXnxE0yz1yTSVh1C9uoXSOdrKykmjt2YAqJHUEKcEHk9CDWrH4is2ju5J5RZRW05t2kumEaswAOVJOCOf0NAGtRVK11Wz1DYbW7guA4ZlMMqtuAIBIweQCQD9RUX9tQNqFtax7pTOrsJI/mQbTggkd8/wAjQBo0tUYdYsLmOZ4b62lSE4lZJVYIfRiDx+NUtU8YaNpOj3+qXGpW/wBhsUZ7iWOVW2BRkg4PX2oA2cc06s3/AISDTPscN0dQtVtpziKVp1CufRSTgn2rRByARyKAFooooAKKKKAE7isbxX/aH/CO366TEZtRkiMcA3BQrNwGJPGFzuPchTjJxWzRTT5WmB4mnwx8Q+F1TTba8uPEGmyraHzplhiaBoHUcgbc7kyScEkjmuU07StR1DxtcXyJdRNqL6hFomrkYSeZ1d495M5YBURwP3KgY6ngn6V6jmsDS/AfhvQ9cudZsPD+l2Gr3IYT6ha2ccc8oZgzBpAoY5IBOTyQDXrwzKdnzrVq1/8AM8+WFjePLsnfc8qsvA+tXP2yKw0LVPDunSm1Sa2udQR3mcSgyyqVkbC7MgkkFs9BWn4t+HdzJHqEcWiXGqaZbX2nTWdjDdKrNHGAsmzc4GQC3DEZ9a9h+lGOKxePqtp/5+X+RosNBRavueR+G/hrPpeo2mrpYXFpqDaxJNLuus4tWRgFZQ5UjOzgZOeaoaX8IZ3sfD4v7K6kuJNJlXVd96T5l0Fj8oNh+SpD4K8DHJr2zH50nTmp+v1ruV9X6/11LWHp2s0eOXPhPxOdJjS4s7u+t0hslurGO6RZbpEVhJGrFwA24qTllDBSN3NdtZaYZPh5NY2Oj3GkNJazRxabdOjSxsd2FLB2XknP3jwe3QdbQKzqYqVRJNWsVGkoyuu1jynxN4av30rwxFeaFeeINOtbLybjS9PuI4pFn2oFc7pEVgoVx97gtwDnjnrzwV4q+w2MWpaVfa3qA063hs7m1vkUadcAv5jSs0iluDH8yqxOw8Dv7viitKeOnBJJbf1/w9tzJ4aLd7niPiHwNq0moW1zfeHrrxBZx6jcTz29ndRxySq0KorDc6A/MM7Sw4BPUAGheeCfEv8AYtrHfeH9S1VmtZk0+3t9RjVtLkMztF5rGRQ22MxqWUvjYQAwOT77Rzk1r/aNSyVtvXz8/MJYWLbd9zySHwt4lHjTTr2e1nl0OKWMXdqt0N810ECi8HzYMakYMZwT97BKhT6jqBdbGbZB9rcrtEPAD54wc8Y9farXrS1w1q0q1rq1janTVO9nuZmg6dLpWlwWss3nOmct2GSTtX/ZGcDPYCuF8ZabqbeL4LjQNE1SDUmeETavFNAtlJGG+ZZkMm9sLuAxGcEjB7j0zbjvS/SppVXRlzLUqpBVI8r0PAtP8A+K4fGms3l02uPdzfbNl5DJaiymjdW8lCd4mG0FABs4ZByVGTPqXwh1FdP1D7JaXRuf7FSS3P245/tIA/Nkv97gZJ+U17tijiu95jWumtOmmm3ocn1OnZq73ueGN4T8W3vxUj1iXTr22jhmkjeeOSAWstv5DIhB3mQuSUJDKACDgkAE2l+HuteG9Hhu9IsZ7jVrjTJ4dQSa73maRim3IZ9pYKXxyBkAEgHNe0UelJ5hVairLSyt3Xn95X1WF27vU8x+B/hvV/DGna1BqVvfW1tPeLLaQ6g0PmqnlIrZETsq/MrHAJ4IPUkDovCWh3WleJPFM8tv5Fpd3MUlttK4ZRCikgA8fMD1ArrcUfrXLUxM6spzaV5b/wBfI0hh4wjGKfwmT4ks5tS0/wCyQxbmmYDzmIxDjnf1zkY4x3x2rThjMUMaFzIVAUu3U4HU+9S0VzHSeT6f8MdVutU1q91LU7prP+1Jr6w0lVhWLeVASQuo3nnJ2seD2rH1D4d3el6B4eFzoWpeJLTZI+r6Xa3qfaZrllQRTFpJUVlQLIpAcffUgHFe3Ue9JaKwdbnyr4q0HV5JtHs9U0+/1C20y0jbU2iYTS6XG0zPGodriJWbygFYqsp+Q4HIz3+ueB9V/wCEb8UX9np11qGqajdmCJfPV5V053QsIEkdYw20FgrFec5PY+la18P/AAv4i1i01fVfDek6nq1nj7Nf3ljFLPBg5Gx2UsvPoRXQ07Br02PCPBXws1i40nRNL8RW1++kW9xeO8FzdIriJlQwq4ifGQ27hSQDnnuaa/C7xNpvhm2awt7xNZvvCt7aapJ9uBd74m28jJL43ACcB14HOTyM/QdH8VXza7BD3fM8V1X4Ovb3mqz6ZZ3QMUtlcaaftzfLKJFM7AF+CVBzu4ParNv8N9R8QSaZa+ILa5m01NQ1q4ni+1lVZJbpntd218kbCCB/DgAgYxXsP60Coeq5R3Pljxdod6us6fb6hp+oahpOjxW66lcRfvJNPVZi6qGNzHkNGE3bVlYqSAA2BXs3xE8G6r461HSLKz1G40XTrVZLqS8hjil8yQrsSIpIGBADO2ccFVwc10GpfD3wvrWvWuuah4b0m/1m1Km31K6sYpLmEg5GyQqWXB6YIxXQ56UdLeZPXyseBjwj4oj8ReEXutE1DVrzTGis5b24a3FiIUl/1423CyLJswQNjAngr6Hhnwf4g06XWUg0PUrK3a7hnN/qksC3dxics+TFcOrKFyclVY9wxPHvtFHQGj5RsfD+p6xqXiKWLT9QW/1XTdSi0HVIWEYvpGXhmZrlmVgvCkwxKMnJztr1DVPhXNp0mo2Wh293Dpd61k0qren5mWR/NYEvkEqRnGM9q73Q/h/4X8M6peano/hzSdJ1K8/4+ryxsYoZp8nPzuqgtzzyTzXQbRzS3il2DXXzPGLX4TT6Nq0N9ptncQz2eto1o321mEViVxIoDMQV+ZztIJyeO1cd4d+GHjS30vX4L1vET6zdRJHcTvJZx2l4/nIWkieOTzB8oYjcq4BI5PX6YxS01pa+th9bnifir4TxWWl6ha2egXeraTFqljfwabDefPJtKrOUMkigHbliGZQcHHNdz8QdBuNc8Ei10+yLXgktTHExUNGqzRs43E4BCqc4POO9djS80R90Fo7nO2dnKnjbVrprGdIpLC0jW8a5DRSlXuCY1iz8rLvBLfxB1H8NeY3Gg+I2k1228NeH9a0LTmtrhntNQurcQ3E5bchtRHM5jLNuJLbB8wz3x7hR3zTvrcHqeL6ppHinxtcajPJoeqaJZ3TaNELa6u4VmMcV1K1037qVlUeW69GywwOvAk0v4Uz6LrVpe2VpcxNaa4TATeswjsDGwZQC5BXcQdpyc17J+NHemnYHqrM8i+K/hnVNW8QNMNB1DxFaPYrFp40+7jgFhdh3LzSbpUyrBosFQxHlt8vNavw3+HjeGPE3iHV7q026hfi3D3glLidlhUSHGePnDdQK9JoqF7twep53rXhXU77VPG00SSRC9srNbOWNwrPJF5rFRzkcso5wPm+tcvZ+EfHN1cRuzyafLfxS6pPLJcLItne+S8ccGAxygLo/y5XMZ9Rn2v60UbiStseRfCnwzqOk+JpblfD2peGtPFgIbyPULyO4+23e5SJk2SPwAHyzbSd4+Uc4oa5pfiXVNF8XeDLfwrfKmvXd0i67PPbLZQwTZzLgStKWVSdq+WMttBKjLD2z8KKrm1uNaHzr8VtB168uptNt7C51eefUZ7uOwVg+618iJBMubiFQVfdgFwQedpqy3gv/AISHwVHcW2iX+u6KtxpV3ZWP2hY55Y41VJdoaVVVgCxIZgDg4J4NexeKfAnhrx1DBF4k8PaXr8UDb4o9VsorlY2IwSodSAcdxW1DBHbwpFEixRRgKqIAqqBwAB0AA7VFrpX30/AXoeTfD3w1qOk/EjVbr/hH9QtNOnVmN9qzwlwSRtjiMVw+5QB/EikY+8elevfxUtLVAla4UUUUDCiiigAooooAKKKKACiiigAooooAKKKKACiiigAooooAKKKKACiiigAooooAKKKKACiiigAooooAKKKKACiiigAooooAKKKKACiiigAooooAKKKKACiiigAooooAKKKKACiiigAooooAKKKKACiiigAooooAKKKKACiiigAooooAKKKKACiiigAooooAKKKKACiiigAooooAKZI2xGYgnAzgcn8qfRQB4D/wjfjRL4eOvJtS39p/azpospjf/ZCfK8rO/H3Pn27M9utWZPBD/wDCK+JL9NEmOtSeJZLq3la2Y3AT7UpVkyNwXaM/LwRk+te59KBU2/r7v8gev9f13Pn/AFbwvdDRfGOm6fpN5Zag2uLfTSW2mE/aLMujHy3ZPLlPBJjBJOCNvIytn4Ftr7T7Y2jazqtnd+ILOa5t77RX05IVRdrFYTFHhCNu5tuCR1619AfhSVS0sD9654t4s8L3ceseIPsmkTvpEdxpsstrawELPbxkGVUUAB8dSq5J2kYJODm6v4dbxF/bUuj6HfWfhq7utLWO0axltGkkSVjPKsDIrou1o1LFVztJ6DJ97NFJKy+dx3/yILGwttNtUt7S3jtbdBhYoVCqPoBxVmiimI5b4f8A/HnrH/YYvv8A0c1dTVe3tIbVXEEMcIdzI3lqFyzHLMcdSTyT3qxQB5B40mfSfE17c+FI9eh8UTSxeZaJpk7adfEbVzJM0fkr8owXDhgF7ng8v4isNWt9UmSz0WTVdRbX7q5j024tVkjmgaGNTKVkeNWUEYDbxznGelfQ1YXiHwbpfidrd76K4We3z5VxZ3k1rMoP3gJInVsHuM49qQzx7wZ9l8H6j4Wv7fStU/sy00zUdKuVttMaWSC8NzAxR44A+0ExyAMCV+UZbkZg0rw34kvvDenJa6Ze6bqcmmayqCeMo0EsszGNWY8KxyMEn3HFe5aLoVl4d0+Ow063W2to8kKCWJYkszMxJLMSSSxJJJJJJrTp30t/X9aknzP/AMIOL3wj4ga0bxBPqR0b7DNpk3h9rFGJkRjhliRZnUqwDKzcMxzzXWePvAbNN4wsdI0LNpd+GSiRQWwEc1wGfaOmGkxj36V7X3pad2C0Pn3xfo6a1qejXywavpfhaTSWtYY7Twy9w8Fx5p8zdbNA0kRYYIcIB8pOcEE+0+E9PGleGtMs1nuLlIIERZrtSsrgDgspAIbHUYFbFFStrB1uOooopjKn9qWf/P3B/wB/F/xo/tSz/wCfuD/v4v8AjVuigCp/aln/AM/cH/fxf8aP7Us/+fuD/v4v+NW6KAKn9qWf/P3B/wB/F/xo/tSz/wCfuD/v4v8AjVuigCp/aln/AM/cH/fxf8aP7Us/+fuD/v4v+NW6KAKn9qWf/P3B/wB/F/xo/tSz/wCfuD/v4v8AjVuigCp/aln/AM/cH/fxf8aP7Us/+fuD/v4v+NW6KAKn9qWf/P3B/wB/F/xo/tSz/wCfuD/v4v8AjVuigCp/aln/AM/cH/fxf8aP7Us/+fuD/v4v+NW6KAKn9qWf/P3B/wB/F/xo/tSz/wCfuD/v4v8AjVuigCp/aln/AM/cH/fxf8aP7Us/+fuD/v4v+NW6KAKn9qWf/P3B/wB/F/xo/tSz/wCfuD/v4v8AjVuigCp/aln/AM/cH/fxf8aP7Us/+fuD/v4v+NW6KAKn9qWf/P3B/wB/F/xo/tSz/wCfuD/v4v8AjVuigCr/AGrZf8/lv/39X/Gj+1bL/n8t/wDv6v8AjWPeMEmnZiFVWYkk4AGaqWN9balbJcWk6XEDZ2yRtkHHBoA331qwj+9eQf8Afxf8aZ/wkGnf8/kH/fxf8ay9F/5B/wD21l/9GPV+gCX/AISDTv8An8g/7+L/AI0f8JBp3/P5B/38X/GoqKAJv7e049LyD/v4v+NSDVLLGReQf9/V/wAa5vxdI0WloUJU+cgyPxrpdLYtYQknJKigA/tSz/5+4P8Av4v+NH9qWf8Az9wf9/F/xq3RQBU/tSz/AOfuD/v4v+NH9qWf/P3B/wB/F/xq3RQBU/tSz/5+4P8Av4v+NH9qWf8Az9wf9/F/xq3RQBU/tSz/AOfuD/v4v+NH9qWf/P3B/wB/F/xq3RQBU/tSz/5+4P8Av4v+NH9qWf8Az9wf9/F/xq3RQBU/tSz/AOfuD/v4v+NH9qWf/P3B/wB/F/xq3RQBU/tSz/5+4P8Av4v+NH9qWf8Az9wf9/F/xq3RQBU/tSz/AOfuD/v4v+NH9qWf/P3B/wB/F/xq3RQBU/tSz/5+4P8Av4v+NH9qWf8Az9wf9/F/xq3RQBU/tSz/AOfuD/v4v+NH9qWf/P3B/wB/F/xq3RQBU/tSz/5+4P8Av4v+NH9qWf8Az9wf9/F/xq3RQBU/tSz/AOfuD/v4v+NH9qWf/P3B/wB/F/xq3RQBU/tSz/5+4P8Av4v+NH9qWf8Az9wf9/F/xq3RQBU/tSz/AOfuD/v4v+NH9qWf/P3B/wB/F/xq3RQBU/tSz/5+4P8Av4v+NH9qWf8Az9wf9/F/xq3RQBU/tSz/AOfuD/v4v+NH9qWf/P3B/wB/F/xq3RQBU/tSz/5+4P8Av4v+NH9qWf8Az9wf9/F/xq3RQBU/tSz/AOfuD/v4v+NH9qWf/P3B/wB/F/xq3RQBU/tSz/5+4P8Av4v+NH9qWf8Az9wf9/F/xq3RQBU/tSz/AOfuD/v4v+NH9qWf/P3B/wB/F/xq3RQBU/tSz/5+4P8Av4v+NH9qWf8Az9wf9/F/xq3RQBU/tSz/AOfuD/v4v+NH9qWf/P3B/wB/F/xq3RQBU/tSz/5+4P8Av4v+NH9qWf8Az9wf9/F/xq3RQBU/tSz/AOfuD/v4v+NH9qWf/P3B/wB/F/xq3RQBU/tSz/5+4P8Av4v+NH9qWf8Az9wf9/F/xq3RQBU/tSz/AOfuD/v4v+NH9qWf/P3B/wB/F/xq3RQBU/tSz/5+4P8Av4v+NH9qWf8Az9wf9/F/xq3RQBU/tSz/AOfuD/v4v+NH9qWf/P3B/wB/F/xq3RQBU/tSz/5+4P8Av4v+NH9qWf8Az9wf9/F/xq3RQBU/tSz/AOfuD/v4v+NH9qWf/P3B/wB/F/xq3RQBU/tSz/5+4P8Av4v+NH9qWf8Az9wf9/F/xq3RQBU/tSz/AOfuD/v4v+NH9qWf/P3B/wB/F/xq3RQBU/tSz/5+4P8Av4v+NH9qWf8Az9wf9/F/xq3RQBU/tSz/AOfuD/v4v+NH9qWf/P3B/wB/F/xq3RQBU/tSz/5+4P8Av4v+NH9qWf8Az9wf9/F/xq3RQBU/tSz/AOfuD/v4v+NH9qWf/P3B/wB/F/xq3RQBU/tSz/5+4P8Av4v+NH9qWf8Az9wf9/F/xq3RQBU/tSz/AOfuD/v4v+NH9qWf/P3B/wB/F/xq3RQBU/tSz/5+4P8Av4v+NH9qWf8Az9wf9/F/xq3RQBU/tSz/AOfuD/v4v+NH9qWf/P3B/wB/F/xq3RQBU/tSz/5+4P8Av4v+NH9qWf8Az9wf9/F/xq3RQBU/tSz/AOfuD/v4v+NH9qWf/P3B/wB/F/xq3RQBU/tSz/5+4P8Av4v+NH9qWf8Az9wf9/F/xq3RQBU/tSz/AOfuD/v4v+NH9qWf/P3B/wB/F/xq3RQBU/tSz/5+4P8Av4v+NH9qWf8Az9wf9/F/xq3RQBU/tSz/AOfuD/v4v+NH9qWf/P3B/wB/F/xq3RQBU/tSz/5+4P8Av4v+NH9qWf8Az9wf9/F/xq3RQBU/tSz/AOfuD/v4v+NH9qWf/P3B/wB/F/xq3RQBU/tSz/5+4P8Av4v+NH9qWf8Az9wf9/F/xq3RQBU/tSz/AOfuD/v4v+NH9qWf/P3B/wB/F/xq3RQBU/tSz/5+4P8Av4v+NH9qWf8Az9wf9/F/xq3RQBU/tSz/AOfuD/v4v+NH9qWf/P3B/wB/F/xq3RQBU/tSz/5+4P8Av4v+NH9qWf8Az9wf9/F/xq3RQBU/tSz/AOfuD/v4v+NH9qWf/P3B/wB/F/xq3RQBU/tSz/5+4P8Av4v+NH9qWf8Az9wf9/F/xq3RQBU/tSz/AOfuD/v4v+NH9qWf/P3B/wB/F/xq3RQBU/tSz/5+4P8Av4v+NH9qWf8Az9wf9/F/xq3RQBU/tSz/AOfuD/v4v+NH9qWf/P3B/wB/F/xq3RQBU/tSz/5+4P8Av4v+NH9qWf8Az9wf9/F/xq3RQBU/tSz/AOfuD/v4v+NH9qWf/P3B/wB/F/xq3RQBU/tSz/5+4P8Av4v+NH9qWf8Az9wf9/F/xq3RQBU/tSz/AOfuD/v4v+NH9qWf/P3B/wB/F/xq3RQBV/tWy/5/Lf8A7+r/AI0ViHPY4/DNFAHS0UUUAFFFJQAtFFJQAtFFFABRRRQAUUUUAFFFFABRRRQAUUUUAFFFFABRRRQAUUUUAFFFFAHI+ItNttZgu7K7LeRKSHVJWQsM9MqQcVmeGvC2leE4pYdMDwxSMGaNpmdd3qAxOD9K474r/wDI1H/riP8A0J65vw9/yH9M/wCvmP8A9CFAHv3huFG0lSVyfOm6/wDXV61Ps8f9wVneGf8AkEJ/11m/9GvXA3jeLv8AhdlrFHq0C6BzM1h9qiBNt9mZSDDt8wv9oKMHDbdoKkZ5oA9P+zx/3BR9nj/uCuI+w/EX/oK6D/4Cy/411Ohx6lFpkS6vNBPfgnfJaqVQjJxgHnpj8aAMrx5Ei6LGQoB89On41t6V/wAeEP8Auisbx9/yBI/+vhP61s6V/wAeEP8AuigC5RRRQAUUUUAFFFFABRRRQAUUUUAFFFFABRRRQAUUUUAFFFFABRRRQAUUUUAFFFFABRRRQAUUUUAFFFFABRRRQAUUUUAFFFFABRRRQAUUUUAFFFFABRRRQAUUUUAFFFFABRRRQAUUUUAFFFFABRRRQAUUUUAFFFFABRRRQAUUUUAFFFFABRRRQAUUUUAFFFFABRRRQAUUUUAFFFFABRRRQAUUUUAFFFFABRRRQAUUUUAFFFFABRRRQAUUUUAFFFFABRRRQAUUUUAFFFFABRRRQAUUUUAFFFFABRRRQAUUUUAFFFFABRRRQAUUUUAFFFFABRRRQAUUUUAcu8kSsQzoD6HFFfOHxb/5KJq/1i/9EpRQB9b0UUUAcv8AErTb/V/h/wCIbPSby40/VJrGZbW6tZCkscu0lWVhyDnHSvjrTv2hvFet+KPhj4kh1i7j8NeHrTTrbxXb+aRFcXF/JJbbpR0ZomSN+em8nivupsY5Ga8esf2VfAGneDfG3heGzul0vxddG61IG4O8PkFfKbHyBSoZQOh5qLNS5v6/rUrRx5WeFaP+0x4s8N+GtKuraU6pqXjjXNTu9OuNTtbzULex0+FykapBbgyMGCZAUqBuLH0q/qXxU1fxj8Tv2cvEuu6PdeHbxj4lN7prJLEGMNngMqyKrbW27lDDIDDPNe76p+zr4Q1Pwh4Y8PLHfafF4bjWPS7+wumhu7cBdpIkA5LDrkYOauL8DfDkup+DNSupdR1C98KC8Wwmvbsys/2mPy5vNJGXyvTpitYvlv8A1paxUJJSv0s/vZ5R4Z/aM8dP8Gda+MHiDSfDqeCv7OkvtL0nT3uDqPD7I1nkbMfzcElVG3PeobH9o/4heGb3WdH8aaR4bbV5PCU3izSJ9DacwBIyA1vcLIdxYFlO9GAIzwK9I8Lfsy+CvCdrrOn2ialcaHqcMlvJol5fvLYxRyEl1iiPCAknp07VD4Z/Zb8E+GbfWo4xqmoT6rpraRJd6lfvcTQ2Z/5Yws33F74HcCs5X1tp/T/4BC6X/rb/AIJ5Dpv7R3xq1rxFoWg2/h/wPBf+JPDh8RabLLPdtHaRoF3pOBgyMxZcbSoXPJbHL9T/AGzvEF/4L+F02jaJZ2niHxhp1zqNw09jeajb2ot22MqQ2w81tz9CSAo5bNe76b8C/DGl+IvD+t28d2L3Q9FbQbMtPlRattyGGOW+UfNWK37L/gpfCPhbQLU6pp6+GVlTS9Ss7xor2BZGLSL5oHKsTyCMcCtJWtp/W/8AwCLO6/rt/wAE6r4Q+NtR+IXw90nXtY0Wbw/qVyh+0afOjoY2VipIDqrYOMjcAcHmu2rJ8NaBD4Y0Oz0uCe6uobZNizXkxlmfnOWc8k89a1c0pWb0Gr21FooopDCiiigAooooAKKKKACiiigAooooAKKKKAPDfiv/AMjUf+uI/wDQnrm/D3/If0z/AK+Y/wD0IV0nxX/5Go/9cR/6E9c34e/5D+mf9fMf/oQoA+gfDP8AyCE/66zf+jXrye/s/C5/aCs55NT1QaqLvcLdbVTare/2dIojafZvXNqXk2BgpZQc7vlPrHhn/kEJ/wBdZv8A0a9QN4P0V/Eia+2mW51hF2rebPnHylc+mdpK7uuCRnBxQB5ZJcfCFXYN48lVgSCP+Euuhg/9/wCvUPBh0hvDdodCvzqWlncYbprt7ov8xz+8ZmY85HJOOlbfkx/881/IU5VCjAAA9hQBznj7/kCR/wDXwn9a2dK/48If90VjePv+QJH/ANfCf1rZ0r/jwh/3RQBcooooAKKKKACiiigAooooAKKKKACiiigAooooAKKKKACiiigAooooAKKKKACiiigAooooAKKKKACiiigAooooAKKKKACiiigAooooAKKKKACiiigAooooAKKKKACiiigAooooAKKKKACiiigAooooAKKKKACiiigAooooAKKKKACiiigAooooAKKKKACiiigAooooAKKKKACiiigAooooAKKKKACiiigAooooAKKKKACiiigAooooAKKKKACiiigAooooAKKKKACiiigAooooAKKKKACiiigAooooAKKKKACiiigAooooAKKKKACiiigAooooAKKKKAPkj4t/8lE1f6xf+iUoo+Lf/JRNX+sX/olKKAPreiiigApDUcsyQRtJIyxxoCzOxwABySSegrnfDXxK8I+M7ye08P8AirRdduoBmWDTNQhuHjGcZYIxI545o62A6eikooAWiiigAooooAKKKw/EnjLRvCT6Yur3q2TaldpY2m5GbzZ2ztQYBwTg8nA96ANyikpaACiiigAooooAKKKKACiiigAooooAKKKKAPDfiv8A8jUf+uI/9Ceub8Pf8h/TP+vmP/0IV0nxX/5Go/8AXEf+hPXN+Hv+Q/pn/XzH/wChCgD3vw7dLHpYUhsiWXp/11etL7cno1Yei/8AIP8A+2sv/ox6v0AXftyejUfbk9GqlRQBleOblZdGjUAj9+h5/Gt/Sv8Ajwh/3RXMeMv+QSn/AF2T+tdPpX/HhD/uigC5RRRQAUUUUAFFFFABRRRQAUUUUAFFFFABRRRQAUUUUAFFFFABRRRQAUUUUAFFFFABRRRQAUUUUAFFFFABRRRQAUUUUAFFFFABRRRQAUUUUAFFFFABRRRQAUUUUAFFFFABRRRQAUUUUAFFFFABRRRQAUUUUAFFFFABRRRQAUUUUAFFFFABRRRQAUUUUAFFFFABRRRQAUUUUAFFFFABRRRQAUUUUAFFFFABRRRQAUUUUAFFFFABRRRQAUUUUAFFFFABRRRQAUUUUAFFFFABRRRQAUUUUAFFFFABRRRQAUUUUAFFFFABRRRQAUUUUAFFFFABRRRQAUUUUAfJHxb/AOSiav8AWL/0SlFHxb/5KJq/1i/9EpRQB9b0UUUAZHir/kWdX/685f8A0A18V/spfAHW9Us/h58R79vDei6doVleyWQ0G0ePUdQMyNH/AKbMcBgoyQBnnvzX3NIiyIVcBlYYKkZB9qis7G20+1jtra3itrdBtWGFAqKPQAcAVmotSck9x30SPhjwvrvj7Tv2QrX4jDx34m1TWtYMNldTT3KyR6ZZLdtHJPCpQnzQgJMjFm59hVTVPiPr/h7wf8WLHwp8Rda8Q+C9HbRZrTxFqGoma63zzbbu1jvSNy7htAYn93u+8vWvuyDR7Gz0/wCw29nbwWQBX7LHEqx7SeRtAxg89u9cT8Rfgtofj7wrbaFEW8PwWl7HfwnTIY0QSrkDdEVKSKcnKsCDwewq5fFdLqW5KTbtb+v6R8m3l/4k8OfC271nRviFrAvNX8aabaWSnxTNrM2m2cjhPKZnleNiSWbHzA8Bi2K2f2ivEN14Dmsvh/pvi7xgdc0Xw9ca3Hruo+KpLE3jPM21W8qJjdSqykCMqECsAc8EfRvwz+AXh74dyapdFRrOo6lLFNc3F1bQxqWiH7srEiKikZJyoBzXf3+gabqd1Bc3mnWl3cwAiGaeBXePPUKxGRn2pzs4pLf/AIFjOL7r+rnxvqGteLPifr3hWzuPHXiPQoLr4bnWbsaHem1ae7XBWQlR8pz127dw4PHFV/g34i8ZQ6t8BvE2oePfEOtzeNtLv01ew1C6D2beVAXheKFVCxsuBlgNzHliec/aKaHp0MiOmn2qMkP2dWWBQVi/uA44X/Z6UkegaZCtmsWnWsS2YZbUJAoEAIwQmB8oI4OMUa3/AK8/8/wJimnq7/8ADL/I+D/DsnjXU4fhRqUnxR8ZJL4r8Qahot9Emo5jW0UyMqxqykLIAmBLy4B4YYFbXhPxx4s0/QrHRJ/Fmt6kmi/F6Tw5DfXl873VxYxlSsU8gIMo+Y53Zzx6CvtWPw/pcS26pptmotnMsAWBQInOcsvHyk5OSOeaF8O6UucaZZgm4N2SIF5nPWXp9/8A2uvvSjo7vX/h1/k/vL0tbr/w/wDmvuPhzxHr/jLS9N17xzB8QPE63Ok/ESLSrTSvt5Nh9lkuUjeKSIg+YpDnG4nbxtxV/WtS13xl+0RrmhXXj/UtLOm+K4fmh8WTabbf2f5KOLNbOORC7kt/rApDHI3cEV9qSeHdKmheF9Ns3heYXDRtAhVpQchyMYLZ5z1rxa6/ZD8Oahrt3c3ur313pdzqTaq+nTRQs3nGTzMfaCnm7A3Rd2AOBxSheMlzbf8A7P8Ak/vJeqff/h/8z3mNdqgAnAGMkkn8z1p56UiqFUKOABgUp6VQxaKKKACiiigAooooAKKKKACiiigDw34r/wDI1H/riP8A0J65vw9/yH9M/wCvmP8A9CFdJ8V/+RqP/XEf+hPXN+Hv+Q/pn/XzH/6EKAPcdF/5B/8A21l/9GPV+qGi/wDIP/7ay/8Aox6v0AFFFFAGF4y/5BKf9dk/rXT6V/x4Q/7ormPGX/IJT/rsn9a6fSv+PCH/AHRQBcooooAKKKKACiiigAooooAKKKKACiiigAooooAKKKKACiiigAooooAKKKKACiiigAooooAKKKKACiiigAooooAKKKKACiiigAooooAKKKKACiiigAooooAKKKKACiiigAooooAKKKKACiiigAooooAKKKKACiiigAooooAKKKKACiiigAooooAKKKKACiiigAooooAKKKKACiiigAooooAKKKKACiiigAooooAKKKKACiiigAooooAKKKKACiiigAooooAKKKKACiiigAooooAKKKKACiiigAooooAKKKKACiiigAooooAKKKKACiiigAooooAKKKKAPkj4t/8AJRNX+sX/AKJSij4t/wDJRNX+sX/olKKAPreiiigCGeZLeF5ZGCxoCzMeAABkmvkX4J/tLa54q+OkEGr+I7W98I+L21GHQNLjWESWElpINocqA582IOw3E8qMV9SeL/Do8XeF9V0V7y4sE1C2ktmubXb5sYZSCy7gRnBPUGvHk/Yv+HOm2HhJdE08+H9Y8N31tfW+uaeiJeTPFkFZXKkMrgkMMc57Uo6Tu9v6/IJfDZbmH4f/AGtNT1zUfHKHwlDEvhtLpl0wX5/tSfymIVvs5QfK+MhlZuKw9c/aOvvHHwDn8VzW0enGLXNMtkTwx4gZJh5l1ErJK/lhoyC21oyvzDcM4Oa9IT9me2bxpc+Krvxl4ivdaNvNbWN1JJCr2CSnLbCsYLYwAN+7ArOh/ZC8Pf8ACM+IdNvNe1i/vdf1Ox1S/wBUlMKyySWrq8ShVjCAfLgkLkgnnPNOFtHLy/P/ACIqXcZKG+v5GH4q/au16w+JE3hfRPCum3hi1yLRGS+1N4rti6BjcLCsTZiAP3s9qpa3+2JrmjN4n1JvAiS+FfDHig+G9U1Mamok3GRESSKIplv9YhYEjG7gnBrAuPhP8Xofi1rmvaRbX2k6hqGspONQS6sJNINmrKvKPuug5jUgqqhcnggc16tqv7K/h/WvBXjTw3Pquprb+KvEX/CSXc0ZjDxT7oW2R5TATMC/eBPJ56VULWi5f1t/wTTS7X9df+Ach8Tv2udb8Bah45ltPAq6toPg26t49Svv7RWNzFKFIaNCvLAsPlJAx3rQh/awvfDtx47t/G/hE6BP4d0SHxDAlreLc/arSVmRQSFAWTepUjke9dR4w/Zh8P8AjHR/iJp11qmpQReNpIJL14Wj3QGIIF8vKEc7Bndnqa0Nc/Z48NeJvE+vaxqcl1eJrfh6Hw5dWbMoi+zxyO6uCBkPlzznHA4qfs76/wDA/wAwl05f6/rU8q0v9tmWbwX4y1m68LxNc6DpUerxJZXjSW88bMFMTSNGu2Vc8rgj0NbkP7THihtY8VeH9T8Fw6Lr1p4ZPibSk/tBZ1mgJKhZiFARww5Ubhx1rom/Zlt7z4d+IvBmp+M/EOr6Tq9ktgpunhLWkSsCPLIjALcAbn3HAroL74D6JqPxAn8WXF3eyXM/hz/hGZLXcoiNvvLl+FzvyxGc4x2pPr6f5/8AAHG1td/+G/4JB+zl438V/Eb4U6L4g8W2FjZX19Ak0TWM5kWaNlyGZSq7Dn+EZ6da4D4c/EL4mzftF+OPDHie40+6trTQItU03RNOVVihZ5pFRWnZdzMwQZY4A3cLxz6t8HvhUnwf8Jp4fttf1TXLCA7bUao6O1tGBgRIVVflHvk+9Mb4P6ePidr3jiLUr6DVdX0ePRnSNlCQxo7ssiHbkPlzySRwOKqTXPeOxioy5FFvXTU6fwjqGrap4bsLrXNMTRtWliDXNhHOJlhfuocABvrWzmsfwl4ffwv4dsNKk1O91h7WIRm+1GQSTzY/idgBk/hWxih7mgtFFFIAooooAKKKKACiiigAooooA8N+K/8AyNR/64j/ANCeub8Pf8h/TP8Ar5j/APQhXSfFf/kaj/1xH/oT1zfh7/kP6Z/18x/+hCgD3HRf+Qf/ANtZf/Rj1fqhov8AyD/+2sv/AKMer9ABRRRQBheMv+QSn/XZP610+lf8eEP+6K5jxl/yCU/67J/Wun0r/jwh/wB0UAXKKKKACiiigAooooAKKKKACiiigAooooAKKKKACiiigAooooAKKKKACiiigAooooAKKKKACiiigAooooAKKKKACiiigAooooAKKKKACiiigAooooAKKKKACiiigAooooAKKKKACiiigAooooAKKKKACiiigAooooAKKKKACiiigAooooAKKKKACiiigAooooAKKKKACiiigAooooAKKKKACiiigAooooAKKKKACiiigAooooAKKKKACiiigAooooAKKKKACiiigAooooAKKKKACiiigAooooAKKKKACiiigAooooAKKKKACiiigAooooAKKKKACiiigD5I+Lf/ACUTV/rF/wCiUoo+Lf8AyUTV/rF/6JSigD63ooooAp6nfLpunXV26s6QRtKyr1IUE4H5V4P8Nf2vtN8eeJPDWl6h4R1rwvF4mS4fRL+/MbwXvkKXkClGJXCgnkV7j4gtZb7Q9Rt4V3zTW8kaLkDLFSAMngcmvAP2a/2WdH+Gfg/R9Z1jQpIvH8VlNFI93fNdC2aTcHEI3tHHuBAOzAwcVmpPnd9rDdrI9S0v48fD3WrO+urHxdpdzbWNst7cyLONsMLEgOxPTJGMdfal0v45eAdc8KXviWx8Vafc6JYuIrm8WQhYnJAVWUjIJJGBjJ7Zr5+0P9mbxMv7Hmi+DxpNnpfjW0ulv7mylmj23jR3bSiGSaMspDrtGckDjOMGuJ+K3gnxLa+H/Hni7xJ4Xt/B2p+LL3Q9M0HwzDqULyfarWRn8550Bt43ZQxUuSg2AOecHSVoycd7FSiruz/r+tT6s039oj4caxZ3V3beLLI21rcJaTzSh4kimbO1GLKMMcHg0uoftDfDnS9F0vV7rxbYRaZqnmGzussyTBG2OQQDgK3BJwK+WbDwrc/FnwXq/hjRfCWsP4kt/GGl6x4hfWNS0+5W5j3Au4lt3EJ2ovMagHH8JzXo/wC0T8LfiP4v8XNpHh3R3vfAdx4els7W303VYtMjs9QZm3PcdJJImTYAqBhkHIGc0SXLFPd/8C//AACY26v+rntXir45eA/BLRDXfFWnab51st7EJJM+ZATgSLgHK57il8P/ABw8A+KvES6Fo/ivTdR1Zrf7UttbzbmeLG4sp6NgHJAJI7gV4Z4e+AvihPEXhe51Xw/DNBp/w7fQpXlngcR3rADygN5Jzj7wG3/aqt8N/wBn3xR4X0/9ntpvDcNne+F7PUYtcaOe33W7TQFVBZX/AHm58fdLAdTijS/9ef8AkvvM4ty0at/wyPaV/aW+FzXP2YeN9IFx5bybDPg4QkMBkcsCCNvX2pmofHTRNQ0XwvrPhbU9J1vSda1ePSzdNdmNQWyGCDaS0gI+6cV4X4b/AGbvEtnpfwdju/Ctstxonim+1LWN0tsxjgk8wo7EOd+SU+VdxHcDFO0f4AeNtPa7jTQFggPxbm8Swol1AFGmNt2zAB+Bwfk+9/s0o+89dP8Ah1/n+BpbS/8AXX/L8T6Bb4/fDuPxFBoDeLtNXWJrtrFLRpTv88HBjPGA2eACRntmk8QftAfD3wv4g/sPVPFFpbat562htgruwmYArGSqkBiCDtzmvn3xJ+zv4uvvAfim3tPDUTa5ffEC31yBhcW6yPZpcRuZd5fAwin5SQe23NcHN4j0rT/jJ4l1670HWdZ8Gf8ACarc2w0nVLJIzfqEgeR7WVlu2ZZVbIX92wAKgjkqD5mk9/8Ahv8AMl6Jvov+D/kfYHxY+MemfCfT9Ka4s7zWdX1i5Fppej6cga4vJtu4qoOAAByScADrXEeJP2lrvwnofhfVNf8ACF54Tj1TW10q6i1yZUa3jKFzMpTcrDjAGRzmp/2gvh54p1rxJ8PfH3g2wg1zWvB17cTnQrq5W1+3QXEBikVJWBVJACCu7A65PrjeOPDnjv4zWPw7vdb8AL4dm0zxPHeXulTarbXnl2qof3rMpCk7jjYu48A9+GvxuVp+H+Z6pp/xk8E6t4LufFtn4js7nw7bP5c9/GxKRvuC7WGMg5YDGM8iuP8AiB+0loui/D7T/FfhSa08U2lzrVppD+XMyCNpZVRiflyGUNnaQM15HffCT4seGdD+KI8LaT9nbWfHUWqR2dteW0U17pW1BKIHZisMhKjBfaRtPfGca3/Zy+IMfgvxPZL4flW41LxppWt29tPrEV1ItrEUMrPM7Dcy7TkdSeF3DBNxSlJX20/S/wCb+4ekWlvq/u1/r5n0J4R+O9hqUnxFn8QfZPD+l+EtaOlG8lnO2UeVG4c5AwxMm0KM5wMda21+OPgL/hG4NfPirTk0eW4+yLdySbUE2CdjZAKtgHggV86/ED9m3xx4r0P4iC1tGt7ifx9beJ9OtV1FLc6naxQxKUEqljExIYqXAIZVJwOaV/2eda1TwrpLW3gbVdMvbjxjY6vqtnr+v2+oyvDECGmZw5TgYG1WYnA4qYpSSv5fpf8AX7jOfuq613/U+itM+OHgPWfCd74msvFOnz6FZTfZ7i8WQ7YpMgbGBGQxJGBjJzxVLT/2ivhzqmk6lqdv4rs2sdNlWC6mdZEEUjfdQhlBLH+6AT7V8x/Gb4f6t4KtPjBPeaStrH4s8V6LL4WWK7hhFxPGilnVslIWBjcgzhVLAZyDzl2vgO/+LPh29tfDega9F4q8O+JYtb1q2vtdtFl1RpIiv7i7tWMCSKuCF+UDvjNHp5fp+VwV+vn+F/zPry6+OXgKx8J2viafxTp6aHdTfZ4bwSFg8ozlAoBbcMHK4yO9dZoOu2HiXSLXVNMukvbC6QSQzx52up7jNfJGsfAG/b4Txpp/wx8TR+IZ9fl1lEXxfatqNjctCqC6893MTbtu1kDNwM8k4H0l8HdP8T6T8NdAs/GMsEviWG2C3rW+3Zvye6gAnGMkDBOcU7LXyDXTzO3ooopFHhvxX/5Go/8AXEf+hPXN+Hv+Q/pn/XzH/wChCuk+K/8AyNR/64j/ANCeub8Pf8h/TP8Ar5j/APQhQB7jov8AyD/+2sv/AKMer9UNF/5B/wD21l/9GPV+gAooooAwvGX/ACCU/wCuyf1rp9K/48If90VzHjL/AJBKf9dk/rXT6V/x4Q/7ooAuUUUUAFFFFABRRRQAUUUUAFFFFABRRRQAUUUUAFFFFABRRRQAUUUUAFFFFABRRRQAUUUUAFFFFABRRRQAUUUUAFFFFABRRRQAUUUUAFFFFABRRRQAUUUUAFFFFABRRRQAUUUUAFFFFABRRRQAUUUUAFFFFABRRRQAUUUUAFFFFABRRRQAUUUUAFFFFABRRRQAUUUUAFFFFABRRRQAUUUUAFFFFABRRRQAUUUUAFFFFABRRRQAUUUUAFFFFABRRRQAUUUUAFFFFABRRRQAUUUUAFFFFABRRRQAUUUUAFFFFABRRRQAUUUUAFFFFABRRRQAUUUUAFFFFAHyR8W/+Siav9Yv/RKUUfFv/komr/WL/wBEpRQB9b0UUUAFFFFABWfrWh6b4k0+XT9W0+11SxmGJLW9hWaJx/tKwIP4ir+aWgDM0Lw7pXhfT1sdG0uz0iyXlbaxt0gjHuFUAD8q06TdS0AFFFFABRRRQAVz6+AfDCeIG15fDmkrrjcnUxYxC5P1l27v1rfooAWiiigAooooAKKKKAM/WtB03xJp0thq2n2uqWMvElrewLNE+PVWBB/EU3Q/D2leGbBbHRtMs9Jsk5W2sYEhjU+yqAB+VaVFABRRRQAUUUUAeG/Ff/kaj/1xH/oT1zfh7/kP6Z/18x/+hCuk+K//ACNR/wCuI/8AQnrm/D3/ACH9M/6+Y/8A0IUAe46L/wAg/wD7ay/+jHq/VDRf+Qf/ANtZf/Rj1foAKKKKAMLxl/yCU/67J/Wun0r/AI8If90VzHjL/kEp/wBdk/rXT6V/x4Q/7ooAuUUUUAFFFFABRRRQAUUUUAItBpaz9atbu+0m8t7C9Om3ssLJDeCJZTA5GFfY3DYPODwcUnoBfpB3r5A+IGnfHHwX8R/hx4YT47TXcfi28urWS5bwnpyG2ENs0wYLtO7cV24JGM5r3bw1/a/wh8H6pqHxH+If/CUQQsJf7TuNLhsBCnTZsh4bJIxxntRpa9w1ul3PSqPSvN/Av7QngT4ieIDoWjazIdY8ppksb+yns5Zox9541mRDIoyMlcim+K/2iPAHgm51e21jXhbXelTRwXNqltNJNvdN6qiKhMnHPyA474p7AelenFJ61wfiz43eDfBGg6Tq2s6u1pb6sgksYFtppLm4UqG+SBUMhIBGRtyM84rR+H/xO8M/FDTZb/w1qiahDC/lTRlHilhf+7JG4DI3swBo7+QrrR9zrBRXkd3+1T8MbLWP7Om8SbCtx9la8NlcfY1lzt2Nc7PKBzxy3Wum8ffGDwn8MoLGTxBqy2z32fsltbxSXNxcYGSY4olZ2ABGSFPUUr6JlWex29JXIfDv4qeG/ipp11e+G76S7itZfJuEntZbeWF8Z2tHKqsDj1FXvGvjrQfhz4fn1zxLqlvpGlwEK9xcNgFicKqgcsxPAUAknoKb0EtdjoTRXy/8Rv2iNI8Za18NbfwZ4ivraW48TW8N9ZvBPYzS27K/DxSqjNGTjnBB4r2j4hfGTwj8LHs4vEWqm3urzJtrK2glurmYD7zLDErOVHchcCl0uHW3lc7f1pa5fwH8R/DnxM0U6p4a1SLVLNXMUhQMjxOOqOjAMjD0YA03xx8SPDnw2h0qXxJqsekwaneCwtpplbY0xR3CswBCjbG5yxA4xnJFGwLXY6ukry7wl+0n8O/G3iaLw/pXiDdqkwJtorq0mtlugOphaRFWUd8qTWj4u+OvgfwLqGr6fruux2F7pdvb3VzA0MjPsnaRYtgCnzGZonG1MkbeQMin2Dueg0lcDqnxw8F6J4H0/wAXajrS2GiX4H2WS6gljmnJJAVYWUSFuD8u3PtS/Dv43+C/ildXdn4e1j7RqFqoeawureW1uUUnAYwyor7c8btuKOrQr6JnfUV5f4y/aO8BeAr/AFCx1PVLqe505d96ul6ZdX4tBjP70wRuIzjnDYp2jftF+BNc8Bjxpb6leQ+GTNDbpf3ml3VssjSsqxlBJGpZSXUblBAzyRg0LVXGem0VwnhP41eD/HfiDVtH0PVjqF3pSb7qSO2lFuoyQdsxURvgg52scY5rntN/ao+GWq61aaXb+I2El3KIba6msriK0nkJwES4aMRMxPQBjmjsHe565xRXCeMvjX4M+H+t/wBkeINbj03UDZ/b1hkidjJF5nlgqQp3MWIAUZY9hXP6f+1R8MNT0u/vovE4i+wyLDPZ3NpPDeK7Z2qLd0EpJwcYU5xxQGp63xRXEfDf4weEvi1b3s3hfVRfNYyCK6t5YZLeeBjyA8Uiq655xlRmsDxN+098OPCGtXWl6przxT2cnkXU0VjcS29s/wDdlmSMxxkd9zDFLZpMD1XFHGK57xB488P+F/CreJdV1i0sdBWNZTqEsoERVsbSD33ZGAOTkYrj/B/7Qngj4pR6xbeGtauvtNlavPLJNplxAY0AP71RLGocDqMZBoel/IOx6luorzb4eeOtI0/4LaV4n1bxmuuaQln9ol8S6hb/AGITJk/O0bY2emDzXn/wd+IXw41z4oa3qkHi+bWPF+vELai/sLiwjFqn3IbVJgFcDkllJLEk8DAD62F9nmPoijFcB4u+OfgjwFr11ouva7Hp+qW9lHqDWrRSM7QySNGhQKp3sWRhtXLcdMEVN8OvjR4P+K73sXhrV/td1ZEC6sri3ltrmHPQtDKquoPYkYNG49juNtFcp8P/AIn+G/ihZ6rc+GtTXU4dLv5dLu2WN08u5iIDphlBOMjkZBzwTXnX7U3i7xZ4b0vwPYeD/EH/AAjGoa94lttJl1EWUV2Y4pFkLERyqVJyoPY8daXbz/UTaim30PccUYr5s1jXfip8A9d8LXPijxtZfEfwvrWqQ6Vd+dosWnXlm8p2xyRtC2x13YBVlzjofT0nxV+0R8P/AATNq0Gr68Le50udLa5tUtppZvMZBIqoioWk+UgnYDjvijpuHyPSuKXvXC+KfjV4P8E+GtL13WtYWxstURJLJGgkae4DKGUJCqmRmwQSAuR3AqT4c/GLwl8Vo7tvDWrrezWhAubSaKS3uIM9N8Mqq6g4OCVGaffyC+ifc7WivJvF/wC1D8OvA91qkWpaxdS/2WxS+m03S7q+itWHVZJIYnVGHdWIIrTsv2gPBN54b0TXzqN1ZaTrWoR6ZYXGoadc2vnTurMoCyRqwUhSd5AXjrQtf67g9Nz0eiuA8I/HPwT46tdbutG1j7TZaKCby8ktpordVAJLJI6hZFwD8yEj3rK8NftN/Dnxd4ks9CsNeddQvW22YvLG4to7tsE4hkljVJDgHhWJo62GeqUc1wPjD45eCvAetT6RrutLY6lDbLd/ZTDI7vGzFV2BVO9iQflXLe1YVl+1N8MdQ0K51aHxMrRW1wLWW0a1nS9WYjcE+zFBKWIBIAXkA+lK6augPWs0ZrivAfxg8I/EzRb/AFbw5qy31tYMVu1aGSKa3YDJV4nVXU45wVBNclP+1x8KbWw0+9bxR5llewxzrcw2VxJHCjjKmZljIhJHaQqaHoG57HSV5Nr/AO1P8L/DOoJaX3imEbiqtdwW801rFuAK+ZcIhjjyCD8zCtH4leIYLDWfAKL4wm8OjUNYSKK3t7P7SmrAxu32dmwfLUgbt+R933piuj0qkNedeKvj/wCBPBWtalpGsa6ttqunrE81ktvLJMfNUsgjRULSkhScIGIxzitD4c/GHwl8WLW8m8M6st81lII7q2lhkguLdjnAkikVXXODjcozige252tFeOeLP2tfhh4Lhvp9R1y7ksrGQxXN/YaTeXdrE4OCrTQxMgYHgjORXo3hHxdp/jfQbfWNLF2LG45jN7ZTWsjAHr5cqKwB7EjB7ULVXB6G5RXk/wC0f8Qta8E+B7Sw8JyxxeNfEmoQ6NojSRrIsc8hy8zIQQVjiWRyCMfKAeta/wACfiJP8TPhjpGsX6LDrKI1pqkAG3yryJjHMuOw3qSB6EUl18gelvM9CFFeQ337Vnwy0/VpLB/EMkpjn+zveW2n3M1mkmcFTcJGYgQeDluK6Hx/8cPBvwzurW013VWjvrqMyw2NnazXdw8Y6uIoVZtvvjFF9Ex21sd5QOteNePPjB4c8SfBO/8AFWieOp/C+lLcw2516HTZJ5LeTz0QxtAyBssWCHIBG7Pau18bfFPw18NYbAa/qRhuL0lLa1ggkuLm5YDJ2QxKztjqdqnFO3UVtLnYjilryjwJ+0v4D+JHiK90LQrvVrjUrDP2uOfQr63W2wpfEjyQqqEqDgMQT0GTVK8/a2+Fljp8F4fEjz28gLM1rp9zOYFDFSZgkZMQyDy+316UdgPY6K43Vvi74R0PwPaeMbrW7c+GLswiDU4MyxP5rBIyCoPBZgM9B3xXN2P7UHwzvvEiaGvieKG9k3iGW5t5obaYqCWEc7oInICk4Vj0NGzsG6uerUV5Z4a/aW+HPi7xTbeHtM8RB9Tus/ZVntJoIrvHXyJXRUl/4Axrc+IXxj8JfC1rSPxFqhtrq8z9msra3lurmYDqVhiVnYDuQuBRtYOrR21Ga4zw18XPCfjDwjfeJdH1mO+0ixV2u5ERhJBsXc6vGQHVgBnaVB9q4+//AGtvhXpsdtNJ4o8y1mRJDdwWNxLBAHAK+dIsZWLgj75XHegOlz2OjvXinx6/aT0f4O6B4c1CFjqX9uXdvHbyW9rNdRNA7DdIDEDk7TlQDkkjANeleCfHGl/EHQo9Y0drs2Tu0a/bbKa0kyDg5jlRWA9CRg9qNbN/IV1dI6GivG/2jPHHj7wr4V1CPwJpMS3cWn3F9P4h1Da1rYpEpbAjzuklbGApG0dSTjB7L4Y+JLjWPhT4b17WLgSXVzpUF5dT7AoLNEru20AAc54ApLZvsD0aXf8AS3+Z2VHSua+H3xE8P/FLwvbeIfDOoLqej3DMsVwI2TcVYqw2sARgjuK8t+K/jvxnrPxo0f4WeDNcsvBs91o0uuXXiC808XshRZREsFvEzKhfOWYtnC4wKNbqPVj6NnvFFee/DPw1498JjUE8aeOrTxtbEBra4j0RNPnjIzuD+W7IwxjGFBroPBvjrRfiB4RsfE2h3ZvNEvI2lguTE8e9VYqTtYBhyp6jtTdlqLrY6LNFcD/wu/wX/wAILb+MW1nZ4bmu0skvXt5VHmtMIVBUruUbyBkgAdScc1kWf7UPwyvPES6KvieGG6kLCGa4t5obacrncI7hkEUmMH7rGl1sM9Vory/wz+0p8O/F/iy38N6Z4hD6tdbvssc9rNBHd7QSfJkdFSXgE/Ix4BNeoZpgJil/lXlPiv8Aad+G/gvXrjSNT8QE3tq2LsWdlPdR2h9JpIkZY/8AgRFVvjp8cNP8B/A3V/GWiajFePNYvLpV1bRtcxSSFflb5ARtGc5PHHNS5e7zIai3JRPXvSjjmvC/2XZLLXPD8uu2/jHxh4ovJooo75fEwuIoUnKh2aCKWNAqnOMoCuBgc5qr8f8Aw/8AFPRdH8VeL/DPxcl0DTdPsJbyDQx4cs7lQY4yxUzSAsdxXqRxmnP3NyY+9se/feor5t+Fx+ImjeCtG+Jfjr4xz6v4YXS11XUdHXwxaxjy2h3kCSFfM+UkH5VyduMc1614u+MnhDwL8P4vG2tawtn4YmjiljvvKkfesgBQhVUscgg9OBnOMVTXK2mTGXOlJbM7iiuY8TfEXw/4Q0bTdU1S/wDJstSube0tJI4nlM0szBYlVUUn5iRzjAHJwKwfH3x+8C/DPVY9M13WWTU2TzTZWNpNeTon990hR2VfdgBUXL32PRT2oFYHgzxvoXxC0CDW/DmqW+r6ZMSqXFu2QGU4ZWHVWB4KkAg9RXmH7Uni3xV4X8P+DrTwhr//AAjWpa54ls9Ik1EWcV0Y4pd4YiOUFScgHseOtN6NLuG6b7Ht1AzXzrrmhfHf4VaPdeIrf4haf8TrexQz3Wg6noEOnyzRKMt5M9u4CuFBwGVgT6V0HiP4taT4q+H3w78U2Hi+68IWOv61p8du0dj9pa8eR8fYnGDsDkFS/AXGTTSvt/VxHtWKPauJ8dfF/wAK/Dm8tLLW9RkXULpGkg0+xtJry6kRfvOIYUZyo7nGK5jwz+0X4K+KmleI4/DOr6rC2mWs7XWoS6HdwpZlF+Y7pYlVnXIbZkk46EZqW7Jsq2tmeu+tBr5w8YftL6b8IPg98PNTk1m58ZXGufY4o9YbSp1N3E5XfO0Ua5RipyEPJJxg816NcftB+BrHwba+KL3VZtO0q7uDaW631hcQXE8wzmOO3eMSu2ATgKcgE9Oap/rYlO9vvPShS1w/w7+MnhX4qNex+Hb6eeey2/aLe7sp7SWPPQlJkVsH1xXcUwuFFFFIYUUUUAFFFFABRRRQAUUUUAFFFFABRRRQAUUUUAFFFFAHyR8W/wDkomr/AFi/9EpRR8W/+Siav9Yv/RKUUAfW9FFFAFe5uYrO3lnmdY4Y1Lu7HACgZJPsBXwh8X/26PEV34gurLwUsOnaVBIUW8ljEks+D97nhQcdOeK+y/ilpl3q/wAO/EdpYFheTWEyxBSQS2w8DHc9Pxr8u/Aun+ENUjvdE8VT3Hh/UGlDW2uIGkSEqCGhmh7q3ZlwytjOVzWFSTVkj4/PcVXpOFKjLlvrf9D6K+Cn7bPiQavaWvji2W80S5nW3OrRQlDA7dNxHykeo4IHNfcEciSxq6sGRhkEdCD0r8mPHXjGPxTLp/hrwzaSWnhmxcR2Fnt/e3MrYVp5cfekc9uijCjpX6neCbG503wfotpeNm7hs4o5SSSdwQA8n3p0pN3TLyPGVq/PSqS5krWZifE7x9c/D2Pw/eLaR3Gm3mqQ2F7K7ENAkuVV1xwfn2g59a5Sy+Nt9q+q6pBawabbWa+Jf+Ee026vJZB9qMcW+5fCggkMsiqMgfISTxiu9+IvguH4heC9U8PzTm0+2xbY7kJvMEgIZJAuRkqwU4yOnUVw2lfs9waZ4P8AAWhf208x8M37ajc3bW+G1CV45llYjf8AuyzTM2ctjGOetaq+vr/l/XzPrf6/MZF+0h4f1T4laZ4d0i/sr/TZLW8nvtQLMgt2g25wWAVl5bLAkDHWupsPjZ4J1LS9T1GHX4Es9NjWa6kuI5ITHG2djhXUFlYggMoIY8AmvM9N/ZNMcNvpuqeLpdR0Cz0++0u0s4tOSCaOC567pgx3MvZioB4yvqaH+yRZad4L1bQrjUdJinuEt1tdU0fw/DY3CGBw8bTkOwnO5VJHyg4PAzxWlv67iPUNB+Mng3xKtgdO1yG4a+umsoI/LkV2mCFyhVlDKdoJ+YDiqPi7x1qum+OLDw/YyaTpy3EKSrc60zqt27Oy+TAVIBkULuKkkkMCBgGsrwP8G9b8IaxLq8vjAX2p6jqP27V2TSo4ortFiMaRRoWYwgfKxYMxJGOhrofHvg7XfGjfYIdX0uy0CZAlzbz6Q9xdk7slopvtCpGcYA3RPggnnOAnurDXZl6P4leHpPEf9gjUc6puMQTyJRE0iruMaylfLLgAnaGLcHjg1R8E/E7T/E3gfSdcvJorO4uLK0ubq3XcfJeeJXVRxlgd2ARnOD3BrOtPhbqVtrdmP+EgibwzZ3zalDp/9n/6X5xVgFa58wqYwWJwIg3ABcjOY9B+DCaIPCCf2qJrbRNOt7G6h+yKBftbriCUncShRizAfN98jPemrWd99B6WL83xo8L6bY20+pagLZ5oDdeXbwzXO2Hcy+YxRDtXKNliABjk1e1X4qeGtG1y30m5vpjezNGqLBZTzR7pPuKZEQoCRzgkHHPSsrw78I10GG7j/tPz/tGjrpOTb7doEk77/vHP+uxt/wBnrzx55e+Hdatfi1BNb2VzItrLawx2s2n6g9ndLHGo+0+fHOtrE4ywAkilZdgw3zAA057Lb9Anpdx1R6j4q+KWl+G9Q1LSQLiXWbXTpNRSI2kxgZVR2AaYKUXPlt1I9Bk8UeHfi74b8QaTPex6g0YtbdJ7hZbaaPCsOCgZAZFJ4BTcDxjORS+KfAuo69rN5c2mr29nY6hpj6be201k00jDEnlvE4lUIVaUkhlcMAANp5qj4v8AhDa+MNHksLm5j8ptPSyCy2izR7kdXV2jY4ZcqAUPUE4IODUK93f+t/8AgC6q23/Df8E3rfxzY6t4X1DWtHW41FLWOQ/ZfIkhnZ1XdsMciqyseMAgZDAjIIrG8B+PZ9b0Uanq2paHLbXEyQQf2S0jGOVhzFKGyVcHgqQCCDkCp/AHw/m8B+Fb3TrRPDljfTyNKsuh6GbC13lQqs8AncuRgZIkGQABtxmsWT4U65fR39/e+IdMHiSeWCWG7sdFeC0QxMSu+A3LvITuYE+avbGO7lv7uwlex02tfEzw54e80X2o7JI52tTFFBLLI0oRZCioiszEIwY7QcDJ6A4Xw38TPDfjDUDZaTqRurjyvPUfZ5UR06EqzKFbB4IUkqeDg1j+HfhheabrEeq6nrUWo6ib2a+ma3sjBEzy28cBVFMjlVAjyMsxwcEnqb/h34dLoNzoUov/ADv7Miuotvk7fM859+fvHbt6d8+1VG3X+tP8yfe7f1f/ACO1ooopFhRRRQB4b8V/+RqP/XEf+hPXN+Hv+Q/pn/XzH/6EK6T4r/8AI1H/AK4j/wBCeub8Pf8AIf0z/r5j/wDQhQB7jov/ACD/APtrL/6Mer9UNF/5B/8A21l/9GPV+gAooooAwvGX/IJT/rsn9a6fSv8Ajwh/3RXMeMv+QSn/AF2T+tdPpX/HhD/uigC5RRRQAUUUUAFFFFABRRRQAUUUUAfPvx8GP2hP2e/+wtqn/pvkrqvjp8UNS8A/8Ino+iWdrc634o1IabazagT9mt22ly745OAOAOprtPEHgLQ/E/iLw9rup2P2nVfD8ss+mz+a6+Q8kZjc7VYK2UYjDAgdRg81D4++G/hv4oaCdH8UaVFq1hvEqpIzI0bj7ro6kMjDsykH3qUtLFaXu+3+Z83fERfEmj/tNfAe18S+LdN1jUpr7UJIrKz09bd4Y/sbq7btxYqzbRg4yR7V13wi0Gxm/ao+MeryW6yahCLGCKZhyiGIlgvpk4yRXoHh39nX4eeFbzTL3TfDojv9Nu/ttvfT3c89yJfKaLc80js8gCO6hXYqN2QM4NdVo3gXQ9A8Sa1r1hY+Rq2smNr6485284xrtT5SxVcDj5QM96lRaknfv+RMtVY+bPGFl4t1H9tjUbfSvEtj4bu38JW39kPqWni6WaMTyfaFhyy4YMULY5I254FdfpXgnXfgjqnxB+KninxHB4lum0Tzbix06xFoJBbq7q20MQWI+XdXqfxG+EPg/wCLWnwWnizQrfVo7di8EjM0c0DHq0cqFXQnuVYVT+H/AMDvBHww02/sfDmhJaW+oLsu/tNxNdvcLgja7zO7MMEjBOOacU4xst9fxG/ivbt+B85/HDXPHniT9k/XvF+veJfD+g6PqmjC8j0e0sRKNsqBo4hMzZLksPmUdegr09fhbrHi7w78OvG/hnX00bxfpegw2qSXluLi2uIZY42dJFyCMkA7lINbem/sl/CnS1uEh8JRtbzJJGLWe9uZYIA4IbyYnkKQkgnmMKR2re8U/AnwV40sNKstT0268nS4FtbNrPU7q0kiiAACeZDKjEYA6k1ppbRC6K/S/wChmfBz4pax4v1/xX4V8U6RbaZ4p8NyW63b6fKZbW4jmQvE6MeVJCnKtyK5D9ohYm+NPwI/tcKfD39t3e/zceV9t+yt9l3Z77t23/axXrXgH4ZeGPhfps1h4Y0iHSoJ5POnZWaSSaTGN8kjlndscZYk1a8beBdA+JHh2fQ/E2k2+s6TcYL21yuRkHIYHqrA9GUgjsaT3TXQF17M8M/auTSG+IPwOafyf7Y/4SuMW2ceb5flvvx329M9s4rm/wCz/Geqfth/ESDRvFGneG9ROlae1gupact009mFbf5JLKQqybtwHcjNeyaH+zL8NvDkllLZeHM3Vlcx3cF3dX1zc3CSR/c/eyyM5Uf3C232ra+JPwW8FfF2C3j8V6BBqklrnyLpZHguIQeoSaJlkUHuAwBpL3V31Y2+b7rficx8H/g/rvgPx14t8Sa94mtdcv8AxAsHnxWVkLWNXiBVXKhjlipwT3wK4b9uBtJW1+Dp13yv7IHxA037R5+PL27JvvZ425xnPbNezfDf4Q+EvhHY3Np4U0gaZFdMHndriWeWUqMKWklZmbAJxk15f+1voq69dfB60msv7QtJPHNkLmFovMQxGC4DbxgjaQcHPHNNv3oW6NfmJbTfk/yG/tjG0bwv4IW32nxCfFGn/wBleXjzd3mjzNvfbs3bsdqp6H4fstT/AG6/E+o3cCz3mn+D9P8As7SDIiZ7icMyjoGwuA3UBmHc16J4R/Zv+HPgfxJHr+j+Gki1aJSsE9xdz3ItlPVYUldliHsgUV1lr4D0Oz8b33i6Gx2eIb6zisLi881zvgjZ2RNhbaMF3OQATnknAo2a9X+ViZe8mvJfnc8f8deV/wANefD9tY2f2cdFvBpvn/c+2bl3bc8b/LzjvjNHxk8lv2lvgoNLK/8ACRCbUDdeV9/+zfs53+Zj+DzPLxnjd05zXrfjr4c+GviZo/8AZfifSINXslcSIswIeJx0ZHUhkYf3lIPvWP4E+Cfg74VtfXXhfQ0tNTuk2y311cTXVzKByqtPM7yFQf4d2Pap6K/Tt/X9IrdvzPG/AM3jDw14++KHh7wVpOk+JNObVjdT32o3ht3triaMMYnUKxlVRjkY4OKw/j98MR8LP2IbHwXPd/2h9hu9PhmnUFFdnvkd9o6hcuwA7ACuZ0/w78HtfuNSv/jdo97L8S5ruYXi3UV7EzorsIlgWEqrIEC7SoJPck16n8CfhLH4s+F3iPQPFulaq/ga515rvw3o+tXM63dtYxmN4QzF/NVfNRnVWbIUgHg4qqdtL7Kz+4qMlGpd7XPSvip46sfgH8E9Z8R2umC4s9AsVaCwt8Kp5VEXjoMsCT6ZNfPf7UR8c2vwKTUvFfizQba2ubyyMej6fp4Ks5mQqkczNuJX+8B0GeBX13rWhaf4j0e70rU7OHUNNvImguLW4QPHLGRhlZTwQRXl+n/sm/CrTbGa1i8K+dbyJ5QW71C7uPITIO2EySsYVyBxHtGBjpUy969uolZJL1OI1PT7bUv24PA09zCs0tr4GuZ4WcZKSG4jXcPQ7WYZ9zV+TR7G4/bnivXtYmuofBhdJio3K32nbnPrtJH0NexN8O/DzeOLPxcbA/8ACQ2dg2lQXnnSfLbMwdk2btpyyg7iCeOuKl/4QXQ/+E2/4S/7Cf8AhIfsX9nfbPOk/wCPffv2bN2373OcZ98VpfWFul/xv/mgk00/O34W/wAjybRfJ0r9rjx9dLHtDeE9Pnm8scyMs1wMn1OBiuIu/Hvjb4ufs7654+l17QfCPhPUdNupodPazFzJ5IEigSyMwUO2BkAcE19JW/gnRrXxhe+KI7LGu3lpHYz3Rlc74Y2ZkTYW2jBdjkAE55J4rhLX9lf4W2esXGow+E4VeaR5ntTdTtaCRs7nW2L+UrHJ5VAawUXy8r/rVjTtLmX9aHz3Y3i3fwr/AGRZtdlEnhl7+3N+83+pNx9ik+x+ZnjHm4xnjdtr7E8ZY/4RHWh3+wzf+izWU3wp8JzfD+HwRPodtdeFIoFtk0y6BmQRr90ZYlsg4IOcggEGsPwD+zn8PvhjJqEvh3QpLSW/gNrPJPqFzcsYj1QGWRto9lxV1V7T2ltFK9iI6NPyPmhdn/DLn7OR1Er/AMIwviHTTrPm/wCq8n975fmdtnneVnPGcV7H+2H9mPw+8Oi32/8ACQf8JDp/9jeXjzfO89d2zHONm7OOMda9V0/4YeFdM8AxeCotFt5vCsdv9lXTLrdcRmL+63mFi34kmud8F/s3/Dr4f63DrGi+HFj1KBStvPd3lxdm2U9VhE0jiIeyBaa312vf8v8AIXTztb8/8zzq30e1v/293vbuBJryy+H0JhdwD5bNfSBivocZGR2J9a0rhRb/ALbVp5QWP7R4PcylRgvtuQFLeuMnFeup4B0KPx5J4yWx2+JJdPXSnvfNfm2WQyBNm7ZwzE7tu7nGccUsngLQ5PHEXi5rHd4ijszp63nnPxAX3lNm7b97nOM+9OOlr9L/AI3/AMxVE5c1uvL+Fv8AIk8JyeHJLa8Phs6Y1uLyUXX9lmPZ9pz+837OPMzjdnn1rwv9tS11S7sPhZBol5Bp+ryeNLIWt1cw+bHFJslwzJkZA9M17R4E+Gnhr4ZWup23hrSY9Kh1O/l1O7WN3bzbiXG9yWYkZ2jgYAxwBU/izwHofjiTR31qx+2vo99HqVl++ePyrhAQr/KwzgMflbIOeRS/l8rFS1jJLrc8z034GeJvE3iPQdY+JHjNPEq6LOLuz0vTrBbS1+0AYWVxksxXJwCcVhfBvw/YXH7Ufxn1mS3WTUYnsLaOZhzGhgDMF9MnGSOuB6V9F7a5/RfAuieHfEOt65p9j9n1TWmje/n81285kXYh2sxVcLx8oGe9NOzuJq6seP3QjH7a1sdX2+W3hMjRPOxt84XH+kbM/wAe3ZnHO2meKPLb9tLwT/ZJX7b/AMI3qH9ueV1Ftuj+z+Zjv5m7bnnGccV6v8QPhb4W+KWnw2XifR4dUihfzIZCzxTQt/ejlRldG91YGs/wf8I/DXwo0nVP+EM0SGyv7qMs8880k89w6qdglmlZpGAP95jjJqV7qTfS/wCN/wDMqS5n62/C3+R4P8NtP8Zw6X8SfAvhHS9G1jQBrmoW/wDbt/dGKSOWc+ZKskIUmQoZdobI3YHpVX9pD4c2vhX4TfAXwPdStqNna+NNE06Z2yvnpiRGB9AwJGPQ1x/hjwx8ENY0WLUPizoep3XxWuv3uuxXUV/HdSXfRhFHCVUqMAKUGMAHJOTXtvwR+Ev/AAkvwp0C28eabqE8Wka82teH7TVrqYXdjHHKxtPNYPuZlU/dckYIDA4qoe7a/Tl/ALrmb7834nbfHP4mH4M/Dj+1LLTIb2eS5t9NtLVzsgV5XCIXx0Rc847CvBP2l4/GOjWfwxl8WeL9HuZbnxlpP2bS7DThGTIJssY5GYthVyDxyDz1r6r8XeD9G8c+H7zRNf06DVdKu02TWtwu5WHb6EHkEcg9K4LSf2W/hjo0Kpb+GvNZZoLhJ7y/ubmeNoZFliCSyyM6qrqp2qwU4wQRxU63TfdP5B9m3qjkl0m1vP23zeTQJJcWnhJTBIwyULTkNj0yBVfwxo9i37d3jm/NrH9si8H6Zsm2jcN884Y59SI0GeuBivbF8C6InjZ/FosseIXsxYNeec/MAbcE2btvXnOM+9NtfAehWXjjUPF8Fjs8RX9nFYXF55rnfBEztGmwttGDI5yACc8k4FRCLio36N/jf/MUtea3W34W/wAjxnQYUtv2hPjSI0WNZNDsZXC8Bm8uQbj74A5rM/Z30Gwsf2EtJghto1hufD9zcTLtBEkj+YzMfUknv7V7zD4B0C38Razrsdht1XWLdLW+n86Q+dGgIRdu7auAx5UA89aboPw70Dwv4Ft/BumWH2bw5b2xs47PzpHxCQQV3sxc9TyWz71Uk3Bx8l+oL41Lov8AgHgfgTQ7Cz/4J8fZYrWNbeTwZcyNHtGGY27sWPqc859qzPETtJ4R/ZUZ23M2oacWYnJJ+wNX0bZfDfw9p/w+XwTBYeX4Z+wtp32HzpD/AKOylGTeW38qSM7s89arXHwo8LXVn4UtZNM32/hWSOXR0+0Sj7K0cflochsvhTj592epyea1lLmnKXdr8LkQi404xfZ/ikeQeA9LtLj9t74oX8luj3ltoOlRwzMoLIriTcFPbO1c/Srek2aSftleNrZP3KXng2zMxj4LN58qhj6kLwDXsOn/AA/0HSfGer+LLWx8rxBqsENteXfnSHzY4t3lrsLFRjc3KqCc85rC8beC100+J/GfhjTlk8f3GjNY29y0jMHCbniTyy2zh2JzjJ6EkcVE2kk+iT/U2k+du2m34W/yPn34c6D438YfA3xD8N/D+m6JceFJnv8AQ4fE1zdMrmJmdHka2Cks43Nj5hkgGvqvwpoaeF/DOkaNHK88en2kVoksn3nEaBQx9zjNfF2i+D/2dr3RIbnxV4f1i/8AiBOnm6nbsmopqMt6wy5WOJlAYsflKgKOMYr6Y/Zv0rxRovwa8PWni97ptZRJDsv5PMuYoDIxhjlbJJdYyikkk5HJzT1tbqZtq6a2PHfG2oePviN+00+qeAtJ0bWtN+H1q+n41u5khhGoXKBpXQoDlki2oc9PMarfwHuvFvgX42+LvCfjvTtM0n/hMEbXdPg0m4eW381QEuFUsAQxG1iPxr6G8I+BdE8CWt7b6HZ/Y4768lvrjdM8ryzyNud2Z2LEk9s4AAAAAxTfEHgLQvFWtaLq2qWAuNR0WV5rG4WV0aJnUq33WG4FTgq2R7Uo6WT10/r8SpPmdzwnUtM8afsn+C7270m40/xb8N9J33Mmm3g+z39nbliziOQfLLt3cBgCfXNdj4q+HWu654osviX4B1qDS9cutNjt5rLVrYy213b53orYIaNgW6r+Iq5H+yn8MF1Rb+Xw7LeMsvnC1vdTu7izD5yCLaSVohg8j5OK3PHXwL8F/EjUo7/XdOu5byKPyhLY6pd2RKDoreRKgYexzR0XcOr8z53+PPxSu/ib+yl4+TVNKTR9e0HxBaaPqdvby+bAZ0u7Zy8b/wASlZFPPIOQelegfGRdU8PfHX4da94at7TWfEN1Y3enLo99L5CNAAsjyrLg7WUhRjByD7V6RP8AAnwHN8O38DDw7BB4VklSd9Pt5JIt8iyLIHZ1YOzb1VixYk45zXi3x003wxrvxgaz+MOn3U/w/tbCN9DkWOdbQXRJExllhwwfG0AMwXHQZqnJWUVvf9Cr+5btf80eieBPh7r9h4v8eePfE62djqniCxtrNdL09zIlvDbpJtZ5CBvdjI2SAAAFFY37Feh2Fj+z7pnkW0afbbm8muMKP3rGdwS3rwMc1xnwV8GeHLT41WU/wk0zV9K+HX9lXUevvcvdjT72digt1gWdzmRfnJZBgA4Jya+k/BngrR/h/wCH7fQ9As/sGl25Zo4PNeTbuYs3zOxY5JJ5NZuGvMtrfqRe7s+j/Q+GpraO5/4J5wWcqB7VfFUlusR6LGNbkUKB6AcY9K90/bI8P6bd/C/wRps1nDLYjxbotuIWQbRGbhUZQOwKkg+xr03/AIUL4F/4V+vgn+w8+GFvDfix+1z/AOvM5nLb9+//AFpLY3Y7YxxXQeMPAOh+PdPsbLXbL7dbWV7DqFunnPHsuIXDxPlGBO1gDgkg9wa1urR7qSb/AA/yNJO6svP8Ty39qKzgFn8OJREiyW/i7ThEwABjBYqdvpwccV57Lp/jLVf2xPH0GjeKdP8ADeoNpFg2nrqWnrdNcWgVt/k5ZSAsmdwHcjNfTPijwTo3jSOwTWbP7YtheR39sPNdPLnjOUb5WGcHscg9waxfiV8F/Bfxdt7ePxXoMGqPbZ8i5DvBcQ56hJomWRQe4Vhms4pxbfn+iJ0enl+p5TF8H9e8CaX8W/E2v+JrXXL/AF/RWW4hsrEWsYaKF1WQqGOWKnBPfA9K2P2f/D2nad+yL4b0+C0iW0m8PZli2ArIXiJcsP4ixJznrXbeDfgX4H+H/hvVtD0HRBZadqyGO+D3M00twpUrh5ZHaQ/KSB83GeK6TQvCGk+G/Ctr4b061+z6La24tIbbzHbbEBt27mJY8dyc+9OXwSiutvwv/mLqvn+h8bW9w837HX7Ps8z7tms6SGkc8BRMyjJ+gAr7iXlRz2riP+FL+Cv+Fa2/w+fQYbjwhbwi3i02eSSUIgOVw7MXyDyG3ZHY1q+BfAOi/DnQo9G0G3mtrBWLhLi7munyeuXldmPQcE8dq0lK7l2bb++xhTpuCjfeyRmfHD/kjfjj/sC3n/olqg+CHl/8KR8Febt8r+xLTdu6bfJXOc9sV12uaLZ+JNGvtK1GHz7C9he3uIt7LvjZSrLlSCMgkZBBqLSfDOm6L4dttCs7bytKtrdbSK3LswWILtC5Ylj8vGSSfesldKXnb9TZ6uL7X/G3+RH4Sk0BtDgPhltObR8t5J0oobfO47tuz5euc475rmPiZ8H/AAv8XGs11ZZoNX0wmSz1LTbk297ZlupR1OQDjkHIOOlbvgH4e+H/AIX+Gbbw/wCGNNTSdHt2ZorWN2cKWYsxyxJOSe5rl/iV+zn8Pfi5rEOreKfD5vdUhhFul7b3txZzeWCSFLwSISoLNwSeppvdFI4j4V+IPE/hn4teJ/hlq/iJ/GWn2OlR6ja6ncRqLq33sy+ROV4Y4GQcAkUn7IurWcP7I/hi4e4jSGzsrtLhmYYiKTzbw2ehGOQa9U+Hvwn8JfCnTpbLwpoVvo8MzBpmj3PLMw7ySOS7n3Zia5aX9lv4XzeIrnXG8KQC7upjc3EEdzPHaTyk5Mj2quIWYnksyEk89aHqnHuTpfmPmLUobTxF+wHo8TgXFhfeILVWweHjfVEB/Aqa9o/bU0Owvfhh4Ws5rSKS1TxNpUaxbRtVfPVcAdhjjjtxXqUnwR8FzeCYfCB0UDw5DdJex2K3MyhJlmEysGD7sBwDtzjtjHFbPjPwFoXxA0+2sdfsft1rbXUV7FH5rx7Zo3DI2UYE4YA4Jwe4NUt15ST/AC/yM5RdpWe6t+Z5L+1FbQwzfB1441R4fHelpGyjBRSJVKr6AjgivcNU886Xdi1/4+fKbyv97B2/risvxV4G0Txr/ZH9s2X2z+yb+LVLL966eVcx52P8rDONx+Vsqc8g1vheBioa91rv/kjTaSfZJfi/8zwb9jldP/4UPar+7/tAXV2NY8zG/wC1ea/m+bnnP+92x2rybQdv/DHnxqax/wCRcOq6udF2/c+y+aMeX22b9+3HGOlfQXiz9mb4a+NteuNY1Xw0r390QbprW8uLVLvH/PeOKRUm/wCBhq63U/h54d1bwRN4Pn0qCPw1NbfY20623QRiHGNi+WVKj/dIp7q73Li1Frydyz4H/wCRM0L/AK8YP/Ra1zP7Qn/JCvH/AP2Arz/0S1dzp9jDpljb2lunlwQIsUaZJ2qBgDJ5PA71V8Q+H7HxXoV/ouqQfadOvoHtriHeyb42Uqy7lIIyCeQQaVRcyaRMPdtc4X4Q6TDr37PHhTTbhQ0F34dt4HU9CrQKpH6180/De1b4t2/gX4Raqxnt/CJ1JNaRhncsJe3tgw91k3D6CvtHQNBsfC+h2OkaZD9n06xhS2t4d7PsjVQqrliScADkkmue8M/CXwn4L8XeIfE+jaOllrviB1k1K7E0jGdlGF+VmKr9FAB71c7SnKXR9PPoZ0ounSjG+q6/mfL3ww1i8+I3if4N/D3Ui0t94DudTudbDc/vLBvstox/3jKrj6V6p+zQsK+Nvi6t/t/4Sb/hI3+0+Z/rfs+xfIxnnZtzjHGc16Z4d+EfhLwn468Q+MtL0eO08Sa+I11K+EsjGfYAFwjMVXoM7QMkAnJqh49+AngT4mapHqev6F52ponlfbrO7nsp2T+40kDozL/ssSPapTeje7Wvr3/Au2/RLb+vmee/ATyT+0B8dzou3/hGv7Q04HyceT/aH2X/AErbjjd/q92P4s55qx+1ljb8KOP+Z70v+b1694P8FaF8PtBt9E8O6VbaPpUGTHbWqbVyTkse5YnksSSTyTWV8T/hJ4W+Mmgw6L4u019T06C5S7jjju5rZllUEK4eJ1bIDHvjmm9426W/Ae/NfrdDfi94+0X4bfD3Wda1y8itLWK3dUWRgGmkKkLGo6szEgADnmvlLWvDeoeFf2cf2erHU4GtL9vHmi3Mlu4w0XmXDuFI7EBhX0H4T/ZN+FHgvV4NU07wjHNqEBDQXGqXlzqDQsOjJ9okfafcYNd34x+HugeP4tIi16w+3JpOowatZKJpI/KuoWLRSfIwztJPytlT3BojaMlJ91+DBPp6/ijxbx42t+Fv2otO1LwnY2XiHWtY8PNb3Wm39x9m8iCGbcJUlw3Vn2lcc4B7VraT8OtX8JeA/i1r2vSWker+J47rUJrOxJaG2C2vlqoY4LNhMlsDJNeefFXSvBPiL4zeI0+OWnXUmi2iwL4VkaO4Sz8lowZz5kJGZTICCHPAC7QOSdX4BeBdIb4geK4fBWl6tp3wfvNGW0ktNRe6WC7vWdg8luszlwvlHazLgEkY5GaycHOm4rdp6/iNu0uZ+X+RyWtEJ+yL+z67HaiX+glmPAA46mvof4vfCe4+IVx4a1rRtZOg+J/DVzJd6ZePAJ4d0kRjkSSM/eVlOMggjsa2Ln4Q+EL34c23gO50SG68KW1vHaRadO7yBI0ACAOzF8jAw27PvWHN+zf4BuPC9l4efS746bZzPPb/APE4vRPG7ABiJxN5uCABjdjA6VtJ3v63/IzhHls/K35/5lD4XfFDxHf+P9X8B+NNMsbfxHp1lHfpqGlSF7a7t2YoGKt80bbh905Hoa9f4rjPh/8ACHwj8LY7pfDOjpYS3ZBuLqSWS4uJ8dN80rNI+O25jiuzpPoV1FooooGFFFFABRRRQAUUUUAFFFFABRRRQAUUUUAFFFFABRRRQB8kfFv/AJKJq/1i/wDRKUUfFv8A5KJq/wBYv/RKUUAfW9FFFADW+YEdRXzl8Wv2KfC3xE1qfWNPu5vD2oXD751gUNFIxPJ2HoT7d6+jKfSlFPRnLiMLRxUeStG6Pnf4P/saeFvhhrEOs3lxNr+qwNuga4ULHC395VHU+56V9C9PanfhTaIpRVkGHw1LCx5KMbIpaxrWn+H9Pm1DVL6302xgG6W6u5ViijHTLMxAAz6muL8VfGTQNEbw1FYano+p3HiGfy7ANqsUMcyAEtIj/NuHAUBQdzMoyM1r+PvDl/r1np8umC0mv9OvEvIbfUCywTEKy7WZVYrwxIYKcEdOeOe8NfDfU7G80bUb86dFdRateardW1juMUZnidAkTMoLEFgzMQu4ljgZxTW+p0yvbTc0PF3jbxNoPiSw0zTfC1rqsF8WWG5l1b7OSyruYMnlNgDscnPtXVReINNk+zZ1CzLzxPPGq3CHeiY3svPzKpIyRwMjOM1S1vQZ9S8QaFfxyRrHYPK8itnc25Qo24/rXnl58G9Xll1SW21G2t5kumGkOSx+zWsrSPcKfl4ZjM6gDI2xxc5BxKvdplaHojeOPDg1mz0k6/pY1W9QS2tj9tj8+dCpYMibtzDAJyARgZrJ8X+NNX0XxJpui6LoMWt3d5az3bma/FqsccbRqQDsbLEyjA46Hmua1L4X6y2oNp9iukjw9cajaahJezu/22DyHRhGiCMqwPlqoYuu0M3B77vjLQvFH/CZaTr3huDSbtrawubKaHVbuWADzHhdXUxxPux5RBBx161orAt3cvaJ8SNL1bTku5z/AGWkcM0139tmiQWhibbIshLZG05O7GMDJI6UWnxT8J6pb/adL8RaVq1or7J7mw1CCWOD5S2XIfgYBPGTx0rzjxt4BvPC/gnUb67vUu7uS0kS4uoVKLFdT3COJwrBgsUbAMchvlU/K33S34W6PqHi/TDNNdw30sOptdXGsC689L0tb+V8u22t1VlVUUqsSrgA5ZixrN3s2lqv8xLR69dvuPR7f4v+Brq0sLuPxloJttQcx2kh1KEC4cEAomW+ZgSAQOQSPWuxrxy6+H/jVo9EeyTSdJ1SyUWz6pZ6rP8A6gSZwbZrZo5srn5XwVLMFdSd1exdqt2JV+o6iiikUFFFFABRRRQAUUUUAFFFFAHhvxX/AORqP/XEf+hPXN+Hv+Q/pn/XzH/6EK6T4r/8jUf+uI/9Ceub8Pf8h/TP+vmP/wBCFAHuOi/8g/8A7ay/+jHq/VDRf+Qf/wBtZf8A0Y9X6ACiiigDC8Zf8glP+uyf1rp9K/48If8AdFcx4y/5BKf9dk/rXT6V/wAeEP8AuigC5RRRQAUUUUAFFFFABRRRQAUUVFNKkMbyOwVFBYsTgDHUmgB3rSbh6818NfGj9qHxR4k1a6tPDV5Ponh+GVoUuLUbZZ2HVjIOR6gKRx1zWv8ACPxJ8XdF8LXPjObUpNU8N23zyWesTs8lzGD8zRM2SCOx3AH0Ncn1mN3ZOyPj48S4epiXQpwlJLdpaabv0PtD730oxWN4T8S2njDw7p+s2D77W9hWVM9cEdD7g8H6Vb1nWrHw/ps+o6ldxWNjAN0txOwVEGcZJPTkiuq6aufWwlGpFSi7pmhRUaSLIiuhDKwBBHQg96fTLFopKzNJ8QWWuTahFaSNI9jcNazgqV2yKASBnr1HIpX6AalJxSZ5FZWveIbLwzawXF9K0UU93BZoVUtmSaRY4xx0BZlGegzk0+qQrpK5r0UlLQMKSs3VvEWmaDJaJqN9BZtdzCCBZnCmWQ9FUdzU19qlpp01nFdXEcEl5N5FujtgyybWfaPU7UY/RTQBdorM0vxFpmt3V9bWF9BeT2MgiuUhcMYXIyFbHQ4rToAKKSloASiqq6hay30tks6NdRIsjwg/MqnoSPQ4NW6ACiiigAooooAKSlooAKKKKACiiigAooooAKKKKACiiigAooooASilooAKKKKACiiigAooooAKKKKACiiigAooooAKKKKACiiigAooooAKKKKACiiigAooooAKKKKACiiigAooooAKKKKACiiigAooooAKKKKACiiigAooooAKKKKACiiigAooooAKKKKACiiigAooooAKKKKACiiigAooooAKKKKACiiigAooooAKKKKACiiigAooooAKKKKAPkj4t/8AJRNX+sX/AKJSij4t/wDJRNX+sX/olKKAPreiiigAooooAKKKKAOe8Y+LI/B+mw3TafeapJNOlvDa2AjMsjtnAHmOijoerCl8I+Lrbxhpsl1Bb3VjPbzva3VleKqzW8y43I4VmXOCCCrEEMCCQQazfiV4Xv8Axbpum2un3txp00OoRTtd2pjEsKKGyy+YjKTyOCp69K5+8+DOn3GqeHoby3bxBptu95c38mrOspubiURlXljwEf5lyFChVKqVUbVwttw6qx6hRXz23w/uPDN3qGrXXh6LR5bS3v5NS8VWc6fadSidW2KdmZGKgrjzBhdg21yXwx+G9jrNnqVhD4c0Oz1OabTJLqbQbe1tbeWziuN0iFreVyXPzFgzAsNvyjBJqKTdrh2PrH8KK8D1z4P6jN8VtF1XT9As7DT9Hnt/sN1YW1hDHFaqMPFkxG4U/M3yoyoRkYOcGxY/s86PPJosuqeGNKvbh5b06vJdRpM12jmRoUlLZMqqxjKq2Qm1doXaMJaq/qTezse51Wu71LNYjIsp8yRYl8qFpMMTgE7Qdo9WOAO5FeG6x8C7rW/CuoQXuk2l5qlv4c+x6O88gc2l6pmMUkTE/umXdHtkXBXHBGK3YfhCdB8WTy+H9Ks9L0ea4027eG0CxI80TzGeVlGMuytHlj8zY5JxTt5lLWKkevZ60dK8FX4U2HgHweden0yDS9Vh0vUE1nVLED7XIjoxGZAC0m0hSuc7ccAVH+zN4f0zSZtdVdB0XStVlhhSabw/Z2sFs8YDAKDbySfNnJO5gT8p2jFLq12FLT7z0W1+KkGo3Fw9n4e1q80SHzC2vRpAtmwjDFiu6VZWGVKhljIJwQSvzV1+l6hFqunWt7DuEVxGsqbhg4YAjI9cGvONB03xRpfhu48HXWgGS1itZ7aDWobyLypFKt5ZZGbzAxyAeCAc845rnrj4Kt4X8OTWvhbw7ptpJeaNFZ6jBDFDm8lDrvZxICksm3fh5QwJJznNGmv9dx9VY9W8ReLLLw1Nax3izM9wkzp5SgjEUZds5I7Dj39K1NOvo9S0+2u4gRFcRrKu4YOGAIz74rwvwX8H9a8PeGbPTo7IWdtBcajJDayNbIYI57fai7beNIlO8tkIoGSTznJij+DOrf8ACzNJ1q/t9Qu/s6WywX1lJp6izVIwHiLSRGcKWByInAYNyKWt7ehN3bbufQRpBz0rxC1+FGneB9IsfEJ0e2sNat4rw6xqloim7mgeGXCtIPmlUN5WFJIXauAAox5Z4L+GKeIPDOsaZpmj6Va6tItrLdtoNpp0aaharuVoWfM8bOzEMfOADEZKjOQJ8wz7E+9R7VxHwe8Kv4N8C2mltb31mI5JGW0vnti0ClyQii2VYlTuFRQADiu3pghaKKKBnhvxX/5Go/8AXEf+hPXN+Hv+Q/pn/XzH/wChCuk+K/8AyNR/64j/ANCeub8Pf8h/TP8Ar5j/APQhQB7jov8AyD/+2sv/AKMer9UNF/5B/wD21l/9GPV+gAooooAwvGX/ACCU/wCuyf1rp9K/48If90VzHjL/AJBKf9dk/rXT6V/x4Q/7ooAuUUUUAFFFFABRRRQAUUUUANx0rL8TWMmqeHtTtITiWe2liQ5xhmQgfqa1aOPSgiUeaLj3Pi/4M+OvB0mg3Pw7+IOnWlillO7pc3CiNXkViTvbqr8EA9xx6Z4749fHt/H0v9g+HwdP8KWhCRxxjb5+OAWHZfRfzr6c+K37Mfhn4oai2p75dH1dxiS5tQCsvuyHgn3BB9c1heAf2OfC/hPVodQ1O9n8QSwsHihmjEcII6EoCd30Jx7V5tSlVnaOlur7+p+bVcpzbl+pU7ez259E3HsztP2cNEvPD3wY8N2d8rJceU8xV+oEkjOoPphWFZvxs/tbxTqmi+EtH0az15XLahqdne3xtI2t1BVFLCOQ/M5zjb/B1r1xVCqAOFA6CnV3qKUVHsfomFo/VqMKKd+VJHyzJ4sg+x+AND+IF6ujHR9QvtI15PtzLakR2bPC002EHltG0L7mCjc3Y8Vr6BaDxVd+GNMe8u5/Cc+p6ktjsuHC3diqJ5Y35y0eS2055AGDivdtU8M2ura9o2qyvL9p0ppXgCEBSZIzG24YyeCcYI5rZ/Cql7xtG8br7j5x8ZXmk6b4g8X2+rai1j4vtrmKPwlZC6ZLiW3FrBt+zRBsyjzfODEBiCDuwAKwtRu9Hs7rxpJLqJtviS2rZ0Sy+0sks05EYxBED+8TdkOQGCruLEAE19WEZopJWkn8hvVWPmX4leMre8+I0xt7rTtO8RaPq1rZrZNLM+pTW7eWzTrGrhVhbey7mRh8p+YHgU9butCvL61W+1Ld8QV8YWH2iwa5Y3C2w1CMIWgz8sO3BV9oUnbhiSBX1NjrRTXutP8AroKS5k13Pm1dWtE1qXzNRb/ha39vzRrpwuW+0Gy+1MIj5Gf+Pc2+w79u3JPzZzXv+oW2oz6jpctpfLbWcMrteQNEHNwhRgqhj90hyrZHXGO9aZ9aXpTvpYe7bPP/AIr6XZzw6JfS28cl5DqVskUzLlkBcZCntnFEa/8ACVfFqR2G+x8MWvlpzwb24UFjj1SEKAfS4au+x60tTFWbfco88+H+mWuj+OvGttZW8drAGtG8uJcDJRyT7knqa84+IGr+FY/ip45tvFutSWDQ6VpsmkQTXjwIbki6/wCPcBgHmJVflXJIC/Ka+ivfvWNp/hmz0/xJq2txNKbzU4reGZWI2BYd+zaMZB/eNnJPbpVS94zjFx27nh//AAn7+E7XVl8ZaoNL1zUPC1s9taXM3ly3V0sD+asCE5eQMRlVBIPaqekaFD4uvPEU2qz3lytj4O0a6toWuZFWGcresZgFYfOdqAk/3RX0sf1pPpUxVuZ9/wDg/wCZTV5J9v8Agf5Hy7o91Gt1f6tDPCPiBqngu3utHE8+2a8uhasWMSFsSMGIyFBxkZxWvol/4ZuNSit/BviZIYJdLuj4lvI74yLYyCNNj3JZiIZg5PyttON/HBx9Fc0tO267j7W/rY8g/Z71bR7qx1ay0WTStStraRN2taHfNd2d45HJDFmCuMcqGbBPbpXsNFFMAooooAKKKKACiiigAooooAKKKKACiiigAooooAKKKKACiiigAooooAKKKKACiiigAooooAKKKKACiiigAooooAKKKKACiiigAooooAKKKKACiiigAooooAKKKKACiiigAooooAKKKKACiiigAooooAKKKKACiiigAooooAKKKKACiiigAooooAKKKKACiiigAooooAKKKKACiiigAooooAKKKKACiiigAooooAKKKKACiiigAooooA+SPi3/AMlE1f6xf+iUoo+Lf/JRNX+sX/olKKAPreiiigAooooAKKKKAM3WNatNBt1uL2UxRvKkK7UZ2Z2YKqhVBJ5PYcDJOACa0K4r4hslvf8AhW6uAPskOqp5jHojMjqjH/gRx9WFeZ6bpPieH/hK4bO08QTJIySSaheXNzFcTxm4BligieVo1YxbsPFs5x8q/KKW4z32SNJo2R1DowIKsMgg9QRVbTdGsNHjdNPsraxRzuZbaFYwx9SFAya8w8O+F5tS8SWMtrH4m03QbTT/ADILXVNQuQxuxM2DKWkZ3AX+FmKkHkHivO/D3hX4jwaJ4gLaz4gGvyWey6iuLOXyZZfNTe8Dtcsu7aHCiIRKQ/QYXa7C9T6g/Cj8Oa8I8I+Bta1TS9F07UdT8TS6Ubu4a5Wd7nT51TYNqM/2h5SpbkHzM9umQbUmh6rYr4fttctvFGqaPaG6hiTTb6cTrIt0wgedo5FeRfJCgFmYHksCSDR5E3dr2Pbajkfy1ZiDwM8Ak/kOtfO9rpPjS68beINQmHiDTLO5sL6KaGFbiRImIQQtBuuWV2wGI8tIznjI61P4f8M3rWPhm61XRfEoh0/V5vmTU7/z5I2hCrPKkk7MqlwMpuZVGcZBOS1+pR7rpepWPiXSUurVlurG4Ugb0IDDkEMrAEdwQRUmm6PY6PE0VhZW9jGxyUtoVjUn1IUDmuW+FOZtD1O5Q7ra61a8ntmxgNG0zFSPY129N7gFFFFIAooooAjkjWZGR1DIwwVYZB9sVU03RdP0aNk0+xtrFHOWW2hWME+pCgZq/RQAUUUUAFFFFAHhvxX/AORqP/XEf+hPXN+Hv+Q/pn/XzH/6EK6T4r/8jUf+uI/9Ceub8Pf8h/TP+vmP/wBCFAHuOi/8g/8A7ay/+jHq/VDRf+Qf/wBtZf8A0Y9X6ACiiigDC8Zf8glP+uyf1rp9K/48If8AdFcx4y/5BKf9dk/rXT6V/wAeEP8AuigC5RRRQAUUUUAFFFFABRRRQA3tWd4g1X+wtC1HUjGZvslvJcGMNjfsUtjODjOMZxWjXP8AxD/5EPxH/wBg24/9FNVRs5JMiV1Fsw7LxV42vLSC4TwrooSVFkXdrsuQCMjP+ie9Tf8ACReOP+hW0X/wey//ACJWx4f/AOQDpv8A17R/+gitCupuF2lBfj/mc6jNpPn/ACOY/wCEi8cf9Cron/g9l/8AkSj/AISLxx/0K2i/+D6X/wCRK6eipvH+Rfj/AJhyy/n/AC/yOY/4SLxx/wBCton/AIPZf/kSj/hIvHH/AEK2i/8Ag+l/+RK6eijmj/Ivx/zDln/P+X+RzH/CReOP+hW0X/wfS/8AyJR/wkXjj/oVtF/8H0v/AMiV09FHNH+Rfj/mHLP+f8v8jmP+Ei8cf9Ctov8A4Ppf/kSj/hIvHH/QraL/AOD6X/5Erp6KOaP8i/H/ADDln/P+X+RzH/CReOP+hW0X/wAH0v8A8iUf8JF44/6FbRf/AAfS/wDyJXT0Uc0P5F+P+Ycs/wCf8v8AI5j/AISLxx/0K2i/+D6X/wCRKP8AhIvHH/QraL/4Ppf/AJErp6KOaP8AIvx/zDln/P8Al/kcx/wkXjj/AKFbRf8AwfS//IlH/CReOP8AoVtF/wDB9L/8iV09FHNH+Rfj/mHLP+f8v8jmP+Ei8cf9Ctov/g+l/wDkSj/hIvHH/QraL/4Ppf8A5Erp6KOaP8i/H/MOWf8AP+X+RzH/AAkXjj/oVtF/8H0v/wAiUf8ACReOP+hW0X/wfS//ACJXT0Uc0f5F+P8AmHLP+f8AL/I5j/hIvHH/AEK2i/8Ag+l/+RKP+Ei8cf8AQraL/wCD6X/5Erp6KOaP8i/H/MOWf8/5f5HMf8JF44/6FbRf/B9L/wDIlH/CReOP+hW0X/wfS/8AyJXT0Uc0f5F+P+Ycs/5/y/yOY/4SLxx/0K2i/wDg+l/+RKP+Ei8cf9Ctov8A4Ppf/kSunoo5o/yL8f8AMOWf8/5f5HMf8JF44/6FbRf/AAfS/wDyJR/wkXjj/oVtF/8AB9L/APIldPRRzR/kX4/5hyz/AJ/y/wAjmP8AhIvHH/QraL/4Ppf/AJEo/wCEi8cf9Ctov/g+l/8AkSunoo5o/wAi/H/MOWf8/wCX+RzH/CReOP8AoVtF/wDB9L/8iUf8JF44/wChW0X/AMH0v/yJXT0Uc0f5F+P+Ycs/5/y/yOY/4SLxx/0K2i/+D6X/AORKP+Ei8cf9Ctov/g+l/wDkSunoo5o/yL8f8w5Z/wA/5f5HMf8ACReOP+hW0X/wfS//ACJR/wAJF44/6FbRf/B9L/8AIldPRRzR/kX4/wCYcs/5/wAv8jmP+Ei8cf8AQraL/wCD6X/5Eo/4SLxx/wBCtov/AIPpf/kSunoo5o/yL8f8w5Z/z/l/kcx/wkXjj/oVtF/8H0v/AMiUf8JF44/6FbRf/B9L/wDIldPRRzR/kX4/5hyz/n/L/I5j/hIvHH/QraL/AOD6X/5Eo/4SLxx/0K2i/wDg+l/+RK6eijmj/Ivx/wAx8s/53+H+RzH/AAkXjj/oVtF/8H0v/wAiUf8ACReOP+hW0X/wfS//ACJXT0Uc0f5F+P8AmLln/P8Al/kcx/wkXjj/AKFbRf8AwfS//IlH/CReOP8AoVtF/wDB9L/8iV09FHNH+Rfj/mHLP+f8v8jmP+Ei8cf9Ctov/g+l/wDkSj/hIvHH/QraL/4Ppf8A5Erp6KOaP8i/H/MOWf8AP+X+RzH/AAkXjj/oVtF/8H0v/wAiUf8ACReOP+hW0X/wfS//ACJXT0Uc0f5F+P8AmHLP+f8AL/I5j/hIvHH/AEK2i/8Ag+l/+RKP+Ei8cf8AQraL/wCD6X/5Erp6KOaP8i/H/MOWf8/5f5HMf8JF44/6FbRf/B9L/wDIlH/CReOP+hW0X/wfS/8AyJXT0Uc0f5F+P+Ycs/5/y/yOY/4SLxx/0K2i/wDg+l/+RKP+Ei8cf9Ctov8A4Ppf/kSunoo5o/yL8f8AMOWf8/5f5HMf8JF44/6FbRf/AAfS/wDyJR/wkXjj/oVtF/8AB9L/APIldPRRzR/kX4/5hyz/AJ/y/wAjmP8AhIvHH/QraL/4Ppf/AJEo/wCEi8cf9Ctov/g+l/8AkSunoo5ofyL8f8w5Z/z/AJf5HMf8JF44/wChW0X/AMH0v/yJR/wkXjj/AKFbRf8AwfS//IldPRRzR/kX4/5hyz/n/L/I5j/hIvHH/QraL/4Ppf8A5Eo/4SLxx/0K2i/+D6X/AORK6eijmj/Ivx/zDln/AD/l/kcx/wAJF44/6FbRf/B9L/8AIlH/AAkXjj/oVtF/8H0v/wAiV09FHNH+Rfj/AJhyz/n/AC/yOY/4SLxx/wBCtov/AIPpf/kSj/hIvHH/AEK2i/8Ag+l/+RK6eijmj/Ivx/zDln/P+X+RzH/CReOP+hW0X/wfS/8AyJR/wkXjj/oVtF/8H0v/AMiV09FHNH+Rfj/mHLP+f8v8jmP+Ei8cf9Ctov8A4Ppf/kSj/hIvHH/QraL/AOD6X/5Erp6KOaP8i/H/ADDln/P+X+RzH/CReOP+hW0X/wAH0v8A8iUf8JF44/6FbRf/AAfS/wDyJXT0Uc0f5F+P+Ycs/wCf8v8AI5j/AISLxx/0K2i/+D6X/wCRKP8AhIvHH/QraL/4Ppf/AJErp6KOaP8AIvx/zDln/P8Al/kcx/wkXjj/AKFbRf8AwfS//IlH/CReOP8AoVtF/wDB9L/8iV09FHNH+Rfj/mHLP+f8v8jmP+Ei8cf9Ctov/g+l/wDkSj/hIvHH/QraL/4Ppf8A5Erp6KOaP8i/H/MOWf8AP+X+RzH/AAkXjj/oVtF/8H0v/wAiUf8ACReOP+hW0X/wfS//ACJXT0Uc0f5F+P8AmHLP+f8AL/I5j/hIvHH/AEK2i/8Ag+l/+RKP+Ei8cf8AQraL/wCD6X/5Erp6KOaP8i/H/MOWf8/5f5HMf8JF44/6FbRf/B9L/wDIlH/CReOP+hW0X/wfS/8AyJXT0Uc0f5F+P+Ycs/5/y/yOY/4SLxx/0K2i/wDg+l/+RKP+Ei8cf9Ctov8A4Ppf/kSunoo5o/yL8f8AMOWf8/5f5HMf8JF44/6FbRf/AAfS/wDyJR/wkXjj/oVtF/8AB9L/APIldPRRzR/kX4/5hyz/AJ/y/wAjmP8AhIvHH/QraL/4Ppf/AJEo/wCEi8cf9Ctov/g+l/8AkSunoo5o/wAi/H/MOWf8/wCX+RzH/CReOP8AoVtF/wDB9L/8iUf8JF44/wChW0X/AMH0v/yJXT0Uc0f5F+P+Ycs/5/y/yOY/4SLxx/0K2i/+D6X/AORKP+Ei8cf9Ctov/g+l/wDkSunoo5o/yL8f8w5Z/wA/5f5HMf8ACReOP+hW0X/wfS//ACJR/wAJF44/6FbRf/B9L/8AIldPSUc0f5F+P+Ycs/5/y/yMvwV4nuvE1nete2EenXdpdyWksUNwZk3Lg7lcopIO4dVFdLXE/DT/AJmf/sN3H/oKV2vtWNVKM2ktDak24K7uxaKKKzNQooooAKKKKACiiigAooooAKKKKACiiigD5I+Lf/JRNX+sX/olKKPi3/yUTV/rF/6JSigD63ooooAKKKKACiiigCKaCOdNsiLIuQdrAEZByP1qSuH+KlzqA0vTLHTn8l9Qv47aSQymIbSrEgsvzLnAGV59KqaX4ok0H4Z6nfpZqbjR/tURh+0yTJI8TsDtkclipI/iOR07Ur7hroehmkrzC6+IPifTbq9W603SzHYvbGcxTyFmjmdVAXK/eXdk54OOKfF441ubUjp2l21vcXM1/fxh9QmYJGkBXAG1c4O7gc49TQB6dRWP4V1iTX9As7+aJYJZlO+NW3BWBKnB7jINbFUJahTSoOQRkU6ikMjjjSGMIihEUYCqMAD6VJRRQAUUUUAFFFFABRRRQAUUUUAFFFFAHhvxX/5Go/8AXEf+hPXN+Hv+Q/pn/XzH/wChCuk+K/8AyNR/64j/ANCeub8Pf8h/TP8Ar5j/APQhQB7jov8AyD/+2sv/AKMer9UNF/5B/wD21l/9GPV+gAooooAwvGX/ACCU/wCuyf1rp9K/48If90VzHjL/AJBKf9dk/rXT6V/x4Q/7ooAuUUUUAFFFFABRRRQAUUUUAJ6Vz3xC/wCRC8Sf9g24/wDRTV0PpXPfEL/kQvEn/YNuP/RTVcPjRFT4WO8P/wDIB03/AK9o/wD0EVjeKdWvptUstA0qUWt5do0st4VDG3hUgFlU8FiSAM8Dqc1s+H/+QDpv/XtH/wCgiuf8ULLoPiWx8RrDJcWUdu1neCJSzxxswZXCjkgMOcc4rsgk6jvq9Tlk37NdtL+hRtfCMslzfrpniLWYdSsZAjXFzfC4hkcorgNCWYKuGGQVQ4ORwQTNc/ESbT/hvrfiGawWXUNHgnNxYiYorTRAkqH2sVVuCDtJAYcE1U03xn4d0m+16+i1q11GTU7lJ4rKyPmTgrBFFtKLlgSYyeQAMjNQal4I1PXPhT4s0xolj1fX4rqQwM+1UeVdqqWHQhQuSO+auopezfOv66mdNxU1yPTr+hN4f+Jmq/20mkeK9BtdGvZtNk1a3fR7+TUonhjZFdSTbxSBwZUwoRgwJwSQRWjD8YfCkmj3WpzahPYW1rMlvcLqVhcWk0Uj/cDRSorqG7Erg9jWJefClfDPgm8g8IwyQa9LDHGbm5vppp5EVlZoVnlZmRWG4DBwCc4rkdK+D2utNq12+nR2CX2q6ZepZ3GpPePGluyl90jliW4yADj0xXIrN2/rf/I638Dl1tou56Tf/F7wzpdtZTXU2ow/akaVYjo9550UYYoZZoxFvhj3A/PIqr3zjmrV98SvD9jq1lpgubq9vLtY3RNNsLi8VEf7jytCjLErdmcqvfNcD8TvhHNr/j6bxB/Y9x4ktL3TYNNmsYdcn00w+XJK+4+W6rIrCZgVbJG0Y6mtjQ/Cus+AfFVzLo2iw32jaotpG8f2wRvp6xRLGQNwJkUKoIwc9aasU7a2fRHSWPxP8Oal4iOi299K175jwrI1nOltLIhIeOO4ZBFI6lWDKrMylTkDBqz4m8f6J4TvLW11Ce5N1cgssNnYz3TqgODI6xIxjjB6u21R3NeXfD34LN4S8TWyX2gT362V5cXdtrra/cvHl5HdT9kZyqsFbacLtzkjrXZa/oeu6T8RD4l0bT4dYjvNOj02eCW5WFoNkjusoLA7lPmEFRzwKjWybDTXy2N/RfiB4f8AEc2lppmpJeHU7JtQs2jRts1urKpkDFcYy64BIJzkAiqF/wDFrwxp+n2V415dXUd4X8mOw065upmVGCu5iijZ1RWIDOyhRkZIyK8x+GOg6/aeEfhp4k0jToNWkt9AbTp7X7QLcJ5jI/mKWByoKY29cGqn/CkNdtrHw/fajpja/e2tjLZXWn6frc+m4LTGRXWSN1DDDMCrZ7Y71HM246aPctxSW+uh7sfE+lDw8uu/b4G0doVuUvFbcjRsAVYEdcgjGOua56P4x+FZNJudQN3fRrbypC1pLpV2l6zvkoqWrRCZywDFdqHcFJGQDVDxR8MY9c+Dv/CIadB/YyLbxLDai6kYRFGV/L80Nv6rjcGzznNcppfwwSw8PavL/wAK+uP7VuZLdfKl8UTXE0giLlJEnkdjFtLtgKQTvOeK0fWxn0R2F38ZdIt9e8N6athrL/24sjRSNo17G0QTHDo0O5Tk87gu0cnitmH4iaJN4oHh7zLyDU2Zli+06bcwwTsqlmWKd41ilYKrEqjMQFJxgGuJsPCnjGyuvB2q3US6vd6fLcxXEM92glhglwFJk2hZGQDnAG6sTRPhl4tuvHXhDVtYtsz6LqVxc32pS6rJKt4j2txErRW+dkWGlXI2g479c3ZXSYld38tj1TxX8QNE8FvAmqT3IlmUusVlYz3bqg+87LCjMqDu7AKO5FVm+KXhw61aaXb3F5qF1cpHIr6dptzdwRrIMoZZ4o2ji3Dkb2XI56VxnxU+Ftz4i8ZWniGLTLjX4RYmxk0+31qfTHX59+/dG6hhyQVbPtUdx8P9T0jVtDh8K+Hm8OpawWsEmpQ6tujEMeAYZIG3GXauVDHnp82KhdLjfl2/E7Txd8SrHwf4k0DRrqy1C4l1dpAktnYz3CxhQD83lIw5JHUjA5PFXo/iBoM2kyamt/myjv30xpfJkGLlJjAybdueJFK7sbeM5xzWX470XV7jxB4X1jSbKPUW02eVZrZ5hCTHKqqWViCCVxnHeuDn+H/jG30+78N2mn2badJ4lfWxqsl0PmikvjctF5WNwZdzLnODjNQubW/fT8C/dtfr/wAP/wAA9Q8V+PNF8FtZpq1zLFPebxa29tazXM07IoZljjiRmZgDnaoJIBIBway5/jF4St9K0+/bU5Ghv5ZILaKOyne4eaMHfD5CoZBKu1gYyoYEEYzxWH8VLjU7T4g+AZ9JsItTu4zfN9lllEW9fKQYViCFbJHJ4xmqXhv4a63H4o0bX9Rhtop21m+1W6tkl3i1Ett5MaKcfMwCruIwCWYjinD3pNPZGcrxSaV2/wAjorj4v6FpJuZdWvFtYPt8enWqRW11JcSTPCZViaLygwkZVbCqGycL944pmnfHXwZql1DbwX96JXmFq4n0m8iFtMcbYrhniAt3ORhZSrHIwDkViX3wz1i58ZW+pbIDax+Ko9XOZPm8gWMsJOMfe3svHpzRqPw11m50/wAcQosHmav4hg1K1zJjMKw2ysW44bdC/H09a1ilo/66f8EHpG+7/wCH/wCAdfJ8TvDkPiVdDe9mW9aUW4l+xzfZfOPSE3OzyRKe0ZfcfSmaZ8VPDetSagmn3N5fDT2mS5e2026kSN4pCjx71jKmQMp+QEsRggEEE+c6b8Ehp/jqaW/8Pz63Zzay2rxap/b9zFFA3miVN1pv2MysARhcHAJrctfAviXRfhrqemaf5ceqTazeXxiguPKM8Et3JLsEgHyMyMo3dQe9R9m/U001+X6ndeFfG2k+NLO5uNLkuT9lk8qeC8sprS4hfaG2vDKiyKSrKwyoyGBGQawPCvxi0nxPoeqaqLDWLaDT7mW3dG0i8aR9jlMooh3OSR91QxHeqPwd8C6j4Qv/ABZe39n/AGfHrF5DdQWrXz3jxKtvHGVaRySx3Ie+OeKwrjwh4zsdEvtKtNPWW0j1mS9It9SFs+oW8ju7RhgA0TKWGTnnHBqZX5kltb8dCdLX8/wOzl+MXhODSbHUpdQnjhvrmSzt4XsLlblrhFZmh8gp5gkARvkKhiRgAkgGS8+LXhnTr+1s7m7uoJrhY2JfTbkJB5mNizv5e23ZsgBZSrZ4xniuD8G/CXWdI1Tw7dXVrbxRWXiW91domu2uXiims5YkAd8szBpACc9MnpTPEXwba7+IOp6hdaBP4j03VrqG4aRNfuLNLUqFBDQK4SUAqGHy59aavpdf8AhO9/J6HpWpfETRNJ8RwaJdyXsF5cMsccz6bc/ZC7Y2p9q8vyQzZACl9xJAAqfxR440jwd9lXUprkzXTFYLaxspryeTGNzCKFGfauRubbtXIyRXk3iP4YeLfEXiWJrq2Fwlp4httSh1STVZFi+xR3KSLAtqpChlRdu5gdxBOckY77xlo+t23i7SPEei6fFq729tJZz2UlwsDbXZWDqzAjjacjvxTWyfcuS3tqUfC/xm0688C2niHV5CBeX17a2sOlWk93JOkVzKiskMSvIxMcYZtqkD5jwOnVt430QeEbnxR9uU6Fb20l3LdqjHZHGpZyVA3ZUK2VxuyCMZ4rx27+Cmsv4b8Ny3lgNTv9LvtVnm0yx1aawEiXdzJKpSeJlIKhl4bjBYdcV0njTw7B4X/Zp8Y6fa6YdGRdA1Bms2umujGxgkLZlYlmOTkkmk2/e8tgpxUpRizqdO+L3hXVDeeVqM0a2tubwyXNjPAk1uACZoWkRRNGNy/PGWX5hzzTW+MHhf+yE1JLm/ntZZPLtxb6Tdyy3RC7iYIliLzKF5LRqyj1rh7jwf4q8d2Fm19plppcdjos1nb+XdBxeSyxIm7AHyIAG+VsnO30ro9Y8J6zpc3g7WtKsotTv9D0+Wxl01pxCsiyrECyuQQCrQjqOQxqnoyIvmdmbl38VPDNro1nqgvbi6trsusMdjY3FzcMyZ8xTBEjSAqVYMCoKkENg8VRsvjZ4R1CPTTbXt9PLqMSzWtsmk3ZuJI2cpv8nyt4UMDuYqAo+ZiBzXk/jHQ9X0K80tH1nTvC2u317favLeXd35FtEkhVDarKVYMxBVj8vJViMda7X4Q6HPcalp+ux6fb2GnQ6MNLjELlgzJcOxZNwBKMCrAnrmpT20/q3+eg+/4HcH4i6HH4lbQpZL231DDbWuNNuYreUqu5ljnaMRyMBztVifaueh/aF8C3PkeTqd9OLlGe0MWj3rC928stsRCftDKMlli3MoBJAANchZ/DPxbfeLtNv9UtvMmsNQuZpdTl1WR0uon3iIJbg7I9qsqnK5+Xqa6Lw38ONV0m0+F0ckdup8Omf7aEcYXfayRrs45+Zl/CnHVNvRkyk1JJK6Oof4naAvhq31+KTUL3Trh2RfsGlXV1MrKxVlaGKNpUKkEEMo2kEHFR6h8WPDGm2OlXJvbi+XVYjPZw6ZYXF9PNENoaQQwozhFLKGYqApYAkZrg7n4e+K7KCC3S0OpadJf3089jbao1kQZZmeKVnQhmCqeVBHXvTPA/w98VfDGw8MXVppttrl1baKmj3lmLwRFCsxdZEkcHcPnYMDycLUxbkk7b/5GrSSdnqjurz4nWGm2Ot3NzPD/oVwLWCGKK5eaWVow6xmNYi7Mc/djVzj3BFQ6f8AFnQ7bwlpuqavqsfm3E4sWEFhcxubsKWMIt2Uyo+FOEZdxOBjJAPPXngHxDb6xd69bWlvc3kes/2lDYtOEE0ZgWNl3EYVgc4J4496Sw+HOu3msW+u30EFtdXniePWrmxWYOtrElj9mVQwGGbKoxIxyx9KSlK2q7fp/wAH7g0s/Q9C8K+L9L8Zae95pUszxxyNFLHdWsttNE46q8UqK6HkHDKOta11cx2dtLcSsEihUuzHsoGSa4vRdF13w/4k1m5hs7e4tNU1RZXdptrR24iwWAxy24AbfQ5rrtV09NW0y7sZSRHcQtExHYMpB/nWkLO1yPI4Fvipq1vpKeI7nwytv4RbDteG/wA3kcJOBM1v5e0JghjiUkLzt7VJpvxi05PEfiTS9WkNr/Z+pLZwzQ2kzxLG0EMgaaUKyRktIwBYqCAPc1mXXhXxXqHgn/hBptPtItOe3Wwl1hbkEG2ACnbFjIcoMcnGTmoLzwP4mSbxpptvY2kuneItQSdLxrgK0EYt4ImLLjJOYjgA17SpYZ3UrL0fS611v56HmynWTVr766eT0/I6nTfixpF5feIYZ47rT4NFk2y3V1aTJEygKSQ5QLnLYChiT1AqxH8VvDLaXc38t/NZw20kcc6XlnPbzRs5wm6KRFcBiDhtuDg4Ncjrnw41nUrHxXoyQx/ZNQuIL61vDcsm54mjYRMFwy7jHjcp4zkc0lr8NZptLuPI8PnSL6S8tXla61aS9aaOJy33nZsAZbC+5pewwe/M+nVeXz7+hftK97WVtTtLX4l+HrrTb+/+1zQQ2TrHPHd2c9vMrNgIoikRXYsWAXap3EgLmoW+K3hhNMF9JqElvEZxa+Vc2c0U6ykZVDCyCQMRggFRnIxnNcv49+F+o+KdS1u5h2eXJJp9xBH9oaIzNA7M8ZZCCm4HAYHg4PaotP8AhnKraVc22hf2PNFq0N3dLc6k968iRqyht7sxyM4ABqFRwnJzOTv6rsv+D0CVSvGVlFNdzv8AU/Gek6L4Z/4SDUbiSx0sCMmW6t5Y2Teyou6NlDrlmUEMBjOTgZrCHxq8JeZJE95fRSxMomim0q7jaAE4VpVMQMaHs7AKexrT+Ivh668UeF2sLNUaY3lnMRIcKViuYpG/8dRuO5rA8TeBtT1aTx0YFiP9r6dDa2u58ZdVcNu9BlhWNGnhpRvUbvfuu8fLzf3G1R1V8FjX8SePbbQ9c0mzaXyLadwbi6ksLmWIK3yxqJUTyoyzEfM7jAAAU7gVv2HjrSNU1yXSbR7ue6iZkeRLCc24ZfvL5+zyywzyu7NeY+K/hx4p15tQs5Lf7WjvbtZXZ1J4oreONYt0RhUgMxZHIZgR8w9K6nT/AA3q9r4+N7Yae2jaW0jveH7aJYrvIwGEOPkbOCSCPfNbSw+HULqetn1Vunz7maq1W37tldI3Na8eaf4b1fUotUu7e0sbCwivZ5CJDIivI6bmATbt+TjDE5DZUDBON4i+M2i6X4V1/VbJby6udKtzMbWXT7mJ2yDtYK0YYxkj76gjHeqPxF+HureJtR8SzWawtHqGj2tjD5j7cyRzzOwPHAw68/Wl+IHw/wBV8RXviWWySEpf6EdPh3ybf3u9mwfQYI5qaNPDe45vffX08vNirVK0XJQWitb5l/SfijY6fomny6/fSy391G1xss9DvIWji3FQ0kJV5IlBGN8m0HGRgVtXHxE0CHVLXTVvnub66jjlihs7aW4Jjc4WTMasAnqxwo6kisHVvDuu6T4lv9V0mwg1Qapplvp8sctwIvs7RNMVfkHcpE5yBz8o9aXwH8P73wr4gNxO0ctuuk29kJVPzNIrOzcdQvzDFKVPD8rnf01X+X/DgpVo2ja/mTR/HDwbceSYtRupUnLLbyR6ZdMlw4JDRxMI8SSAhgUUlgQQRwa1x8RNEk8Px6zDLeXVk8hjC2unXM04cZ3K0KIZFIwchlGO9cz4f8Aanp2heA7SSOBZdGupJrsK4IAZJVyvHzHc6/rWVL4E8S2TFUgN9p02pXlzNYW+oNas/mMphcyLhsKA2VB53DrirdDCylywl33a8/JeQ5VK0bNpO66LY7e6+J3h2103Tr77ZNdQ6gGa2js7Oa4mkA+8RFGjONvRsqNp4ODUcfxG02BNXnvbiOK2srmO2VYopmnZ3RGVDEUDNId3CoGPTvkDiPB3w+8S+AbXQbyGyt9VvbOC+tLizW6KDbNdGdXV2ByQAAd3PPXNX5/AWuf2te63HbwNdR63Hq1vZtMNsyC18h0LYwG+ZyCeMqKJYfDqTSlddHda6/hoSqtaSjdWfXTy/wAzqm+KfhqPSY9Qkv5IYnnFoIpbSZJxORkRtCUEisRghWUE5GOorV8N+KtN8WWktxp0sjrFIYpY7i3kt5YnGCVaORVZTgg4ZRwQehrz/wD4QLXNW16DXry2htLibVra7kshMHEMMSMoO4DDMSxJx2C+ldd4T8O3ej+IvFt5cBBDqV/HcW+05JQW8SHcOx3I1Y1aWHjF8ktfX00LhUqykrx0v/mdTRRRXAdoUUUUAFFFFABRRRQAUUUUAFFFFABRRRQAUUUUAFFFFABRRRQAUUUUAFFFFABRRRQAUUUUAJXkGp/EbVfg/wCLLiDxzdC68F6nMz6d4i8sKLGQ5P2W5CjAU/wP0PQ+3r9eO6x8PtX+M/ii7HjK2ew8E6fO0dloayYbUJFOBcTsp+6Oqrn3POKzd76DVrO5rfDfxJ4m+I2uTeJ2D6P4LMbRaZp80QE96Cf+PmTIyin+FeDg5PXFemdq80+HOh+J/h/rsnhi4Eus+E1iaTTdUkcGW1UHi3lzywA+63oMGvS+1aaaW2J733Ob+Gf/ADNH/YbuP5JXZ9zXGfDP/maP+w3cfySuz71Nb42FH4EOooorE2CiiigAooooAKKKKACiiigAooooAKKKKAPkj4t/8lE1f6xf+iUoo+Lf/JRNX+sX/olKKAPrXrSjp0rx34d/tTeCvif4mh0HRjqH26ZHkX7RbBFwq7jk5PavW/taf7X5VvWw9XDy5K0XF9mYUa1OvHmpSuvIsUVB9sj/ANr8qPtkf+1+VYG5PRUH2yP/AGvyo+2R/wC1+VAEOq6RZa5ZSWeoWsV7ayYDwzIGQ4ORkGoofD+m2+j/ANlR2Fumm7DF9kWMCPaeq7emKt/bI/8Aa/Kj7ZH/ALX5UAVrjQ9PuWnaWygkM+zzS0YO/YQU3euCAR6Yoh0LTre5FxHZW6Th5HEixgENJjec+rYGfXFWftkf+1+VH2yP/a/KgBLS0hsYFgt4khhXO2OMBVGTk4A9yasVB9sj/wBr8qPtkf8AtflQBPRUH2yP/a/Kj7ZH/tflQBPRUH2yP/a/Kj7ZH/tflQBPRUH2yP8A2vyo+2R/7X5UAT0VB9sj/wBr8qPtkf8AtflQBPRUH2yP/a/Kj7ZH/tflQBPRUH2yP/a/Kj7ZH/tflQBPRUH2yP8A2vyo+2R/7X5UAeKfFf8A5Go/9cR/6E9c34e/5D+mf9fMf/oQroviswbxRkdPJB/8eeud8Pf8h/TP+vmP/wBCFAHuOi/8g/8A7ay/+jHq/VDRf+Qf/wBtZf8A0Y9X6ACiiigDC8Zf8glP+uyf1rp9K/48If8AdFcx4y/5BKf9dk/rXT6V/wAeEP8AuigC5RRRQAUUUUAFFFFABRRRQA081z3xC/5EHxH/ANg64/8ARTV0VZXiTS21zw7qmmpIInu7WW3EjDIUupUEj2zVRfvJsid3FpFXw/8A8gHTf+vaP/0EVf68GuQsdL8d2Nnb26zeH2WGNYwxSfOAAM9fap/svj3/AJ6eH/8Avif/ABrrcVdtSRzqTSSaZ0Mdhawy+YltEkh/jVAG/PFWK5f7L48/56eHv++J/wDGj7L48/56eHv++J/8alpPeQ1K20TqKK5f7L49/wCenh//AL4n/wAaPsvj3/np4f8A++J/8aOVfzIOd9jqKK5f7L49/wCenh//AL4n/wAaPsvj3/np4f8A++J/8aOVfzIOd9jqKK5f7L49/wCenh//AL4n/wAaPsvj3/np4f8A++J/8aOVfzIOd9jpo40iQIihEUYCqMAD6U6uX+y+Pf8Anp4f/wC+J/8AGj7L49/56eH/APvif/GjlXdBzvsdRRXL/ZfHv/PTw/8A98T/AONH2Xx7/wA9PD//AHxP/jRyr+ZBzvsdRRXL/ZfHv/PTw/8A98T/AONH2Xx7/wA9PD//AHxP/jRyr+ZBzvsdRRXL/ZfHv/PTw/8A98T/AONH2Xx7/wA9PD//AHxP/jRyr+ZBzvsdRRXL/ZfHv/PTw/8A98T/AONH2Xx7/wA9PD//AHxP/jRyr+ZBzvsdM0aMysVUsudpI5GeuKdXL/ZfHv8Az08P/wDfE/8AjR9l8e/89PD/AP3xP/jRyrug532Ooorl/svj3/np4f8A++J/8aPsvj3/AJ6eH/8Avif/ABo5V/Mg532Ooorl/svj3/np4f8A++J/8aPsvj3/AJ6eH/8Avif/ABo5V/Mg532Ooorl/svj3/np4f8A++J/8aPsvj3/AJ6eH/8Avif/ABo5V/Mg532Ooorl/svj3/np4f8A++J/8aPsvj3/AJ6eH/8Avif/ABo5V/Mg532Ooorl/svj3/np4f8A++J/8aPsvj3/AJ6eH/8Avif/ABo5V/Mg532OoprossbI6h0YEMrDIIPUEVzP2Xx7/wA9PD//AHxP/jR9l8e/89PD/wD3xP8A40cq/mQc77HTgAAADAFLXL/ZfHv/AD08P/8AfE/+NH2Xx7/z08P/APfE/wDjRyr+ZBzvsdFc2dveqFuII51U5AlQMAfxqREWNQqgKqjAAGABXM/ZfHv/AD08P/8AfE/+NH2Xx7/z08P/APfE/wDjRyrug532Ooorl/svj3/np4f/AO+J/wDGj7L49/56eH/++J/8aOVfzIOd9jqKK5f7L49/56eH/wDvif8Axo+y+Pf+enh//vif/GjlX8yDnfY6iiuX+y+Pf+enh/8A74n/AMaPsvj3/np4f/74n/xo5V/Mg532Ooorl/svj3/np4f/AO+J/wDGj7L49/56eH/++J/8aOVfzIOd9jqKK5f7L49/56eH/wDvif8Axo+y+Pf+enh//vif/Gnyr+ZBzvsdRRXL/ZfHv/PTw/8A98T/AONH2Xx7/wA9PD//AHxP/jS5V/Mg532Ooorl/svj3/np4f8A++J/8aPsvj3/AJ6eH/8Avif/ABo5V/Mg532Ooorl/svj3/np4f8A++J/8aPsvj3/AJ6eH/8Avif/ABo5V/Mg532Ooorl/svj3/np4f8A++J/8aPsvj3/AJ6eH/8Avif/ABo5V/Mg532Ooorl/svj3/np4f8A++J/8aPsvj3/AJ6eH/8Avif/ABo5V/Mg532Ooorl/svj3/np4f8A++J/8aPsvj3/AJ6eH/8Avif/ABo5V/Mg532Ooorl/svj3/np4f8A++J/8aPsvj3/AJ6eH/8Avif/ABo5V/Mg532Ooorl/svj3/np4f8A++J/8aPsvj3/AJ6eH/8Avif/ABo5V/Mg532Ooorl/svj3/np4f8A++J/8aPsvj3/AJ6eH/8Avif/ABp8q/mQc77HUUVy/wBl8e/89PD/AP3xP/jR9l8e/wDPTw//AN8T/wCNLlX8yDnfY6iiuX+y+Pf+enh//vif/Gj7L49/56eH/wDvif8Axo5V/Mg532Ooorl/svj3/np4f/74n/xo+y+Pf+enh/8A74n/AMaOVfzIOd9jqKK5f7L49/56eH/++J/8aPsvj3/np4f/AO+J/wDGjlX8yDnfY6iiuX+y+Pf+enh//vif/Gj7L49/56eH/wDvif8Axo5V/Mg532Ooorl/svj3/np4f/74n/xo+y+Pf+enh/8A74n/AMaOVfzIOd9jqKK5f7L49/56eH/++J/8aPsvj3/np4f/AO+J/wDGjlX8yDnfY6iiuX+y+Pf+enh//vif/Gj7L49/56eH/wDvif8Axo5V/Mg532Ooorl/svj3/np4f/74n/xo+y+Pf+enh/8A74n/AMaOVfzIOd9jqKK5f7L49/56eH/++J/8aPsvj3/np4f/AO+J/wDGjlX8yDnfY6iiuX+y+Pf+enh//vif/Gj7L49/56eH/wDvif8Axo5V/Mg532Ooorl/svj3/np4f/74n/xo+y+Pf+enh/8A74n/AMaOVfzIOd9jqKK5f7L49/56eH/++J/8aPsvj3/np4f/AO+J/wDGjlX8yDnfY6iiuX+y+Pf+enh//vif/Gj7L49/56eH/wDvif8Axo5V/Mg532Ooorl/svj3/np4f/74n/xo+y+Pf+enh/8A74n/AMaOVfzIOd9jqKSuY+y+Pf8Anp4f/wC+J/8AGj7L49/56eH/APvif/GjlX8yFzvsO+Gf/Mz/APYbuP8A0FK7XHFcv4E8O3/h6x1D+05rea8vL2S7f7IrCNdwUBRnnjbXUGsKrTm7M2pJqCurC0UUVmahRRRQAUUUUAFFFFABRRRQAUUUUAFFFFAHyR8W/wDkomr/AFi/9EpRR8W/+Siav9Yv/RKUUAeJfsZ/8l203/r0uf8A0Wa/Q6vzx/Yz/wCS7ab/ANelz/6LNfodX2vFn/IwX+Ffmz5bhz/c36v8gqhq/iDTNAgE2p39tYRE4DXEqoD+ZqLxVr8Xhbw3qerzgtFY27zlR/FtUkD8TxX5X/EXxz4j+J2sXXiPWZbm4t5JzHGxDeRASMiNf4VIXt1IGa+FnPkOvNM0WXqKUbyfTy7n6raTruna9b+dp19b30P9+3lVx+hq9X5h+CdW8SfAgaD4si1I2Ut9MHGiljvuLXvI69ArchSRk9RxX6X6JqsWuaPZajBnybqFJlz6MoI/nThPmNMtzJY9NSVpLdeRdoryr9pzw/BrHwc8SXj3F5a3OmWM13bS2d08DLIqnBJUgkex4rgNc+I7/AH4d+FdN8N27azq2o2UmrTQapcPM5jSNDK4kd1CjcyjG49eFNVzLW/S34ntu91brf8AA+lKK8R0D46eIfFniLS7XS9Bs/7Ok0O3129lmmbzY45A2Y0UD5myuBnHvXMeD/2qdd1rw7qHiPVfDUGm+Hv7OkvrS9EyPtdXCLE6rIzNuLAFgq7TwQKrvfoTe9vOx9K0V8zab+0/4v1Lwprk6eFLP+29K1KO1miEwKrC0e8yiNZCzFRgFVYtznHau78TfHCXSPgzoHjHT00/UbnWWtYYZGd4rNXmYJuZmAZUUk9cHim7r+u49D16ivkrQfjhr/gPTfEsptode1nVPGL6bAIrnzbSAmEOQrM6Db8pCruXJPX1+ifhd4p1bxl4NtNS1vSP7E1NnkjltVlSRflYqGUqzABgM43EjkHpRbt5E8x1lFFFIoKKKKACiiigAooooAKKKKACiiigDx/4pf8AIzL/ANcF/wDQmrn/AA9/yH9M/wCvmP8A9CFdB8Uv+RmX/rgv/oTVz/h7/kP6Z/18x/8AoQoA9x0X/kH/APbWX/0Y9X6oaL/yD/8AtrL/AOjHq/QAUUUUAYXjL/kEp/12T+tdPpX/AB4Q/wC6K5jxl/yCU/67J/Wun0r/AI8If90UAXKKKKACiiigAooooAKKKKACiiigAooooAKKKKACiiigAooooAKKKKACiiigAooooAKKKKACiiigAooooAKKKKACiiigAooooAKKKKACiiigAooooAKKKKACiiigAooooAKKKKACiiigAooooAKKKKACiiigAooooAKKKKACiiigAooooAKKKKACiiigAooooAKKKKACiiigAooooAKKKKACiiigAooooAKKKKACiiigAooooAKKKKACiiigAooooAKKKKACiiigAooooAKKKKACiiigAooooAKKKKACiiigAooooAKKKKACiiigAooooAKKKKACiiigD5I+Lf8AyUTV/rF/6JSij4t/8lE1f6xf+iUooA8S/Yz/AOS7ab/16XP/AKLNfodX54/sZ/8AJdtN/wCvS5/9Fmv0Or7Xiz/kYL/CvzZ8tw7/ALm/V/kZPi3w/F4r8Mapo8rFI762eAsP4dykA/gcGvzTN14p/Z78VapoOraXFe6fK2y50vU4fMtLxQcpIB03A4YMpyOnQkV+oVZeveFdG8UQrFq+mWuoxryouYlbb9CRkV8NOHNqtztzLLXjuWcJcslsz8v/AA34b8U/H74hqiJLfX19MpuLkJiOCPgE8fKqqowFGBgACv1G0LSYtB0Wx06HPlWkKQrk54VQP6VFofhnSPDNuYNJ02106I8lbaJUz9cDmtOiEOX1FlmWLAKTk7ye7K+o6daavYz2N/aw3tncIY5re4jV45FPBVlYEMD6EVmar4H8Oa6LAan4f0vURp//AB5i7so5fs3AH7vcp2cAD5cdBWP8VPiMfhnoVjfppUmsS3moQafFbRTLES8hKqdzDGARzXBRftLXFxFZ2kPgu8uPEcuu3Ph+bSYr2MiK4hh87d5rAKyFSp3YBGTwSMHRa3/r+tz3fhV2evad4Z0jSLhZ7DSrGynWFbVZLe2RHES/djBUA7Rk4XoPSsyH4ZeD7afUpovCmhxTakrJfSJpsKtdqxyyykJlwTyQ2c159J+0cIPEiWkvhi4TRV1aLQp9VF0h8u+dQQgixuZQx27sj1xisbSP2rDrmr6pBa+GFks9OtL68unXUg1zaLbuU2XEAjPkyOwyqs3K5PbFLz6WA9Vl+E/gi4006dL4O8PyaeWVjaPpcBiLKMKdpTblRwOOB0rYu/DWkahof9i3WlWNzo/lrD/Z81sj2+wDAXyyNu0ADAxivH9e/aWutB8F6Vrk/g64S81RWuLXSDdmS5ktlQOZtsMcjAYPcYHBZhVfWf2qktdPt77TPCV5qtk3hu28TzSG7SEw20rMpUgg7nXaMAHDZPIxy7X0Ba6nrR+HfhQ6LcaQfDGjHSbhg01h9gh8iVgAAWTbtYgAckdhWpo+i6d4d02DTtKsLXTNPt12w2lnCsUUYznCooCqMkngd68eh/aZihsfEj6r4efRr3S7a1u7a1uL1X+2R3JxCFZEYq7HI2hWOemaq6H+1IfEek2qWHhC9bxPcatLo66NcTG2CyRxiRmZ5Y1ZV2kHDRhs8Y709bv5C7Poe70V4Z4j+Nz+CvEniI6jpuoyajFZaXHDo8d4kkJurqV40jQlQFO4Dc5JGBnHGDS8O/Hi88N6N/Y95omp6t4sh1tdIurS6v43Pnyp5qMsoQL5ZUjACjaO1Ja3t6fMb/r0PoCivOPh78WNQ+INrptxB4WntUa+u7DVGa8jYadJBkA9AZVZhtBUDGckYr0eiwrhRRRQMKKKKACiiigAooooA8f+KX/IzL/1wX/0Jq5/w9/yH9M/6+Y//QhXQfFL/kZl/wCuC/8AoTVz/h7/AJD+mf8AXzH/AOhCgD3HRf8AkH/9tZf/AEY9X6oaL/yD/wDtrL/6Mer9ABRRRQBheMv+QSn/AF2T+tdPpX/HhD/uiuY8Zf8AIJT/AK7J/Wun0r/jwh/3RQBcooooAKKKKACiiigAooooAKKKKACiiigAooooAKKKKACiiigAooooAKKKKACiiigAooooAKKKKACiiigAooooAKKKKACiiigAooooAKKKKACiiigAooooAKKKKACiiigAooooAKKKKACiiigAooooAKKKKACiiigAooooAKKKKACiiigAooooAKKKKACiiigAooooAKKKKACiiigAooooAKKKKACiiigAooooAKKKKACiiigAooooAKKKKACiiigAooooAKKKKACiiigAooooAKKKKACiiigAooooAKKKKACiiigAooooAKKKKACiiigAooooAKKKKAPkj4t/8lE1f6xf+iUoo+Lf/JRNX+sX/olKKAPEv2M/+S7ab/16XP8A6LNfodX54/sZ/wDJdtN/69Ln/wBFmv0Or7Xiz/kYL/CvzZ8tw7/ub9X+QUUUV8UfUhRRRQBwPxm+GZ+Kvh/TNJL2629vqltezpcFgJI42JZQV5DHPB4we4q3oHwb8HeF49JTTNFS2Gl3ct/at58rutxKpSSVmZy0jMrFcuW4xjoMRfF/xM/hXw3aXI16LwzDLfRQT6rP5ISCNt2WJlBQdAMsO9YXhH4rzLpFnFcJeeL5769uodLvtLt4lGoW8RU+eWZkiC7Wb5wwRtmVyWVSRdk1tr/kDW1/T8zdvvgr4OvfFbeKDokK6/v85brfIUEwXasxh3eWzgdGK7vevM/AH7NOpaHqluNY1GM6YsV1HqMNjqV4yawZg25pYGYRQfMxbEQ+90Ir0i3+MOmvdP8AaNJ1ey0wrO1vq08MZtrryQTIECu0ikBWxvRQ2DtzVGH442ypdtfeFfEOmGAWpVJVtJnmNxIY4Qiw3DnLMrfeAwAc015A+/U2Ne+D3hDxNBo0OpaOtxHpEP2ezAuJUKRbQpjYq4LoQoBV9ynHINRJ8E/BUenPYLoiraPpMehNGLibBskYssOd+cAk/N973qnqHxs0jRfF2h+G9TsrjTtU1YJshnvrEyQs2dqvCty0rHIxuRGUZ+9jJEA+OEE0sS2nhHxLepctMllLFDbIt28TMJVTzJ1K7drndIFVgmVZsruNbN+YdjS1j4JeC9fW8F9oizm7gtraZhcTI2y3OYNrK4Ksp5DKQ3qTVS4/Z98AXGkSaa3h9RbPdi/LJdTpMLgIqGVZlcSKxVQGYMC3JOSSS3U/jhpWnWAvY9G1q+tY7BdTu5LaGLFnbZcM8m6Rd23Y2VTcxx8qtU8PxVjvb77C2lahol7HdWsTQalDE7SRTs4SRTFMwUNsb7x3Lj5l7UWdw3s1sWLn4K+Cr2yv7S50GG5tr60gsbhJpZH3xQsWiGWYlWVmLBhhs85yBS6P8GPBug2llbWOirElpff2lE73EzyG5xjzXkZy0jY4+Zm4qlpnxp06/V7ibRda07Sja3F1Dql1DF5E6wDMgVVkaQEDJG5FDAHaTWp4K+IL+Mb++tJPDmraDLaxRzN/aT2rBhJnbt8ieTkhSecdKFu+4paDtO+FHhTSdSsb+00lYruxu7m+t5fOlOye4UrO2C5B3AkYIIHYCusoopdLD63CiiigAooooAKKKKACiiigDx/4pf8AIzL/ANcF/wDQmrn/AA9/yH9M/wCvmP8A9CFdB8Uv+RmX/rgv/oTVz/h7/kP6Z/18x/8AoQoA9x0X/kH/APbWX/0Y9X6oaL/yD/8AtrL/AOjHq/QAUUUUAYXjL/kEp/12T+tdPpX/AB4Q/wC6K5jxl/yCU/67J/Wun0r/AI8If90UAXKKKKACiiigAooooAKKKKACkpaimk8uNnxnAJ/Kk3YCSkrwv4J/tBeJ/i5I2p3Xw9Tw74Mxc7Nfl16GfJicocwBFZQSrck4GK6zwn+0R8OfHEuopo/im1n+wQNdTvMkluhgXO6ZHkVVkiGD+8QsvvT2/MPL5HpB5pB6V87/ABF/bB8M2/wf8VeMfAGoW/iGfQZbNJheWlzDb7Z50jDhnVN6lS5VkJBK9TXf+E/2iPh7420rXr/RvEkN7b6Eu/UdtvMjwrjIcIyBnUjoygg9iaOjG07J99D0qjFcT8N/jH4P+LkWoN4U1j+0X06RYry3ltpraeBmGU3xTIjgMASGK4IBwTUPgz4op4w8f+M/DK6c1q3huWCJrozbhP5ib8hdo246dTmls0idDvKPwrxux/aI8O2H/CXax4j8SaPp3hjSNe/4R1JI4LkPDdrtDpPI6KuSXXGxSg/vt2rx/tmfBmdbcp46tFM119j2yW1wjQyk4AlDRgwqSeGkCqexNFm9h6p2Z7Z3o214p4y/aO0z4b6l8RZtfurKfS/C0FlMtrp0Vw97unViFlynlncR8uxjgZ3YOK1pf2m/h5Y+EdF8RX2sz2Vnq4Y2tvJpt0bp9gzIRbiLzdq9327QOc45oDyPV6Ky/DviLTfFmi2WsaPfQalpd7EJra7tnDxyoRkMpHUVqUxbjfSgVzvj7xcPA/hm51g232sQyRJ5IfYW3yKmc4PTdnp2q94h8RWnhnSZNQvUvJLePAKWFjNeTHPQLFCjyMf91TS2V+hVmametANYGm+NNL1bww2vWUk91p6I7nbayicbMhlMJUSBwQQUKhgeMVznh740aLrvw/svFr2OtwWdyEH2ePRL6e43Mm75YkgMkigfxqpXg88GjuSeh0Vxdx8XfCkMemsNRluH1KPzrS3tLKe4mmXdsJEUaM/ytwwIBXB3YANTR/FLw3J4oGgLez/bzJ5AlNlOLUzd4RclPJMo7xb94/u0xnXUtcrpvxG0TVfE0ugRSX0OpxhmEd5ptzbRzBSAxhlljWOUDIz5bNjIz1p/iz4gaP4Ja2/tY36JcE4ltdMubqOMDq0rwxssS8/ecqPejomHc6bmiuU1H4laBp2vWWjma7u9Ru9hSPT9OubxI1f7jTPFGywqezSFQfWo/wDhZmiy67d6HG17FqsKyFFvNNureCdkBLCKeSNY5SMEkRsxABNIDrs4pelea/DP406P49s9NheZ4NXu4WkC/YriK2lZSdywzugjlZQMsqOxXnIFXfDPxS0zxP4uu9Mtb1GttmLN2srmIXbLnzGhnkRYZlXHSFnxgkkdKdtbEp3XMd5iiuX8WfEbQfBM0EGq3F0JpVMnl2VhcXjRRg4MsohjcxRA9ZH2qMctVfQfG0mt+PNa0aIW8un2thZ3lvcwksZfO8zJyCQVwgII9e9C12Ks7N9jsOlHrXmXiL4geNvDviPSrKfwjokun6nqaWFtND4hlNyynczSeSbML8kaPIV8zopAJOM9Z4s8caR4Ljtm1Oa48y6cxwW1lZzXk8pHJ2wwo7kAclguFHJIFLzEdHScV5l4d+NulXXg2HXtVkYLdX93a2kOlWVxeTTpFM6BlgiV5GwihmIXC8k4FdfJ400WPwnN4nbUIv7Bht2u5L0BiqxqCWYgDI24ORjIIIIyKe24XN4ClrzT/hobwPvkjF9qTToglW3XQr9ppYT/AMvEcYg3SwDvMgaMZGWGa29f+Knhzw3ptjqN5cXcmnXsQnjvbLTbm6t1iIz5kskUbLEmOS0hUAdTTGdfuo6iuVvPiV4fs/E8Xh/7ZNPrMiwyfZLSzmuCscpYJK5jRgkZKEF2IVeMkZGeg1C4ntbCeW1tje3CIWjt1kCGQ9l3HgZ9TSegFmivP9I8feILi91nR77wzbW/iOxt4ruO1tdU862nilZ1UmZokZSDG24GM4GNpbnDdC+K4/4mcPiXT49FvbC9trGX+z7h9Qt2kuCgiCusStkl1B3IAuck45pegbHoVFcBovjrxJ4g8Y6tYWfh7S/7A02++wzalLrDrcswjR2ZbcW5UgFwvMozgnjpVbSviteahqOnzzaGtv4Z1K7NlZaot8HmaX5tpkg2AIjFCqsHY5Zcqucg7Cvpc9Jo4rhPGnjfXtH8UaXofh7w/ZazdXdvJcyNf6o1ksaIVBClYJdzHd0O0e9Ytr8YtS8Rf2Va+GvDkN5q13aPezW2q6kLOOBEl8plWRI5TI27PCrjGCWG4AypKTsmVsrnqtBGa8t8XfELx14f1rSLGz8GaJex6owhhkuPEUsDJLs3MrKtm4ABBAYMc9cCvR9PkuprOB7yGO3umQGWKGUyIjY5VWKqWAPcqM+gqk738ib6lyiiimMKKKKACiiigAooooAKKKKACiiigAooooAKKKKACiiigAooooAKKKKACiiigAooooAKKKKACiiigAooooAKKKKACiiigAooooAKKKKACiiigAooooAKKKKACiiigAooooAKKKKACiiigAooooAKKKKACiiigAooooAKKKKACiiigAooooAKKKKACiiigD5I+Lf/ACUTV/rF/wCiUoo+Lf8AyUTV/rF/6JSigDxL9jP/AJLtpv8A16XP/os1+h1fnj+xn/yXbTf+vS5/9Fmv0Or7Xiz/AJGC/wAK/Nny3Dv+5v1f5BRRRXxR9SFFFFAGfrOh22ufYxclwLW4W6j2Nj51BAzxyOTReaFbX2s6fqcpf7RYpLHEAw2FZAobcMc/dGPxqt4x8Qjwv4cu9QynnKFjhWQEq0rsFQNjnG5lzjtmufsvivplv4d0i81U3B1C8aS3e00ixuL9luIm2TqFgR2CqwKlmG0ZUE5Iyt1bp+oeZUvvhSNOhvrvSdRvrm5ihuG0zTL2ZTZ20sinJUKqsckn7zNtycYrmfhT8Hp9CtLqxu7CbRdHW5tr2KxLWW9rqJw4kDW0SKVIVVO7cx2jkd+51L4qaLZNq0EX2yS5061kuZpJdNvEtI9ibyr3CwsitjGVBZh/dJ4pLj4teHrLWodImk1B7+SSOFjZ6TeXNskrqrqjTpCY1baysQzKQCCQM1SbTuge1xLz4W2F54lfVzqWpxLJcx3j6fHKgtmnjxtc/JvJwMY3bfatCy8BaZYJpKxNcY0xp3g3ODkyht27jn77Y6dqy7b40+ELqS6C6jcJHbQT3TXE2nXUcDRw/wCuKStGEkK91VmI9Khf45eD43kR7vUUaMrv36LfKFjYkLMSYcCFiCBMf3ZxwxpdElsK2t2XG+FejNoupaWXuvs2oaY2kzHzBuELb8lTt4b963P04q7e+ANMvtcOrStcfamNqSFcBP8AR2do+MesjZ5546U1viV4eTxMmgm9kOoM2wEWk5t9+MhDOE8oPj+Atu9qxrf46+EL7Tri+tLnUbu3jtTeo0Wj3mLiIbctAWiAmxuGQhYjPOOablpuNaLlWxa1bwF/Z3g0WWgktqGn2lwmni6fKF5FYYcjHHOMgjFYPwM8AX3gC0v7Q2D6PpMhVorCb7GXEgGGcG1jRcEbR8wZjjrXayeJLjU/CJ1fQdPmu7maENbWmoxyWJLEgAyiVA6KM7m+UtgHarHANPwX43i17w54UuL6WNNU1vTo7xY7eJxGzGNXfbnOFG7gM2cepppO7fXS4pe8k3sdVRXni+M9Yu/iVcaIdS0fRbW2dSmnX9nK15qMIVWaaCTzkXaCxXhH2lTuOTgdHN4+0G3sLe9lv1S1nimmjkaJwCkQJkY/LkbQp64zjjNT0Uh9bHQUVwD/AB28GxiUve6ggiCtKW0W+AjjbO2Zsw/LCdrATHEZKsN3Bx0nifxppXhCC3k1GS5ZrhisMFjZTXk8hAySsUKM7ADkkLgd8UeYeRt0V5tL8Wota8d+GND8PzGWz1Kzk1GW9fSLueKSJWRVRZVCxxMdzbmckKQqldzLXpNHS4tL2CiiigYUUUUAeP8AxS/5GZf+uC/+hNXP+Hv+Q/pn/XzH/wChCug+KX/IzL/1wX/0Jq5/w9/yH9M/6+Y//QhQB7jov/IP/wC2sv8A6Mer9UNF/wCQf/21l/8ARj1foAKKKKAMLxl/yCU/67J/Wun0r/jwh/3RXMeMv+QSn/XZP610+lf8eEP+6KALlFFFABRRRQAUUUUAFFFFACLUVwhkikUdSCB+VTUUmrqwz5c+Df7Hej+E/hXr1tqGj2mj+P8AXbLUdNvNatJmeTyrh3K8hscDYeBn5a5Lwd+yRr1x4L1Pw7rmjtp2rQ+HpdEs/EL+JLi/jfcoHyW7sREjbVJUAY7Cvs6ih+9e/VW/r7w5np958teMvhx8UfiT+zdq3gLVfDOj6TqduumQWP2bUhLHdLDcRtK7ZUCMbYwQDkkkipPiJ8FPiRcfEb4keI/Bl1BpMur6Dp9hp1ylyI5DJFKWlQcHy8qSobHGa+oaM1XNf5gpWiodF/wP8j52/Zz+DPijwB8TPHPiTXrX7Ja+ILHTEhil1eXUp0lhEyyK8shLH7ykYO0bsDGKhtfDvxU8A/HDxrrOg+D9M17w74kubR/tlxq628kKogRz5ZUk4GTjvivo+j+GoaUpKXYR8lD9m/xhJ4c8WWUtpZu+p/FA+KYUa4BVrDzIW3N6NhG+XrR8TP2bfF3ijwv+0BZWFnZNdeM7uzm0nfOq7xEYi5c/wn5Gxn+tfWtA5qlo010/4C/QpSfNz/1u3+p8yeP/ANn/AMVeKtQ+NzWwtIo/FmlabbaW8kww0tvGwcOByo3EAH3rD8c/A74g+MtV8DeM7jRSmsaRpUujXugad4klsW8sspWZLqIrknHzITgjHUivrejrRexJxfwe8E2/w7+G+h+H7bS10WK0iP8AxL47trpYGZmdlErcsMseTXa460UtNtybbEtDh/jH4f1LxN8PdS0/SLZbvUGaGSKBpVjEhSZHK7jwMhTya5nxRJ468W6bpjf8IveaXBb3x+3aTBrUUU19AYXAK3ETAoFkKMQGUsFxnsfQPF3i7T/BOjPqmppfvaRnD/2dptzfyL/tGO3R3wMctjA7kVB4L8caZ4+0s6jpKaktoH2q2paVdWDN8oO5VuI0ZlwR8wBHUZyDU3unHcpvRIwPhP4L1Dwp4LvtM1BFhuLi8up1UXL3G1JGJUNI5LMQDgkkniuJtfCHji38H+EdHl0ed7HSI5LC9sLDWBaPd4WMQ3SzIysqLiTMe4E7hkHGK9s1TU7bRdNur+8l8q0tY2mmk2ltqKMscAEnAHYVPbzpcwxyxtujkUMrYIyCMg80dLLb/IS0d+p4/wDCH4W6z4LuNAfUooAbGwvLeRknMpVpbt5VAZss3ykZYnOetY2ifBOXR/Fk63uiajqsf9r3GsWusf8ACS3S2sDvO08e6xM2wsjPj5UIO0HqTXtuta3Z+H9Pkvr+Ro7aMqu5I2kcsxCqFRQWYkkAAAk5q8rBlBGenfg0+twbu3fqeHeDfh14qPxE8Pa7rVpNFJpkV3FeXlzrD3Iu2kCBXih3FIl+XoFU1e+L3gfxX4s1nU7a0tp9R0i801ILLy9XexisrgGTzHlWNlaUMGiAB3AbDwMkn2ailukuw7nlXhXw54l8B685g0ePVrLVY7Nbi4jukjazaKBYmyG5dflyNvNcnoPwx8ZXXizwxqWt2srXulNdi/1KfWHmjvWkt5I1kgt9xSJSzDjapA9eTX0DWfZ6zaalfahaW0xkuLCVYbhdhHlu0ayAZIwfldTkZHOOuRTcm3frYUfcVlseQ+Gfh/4ouLTwXoWr6dBptl4bmkun1G3ulcXLNDNEqIg5XickluPlGM5q34M8E+JbeHwRoeo6bDZad4RijiXUo7hX+3eXD5SFEHKAjBYN7gZr2L69KUfShu+5NrJLseLfFD4V3WtePG8RJpeo+ILS60+LT5LHTvENxpLwlHkbeTHKiyKwkIIbJG3jqa6bwH4Dl8J+L9QuILRLLRTpGnafZwCYyNH5AlBQkkkhQ6gMSSa9D6UUJ2VkXffzOPj8N32ofEuTXL9UGn6fZ/ZdLjDbiZJCGnmYdjhUQdwA/Zqp+NtJ1qDxXoniTRdPXWXs4praaxM6wvtkxh0ZuMgjkHqOldZNrVnDrVvpLTY1C4gkuY4djcxxsiu27GBgyoME5OeAcHF8daXbyFvufOt98EdcktfD2q3lhcX95p8+sedpGk63Pprsl5dLMjrPE6ZK+WoKsdpDk4yor0K7+HoX4Iap4V0fSf7LlutOuIYtPubxrnbLKGJDTOzFiWYksSepr0qinzPYOiR53N4J1BvHFrqaxxi0j8NzaWTuGfOaSNlXH93CHmvNvFXwp8aat4KPhj7LJewTaB/Z8Bg1h7OCzuDGys0qxspmViRgHcOOR1r6Lzzg9e1LU8uqf9df8wj7juv62/yPPvCPg3UfD/jLXtYkt4WF1oum2ULK43PJB9pLqT1C5lXB9zW9qOo+I4vBM95aaPBP4lFsWj0w3QWJpuyGUjGPeujDDsc+tLVS97cmK5dDyLwVbeJ7PR9bbWPAsl3q18vmXkt7qNtINQY/L5QAJVI1UkKp4AznJZiXeAfCut+D01K70rwrYeHbG7ntY4PDFrcxpDaoGCzzDyx5attYttQYYqM8mvWulLRcZ4z4g+HcuueO1v7DwLpehail9HcSeL4WhW5niVslSUAlYsAFKsdvrTv+FUf2p8QrO+j8PNommabqf9pGeTU3njunCOqmG2DmOAln3MwVSQCOdxr2PHvTfu9TjPFJaW8getzzvxv8L4/HHj7RNR1AXf8AZVjZTxubPUp7NjIzIVB8l0LLhTkMSPaqnxA8Fwzafpmi6d4At9ZsLSIrZ3UF5HZyaa5BXdG2VkQ4xlkYMcmvUulFTypFHnK+DddNp8PUvrpdSvdGZTqF2zcyMIdpcZ5YlvxPWvRsVnnWrP8Atj+yvO/0/wAj7T5Wxv8AV7gu7djHUgYzmr5PNVbVvuSOopM0tMYUVS1TUrXR9Nu768mEFnaxNNNK2cIigljxzwAelUfDXizTPFtmLnT5ZsYBeC7tpbW4iznb5kMqrIm4DI3KMjBGQQaANukorJPibSxqU+ntexx3kLxxPHISnzyAlFUtgMSAeFJNAGvRRSUALRWdfazZ6Xd6dbXM3lT6hM1vbJtZt8gR5CMgED5UY5OBxjqQK0aACiiigAooooAKKKKACiiigAooooAKKKKACiiigAooooAKKKKACiiigAooooAKKKKACiiigAooooAKKKKACiiigAooooAKKKKACiiigAooooAKKKKACiiigAooooAKKKKACiiigAooooAKKKKACiiigAooooAKKKKACiiigD5I+Lf/ACUTV/rF/wCiUoo+Lf8AyUTV/rF/6JSigDxL9jP/AJLtpv8A16XP/os1+h1fnj+xn/yXbTf+vS5/9Fmv0Or7Xiz/AJGC/wAK/Nny3Dv+5v1f5BRRRXxR9SFFFFAGF4q8H2PjJLO21SKK802GXzpbG4hWSKcgEKGVsggE5xg84ri9Y+BltJaz2OiXVloWmSXZvIrWLTVP2N2iRGNuyuhhLbSxK4OXb1rqviJ4i1vwp4autV0bSbDWGtI3mnhv9RezAjVSx2ssEu5uOhCj3o0XxfImivc+KP7J0K+ihF1Nb2upNcxxQMSFkaR4oiASrDlcAqQCaEt7DfQ5fVfgq+salqU8utiG3vLCWxZLa08uVw8Pl7p5A+JmUZI3LnPQiuT/AOES12H4wPf2+mXwAvI1PmwM9g8KxohmD+cFWTYveJmDDG7GMeva1488OeG7d59V13T9PhRlVnubhUVWYblBJPUjke1Q+K/Fx0bwfLrmlQW+sFlRrZGujFDNuYBSZVR9qnIOQrfSmnqm9kLpYyNS+FNtqXhJdCa/lSNbO9tPOEYLYuFZWbGeq7uPWr+seAINXl1V3u5Izf6fDp7AKDtWNnYMPUneRj2rOsPiRf2F3c6d4o0S30nVYlgkRNP1Fbm2mjklESss0qQHcGbDKyg9Nu4kA6U3xU8JRavc6QniHTZ9Ztw+7TUu4xPlFJZdrMMEAc5IA7kUX69ytbW7HPWXwR07TPHr+I7YaWxlmNzKLnR4ZboSFdpZLkkOgzg4wccgcGtSz+F0Fl4U0TREv5CulaUNMjnMY3MBGqByM4B+UHFTw/F3we8l7DL4g0+0ubGFJ7uCe5QNbowUgsQxXHzqMgkZPWui0TXdO8S6ZDqOlXsGo2E+4xXNs4dHwSpww4OCCPwos7NdCeo3RNPu7DRba0vr1b+5jjEb3KwiIPgYztBOPzrL8M+EJfC+k+G9Mt9Ulay0exWyaIxqBchY1RWbupG3OB610lFF3q+4dLdDjtd8Eaj4m1y1lv8AW0fQ7W6ivYtNjsVWRZIiGQ+fuJxuAJwoyMjODWJb/B268s2t34jkutPiiuobS3WzVGhScMCGYMd5XdwcDpXplFJaKyDrc4rWPhjb6xDr0b30kY1bRIdFYhAfLWMzkOOeSfPPHT5R61f8V+EbvWp9OvdL1U6PqliGWK5a3W4RkYAMrIWXPQYORiumop8ze435nJeGfh3B4ZvdJukvZrqWxsJrFmlVQZmllSVpDjodydBx83tXW0UUdEv61JVk2+4UUUUhhRRRQB4/8Uv+RmX/AK4L/wChNXP+Hv8AkP6Z/wBfMf8A6EK6D4pf8jMv/XBf/Qmrn/D3/If0z/r5j/8AQhQB7jov/IP/AO2sv/ox6v1Q0X/kH/8AbWX/ANGPV+gAooooAwvGX/IJT/rsn9a6fSv+PCH/AHRXMeMv+QSn/XZP610+lf8AHhD/ALooAuUUUUAFFFFABRRRQAUUUUAFFFFABRRRQAUUUUAFFFFABRRRQAUUUUAFFFFAGV4mt5Lzw9qcEK75pbaREUdSSpAH5mvLfGOg6kvh3whBe6ZrWpaJa2jx6hpug3DwXZudsYgbdG6MUXEwIDDllJBAr2Y0YqOXVvvYdz5o8R+EfE2oeG4LPW9J8S6vcyaRJDpwsb9lW1lYybVutsiq7bDGpLBhkHuc1ZvPDHjLU/i/pd2LfWdPtLKSG3k8h5BZy2nk7Wct9oCeZuc5XycjbkNkZr6N9KKrt5EW0seM6fpPjK7Ufao9QhbS7y2sIMz4F3CkmWuDhucrtBLcnDVi/CfQ/GUfxev9a1W21axsLuC7F7Z3TSG1jnMsZiELNO4ddokwypGPbkAfQHeihaO/9ajt0PnfVrfVtY+JGpjT7LxJNq1rrVuLXUob5xpttbgo06SR+YEOU3gAoxyy4IrY0u48a339maRHpms6fe6bc6iLjUrxl+zTBkuBAyNvJkXLRkbgNvy8cV7Pbafb2Uk7wQRwvcP5krIoBdsY3H1OAKs0o3UVF9A63PlzwR4L8baf4R15b+68WXs8rWpv7CWNreScLKDcG1mNy7bmXcPlMYxjaFJyIde8B+KptBvv7Cs/E2iaDda3HcSWbO9xqT24so0Gf9IWQgTKSQZs4HcfLX1TzRzV3Ku9z54Tw34hs/EngKVovEviKaCK3jnlvfNs4IV8wl5ZfLuNpkVf4HVw2Blua0v2htF8V+ItW0e00O31SOGFGnivNMMhBnDL8ku2eMKu3kFg4J4217rRUy1F1ufN1tb67rHjhntLHxI+v2uvwKurC+caZDZq6G6ikj8zYS0fnKAUZsspDDAxu33gjVrPwut3qEPiPVnuNUuX1SzstRlW5ktfPlMKxBZECqFZD8hViuAScYr2qz0+2sfONvbxwGZzLIY1A3uerHHUn1qzSV+VRe6F1PmuXwjq5t/DN1rnh/xVqelW9rqcUVpY38i39uktzbvaJM6yq7ERoQ2XP3ed1VPGHh74latfeElS31e2vtPhtHW4tJXdJCZlMyXDCdEBWMYy0b7ju6V9Q4o9apPlafYq+/mcH8OfCt5pa6tqWpzX8urXd7dqPtl27olv9okaEJHu2KNpBBAzggE4AA8b8O+C/GkWreLpdZ1PxYLq4t7lJRa2jNbzZf8AdmBjc4yFwAEWInnLAjNfUGKMUegj500Dwnf/AGDwbqN/4W8Q79O1C7iggXU7vzVDqpinuFe4J2llIKszBQeBhiKv/AvQfF9l461zUdYi1a0sL63LSWt/5nlRXPmsSsW+eTK7SMMoQEfwivezzR9KOtw6W8z5v8UeD9V0208ZafpGheJBPqesrNdalDdXE6tbv84e2T7SnIbCsqlMA/xBQK6L4c+BPEV1H4Tj8UXGr+XptkzuhvJIg86zlojLtcsxC4+VmYEEht1e20tSlZJX2/4YbZ8seFfDPxG0WHxNcajL4g1PXJrSWO7ga3ZbO4kLgF7d/tJ5CksqosWQcEgivTPgToviTwz4F1WDUFv7qdbiSWwj1dmSVlKAqrbpZWUbsjlzivXKTFFrJpdRPV3Z8ueBfBXji7j1kXX/AAkVla6o1s88M8ssDwyedmZYma4lYKFYgMpXIH3QQMdV4i+GZ0tdOh/s7xHrGiab4hW4ht7XVrl7lIHs2VmDmZXdVmZchmOBuxxkH3npS04+6K2rZ80eGvBvjWHxx4nutZ1TxQJZRfD/AEW0LWssLM3kLExuNoZUKYCxo25SC2ck9v8ACjSdfs/hnrtnHYX2lalmZLCbVp5pJ5W8sBJXWWWQx/N/CGK8ZHWvYKDTeqsU3dpnzEvgvxJJpeszeGNK8TaFdSaOttLJrF01zcSSiZGm8kvMTlkDY2soJ6beK9C+DOg65o3w31K0lvNYkvXmlNmuuW7QzQZRcKN00zFd2WBZycsQAAAK9a9KPWjpYlbpny5Y2uvWrXFjpOneLLDUk0uC5urfU9QeR7u4ju42maHdIw+ZVcDaVUhsbQDXQeNofG/jTw94kutOste0KzutRtGFoyZvWtFiCzCONZlKkyDOFdSQM55r3ptPtmvlvDbxm7WPyhPtG8ITkrnrjPOKs0p++kn0LvpY8Xm8C6jr37OupeHr19Y1S9ns5VijvN9pd7udiNtlZuD6u2R1Jqzq/gHU54o9Ftn1aDQ0vLBP3OozCQ2yRYlXzS5kwTwx3ZPXOea9f9KKJe9byMox5T5r+JXgfxWPDcXhrSYdeNgt7dNaXttcz3FxGOBCruLmN/L+ZjuZmxj7prrrPw/4uF9Hd+XcRXk501p5iwAZkt3WUsAeQHIyOlezHnmiixT1sz5u1vwv4ku/Al7a6PYeKdL1pryE65c3M8tw17D84f7IDcKB8xVsIY/lGK6vT/D/AIsj/Z9vNN0zUdVPiBoZFtZdSt/Ju4138JtaVySFBALSEnIywNey8nFL1otuUtLeR4B8K/Bev2Efhp7qXXbyC112W4ePW7cxPaRmxnjJUtPMzKzsvJc8twAK6vxHpdzL8VYrnU9M17UbExQrpdxpd1JHa2kgL+aZ0SRQ2SUwWVhgcAc59WoqpPm3EfO19J491jwi2m2ukeINP1TT/Duq2kl1NKqCe9ZIxbtEwclzlXKscbT9aveP/BN/o+v+FF0a08Q61HDJvlia9uvILtIC8ssyzqVI5IQqydgFHFe80U+bW476WPB9K0XxDb/Ea1uf7L8RrrMeo3Euo6nLfM2l3FiVk2RRxmQpu5gACxqwKEljht3tGiX0+qaPZXd1Yy6bczwpJJaTkF4WIyUYjgkdDitA4o71It2OooooAKKKKACiiigAooooAKKKKACiiigAooooAKKKKACiiigAooooAKKKKACiiigAooooAKKKKACiiigAooooAKKKKACiiigAooooAKKKKACiiigAooooAKKKKACiiigAooooAKKKKACiiigAooooAKKKKAPkj4t/8lE1f6xf+iUoo+Lf/JRNX+sX/olKKAPEv2M/+S7ab/16XP8A6LNfodX54/sZ/wDJdtN/69Ln/wBFmv0Or7Xiz/kYL/CvzZ8tw7/ub9X+QUUUV8UfUhRRRQBleK9GfxF4Z1XS0lWF7y1kgWRhkKWUrkj8a5vxR8NW8R6toFx9qSO2tYWtdQhKk/aogyOi+nyyRqef4Xcd67LUL+20uzmu7ueO2toVLyTSsFRVHUknpTZ9UtLbT2v5biOOzVPNadmAQLjO7Ppijz7D12PNLD4V674fWxv9N1Kxu9btZZwG1GN2haF1VFX5TuDKqKM98mth/h5e2vwrg8MWV3bfb4Y1KzyxFYDIH3n5V5VckgAdBiu8BBAOcg0UNtqxPmeZXvw117xO9xf6/qdj/abSWawxWMTi3hihuknYDcdzM20jJ4HFef8Agu01PVPG2qWSrdm2vH1BfsV1bXKLpRlZ2dgzIsbhnOPkZs78juR9G0ULt07FO7jbzPML34Z60bDUrCKXSr2xvLe1VY7vz43WaFUTcGiYMFwm4EEMDjtXZeB9H1XQvDNpZa1qR1bUoy5luiSd25mZVBIBIVSFBIzxW7RVXetxBRRRUgFFFFABRRRQAUUUUAFFFFABRRRQB4/8Uv8AkZl/64L/AOhNXP8Ah7/kP6Z/18x/+hCug+KX/IzL/wBcF/8AQmrn/D3/ACH9M/6+Y/8A0IUAe46L/wAg/wD7ay/+jHq/VDRf+Qf/ANtZf/Rj1foAKKKKAMLxl/yCU/67J/Wun0r/AI8If90VzHjL/kEp/wBdk/rXT6V/x4Q/7ooAuUUUUAFFFFABRRRQAUUUUAFFFFABRRRQAUUUUAFFFFABRRRQAUUUUAFFFFABRRRQAUUUUAFFFFABRRRQAUUUUAFFFFABSUtFABRRRQAUUUUAFFFFABRRRQAUUUUAFFFFABRRRQAUUUUAFFFFABRRRQAUUUUAFFFFABRRRQAUUUUAJS0UUAFFFFABRRRQAUUUUAFFFFABRRRQAUUUUAFFFFABRRRQAUUUUAFFFFABRRRQAUUUUAFFFFABRRRQAUUUUAFFFFABRRRQAUUUUAFFFFABRRRQAUUUUAFFFFABRRRQAUUUUAFFFFABRRRQAUUUUAFFFFABRRRQB8kfFv8A5KJq/wBYv/RKUUfFv/komr/WL/0SlFAHiX7Gf/JdtN/69Ln/ANFmv0Or88f2M/8Aku2m/wDXpc/+izX6HV9rxZ/yMF/hX5s+W4d/3R+r/IKKKK+KPqQooooAwfHmlx6x4P1e3ktvtbfZZGji279zhG24Xuc4wPWsjxbYXN18Ir+0ihla6fSzGsUaEvu2YwFxnOe1drRS6Ndx31T7HJ+EtO1DR9Zv7Oe+vtQs/JikjlvTu2uQQwVsDjvjtXWUUVRKVlYKKKKQwooooAKKKKACiiigAooooAKKKKACiiigAooooA8f+KX/ACMy/wDXBf8A0Jq5/wAPf8h/TP8Ar5j/APQhXQfFL/kZl/64L/6E1c/4e/5D+mf9fMf/AKEKAPcdF/5B/wD21l/9GPV+qGi/8g//ALay/wDox6v0AFFFFAGF4y/5BKf9dk/rXT6V/wAeEP8AuiuY8Zf8glP+uyf1rp9K/wCPCH/dFAFyiiigAooooAKKKKACiiigApKWoppPLjZ+u0E4+lLYB/TpR3rzLSfjppF14f8ADl3fWt5HqutafJqMGl6fbyXkpjjZFk2hEydpkTPA4Oe1ab/GLw8yaa9oL/U31CNpo4dPsZbiRED7GaRVUlAGBU7sYIIqnFroD0bv0O69aPavN2+N+kWWseLrXUrLUdOsvDgRrjUJbSTySpiVyd23A4YYGSW6iuh0X4haVrd/aWcIvIbi7WSS3S6tZIfNSPG513AZU7hg9D2pLVXQnZbnUUtcRefFrw/a6bbXaPeXzXVzcWsFrY2ck9xK8EjRzbY1UsVVlOTjHQ9xVk/ErSn1630eGDUrm9kVGlENhK62u8ZUTsFxESOzEUdbD6XOtz0o6Zrz62+LmmR6DY3t1515dXk10kNrpNrNcyMsMzRswQJuwu1QxxgE8EggmzqHxf8ADljHpxjlu9Rm1CB7m1ttOtJLiaVEYK+EVScqWAI6igV1a53FFcRcfFzw/Do+m6jC95qEd+rPDBY2ck8+1G2yM0aqWUI3ytkDB4NOn+LOg/bLC2s/t2rSXkSXA/syxluBFE5IV5CqkIpIYZbHQ+lHWwXO2ooooGFeFftuePtZ+Gf7L/jbxB4eu2sNXiS1tYbpPvRefdwQMy+jBZWIPYgV7rXzT/wUdOP2OPHR/wCm+lf+nS0oAih/YJ8E+Uv2rxb8Qbm42jzZv+Equl8xu7bQ2FyecDgVJ/wwP4C/6Gj4hf8AhXXf/wAVWh8O/wBrS38XW/xMl1bQhoY8GvcNGBd+d9ugid08wfIu0lk27ecFhyaofD79qfUviF4X8D6zcaZp/hGbWvFU3h65029aa7dxGkp2xPGihJCUBy42gAjOSKSd3p1V/vFJ8nxaa2+4X/hgbwF/0NHxC/8ACuu//iqP+GBvAX/Q0fEL/wAK67/+Kr2H4hfFjw58MY7H+3LmZZ75zHa2lnbvcXE20ZYrGgLEKOSccVzet/tOfDzQ9J8N6jNrbS23iKK4l0z7LbSTNcGHaJUCqpIdSwG0jOQR2NBVmzgf+GB/AP8A0NHxC/8ACuu//iqP+GB/AP8A0NHxC/8ACuu//iq9K8L/ALQ3gfxlceGodK1Zp38RCcafut3QO8P+tjYkDa6/3WwfasRv2gNK8Vax4WsvCusWUcWqarfWDXGo2M8gm+xg+esOCi9QQJGbbwcBulMR4D+0r8A7H9mH4N638UfA3i/xpD4i8NyWt1DHqevz3lvOrXMUbxvHISCrK5z3r7jQlkUnuAa+Hf27f2kvAHjj9l/4l+GdJ1lp9SkhgWBntpI4Lpo72DesMrKFkK4OQpPQ19wR/wCqX6CjsBJRRRQAUUUUAFFFFABRRRQAUUUUAFFFFABRRRQAUUUUAFFFFABRRRQAUUUUAFFFFABRRRQAUUUUAFFFFABRRRQAUUUUAFFFFABRRRQAUUUUAFFFFABRRRQAUUUUAFFFFABRRRQAUUUUAFFFFABRRRQAUUUUAFFFFABRRRQAUUUUAFFFFACUd6O9edax428XTeNtS0Xw94f0e/tdPhhlmn1DVZbaVjICdqItu4OAOrMOT2qW1dID0WkxXnemfGHTtStdIvX26bb3C3gvILzd51vJbblmT5QVJVlYE5wQMjOav2/xX0SXw/c61NFqWn2MLxxq19p80LXDSMFjEKsoMhZmAG0HJIqthX1sdvRXMaL4+07XbqztUgv7G8uopJ47XULOS3l2IwViVYAjlhjPWs27+L+gW0Ng8C6hqUl95phttPsZbibZG4SR2RVJCqzKCx4+YUrq9hncGgVxcnxK0/T59ba9lWODT3gjWKOKRrhnlUsE2beWPZVyeucVE3xh8NxaH/adxNdWaLeR6fJa3NpIlzHcSY8uNoiNwLblxkc7h60xJpq53PFAri7b4saDcaLeagxvbY2sy28tlc2ckd2JWGVQQldxZhyABz2qB/jJ4dXSorxRqMs8l0bIaZFYStfLMsfmMjQBd6sEIYgjoQe9AzvKKqabfLqVjBcrHLEsqhwk8bRuM9ircg+xq3QAUUUUAFFFFABRRRQAUUUUAFFFFABRRRQAUUUUAfJHxb/5KJq/1i/9EpRR8W/+Siav9Yv/AESlFAHd/Cr9kbQPhP4xt/EVhrWpXtzDE8SxXPl7CGXBJ2qDXuX2Nf7zVPz+NLmurEYqti5+0ry5pbX8jmoYelho8lKNkQfYV/vNR9hX+81PmuEt4nllYJGgLMxOAABkk15trH7RPgjw/wCCbDxTe6lNFpmoztbWCrbO897ICeIYgCz5CkggcjmuS51anov2NR/E1H2Nf7zV5roP7SXgXxH4R1/xDaahcJbaDEZtStbm1kiurZQM5aFgG5HTjmsfw7+1x8PfFFhqs9jNqxuNOs11CTTpdKnS7lt2dUEsUJXdIu5gMqD1pX1a7ai8z2L7Gv8Aeaj7Gv8AeavDND/bV+Guv6Hrus20mtx6ZokTS3tzcaPPGibXVGQErgsGYAqOa6zx9+0V4K+HEmlQ6reXU9/qVuLu20/TrOS6uXh4/eGNASFycZPGaq2l2OzPSPsS/wB5qPsa/wB5q8r1z9qb4c6B8Nbbx5ca08nhue6Wx+0QW7u8cxzlHQDcpXB3ZHGOa62T4peHl8WeHfDiXjTaj4gsptQ0/wAlC0csEQQs28cDiRcZ65os2S2lqzpvsa/3mo+xr/eauI8P/HDwj4m+JWs+BNPv5JfEWkx+bcwtA6pjIyFcjaxGRkA8ZFavgv4j6L8QLXWrjRZZbhNI1G40q63RMpW4gbbIoB+8AehHBpdL9A62Oi+xr/eaj7Gv95qyPB/jTSfHegprGkXBns2d4zvUoyOjFWRlPIIIIINcf4B/aK8F/EzxJLo3h+4vryRRIUvTYyraTBCQxjmK7WAIPQ9qfWwz0j7Ev95qT7Gv95qzZvF2lf2dqN1aX1vqH2CNnnjtZ0dk2gkggHg8Hrisb4Y/FLSPih4J0bxHYt9kTUrFNQFlcyJ58MTZwXAJwODz096P0Dy7nWfYl/vNR9hX+81cxa/Eaxu/F1zo6Rk2UOmLqn9sefEbVkLshUENnI27iSMY71vWWvaXqNxNBa6ja3M8IDSRQzq7IDyCwByAfejzDyLP2Ff7zUfYV/vNWbYeMtB1TUPsNnrmm3d7g/6NBdxvJx1+UMTx34ryzx1+1z4F+HfjB/C+rw+IP7WD+XGlrotxMk5Chj5bKpD4B5xSvql3Dz7Hsn2Nf7zfnS/Yl/vNXnXhr49+HvEPxA8VeFnZ9LuNBi0+R7jUHSGO4+1xNJGqAtu3AKQQQDk8Zrvb7XdO0yeCC81C1tJ7g7YY55lRpD6KCQSfpVNWB6aMsfYV/vNR9hX+81WaKQFb7Cv95qPsK/3mqzRQB4X8VV2+KMDtCo/8eeud8Pf8h/TP+vmP/wBCFdJ8V/8Akaj/ANcR/wChPXN+Hv8AkP6Z/wBfMf8A6EKAPcdF/wCQf/21l/8ARj1fqhov/IP/AO2sv/ox6v0AFFFFAGF4y/5BKf8AXZP610+lf8eEP+6K5jxl/wAglP8Arsn9a6fSv+PCH/dFAFyiiigAooooAKKKKACiiigBKjnQyQuo6kED8qlpKQzyb4d/C7VfCuoeC7i9e1caP4eutKuDE7MTLJNbOpTKjK4hbJODnbx6YM3wp8S2Xhex06w0zT21iOe+kj12PVZLaWyE1zJKhVRC3mgB1JVmUEgjPevdmoFW5ti6vzdzxrxZ8NfE+qr4506CPT7yy8SWcH+mz3DRvFcRwpEVaIRsGRgu7duBGcbT1rqfGWga6PFWheIdBtLLUJrKGa2ls7y6a2UrJt+ZXCPyu37u3n1Fd5R1qVoS4qW54n4d+Gfi3wfFoGs26aZrGvWB1aK4snuXt7eaO9vBcBkk8tirLsQYKkEMwz0NdRo+jeKvDviy/uoNN02703Wpo7m7Z75kls3CBWCDyyJhxxkpXomPSlovqh9LHjWh/DfxR4JXRdU02307VdVs4tStJrK4u2giaO5vftCOsgjYhlCqCu3ByRngGtXwZ8MdS8N+ItD1C5ntphbWd5HcmMsMTTzJJhAR90bSMkg9OOa9P7Ud6S3TJ5VblPnvUP2f9QZNKvrjStN8SXNnJqqPptzqE1pGY7q+a4R1lRGIZVKgqVIOSM8A1veIPhjqyWOiWXhbw7pvh+e1tVgj1e31aVH0/DbtoiER+0IDn5WZc5PTNezUCqTaHyrYUZxzS0UUigr5p/4KOjP7G/jsDvNpX/p0tK+la+av+CjQ/wCMOfHhAJCy6WzYHRRqdqSfoACfwoDbU5Qfsj+LP7U0uZL/AE2C0utcvptdjSZybjT5boXESL8nLhlUEHAAJ5Nbuk/s0+KbCPwjGZtMC6R8Q7zxTMFmf/jzlWYKqfJzJ+8XIOB1+avY0+PPw/kRXXxXprowyrLMMEetP/4Xt4B/6GnT/wDv6KhNRtrt/wAD/I4J4zCyunVj9/r/AJnAftGfAXVPid4i8KeJNGjsb+90MTRPpep3M1tDcRyAZIliyyspGehB6Vn6H+zzqek+LPgzqVnpui6Jp3hMaxJqOn2VxK6LJdoAphLqS/zZLFivJJHpXp//AAvXwD/0NOn5/wCutH/C9PAP/Q06fn/rrVRko7PzLWYYZO/tY/ejwb/hlvxtp/whuLHSbzSbbx3p/im81/R7pp3+zok7sCjsI8gmNzkAHkDnvXW2/wCzTd6P/wAKb0/TZrVdK8I2d7b6lIzsssslxblGkQbSCWkZmOSOvevTP+F6eAf+hp0/P/XUUf8AC9fAP/Q06f8A9/aXMmmr7g8fhm+b2sb+q6nwP+2V+zr468L/ALKN1p2sXehnwl4DP2nT7q0MjXt951zHGqyqwCptWQkkM2SO1fpjH/q1x6CvkH9v74s+D/En7I/j/StM8QWV9qV3Fax29rDJl5WF5AxCjucAn8K+vov9Wv0p+h0QrQrLmhK/oS0UUUzQKKKKACiiigAooooAKKKKACiiigAooooAKKKKACiiigAooooAKKKKACiiigAooooAKKKKACiiigAooooAKKKKACiiigAooooAKKKKACiiigAooooAKKKKACiiigAooooAKKKKACiiigAooooAKKKKACiiigAooooAKKKKACiiigBMcmvMdS0vxpovxD1nVND0bSdT0/U7e3j8+91N7d4GjDAkxrC+8cj+IfhXp9JUuKbT7AeR6T8I7/RP7Bkd7TWJLf8AtK51FZmMSXNxdlnZVG1tqbnKjOSFA6msmz+FviqTTJWWGy0b7HqFnqGmaGdRkvbZGhdi6+a0aFFdTgAKQrAN83Svcf1o/Sn28ibLXzPMr7S/Glzrei+JY9E0lNTggmsrjTG1VzGsbspEizeRliCvKlBnPWubk+GPiWz8E6Hp39kabqeu2zXBOrQ6rJYyWTSuW3RbYnLjkEqSo+UfWvcqBU8qvcs8buPhT4hea61GS8tL3VIrywv4GkZo1uZYIWSQPhTsDFiQRuxxx2p83w18ReINQk1zU49PsdSutY0y8ksbe4eaKC3tSTgSFF3yMWY52qMbR/Dk+wcUVbbb1M+VcvKeMfED4K3njHUNduXW0uY5dQsr+1tJppES48mN0aORlG5Ad/DLnGAcdqZF8LZtO8E/ZtO+H2i2moz35vJLWHX5k8qQRqizi5MBYvtULjaBgAZNe1UU7soxPBenalpfhjT7TVrv7dqMUW2a4yTuOT3PJwMDJ64zW7RRSeoLQKKKKBhRRRQAUUUUAFFFFABRRRQAUUUUAFFFFAHyR8W/+Siav9Yv/RKUUfFv/komr/WL/wBEpRQB9b0UUUAcf8WbG91T4YeLLTTdxv59LuY4AnUuY2AA9z0r5p1LTNRj0X9nj4m+HfDt74s0HwnZ3EOo6PpEazXkSz2yxedFESDI6OpBVfm+Y4HUj7D6dao6XpNjotubbTrK3sLcu0hitYliTcxJZsKAMkkknqSc0o3i21vp+v8AmJ2dkz4717wx4q+KFx8afH9r4M17w/p2r+FU0fTtK1OzMWoX8qFmaQ2w3OOu1QRk9q9d+AP7PVt4DfTvF+r6zrniHxZLokOmCXXHXfY2/wArtboiqoUBgM5BPHWvdvxo70lo212S/P8AzG25b/1t/kfEn/Cv/FH/AAx18a9G/wCEb1f+2dQ1/U57PTvsMvn3MbXSMrRx7dzqwBIKgggZFdVfQeIPgv8AHS3+IF14J8Q+LfD2seErLSC3h6xN5e6dcwsWaNoAQ4RwwJYDAYc4r6mbUbSO+Sya5hW8kUulu0iiRlHVguckD1xVuqetv66WLlLmTT6tv72n+h8Q2fwj8Uap4Tj1DVvCV/Z2/ib4iQas+gPB5slpYlXRmnVNwjDA5bJwu7mo/CXhHx18J/2hNK0e58O63rnhPwXo+sNoOuW9nLPHNaXCo8FozKpBmjZHjC5yV24HTP3D68UuKL8q930/Cxi4qW/r+Nz4B8CfD340eA9Y+HvxD1Tw3ZXEE2tzT6pZaXb3Umsrb3zYcXEZXbtiwjEKMrt5716h+zz47vfAPi7xt4R1fwF44im1fxtql3basnh6c6b5Es3yStcEBQhCk7uRgg5r6uBOaZJGs0bI6qyMCCrDIIPUGhaadLf5f5FPXfvf8/8AM8P/AGaczaX8Q9RgRpdJvPE19NYqo4kQEKxXsQWVsGvDPCOieOZLnXvC3wv8PeOPCfgy70i+E2l+M7EWsOn3bKTGtjKzFiGZmyFJUZByK+29N0uz0ezjs7C0gsbSIbY7e3jWNEHoFUAD8KLzUrXTUV7u5itUd1jRpnCBmJwqgk8knoOtS1fTyt+hSk1d+dz4s+DPgPVY/GVhc6D8Pte8FWWm+ELvTfET6nZNbLqd+wXyxGCSbghg7eYoI5xnnFYV18N/H3g34R/C3VPDPhnV31/VvCw8JazZx2cgns1kwUmmQgFBGS+SwGN1ffXf2oo8/wCuv+ZK0d/66f5Hxx4t+EOqeGPEnjvStF0HUbjTIfhC+jWc9taSNHcXQaX9yjBSGlOQdoJPzDjmuatfhY/w81DwFqCaFqHhvTLj4cXcPiPUlje2VbowJtW4mYYSXczBQ5BB4xxX3CupWsl9JYpdQteRoJXtw4MioSQGK5yASCAcY4pmuaHYeJtJutL1S1ivtPuozFPbTLuSRT1BFU27Pz/4P+ZULR0t/Wn+R8YfsfWnh/TfiZotzrVrqmkeNbrw0NO0+yv/AArPpcU0ELB5ZVmk3CebDLudSAVPTmvaPjB4d1bVP2gfg5qNnpd5d6fYT3pu7uG3d4rcNDhTI4BC5PAyRk13ngv4L+Dfh7qjajoejeTqHk+Qt3c3M11LHGSCY0aV3KKSASqkA4HHAruqpu7TMeTRp9T4k+LfwVuvF3j39pvWLnwhfandNoel/wDCOXX2KV/OuFtZN/2UhcSOrqgO3JU4HGa5Xx18KfFms+IrW68W2PjGXTdU8Maba2txoWgLqdxa3CRDzkcMpa2k3c7vlGerDFfoNxzSClfbQ3lLn/r0/wAjP0GzfT9FsLZ5ZZ3hgjjMtxjzHIUAs3+0cZPvWh3NGaXvRe7M0rJIWiiikUeG/Ff/AJGo/wDXEf8AoT1zfh7/AJD+mf8AXzH/AOhCuk+K/wDyNR/64j/0J65vw9/yH9M/6+Y//QhQB7jov/IP/wC2sv8A6Mer9UNF/wCQf/21l/8ARj1foAKKKKAMLxl/yCU/67J/Wun0r/jwh/3RXMeMv+QSn/XZP610+lf8eEP+6KALlFFFABRRRQAUUUUAFFFFABSEZFLRQBF5P+0//fRo8gf3n/76NS0UAReT/tP/AN9GjyB/ef8A76NS0UAReT/tP/30aPJ/2n/76NS0UAReT/tP/wB9GjyB/ef/AL6NS0UAReT/ALT/APfRo8n/AGn/AO+jUtFAEXk/7T/99Gjyf9p/++jUtFAEXk/7T/8AfRrJ8UeEdJ8a+HdQ0LXLNNT0jUIWgubS4+ZJUI5BFbdFAHyw3/BNf4HM7EaTrkYJyEj1+7VV9gBJgD2pP+HavwO/6Bevf+FDef8Axyvqfmk5pWRj7Gn/ACr7j5Z/4dq/A7/oF69/4UN5/wDHKP8Ah2r8Dv8AoF69/wCFDef/AByvqbmjmiyF7Gn/ACr7j5Z/4dq/A7/oF69/4UN5/wDHKP8Ah2r8Dv8AoF69/wCFDef/AByvqbmjmiyD2NP+VfcfNvhX/gnz8FPCXiCx1i30C+vbqylWeGPUtVuLqFZFOVYxu5UkEA8ivo7yR/ef/vo1IPrTqZpGMYq0VYi8n/af/vo0eT/tP/30alooLIvJ/wBp/wDvo0eT/tP/AN9GpaKAIvJ/2n/76NHk/wC0/wD30alooAi8n/af/vo0eT/tP/30alooAi8n/af/AL6NHk/7T/8AfRqWigCLyf8Aaf8A76NHk/7T/wDfRqWigCLyf9p/++jR5P8AtP8A99GpaKAIvJ/2n/76NHk/7T/99GpaKAIvJ/2n/wC+jR5P+0//AH0alooAi8n/AGn/AO+jR5P+0/8A30alooAi8n/af/vo0eT/ALT/APfRqWigCLyf9p/++jR5P+0//fRqWigCLyf9p/8Avo0eT/tP/wB9GpaKAIvJ/wBp/wDvo0eT/tP/AN9GpaKAIvJ/2n/76NHk/wC0/wD30alooAi8n/af/vo0eT/tP/30alooAi8n/af/AL6NHk/7T/8AfRqWigCLyf8Aaf8A76NHk/7T/wDfRqWigCLyf9p/++jR5P8AtP8A99GpaKAIvJ/2n/76NHk/7T/99GpaKAIvJ/2n/wC+jR5P+0//AH0alooAi8n/AGn/AO+jR5P+0/8A30alooAi8n/af/vo0eT/ALT/APfRqWigCLyf9p/++jR5P+0//fRqWigCLyf9p/8Avo0eT/tP/wB9GpaKAIvJ/wBp/wDvo0eT/tP/AN9GpaKAIvJ/2n/76NHk/wC0/wD30alooAi8n/af/vo0eT/tP/30alooAi8n/af/AL6NHk/7T/8AfRqWigCLyf8Aaf8A76NHk/7T/wDfRqWigCLyf9p/++jR5P8AtP8A99GpaKAIvJ/2n/76NHk/7T/99GpaKAIvJ/2n/wC+jR5P+0//AH0alooAi8n/AGn/AO+jR5P+0/8A30alooAi8n/af/vo0eQP7z/99GpaKAIvJ/2n/wC+jR5P+0//AH0alooAi8gf3n/76NHkD+8//fRqWigCLyB/ef8A76NHkD+8/wD30alooAaq7V4JP1OadRRQAUUUUAFFFFABRRRQAUUUUAFFFFABRRRQAUUUUAfJHxb/AOSiav8AWL/0SlFHxb/5KJq/1i/9EpRQB9b0UUUAZHiolfDOrEHDC1lII9dhr8//AIU+LtXsPgre/Cj+0rltb8aTWcmk3DzO0q2V4Ha9dWPI8tbe6OQeCy+or9D7q3jvLeS3mUPFKpR1PcEYI/I1xWmfBPwPpOraDqdn4dtodQ0Kzk0/TbhWcvbW753IpLHIOTyckZOCM1HL7zb2dvwHfReWx8q/Cz4o6v4f/Zh+FehaD4g1eHxfqNvezwwafp1tfXFxDFNIGZnu5EiRV+XJZskcCtLxH+1Z438N/Af4Z/FFpLS+l1JrjT9T8MrCqyXsm2QJcQlQzKY2i3OqkrtZvQZ+iZv2c/hvcaLoWky+FbSTT9CLnToWeT9wHYs67t2WViSSrEg56Ve034H+BtHutFntPDlrA+iwXFtpy5do7WOckzBELFRuyQTjOOAQOK0qS5nJrdu/yB257paanz9H488SWnjr4eXWoaxpmvateeBtU1aTV7exhx5gCOqxOFBEa5Ax/Fty2TWH4c+LXxp13V/hFaP430mEfEjRrq540NG/st7eFZd6fN+8ZlYAhvlByQuMAfTOk/AnwJof2A2Ph6G3+wWlxYWoE0pEVvOcyxqCxwrHt27Yq5Y/B/whpt14TnttEhhm8KwS22jMJHP2OKRAkirluQyqB82elVeN9tP/ANr/ADX3Bpb5Hzv4L/aI8carL8GbfUtStfM1jxBqmja1NDaoiXa2yuFYAg+WSyg4Uj0rNt/2iviFrGh68+ma5Y/bF+KsvhKyuZrKOWKOx2ptUqu3cVLE7s5Pc19E6l8Afh9rHheLw9eeGLafR4bx9Rit2kkBjuHYu0iuG3KSxJOCB+FO0n4C/D/Q7GOx0/wvaWVnHqy64kEBdEW+VFVZgA3BCqox046Urrqv6uv+CJO0bPfv9/8AmvuPl7UPjh8Y/Dem+ONSufGGl6jb+BPEtrpdxEdGjjbVoZpIwd7BsRFRIANgB45Jr1P9u43MnwPto7a1uL+WfW9OiNlbXX2Z7gNcKDGJMgLuzjJIAzXq998EfBOoWfiC1uNAglg1+8j1DU0MkgFzPGVKO2G4IKLwMDjpW54s8F6L440+Gx1ywS/tILiK6jjdmAWWNgyN8pHIIB9KPdaj5Nfp/wAEiSfNJx2a/HU+XPBcPij9nv4WeKb/AMQS33gOLXNWt7Tw14fS4XxBdWUkhVREpLCNmkIbAL7V6k9q5uX41+Mtf8H6tpnimFLvVPD3jnStOSbWNPsxcGOUo/7yOF5IFkXccNGxxkdDkD7C8c+AfD/xI0GTRfE2mRatprusnkSll2upyrKykMrA9CCDXP2vwD+H9nYyWdv4YtILWW7t76SONnXfcQAeVKxDZLDHJP3jycmlF+9eXl+n/BJnFuPLF2ev6/8AAPJPD/i/4s/EfxR8WING8VWGkad4Wv77TdPtf7KjmnnmNsGgLOxwqo7qcbWLcgnFeaWv7ZHjKfTbPxcbi3/4RhtCjs5rdbZN41trVpCd2MgB9i7enzdK+yvD3gnRPCd7rV3pFgllcazdtfX8iMzGecqFLnJIBwoGBgcdK5Rf2dfhwvh2TQh4UtBpMmqf201qHkCm83BvNzuznIHy529sYqfLyX/B/r0N7q97f1/X6nhsPij4kW3jDxVDpUGm6t8QY/h7p95DNPawQNPdtNJuVnwgwBnCswUHHTJrGm/ad8Yab8LbWO01HV9W8aXXiCLRb6HUdCtrS/0pmTcUERkWCQsBlGZgpBGc9K+pNe+EnhHxNfapd6losV1dapZR6ddyNI6mW3jfeicMMbWO4FcHPes20/Z/+Htn4RvPDEfhazbRLyXz7i3lLyNLIOjtIzFyw7NuyOxFLXX+ut/yJXS/9aW/MzP2evEnjzxF4Y1QePtKutPv7XUHhsri9it4p7u12qySSR28skaPkspCtj5QcDNerVzvgjwDoPw50c6X4dsP7PsTIZTH5rykuQAWLOzMTgAcntXRVbab0Jje2o6iiikUFFFFABRRRQB4b8V/+RqP/XEf+hPXN+Hv+Q/pn/XzH/6EK6T4r/8AI1H/AK4j/wBCeub8Pf8AIf0z/r5j/wDQhQB7jov/ACD/APtrL/6Mer9UNF/5B/8A21l/9GPV+gAooooAwvGX/IJT/rsn9a6fSv8Ajwh/3RXMeMv+QSn/AF2T+tdPpX/HhD/uigC5RRRQAUUUUAFFFFABRRRQAnWs7WtUi0PR73UZld4LOCS4kWPBYqoLEDJAzgcZNaIrnPiJ/wAiD4kH/UNuP/RTVdNKU1F9WjOpJxg5LojwX/h4D4B/6A3iT/wGg/8Aj9H/AA8B8A/9AbxJ/wCA0H/x+vgKiv2tcH5c1f3vvPyt8SY6/T7j79/4eAeAf+gL4k/8BYP/AI/R/wAPAPAP/QF8Sf8AgLB/8fr4FhhkuJAkUbSO3RUUkn8BTWUqxBBBBwQeoNP/AFPy29ry+8X+smO8vuPvz/h4D4B/6A3iT/wGg/8Aj9H/AA8B8A/9AbxJ/wCA0H/x+vgKij/U/Lf733j/ANZMd5fcffv/AA8B8A/9AbxJ/wCA0H/x+j/h4D4B/wCgN4k/8BoP/j9fAVFH+p+W/wB77xf6yY7uvuPv3/h4D4B/6A3iT/wGg/8Aj9H/AA8B8A/9AbxJ/wCA0H/x+vgKij/U/Lf733j/ANZMd5fcffv/AA8B8A/9AbxJ/wCA0H/x+j/h4D4B/wCgN4k/8BoP/j9fAVFH+p+W/wB77w/1kx3l9x9+/wDDwHwD/wBAbxJ/4DQf/H6P+HgPgH/oDeJP/AaD/wCP18BUUf6n5b/e+8X+smO8vuPv3/h4B4B7aL4k/wDAaD/4/XcfB/8Aah8L/GrxNc6Jo1hq9rdwWjXjPfwxJHtV0UgFZGOcyL2xgHn1/Mqvpf8AYB/5LJq3/YDm/wDSi3ryM34ZwOBwNTEUnLmjtqell2e4vE4qFKpazeuh+glFFFfk5+jhRRRQAUUUUAFFFFABRRRQAUUUUAFFFFABRRRQAUUUUAFFFFABRRRQAUUUUAFFFFABRRRQAUUUUAFFFFABRRRQAUUUUAFFFFABRRRQAUUUUAFFFFABRRRQAUUUUAFFFFABRRRQAUUUUAFFFFABRRRQAUUUUAFFFFABRRRQAUUUUAFFFFABRRRQAUUUUAFFFFABRRRQAUUUUAFFFFABRRRQAUUUUAFFFFABRRRQAUUUUAFFFFABRRRQAUUUUAFFFFAHyR8W/wDkomr/AFi/9EpRR8W/+Siav9Yv/RKUUAfW9FFFAGdrl4+m6NfXUYDSQQPKoboSFJAPtxXyT8Df2wfGXjfx14Q0jX4fB+sWPiWC8l8rwrJOL3R/IQuDeJI7KA2NowV5Ptg/XOsWR1LSby0VtjTwvEGI4UlSM/rXnXwR+COnfCD4d2OiR22mvrMds0F3qtnZrE9yxJO5mxubqPvE9KzjzKbb1Vhu1kczoP7YfgvxB4JvfFqaX4ktPD9tEjLfXWmFY7mZn2C2hIYiSXdwQuV5+91xPH+1x4Oh8KeJtX1fTtf8PXnh5rdb3QdVsBHqObg7bfZGrsr+YeFIbGQc4rM039luRf2adG+GN7raHUdKlF3bapBCdi3CXDzRsUJyVBYAjPPNYmr/ALJeu+NNK8Zaj4m8W2s3jbXW05re+sLMx2tp9hk8y3HlsSWyxO7J78VpL4rIcrK/KUtJ/a0utM8VfFLWvEum69Y+E/DOm2N1HoV1p0UN/A8p2uCCwDEkqeZCOuD2r1jWv2ivCnh3xpeeHNTF9ZS2fhk+LJ76SJfs6WYk8sqSGLGTPO0LjHfPFed6p+yr4g8bWnxHPi3xXaXd/wCMNJtbB5bCzMSW0kLFlZVJO5c44PPWqifsl+IvFXifWtY8b+LrPUm1Xwa/hKSLTbNoFhXzldZEyTnoxIPcjHAp+7Zf10f6kxW/N3/y/wCCbHiz9rz+yfhq/i3Tvh34t8qS8tLazTVLKO2W7Sd1VZIz5hyCp+UNtJYqDgEkeleLPiJf6T8GNX8ZW+kT6XqNtpct8mm6yih4nVCQkojcjqOdrHjvXnGqfAPx74q+Ds3gzX/F+kz3djJZyaPfWuntGsZtnVkM6ljuztGcYr0rxB4L13xf8HdT8MazqNk2u6jp81nNfW0DJAHcMAyoSTgAjjOeKynzcsuXfoEPjjzbHz58J/2zNfvptUbxnD4a17TrPwzJ4mlvfAryubRUALW06TOQJSCcDeBwc+tepN+1h4XXwhF4gGh+KGtr29jsdItzpRW41qSRN6m0RmG9MZ+Ziq/KeSME6L/AWxtPgDqvw+0mDS9JvtR0JtKm1C1s1jSSVoDGZWCgFuTnk5qj43+At94g8B/D6x0zWYdO8TeC3tbjT7+WAyW7yxQ+UwdMglWG7jORxWsrdP61ZC5riW/7WHhW+0fTprPSdfudbvtTfR08N/ZY4tRju0Qu8brJIsa7UG7cZMEdCaybP9s3wtN4S0TX5vDHiu0h1rUrnSrGzNlDNdTXEAfeojhmc8sjIO5I6Y+avIfi38E9c8FaTpS3cj61quteI5fEWs61a6ZPNawyiHy0hWK3PnqrBhhlYcp8xwa7z4WfDLxH460nwBqGo6Vp/hG08G69c3FpaW9pJAL+1MTIsojc7o2ZnYnfycZPJoik29f60HN8q0X9anf/ABA/aa0j4Z2dhf6/4U8VWukz28Vzc6h9hi8rT1kYKBOplDgqSNwRXK96rfEX9rLwt8NvEWt6PeaJ4k1WbRbS31C+uNJ09Z4YLaXOJmYuMKuORjPIwG5xw/xv/Y+1b4teI/G92PEGmrZeIrSGOD+0rBrm406SJRtEDFsIjMAWKgNyea67xd+znfeJL34kzx6zbwjxZoFro8QaFj9naIOC7c8g7ug54rNt8t1uV1Sexc8NftXeE/Emoa3ZrpXiLTZtN0R/EUP9pWAg/tGwXrNbgvkjOBhwhyR7msC1/bd8JX09lBa+EfG91c6jp/8Aaelwx6ON+pQgZdocyD7ncvtHoWBGbl9+zXqF14li1Ma1bBI/AE3g0x+U2TLI6sJs5+6Nv3etT+Gf2c7/AELxV8M9WfWbeRPCXhiXQJo1hYG4dkRRIpzwo2E4PPNa2V99Lfjr/wAD7x6d/wCtP+CNX9oTTfFXin4PXWh6tqNro/jCLU5Bp7aXE/2jyIA5WaRpA0DIQ2NgcMcg4HNP8F/tgeEPGuv+HtOt9G8S6fb6/NNa6fquoaeIrOa4j3b4Q4cksApOQCp/vZ4rH8H/ALLOpeGZfhA8mvWs/wDwg51gzhYGH2r7bGyLtyeNu7Jz17Umm/sw6noXhv4WWg1i2upvBOq3WqyhImX7WJPMIjTJ+U/OBk8cUPlTWunX7xxtKKvo7a+uv/ANrR/2uPD/AIk8WeHdF0vwv4mvrfxBfXVhputJDapZzPbEidvnuFlVV2seYwW2naGr3XPJr4U+BWm+K9B+J+mXtv4Qiur2/wBZuZb6O/0m6t59Ht55HeRlnYi3JUEL+5XLcA+tfdlL7K7ky+NpbDqKKKQBRRRQB4b8V/8Akaj/ANcR/wChPXN+Hv8AkP6Z/wBfMf8A6EK6T4r/API1H/riP/Qnrm/D3/If0z/r5j/9CFAHuOi/8g//ALay/wDox6v1Q0X/AJB//bWX/wBGPV+gAooooAwvGX/IJT/rsn9a6fSv+PCH/dFcx4y/5BKf9dk/rXT6V/x4Q/7ooAuUUUUAFFFFABRRRQAUUUUAJXO/EX/kQfEn/YNuP/RTV0Vc78Rf+RB8Sf8AYNuP/RTVrR/iR9UZVv4cvRn5D0UUV/UMfhR+Bvdn1B+xvonw7uPFWiXl5rWoDx0r3KxaT5ObV4/Kcbi3lkZ2En745A49fMv2gtJ8CaX4wn/4QzWb/VZpLi4bUUvItiwTeYcqnyLlQc/3unWvOdH1q/8AD+oxX2m3c1jexbtk8DFGGQQcEeoJH41VuLiS6nkmldpJZGLO7HLMxOSSe5Jrw6eWzp4+WLdVtNbdOunouh6jxsXhFhvZq99+p6XcNB4F+F/hTU7DS9Ovb7XpLqW7vtSso7sx+TKY1hjWRWVBtO8kDJLDnAAq7Y/BWz1zUtGtV8R+XqOp2TatcR/YEigtYArM3zmZQW44Xaq88soFcLofj7XvDulyadY3wXT5JPONtPDHOgfG3cqyKwDY4JGCaYnjvXo9YsdVTUpY7+yQRW8yBVMaDPygAYK8ngjGDVPC4pObpzSbbd9297J3Wy8jFVqUuXni2kkrdL9WegWfwJsL7WWit/FMdzpIiiJ1C3Fm/kyyOyiKXN4Iwx2lgEkkJGDgHIHP+MPhrYeCtBF1d65LNqUtzcW1vZwWIKN5UuxmeUyDaCMkBVY5GDgc1Rtvi54rs7mWaDU44Xk2Fljs4ApZCxVgoTAYbm+YDdz1rD1jxNqniBI11G8kuljeSRQ4HDO25jwO7HNFChmCqJ1qvuq2yV336G9SpgnTkowfN010R3dj8GbWTwXYaxfeJ7LTL3ULV7y2sp3t1DIrsqqxM6ybmKtgLER0BIOQNSb4GaLDq09hH4purqawu7G31Bf7LEaqty20GJjMd5ViAQVUYOQTjB89tvH2vWugJoqXqtpke7y4ZYI5DHuOWCsyllyeflI55pknjrXpri+nbUpvOvWie4cbQXaNt0ZyBwVPIxik8PmEpSftrK7tZLa+nTojNVMLyWdN3ta9+vc77Wvg74ctYb+4tfE+oCNdZfRLW1n0pPMkuAcfM4nwEHdup6he1Xpv2d9P/t+20m28Z2t5d77iO5tbeKCW6zHC0v7mGO4YybijKA5ibJGRzXm/iD4heIPFCbdS1Fp1+0fa8JGkf77GDJ8qj5vfrXUeE/jRfWmvG/8AEO7UwttNDFcQwQrPDJJGUE27Z+8YKWBD7gQxyDXNUoZnCleNW7Sell20tp8zeFXAynaULJ21/Pqb0f7PthL4ij00a/qEVv5Nu091dadbQfZ5pmwkEgkvFAfHJVST6KeteU+JNEk8N+INR0qaRZpbKd4GkTO1irEZGfpXc678atQjvYG8NO2lxLEqTSSW0Ae4kVmZZGVU2KyhtoZQDgda881HUbnVr+4vbuVp7q4dpJZWxlmJySce9duAhjoy5sTK8bbWV799EjDFSw21GNnffpbsV6+l/wBgL/ksmrf9gOb/ANKLevmivpf9gL/ksmrf9gOb/wBKLeuTiL/kV1vRfmb5N/v9L1P0Eooor+ez9pCiiigAooooAKKKKACiiigAooooAKKKKACiiigAooooAKKKKACiiigAooooAKKKKACiiigAooooAKKKKACiiigAooooAKKKKACiiigAooooAKKKKACiiigAooooAKKKKACiiigAooooAKKKKACiiigAooooAKKKKACiiigAooooAKKKKACiiigAooooAKKKKACiiigAooooAKKKKACiiigAooooAKKKKACiiigAooooAKKKKACiiigAooooAKKKKAPkj4t/8lE1f6xf+iUoo+Lf/JRNX+sX/olKKAPreiiigCORlVCzHCjqc4Ary3QP2l/h94o8Z/8ACL6RrEuo6ozyRK0FlM1s7xqzOqz7PLLAK3AbtXdeNNKudc8I61p1pL5F1eWc0EUmcbXZCoP5kV4D+zH4yufCngzw38LNW8D+J9J1/TLaS1ub5tKb+zi6KzGUXIO1t+OMZJZwCOpqVu/IbWiZ7D8LfixovxZ8L2euaV5lql20qpaXhRbgeXI0ZJVWbglCQc9MV1UesWM1zJbRXlvJcxgloElVnX6qDkV8JfDv4Pal4P034H+INO8K6pZ+JW8S366vP9mmWVLVmnKrMCPkiPykbgF5B70/wDofi3XPj14B8Wz+DtS8O6h/buow68ltorW1vFG8E/l75ySZ1Yqp3coGKgEEgGu3nv5MqUeW76f8P/kfSujftOeG9bk8MJBp2qofEGuXmg23mRxDZPb797PiQ4Q7DgjJ6ZAr1iPUrOa6ktY7qF7mMZeFZFLr9RnIr4m8G+BfE9u/wpDaDqdu1r4+1y6maSylUQROJfLlfK/KjEjDHAORg1R/Z/8AhXr+m/EjQm8UP4k0/wAY6bqV7PfTpoTfZr1W8z/W6gDtliZSu1SSVbaABir5VZeZn9lS/rdn3JHrFhNMsEd5bvO2dsayqWODg4GecVG2v6XHefZW1KzW63bfIM6h8+m3Oc+1fC/hf4P3/h7R/AHiaDw1qtr4nT4gXJvL1reYTRae08uSwI+WErg5IC85rK+FWmeGrv4naNqOutcW7WviTVf7C1a50GaRdUluJZFty+oYMUq/dZNuMYA7ZqOqS/rb/MlSur/11/yP0Ei1K0munto7qGS4j+/CkgLr9QDkVj6h4xi07xlp3h9tOvnN5azXX9oIi/ZYRGVyjsW3BjuyMKRwckV8c/s5/C/XNL+KmjT+Im8Sab4p06+vJb1xobLa3iPvx5t9nbIhBUquSQQBgV7B8ZPDuq6h+0N4Wv7XTLy6sYvCeuW8l1Dbs8aSukexGcDAZsHCk5ODijs+6f5Dk7O3Zr8We+QarY3c3kwXlvNNt3eXHKrNt9cA9PeuT+Jfxk8JfCO0tLjxPqf2L7W5jtreGF57idgMkJFGrM2B1wOK+Tfg38JNR8E65+zZrNl4b1XT9VubfUIfEt09vMHVPs7mNbksPkXdjaHxzgCvXPjVBqfgb4/+DfiRL4a1TxP4cstKutNnTRbU3dzZSyMrLKsI+ZgwBUlckVU48riu+5bXLfqezeHfiP4f8UeE7PxJZ34TR7tlSGe8RrclmcIqlZArAliAARnJrdvtUtNMWE3lzFbCaRYYzK4Xc56KM9SfSvA/jT8Oda/aS+H2hX/h3VNe8KE31jctpN+osyUju45GkkRlZhIqqWUf3lXNP+MH7Onibxxp3g+307x7rhfSb+3luJJ7hELqrszT8RnMqggL0HFRr1VtbfLuT03vofQvWjFZ+h6bLpOj2dlNe3GoyQRLG13dEGWYgfecgAZPfitGmAlLRRQMKKKKACiiigAooooA8N+K/wDyNR/64j/0J65vw9/yH9M/6+Y//QhXSfFf/kaj/wBcR/6E9c34e/5D+mf9fMf/AKEKAPcdF/5B/wD21l/9GPV+qGi/8g//ALay/wDox6v0AFFFFAGF4y/5BKf9dk/rXT6V/wAeEP8AuiuY8Zf8glP+uyf1rp9K/wCPCH/dFAFyiiigAooooAKKKKACiiigBtYPjq1mvvBevW1vE0081hPHHGgyzMY2AUDuSTit+iqjJwkpLoTKPNFxfU/KP/hQXxH/AOhI1z/wCf8Awo/4UF8R/wDoSdc/8An/AMK/VvaKNor9BXGuMSt7OP4/5nxj4Ww9/wCIz8pP+FBfEf8A6EnXP/AJ/wDCj/hQXxH/AOhJ1z/wCf8Awr9W9oo2in/rtjf+fcfx/wAxf6rYf/n4z8pP+FBfEf8A6EnXP/AJ/wDCj/hQXxH/AOhJ1z/wCf8Awr9W9oo2ij/XbG/8+4/j/mH+q2H/AOfjPyk/4UF8R/8AoSdc/wDAJ/8ACj/hQXxH/wChJ1z/AMAn/wAK/VvaKNoo/wBdsb/z7j+P+Yf6rYf/AJ+M/KT/AIUF8R/+hJ1z/wAAn/wo/wCFBfEf/oSdc/8AAJ/8K/VvaKNoo/12xv8Az7j+P+Yf6rYf/n4z8pP+FBfEf/oSdc/8An/wo/4UF8R/+hJ1z/wCf/Cv1b2ijaKP9dsb/wA+4/j/AJh/qth/+fjPyk/4UF8R/wDoSdc/8An/AMKP+FBfEf8A6EnXP/AJ/wDCv1b2ijaKP9dsb/z7j+P+Yf6rYf8A5+M/KT/hQXxH/wChJ1z/AMAn/wAK+gP2Kvhh4u8F/FTU77XfDuo6TZyaPLCs95btGhczwsFBI64Vjj2Nfbf4Um2vPx3FWKx2HlhpwilLtc6sLw7RwtaNaM22mPooor4s+sCiiigAooooAKKKKACiiigAooooAKKKKACiiigAooooAKKKKACiiigAooooAKKKKACiiigAooooAKKKKACiiigAooooAKKKKACiiigAooooAKKKKACiiigAooooAKKKKACiiigAooooAKKKKACiiigAooooAKKKKACiiigAooooAKKKKACiiigAooooAKKKKACiiigAooooAKKKKACiiigAooooAKKKKACiiigAooooAKKKKACiiigAooooAKKKKAPkj4t/8lE1f6xf+iUoo+Lf/JRNX+sX/olKKAPreiiigAooooASlpKWgBKWkpaAIpIkmjZHUMjDBVhkEHqCK838Ofs5/D3wnrVtqmmaC0U9rIZbSGa/uZ7W0c5+aC3kkaKE8nBRFxnivTKKOtw6WCloooASloooAKKKKACiiigAooooAKKKKACiiigAooooA8N+K/8AyNR/64j/ANCeub8Pf8h/TP8Ar5j/APQhXSfFf/kaj/1xH/oT1zfh7/kP6Z/18x/+hCgD3HRf+Qf/ANtZf/Rj1fqhov8AyD/+2sv/AKMer9ABRRRQBheMv+QSn/XZP610+lf8eEP+6K5jxl/yCU/67J/Wun0r/jwh/wB0UAXKKKKACiiigAooooAKKKKACqWqXkmnaddXMNrNfSwxM62tvt3ykDIVdxAyegyQKuUtID59vv2qtS03xZpfhu4+EPjSPWdTgnubW2JssyRwlBIQftGOPMT869j8G+ILvxPoMGoXuh33h24kLBtP1LZ5yYOAW2My89eCa8n8eHP7Xvwn/wCwDr3/AKFZ1q/Eq+uYfjp8KreO4mjgmbUPNiVyEfEKkbgODg9M01tHz/zZF9ZeX/APYPauX+J3j+z+FvgPWvFeoW9xd2Wk25uJYLUKZHUEDC7iBnnuRXnPjXUbmP8Aaz+GNkl1KlrL4f1uSW3WQhHKvZ7WZc4JGWwSOMnFXP2wM/8ADNHxCx1/stsf99LUu/KpLr/maQ96fKWPDPxt1/xFqWnW0nwo8W6XaXjoDf3bWnlQq2PnbbOW2gHJwCfavWv515D8OZPi8ZNF/t5PBw0HyU87+z0uhc7Noxt3OVz06j1rzr4c/DuP4seOviynibV9WutLsfETRWWn299LBHDmJGZsqwJOTwM4HpVvdq2xEXom3ufUeaK+Q9Ln8SXvwD8TyW2rX+o6p8PfF94NPnkmYzXFrZ3BxFIwPz/uiy85zgZ5r0TVPFH/AAtj4w/DzTtHu5homnWH/CUX7QSFVkMi7LWJtp5GWdip4+UVK12/rS4+/wA/wdj0LwfrXivXPFfiSTUtPg0zwvazC00qOWJ1vLlk4lnYltoiLcINoJA3ZwRXbV8eaL481/SfgVrqWGqXMGo6r8RdS0VNQZzJJaxSapKhKls42rwvYcV1fxI8Dwfs9W/hnxd4V1XVhcnXbDT9Str6/kuItQguZ0gferkgODIGDLjBX0oi+ZR87L77f5g9L/P8P+GPpij1r5W+KOgNpnxK8Raz8SdL8Uan4QleN9K1vw7dStBpUIjUOs0ETCRcMHYyBWGCM4xX0l4UudPvPDemTaTef2hpj26Nb3XmmTzY9o2tuPJyO5oWquN6Oxs0UUUwCiiigAooooAKKKKACiiigAooooAKKKKACiiigAooooAKKKKACiiigAooooAKKKKACiiigAooooAKKKKACiiigAooooAKKKKACiiigAooooAKKKKACiiigAooooAKKKKACiiigAooooAKKKKACiiigAooooAKKKKACiiigAooooAKKKKACiiigAooooAKKKKACiiigAooooAKKKKACiiigAooooAKKKKACiiigAooooAKKKKACiiigAooooAKKKKACiiigAooooA+SPi3/wAlE1f6xf8AolKKPi3/AMlE1f6xf+iUooA+t6KKKAKOsXx0zSru8CbzBC8uzOM4BOM9ulfO/gn9sH/hKfgN4o8eXXhxLLWtGn+yxaGl2X+0yyFRaKH2AjzTIg+6cZPXFfQmu2cmo6PfWkZAkmgeNS3TJUgZ9ua+WfB37IvijQ/EvgaS51PTR4esbK3l12whkdjdahaLOLR0zGAygzKxLbTmJeDUK/M10dv+CPSyfb8T0fwF+05Ya98EPDHxA13RL7T21kS50/SoJL9oSjupyVUHGFzkgda6H/horwItv4WuX1gxWHiW3muNOv5ImW3k8pS7ozkYRwoY7WwTtOOleI6b+y38Q9J+HHw18NDU9EvbXQ4ryHVtKnu7lLSdpZWeOZWRFaQoG+6wUE55702+/Y98T+Jvg34C+Fer6ppdt4a0d7m81K+sXc3MtxukNssKsmAg8zcxLZONuCMmtKlryce+noDSUrJ3Wv8AwD1Ky/aG0vWfF3ho6ffRx+HNV0W81dYrrT50upY4GGZUb7oXGThhlsgiq0P7aXwuuZreKHU9Qkku7X7XZBdNnP21RjcsHy/vGXuo5GDXO2vwF8ealrPhDU9auNBW50bwpqHh+4NlNIFlllCrDIimMAKVUFh/Cc43U7wt+zf4k0TWvgDdT3GltF4C0q/sdUEcjkySTW6xqYQYxuXcpJLbTjnB6VXKu+n/AA//AAPvHZWXoekaP+0R4J16LwbJY6lLOvi6eW20vFu4LSxKWkVwR+7KhTkNjniqV3+074AsdK1TUZ9TuIbXTfEEnhi4Y2r5F+oBMYAGSPmGGHBJryi2/Zh8c+HtB8EXmkXegzeJPC/iXUNXjtbyWYWk8F0zjaXVNysqtnAUjPGcc0zwv+yz420/R5otV1LQ7u/uPiUPGk0lu0qRm2Kx7kVWQkOGVgFJIxglsnAnR/15r9LkrWOu/wDw/wDwD0C1/bO+F11JAn9qX0LNejT5vP06ZPskzNtVZ8r+63EjBbGc10f7Q3xevfgv8P49f07SbfWr2a/trGK1urv7LGWlkCBmk2tgDOeleUeKP2XfFWseHfi/YwXWkLP4u8SWer2DSTSBUhieFmEpEZIbEbYC7hyORXpv7SHwhvPjV8P7Lw5bCydF1Wzu7mO/ZlikgilVpF+VWJJUEAYAPqKbStHXVtX/AA/4JEm4uSWqS09dTH+GH7Sn/CVaL4wm8R6C2k6h4VuY7a+i0ef+04pS4UqYWjXL/eAIxkU/W/2ktG1Twnb6t4b1KKyki1610e+t9asJ1mhaR1BjMS4ZXZWBVm+XnJ4p3xU+A9w3wrTwx8LItN8JNHqEF5NZxs9rBewq2ZIJJIgXUOOCwBPFeZaf+yP4qsdL1+GObQLRtU8U6XryW1rLOIYIrdVEsQZkZmb5flJ+91O3oErOWuiVv0/4JM3KMfd1bv8ALf8A4B69qn7UXgLSdb1zSWvL641DRRdG/htbCWXyBbxGSQsVXA+UHHPzEYFWl/aS8BNrUGmLqzG5m0QeIEYQPsNoULht2Mbiqk7evFU/hX8Hb3wjrXxUm1k2VxZ+LdblvoFt2Zm+zvCibZMqMNkNwCRg9a8Bg/Yn8dQfDAaOdZ0dvEMWopaxXvnShf7GWLyBGT5efM8tnO3G3J+93peXkv8Ag/16m+l9z221/aU0Nde1nUbzV7a18HWfhq119Vmspo7uNJZHUO5b5SrYUBQNwPXqK34f2ivB/wDwhreJriTUrGwNwlrFDeafLFczysMqscRG5yw6YFcZr37P+rN4w8U39jY6Dq2jX/hKz8P2+l6vJKIpXilZmEoVDhCrcFSTu7cV5/8A8Mg+MNS+GZ0jUNV003VjrseraToUl5c3NjbRKu1rYzsFl2tkkEL8vGARUX3/AK+1/kQvP+tP8z6b+H3xG0P4maPNqWhXEksME7WtxDPE0U1vMuN0ciMAVYAg4PYiuprzL4D/AA3l+G/hi9t7vQtF0C+vrxrue30K4muIWYqqhmklVWZyFwTgDAFemitJJX0FG/UdRRRSKCiiigAooooA8N+K/wDyNR/64j/0J65vw9/yH9M/6+Y//QhXSfFf/kaj/wBcR/6E9c34e/5D+mf9fMf/AKEKAPcdF/5B/wD21l/9GPV+qGi/8g//ALay/wDox6v0AFFFFAGF4y/5BKf9dk/rXT6V/wAeEP8AuiuY8Zf8glP+uyf1rp9K/wCPCH/dFAFyiiigAooooAKKKKACiiigAooooA4XXPhnHrXxZ8LeNzfvDLoVhfWK2YiBWYXJhJYtnjb5I4wc7u2KrfFT4Ut8RW0TUNP1y48NeItEna40/VLeFJghZdrq8bcOrLwRkexFegn1oo7LsLq/M8c8O/AG/sfinonxB1/xpeeJPEGn6fc6awktEt7dopShURxocR7SjEklmYvyQFUDs/i18Pl+Knw38QeE5L5tNTV7VrY3axCQxZIO4KSM9OmRXYUe1J2as9hptO63PI/C3w3+Juh6hpjX/wAVbfVNKtXQTWK+GY4WnjXAKeYJiVJAxuwceldL8PfhnH4C1jxffJfteHxBqbakyNGE8glFXYDk7h8uc8deldv3pad+orbeRwXw6+Fdv4D07xTZPeHU4de1m91eVZIggT7Q+5oup3AdM8Z9BWL8DfgLZ/BNNb8rV7jW5tRnBjmuYgjW9ugIit1wTlUBIB4znpXq34UgzxRtsH/Dnkel/s66Pb/DfxB4O1K+n1Cz1bWLzWRcxKIJbaae5a4UoQT80bMMN325I7VXsPgTrOq65ot1438e3njHTtDukvdP01tPhs0NwgxHLOyEmZlJ3D7o3YODXstFJaWsPvc8w8ZfDrxx4k1LUY7H4kNo+g3wKNYLosMs0KFQrLHOWGM8nLKxG72Fdp4L8J2HgPwrpfh/S1ZLDToFt4Q5y2FHUnuT1rc7UULTQBaKKKYBRRRQAUUUUAFFFFABRRRQAUUUUAFFFFABRRRQAUUUUAFFFFABRRRQAUUUUAFFFFABRRRQAUUUUAFFFFABRRRQAUUUUAFFFFABRRRQAUUUUAFFFFABRRRQAUUUUAFFFFABRRRQAUUUUAFFFFABRRRQAUUUUAFFFFABRRRQAUUUUAFFFFABRRRQAUUUUAFFFFABRRRQAUUUUAFFFFABRRRQAUUUUAFFFFABRRRQAUUUUAFFFFABRRRQAUUUUAFFFFABRRRQAUUUUAfJHxb/AOSiav8AWL/0SlFHxb/5KJq/1i/9EpRQB9b0UUUAV7i4jtLeSeVgkUal3Y9AAMk/lXB+B/2gPh18SNabSfDPi7TtX1JVZvssLkOQPvFQQM474zXW+KufDOrjv9kl/wDQDXyJ+yx+z7qOqeGfh98QvEPiVbuHQrG8fRdHtNLS1aBp1aNjPOGLTYXpkKAeazUvfae1geytufZ/Wl718C+D/Cuu2f7GNn4x0q91+88Q6p5cGrzLdzyyxabHdssqwxgnaRGpOUG4gnrWXqWpX0fgH4tf8Kzu/ENx8KEk0Xy7uP7S8igy/wDEz+zNIPMKiPbu25A5xWkvdk49b2/ryKlFxb6n3Ho/xI0TXPHWueErWWZtZ0aGKe7RoiEVZM7NrdD0P0rqvpX5z6vo1hfaH8fx8MxrN9pMnh3TZdOlcXPmSKr7nMLSgOVAB6ccNiuk1j4lat8Qfi54l1b4b3OqXxj+EskVhcJbzRJLercqW8kOqhnUMFJAOG4zkEVXKrLXX/gN/oTH3rtvr/l/mfc+ratZaHZm71C6is7VWVDLMwVQzMFUZPckgD3NJrOtWXh7SbvVNRuY7TT7SJpp7iQ/LGijJY+wFfBXirSvhv4i/ZfnuvDMusarc2V9pV14m+0G9aWJlkT7QXVx94DeWC5x19K+l/GUnh67/ZP8QHwg/n+HW8P3K2DDzDlAjDjf8xGQcZ69uMVjNuMZNbocLSlFdzs/h98bfAvxWknh8J+KLDW5oFDyRWzneqno20gHHviu5r4f0/4D6t4b/Z/8Q/EXWvFH9r62Ph7PY6db6fpiWCWkLQb8NsZmlkBCjeSDx0FWvHXg/wD4Q34K/DnULm/8QTeGte1Cxv8AxzqH2y4nmaFrYbmbaS0cW/YCqAADtW0kou1/6uzNO7Xn+h9rZor86tS8RXGk+AdPupdRmf4bL43ki0W28Qy3UNpfacbdsefKEeZYVkB2t5bAkrkAcja8P+CtFuvCXwb8OaH4xGu2OqeKL6PWdQ8N3syKd8Mjm3MhIkAVGRQW2sQAcDNJK7/ry/zHJqKu3/Wp99/jilr89f2r9aOnax4q0fQ7eTQNa8GabaPo1w39oXN/eRrtZpoWR1jjVF3bpHD5Cnd2ro/jp4cm8VeMPjNqV1f6tFNo3hXT7/T0tLyWFI7oCQ+aFUgFx0/GolJRjzFpapdz7mJx1pRXwrpGlXngvxtq9vp+oatJDrnwjudY1D7Vdyzedfh1UTZYna+1iOMdaxvB/wALbbVvGXwl0y91HX5rLxT4HkvtbVtUuB9qnjiRoyx3cbSxwBjoPStOXX+vP/ILP+vl/mfcureLrLR/EmiaLPFdvdax532eSG3d4U8pA7eY4GEyDxnqeBW7mvhX4a61rd9dfssG8vb64cx+JYZ3mkYs6x2zLGHJ+9gKMFqyfhjpN54cPwF8VW+o6u2s65r1/YalLcXszo9qDNtiKMxUKNoI4p8tml3/AM7DjHmgprqr/n/kfoDkYzS1+e3wVXw54m+OGhP4g8Y6ONb0bxBqgKX11cDVNakaV1t0lhZRCgTCshSSTcAoAU5FfoQvSo+yn3JeknHsOooooAKKKKAPDfiv/wAjUf8AriP/AEJ65vw9/wAh/TP+vmP/ANCFdJ8V/wDkaj/1xH/oT1zfh7/kP6Z/18x/+hCgD3HRf+Qf/wBtZf8A0Y9X6oaL/wAg/wD7ay/+jHq/QAUUUUAYXjL/AJBKf9dk/rXT6V/x4Q/7ormPGX/IJT/rsn9a6fSv+PCH/dFAFyiiigAooooAKKKKACiiigAooprEKCTwOpJoAdRXGeG/jJ4C8Za4+jaB408P63rCKzNYafqcE84CnDEorlgAevHFdlmgAoIzXOeO/H2hfDTw3deIPEd8dN0e1aNJbnyZJdrSOsaDbGrMcsyjgcZycDmuhVgy5ByMcUDsPooooEFFFFABRRRQAUUUUAFFFFABRRRQAUUUUAFFFFABRRRQAUUUUAFFFFABRRRQAUUUUAFFFFABRRRQAUUUUAFFFFABRRRQAUUUUAFFFFABRRRQAUUUUAFFFFABRRRQAUUUUAFFFFABRRRQAUUUUAFFFFABRRRQAUUUUAFFFFABRRRQAUUUhwoyTgUALSVx2g/GDwL4o16XQ9H8Z+H9V1qFmWTTrLU4ZbhWU4YFFYsCCCCMcV2OaAFopKrR31vLeS2qTxtcQqryQq4LqGzgleoBwcHvg0AWqKSigA4o4rN13X7Hw3ouoavqMzW+n2EEl1cyiNnKRopZjtUEnABOACT2BrH1D4meHtL8M6Z4gnvpDpepiE2bw2s0ss/mgFAsKoZCSCDjbkc5AwaW+wHV0VFG4kRWG4AgEbgVP4g8j8alpgFFFFABRRRQAUUViaD408P+KLrULbRtc0/VrjTpvs97FZXSTNbSf3JApJVvY4NAG3RRSUAFFYXjPxpo/wAP/Dd7r+vXf2DSbNQ89x5TybASADtRSx5I6A1rWl1HeWsVxE2+KRQ6NgjKkZB59jQK+tixRRVW8vrfT41kuZ47eNnWMPKwUFmYKqgnuSQAO5NAy1RSVzUvxM8JQeKk8MyeJ9Hj8Ryfd0hr6IXTcZ4i3bj+VAHTUUUUAFFFFABRRRQAUUUUAFFFFABRRRQAUUUUAFFFFABRRRQB8kfFv/komr/WL/0SlFereJ/hHpfibXLnUri8vIZp9u5Iim0bVCjGVPYDvRQB7DRRRQA2jFY3jDWn8N+FdZ1WKLzpLGzmuVi/vlELAfiRXgv7OvhXxB458KeHPinrvxG8T3+oatavezaHHdImkqsiMFhEATjZkHcGBLLzxkUl18g6I+k/pRiviD9nX4zeOPAfh34Y2GrWOjXXgzxNq9/pUE6zTtqSSCaZxKzH93s+UrtAJ4zu7V3eh/tSa7ffGzw/4dD6B4g8IeIr68060vtHsr6JrdoY3dWNzKPInJ2FWWPBUnqwFHbzKcXFu59ScUYr4K8D6rcxy/CCWS6nZf8AhYmvCT5ycqomIU88gY4FeifCX9rrxX8SvGOhvF4XSXwprV5cWqLbaZfrcaciFhHPNdOn2eVWKYKoVKbhy2DjTldk+5HRPv8A5tfofWNH8q+SPC/7UvxGvb7wtq+raF4Zj8I6x4mn8MlLSS4+3b1kkRJhklFX5AChyepBHQO8K/tOfELxl8SdO0q0tvD1rp/9q6ha6vpB0y6n1DSba1LbZJphOseZQvynYACwwGwcZ/1+X+YXXT+t/wDI+tuKK+VPg7+1h4r+JnjvR4G8Lq/hfWbm4t0ez0y+SXThHu2SzXMiCCRW24IQgqWAy1fVdPon3H1aOF+IXwk0r4iahpOpXN7qWkavpXmCz1LSbgQzxLIAHXLKykMFGcjtWh4B+Hej/DjSbmy0lJnN1cve3d1dSGWe6nfG6SRj1YgAcADAGBXVUUloAtJS0UwEwPSilooASorm2ju7eWGVQ8cilGU9wRgj8qlpaW4Hkfhv9mfwp4bu9HK3ms6hpujXAutL0i+vfMs7KVc7WRAoJK7jjcWxXrX8NLRTDzFooooAKKKKAPDfiv8A8jUf+uI/9Ceub8Pf8h/TP+vmP/0IV0nxX/5Go/8AXEf+hPXN+Hv+Q/pn/XzH/wChCgD3HRf+Qf8A9tZf/Rj1fqhov/IP/wC2sv8A6Mer9ABRRRQBheMv+QSn/XZP610+lf8AHhD/ALormPGX/IJT/rsn9a6fSv8Ajwh/3RQBcooooAKKKKACiiigAooooASobv8A495v9w/yqekqWrqw1ofEP7LfhPxtofwX17xbpKeHLr/QtX/siCDSQmp/axNJs33GfmUspG3HdfSuU+FfjD4hN4K1/XND8bxavrq+F55r3Qje3F5fLfYBEpilQLCyneNi/LwMA1+gUNvFaxiOKJYox0RFCj34FRQ6bZ2s0kkNrDFLJ990jClvqQOactb26rT8R8y3t1ufB/j+68J6v+x14xm8O+NtZ8V6rcf2K+rHVL+W5a1uGu48hVcYiYsGyq8DYvA77mseNb/4F+MvjBocmreI/EmhWeg6ffJHc6k7XEE88hjeRZSCYlHDHaMKAcCvtFdHsI45I0srdY5CC6CJQrEHIJGOTmpH0+2laVpLaJ2kUI5ZASyjoDxyPY1o5JrYOb3FF/1sfKv7GvifVrv4jfEnQptcm1rQLa10u/04vfz3samZJhIY55gHZSYwD1UMrYr6zzzioLext7T/AFFvFD8oT92gXgZwOOwyfzNWaTdyOrFoooqRhRRRQAUUUUAFFFFABRRRQAUUUUAFFFFABRRRQAUUUUAFFFFABRRRQAUUUUAFFFFABRRRQAUUUUAFFFFABRRRQAUUUUAFFFFABRRRQAUUUUAFFFFABRRRQAUUUUAFFFFABRRRQAUUUUAFFFFABRRRQAUUUUAFFFFABRRRQAVHN/qn+h/lT1oNJq4z4R/Zw+AOrfEDVLDxTe3ui2WhaF4u1DULcWen7dTmlWZ12ST/APPPn7o7cViaf8Y9RtfAuleF7nxNqw8a23xOlgvrV7if7RFaG8cosjE8RMhQKCdpBAAr9AobaK3XbFGkSZJKooAyep471C2l2TStKbSAyuQzSeUu5iOhJxkkUrXlFvZf5r/IUve5n1f/AAf8z4K8eap4l0/R/iR45g8Z+IotS8O+PoLLTrNNQcWiQPNEjxtF0dWDtw2QOMYrtrjT9N0v9qn4wfadb1e08S3mjW02hWa38yLdFreUOERSA4RiNo/hJOOSa+wW0+0kR0NtCyu29laMEM394jHJ96WSxtpLlbhoIjcKMLKUBcD0B6im9Ul2/wAkv+CTC8ZOTd7/AOd/+AfCXwr+NF3r3iL9mTR4fEeq6hqVtBqkXiO2M87F50s3Kx3BJw7hlJCtkgjNVvhP8XNb8TfGTwxrmgajqMNr4gTVPtWg3eq3F68EiK7RRTI6iOJwyjCpg4656195x6VZwyCSK0gjkDFwyRAEMRgnIHUjvSw6XZ27b4rSGJ9xbckag5PU5A6+9XOXPrsy76HxL8OfFljqPwR+ImtXHjzxBefFZfC+rTappVzqE6rp8iK2HSDAWJlO0Ky4ODkZ6jnPEnjnUp9N8PDxf418ReHLGL4e6fqHh6awu5YjqOqGEF97KCZnzt+Vic7iea+/Bpdmskz/AGSAPMMSsI1y4PUMccj60sumWc6xLJaQyLD/AKtWjBCY6YyOPwpX0t/XX/Md9Lf10/yPiOP/AIS/4meNGsPFPibxFoE8PwutdZurDSr97T/TxLKBI23kEc5Axu4DZAAr6V/Zj8T6l4z+AHgTW9XuWvNTvNMjee4frIwyNx9zjmvS/scDSmXyYzIyeWWKjcV9CfT2p0EEdvEsUSLFGowqooVQPQAdKfNvpu/1f+f4GPK+ZO/9af5fiT0UUVJoFNYhASeBTqYyrIpVgCCMEGk79APmC3+NccNv8ZPijYnUpfCNpaQ2ek3Vxdsba8uIVkSQ20JGFXzCq7wfnOfSvGv2d9U8RfCP4l+HovEHhHUfCcHjTRJ7e6v7yZGW+1NN9wsq7SSpKOy/NzwK+qvht+zno/wv1InS/EfiS60GPzfsvhm+vll020EjF2CR7AThmJG9mxnjFeoX2n2+pW5imjVhghWKglMjGRkcHBqbNK66/wDBKbu7f15H59/s1/EHUdXn+CdxpnjjxH4h8U6hbXEXibTL66lmhitEVwkjIw2qQVTbJklsnJNbulzeN7D9k/xL8QNN8V+JdT8RXM72DA3LTLY2K3+yWSGPBPmLFu+c5bA9hX178J/hVo3we8CaJ4V0czXFppNv9lhur0I1w6bmb52VVB5Y9ABXXR2kMMJijijSI5zGqAKc9eK2k027HPGMrK7Pz68ZeIBdfDn416P4U8Uaz4v+HNvotlNa6pqNxJePHfNKPNjjlcbm+UKxXnBOOOlbHh34tJ4D/wCFo3nh7WvE/jjwZp/hK0nu1e5kaW01KR/KZIZGXMRVG3sqjC7c44r7pj0yzgtzBHaQxwNyYliUKT6kAYoj020jSVEtYUSXmRVjAD/UY5/Gpb0saKPvczPgzwH4o8QXum/FfRLT4hto+jto1lfWGszalc3sFtI7kPtuJV34IAVinCk8YrG8RaxbeMP2ctIuNSvNcttO0Px/p8Oqammt3F3bSQb4/MuIbhsOYl4IOflbJBzjH6FrpVisJiFlbiIrtKCJdpX0xjpS/wBl2S2v2UWcAtT/AMsREuz/AL5xil2fa34O4K66/wBWsfCXxh8U67L8SP7L0vx2fDvhSDQbaTw1q2oatdQxzyZbfLuVW+0uMLlZCcjsc17bqXw80Hx98XPC2l61eaL/AGnpun23ie7trDT/ACr2/u45AiXLz7B+5BGNoO4nGcAV7/NpVjcLFHLZW8iRf6tXiUhfoCOPwqZbeITeb5SCXbs8wKN23rjPXHtRtb1uD1uT0tFFBQUUUUAFFFFABRRRQAUUUUAFFFFABRRRQAUUUUAFFFFAHNN1oobrRQB0tFFFAEM8EdxE8UqiSNwVZWGQQRggj0ryrwf+zT4T8A+KU1rQ7rXbSKN5Hi0capKdPiaRWVisBO3o7EDkA4IGQK9aNHaltqg8meU2f7N3g6x0fwhpkcd6bXwtfy6lp4a5yfNkLlt5x8y/O3HHaqHhf9lTwN4S1rRtSsBqjSaLfS3+mwT37vDaPKrrIqIeAreYxI65A54xXsmaM0xt33PLdL/Zx8H6Q3h828d7/wASPV7rWrQPcZH2ifd5m7jlfmOF7VJ4T/Z98NeB/Ejapol3rNhbedJOujR6g/8AZ6SSbt7LD0GS7HGcZOcV6fxScU7sXSx5Sn7OHhO38P6RpUC3iQ6TrT6/ZlrjJW7ZmfLcfMu5j8vp3ryD4a/s8/Erwz4q02abV5dItl1aTUdWlttXaay1ASO7zJHZsn7oOW5yxxkmvrX8aWktHcVla1jzLwf8AvDngLxM2r6Jd6xZwGWSZdIXUHNgjvncywngZJJxnAPQV6bjrS0UeQ+rYUUUUAFFFFABRRRQAUUUlAC0UUUAFFFFABRRRQB4b8V/+RqP/XEf+hPXN+Hv+Q/pn/XzH/6EK7D4laLf6h4kaS2tJp4xGFLRqSM7m4/WsHQ/DmqQa3p8slhcJGlxGzM0ZAUBgSTQB6/ov/IP/wC2sv8A6Mer9UNF/wCQf/21l/8ARj1foAKKKKAMLxl/yCU/67J/Wun0r/jwh/3RXMeMv+QSn/XZP610+lf8eEP+6KALlFFFABRRRQAUUUUAFFFFABTWYKpJ6AZNOooAqf2nB6yf9+n/AMKT+0oPWT/v03+FXKKAKn9pwesn/fp/8KP7Tg9ZP+/T/wCFW6KAKn9qQesn/fp/8KP7Ug9ZP+/T/wCFW6KAKn9qQesn/fp/8KP7Ug9ZP+/T/wCFW6KAKn9qQesn/fp/8KP7Ug9ZP+/T/wCFW6KAKn9qQesn/fp/8KP7Ug9ZP+/T/wCFW6KAKn9qQesn/fp/8KP7Ug9ZP+/T/wCFW6KAKn9qQesn/fp/8KP7Ug9ZP+/T/wCFW6KAKn9qQesn/fp/8KP7Ug9ZP+/T/wCFW6KAKn9qQesn/fp/8KP7Ug9ZP+/T/wCFW6KAKn9qQesn/fp/8KP7Ug9ZP+/T/wCFW6SgCr/akHrJ/wB+n/wo/tSD1k/79P8A4VbooAqf2pB6yf8Afp/8KP7Ug9ZP+/T/AOFW6KAKn9qQesn/AH6f/Cj+1IPWT/v0/wDhVuigCp/akHrJ/wB+n/wo/tSD1k/79P8A4VbooAqf2pB6yf8Afp/8KP7Ug9ZP+/T/AOFW6KAKn9qQesn/AH6f/Cj+1IPWT/v0/wDhVuigCp/akHrJ/wB+n/wo/tSD1k/79P8A4VbooAqf2pB6yf8Afp/8KP7Ug9ZP+/T/AOFW6KAKn9qQesn/AH6f/Cj+1IPWT/v0/wDhVuigCp/akHrJ/wB+n/wo/tSD1k/79P8A4VbooAqf2pB6yf8Afp/8KP7Ug9ZP+/T/AOFW6KAKn9qQesn/AH6f/Cj+1IPWT/v0/wDhVuigCp/akHrJ/wB+n/wo/tSD1k/79P8A4VbooAqf2pB6yf8Afp/8KP7Ug9ZP+/T/AOFW6KAKn9qQesn/AH6f/Cj+1IPWT/v0/wDhVuigCp/akHrJ/wB+n/wo/tSD1k/79P8A4VbooAqf2pB6yf8Afp/8KP7Ug9ZP+/T/AOFW6KAKn9qQesn/AH6f/Cj+1IPWT/v0/wDhVuigCp/akHrJ/wB+n/wo/tSD1k/79P8A4VbooAqf2pB6yf8Afp/8KP7Ug9ZP+/T/AOFW6KAKn9qQesn/AH6f/Cj+1IPWT/v0/wDhVuigCp/akHrJ/wB+n/wo/tSD1k/79P8A4VbooAqf2pB6yf8Afp/8KP7Ug9ZP+/T/AOFW6KAKn9qQesn/AH6f/Cj+1IPWT/v0/wDhVuigCp/akHrJ/wB+n/wo/tSD1k/79P8A4VbooAp/2nB6yf8Afp/8KX+04PWT/v0/+FW6KAKn9pwesn/fp/8ACj+04PWT/v0/+FW6KAKn9qQesn/fp/8ACj+1IPWT/v0/+FW6KAKn9pwesn/fp/8ACj+04PWT/v0/+FW6KAKn9pwesn/fp/8ACj+04PWT/v0/+FW6KAKn9qQesn/fp/8ACj+1IPWT/v0/+FW6KAKn9qQesn/fp/8ACj+1IPWT/v0/+FW6KAKn9pwesn/fp/8ACj+04PWT/v0/+FW6KAKn9qQesn/fp/8ACj+04PWT/v0/+FW6KAKn9pwesn/fp/8ACj+04PWT/v0/+FW6KAKn9qQesn/fp/8ACj+1IPWT/v0/+FW6KAKn9qQesn/fp/8ACj+04PWT/v0/+FW6KAKn9qQesn/fp/8ACj+1IPWT/v0/+FW6KAIoZlmTeu7HTlSv6GpaKKACiiigAooooAKKKKACiiigAooooAKKKKACiiigDmm60UN1ooA6WiiigCCaeO3heWV1iijBZncgKoHJJPYAd6yf+Ey0EaTaar/bum/2XeSJFbX32uPyJ3dtqKj7trMzcAAkk8CneL7WW88K6zbwKZJprOZEQdSxQgD8zXwxp/jbRta/Z3+D3w+sL5brxra+KNKS50ONSbqDyLzfK0iYyqqqkljx0rLmfNypdvxYP4b+p9+SSpDG7u21FBJPsOtZPhPxdpHjnQLXW9CvV1DS7oMYbhFZQ+GKnhgCOQRyK+UtH8Yatof7Umo6frPizVPEsGqXNyumpo2vsbWwVYz+4utPwFUrg4lXknGTXKeD/EPi3xzpv7N+hy+OfEmmReJD4hi1W7sdRZbm6jiXzEVnbcdw2bVb7yhjtK5rWKcldL+tQ+3yeTf3H3jxUU00dvG8krrHGgJdmIAAHck9BXwCnxQ8Vr8NfDtpq3jDWbvTbPxjqmg3D/202n397BCCIN98GQgqeWJdS3TnpX0f8ENGvdD/AGbDFqfiabxdqstpdTXWpyavLqe52D4RZpGY4VQq4XC5BIHJJUvdi5LoFrSUWeo+F/iR4S8bTzQ+HvFGi69NDzLHpeoQ3LIPVgjEj8a6TOOtfB/7L/7NPiDxf4N8HeLby80HwraQ6FdW1hdeFIJbbVLgzqyCS5nG35kPzLtzyBzVv4f+NPiJ8WLa80+LVdYi1b4d+FbzS9WijupFF/rbPJChlAIErCKASgnOGlBHWnP3brql/n/XzEtXfp/X9fI+wY/iN4VuNWu9Lh8SaTPqtmjSXGnw3sclxEqjLFolYsMAHtVvwn4s0nx14b07X9CvF1DR9QhE9rdIrKJEPRgGAI/ECvmX9nK4+Dy/C/SrTQrfQY/iDFos7Xoa3Qass3lnzzKxXzMluu488V5x8A5dc+Gmi/s66pbeLdfvrHxLp9xBf6LcXO+wWGOFnjEMAAVGXA+Ycsckk5xSdotp+X6k32sv60Pvril718MfCP4u6x4i/aH8GXel65rB0DxK+pR3mkap4hk1Bo/LRmTdbGNY7VgynARiSMg+9bRbzxm37KfiL4iz/EjxVNr0r3OnWkZv8W9nGmosiyKuNzS4XBZmbKnbjFHRPuX38j7vNRTTRwRNJIwSNQSzsQAAOpJPQV8IeKtF8Xaf4g+LWjxfFfx19j0DwhD4ptGGrbZBemKRzlwoYQlk/wBSpCYY8cCvaviBqWq+PP2HZdWury6Gsah4SgvZ57FvLkkkaBHfoOAxJyB2NS5e45rp/wAH/IpR96KfX/gf5n0PHIk0aujB0YZDKcg++afXw1e+IrOx8PfBrw3afEvxBpHw31SG7k1fxLba5IboXccCNDam8bc0Sbi2EBHTb2r2H4BeL/Evi39nDV77UvEEkd3BJqFrpviXUUG+S2jdlgupPlAY7QCWx82M1ctE32Moy5mkfQdYvjDxfo/gHw3f+INfvF07R7FPMubp0ZhGuQMkKCTyR0Br4W8P/Ffxj4b+DXxRs9P8Qa9q/jDSV077Vr6a42tWIt5pyk11aFlzC4jLsY8ELtUgDBpvjvxNcyfCv46eG9G8Y6t4/wDAlnoVndWus6xeG+kS6eVfMhWcgFlwFbaSdueMdKqMbvfQ2ppSkovQ+/7e6jvLeKeJg8Uqh0YdwRkH8qnyPxr4k+IHi7xp4N8Yat8OdO17VRP8Q7fSbjwzdfapC2nZIi1BIW3ZjCoqyAKQF35HWszxH4q+I918bvEOlQeMl8PXOh6nZ2mkQ6r4hltop7TCZLWnkst20uWUuzbgx4IxSUeZ2XV2Mm+Van3hRTI93lruxuwM46Zp9IoKKKKAOeuv+Pib/fP86iqW6/4+Jv8AfP8AOoqAF0X/AJB//bWX/wBGPV+qGi/8g/8A7ay/+jHq/QAUUUUAYXjL/kEp/wBdk/rXT6V/x4Q/7ormPGX/ACCU/wCuyf1rp9K/48If90UAXKKKKACiiigAooooAKKKKACkpahuLdLqGSGQbo5FKsMkZBGCOKTv0AjtbuG+j82CaOaLJXfG4Zcg4IyO4IIpba6hu1fyJY5gjFG8tw2GHUHHQj0r4c8VfBT44fs/+I9S8OfBK9/tHwN4ynZUGokyv4auHO6SZGJ4UruwTuGcZBbBb6Y/Z5+BOnfAHwDHoNnfXWrahPK13qWp3crO93cty8mCTgE9B+Jyeaa1Vwlo7bnpl1dQ2NrLcXEqQQRKXkkkYKqKBkkk9ABWP4X8aaV4zhuJdKkuZoYGCtLNZTW6PkZBRpEUSKR/EhI96wvjdpN7rnwt1+z09We4khXKLH5haMOpdQgI3ZUMNueelZnwr8S3mta3qsFtr914p8PRxI8OpXdtDC0U5JDQL5UcalQMHlSR0LGknq0J6WO28UeJbTwjodxqt8JPssG3f5SgtywUYBI7kVsV8t+PtN0O6XxomtWBn+ILarusp/IZro2IkiMYhkAyIAgG5VIUsH3AkmpJ/Dt9qPxiu5dW8R6JoWuLrayac0/h+aXVJbNSpEUN2LkKInUMrKI9oycgnmiPvKL2uTdqUvL/AIJ9Qe1FeO/tBafoM8eiXetz6Ld/Zml8jRfENobmzvmIX+AA7ZVIG18Nt3MNpzkeX+PdFvfFHieVtY1PRfBEVzYWqaBJqegS31zYO0QDmzmW4iEMqv6KScDORxRHV2NbaH1jurIuPE+n28Oquskl0+mYF1DbRNLIrFAwUKoJJKkHAz1r5w8QReG5vGXxTj1K2a88XrqlqNEm8lmmWb+zrX5rVhnymJ5YqQSu3cSMU7xN4f0vS7H4vwtpNnbeLryzjuEe3tFWeeMwQiRlZVyymQHIB5I5qoxu/lcyqt01dan1J9KWvl/xN4dvtV+MWsNq/iLRfD+pf2pAdEnvNAmuNQNqI4iUtbpblVRWYSKyhOpJYHIqHXvhzp95oeta1JpDya/J4+ggXUVVluUtJNUgjmjjkHzJC8TuGVSFYMxIOSaIx5ref/A/zNeU+jfEniiz8LR2D3gkK3t3HZReUob95ISFzyMDjk1se+cV8xeOPCOnaFJq+i2uitZ+FbfxFpVx/Z2m25jgjRlczMqIAApIBYKMHnPU5feaLpmqWd1a+FrVrXwNP4k0hLWDTUaCD7wF15KrgLGwKhtoAzvPUk1Pp3t+REmuTm9fwufTVGetfLnxW8ERR+OJdMk1Dw54O8Px2MMXh+S88OPdi0mJfzGtGjuIlglBKnIUk+uMg+q/F61f/hA9Hhv3k1DR0vrMayyocTWgYeYXUZzGTtLryCu4HIzQ9En5lfjpc7bTfElpqmt6tpcAkF1phiE5ZQF/eKWXac88DmthmCjJOB3r5S1bSYpNN8VDwVDa6d4Rm1XTzN5mnSXFh9iELB9turx7od23KqyjrkEZB9a+Aek2+g+EdSe08Q6brmkzXrT2sejaY2n2VigiRWhghaWQqu5WfAbGZGwBVWWvkQm9PM6vSPiT4e17XJdJs72Q38YZgk9rNCswU4cxO6KsoXIyULAZ5qPQ/ih4Z8R3F1BYan5j28bTFpbeWJJYxjdJE7qFlQZHzxll5HPIry1fH2ifGDxBfJYa3b29/b2d5ZaNp+Ctw8zoUeZwRwPlAVfTJPUVPpPizTLy+8Ez2glt4/CumTya1H5DhrNRbBPIcY+8WKkKMn5Caheemn+Y32SPTNF+KHhnXotRe21JoV0+Lz7n7dbTWhSIZ/e4lVSU+U/OMrweas+FfHWi+NFuP7JupZJLcjzYbm1mtpVDZ2t5cqK21tpw2NpwcE4rxK48T6X8XdH8U6tpuoRX2tS2Ea2+i2oZpUs45lkdWGBukcbgVHTcF65r0DwrrFr42+K0+u6JKbjSLXSPsVxcqjKjztMGVOQMsgVs+nmD1pq90mge11qdtN4v0eDxRb+HG1CL+3J4GuUshkv5SkAscDCjLDGSM9s4NZsnxO8OReI10N72aO/aXyFaSzmW3aTp5YnKeUXzxtDZzxiqeuabHD8UPC91DbKjSW98Zpo4wCx2wBdzAcnAwM+lcP471iy17x5pkGm+I7zWdQsdSgD+E3gjNtEUchpyyxrIGXkgtKycD5aFuk+pT2bPU/FXjLSvBlrDPqtxJEJn8uGK3tpbmaUgZIWKJWdsAEkhSAOTis3VPip4Y0fT9PvZtRee3v1Mlv8AYbWa7d0HVtkSswVTwSQAp4OK4Sa88O+EfGGh+I7dH0/wxCmrWlzcSRybYbyWaByzZyQHMcgB+7nAHUVwslq9naaVPf6tfeAbK5fVLu11m3iLSFJ7tmjtmDKyhXVhJtK7hkbWUjINdLdQXmfRGoeM9H03wnceJp79P7DgtjeyXiKzqIQu4uAoJPAzgAn2rEsfjH4T1DTdRvk1C4gi0+H7RcxXmn3NtOkecBxDJGsjKTwCFOTxXFeLLW9uP2TNdtxpo068bw3cRpZwxuQD5TBcKx3c8HBOeetR+OPBGrWXgzxD4k8Saxb6zrCaV9jj/s7Tms4IofMV2/dmWVmbKjJL4wOAKdT3IyaGl7sX3f8Akd94e+K3hnxRJJDp93dLdRwtc/ZL3Trm0uHiXG544po1eRQSASgPLAdSKo+Hfjh4T8Va8uj6bJrEmo7grxT6BqECxkgsN7SQKqZAOCxGa5ebxNpvxQ8WfD0+FpG1NdGvpL691KGNvKt4fsk0RiLkAFnaVBt7gFv4a6rwZbyR/Evx7I0bKkjWWxipAbETZwe9OKve/Qzk7Wt1PQKKKKRQUUUUAFFFFABRRRQAUUUUAFFFFABRRRQAUUUUAFFFFABRRRQAUUUUAFFFFABRRRQAUUUUAFFFFABRRRQAUUUUAFFFFABRRRQAUUUUAFFFFABRRRQAUUUUAFVr69t9Ns5bu7mjtraFS8k0jBVVRySSegqzVa8s4L63aG5gjuImxujlUMpwcjIPHWgChonijS/EegQa3pt4lzpU8fmx3QBVWQfxfMAQOD2rPh+IXhy6utEtotVia51uH7Tp8G1hJPFtDb9pGVGCOWA9OteeLDd3Hwe0Tw1bxSw3XiC5OmSMqsrQwMzvcPkYKkQpIFP94rXWeKtGt7XxX4PltbNI2W5ZGkiiGQixMFViBnaM4Gemazk+XX0HbdHf0UlLWggooooAKKKKACiiigAooooA5XxV8RtA8GXVvbapdTi6uFLpb2dlPdy7AQC5SFHZVBIG5gBz1rUs9cjvtRNrFbXW37Os/wBqaEpCQx4QM2CWwMkAcd8HivNfi1qmmeG/EUOrWnidvD/iwWZihtXtvtMGox7iywvHjcTuHBRlYZ6kHB0fhdcahqHi3xXfahZPZXFwlhI8LAhUY2y7lGfQ5+lRfYOp6fRRRVgFFFFABRRRQAUUUUAFFFFABRRRQAUUUUAFFFFABRRRQAUUUUAFFFFAHNN1oobrRQB0tFFFADQB1rMg8N6Ra6o+pQ6XZxajICHvEt0WZgeuXAyfzp2vaodG0PUL8R+abW3knEecbtqlsZ7ZxXz/APD/APas1nxLrngSPW/BH9iaL40tbmTSb+O/WdjPBE0rpIgUbVZVYq2ST3ApJ3dh2dj3y38MaPaalLqEOlWUN/MCJLqO3RZXz6uBk/iadD4d0q2ayaHS7OI2W/7L5cCL5G7htmB8u7vjGe9fOvh/9sDV9Q+EZ+IOoeBHsNGuvKtdLVdRV5L29eYxeWF2gqgYffbrg8VZvv2tNU8K6D42j8T+DBpnizwuLCWXTrW+E9tJDdvsim84KNqqdxfK/KBnmnrF2Bpxep3/AMSv2f8ARvH19pl7bXbaBdWLSsotbWGWCQyEF2eGRGRmJH3sZ963/hb8KtG+E3hNtB0lXmtprma8uJJwuZppW3SMVACgE/wgAADAFeGr+194isPD2t6vf+DdNu7aw8QWmgwNo+qtOt68/wDHEzRKpAJUdeuc4rqviR+0J4l+Gng/RNQ1Xw3oljr93HPcXejXeuANDGjfLsKRsZCy89AFPBNK3LHyf/Di+Jo9qu9FT+wLjS9Ol/sZWhaGGSzRVNuWBAZFxtBBORxjNct8JPhHpnwj0nUbe1vLzVtQ1S9fUNS1XUGVri8uGAUu5UADAVQAAAAK8k1D9rTWdUbQY/CXgga1Nqvhg+JlF3qC2ywojEPGx2tk8cEZyew61P8ADn9q7WPGmv8AgRb/AMDto3h7xrY3FzpV+1+ssvmQR73SSNVwqnB2tuJI5IFOzTff+v8AIlNSStr/AF/wT3u38L6NaX819BpFjDezArLcx2yLJID1DMBkg+5qSHw/pcK2SR6baRrYjFqqwKBACMHZgfLxxxivmPT/ANsPxbqcnheWH4aBrHxLf3WkadKNXQM11CzDLAoNsRCk7uvB4NSt+0ReeOtC8M3N/pOoeHNbsfH48L6lY6ZqxWMTR/ey4T99CQy5Uhc+oxQve27/ANfmV5/1/Wh9KWnhnR7GbzrXSrG2m8xpfMhtkRt5GC2QM5I4J61IugaWmmnTl060FgSWNr5C+USW3E7MYzu56dea+ctS/a813TNQvbuTwGp8J6f4nXw1eaoNSXzA7yKiSRxbMsAWG4EjHbNS+Iv2sNdtviVP4X0Xwpp12IPEEegMl9qTw3bFkVzcrCsTZhweGzzjtSWtkv62/wA0K9r+X/B/yZ9EyaHp00lxI+n2rvcxeROzQqTLHgjYxx8y4J4PHJqeOxtobJbSOCNLRU8pbdUAQIBjaF6AY4x0xXmXxh+MWoeAdd8JeGPD+gJ4j8WeJpJ1s7Sa6FtbxpCgeV3kKsQACMAKSTXlnjz4m/Efw/8AG/w0thobXmoSeE7q9vfDf9smOxilWRSzM+CGYDIVgueccCk3t5/8EZ9InwfoP9l/2Z/YmnHTd2/7H9kj8nd/e2bcZ98VfWytlsxaLBGtsE8vyAgCbcYxt6Yx2r5/1j9quT/hU/hPxhpGlaWLnW4ZJn03V9U+zvHs4YJtjdpPmyMhQOmSM1gw/Ge9+JHjT4Q69pNzf6RpPiDQNUu5tMW5ZUMiIAu9QQrFWBwxHHUYpvr5BFXtY+k9O8NaRo9pNbWGlWVjbTcyQ21ukaPng5AAB/GmweFdFttNl06HR7CLT5f9ZaJaosT/AFUDB/EV8keD/wBrG7+H3wr+GmlXQPiPxRrWm3Ooy3mt6g8aLDFKVy0pV2Z2YhQMY4OSBXdn9q7WdfuPBVl4T8DSanqfifSLnUo7bUL0Wv2ZoH2MrkoflJ6MOTkcVXmv6/qwRu7P5n0JJothcXVpdS2NvJdWgYW8zRKXhDDDBGIyuQADjGaivPDWkapeQ3t5pVldXkODFcT26PInptYgkfga+cZv2z5L7wN4E1jTPDltBe+JotQdhrGofZ7S1ksyVlhMwRizswIQbRuAJ4qpqP7amoaT4d8HG88L2Nn4k8QadJq5sbnUJEggt1baqmQxbjIx6Ltx70mmmB9WGgLg18wa1+2RcRzeAV03wsltB4p00ah9q8Q3psYYZPNMZtQ+xlMwIJwxUEYOea+mreQywxuwUMyhjtbI5HY9x70+WyuLTT7yeiiikM566/4+Jv8AfP8AOoqluv8Aj4m/3z/OoqAF0X/kH/8AbWX/ANGPV+qGi/8AIP8A+2sv/ox6v0AFFFFAGF4y/wCQSn/XZP610+lf8eEP+6K5jxl/yCU/67J/Wun0r/jwh/3RQBcooooAKKKKACiiigAooooAKKKKACiimSP5alirNjsoyT+FAD6Kqf2iP+fe4/79Gj+0R/z73H/fo0AWqWqn9oj/AJ97j/v0aP7RH/Pvcf8Afo0AW6Sqv9oj/n3uP+/Ro/tEf8+9x/36NAFHSfDdloupazfWsbrcatcrdXRZywaRYY4gQOw2xKMDuCe9bFVP7SX/AJ97j/v0aX+0R/z73H/fo0DLVFVf7RH/AD73H/fo0f2iP+fe4/79GgRbpKq/2iP+fe4/79Gj+0R/z73H/fo0AW6Kqf2iP+fe4/79Gj+0R/z73H/fo0AW6Kqf2iP+fe4/79Gj+0R/z73H/fo0AW6Sqv8AaI/597j/AL9Gj+0R/wA+9x/36NAFuiqn9oj/AJ97j/v0aP7RH/Pvcf8Afo0AW6Kqf2iP+fe4/wC/Ro/tEf8APvcf9+jQBboqp/aI/wCfe4/79Gj+0R/z73H/AH6NAFqlqp/aI/597j/v0aP7RH/Pvcf9+jQBboqp/aI/597j/v0aP7RH/Pvcf9+jQBboqp/aI/597j/v0aP7RH/Pvcf9+jQBboqp/aI/597j/v0aP7RH/Pvcf9+jQBboqp/aI/597j/v0aP7RH/Pvcf9+jQBboqp/aI/597j/v0aP7RH/Pvcf9+jQBboqp/aI/597j/v0aP7RH/Pvcf9+jQBboqp/aI/597j/v0aP7RH/Pvcf9+jQBboqp/aI/597j/v0aP7RH/Pvcf9+jQBboqp/aI/597j/v0aP7RH/Pvcf9+jQBboqp/aI/597j/v0aP7RH/Pvcf9+jQBboqp/aI/597j/v0aP7RH/Pvcf9+jQBboqp/aI/597j/v0aP7RH/Pvcf9+jQBboqp/aI/597j/v0aP7RH/Pvcf9+jQBboqp/aI/597j/v0aP7RH/Pvcf9+jQBboqp/aI/597j/v0aP7RH/Pvcf9+jQBboqp/aI/597j/v0aP7RH/Pvcf9+jQBboqp/aI/597j/v0aP7RH/Pvcf9+jQBboqp/aI/597j/v0aP7RH/Pvcf9+jQBboqp/aI/597j/v0aP7RH/Pvcf9+jQBboqp/aI/597j/v0aP7RH/Pvcf9+jQBboqp/aI/597j/v0aP7RH/Pvcf9+jQBboqp/aI/597j/v0aP7RH/Pvcf9+jQBboqp/aI/597j/v0aP7RH/Pvcf9+jQBboqp/aI/597j/v0aP7RH/Pvcf9+jQBbqK4uEtYJJpDtjjUsx9ABUP9oj/n3uP+/Rrn/F2tKLe3slguS11KFYJES3ljliB34GPxoA29H1eDW7Jbm3DhCxUrIu1gQcEEVfri9K16G08RXkEdrdRwXUfnxJJCynzFGHAB9tp/OnaDu1qxg1O5utSeeU79kLskaDJwoVeDgcEnJoA6iO+juFuPs5E7wMUZF4+YDO3J+op9pJJPbxyTQm3lZctEWDFT6ZHBriPD8cdmNfnjOoGRJ5VXdJIyj5QckE43e/Wn6brc1jDoV7cSXcltcWyxTGTcy78ZVue555oA7yiuHTWjPps91cS6jEdRuQLeO3Vt2wcKq54BYKSSPWqC61dWtr4htgNRiWG2EkX2l2eWMlTzuySBx3NAHo9UNP1aHUmuViDK9vIYpFYAEEfj0qhobi30+F3F9cSyRq0kk29snHUAnA/ACue1vWjoOqap5cU4a/tgYV2EZl+7x+YoA6vR9etNbtZ57Zm8uGRom3DBBHf6EYIPoaSw1k6ottNbWshtZgxMzlV24OBxnJzziuKuLkeFDe2UMUyre2cawgoQTIoEbfmCprZS6bTdY0KyiW6WBLaRWiCsAxAXBI79/wA6AOxorzSG4u38L3Gptfal9qgmmMWGbYFEjAKw6N6c5x0GK11vpPEGtTW80t/Bb28MbCK1LRlmYZJZlwcegzigDo9M1UalcX8QjKfZZvJJJzu+UHPt1rRrzW11WfSrDXBBLcPK2oiL7U8YLKCFBJ4xkDitS+Z/D91ps1vc6lP59ylvLDdOziRWzlgG6MOvy46UAdtRXnd1rF8LObS4JbwXtvcvJvIYu0Q+dQT1wQdv4Vak1a/1qHVLjTWugwhiigVQQufvOR2DEHaDjjFAHdUVzHhvUrdVuIUTU/PQr5sF4WkeMkdiSeD9cVuf2iP+fe4/79GgC3RVT+0R/wA+9x/36NH9oj/n3uP+/RoAt0VFDKJo9wVk5xhxg/lUtABRRRQAUUUUAFFFFABRRRQAUUUUAFFFFABRRRQBzTdaKG60UAdLRRRQBjeLLObUvDGr2lsnmXE9pNFGmQNzFCAMngZJHWvn79n39ldvCuk+CNa8XajrE2u6Dp8sNrol3dxzWumTTKUlaPZkFipI+8QAeMV9HX99BptjcXtzIsNtbxtLLI3RVUEkn6AGvPrX4++E7X4f6X4x8Q30fhfSdUYiz/tJwHmXJ2sqrkncoDYxkAjNStG5dx32Rnaf+zX4Zs/gdZ/C+e5vrzR7PLQXjuqXMcnnNKsisoADKzccdq87+JH7MupaX8OfFEHh681bxp4n8TXNlHrGpajeRJfPYwNlUt2YLErL2V8K2TuzXtGp/GzwLo2i6Xq174o06DTdURnsroy5S4CrubaRnJA7da57xV+1B8O/Ceh+F9Zn8QwXWl+Irz7FY3VoDKjMAxZjgZCrtweM5I4pyvJtvdj5nu9TzbwJ8A/F3jLQ5tJ8dXup6b4ds9UsdV0izumsWv0lgbewlNshiCMcDCkt15Fej/Ej9nfSfiR48s/Fcmtato+qQ6ZLo039nSqq3No7bzG25SV+Yk7kIPOM1qab8YtNm8QeKY7+80uy0PRrW3vBf/bPm8uVS26VGUbB0xyc1c0f44eA9e8Kan4l0/xTp91oemcXt4kh22/++CMr+I5qpO+j6f8ADEp267/8Ocx4Z/Zn8P8AhW60ua01HUXGneHZPDcSSMhBgdixc/LneM4Hb2qTw7+zbofhux+GttDqeoSp4FhuILIyGPM4mjMbGXC9QDkbcc11Phn4y+CfGcmrJofibT9TfSkMl6sEmfJQAneeOVwDyMjisHUP2hPCd94H8W654V1az8R3Xh+yku57OORkPyqSoOVyAdpG4Aipk92/63/zYoRSdorf/hihpf7M+g6RZeB7ZNT1F08J6rPq1qWMeZpJQ4ZXwn3RvONuDwOahtf2XfD9pJcOuq6kTN4yfxo2THxdNjMQ+X/V8f73vXe+HfHlpqHw10zxbq0kGj2dxp8V/cNLLiO3DIGOWOOBnGay7P47eAb7w3ea9B4osZNIs5UhuboMwELMQFDgjcoYngkYPrTS5W0v62/yQ07pW/rf/NnMat+zD4f1bwtquhy6pqSW+o+Io/EkkimPek6SrII1ymNmVA5Gcd68gHwl+L1v8Wdf17S7a80jUdT1z7SdQW5sJdINmrKi/K+66DmFVyoULuzggV9H6h8Z/BGlS6kl34lsIP7Nkt4bxnc7IHnIEKs2MAsSMc9+cU3R/jX4F8QaDqus6f4p0250zSn8u9uVlwtu3o2cEZ7cc9s0o+61JdP+B/khNaNd/wDglD4rfBWx+KVxoGonV9S8O+IdBlkl0/WdIdUnh8xNki4ZWUqy8EEGmW3wRso/E+m6/da3qmo6lZ6JLohmunRmnSRgzSuduS+R2wPatGz+NXgW+8NnX4PE9g2ji6jsnuzIVVJ5GVUR8gFSzMoG4DqO1Ytr8d9C1jxT4cttF1PSdS0LVbW+uDqCXhD5tiA/lpt+dQd25sjGO9Fr6P8ArT/IerOVtf2QNA0238IjT/Eeu6fdeHbK401Lq3ljV7m2mffJG/yYGT0ZNrD1rc8M/sz+H/Ca+C0s9R1Ex+FbG70+zSRkbzI7gncXO3JK54Ix75rSX9pj4WSTTRr460gvDb/amXz+THkDcvHzHJHyjJ9q2ZvjN4Hh8GWnix/E1h/wjt2dtvfrJlJT0woAyTweAM0WsrdA6+ZwP/DJuhWeieEbfSfEGtaNrHhm3ms7LWrR4vtDW8r73ikUoUdSQDyvBGRXU2vwRsYfG3hnxTcaxqV9qeh6ZcaYjTshFwsxDM8mFB3Ajjbge1aOpfG/wHpOi6Xq934r02DTdUEjWVy03yXHlrlwvqVHVeueMZrD8U/tN/D3wp4P0fxPLr8F7omq3i2Vtd2mZAzk4OQBkbe4xn2pp20/rUE7ao8Q8c/szeIfCNv4E8P+ErfWtb8NeHxqF1Hd6ddWKX4u7mYuwlS62wtCFYgFQXBH5+haH+z3r3izw74Z1jxh4ivdH+IWlxTWw1bR2hMn2V2ysEgKGNyAFyQoGc4r0XXPjp4C8NSaWmq+JrKwbU4UubTz9yiSNzhHzjABIIBbHSqmhfFiXWPjh4h8BCwjW10vSbXUk1BZSzSmZmG3bjAA25Byc5pq7v8AeDXNeXzMP4hfs4QfErR9M0fVvF+vNpFvaR2t1ZK0JS9KMW8xyYyyuc4LIVOAPSvXNPs49OsLe0gBWGCNYkBOTtAAH6CrXFFLuK2q8haKKKBnPXX/AB8Tf75/nUVS3X/HxN/vn+dRUALov/IP/wC2sv8A6Mer9UNF/wCQf/21l/8ARj1foAKKKKAMLxl/yCU/67J/Wun0r/jwh/3RXMeMv+QSn/XZP610+lf8eEP+6KALlFFFABRRRQAUUUUAFFFFABRRRQAUUUUAFFFYej+LtN17VNQ0+zmaaexKrMdhCZOeFY8HGCDigDcorC8U+LtN8H2KXWpStHG7hEWNCzMfYDsByT2Fa32qHz1g82MTsu8RlxuI9cdce9AE9Fc3qXjez0/WJNNS2vb66iVHmFnbmQQhs7d5HTOCfpW02oWyxySNcRLHEcSMzgBD6Mc8HkcGgC1RWdPr2mWt19mn1G0huC20QyTork4BxgnOcEH6EVLY6pZ6pG72V3Bdop2s0EquFPoSCcGgC2KKptq1gt+tk17bresMrbGVRIR6hc5/SsLQ/Hlp4j8R6lpdiiTxWB2S3KXCH5xjKhAd2OcbsYyCKAOqpPeuPb4l2a60dLfStYS6VTId1mQgjDbS5bONue9dMt9bPJFGLiIvMhkjUOMuoxlgM8gZHI9RQBborOl17TYPIEuoWsZuDiIPOo8w5xhcnnn0qPxFr9r4X0efUr0Stbw4DCFN7kswUAAdSSRQBq0Vy9n4+sLyS5t3t7yyvIYGuPst7AYXdAMkrk4P58VoyeJ9LtYbeS8v7awaeMSJHdTojEH2J5/CgDXormr/AMeaNpMm2+uo7WNrhLaOWR1CSMy7gQc9MdSa1P7e01ryO0/tC1+1SKGSDzl3sCMghc5IIoA0aKKKACiiigAooooAKKKKACiiigAooooAKKKKACiiigAooooAKKKKACiiigAooooAKKKKACiiigAooooAKKKKACiiigAooooAKKKKACiiigAooooAKKKKACiiigAooooAKKKKACiiigAooooAKKKKAEAxVV9PgfUEvCpNwiGNSScBScnj8Kt1jat4hh0S5P2wrBaiFpfPY9wRlceuDxQBcvNNt764tbiVSZbZy8TKxBBIwRx1BHaqkPhext7s3EQliZn8wxpKyxlvXaDis/SPH2m6loY1eST7LZSF2iMisGMa9WZcZXoetIvxG0U3Gk25nkWbUoRcQIYmyEK7gX/u5HY80dbAaq6BaLeXFyqur3CkSKrkKxIwTt6Zx3ouPDtjdaMmlyRMbNVVQu4ggDpz1qxY6nbairm3mEuw7WGCCD7g81Sk1S7ubueGwghkWA7ZJJnKgtjOBgHpQBPfaHZ6hZw28sbCOEqY9jFWQgYBBHI4qvH4W0+KO7VY3P2qPypmaRizL9SevPWrNxrVpYssd1MsUxAYpydufUgcD61meLfHekeDNKutQ1CZzFbqHeO3QyOVJABCjr1pxi5NRirtidkrs3oY1hiSNBhFAAHsKp6jotnqs1pLcxeZJav5kRyRhq5DxP8AF7R/DMC3c8oeyZIiskau7SGTO0KoHIAGSewyexro7/xjouj3Fpa6jqlpaXl0AYoXlAZ+M/KDyRWjpVEk3F6k88e5c1HRbPVbi0nuYt8tq++JskYP9amm0+Ce+gvHUmeFWVGycANjPH4CqL+LNFjujavqlmtz5Ym8lplD7CM7tpOcY5+lZ+j/ABK8M65YxXlrrFq0Mm7aWkA+7knPpwpPPapVObV0nYfNG9r6muug2a6XLp4jP2aQsWXccncxY89epNR3nhyyvpYpXWSOWNQiyQyMjFR2JB5H1qvbeNtBvDEI9XsyZlV4laZVMikZBUHBYEc5GaI/F+k31zHbWep2kl00uzyWkw5wfmwvUkfl60uWS6ApLuWrbw5p9ra3VuluPIuW3yoxJDHAGeenQUyz8M2VjcRzKskskfEZmlZ9nb5QTxxUNz4w02316DS2vrVLmQkeW8oDlsZ2gdzjn6VJH4v0Wa4eCPU7aSVCVcLICFIzwxHToevoaOWXYd0Wl0e1XU5b9Y/9KljETNk4Kj26VDB4dsrfS3sIUeG3Zi/ySEMGLbshuo5qO38XaJdQiaDVrO4iL+WHgnWQFsZ28E847daoa34/0vRodOl8z7TDdXy2DPER+5Yoz5cdQAF6YzyKahJu1tRcyte+hs6bo9tpXmGEMXkILySMWZsdMk1frlrL4leGb7SW1RNZtEsVZg0skqqFwxGTzwDjIz1HNXf+Ez0IQLOdVtVtmGVuGlAiYYzw5+U8e9DpzW6Dmi+pt0uOa4/T/idolzpd/qd1dxadYWl49mbi5lUIxUA7g2cYOeK3/wC3rD7DBeC6je2nGYpEO4OCM8YzmiUJwdpKwoyUldM0aK4o/FPRZvEtvotnPHeTyRys80MiskJRQxVwOQcH07Vo3HjjTIdK1K6jvLe+m02Ey3NvaTK5Uhc49vxx70/ZT0utx80e50fekrFsvFunXVja3Ms62nnwrPtmO0IGUNgt0yAfXtTf+E48Ptam4GtWItgcee1wojznGN+cE+2anll2FzJq9zd7UYrz7Vvi1a6U99D9m8+a2tWulaOQeW6B9ow3uAWz0xUWo/GSxi8RXGlWEKX72tstzcyLcIvl7vugKTliBycdARWyw9V/Z8xOpFdT0iisG68Z6Lpt5a2V7qlra31xhY7eSUB3YgHCg8nrTL7xto9q1xBFqNtPewqWa3jlDMMHGGxnbzxzWPLLsXddzoKNtclJ8StFGt6dpqXUVy11FNI81vKrrCY9mVbBJBO/8NpzitaHxZo1xHdvFqlpKlods7RzKwiPo2DxTdOUbNoSlF9TYpMVlf8ACTaW3nbb6CVoWVJBE4cqxBIUgZ5wCce1aMMyTRJIh3IwyD7VLVhktFFFIYUUUUAc03WihutFAHS0UUUAcp8UNBuvFHw58T6RZEi8vdOnt4cHGXaNgo/EkCvmweF/EXiTR/gp8QfC3hmHxf8A8Irp91pmoeFZrmK0kWSSJYmZGmxGGjeMgqxBweDX10zqilmO1QMkntXKeCfip4U+I9xqUXhrWoNYfTZBFdG3DbY2JYAbiADyrdCelSt215f1+InbS/8AX9WPjjUfh74s+FNx8GLS78PWOueIJ/EmrasPDiXirDCJkZxbRzMuzcoOASAuc8gc10UfwC+IWi/D3wjq8PhKzv8AxDp/j6bxZceFbbUIU8i1lWVDbxzuRGWXerEZCnnBOOfsO70XT9QvLO7urG2ubuzYvbTzQq7wsRglGIypI4JGOKszTxQbPMkSPewRdzAbiegHqfarvt/Xb/IjkTvfVf8AD/5nyd8RPgL45+IN98SL2HR4dNfVodHu7KzubyJoriS3O+W2dkJIGfk3EAHgjIrN1f4H/ELx1ovxl1658G23hW98U6JZaPp/haLUbeZ5Gg3FppJEIiXdv2gbicA5xxn7IorPlWpofLXiH4O+PdH8ca5rHgrS7PS5n8Dx6TYXTSQLGL5T/qymSemQGK7ckc1yHhv4C/EWbUPHGr33hy+spdc8CnSIrfUtdhvblr4SsxViG8uMMGyoVigA5KklR9qMwAJJwBzzVbT9RtdVtIruyuYby1lXdHNbyB0ceqsCQR9KOX9fxv8A5gtFp5fhb/I8L+JXwW8QePP2ULbwJatHYeI49MslMEs+1HlgMbNC0iEgBihXcMgEg9K4XRfhP4ls/AHxBntvhlrCeKfEFlb6V9n8ReJrbUVuFG5TKWEm1Y4g24fNuYHAUEYP1vR1NW/ecm+oL3beR+fvjT4QeKvgp+zf4n8Garptvq8X/CRaRc2PiCeZNmqtJdQgxTqGaRdjDbkrjaRjPIrrPGX7OXxD+K0fxE1+Xw7a+CbzU5tL+xeH4dUjZrtbNizO00Q2oXzhSeQANwWvsnVtHsNdtRa6lY22oWwdZRDdxLKm9WDK21gRkEAg9QQCKvUXvq+/+X+RPLqfGesfs8a/4g+Euv2lr4F1jTNc1jxBpN1e2eu+IrfUJLmC3niaWQuHKKAisNu4swUcZwK9O+J3wn1nVPjL4M1XQNFiXQdM0HVrGZ4JIoUilnjVYlCFgTuIPKqQO5Fe/YpaL/16qxcfcd12Pj3wZ+zf4j0vXf2cJ7vwpaxweFrfVB4hYy2zeRJLbFYtwDkykyHqu7B5OOtYd1+zL47h8E6BJDo9y11oXi3VdTGhafq8VlcT2lxI3lPBOr7EYKQQrMvGQcGvt2juKpyv/XnclrmtfofJ+hfs+6nb6v8ABee38G3Wm6Vo+t6rqmsWWratDfy2pngdY3d92JC0hVsJu2k9cDNc83wA8fab8NtQitfC0N7qll8RZfElnpDXtvGbuy80sNjliiFgchWKnjkCvtGj9KSdtV/W3+RTs4ODWn/D/wCZ8Z/Hb4X/ABi+LepeJbQ+GZ00PUtBtk0m1t9dt7aDTbkKxnhugp3XDFiNuAY/Vl6j1P4W/DTxL4e+O2r+ItS042+kT+FNL02O5M8T7riIN5qbQxYbcjkjB7E17ycUelEXy3t1F381b8v8h1FFFIAooooA566/4+Jv98/zqKpbr/j4m/3z/OoqAF0X/kH/APbWX/0Y9X6oaL/yD/8AtrL/AOjHq/QAUUUUAYXjL/kEp/12T+tdPpX/AB4Q/wC6K5jxl/yCU/67J/Wun0r/AI8If90UAXKKKKACiiigAooooAKKKKACiiigAooooASuTs9NuofGWuTQRfZ0ktIlhmkhJiLjd2BG7BIJAIPuK62igDifF2l6tdeAdUt737PqeqGNhGdPtGiByRgKhdzn1+bn0rcaS1/4Sa2VtNme8+ysV1DyMxom4ZjL9iTztrZ9aPSi4HmXjgraa7dXOiRa7beJ9kaI1nYTSWl2ByqyOUMOBkgszKV556Vg+Iv7Tt9D8W6O2i6lc6pqN7HcQi1s5HgZCYyzCUKUG3a3ylt3HANe2UlC0A8d8TeDX1CH4iTto73F1dXtsbZ/IJaRFggBKHGSAwcEr3B9K67w3op0rx5rrQWRtdPks7XYyRFY3dd4bBxgkDbnv0rtKWjpYDxrUNKud2r6WdIvJfEN1q5urXUFtHaIQl1ZH+0Y2KFUbSpYN8vCkEZ7DwDov9m6j4nlex+ytNqcjRyGLaZEKrgg45Gc+1dpRQtEJ6u5x8umyz/EmSd7eRrJ9JaFpSh2FjIPlz0zjPFeWNoPifS7WfW4dMvJ9Q8NyjSrG2WNi13bEOrugx8ykzRtn/ph7V9BdKKXSw+rZ4xP4aHha31LTb3RrzWGn0qC006W2s3uF8xUZWUsqkREuQ25io754rqPGunX8fwqFvLFPfX8Mdr5qW0TTOxWSMuVVQWJwCeATxXf+lKeBVdxHlHixrnx7dPcabpmpQ2mn6feAz3lnLbPPJJEVWJI5FVz6k7cdAMmuT1jT7u5utQhGk3V/pCabY2+qzR2sMktpJGhdkQyzxlCEZGO1ZOW6AjB+gs1z2o+A9E1XUJby5tGaabb5wSeVEmIGAZEVgr8AD5geAB0FQtNijzrVtLa6nvNVXSrm701dYs71PLs2lLW/k4LIiqWYDcMhQT7cVqRxrp/jxZtEtr66+33Mct5b32jTJFCpjVTJFcuiqpCqvybm5yAoOa9QSNI0VEAVFAUKOAAOgp+ataEi0UUUhhRRRQAUUUUAFFFFABRRRQAUUUUAFFFFABRRRQAUUUUAFFFFABRRRQAUUUUAFFFFABRRRQAUUUUAFFFFABRRRQAUUUUAFFFFABRRRQAUUUUAFFFFABRRRQAUUUUAFFFFABRRRQAUUUUAFFFFABWH4osbi8skks4lmu4WyiOQAcjB5PHQ5/CtyigDxKTwtrU3hXSLA2N7I1+FtLtImMbRRCRnmDA4GHTcoLEDLDuRXYeLNFu0/4RtNKs2ElvKQ2wBjGoQjBY8eoBbjNd5xRR1DyOd8O6fcW+oX888FxBFMkYT7TOJXyN27OGYDqOASMfiA+Jb3Rby7EVhJf29xIZlaB0VkYgAhg7LxxnIz9K6CigDmpIL+1utR22DXiXxDLIsiARnYFKvuIO0EZBUN1PHryPxM8L6hceCdStbW1kvbiRbGFBCu5n2zJu4HIAAJJPAGTXqXSk9qunN05qa6aiaurHzff+AddfT9esLjT7ua08P2bW2mBYmf7V5jFomjxnJiidojjuTWn40hm0+bxTpepeHr/UbzVY1Om6jBaNLFBiMAbpgCsWxhn5iM44zXvtU5tMsrq4SeW0gknX7sjxgsMdMEjIrueNlJpyW3/A/UwVFRTUXueHafpl3o/jM2miaZeajJfRA6gupaVPHFBJ5YVmiunRUwTj5VZ88gY4rD8L+DL+aw8I6cdBuobvTdQlF0tzYyJEsiwTlWLFArpuZMMCyk4Gc8V9MetAqo46UY2S/rVfqZSwylLmbPmvxrY69deIdQgGiay0tu9uLG3hsPOjkhBQszXBRo0IYv8ALG4IVQNvr6F4F8KzwahrGoTaO1ndy669wZJlAfysY+UnqvT7vB7Zr1LaOtLWE8U5QVNKxrGl7zbdzxQeAdRkvPiFHBp0j6nqD4s9Um2pGuYsjazHdnJwSoIyOTxXHeH/AADDqWj38epS+Klu4bE2d5ZyaMYEETSxmRo3jt18+QBWKhGfgtgc19N/jR04NaRxtSKaXl+CsRPDxm02fP51HULW302+bStQvtJ0zVY5oriLQ5bS8uk8tw+62Kq5ZSV+ZUUNnheCasLBqniS7l1EeHtWtIJvFUFzHDLbtDM0Is9vmkHGwZJUliMHg4Ne6vCjspKqxU5BIzj6elSY/Cplik3zKNmONFxVr6Hz3Y2tzo3h9LBtI1SxNvrE/wBumi0OS6kSJ2do2jURsswwQCyhwueQKp6bompabDod5qGia3c6Jaaxdyzwy2PmsFkbMcotYgWxgyAhY8DzBxgcfR/T60VSxj1Vtx+y13PnfTvD76bYpqd94c1j+w4tZvp/7PtbOR59sgXy5PJUFipwegJGeQORXV+DfDuuWfhSa4isZ4/tDXn2KxkYJNaRy7SjEOVwdyklSQQHxjIIr132o71FTFyqboIUVC1mfPGh+Hrq81jw3FY6FfWN7p+kXNje3E1hLAouWiAz5jIFkDMCdyswOevWsfT/AAPfTaalur+Im1u00qa2vLO50gQQA7MFFnSBVnBbJUq7E/KT3r6f2mlxW31+fb+tf8zP6rF212PG9W0HWbjwLo8Vzpt9dJZmzmubVGBV4E2mSMQg7mfAOVIycEAnOKq6pqjXWmWcVlpWrWGhXN3dtJLD4dle4WTI8pfIlhJRWDH52TaNuNw617bR6VhHEcr5mrmvsrJJPyPle8+HuuyfDzUVbSdSa8fwrdRiFrdjIZyZFWPaowXIbO1fbArtpPCN/bx/EKN9GcyNDax2U0VuWadRuHykDJIULkDkd69y2560VtUx86jba/q6f6GccOotNPY8Zjs30vU/EdjqOj3l3rGptu026TT5Z4dpjwqmdUKQ7cYO8r7ZzXEafovijxLqyXEWn6jFfXFhcpeQzacbK3huZIhlFZo1LgMCA25lPBBya+naKmGMdNtqOr0/AqdHn3eh862ugXOoeIrZ9C8O6hYzJo17ZPNNYSWnkzyRwKqlpFVWVWRm3KzA7vlJINS/8I3Jri2raXoWpafJp2izw6lDPYSwCafyiFjUsoE53ZIZCynjnmvoX1ooeMk+m2n9feONGytf+v6R5z4N8Ky6H4K01BpM8F+SsjLasiSwsE2hm3sAeOCCT1PBruNMkvPLEd5EFdUXMqMCHbHzYA6YNaHFFcMpOUnJ9TeMVFJIWiiipKCiiigDmm60UN1ooA//2Q==)"
      ]
    },
    {
      "cell_type": "markdown",
      "metadata": {
        "id": "zZ-8y3IjAZ6g"
      },
      "source": [
        "![algroitmicToolboxWeek1.jpeg](data:image/jpeg;base64,/9j/4AAQSkZJRgABAQEAYABgAAD/4SOyRXhpZgAATU0AKgAAAAgABgALAAIAAAAmAAAIYgESAAMAAAABAAEAAAExAAIAAAAmAAAIiAEyAAIAAAAUAAAIrodpAAQAAAABAAAIwuocAAcAAAgMAAAAVgAAEUYc6gAAAAgAAAAAAAAAAAAAAAAAAAAAAAAAAAAAAAAAAAAAAAAAAAAAAAAAAAAAAAAAAAAAAAAAAAAAAAAAAAAAAAAAAAAAAAAAAAAAAAAAAAAAAAAAAAAAAAAAAAAAAAAAAAAAAAAAAAAAAAAAAAAAAAAAAAAAAAAAAAAAAAAAAAAAAAAAAAAAAAAAAAAAAAAAAAAAAAAAAAAAAAAAAAAAAAAAAAAAAAAAAAAAAAAAAAAAAAAAAAAAAAAAAAAAAAAAAAAAAAAAAAAAAAAAAAAAAAAAAAAAAAAAAAAAAAAAAAAAAAAAAAAAAAAAAAAAAAAAAAAAAAAAAAAAAAAAAAAAAAAAAAAAAAAAAAAAAAAAAAAAAAAAAAAAAAAAAAAAAAAAAAAAAAAAAAAAAAAAAAAAAAAAAAAAAAAAAAAAAAAAAAAAAAAAAAAAAAAAAAAAAAAAAAAAAAAAAAAAAAAAAAAAAAAAAAAAAAAAAAAAAAAAAAAAAAAAAAAAAAAAAAAAAAAAAAAAAAAAAAAAAAAAAAAAAAAAAAAAAAAAAAAAAAAAAAAAAAAAAAAAAAAAAAAAAAAAAAAAAAAAAAAAAAAAAAAAAAAAAAAAAAAAAAAAAAAAAAAAAAAAAAAAAAAAAAAAAAAAAAAAAAAAAAAAAAAAAAAAAAAAAAAAAAAAAAAAAAAAAAAAAAAAAAAAAAAAAAAAAAAAAAAAAAAAAAAAAAAAAAAAAAAAAAAAAAAAAAAAAAAAAAAAAAAAAAAAAAAAAAAAAAAAAAAAAAAAAAAAAAAAAAAAAAAAAAAAAAAAAAAAAAAAAAAAAAAAAAAAAAAAAAAAAAAAAAAAAAAAAAAAAAAAAAAAAAAAAAAAAAAAAAAAAAAAAAAAAAAAAAAAAAAAAAAAAAAAAAAAAAAAAAAAAAAAAAAAAAAAAAAAAAAAAAAAAAAAAAAAAAAAAAAAAAAAAAAAAAAAAAAAAAAAAAAAAAAAAAAAAAAAAAAAAAAAAAAAAAAAAAAAAAAAAAAAAAAAAAAAAAAAAAAAAAAAAAAAAAAAAAAAAAAAAAAAAAAAAAAAAAAAAAAAAAAAAAAAAAAAAAAAAAAAAAAAAAAAAAAAAAAAAAAAAAAAAAAAAAAAAAAAAAAAAAAAAAAAAAAAAAAAAAAAAAAAAAAAAAAAAAAAAAAAAAAAAAAAAAAAAAAAAAAAAAAAAAAAAAAAAAAAAAAAAAAAAAAAAAAAAAAAAAAAAAAAAAAAAAAAAAAAAAAAAAAAAAAAAAAAAAAAAAAAAAAAAAAAAAAAAAAAAAAAAAAAAAAAAAAAAAAAAAAAAAAAAAAAAAAAAAAAAAAAAAAAAAAAAAAAAAAAAAAAAAAAAAAAAAAAAAAAAAAAAAAAAAAAAAAAAAAAAAAAAAAAAAAAAAAAAAAAAAAAAAAAAAAAAAAAAAAAAAAAAAAAAAAAAAAAAAAAAAAAAAAAAAAAAAAAAAAAAAAAAAAAAAAAAAAAAAAAAAAAAAAAAAAAAAAAAAAAAAAAAAAAAAAAAAAAAAAAAAAAAAAAAAAAAAAAAAAAAAAAAAAAAAAAAAAAAAAAAAAAAAAAAAAAAAAAAAAAAAAAAAAAAAAAAAAAAAAAAAAAAAAAAAAAAAAAAAAAAAAAAAAAAAAAAAAAAAAAAAAAAAAAAAAAAAAAAAAAAAAAAAAAAAAAAAAAAAAAAAAAAAAAAAAAAAAAAAAAAAAAAAAAAAAAAAAAAAAAAAAAAAAAAAAAAAAAAAAAAAAAAAAAAAAAAAAAAAAAAAAAAAAAAAAAAAAAAAAAAAAAAAAAAAAAAAAAAAAAAAAAAAAAAAAAAAAAAAAAAAAAAAAAAAAAAAAAAAAAAAAAAAAAAAAAAAAAAAAAAAAAAAAAAAAAAAAAAAAAAAAAAAAAAAAAAAAAAAAAAAAAAAAAAAAAAAAAAAAAAAAAAAAAAAAAAAAAAAAAAAAAAAAAAAAAAAAAAAAAAAAAAAAAAAAAAAAAAAAAAAAAAAAAAAAAAAAAAAAAAAAAAAAAAAAAAAAAAAAAAAAAAAAAAAAAAAAAAAAAAAAAAAAAAAAAAAAAAAAAAAAAAAAAAAAAAAAAAAAAAAAAAAAAAAAAAAAAAAAAAAAAAAAAAAAAAAAAAAAAAAAAAAAAAAAAAAAAAAAAAAAAAAAAAAAAAAAAAAAAAAAAAAAAAAAAAAAAAAAAAAAAAAAAAAAAAAAAAAAAAAAAAAAAAAAAAAAAAAAAAAAAAAAAAAAAAAAAAAAAAAAAAAAAAAAAAAAAAAAAAAAAAAAAAAAAAAAAAAAAAAAAAAAAAAAAAAAAAAAAAAAAAAAAAAAAAAAAAAAAAAAAAAAAAAAAAAAAAAAAAAAAAAAAAAAAAAAAAAAAAAAAAAAAAAAAAAAAAAAAAAAAAAAAAAAAAAAAAAAAAAAAAAAAAAAAAAAAAAAAAAAAAAAAAAAAAAAAAAAAAAAAAAAAAAAAAAAAAAAAAAAAAAAAAAAAAAAAAAAAAAAAAAAAAAAAAAAAAAAAAAAAAAAAAAAAAAAAAAAAAAAAAAAAAAAAAAAAAAAAAAAAAAAAAAAAAAAAAAAAAAAAAAAAAAAAAAAAAAAAAAAAAAAAAAAAAAAAAAAAAAAAAAAAAAAAAAAAAAAAAAAAAAAAAAAAAAAAAAAAAAAAAAAAAAAAAAAAAAAAAAAAAAAAAAAAAAAAAAAAAAAAAAAAAAAAAAAAAAAAAAAAAAAAAAAAAAAAAAAAAAAAAAAAAAAAAAAAAAAAAFdpbmRvd3MgUGhvdG8gRWRpdG9yIDEwLjAuMTAwMTEuMTYzODQAV2luZG93cyBQaG90byBFZGl0b3IgMTAuMC4xMDAxMS4xNjM4NAAyMDIxOjAzOjI3IDIzOjA2OjU2AAAGkAMAAgAAABQAABEckAQAAgAAABQAABEwkpEAAgAAAAMzNgAAkpIAAgAAAAMzNgAAoAEAAwAAAAEAAQAA6hwABwAACAwAAAkQAAAAABzqAAAACAAAAAAAAAAAAAAAAAAAAAAAAAAAAAAAAAAAAAAAAAAAAAAAAAAAAAAAAAAAAAAAAAAAAAAAAAAAAAAAAAAAAAAAAAAAAAAAAAAAAAAAAAAAAAAAAAAAAAAAAAAAAAAAAAAAAAAAAAAAAAAAAAAAAAAAAAAAAAAAAAAAAAAAAAAAAAAAAAAAAAAAAAAAAAAAAAAAAAAAAAAAAAAAAAAAAAAAAAAAAAAAAAAAAAAAAAAAAAAAAAAAAAAAAAAAAAAAAAAAAAAAAAAAAAAAAAAAAAAAAAAAAAAAAAAAAAAAAAAAAAAAAAAAAAAAAAAAAAAAAAAAAAAAAAAAAAAAAAAAAAAAAAAAAAAAAAAAAAAAAAAAAAAAAAAAAAAAAAAAAAAAAAAAAAAAAAAAAAAAAAAAAAAAAAAAAAAAAAAAAAAAAAAAAAAAAAAAAAAAAAAAAAAAAAAAAAAAAAAAAAAAAAAAAAAAAAAAAAAAAAAAAAAAAAAAAAAAAAAAAAAAAAAAAAAAAAAAAAAAAAAAAAAAAAAAAAAAAAAAAAAAAAAAAAAAAAAAAAAAAAAAAAAAAAAAAAAAAAAAAAAAAAAAAAAAAAAAAAAAAAAAAAAAAAAAAAAAAAAAAAAAAAAAAAAAAAAAAAAAAAAAAAAAAAAAAAAAAAAAAAAAAAAAAAAAAAAAAAAAAAAAAAAAAAAAAAAAAAAAAAAAAAAAAAAAAAAAAAAAAAAAAAAAAAAAAAAAAAAAAAAAAAAAAAAAAAAAAAAAAAAAAAAAAAAAAAAAAAAAAAAAAAAAAAAAAAAAAAAAAAAAAAAAAAAAAAAAAAAAAAAAAAAAAAAAAAAAAAAAAAAAAAAAAAAAAAAAAAAAAAAAAAAAAAAAAAAAAAAAAAAAAAAAAAAAAAAAAAAAAAAAAAAAAAAAAAAAAAAAAAAAAAAAAAAAAAAAAAAAAAAAAAAAAAAAAAAAAAAAAAAAAAAAAAAAAAAAAAAAAAAAAAAAAAAAAAAAAAAAAAAAAAAAAAAAAAAAAAAAAAAAAAAAAAAAAAAAAAAAAAAAAAAAAAAAAAAAAAAAAAAAAAAAAAAAAAAAAAAAAAAAAAAAAAAAAAAAAAAAAAAAAAAAAAAAAAAAAAAAAAAAAAAAAAAAAAAAAAAAAAAAAAAAAAAAAAAAAAAAAAAAAAAAAAAAAAAAAAAAAAAAAAAAAAAAAAAAAAAAAAAAAAAAAAAAAAAAAAAAAAAAAAAAAAAAAAAAAAAAAAAAAAAAAAAAAAAAAAAAAAAAAAAAAAAAAAAAAAAAAAAAAAAAAAAAAAAAAAAAAAAAAAAAAAAAAAAAAAAAAAAAAAAAAAAAAAAAAAAAAAAAAAAAAAAAAAAAAAAAAAAAAAAAAAAAAAAAAAAAAAAAAAAAAAAAAAAAAAAAAAAAAAAAAAAAAAAAAAAAAAAAAAAAAAAAAAAAAAAAAAAAAAAAAAAAAAAAAAAAAAAAAAAAAAAAAAAAAAAAAAAAAAAAAAAAAAAAAAAAAAAAAAAAAAAAAAAAAAAAAAAAAAAAAAAAAAAAAAAAAAAAAAAAAAAAAAAAAAAAAAAAAAAAAAAAAAAAAAAAAAAAAAAAAAAAAAAAAAAAAAAAAAAAAAAAAAAAAAAAAAAAAAAAAAAAAAAAAAAAAAAAAAAAAAAAAAAAAAAAAAAAAAAAAAAAAAAAAAAAAAAAAAAAAAAAAAAAAAAAAAAAAAAAAAAAAAAAAAAAAAAAAAAAAAAAAAAAAAAAAAAAAAAAAAAAAAAAAAAAAAAAAAAAAAAAAAAAAAAAAAAAAAAAAAAAAAAAAAAAAAAAAAAAAAAAAAAAAAAAAAAAAAAAAAAAAAAAAAAAAAAAAAAAAAAAAAAAAAAAAAAAAAAAAAAAAAAAAAAAAAAAAAAAAAAAAAAAAAAAAAAAAAAAAAAAAAAAAAAAAAAAAAAAAAAAAAAAAAAAAAAAAAAAAAAAAAAAAAAAAAAAAAAAAAAAAAAAAAAAAAAAAAAAAAAAAAAAAAAAAAAAAAAAAAAAAAAAAAAAAAAAAAAAAAAAAAAAAAAAAAAAAAAAAAAAAAAAAAAAAAAAAAAAAAAAAAAAAAAAAAAAAAAAAAAAAAAAAAAAAAAAAAAAAAAAAAAAAAAAAAAAAAAAAAAAAAAAAAAAAAAAAAAAAAAAAAAAAAAAAAAAAAAAAAAAAAAAAAAAAAAAAAAAAAAAAAAAAAAAAAAAAAAAAAAAAAAAAAAAAAAAAAAAAAAAAAAAAAAAAAAAAAAAAAAAAAAAAAAAAAAAAAAAAAAAAAAAAAAAAAAAAAAAAAAAAAAAAAAAAAAAAAAAAAAAAAAAAAAAAAAAAAAAAAAAAAAAAAAAAAAAAAAAAAAAAAAAAAAAAAAAAAAAAAAAAAAAAAAAAAAAAAAAAAAAAAAAAAAAAAAAAAAAAAAAAAAAAAAAAAAAAAAAAAAAAAAAAAAAAAAAAAAAAAAAAAAAAAAAAAAAAAAAAAAAAAAAAAAAAAAAAAAAAAAAAAAAAAAAAAAAAAAAAAAAAAAAAAAAAAAAAAAAAAAAAAAAAAAAAAAAAAAAAAAAAAAAAAAAAAAAAAAAAAAAAAAAAAAAAAAAAAAAAAAAAAAAAAAAAAAAAAAAAAAAAAAAAAAAAAAAAAAAAAAAAAAAAAAAAAAAAAAAAAAAAAAAAAAAAAAAAAAAAAAAAAAAAAAAAAAAAAAAAAAAAAAAAAAAAAAAAAAAAAAAAAAAAAAAAAAAAAAAAAAAAAAAAAAAMjAyMTowMzoyNyAyMzowNTo1NwAyMDIxOjAzOjI3IDIzOjA1OjU3AAAAAAYBAwADAAAAAQAGAAABGgAFAAAAAQAAEZQBGwAFAAAAAQAAEZwBKAADAAAAAQACAAACAQAEAAAAAQAAEaQCAgAEAAAAAQAAEgUAAAAAAAAAYAAAAAEAAABgAAAAAf/Y/9sAQwAIBgYHBgUIBwcHCQkICgwUDQwLCwwZEhMPFB0aHx4dGhwcICQuJyAiLCMcHCg3KSwwMTQ0NB8nOT04MjwuMzQy/9sAQwEJCQkMCwwYDQ0YMiEcITIyMjIyMjIyMjIyMjIyMjIyMjIyMjIyMjIyMjIyMjIyMjIyMjIyMjIyMjIyMjIyMjIy/8AAEQgAgQEAAwEhAAIRAQMRAf/EAB8AAAEFAQEBAQEBAAAAAAAAAAABAgMEBQYHCAkKC//EALUQAAIBAwMCBAMFBQQEAAABfQECAwAEEQUSITFBBhNRYQcicRQygZGhCCNCscEVUtHwJDNicoIJChYXGBkaJSYnKCkqNDU2Nzg5OkNERUZHSElKU1RVVldYWVpjZGVmZ2hpanN0dXZ3eHl6g4SFhoeIiYqSk5SVlpeYmZqio6Slpqeoqaqys7S1tre4ubrCw8TFxsfIycrS09TV1tfY2drh4uPk5ebn6Onq8fLz9PX29/j5+v/EAB8BAAMBAQEBAQEBAQEAAAAAAAABAgMEBQYHCAkKC//EALURAAIBAgQEAwQHBQQEAAECdwABAgMRBAUhMQYSQVEHYXETIjKBCBRCkaGxwQkjM1LwFWJy0QoWJDThJfEXGBkaJicoKSo1Njc4OTpDREVGR0hJSlNUVVZXWFlaY2RlZmdoaWpzdHV2d3h5eoKDhIWGh4iJipKTlJWWl5iZmqKjpKWmp6ipqrKztLW2t7i5usLDxMXGx8jJytLT1NXW19jZ2uLj5OXm5+jp6vLz9PX29/j5+v/aAAwDAQACEQMRAD8A9w1PUv7O+z/uHl86TZlei1h/8JqBEWOlXQcgbE/veo6dRnn0rqpYb2kb3sYVK3I7WCfxm9u0qto90zRtKG2cg7Bng45zWppmtPqGoXNo9nJA0C5LMcgnJGOntn6EU6mF5I83NcUK/NK1i7c3TQ2yShclsfhTobkyWgmMbZ7qOtch0E4ORmloAKKACigAooAKKACigAooAKKACigAooAgu7j7LZXFwVLeUjNtHfAzXNabrupve2Yu4swXYOAISvlnkgA9+BW9KnGUW2clevKFSMY7f8Gx0P8AaEf/ADxuODj/AFTUG/jGf3VxwN3+qbpWB1lpW3dAfxFLQAhOBk4A9zRnnt+dADdwyeV4689KUnaMnaB65oACoZdpVSPQ0gYAKBtAP3cHrQA7n0H50Z+nr1oAOfQfnSbxnGVz6ZoAC20ZYqB6k0uT7fnQAgbcoZcEHkEHrS8+g/OgA59B+dHPoPzoAOfQfnRz6D86ADn0H50c+g/OgA59B+dHPoPzoAOfQfnRz6D86ADn0H50c+g/OgBCMgggEHqKqW2lWdpOZoYFVz0O4nH09KpTaTS6kSpxk02ti3vHqv50ufpz71JYgcEZDKfoaUHPTB+hoAa6CRCjorKeoNQLp9qqhRbx4HrVKTSshNJjms7dlAaBCB0HpT1t4kjMaxKEPUCjnkFkRrY2ykFbeMEHIwOlDiKQ+Q0IYDsRx0pOTe4JJbES2NorKn2SPnJGRn/PWpP7Ptf+feP7278eP8BSGIum2iqqi2iwvTIp8lnbykGSBGI7mgAFlbA5FvH+VILC1Xbi3jG3GOOmOlAEkUEcP+qjVAey8CpOfQfnQAc+g/Ojn0H50AHPoPzo59B+dABz6D86OfQfnQAc+g/Ojn0H50AHPoPzo59B+dABz6D86OfQfnQAc+g/Ojn0H50AVv7Ptc5+zR1OkaxoqogCr0APSgCudOtWZi1uh3cnJqQJFaKSkQUMedvc0AMvoJ50RYLxrZgeoUNu46YNVjYalhgNXYZzj9wvHX/P4UAaS8KAW3MBgmloAKxQgk1u7QkqGjAyPwoA0olWN40VicK3J/CrFABRQAUUAFFABRQAUUAFFABRQAUUAFFABRQAUUAFZmuf8ekX/XVaAE1pEeKBXtbe4/ecLNKI8cHkH1rEhs0ACnR7TAY43X/rjpx9KALVjaW0c0U5s7S2aJg2Uut+Bg59OnFbwvLUlQLmE7s4w45x1oAkSaKQ4SRGPoGBrJT/AJD9x/uCgDRT/j4X/dP9KsUAFFABRQAUUAFFABRQAUUAFFABRQAUUAFFABRQAVma5/x6Rf8AXVaAJdTa2WFPtVq9ypbAVYt+D64rJUaTEoU6JcgZJwbctjIGfX2/KgB6ro5RJV0qdecYFswI3AjkenB/OkLaM75fSZjK4LAPbHLEAk8nv1oAvaVbaeA09rYvbuDg+ZGVPOD37VEn/IfuP9wUAaKf8fC/7p/pVigCG6aaO0leABpVQsqkZyR2qn/aNyJGT7BKwRwhccBsnqB6cfyoAb/al01nNKunyCRANiNn5ic+3t+valbVZgYVFhL5ku/5CeVClRk8f7X6UAMOsyC9FqbJ/MPP3u3PI456Uo1W7MZc6ZKABwNxyT+VAAdTuty7dPl2nsc56kY+vQ/SpJLy9zAYrPcGDeYCfu4Kgc/iT07UAQnWpBeC2+xPvxuxu5xk8jj2p6aneOM/2ZIPTL/X26cfrQAyXWLiCGSWXT3VUA5LY6/hUr6lcK7bbF3jwCjgnDcEnt64/OgCBdbmZpUWwkd4wCyBsNzntj6fnU51G7Egj/s18kkbt/y/nigCWG6uJVhdrYxh925WJyvPHb0qsNUvVklEmmyFVbapXPzctz06YC/maAHrqV0WG7TpQmeTnkdO2Pf9DS/2hdvHKUsHUiMsm49Tg4GPw9e4oAZ/aV4shR9OkJRSWZehx6e/Xjn60n9q3QTcdMmzkjbnnjH/ANf8qANaigArM1z/AI9Iv+uq0AO1ZGeKIL9s4frakAjg9c9qzI1lkbG7WkJPVtuMUABkZGj3R61v27iODuwOhxxn+dS28strKHMerzADBWQKQfegDatpxc20cwR0DjO2RcMPqKy0/wCQ/cf7goA0U/4+F/3T/SrFAEF4hktXUS+V0JfOMAHn9Kzns7+W222+ohlZCFkJ5PXByB9Dn296AutixHb6h9oVpblWjBHCnHHPtznj6Y960KACigAooAKKACigAooAKKACigAooAKKACszXP8Aj0i/66rQBJqpshDGL24MKl/kIcrk49RWUU0TDBdZmRmIJYXZ5x+NAE4fR8qv9oyNuVVGbhju9D7njr1rQs9QsJysNtdxyscsAJNxI70AXaxk/wCQ/cf7goA0U/4+F/3T/SrFAEF7aR31nJbS52SDBxj+tV7fSore0ht1mn2xZwd+Cc+uKVtbkci5+ck/s6LOfNuOuf8AWmpZLZJCSWcE91YjFMsYtiiuG82ckEdZTVmgAooAKKACigAooAKKACigAooAKKACszXP+PSL/rqtABrUiR28Ze4SBd/JeESA8elYsN/b5/e6rZuisM4ssZz0wfwoA0IrTUJ4oJba+tJISmUke15BxwQP/wBVTDTdRjbdFeWyMOmLUD+tAGjaidbWMXTI04HzlPuk+1Zif8h+4/3BQBop/wAfC/7p/pVigCOaUwxFxG8hBHyoOTzVKPVvMbBsbxAcctFQAsOqGWRUNjeJuIG5o+B+tWZbnymI8qVsc/KuaAGC9z/y73A6dUpFvd//AC7TjkDlPWgBxuyH2/Zp+mcheKPtf7tW8ib5mxjZyPegBv21tuRaXB68bR2/GrdABRQAUUAFFABRQAUUAFFABWZrn/HpF/11WgBmv6vPo1rDNBp8t6zyhCkecqPXoatz3DbjF9jeZe+CuO3UE/X8qCFK8nHsH2uU4/0SQE/wllyR6jmpFnkYgG3kAPfI/wAaCyesZP8AkP3H+4KANFP+Phf90/0qxQAUUAFQTWkcz7mLqe5RyufyoAb9hjP/AC0nx7SmkFhGAoEk+Fzj963f/wDVQAosYwpXzJ+Tn/Wt/jQLKMFT5k3ykEZlbt+NACCwiAx5k/THMrf40v2KPPLzH2MhoAPsMX9+b/v63+NOW1VZA++UkHOC5x+VAE9FABRQAUUAFFABRQAVma5/x6Rf9dVoA06zb2NTPv22pbp+9yCBxnmgBFsmdMrDZMpyRtBP6/gKfDb3UC5iS2QsBuHPGB0oAtQfaPn+0CMc/LszyPesxP8AkP3H+4KANFP+Phf90/0qxQAyRS8ZVXKE/wAQ6iq4trgAZvHPOTlRz7UAKlvOkis127KOqlRzTNRjmlhRYJp4mDZJhAJIx0OaBN2RTaK+aRmF1eKC2QojTA5rZoFGTfSwUUFBRQAUUAFFABRQAUUARTRvIgCStGc9QKh+zXHH+mPwOcIOaAJoI5IwwkmaXJ4JGMVLQAVma5/x6Rf9dVoAbruvWvh+1iuLpJXSSTyx5YBwcZ7/AEq1NdRxvhreZ/QrHuoIU05OPYauopgAWt0PbyTQdSQHAtro/SI+3+NBZYhmE6Fgjrg4w67TWWn/ACH7j/cFAGin/Hwv+6f6VYoAxfFl7cad4Yvbu1k8uaNAVbGccivKl8b68yIf7awzA7gYh8vPHOK9jL8PSqU3Kau7nmY2tUhUSi7aDv8AhNPEGSP7cj47+X1/8dqa18Za+dWsoG1ZZ45ZkVtiDGCwGORXbLB0LP3DlWJrX+I9nor5o90KKACigAooAKKACigAooAKKACigAqtewpNEqyDIDAigCwyq4wyg4ORkVSuIpGnLRxl+xxLtoAjjt5HfbJDLGDyZBcZPrj39KtfY4/783/fxqAJo08uNU3M20AZY5J+tZCf8h+4/wBwUAaKf8fC/wC6f6VYoAr30ZlspkWKOVipwki7lY+hFZT2MG9AmhWpG4qxMKjPTB9hyfXpVRnKOiZMoRluiP7NFnI8N2+NoONidefb6VqJpOnKVddPtVYYIIhXIP5VXtZ92L2cOxdorMsKKACigAooAKKACigAooAKKACigAqK4+4PrQBjDxRa2+h2WpX/AO5F0oIVQWwSM/kPWrdzd2IlxcKNxGQSpII4/wARTkuWTj2IhUUtBttNp0skccCKWVdy/Ken41oeafSkWHmn0qgkDjVZbgkbXUADvQBcT/j4X/dP9KsUARztKkJaGMSSZGFLYB555+lVLW61CWYLcacIYz/EJg23juMetAF+igAooAKKACigAooAKKACs+W61JLhkTTkkj3fLJ54HHuMdaAI/tuqk8aSBz/FcD/CtNSSill2sRyM9KAMr+0NVbds0fsCpe4A6+2O1PW91RiB/ZSpkclrgYB/AUAadFABUVx9wfWgDA0Oytb7wrpcd1bxzIsKMFkUEAgdat3qz+YxSS6UEgDygpA/A1dX+JL1M6aXKn5IZ5c+SfNv8Zz/AAVetVK26ZeVsgH97jcPY1BoTUz/AJa0APT/AI+F/wB0/wBKsUARztIsLNDGJZAOELbc/jULvdKvyWsbNhePMwM9+cf0oAY016JGVbCMqDwxmHI/LilWW8J+ayjA/wCu3/1qAE8y92Kfsce7HzDeOPx/z+NP3XO0nyEzj19v8aAFjN0ZsSQxLHnqDk4qxtHoPyoANo9B+VG0eg/KgA2j0H5UbR6D8qADaPQflRtHoPyoANo9B+VG0eg/KgCM7/NAEalMctnmpNo9B+VADZARGxjRS+PlB7mhASillAYjkehoAfgDoKKACorj7g+tAGP4Z/5FjTf+vdP5VLdQGW5IEcb5H/PUq35VpV/iP1Ip/AhBbSqysLWLgngyk56YPT61JFZqxLTW6ocAfLITmsyyzHBHEcoCMjHUml/5a0APT/j4X/dP9KsUAFRvvDfKikcdf1oAhD3XObaP2O/r+lLuuSDi2jGOmX6/pQAge6yM2sYHc+Z/9ajddAD/AEaM+uH/APrUAToCUBdArdwOadtHoPyoANo9B+VG0eg/KgA2j0H5UbR6D8qADaPQflRtHoPyoANo9B+VG0eg/KgCBzN5+1Fi2cck8ioppblceVFC/rl8U1a+oMasl9nDQQAeu+kWa+43WsHuBL/9aqtEWpIJroFR5EQ4+f8AedP0pPtF3uf9xFtHQebyaLR7iuyeCSVwfNjVD22tnNLcfcH1qXa+hSMfwz/yLGm/9e6fyq1/zET9P6VVX436kU/gRboqCwpn/LWgB6f8fC/7p/pVigBH+6ahoAKKACigAooAKKACigAooAKKAKsn/Hwfw/nUZ+8PoKAGr/7LSt/SgCQ/x/7xpW/1h+i0AS2v+vP0qe4+4PrQB//ZAP/hMehodHRwOi8vbnMuYWRvYmUuY29tL3hhcC8xLjAvADw/eHBhY2tldCBiZWdpbj0n77u/JyBpZD0nVzVNME1wQ2VoaUh6cmVTek5UY3prYzlkJz8+DQo8eDp4bXBtZXRhIHhtbG5zOng9ImFkb2JlOm5zOm1ldGEvIj48cmRmOlJERiB4bWxuczpyZGY9Imh0dHA6Ly93d3cudzMub3JnLzE5OTkvMDIvMjItcmRmLXN5bnRheC1ucyMiPjxyZGY6RGVzY3JpcHRpb24gcmRmOmFib3V0PSJ1dWlkOmZhZjViZGQ1LWJhM2QtMTFkYS1hZDMxLWQzM2Q3NTE4MmYxYiIgeG1sbnM6eG1wPSJodHRwOi8vbnMuYWRvYmUuY29tL3hhcC8xLjAvIj48eG1wOkNyZWF0b3JUb29sPldpbmRvd3MgUGhvdG8gRWRpdG9yIDEwLjAuMTAwMTEuMTYzODQ8L3htcDpDcmVhdG9yVG9vbD48eG1wOkNyZWF0ZURhdGU+MjAyMS0wMy0yN1QyMzowNTo1Ny4zNTU8L3htcDpDcmVhdGVEYXRlPjwvcmRmOkRlc2NyaXB0aW9uPjwvcmRmOlJERj48L3g6eG1wbWV0YT4NCiAgICAgICAgICAgICAgICAgICAgICAgICAgICAgICAgICAgICAgICAgICAgICAgICAgICAgICAgICAgICAgICAgICAgICAgICAgICAgICAgICAgICAgICAgICAgICAgICAgICAKICAgICAgICAgICAgICAgICAgICAgICAgICAgICAgICAgICAgICAgICAgICAgICAgICAgICAgICAgICAgICAgICAgICAgICAgICAgICAgICAgICAgICAgICAgICAgICAgICAgIAogICAgICAgICAgICAgICAgICAgICAgICAgICAgICAgICAgICAgICAgICAgICAgICAgICAgICAgICAgICAgICAgICAgICAgICAgICAgICAgICAgICAgICAgICAgICAgICAgICAgCiAgICAgICAgICAgICAgICAgICAgICAgICAgICAgICAgICAgICAgICAgICAgICAgICAgICAgICAgICAgICAgICAgICAgICAgICAgICAgICAgICAgICAgICAgICAgICAgICAgICAKICAgICAgICAgICAgICAgICAgICAgICAgICAgICAgICAgICAgICAgICAgICAgICAgICAgICAgICAgICAgICAgICAgICAgICAgICAgICAgICAgICAgICAgICAgICAgICAgICAgIAogICAgICAgICAgICAgICAgICAgICAgICAgICAgICAgICAgICAgICAgICAgICAgICAgICAgICAgICAgICAgICAgICAgICAgICAgICAgICAgICAgICAgICAgICAgICAgICAgICAgCiAgICAgICAgICAgICAgICAgICAgICAgICAgICAgICAgICAgICAgICAgICAgICAgICAgICAgICAgICAgICAgICAgICAgICAgICAgICAgICAgICAgICAgICAgICAgICAgICAgICAKICAgICAgICAgICAgICAgICAgICAgICAgICAgICAgICAgICAgICAgICAgICAgICAgICAgICAgICAgICAgICAgICAgICAgICAgICAgICAgICAgICAgICAgICAgICAgICAgICAgIAogICAgICAgICAgICAgICAgICAgICAgICAgICAgICAgICAgICAgICAgICAgICAgICAgICAgICAgICAgICAgICAgICAgICAgICAgICAgICAgICAgICAgICAgICAgICAgICAgICAgCiAgICAgICAgICAgICAgICAgICAgICAgICAgICAgICAgICAgICAgICAgICAgICAgICAgICAgICAgICAgICAgICAgICAgICAgICAgICAgICAgICAgICAgICAgICAgICAgICAgICAKICAgICAgICAgICAgICAgICAgICAgICAgICAgICAgICAgICAgICAgICAgICAgICAgICAgICAgICAgICAgICAgICAgICAgICAgICAgICAgICAgICAgICAgICAgICAgICAgICAgIAogICAgICAgICAgICAgICAgICAgICAgICAgICAgICAgICAgICAgICAgICAgICAgICAgICAgICAgICAgICAgICAgICAgICAgICAgICAgICAgICAgICAgICAgICAgICAgICAgICAgCiAgICAgICAgICAgICAgICAgICAgICAgICAgICAgICAgICAgICAgICAgICAgICAgICAgICAgICAgICAgICAgICAgICAgICAgICAgICAgICAgICAgICAgICAgICAgICAgICAgICAKICAgICAgICAgICAgICAgICAgICAgICAgICAgICAgICAgICAgICAgICAgICAgICAgICAgICAgICAgICAgICAgICAgICAgICAgICAgICAgICAgICAgICAgICAgICAgICAgICAgIAogICAgICAgICAgICAgICAgICAgICAgICAgICAgICAgICAgICAgICAgICAgICAgICAgICAgICAgICAgICAgICAgICAgICAgICAgICAgICAgICAgICAgICAgICAgICAgICAgICAgCiAgICAgICAgICAgICAgICAgICAgICAgICAgICAgICAgICAgICAgICAgICAgICAgICAgICAgICAgICAgICAgICAgICAgICAgICAgICAgICAgICAgICAgICAgICAgICAgICAgICAKICAgICAgICAgICAgICAgICAgICAgICAgICAgICAgICAgICAgICAgICAgICAgICAgICAgICAgICAgICAgICAgICAgICAgICAgICAgICAgICAgICAgICAgICAgICAgICAgICAgIAogICAgICAgICAgICAgICAgICAgICAgICAgICAgICAgICAgICAgICAgICAgICAgICAgICAgICAgICAgICAgICAgICAgICAgICAgICAgICAgICAgICAgICAgICAgICAgICAgICAgCiAgICAgICAgICAgICAgICAgICAgICAgICAgICAgICAgICAgICAgICAgICAgICAgICAgICAgICAgICAgICAgICAgICAgICAgICAgICAgICAgICAgICAgICAgICAgICAgICAgICAKICAgICAgICAgICAgICAgICAgICAgICAgICAgICAgICAgICAgICAgICAgICAgICAgICAgICAgICAgICAgICAgICAgICAgICAgICAgICAgICAgICAgICAgICAgICAgICAgICAgIAogICAgICAgICAgICAgICAgICAgICAgICAgICAgICAgICAgICAgICAgICAgICAgICAgICAgICAgICAgICAgICAgICAgICAgICAgICAgICAgICAgICAgICAgICAgICAgICAgICAgCiAgICAgICAgICAgICAgICAgICAgICAgICAgICAgICAgICAgICAgICAgICAgICAgICAgICAgICAgICAgICAgICAgICAgICAgICAgICAgICAgICAgICAgICAgICAgICAgICAgICAKICAgICAgICAgICAgICAgICAgICAgICAgICAgICAgICAgICAgICAgICAgICAgICAgICAgICAgICAgICAgICAgICAgICAgICAgICAgICAgICAgICAgICAgICAgICAgICAgICAgIAogICAgICAgICAgICAgICAgICAgICAgICAgICAgICAgICAgICAgICAgICAgICAgICAgICAgICAgICAgICAgICAgICAgICAgICAgICAgICAgICAgICAgICAgICAgICAgICAgICAgCiAgICAgICAgICAgICAgICAgICAgICAgICAgICAgICAgICAgICAgICAgICAgICAgICAgICAgICAgICAgICAgICAgICAgICAgICAgICAgICAgICAgICAgICAgICAgICAgICAgICAKICAgICAgICAgICAgICAgICAgICAgICAgICAgICAgICAgICAgICAgICAgICAgICAgICAgICAgICAgICAgICAgICAgICAgICAgICAgICAgICAgICAgICAgICAgICAgICAgICAgIAogICAgICAgICAgICAgICAgICAgICAgICAgICAgICAgICAgICAgICAgICAgICAgICAgICAgICAgICAgICAgICAgICAgICAgICAgICAgICAgICAgICAgICAgICAgICAgICAgICAgCiAgICAgICAgICAgICAgICAgICAgICAgICAgICAgICAgICAgICAgICAgICAgICAgICAgICAgICAgICAgICAgICAgICAgICAgICAgICAgICAgICAgICAgICAgICAgICAgICAgICAKICAgICAgICAgICAgICAgICAgICAgICAgICAgICAgICAgICAgICAgICAgICAgICAgICAgICAgICAgICAgICAgICAgICAgICAgICAgICAgICAgICAgICAgICAgICAgICAgICAgIAogICAgICAgICAgICAgICAgICAgICAgICAgICAgICAgICAgICAgICAgICAgICAgICAgICAgICAgICAgICAgICAgICAgICAgICAgICAgICAgICAgICAgICAgICAgICAgICAgICAgCiAgICAgICAgICAgICAgICAgICAgICAgICAgICAgICAgICAgICAgICAgICAgICAgICAgICAgICAgICAgICAgICAgICAgICAgICAgICAgICAgICAgICAgICAgICAgICAgICAgICAKICAgICAgICAgICAgICAgICAgICAgICAgICAgICAgICAgICAgICAgICAgICAgICAgICAgICAgICAgICAgICAgICAgICAgICAgICAgICAgICAgICAgICAgICAgICAgICAgICAgIAogICAgICAgICAgICAgICAgICAgICAgICAgICAgICAgICAgICAgICAgICAgICAgICAgICAgICAgICAgICAgICAgICAgICAgICAgICAgICAgICAgICAgICAgICAgICAgICAgICAgCiAgICAgICAgICAgICAgICAgICAgICAgICAgICAgICAgICAgICAgICAgICAgICAgICAgICAgICAgICAgICAgICAgICAgICAgICAgICAgICAgICAgICAgICAgICAgICAgICAgICAKICAgICAgICAgICAgICAgICAgICAgICAgICAgICAgICAgICAgICAgICAgICAgICAgICAgICAgICAgICAgICAgICAgICAgICAgICAgICAgICAgICAgICAgICAgICAgICAgICAgIAogICAgICAgICAgICAgICAgICAgICAgICAgICAgICAgICAgICAgICAgICAgICAgICAgICAgICAgICAgICAgICAgICAgICAgICAgICAgICAgICAgICAgICAgICAgICAgICAgICAgCiAgICAgICAgICAgICAgICAgICAgICAgICAgICAgICAgICAgICAgICAgICAgICAgICAgICAgICAgICAgICAgICAgICAgICAgICAgICAgICAgICAgICAgICAgICAgICAgICAgICAKICAgICAgICAgICAgICAgICAgICAgICAgICAgICAgICAgICAgICAgICAgICAgICAgICAgICAgICAgICAgICAgICAgICAgICAgICAgICAgICAgICAgICAgICAgICAgICAgICAgIAogICAgICAgICAgICAgICAgICAgICAgICAgICAgICAgICAgICAgICAgICAgICAgICAgICAgICAgICAgICAgICAgICAgICAgICAgICAgICAgICAgICAgICAgICAgICAgICAgICAgCiAgICAgICAgICAgICAgICAgICAgICAgICAgICAgICAgICAgICAgICAgICAgICAgICAgICAgICAgICAgICAgICAgICAgICAgICAgICAgICAgICAgICAgICAgICAgICAgICAgICAKICAgICAgICAgICAgICAgICAgICAgICAgICAgICAgICAgICAgICAgICAgICAgICAgICAgICAgICAgICAgICAgICAgICAgICAgICAgICAgICAgICAgICAgICAgICAgICAgICAgIAogICAgICAgICAgICAgICAgICAgICAgICAgICAgICAgICAgICAgICAgICAgICAgICAgICAgICAgICAgICAgICAgICAgICAgICAgICAgICAgICAgICAgICAgICAgICAgICAgICAgCiAgICAgICAgICAgICAgICAgICAgICAgICAgICAgICAgICAgICAgICAgICAgICAgICAgICAgICAgICAgICAgICAgICAgICAgICAgICAgICAgICAgICAgICAgICAgICAgICAgICAKICAgICAgICAgICAgICAgICAgICAgICAgICAgICAgICAgICAgICAgICAgICAgICAgICAgICAgICAgICAgICAgICAgICAgICAgICAgICAgICAgICAgICAgICAgICAgICAgICAgIAogICAgICAgICAgICAgICAgICAgICAgICAgICAgICAgICAgICAgICAgICAgICAgICAgICAgICAgICAgICAgICAgICAgICAgICAgICAgICAgICAgICAgICAgICAgICAgICAgICAgCiAgICAgICAgICAgICAgICAgICAgICAgICAgICAgICAgICAgICAgICAgICAgICAgICAgICAgICAgICAgICAgICAgICAgICAgICAgICAgICAgICAgICAgICAgICAgICAgICAgICAKICAgICAgICAgICAgICAgICAgICAgICAgICAgICAgICAgICAgICAgICAgICAgICAgICAgICAgICAgICAgICAgICAgICAgICAgICAgICAgICAgICAgICAgICAgICAgICAgICAgIAogICAgICAgICAgICAgICAgICAgICAgICAgICAgICAgICAgICAgICAgICAgICAgICAgICAgICAgICAgICAgICAgICAgICAgICAgICAgICAgICAgICAgICAgICAgICAgICAgICAgCiAgICAgICAgICAgICAgICAgICAgICAgICAgICAgICAgICAgICAgICAgICAgICAgICAgICAgICAgICAgICAgICAgICAgICAgICAgICAgICAgICAgICAgICAgICAgICAgICAgICAKICAgICAgICAgICAgICAgICAgICAgICAgICAgICAgICAgICAgICAgICAgICAgICAgICAgICAgICAgICAgICAgICAgICAgICAgICAgICAgICAgICAgICAgICAgICAgICAgICAgIAogICAgICAgICAgICAgICAgICAgICAgICAgICAgICAgICAgICAgICAgICAgICAgICAgICAgICAgICAgICAgICAgICAgICAgICAgICAgICAgICAgICAgICAgICAgICAgICAgICAgCiAgICAgICAgICAgICAgICAgICAgICAgICAgICAgICAgICAgICAgICAgICAgICAgICAgICAgICAgICAgICAgICAgICAgICAgICAgICAgICAgICAgICAgICAgICAgICAgICAgICAKICAgICAgICAgICAgICAgICAgICAgICAgICAgICAgICAgICAgICAgICAgICAgICAgICAgICAgICAgICAgICAgICAgICAgICAgICAgICAgICAgICAgICAgICAgICAgICAgICAgIAogICAgICAgICAgICAgICAgICAgICAgICAgICAgICAgICAgICAgICAgICAgICAgICAgICAgICAgICAgICAgICAgICAgICAgICAgICAgICAgICAgICAgICAgICAgICAgICAgICAgCiAgICAgICAgICAgICAgICAgICAgICAgICAgICAgICAgICAgICAgICAgICAgICAgICAgICAgICAgICAgICAgICAgICAgICAgICAgICAgICAgICAgICAgICAgICAgICAgICAgICAKICAgICAgICAgICAgICAgICAgICAgICAgICAgICAgICAgICAgICAgICAgICAgICAgICAgICAgICAgICAgICAgICAgICAgICAgICAgICAgICAgICAgICAgICAgICAgICAgICAgIAogICAgICAgICAgICAgICAgICAgICAgICAgICAgICAgICAgICAgICAgICAgICAgICAgICAgICAgICAgICAgICAgICAgICAgICAgICAgICAgICAgICAgICAgICAgICAgICAgICAgCiAgICAgICAgICAgICAgICAgICAgICAgICAgICAgICAgICAgICAgICAgICAgICAgICAgICAgICAgICAgICAgICAgICAgICAgICAgICAgICAgICAgICAgICAgICAgICAgICAgICAKICAgICAgICAgICAgICAgICAgICAgICAgICAgICAgICAgICAgICAgICAgICAgICAgICAgICAgICAgICAgICAgICAgICAgICAgICAgICAgICAgICAgICAgICAgICAgICAgICAgIAogICAgICAgICAgICAgICAgICAgICAgICAgICAgICAgICAgICAgICAgICAgICAgICAgICAgICAgICAgICAgICAgICAgICAgICAgICAgICAgICAgICAgICAgICAgICAgICAgICAgCiAgICAgICAgICAgICAgICAgICAgICAgICAgICAgICAgICAgICAgICAgICAgICAgICAgICAgICAgICAgICAgICAgICAgICAgICAgICAgICAgICAgICAgICAgICAgICAgICAgICAKICAgICAgICAgICAgICAgICAgICAgICAgICAgICAgICAgICAgICAgICAgICAgICAgICAgICAgICAgICAgICAgICAgICAgICAgICAgICAgICAgICAgICAgICAgICAgICAgICAgIAogICAgICAgICAgICAgICAgICAgICAgICAgICAgICAgICAgICAgICAgICAgICAgICAgICAgICAgICAgICAgICAgICAgICAgICAgICAgICAgICAgICAgICAgICAgICAgICAgICAgCiAgICAgICAgICAgICAgICAgICAgICAgICAgICAgICAgICAgICAgICAgICAgICAgICAgICAgICAgICAgICAgICAgICAgICAgICAgICAgICAgICAgICAgICAgICAgICAgICAgICAKICAgICAgICAgICAgICAgICAgICAgICAgICAgICAgICAgICAgICAgICAgICAgICAgICAgICAgICAgICAgICAgICAgICAgICAgICAgICAgICAgICAgICAgICAgICAgICAgICAgIAogICAgICAgICAgICAgICAgICAgICAgICAgICAgICAgICAgICAgICAgICAgICAgICAgICAgICAgICAgICAgICAgICAgICAgICAgICAgICAgICAgICAgICAgICAgICAgICAgICAgCiAgICAgICAgICAgICAgICAgICAgICAgICAgICAgICAgICAgICAgICAgICAgICAgICAgICAgICAgICAgICAgICAgICAgICAgICAgICAgICAgICAgICAgICAgICAgICAgICAgICAKICAgICAgICAgICAgICAgICAgICAgICAgICAgICAgICAgICAgICAgICAgICAgICAgICAgICAgICAgICAgICAgICAgICAgICAgICAgICAgICAgICAgICAgICAgICAgICAgICAgIAogICAgICAgICAgICAgICAgICAgICAgICAgICAgICAgICAgICAgICAgICAgICAgICAgICAgICAgICAgICAgICAgICAgICAgICAgICAgICAgICAgICAgICAgICAgICAgICAgICAgCiAgICAgICAgICAgICAgICAgICAgICAgICAgICAgICAgICAgICAgICAgICAgICAgICAgICAgICAgICAgICAgICAgICAgICAgICAgICAgICAgICAgICAgICAgICAgICAgICAgICAKICAgICAgICAgICAgICAgICAgICAgICAgICAgICAgICAgICAgICAgICAgICAgICAgICAgICAgICAgICAgICAgICAgICAgICAgICAgICAgICAgICAgICAgICAgICAgICAgICAgIAogICAgICAgICAgICAgICAgICAgICAgICAgICAgICAgICAgICAgICAgICAgICAgICAgICAgICAgICAgICAgICAgICAgICAgICAgICAgICAgICAgICAgICAgICAgICAgICAgICAgCiAgICAgICAgICAgICAgICAgICAgICAgICAgICAgICAgICAgICAgICAgICAgICAgICAgICAgICAgICAgICAgICAgICAgICAgICAgICAgICAgICAgICAgICAgICAgICAgICAgICAKICAgICAgICAgICAgICAgICAgICAgICAgICAgICAgICAgICAgICAgICAgICAgICAgICAgICAgICAgICAgICAgICAgICAgICAgICAgICAgICAgICAgICAgICAgICAgICAgICAgIAogICAgICAgICAgICAgICAgICAgICAgICAgICAgICAgICAgICAgICAgICAgICAgICAgICAgICAgICAgICAgICAgICAgICAgICAgICAgICAgICAgICAgICAgICAgICAgICAgICAgCiAgICAgICAgICAgICAgICAgICAgICAgICAgICAgICAgICAgICAgICAgICAgICAgICAgICAgICAgICAgICAgICAgICAgICAgICAgICAgICAgICAgICAgICAgICAgICAgICAgICAKICAgICAgICAgICAgICAgICAgICAgICAgICAgICAgICAgICAgICAgICAgICAgICAgICAgICAgICAgICAgICAgICAgICAgICAgICAgICAgICAgICAgICAgICAgICAgICAgICAgIAogICAgICAgICAgICAgICAgICAgICAgICAgICAgICAgICAgICAgICAgICAgICAgICAgICAgICAgICAgICAgICAgICAgICAgICAgICAgICAgICAgICAgICAgICAgICAgICAgICAgCiAgICAgICAgICAgICAgICAgICAgICAgICAgICAgICAgICAgICAgICAgICAgICAgICAgICAgICAgICAgICAgICAgICAgICAgICAgICAgICAgICAgICAgICAgICAgICAgICAgICAKICAgICAgICAgICAgICAgICAgICAgICAgICAgICAgICAgICAgICAgICAgICAgICAgICAgICAgICAgICAgICAgICAgICAgICAgICAgICAgICAgICAgICAgICAgICAgICAgICAgIAogICAgICAgICAgICAgICAgICAgICAgICAgICAgICAgICAgICAgICAgICAgICAgICAgICAgICAgICAgICAgICAgICAgICAgICAgICAgICAgICAgICAgICAgICAgICAgICAgICAgCiAgICAgICAgICAgICAgICAgICAgICAgICAgICAgICAgICAgICAgICAgICAgICAgICAgICAgICAgICAgICAgICAgICAgICAgICAgICAgICAgICAgICAgICAgICAgICAgICAgICAKICAgICAgICAgICAgICAgICAgICAgICAgICAgICAgICAgICAgICAgICAgICAgICAgICAgICAgICAgICAgICAgICAgICAgICAgICAgICAgICAgICAgICAgICAgICAgICAgICAgIAogICAgICAgICAgICAgICAgICAgICAgICAgICAgICAgICAgICAgICAgICAgICAgICAgICAgICAgICAgICAgICAgICAgICAgICAgICAgICAgICAgICAgICAgICAgICAgICAgICAgCiAgICAgICAgICAgICAgICAgICAgICAgICAgICAgICAgICAgICAgICAgICAgICAgICAgICAgICAgICAgICAgICAgICAgICAgICAgICAgICAgICAgICAgICAgICAgICAgICAgICAKICAgICAgICAgICAgICAgICAgICAgICAgICAgICAgICAgICAgICAgICAgICAgICAgICAgICAgICAgICAgICAgICAgICAgICAgICAgICAgICAgICAgICAgICAgICAgICAgICAgIAogICAgICAgICAgICAgICAgICAgICAgICAgICAgICAgICAgICAgICAgICAgICAgICAgICAgICAgICAgICAgICAgICAgICAgICAgICAgICAgICAgICAgICAgICAgICAgICAgICAgCiAgICAgICAgICAgICAgICAgICAgICAgICAgICAgICAgICAgICAgICAgICAgICAgICAgICAgICAgICAgICAgICAgICAgICAgICAgICAgICAgICAgICAgICAgICAgICAgICAgICAKICAgICAgICAgICAgICAgICAgICAgICAgICAgICAgICAgICAgICAgICAgICAgICAgICAgICAgICAgICAgICAgICAgICAgICAgICAgICAgICAgICAgICAgICAgICAgICAgICAgIAogICAgICAgICAgICAgICAgICAgICAgICAgICAgICAgICAgICAgICAgICAgICAgICAgICAgICAgICAgICAgICAgICAgICAgICAgICAgICAgICAgICAgICAgICAgICAgICAgICAgCiAgICAgICAgICAgICAgICAgICAgICAgICAgICAgICAgICAgICAgICAgICAgICAgICAgICAgICAgICAgICAgICAgICAgICAgICAgICAgICAgICAgICAgICAgICAgICAgICAgICAKICAgICAgICAgICAgICAgICAgICAgICAgICAgICAgICAgICAgICAgICAgICAgICAgICAgICAgICAgICAgICAgICAgICAgICAgICAgICAgICAgICAgICAgICAgICAgICAgICAgIAogICAgICAgICAgICAgICAgICAgICAgICAgICAgICAgICAgICAgICAgICAgICAgICAgICAgICAgICAgICAgICAgICAgICAgICAgICAgICAgICAgICAgICAgICAgICAgICAgICAgCiAgICAgICAgICAgICAgICAgICAgICAgICAgICAgICAgICAgICAgICAgICAgICAgICAgICAgICAgICAgICAgICAgICAgICAgICAgICAgICAgICAgICAgICAgICAgICAgICAgICAKICAgICAgICAgICAgICAgICAgICAgICAgICAgICAgICAgICAgICAgICAgICAgICAgICAgICAgICAgICAgICAgICAgICAgICAgICAgICAgICAgICAgICAgICAgICAgICAgICAgIAogICAgICAgICAgICAgICAgICAgICAgICAgICAgICAgICAgICAgICAgICAgICAgICAgICAgICAgICAgICAgICAgICAgICAgICAgICAgICAgICAgICAgICAgICAgICAgICAgICAgCiAgICAgICAgICAgICAgICAgICAgICAgICAgICAgICAgICAgICAgICAgICAgICAgICAgICAgICAgICAgICAgICAgICAgICAgICAgICAgICAgICAgICAgICAgICAgICAgICAgICAKICAgICAgICAgICAgICAgICAgICAgICAgICAgICAgICAgICAgICAgICAgICAgICAgICAgICAgICAgICAgICAgICAgICAgICAgICAgICAgICAgICAgICAgICAgICAgICAgICAgIAogICAgICAgICAgICAgICAgICAgICAgICAgICAgICAgICAgICAgICAgICAgICAgICAgICAgICAgICAgICAgICAgICAgICAgICAgICAgICAgICAgICAgICAgICAgICAgICAgICAgCiAgICAgICAgICAgICAgICAgICAgICAgICAgICAgICAgICAgICAgICAgICAgICAgICAgICAgICAgICAgICAgICAgICAgICAgICAgICAgICAgICAgICAgICAgICAgICAgICAgICAKICAgICAgICAgICAgICAgICAgICAgICAgICAgICAgICAgICAgICAgICAgICAgICAgICAgICAgICAgICAgICAgICAgICAgICAgICAgICAgICAgICAgICAgICAgICAgICAgICAgIAogICAgICAgICAgICAgICAgICAgICAgICAgICAgICAgICAgICAgICAgICAgICAgICAgICAgICAgICAgICAgICAgICAgICAgICAgICAgICAgICAgICAgICAgICAgICAgICAgICAgCiAgICAgICAgICAgICAgICAgICAgICAgICAgICAgICAgICAgICAgICAgICAgICAgICAgICAgICAgICAgICAgICAgICAgICAgICAgICAgICAgICAgICAgICAgICAgICAgICAgICAKICAgICAgICAgICAgICAgICAgICAgICAgICAgICAgICAgICAgICAgICAgICAgICAgICAgICAgICAgICAgICAgICAgICAgICAgICAgICAgICAgICAgICAgICAgICAgICAgICAgIAogICAgICAgICAgICAgICAgICAgICAgICAgICAgICAgICAgICAgICAgICAgICAgICAgICAgICAgICAgICAgICAgICAgICAgICAgICAgICAgICAgICAgICAgICAgICAgICAgICAgCiAgICAgICAgICAgICAgICAgICAgICAgICAgICAgICAgICAgICAgICAgICAgICAgICAgICAgICAgICAgICAgICAgICAgICAgICAgICAgICAgICAgICAgICAgICAgICAgICAgICAKICAgICAgICAgICAgICAgICAgICAgICAgICAgICAgICAgICAgICAgICAgICAgICAgICAgICAgICAgICAgICAgICAgICAgICAgICAgICAgICAgICAgICAgICAgICAgICAgICAgIAogICAgICAgICAgICAgICAgICAgICAgICAgICAgICAgICAgICAgICAgICAgICAgICAgICAgICAgICAgICAgICAgICAgICAgICAgICAgICAgICAgICAgICAgICAgICAgICAgICAgCiAgICAgICAgICAgICAgICAgICAgICAgICAgICAgICAgICAgICAgICAgICAgICAgICAgICAgICAgICAgICAgICAgICAgICAgICAgICAgICAgICAgICAgICAgICAgICAgICAgICAKICAgICAgICAgICAgICAgICAgICAgICAgICAgICAgICAgICAgICAgICAgICAgICAgICAgICAgICAgICAgICAgICAgICAgICAgICAgICAgICAgICAgICAgICAgICAgICAgICAgIAogICAgICAgICAgICAgICAgICAgICAgICAgICAgICAgICAgICAgICAgICAgICAgICAgICAgICAgICAgICAgICAgICAgICAgICAgICAgICAgICAgICAgICAgICAgICAgICAgICAgCiAgICAgICAgICAgICAgICAgICAgICAgICAgICAgICAgICAgICAgICAgICAgICAgICAgICAgICAgICAgICAgICAgICAgICAgICAgICAgICAgICAgICAgICAgICAgICAgICAgICAKICAgICAgICAgICAgICAgICAgICAgICAgICAgICAgICAgICAgICAgICAgICAgICAgICAgICAgICAgICAgICAgICAgICAgICAgICAgICAgICAgICAgICAgICAgICAgICAgICAgIAogICAgICAgICAgICAgICAgICAgICAgICAgICAgICAgICAgICAgICAgICAgICAgICAgICAgICAgICAgICAgICAgICAgICAgICAgICAgICAgICAgICAgICAgICAgICAgICAgICAgCiAgICAgICAgICAgICAgICAgICAgICAgICAgICAgICAgICAgICAgICAgICAgICAgICAgICAgICAgICAgICAgICAgICAgICAgICAgICAgICAgICAgICAgICAgICAgICAgICAgICAKICAgICAgICAgICAgICAgICAgICAgICAgICAgICAgICAgICAgICAgICAgICAgICAgICAgICAgICAgICAgICAgICAgICAgICAgICAgICAgICAgICAgICAgICAgICAgICAgICAgIAogICAgICAgICAgICAgICAgICAgICAgICAgICAgICAgICAgICAgICAgICAgICAgICAgICAgICAgICAgICAgICAgICAgICAgICAgICAgICAgICAgICAgICAgICAgICAgICAgICAgCiAgICAgICAgICAgICAgICAgICAgICAgICAgICAgICAgICAgICAgICAgICAgICAgICAgICAgICAgICAgICAgICAgICAgICAgICAgICAgICAgICAgICAgICAgICAgICAgICAgICAKICAgICAgICAgICAgICAgICAgICAgICAgICAgICAgICAgICAgICAgICAgICAgICAgICAgICAgICAgICAgICAgICAgICAgICAgICAgICAgICAgICAgICAgICAgICAgICAgICAgIAogICAgICAgICAgICAgICAgICAgICAgICAgICAgICAgICAgICAgICAgICAgICAgICAgICAgICAgICAgICAgICAgICAgICAgICAgICAgICAgICAgICAgICAgICAgICAgICAgICAgCiAgICAgICAgICAgICAgICAgICAgICAgICAgICAgICAgICAgICAgICAgICAgICAgICAgICAgICAgICAgICAgICAgICAgICAgICAgICAgICAgICAgICAgICAgICAgICAgICAgICAKICAgICAgICAgICAgICAgICAgICAgICAgICAgICAgICAgICAgICAgICAgICAgICAgICAgICAgICAgICAgICAgICAgIDw/eHBhY2tldCBlbmQ9J3cnPz7/2wBDAAMCAgMCAgMDAwMEAwMEBQgFBQQEBQoHBwYIDAoMDAsKCwsNDhIQDQ4RDgsLEBYQERMUFRUVDA8XGBYUGBIUFRT/2wBDAQMEBAUEBQkFBQkUDQsNFBQUFBQUFBQUFBQUFBQUFBQUFBQUFBQUFBQUFBQUFBQUFBQUFBQUFBQUFBQUFBQUFBT/wAARCAKDBQADASIAAhEBAxEB/8QAHwAAAQUBAQEBAQEAAAAAAAAAAAECAwQFBgcICQoL/8QAtRAAAgEDAwIEAwUFBAQAAAF9AQIDAAQRBRIhMUEGE1FhByJxFDKBkaEII0KxwRVS0fAkM2JyggkKFhcYGRolJicoKSo0NTY3ODk6Q0RFRkdISUpTVFVWV1hZWmNkZWZnaGlqc3R1dnd4eXqDhIWGh4iJipKTlJWWl5iZmqKjpKWmp6ipqrKztLW2t7i5usLDxMXGx8jJytLT1NXW19jZ2uHi4+Tl5ufo6erx8vP09fb3+Pn6/8QAHwEAAwEBAQEBAQEBAQAAAAAAAAECAwQFBgcICQoL/8QAtREAAgECBAQDBAcFBAQAAQJ3AAECAxEEBSExBhJBUQdhcRMiMoEIFEKRobHBCSMzUvAVYnLRChYkNOEl8RcYGRomJygpKjU2Nzg5OkNERUZHSElKU1RVVldYWVpjZGVmZ2hpanN0dXZ3eHl6goOEhYaHiImKkpOUlZaXmJmaoqOkpaanqKmqsrO0tba3uLm6wsPExcbHyMnK0tPU1dbX2Nna4uPk5ebn6Onq8vP09fb3+Pn6/9oADAMBAAIRAxEAPwD9U6KKKACiiigAooooAKKKKACiiigAooooAKKKKACiiigAooooAKKKKACiiigAooooAKKrPqFtG217iJG9GcA/zqaORJV3IwdfVTkUAPooooAKKKKACiiigAooooAKKKKACiiigAooooAKKKKACiiigAooooAKKKKACiiigAooooAKKKKACiiigAooooAKKKKACiiigAooooAKKKKACiiigAooooAKKKKACiiigAooooAKKKKACiiigAooooAKKKKACiiigAooooAKKKKACiiigAooooAKKKKACiiigAooooAKKKKACiiigAooooAKKKKACiiigAooooAKKKKACiiigAooooAKKKKACiiigAooooAKKKKACiiigAooooAKKKqRXvmX81ttwY1Dbs9c+1AFuiiigBvakpa47xz8VvDnw9jH9rX3+ksMpaQDfK3vtHQe5wPerp051ZKFNNt9jCtXpYeDqVZKKXc7EmjtXzxdftgWCTkW3h24mi/vyXCo3/fIB/nXUeEf2mfCniS4jtb0zaLcScKboDyifTeOB9SAPevRnleMpx55U3Y8iln2W1p+zjWV/u/E9hoqOORZkV0ZXQjIKnI+uakryz3t9UFFFFABRRRQAUUUUAFFFFABRRRQAUUUUAFFFFABRRRQAUUUUAFFFFABRRRQAzp2ryD4jftW/DX4X6o+ma1r6tqEfElraRmZ4z6Njofaui+PHiq88E/B/wAW65p4Y3tnp8jwlRkqxGAw9xnP4V8h/sT/ALOfg/4reDdT8Z+Mbb/hI9Sub2WBYbiRtsQABZiAeWYknJ6DGMc5+nyzL8LPC1MfjpP2cWklHdt69djwsdjK8a8MLhUueSvd7WR9f/DL42eDfi7aSTeF9agv2j/1kH3ZU/3lPOKxfiX+038PPhLfGw1/X401ADLWdspmlQf7Sr0+h5rhI/2b/Bv7PNt4w8feFYL1dWg06aS1tnuC0VvhDwq9WGcH5ienGK8F/Ym+BHhn45Wvibxv44RvEF+NQa2W1uJG27iiSNK4ByxO/aAeBtPU4x20cuyycauNc5+whZWsuZt9O1l3OWpjcdF08Nyx9rK+t9LI+x/hl8dvBPxeWT/hGNchvZ4xl7V8pMo9dp5x7il0f47+DNe+I114Gs9V83xLbvIklp5ZGGQEsM9OADXxH+0R8O9N/Zd+PHgnXPAkk2npfSLI+nRuWwBIquq5OSrqSMHv0rW+DMhm/wCChniCQjaXuL9iPTMRNds+H8JKhPGUZt03TlON7XTTs0/+Acsc3xEascPVilNTUXbaz6o+zfid8avCXwdispPFOpf2cl4zLCfLLbioBPT61h6z+058OPD/AIsm8O6l4hjs9UijSWRJkIVVaISqS3TlGU/jXzd/wU6Yf2Z4IHfzpzj22rXm/wAQ/AOnfET9tTRdA1FT9hv7fTTdKrbWkUWkW4ZHcqoFVluQYPE4SnicRKS5ozk7W+y0tPvYYzNsTRxE6FJJ2cUr/wB5H2zb/tPfDy48Bz+MG1r7NoMdw1qlxPGymaReqxr1b8KxfA/7ZXws8fa1FpWn681reSv5cS30DQLI3YKW457V4x+2l+zPqV14F8NJ8O9B3aTory+do+nJ8w34Pmqg5c5GDjLdD615N4N+KHwcvvFWg2nxE+FH/CIanYOsbXWmho7dpOAGmhIVsA4PViPpTw2SZfi8G8RQU5tt6JxvFLa6erv5CrZnjMPiFSq8sUratOzvvZ9D9CPH/wATPDPwx0c6p4l1a30u0JwrSt8zn0VRyT9K8+8GfthfC3x1rUelaf4iWG8lIWJbyJoRIx6BS3Ga+Mf2nvFH/CcftRW+mXuk6h4m8O6akaW2i6S5V7iLy9/yFQxAbglgM4zjHUUfizpWneM/DsNv4V+APiTwdrNvIrRX9vDKykD7yuojGTjoc5BrfDcM4b2NL6zKXNUV7pxSintdN3fnYyrZ5X9pP2KXLF2tZtvvZo/QP4mfHjwZ8H7ixg8UaqunyXqs8A8tn3AcE8Ung/48eC/Hmv63pOiaqL2TR08y8uVUi3QBsHEh4ODnp6V+eH7Tmq6/rXw5+Eknie2urTWo9Pnt5kvY2SVtkgVWZWAOSADXt37Wng/SP2b/ANn+w0LwZZLpr65cx2eo38efPuVRGcl26ncQeOnOOlYPh3Cxp4ek5t1arkla3L7r1ffboarOMRKdWaiuSCTd99Vse36h+2t8JNN1xtMk8TB5FfY08ULPCDnH3wMY967Dwv8AtAeBfGnjZ/Cmi65DqGsLEZvLhBZSgVWJDdDwwrxf4K/sX/DO7+E2kTazpSa7qWpWiTz6gZnBDOoP7sq3ygZ4x+NeIfsq+DLf4efttaz4ctbr7ba6bDeQxT5BJQBSAxHG4AgH3BrJ5VlFenifqsp81GLetrNrqjT6/mFKdH2yjy1Glpurn6P0UUV8AfXHO+EdSudQbWxcSmUW+pTQR5AG1FC4Xj0ya6KuV8C/f8Sf9hif+SV1VACdOTXHa94gkuJnggcpAvBK8Fj/AIV1GpymHTrl1+8sbEflXkc15o//AAlFhba5PGNPaGRikjYQSDbtLY7YzgnjPvigCzd6tBZz+SwkllCeYywxs5Vc43NjoOD+RrS03VXh8u5tJcowDAg5Vh7iuf8Ah62tTXGv3+g2lncaZM8lpbf2hdtFIFjlk8ptoRmCYdhhtrY24GOuFay6VpnhPxFFq7rD4ns90dsySlgshX5GiZTjaGILegzuAp2Fc960nUk1S1WVeG6MvoavVyHge5ErTBJBJGyK4ZTlT7j866+kMZJIsaFnIC+tV/tUrcpbOV9SQD+VEv7y8hQ/dVWfHuCAP515B4s/aLX4f6pquieIfDl8viQybfD+n6eGnXXVdtsYhfaArqTiRWxsHzfMMUwPZILhZsgBlYdVYYIqasPR7jUbjSdJutWs4tP1eSNBdWtvN5qRSMuWUNgZAPfH59a3KQBRRRQAUUUUAFFFFABRRRQAUUUUAFFFFABRRRQAUUUUAFFFFABRRRQAUUUUAFFFFABRRRQAUUUUAFFFFABRRRQAUUUUAFFFFABRRRQAUUUUAFFFFABRRRQAUUUUAFFFFABRRRQAUUUUAFFFFABRRRQAUUUUAFFFFABRRRQAUUUUAFFFFABRRRQAUUUUAFFFFABRRRQAUUUUAFFFFABRRRQAUUUUAFFFFABRRRQAUUUUAFFFFABRRRQAUUUUAFFFFABRRRQAVmWv/Idvf+uUf9a06zLX/kO3v/XKP+tAGnRRRQB598ZfiQvw38JvdRbW1G4PlWyN03Y5J9gOa+JdU1S61rUJ72+ne5uZmLSSyHLEmvaP2tNUlm8aabYM37mCz80L23O7A/8AoArwyv0rJMLClhlVt70uvkfh/E+PqYnGyot+7DS3n1Z7H4G/Zr1fxh4bi1aS/hsFuF328bIWLL2LY6A15f4k8P3nhXXLvSr5Al1bOUYDofQj2I5r6w+CvxS0Gb4b2EN/qttZ3enxGGaO4lWNgFJwQCeRjH4ivmP4l+JI/F3jnV9UhbdbzTnyieuwcL+gFPAYnF1sVVp1l7q20t10/AWa4LL8PgaFXDSvOVr636a3PWf2b/i5cWeqQeFtUnMtnNkWckhyY267M+h7Dsa+o/5V+c+lX8mlapaXkRKyW8yygj1Vgf6V97+KPFtv4R8EX/iG8UtBY2bXTopwWwucA9snivnc/wALChWjVgrc2/qj7PhHHVMVQlh6ju4PT0fQ6L0o9a828M+NNbh8RT6Z4i1vwxeX62ZvX0PR0lXULRcZC7TI5nHbcFjyRkLzgYPij45XJ8P6k9nomr6HrWl6npsNxp17HazTywXFwiBo/KlljIdRIoywYFTkLwa+WtqkferV2PaDSV5o3xvtI7REm8M6/Drb339nf2CUtmu1mMbSKCyzmEKyqSG83b6kU0/GOOxh1Lz9OvtU1FNXfTLXSrGCGKd2WFJWUtJceUdqsxMjOinGAM43LrYLrTzPTuKT2ry/S/idJrHi52tIrq40ltCS+TT44Va4+0Gd4ymQcbvlC/e2jGcgZNbHh34pWevaDr+oz6ZqGhzaG7JfWGomBpoyIllBDQySRsCrAgq55yDggim9CmmmkdxRXlnhH4gazqHiHSItX1rwpCms2zXlr4fgMialHCVLI4cyMJ+ByBFGBkkE7cGaX47adp/9uf2n4f13SX0y3F6sdzFAz3cBkCB4kjmcg5K5SQI43DKg5ALa26i3PTaM157b/Fp7rVLXToPB3iKa9YRy3saLaf8AEuidsI8xNxg7lBbZEZJABygJAOVb/Ed/Dei63rstnr/iqP8AtG6jlhtIbaJbKKB2Q7RJMgKgLn7zSOSSFAwqq6Dpc9ZorP07VodW0m31C13SwTxCaMBcMykZAwe9UbPxlpF3ob6ubtbezi4m+0Dy3gYdUdTyrA8bTznpnIpivc3qKp6XqC6pp9vdrFNAkyB1juIzHIAem5TyD7HmrlAwooooAKKKKACiiigAooooAzPEGh2fibRb7Sb+ITWd5C0EsZ/iVhg/zr4S/wCGePjn+zr4k1L/AIVbf/2n4fv33CLeh+haNuAwGBuB5r7+pNvevay7Nq2XKUIpShLeMldPs/U8zGZfTxjUm3GS2a0Z8pfs6/BT4sL4j1fxF8T/ABLPNaapC0U+hmYSJMGXHzKBtQAEjC4Nea6p+zP8Y/2fPGmp6j8ItQ+3aJqDZNqWXeBkkK6NwduThgQf1r73orup8RYqFadTki4ySThyrlsttPLucksnoSpxgpNSjqpX11PiP4V/ssfEL4ifE+y8e/GK+EjWMiywWG8MWZTlRhflVQQDgdai+Pn7NvxH8LfG5/id8Kx9qnun857dGUSRSldrja2AyMMnrxkj0NfcOaWrjxJjI4j2/LHls48lvd5X0sT/AGLh3R9nd817819b97n5w/Ff9nv9oX41x6drXii2trq8j3RR6dFIkYt04JYgHGWPuTxXrLfAHxo37XmheNhpqf8ACPWttaRy3HnLlSlqqMNvXhgRX2L2pOBzWlTibE1IKmoRjFRlFJKySla/5EwyShGXO5Nu6bbfVHz/APtT/D34peL7PSb34b+JJNOksHEk2mpIIvPYNlW345xjBQ8HvXzl4w+CPx//AGjtW0W08b6Tpuk2tgxB1AIiNtONxJUsWOBwOBmv0NpRiubA59WwFNQp04NxvaTWqvvqbYrKaWLqOc5ys7XV9HY+Rfj1+yNruoah4d8YfDjUfsXi7RbeGBvMfYZ/KUKrhuQGwMFSMMDg965a00L9q/x9qGn6fqV7D4Xs7eZZJL6MRpuAPUhSS3+7wDX3HkUfWqp8Q4iNFUqtOFRxVk5K7Sfb9CZ5PRlNzhKUU90noz43/bQ/Z+8dfFq88GvoFomryafatHdz71iBkJByFJ74Jr334+fBmy+OXw4uvDt3J9lucia1usZ8mZehI7g9D7GvSsCiuGWb4nkw8Y2TotuLXm03f7jqjl1FSqyevtEk16Kx+ffhv4b/ALU3w10//hDdAuVbRVYxW94JYmSFD3VmG4DvjBx2rov2Yv2YPiD8K/2hZPEHiOKO80/7LcCTVFn3GaWQKScHkksWBJ9M19xH0pf516tbibE1adSkqUI+0VpNKzd+tzgp5JRhOE3OT5HdJvRC0tFFfIH0ZyvgX7/iT/sMT/ySuqqjp+l22mNcm3jMf2iZriX5idztjJ56dBwOKvUARTxCeF4z0YEGvLLC01jwffajFZvZn7ROZWknhJkOegLA8gdvSvWKz9U0a31RP3gKSD7si9R/jQB5Dr2g3XirUWvNRuI4JvszQBrANEzbiMM5By23bwD0yfWtvT9X17S7CGztzpqQRIECrAyggDGSAcc966OTwbchsJPEy+rZB/LBq7p3hGKBw9y/nEchAML+PrQKxR+Hfh6TSLO+uZ/LWS+nM/lwJsjQEAYVew4z9ST3rsaaoCgAcDoAKdQMrXMbMySR48xDwPUdxVWY2lxcQTXFsDc25LQs8W5oyQVYq2OMgkHB5FadFAFSNXuJlkdSkafdVupPqat0UUAFFFFABRRRQAUUUUAFFFFABRRRQAUUUUAFFFFABRRRQAUUUUAFFFFABRRRQAUUUUAFFFFABRRRQAUUUUAFFFFABRRRQAUUUUAFFFFABRRRQAUUUUAFFFFABRRRQAUUUUAFFFFABRRRQAUUUUAFFFFABRRRQAUUUUAFFFFABRRRQAUUUUAFFFFABRRRQAUUUUAFFFFABRRRQAUUUUAFFFFABRRRQAUUUUAFFFFABRRRQAUUUUAFFFFABRRRQAUUUUAFFFFABWZa/wDIdvf+uUf9a06zLX/kO3v/AFyj/rQBp0UUUAfL37XHhuWPVNI1xEJhkjNrIwH3SCWXP1y1cp8FvgevxOs7vULy+eysYJfJVYlBZ2wCevAGCK+rPGfhCx8ceH7rSdQXMMw4dfvIw6MPcGvlHX4fH/wPkk0y2u7i20oyM0NzbxgxyZ7k44OOoPIr7XL8ZOthPqtKajUWzfVeXmfl2cZbSwuYPH4im50nq0uj8z2u1/Zf8GW8BSVbu4dhgu82CPpgcVzfir9lDSxYXE2i6jcQ3KIWjhuMMrEDOCRgj6143/wvLxz/ANDDc/kv+FWdP+LnxE1q6jtLLV728uJDtWKKMMxJ7YArojgsypS53XXzf/AOOeZZJiIezjhnrorLX8zlvBvh+bxN4q03S4kZnnuFRxjoufmJ+gBr7z1rw7Z+IvDl3ot/H5tjdW7W0yA7SyFdpwR0OK8x+BvwZfwX5mu60qvr10CRGoG23U8kccbj3xwOlexc14WdY2OLrKMHdR6931Pq+Gcsnl1CVSorSm726pdLnmq/CnVrozjU/GF1elbCawsZorVYJ7dZFCmRnVsuwAXkBeQTxnjD0v8AZvttLsdYWLWI7a+1KbT7iW4sdNitkElpM0qt5anBZtwDMxJOM55wPaKXNeBdn2Ox5xpPwiFtqlrq2oaxJqOsLqI1G4uhbrEszLC0SIEBO1QrepOazvFH7P8ApfiZLt5prea7k1eTV4G1HT4ryCJ5IliZGhfhxtXIOQQTntz6vS0v6/r7hWW55ZefBMS2vlWWsDR5DpK6Wf7Mslt4hibzQyorAKpO5SoPIY8jrV/4d/B3TvAWl69ZBreeHWpRLdQWllHZ24PlLEQkUfCghQTyTkk5r0P0o3UbldUzzfR/hTf6bqGlC68T3F7o2kLINNsjaqk0JaNo1LTAkvtR2A+UdienPNaJ+zRa6Za6gLnWhc319YLp895Dp8cMkyrIjiSVgS0spKcuxJO7t39tBy1Gad3e/US8jhb74fahH4sbW9E8QPpH2pIY9QtXtVnS48vhWUlgY225UkZGAOOOeZ8Vfs+2/iixNk+sZspbi8nmtbyxS5iYzuXLKjHarqThXIJHpmvYfekFQ0uozN8O6Knh/QtP0yN2ljs4EgV2ABIVQASB9Kp3ngnRr3W01aazD3ilWJ3MEZl+6zJnazDJwSCRW/zS1YkrBRRRSGFFFFABRRRQAUUUUAFFVfMvf+eEH/f5v/iKPMvf+eEH/f5v/iKALVFVfMvf+eEH/f5v/iKPMvf+eEH/AH+b/wCIoAtUlVvMvP8AnjB/3+b/AOIo8y9/54Qf9/m/+IoAtUVV8y9/54Qf9/m/+Io8y9/54Qf9/m/+IoAtUVV8y9/54Qf9/m/+Io8y9/54Qf8Af5v/AIigC1RVXzL3/nhB/wB/m/8AiKPMvf8AnhB/3+b/AOIoAtUVV8y9/wCeEH/f5v8A4ijzL3/nhB/3+b/4igCzS1V8y9/54Qf9/m/+Io8y9/54Qf8Af5v/AIigC1RVXzL3/nhB/wB/m/8AiKPMvf8AnhB/3+b/AOIoAtUVV8y9/wCeEH/f5v8A4ijzL3/nhB/3+b/4igC1RVXzL3/nhB/3+b/4ijzL3/nhB/3+b/4igC1RVXzL3/nhB/3+b/4ijzL3/nhB/wB/m/8AiKALVFVfMvf+eEH/AH+b/wCIo8y9/wCeEH/f5v8A4igC1RVXzL3/AJ4Qf9/m/wDiKPMvf+eEH/f5v/iKALVFVfMvf+eEH/f5v/iKPMvf+eEH/f5v/iKALVFVfMvf+eEH/f5v/iKPMvf+eEH/AH+b/wCIoAtUVV8y9/54Qf8Af5v/AIijzL3/AJ4Qf9/m/wDiKALVFVfMvf8AnhB/3+b/AOIo8y9/54Qf9/m/+IoAtUVV8y9/54Qf9/m/+Io8y9/54Qf9/m/+IoAtUVV8y9/54Qf9/m/+Io8y9/54Qf8Af5v/AIigC1RVXzL3/nhB/wB/m/8AiKPMvf8AnhB/3+b/AOIoAtUVV8y9/wCeEH/f5v8A4ijzL3/nhB/3+b/4igC1RVXzL3/nhB/3+b/4ijzL3/nhB/3+b/4igC1RVXzL3/nhB/3+b/4ijzL3/nhB/wB/m/8AiKALVFVfMvf+eEH/AH+b/wCIo8y9/wCeEH/f5v8A4igC1RVXzL3/AJ4Qf9/m/wDiKPMvf+eEH/f5v/iKALVFVfMvf+eEH/f5v/iKPMvf+eEH/f5v/iKALVFVfMvf+eEH/f5v/iKPMvf+eEH/AH+b/wCIoAtUVV8y9/54Qf8Af5v/AIijzL3/AJ4Qf9/m/wDiKALVFVfMvf8AnhB/3+b/AOIo8y9/54Qf9/m/+IoAtUVV8y9/54Qf9/m/+Io8y9/54Qf9/m/+IoAtUVV8y9/54Qf9/m/+Io8y9/54Qf8Af5v/AIigC1RVXzL3/nhB/wB/m/8AiKPMvf8AnhB/3+b/AOIoAtUVV8y9/wCeEH/f5v8A4ijzL3/nhB/3+b/4igC1RVXzL3/nhB/3+b/4ijzL3/nhB/3+b/4igC1RVXzL3/nhB/3+b/4ijzL3/nhB/wB/m/8AiKALVFVfMvf+eEH/AH+b/wCIo8y9/wCeEH/f5v8A4igC1RVXzL3/AJ4Qf9/m/wDiKPMvf+eEH/f5v/iKALVFVfMvf+eEH/f5v/iKPMvf+eEH/f5v/iKALVFVfMvf+eEH/f5v/iKPMvf+eEH/AH+b/wCIoAtUVV8y9/54Qf8Af5v/AIijzL3/AJ4Qf9/m/wDiKALVFVfMvf8AnhB/3+b/AOIo8y9/54Qf9/m/+IoAtUVV8y9/54Qf9/m/+Io8y9/54Qf9/m/+IoAtUVV8y9/54Qf9/m/+Io8y9/54Qf8Af5v/AIigC1RVXzL3/nhB/wB/m/8AiKPMvf8AnhB/3+b/AOIoAtUVV8y9/wCeEH/f5v8A4ijzL3/nhB/3+b/4igC1RVXzL3/nhB/3+b/4ijzL3/nhB/3+b/4igC1RVXzL3/nhB/3+b/4ijzL3/nhB/wB/m/8AiKALVFVfMvf+eEH/AH+b/wCIo8y9/wCeEH/f5v8A4igC1RVXzL3/AJ4Qf9/m/wDiKPMvf+eEH/f5v/iKALVFVfMvf+eEH/f5v/iKPMvf+eEH/f5v/iKALVFVfMvf+eEH/f5v/iKPMvf+eEH/AH+b/wCIoAtUVV8y9/54Qf8Af5v/AIijzL3/AJ4Qf9/m/wDiKALVFVfMvf8AnhB/3+b/AOIo8y9/54Qf9/m/+IoAtUVV8y9/54Qf9/m/+Io8y9/54Qf9/m/+IoAtUVV8y9/54Qf9/m/+Io8y9/54Qf8Af5v/AIigC1RVXzL3/nhB/wB/m/8AiKPMvf8AnhB/3+b/AOIoAtUVV8y9/wCeEH/f5v8A4ijzL3/nhB/3+b/4igC1RVXzL3/nhB/3+b/4ijzL3/nhB/3+b/4igC1RVXzL3/nhB/3+b/4ijzL3/nhB/wB/m/8AiKALVFVfMvf+eEH/AH+b/wCIo8y9/wCeEH/f5v8A4igC1RVXzL3/AJ4Qf9/m/wDiKPMvf+eEH/f5v/iKALVFVfMvf+eEH/f5v/iKPMvf+eEH/f5v/iKALVFVfMvf+eEH/f5v/iKPMvf+eEH/AH+b/wCIoAtUVV8y9/54Qf8Af5v/AIijzL3/AJ4Qf9/m/wDiKALVRLBGszyhQJHADN646VF5l7/zwg/7/N/8RR5l7/zwg/7/ADf/ABFAFqiqvmXv/PCD/v8AN/8AEUeZe/8APCD/AL/N/wDEUAWar3VnBfQNFcQxzxMMNHIoZT9QeKTzL3/nhB/3+b/4ijfef88IP+/zf/EU02tUJpSVmcjd/BnwVeTmaXw7ZmTr8qlR+QIFb2h+E9H8Nx7dM023sgRgmGMAke56mr/mXv8Azxg/7/H/AOJpN95/zxg/7/N/8TWsq9WcbSk2vU5YYTD05c8KaT7pIt0tVfMvf+eEH/f5v/iKPMvf+eEH/f5v/iKxOstUVV8y9/54Qf8Af5v/AIijzL3/AJ4Qf9/m/wDiKALVFVfMvf8AnhB/3+b/AOIo8y9/54Qf9/m/+IoAtUVV8y9/54Qf9/m/+Io8y9/54Qf9/m/+IoAtUVV8y9/54Qf9/m/+Io8y9/54Qf8Af5v/AIigC1RVXzL3/nhB/wB/m/8AiKPMvf8AnhB/3+b/AOIoAtUVV8y9/wCeEH/f5v8A4ijzL3/nhB/3+b/4igC1RVXzL3/nhB/3+b/4ijzL3/nhB/3+b/4igC1RVXzL3/nhB/3+b/4ijzL3/nhB/wB/m/8AiKALVFVfMvf+eEH/AH+b/wCIo8y9/wCeEH/f5v8A4igC1RVXzL3/AJ4Qf9/m/wDiKPMvf+eEH/f5v/iKALVFFFABRRSdOTQAlFc5a+PtFu9Pnvorlmt4bv7C7eW2RLuC4xjOMkc9K6PcOmapwlD4kTzJ9R1N20u4etVV1K1e4mgEy+dDtDrnBXd90fjilZsdyzx6U6s3Statdajme0kLrDM0DkqRh1OGHNaO4etDi4uzQXTEOKXqKrLewSXUlssimaNQzJ3APQ1neKPE1v4U0t7+6try5gT7wsrZ53UAEliqgkAAdaFGUmopaickk22bP4UVi+F/FFt4u0tL+1t7y3gflBe2zwMwIBDBWAJBB61tevNOUXB2a1CMlJJpi/zoFYUPjDTJ9WXTkmY3TTSQBfLbG+NQzDOMcAjmtzcPWk4Sja6tcd0OopMiorm6is4WlnkWONeSzHAFIZJ/DRQG3AHqDXM6l4807T9eXSBBfXl0Nnm/YrSSZINx+UyMoIXOCeewJqoxc/hIlJRV5M6iik3D1o3D1qSri0UmR60ZFAxKX1poPcc1ieHvGGl+KJtRj024+0fYZ/s8zBSFD4BwCeCOeo4pqLaultuTzJNJvc3qKgmuord4llkVGlbagY43HGcD34qekUIaK4y3+K2iXHiZ9DK38Nwty1mLmaykS2eYAExrKRtZsHoDXZd6XRMOrQ6iiimAUUlFAC0UVVsb6DUI5Ht5FlWOR4WK9nVirD8CCPwoAtUUlZXiTxLYeE9KfUNSlaK2VlTKqWJZmCgADk8kUAaopajjlWWNXQ7kYAgjoQehqK7voLGES3EixRlgu4+pOAPzoAs0UlLQAUUlLQAUVG8ix43MFBOBk457CsXxT4x0rwXZ29zqtx5Ec88dtCqozs8jsFUBQCep5PYcmhagbuM0etNznFcvZ/EjQb7QdZ1mG6f7DpMs0V0zRMCjRffAUjJ5GBjr2pPQDqhScntWfoWsWviPR7HVLJ2ktLyFLiF2UqWRlDKSDyOCKsX15Bp1nPdXMixW8KGSSRuiqBkk/hT20EmpJWLVFNVg6hgcgjINOoGFFFFABRXE+HfitofibWhplsuoQTM80cMt5ZSQQ3DROVkEUjKA5Uq3Q9ATXWXl9BYrEZ5REJJVhQn+J2OAv4mjsK5aooqrfX1vp0KyXEqxI0iRBm7szBVH4sQPxoGWaWiq19eRafaTXU5IihRpHIBJCgZPA60tgLFFcl4M+Jmj+OnaOxS+tZ/JS4WHULOS2eSJvuyKrgEqfUV11PYV7hRRRQMKKKKACiiigAooooAKKKKACiiigAooooAKKKKACiiigAooooAKKKKACiiigAooooAKKKKACiiigAooooAKKKKACiiigAooooAKKKKACiiigAooooAKKKKACiiigAooooAKKKKACiiigAooooAKKKKACiiigAooooAKKKKACiiigAooooAKKKKACiiigAooooAKKKKACiiigAorD/4S/Sv+Es/4Rz7V/wATf7P9q8jB/wBXnGc9M+3XHNXf7YsFuUtmvbZblyQsJlUOxBwcLnJwQR+FAF+isTSfGGja42oCy1GCY2ErQXOHA8tlxuz7DPXpV2LV7Ge1W5jvbeS2YkCZZVKEjqAwOKAL1FZVr4gs7ye5WOTMNuiyNc5HlMpGcq2cHGOasQarZXVqLmG8t5bYnAmSVWQn0yDjNAF2ioLW7gvIRLbzRzxHpJGwZT+I4qegAorI8O60dct7yQw+T9nvJrXAfdu8tyu7oMZxnHategAorlLz4iaZZ65JpKw6he3ULpHO1lZSTR27MAVEjqCFOCDyehBrVj8RWbR3ck8osorac27SXTCNWYAHKknBHP6GgDWoqla6rZ6hsNrdwXAcMymGVW3AEAkYPIBIB+oqL+2oG1C2tY90pnV2EkfzINpwQSO+f5GgDRpaow6xYXMczw31tKkJxKySqwQ+jEHj8apap4w0bSdHv9UuNSt/sNijPcSxyq2wKMkHB6+1AGzjmnVm/wDCQaZ9jhujqFqttOcRStOoVz6KScE+1aIOQCORQAtFFFABRRRQAncVjeK/7Q/4R2/XSYjNqMkRjgG4KFZuAxJ4wudx7kKcZOK2aKafK0wPE0+GPiHwuqabbXlx4g02VbQ+dMsMTQNA6jkDbncmSTgkkc1ymnaVqOoeNri+RLqJtRfUItE1cjCTzOrvHvJnLAKiOB+5UDHU8E/SvUc1gaX4D8N6HrlzrNh4f0uw1e5DCfULWzjjnlDMGYNIFDHJAJyeSAa9eGZTs+datWv/AJnnywsbx5dk77nlVl4H1q5+2RWGhap4d06U2qTW1zqCO8ziUGWVSsjYXZkEkgtnoK0/Fvw7uZI9Qji0S41TTLa+06azsYbpVZo4wFk2bnAyAW4YjPrXsP0oxxWLx9VtP/Py/wAjRYaCi1fc8j8N/DWfS9RtNXSwuLTUG1iSaXddZxasjAKyhypGdnAyc81Q0v4QzvY+Hxf2V1JcSaTKuq770nzLoLH5QbD8lSHwV4GOTXtmPzpOnNT9frXcr6v1/rqWsPTtZo8cufCfic6TGlxZ3d9bpDZLdWMd0iy3SIrCSNWLgBtxUnLKGCkbua7ay0wyfDyaxsdHuNIaS1mji026dGljY7sKWDsvJOfvHg9ug62gVnUxUqiSatYqNJRlddrHlPibw1fvpXhiK80K88Qada2Xk3Gl6fcRxSLPtQK53SIrBQrj73BbgHPHPXngrxV9hsYtS0q+1vUBp1vDZ3NrfIo064BfzGlZpFLcGP5lVidh4Hf3fFFaU8dOCSS2/r/h7bmTw0W73PEfEPgbVpNQtrm+8PXXiCzj1G4nnt7O6jjklVoVRWG50B+YZ2lhwCeoANC88E+Jf7FtY77w/qWqs1rMmn29vqMatpchmdovNYyKG2xmNSyl8bCAGByffaOcmtf7RqWStt6+fn5hLCxbbvueSQ+FvEo8aadez2s8uhxSxi7tVuhvmuggUXg+bBjUjBjOCfvYJUKfUdQLrYzbIPtbldoh4AfPGDnjHr7Va9aWuGtWlWtdWsbU6ap3s9zM0HTpdK0uC1lm850zluwySdq/7IzgZ7AVwvjLTdTbxfBcaBomqQakzwibV4poFspIw3zLMhk3thdwGIzgkYPcembcd6X6VNKq6MuZalVIKpHleh4Fp/gHxXD401m8um1x7ub7ZsvIZLUWU0bq3koTvEw2goANnDIOSoyZ9S+EOorp+ofZLS6Nz/YqSW5+3HP9pAH5sl/vcDJPymvdsUcV3vMa101p00029Dk+p07NXe9zwxvCfi29+KkesS6de20cM0kbzxyQC1lt/IZEIO8yFyShIZQAQcEgAm0vw91rw3o8N3pFjPcatcaZPDqCTXe8zSMU25DPtLBS+OQMgAkA5r2ij0pPMKrUVZaWVu68/vK+qwu3d6nmPwP8N6v4Y07WoNSt762tp7xZbSHUGh81U8pFbIidlX5lY4BPBB6kgdF4S0O60rxJ4pnlt/ItLu5ikttpXDKIUUkAHj5geoFdbij9a5amJnVlObSvLf8Ar5GkMPGEYxT+EyfElnNqWn/ZIYtzTMB5zEYhxzv65yMcY747VpwxmKGNC5kKgKXbqcDqfepaK5jpPJ9P+GOq3Wqa1e6lqd01n/ak19YaSqwrFvKgJIXUbzzk7WPB7Vj6h8O7vS9A8PC50LUvElpskfV9Ltb1PtM1yyoIpi0kqKyoFkUgOPvqQDivbqPektFYOtz5V8VaDq8k2j2eqaff6hbaZaRtqbRMJpdLjaZnjUO1xErN5QCsVWU/IcDkZ7/XPA+q/wDCN+KL+z0661DVNRuzBEvnq8q6c7oWECSOsYbaCwVivOcnsfSta+H/AIX8RaxaavqvhvSdT1azx9mv7yxilngwcjY7KWXn0Iroadg16bHhHgr4WaxcaToml+Ira/fSLe4vHeC5ukVxEyoYVcRPjIbdwpIBzz3NNfhd4m03wzbNYW94ms33hW9tNUk+3Au98TbeRkl8bgBOA68DnJ5GfoOj+Kr5tdgh7vmeK6r8HXt7zVZ9Ms7oGKWyuNNP25vllEimdgC/BKg53cHtVm3+G+o+IJNMtfEFtczaamoa1cTxfayqskt0z2u7a+SNhBA/hwAQMYr2H9aBUPVco7nyx4u0O9XWdPt9Q0/UNQ0nR4rddSuIv3kmnqsxdVDG5jyGjCbtqysVJAAbAr2b4ieDdV8dajpFlZ6jcaLp1qsl1JeQxxS+ZIV2JEUkDAgBnbOOCq4Oa6DUvh74X1rXrXXNQ8N6Tf6zalTb6ldWMUlzCQcjZIVLLg9MEYroc9KOlvMnr5WPAx4R8UR+IvCL3Wiahq15pjRWct7cNbixEKS/68bbhZFk2YIGxgTwV9Dwz4P8QadLrKQaHqVlbtdwzm/1SWBbu4xOWfJiuHVlC5OSqse4Ynj32ijoDR8o2Ph/U9Y1LxFLFp+oLf6rpupRaDqkLCMX0jLwzM1yzKwXhSYYlGTk5216hqnwrm06TUbLQ7e7h0u9ayaVVvT8zLI/msCXyCVIzjGe1d7ofw/8L+GdUvNT0fw5pOk6lef8fV5Y2MUM0+Tn53VQW555J5roNo5pbxS7Brr5njFr8Jp9G1aG+02zuIZ7PW0a0b7azCKxK4kUBmIK/M52kE5PHauO8O/DDxpb6Xr8F63iJ9ZuokjuJ3ks47S8fzkLSRPHJ5g+UMRuVcAkcnr9MYpaa0tfWw+tzxPxV8J4rLS9QtbPQLvVtJi1Sxv4NNhvPnk2lVnKGSRQDtyxDMoODjmu5+IOg3GueCRa6fZFrwSWpjiYqGjVZo2cbicAhVOcHnHeuxpaI+6JaO5z1jZyx+NtWuTY3EcUlhaRretchopSr3BKLFnKsu8Et/EHUfwV5dZfDXxDBfi1Ngv9kapNcT6krTLlWjld4OAed25OnTbzXuXFLQ9XqXc+bda8A+NLq68HW8WlX0D6Np1isFzZSW3lLIuDOkzNIHBG0BRGrKQeW5ON+98F+LJZvFEqWNytld2d3Ho9kL1fMspmUgsx34PmHBXBO3pxnj3Kim222zOK5Ukuh4vrvwt1HWNU1TUZ7e6ku5NetDA4vSoXT/JtknCgOAFJWbK4yTkgcjKaf4f8ReAdUsLm00LUtX0izvdRij0+xu4WkWCUxGBwJpUUqNjjBbcN3Tk17UaQURfKrI05tLHhVv8AC/Xda0OEa3a3P2+20SNIETUDiO9ErsSGVxlgCuGPGD+A7j4feDZvCGr6qscEtvYXUFvL+8nMga42kStgsSCTjPQHtXfGjFRCKirIl67njfhj4aa/pWhz6hd3k2oapZS6jNpekTLCkMDTTSlTuQAsWRhjc3G7nHbn/hz4C8WaPBPvs9UtLabV7G88i/ltkkRVLCc7YZGXbwvG4kjHGcgfQf6UVXVMlq8eU8X/AOFfa7o3hfTbzTILqXxK9zIl6JbzcWikZ03kl9vyIwZQPQDrTrPwV4qt/Ogb7RJbabeaba2DfaF3T2sd2s00pO7J/dlUIbBPlNgEMM+zdqXg0DtpZnzlP4C8WSWPi220rSNU0+O6mEpvLt7YXt4pmLPHHid4yu0/KXVD2J547/4e+F9R0n4XX2lyJq6XEqziG21kWyzxBhhUAgdowueR8xPzHOK9Oo4pPVNB1TPFbP4Q6vD4V0k32qX+q6z5NlZzYaK2NtbIytJEpj2gjqCckketVfHHgHU11q5t9L0DUL5xFbxaBqlrfLHb6QFADearSqxw+WJVZCwIBA28+5/hRV82txJWOTvPEviK3+0CHwlNdmMXPlsL6FPNMaqYsZ6eaxKjP3duTwa6WzkluLWCSaE28zorPCWDFCRkrkcHB4yKsUVJQtFFFABRRRQAUUUUAFFFFABRRRQAUUUUAFFFFABRRRQAUUUUAFFFFABRRRQAUUUUAFFFFABRRRQAUUUUAFFFFABRRRQAUUUUAFFFFABRRRQAUUUUAFFFFABRRRQAUUUUAFFFFABRRRQAUUUUAFFFFABRRRQAUUUUAFFFFABRRRQAUUUUAFFFFABRRRQAUUUUAFFFFABTJG2IzEE4GcDk/lT6KAPAf+Eb8aJfDx15NqW/tP7WdNFlMb/7IT5XlZ34+58+3Znt1qzJ4If/AIRXxJfpokx1qTxLJdW8rWzG4CfalKsmRuC7Rn5eCMn1r3PpQKm39fd/kD1/r+u58/6t4XuhovjHTdP0m8stQbXFvppLbTCftFmXRj5bsnlyngkxgknBG3kZWz8C219p9sbRtZ1Wzu/EFnNc299or6ckKou1isJijwhG3c23BI69a+gPwpKpaWB+9c8W8WeF7uPWPEH2TSJ30iO402WW1tYCFnt4yDKqKAA+OpVck7SMEnBzdX8Ot4i/tqXR9DvrPw1d3WlrHaNYy2jSSJKxnlWBkV0Xa0aliq52k9Bk+9miklZfO47/AORBY2FtptqlvaW8drboMLFCoVR9AOKs0UUxHLfD/wD489Y/7DF9/wCjmrqar29pDaq4ghjhDuZG8tQuWY5ZjjqSeSe9WKAPIPGkz6T4mvbnwpHr0PiiaWLzLRNMnbTr4jauZJmj8lflGC4cMAvc8Hl/EVhq1vqkyWeiyarqLa/dXMem3Fqskc0DQxqZSsjxqygjAbeOc4z0r6GrC8Q+DdL8TtbvfRXCz2+fKuLO8mtZlB+8BJE6tg9xnHtSGePeDPsvg/UfC1/b6Vqn9mWmmajpVyttpjSyQXhuYGKPHAH2gmOQBgSvyjLcjMGleG/El94b05LXTL3TdTk0zWVQTxlGgllmYxqzHhWORgk+44r3LRdCsvDunx2GnW621tHkhQSxLElmZmJJZiSSWJJJJJJNadO+lv6/rUk+Z/8AhBxe+EfEDWjeIJ9SOjfYZtMm8PtYoxMiMcMsSLM6lWAZWbhmOea6zx94DZpvGFjpGhZtLvwyUSKC2AjmuAz7R0w0mMe/Sva+9LTuwWh8++L9HTWtT0a+WDV9L8LSaS1rDHaeGXuHguPNPmbrZoGkiLDBDhAPlJzggn2nwnp40rw1plms9xcpBAiLNdqVlcAcFlIBDY6jArYoqVtYOtx1FFFMZU/tSz/5+4P+/i/40f2pZ/8AP3B/38X/ABq3RQBU/tSz/wCfuD/v4v8AjR/aln/z9wf9/F/xq3RQBU/tSz/5+4P+/i/40f2pZ/8AP3B/38X/ABq3RQBU/tSz/wCfuD/v4v8AjR/aln/z9wf9/F/xq3RQBU/tSz/5+4P+/i/40f2pZ/8AP3B/38X/ABq3RQBU/tSz/wCfuD/v4v8AjR/aln/z9wf9/F/xq3RQBU/tSz/5+4P+/i/40f2pZ/8AP3B/38X/ABq3RQBU/tSz/wCfuD/v4v8AjR/aln/z9wf9/F/xq3RQBU/tSz/5+4P+/i/40f2pZ/8AP3B/38X/ABq3RQBU/tSz/wCfuD/v4v8AjR/aln/z9wf9/F/xq3RQBU/tSz/5+4P+/i/40f2pZ/8AP3B/38X/ABq3RQBU/tSz/wCfuD/v4v8AjR/aln/z9wf9/F/xq3RQBU/tSz/5+4P+/i/40f2pZ/8AP3B/38X/ABq3RQBV/tWy/wCfy3/7+r/jR/atl/z+W/8A39X/ABrHvGCTTsxCqrMSScADNVLG+ttStkuLSdLiBs7ZI2yDjg0Ab761YR/evIP+/i/40z/hINO/5/IP+/i/41l6L/yD/wDtrL/6Mer9AEv/AAkGnf8AP5B/38X/ABo/4SDTv+fyD/v4v+NRUUATf29px6XkH/fxf8akGqWWMi8g/wC/q/41zfi6RotLQoSp85BkfjXS6WxawhJOSVFAB/aln/z9wf8Afxf8aP7Us/8An7g/7+L/AI1booAqf2pZ/wDP3B/38X/Gj+1LP/n7g/7+L/jVuigCp/aln/z9wf8Afxf8aP7Us/8An7g/7+L/AI1booAqf2pZ/wDP3B/38X/Gj+1LP/n7g/7+L/jVuigCp/aln/z9wf8Afxf8aP7Us/8An7g/7+L/AI1booAqf2pZ/wDP3B/38X/Gj+1LP/n7g/7+L/jVuigCp/aln/z9wf8Afxf8aP7Us/8An7g/7+L/AI1booAqf2pZ/wDP3B/38X/Gj+1LP/n7g/7+L/jVuigCp/aln/z9wf8Afxf8aP7Us/8An7g/7+L/AI1booAqf2pZ/wDP3B/38X/Gj+1LP/n7g/7+L/jVuigCp/aln/z9wf8Afxf8aP7Us/8An7g/7+L/AI1booAqf2pZ/wDP3B/38X/Gj+1LP/n7g/7+L/jVuigCp/aln/z9wf8Afxf8aP7Us/8An7g/7+L/AI1booAqf2pZ/wDP3B/38X/Gj+1LP/n7g/7+L/jVuigCp/aln/z9wf8Afxf8aP7Us/8An7g/7+L/AI1booAqf2pZ/wDP3B/38X/Gj+1LP/n7g/7+L/jVuigCp/aln/z9wf8Afxf8aP7Us/8An7g/7+L/AI1booAqf2pZ/wDP3B/38X/Gj+1LP/n7g/7+L/jVuigCp/aln/z9wf8Afxf8aP7Us/8An7g/7+L/AI1booAqf2pZ/wDP3B/38X/Gj+1LP/n7g/7+L/jVuigCp/aln/z9wf8Afxf8aP7Us/8An7g/7+L/AI1booAqf2pZ/wDP3B/38X/Gj+1LP/n7g/7+L/jVuigCp/aln/z9wf8Afxf8aP7Us/8An7g/7+L/AI1booAqf2pZ/wDP3B/38X/Gj+1LP/n7g/7+L/jVuigCp/aln/z9wf8Afxf8aP7Us/8An7g/7+L/AI1booAqf2pZ/wDP3B/38X/Gj+1LP/n7g/7+L/jVuigCp/aln/z9wf8Afxf8aP7Us/8An7g/7+L/AI1booAqf2pZ/wDP3B/38X/Gj+1LP/n7g/7+L/jVuigCp/aln/z9wf8Afxf8aP7Us/8An7g/7+L/AI1booAqf2pZ/wDP3B/38X/Gj+1LP/n7g/7+L/jVuigCp/aln/z9wf8Afxf8aP7Us/8An7g/7+L/AI1booAqf2pZ/wDP3B/38X/Gj+1LP/n7g/7+L/jVuigCp/aln/z9wf8Afxf8aP7Us/8An7g/7+L/AI1booAqf2pZ/wDP3B/38X/Gj+1LP/n7g/7+L/jVuigCp/aln/z9wf8Afxf8aP7Us/8An7g/7+L/AI1booAqf2pZ/wDP3B/38X/Gj+1LP/n7g/7+L/jVuigCp/aln/z9wf8Afxf8aP7Us/8An7g/7+L/AI1booAqf2pZ/wDP3B/38X/Gj+1LP/n7g/7+L/jVuigCp/aln/z9wf8Afxf8aP7Us/8An7g/7+L/AI1booAqf2pZ/wDP3B/38X/Gj+1LP/n7g/7+L/jVuigCp/aln/z9wf8Afxf8aP7Us/8An7g/7+L/AI1booAqf2pZ/wDP3B/38X/Gj+1LP/n7g/7+L/jVuigCp/aln/z9wf8Afxf8aP7Us/8An7g/7+L/AI1booAqf2pZ/wDP3B/38X/Gj+1LP/n7g/7+L/jVuigCp/aln/z9wf8Afxf8aP7Us/8An7g/7+L/AI1booAqf2pZ/wDP3B/38X/Gj+1LP/n7g/7+L/jVuigCp/aln/z9wf8Afxf8aP7Us/8An7g/7+L/AI1booAqf2pZ/wDP3B/38X/Gj+1LP/n7g/7+L/jVuigCp/aln/z9wf8Afxf8aP7Us/8An7g/7+L/AI1booAqf2pZ/wDP3B/38X/Gj+1LP/n7g/7+L/jVuigCp/aln/z9wf8Afxf8aP7Us/8An7g/7+L/AI1booAqf2pZ/wDP3B/38X/Gj+1LP/n7g/7+L/jVuigCp/aln/z9wf8Afxf8aP7Us/8An7g/7+L/AI1booAqf2pZ/wDP3B/38X/Gj+1LP/n7g/7+L/jVuigCp/aln/z9wf8Afxf8aP7Us/8An7g/7+L/AI1booAqf2pZ/wDP3B/38X/Gj+1LP/n7g/7+L/jVuigCp/aln/z9wf8Afxf8aP7Us/8An7g/7+L/AI1booAqf2pZ/wDP3B/38X/Gj+1LP/n7g/7+L/jVuigCp/aln/z9wf8Afxf8aP7Us/8An7g/7+L/AI1booAqf2pZ/wDP3B/38X/Gj+1LP/n7g/7+L/jVuigCp/aln/z9wf8Afxf8aP7Us/8An7g/7+L/AI1booAqf2pZ/wDP3B/38X/Gj+1LP/n7g/7+L/jVuigCr/atl/z+W/8A39X/ABo/tWy/5/Lf/v6v+NYFzcRWkMk0zrFFGpZnY4CgdSTSW1zFeQRzwSLLDIoZXQ5DA9CKAOqooooAKKKSgBaKKSgBaKKKACiiigAooooAKKKKACiiigAooooAKKKKACiiigAooooAKKKKAOR8RabbazBd2V2W8iUkOqSshYZ6ZUg4rM8NeFtK8JxSw6YHhikYM0bTM67vUBicH6Vx3xX/AORqP/XEf+hPXN+Hv+Q/pn/XzH/6EKAPfvDcKNpKkrk+dN1/66vWp9nj/uCs7wz/AMghP+us3/o164G8bxd/wuy1ij1aBdA5maw+1RAm2+zMpBh2+YX+0FGDhtu0FSM80Aen/Z4/7go+zx/3BXEfYfiL/wBBXQf/AAFl/wAa6nQ49Si0yJdXmgnvwTvktVKoRk4wDz0x+NAGV48iRdFjIUA+enT8a29K/wCPCH/dFY3j7/kCR/8AXwn9a2dK/wCPCH/dFAFyiiigAooooAKKKKACiiigAooooAKKKKACiiigAooooAKKKKACiiigAooooAKKKKACiiigAooooAKKKKACiiigAooooAKKKKACiiigAooooAKKKKACiiigAooooAKKKKACiiigAooooAKKKKACiiigAooooAKKKKACiiigAooooAKKKKACiiigAooooAKKKKACiiigAooooAKKKKACiiigAooooAKKKKACiiigAooooAKKKKACiiigAooooAKKKKACiiigAooooAKKKKACiiigAooooAKKKKACiiigAooooAKKKKACiiigAooooAKKKKACiiigAooooA4bxDoVh4ksjZahue3LBmjSVk3Y6A7SMj2NJ4d0Gw8NWX2LT96W+4ssbzM+D3xuJwPYV5n4+/5G2/8Aqn/oC0ngT/karD6v/wCgNQB9D0UUUAcv8StNv9X+H/iGz0m8uNP1SaxmW1urWQpLHLtJVlYcg5x0r46079obxXrfij4Y+JIdYu4/DXh600628V2/mkRXFxfySW26UdGaJkjfnpvJ4r7qbGORmvHrH9lXwBp3g3xt4Xhs7pdL8XXRutSBuDvD5BXymx8gUqGUDoeaizUub+v61K0ceVnhWj/tMeLPDfhrSrq2lOqal441zU7vTrjU7W81C3sdPhcpGqQW4MjBgmQFKgbix9Kv6l8VNX8Y/E79nLxLruj3Xh28Y+JTe6aySxBjDZ4DKsiq21tu5QwyAwzzXu+qfs6+ENT8IeGPDyx32nxeG41j0u/sLpobu3AXaSJAOSw65GDmri/A3w5LqfgzUrqXUdQvfCgvFsJr27MrP9pj8ubzSRl8r06YrWL5b/1paxUJJSv0s/vZ5R4Z/aM8dP8ABnWvjB4g0nw6ngr+zpL7S9J097g6jw+yNZ5GzH83BJVRtz3qGx/aP+IXhm91nR/GmkeG21eTwlN4s0ifQ2nMASMgNb3CyHcWBZTvRgCM8CvSPC37Mvgrwna6zp9ompXGh6nDJbyaJeX7y2MUchJdYojwgJJ6dO1Q+Gf2W/BPhm31qOMapqE+q6a2kSXepX73E0Nmf+WMLN9xe+B3ArOV9baf0/8AgELpf+tv+CeQ6b+0d8ata8RaFoNv4f8AA8F/4k8OHxFpsss920dpGgXek4GDIzFlxtKhc8lscv1P9s7xBf8Agv4XTaNolnaeIfGGnXOo3DT2N5qNvai3bYypDbDzW3P0JICjls17vpvwL8MaX4i8P63bx3YvdD0VtBsy0+VFq23IYY5b5R81Yrfsv+Cl8I+FtAtTqmnr4ZWVNL1KzvGivYFkYtIvmgcqxPIIxwK0la2n9b/8Aizuv67f8E6r4Q+NtR+IXw90nXtY0Wbw/qVyh+0afOjoY2VipIDqrYOMjcAcHmu2rJ8NaBD4Y0Oz0uCe6uobZNizXkxlmfnOWc8k89a1c0pWb0Gr21FooopDCiiigAooooAKKKKACiiigAooooAKKKKAPDfiv/yNR/64j/0J65vw9/yH9M/6+Y//AEIV0nxX/wCRqP8A1xH/AKE9c34e/wCQ/pn/AF8x/wDoQoA+gfDP/IIT/rrN/wCjXrye/s/C5/aCs55NT1QaqLvcLdbVTare/wBnSKI2n2b1zal5NgYKWUHO75T6x4Z/5BCf9dZv/Rr1A3g/RX8SJr7aZbnWEXat5s+cfKVz6Z2kru64JGcHFAHlklx8IVdg3jyVWBII/wCEuuhg/wDf+vUPBh0hvDdodCvzqWlncYbprt7ov8xz+8ZmY85HJOOlbfkx/wDPNfyFOVQowAAPYUAc54+/5Akf/Xwn9a2dK/48If8AdFY3j7/kCR/9fCf1rZ0r/jwh/wB0UAXKKKKACiiigAooooAKKKKACiiigAooooAKKKKACiiigAooooAKKKKACiiigAooooAKKKKACiiigAooooAKKKKACiiigAooooAKKKKACiiigAooooAKKKKACiiigAooooAKKKKACiiigAooooAKKKKACiiigAooooAKKKKACiiigAooooAKKKKACiiigAooooAKKKKACiiigAooooAKKKKACiiigAooooAKKKKACiiigAooooAKKKKACiiigAooooAKKKKACiiigAooooAKKKKACiiigAooooAKKKKACiiigAooooAKKKKACiiigAooooAKKKKACiiigD558ff8jbf/AFT/ANAWk8Cf8jVYfV//AEBqXx9/yNt/9U/9AWk8Cf8AI1WH1f8A9AagD6HooooAKQ1HLMkEbSSMscaAszscAAckknoK53w18SvCPjO8ntPD/irRdduoBmWDTNQhuHjGcZYIxI545o62A6eikooAWiiigAooooAKKKw/EnjLRvCT6Yur3q2TaldpY2m5GbzZ2ztQYBwTg8nA96ANyikpaACiiigAooooAKKKKACiiigAooooAKKKKAPDfiv/AMjUf+uI/wDQnrm/D3/If0z/AK+Y/wD0IV0nxX/5Go/9cR/6E9c34e/5D+mf9fMf/oQoA978O3Sx6WFIbIll6f8AXV60vtyejVh6L/yD/wDtrL/6Mer9AF37cno1H25PRqpUUAZXjm5WXRo1AI/foefxrf0r/jwh/wB0VzHjL/kEp/12T+tdPpX/AB4Q/wC6KALlFFFABRRRQAUUUUAFFFFABRRRQAUUUUAFFFFABRRRQAUUUUAFFFFABRRRQAUUUUAFFFFABRRRQAUUUUAFFFFABRRRQAUUUUAFFFFABRRRQAUUUUAFFFFABRRRQAUUUUAFFFFABRRRQAUUUUAFFFFABRRRQAUUUUAFFFFABRRRQAUUUUAFFFFABRRRQAUUUUAFFFFABRRRQAUUUUAFFFFABRRRQAUUUUAFFFFABRRRQAUUUUAFFFFABRRRQAUUUUAFFFFABRRRQAUUUUAFFFFABRRRQAUUUUAFFFFABRRRQAUUUUAFFFFABRRRQAUUUUAFFFFABRRRQB88+Pv+Rtv/AKp/6AtJ4E/5Gqw+r/8AoDUvj7/kbb/6p/6AtJ4E/wCRqsPq/wD6A1AH0PRRRQBkeKv+RZ1f/rzl/wDQDXxX+yl8Adb1Sz+HnxHv28N6Lp2hWV7JZDQbR49R1AzI0f8ApsxwGCjJAGee/Nfc0iLIhVwGVhgqRkH2qKzsbbT7WO2treK2t0G1YYUCoo9ABwBWai1JyT3HfRI+GPC+u+PtO/ZCtfiMPHfibVNa1gw2V1NPcrJHplkt20ck8KlCfNCAkyMWbn2FVNU+I+v+HvB/xYsfCnxF1rxD4L0dtFmtPEWoaiZrrfPNtu7WO9I3LuG0Bif3e77y9a+7INHsbPT/ALDb2dvBZAFfsscSrHtJ5G0DGDz271xPxF+C2h+PvCttoURbw/BaXsd/CdMhjRBKuQN0RUpIpycqwIPB7Crl8V0upbkpNu1v6/pHybeX/iTw58LbvWdG+IWsC81fxpptpZKfFM2szabZyOE8pmeV42JJZsfMDwGLYrZ/aK8Q3XgOay+H+m+LvGB1zRfD1xrceu6j4qksTeM8zbVbyomN1KrKQIyoQKwBzwR9G/DP4BeHvh3Jql0VGs6jqUsU1zcXVtDGpaIfuysSIqKRknKgHNd/f6Bpup3UFzeadaXdzACIZp4Fd489QrEZGfanOzikt/8AgWM4vuv6ufG+oa14s+J+veFbO48deI9CguvhudZuxod6bVp7tcFZCVHynPXbt3Dg8cVX+DfiLxlDq3wG8Tah498Q63N420u/TV7DULoPZt5UBeF4oVULGy4GWA3MeWJ5z9opoenQyI6afaoyQ/Z1ZYFBWL+4Djhf9npSR6BpkK2axadaxLZhltQkCgQAjBCYHygjg4xRrf8Arz/z/AmKaerv/wAMv8j4P8OyeNdTh+FGpSfFHxkkvivxBqGi30SajmNbRTIyrGrKQsgCYEvLgHhhgVteE/HHizT9CsdEn8Wa3qSaL8XpPDkN9eXzvdXFjGVKxTyAgyj5jndnPHoK+1Y/D+lxLbqmm2ai2cywBYFAic5yy8fKTk5I55oXw7pS5xplmCbg3ZIgXmc9Zen3/wDa6+9KOju9f+HX+T+8vS1uv/D/AOa+4+HPEev+MtL03XvHMHxA8Trc6T8RItKtNK+3k2H2WS5SN4pIiD5ikOcbidvG3FX9a1LXfGX7RGuaFdeP9S0s6b4rh+aHxZNptt/Z/ko4s1s45ELuS3+sCkMcjdwRX2pJ4d0qaF4X02zeF5hcNG0CFWlByHIxgtnnPWvFrr9kPw5qGu3dze6vfXel3OpNqr6dNFCzecZPMx9oKebsDdF3YA4HFKF4yXNt/wDs/wCT+8l6p9/+H/zPeY12qACcAYySSfzPWnnpSKoVQo4AGBSnpVDFooooAKKKKACiiigAooooAKKKKAPDfiv/AMjUf+uI/wDQnrm/D3/If0z/AK+Y/wD0IV0nxX/5Go/9cR/6E9c34e/5D+mf9fMf/oQoA9x0X/kH/wDbWX/0Y9X6oaL/AMg//trL/wCjHq/QAUUUUAYXjL/kEp/12T+tdPpX/HhD/uiuY8Zf8glP+uyf1rp9K/48If8AdFAFyiiigAooooAKKKKACiiigAooooAKKKKACiiigAooooAKKKKACiiigAooooAKKKKACiiigAooooAKKKKACiiigAooooAKKKKACiiigAooooAKKKKACiiigAooooAKKKKACiiigAooooAKKKKACiiigAooooAKKKKACiiigAooooAKKKKACiiigAooooAKKKKACiiigAooooAKKKKACiiigAooooAKKKKACiiigAooooAKKKKACiiigAooooAKKKKACiiigAooooAKKKKACiiigAooooAKKKKACiiigAooooAKKKKACiiigAooooAKKKKACiiigAooooA+efH3/I23/wBU/wDQFpPAn/I1WH1f/wBAal8ff8jbf/VP/QFpPAn/ACNVh9X/APQGoA+h6KKKAIZ5kt4XlkYLGgLMx4AAGSa+Rfgn+0trnir46QQav4jtb3wj4vbUYdA0uNYRJYSWkg2hyoDnzYg7DcTyoxX1J4v8Ojxd4X1XRXvLiwTULaS2a5tdvmxhlILLuBGcE9Qa8eT9i/4c6bYeEl0TTz4f1jw3fW19b65p6Il5M8WQVlcqQyuCQwxzntSjpO72/r8gl8NluYfh/wDa01PXNR8cofCUMS+G0umXTBfn+1J/KYhW+zlB8r4yGVm4rD1z9o6+8cfAOfxXNbR6cYtc0y2RPDHiBkmHmXUSskr+WGjILbWjK/MNwzg5r0hP2Z7ZvGlz4qu/GXiK91o281tY3UkkKvYJKctsKxgtjAA37sCs6H9kLw9/wjPiHTbzXtYv73X9TsdUv9UlMKyySWrq8ShVjCAfLgkLkgnnPNOFtHLy/P8AyIqXcZKG+v5GH4q/au16w+JE3hfRPCum3hi1yLRGS+1N4rti6BjcLCsTZiAP3s9qpa3+2JrmjN4n1JvAiS+FfDHig+G9U1Mamok3GRESSKIplv8AWIWBIxu4JwawLj4T/F6H4ta5r2kW19pOoahrKTjUEurCTSDZqyryj7roOY1IKqoXJ4IHNerar+yv4f1rwV408Nz6rqa2/irxF/wkl3NGYw8U+6FtkeUwEzAv3gTyeelVC1ouX9bf8E00u1/XX/gHIfE79rnW/AWoeOZbTwKuraD4NurePUr7+0VjcxShSGjQrywLD5SQMd60If2sL3w7ceO7fxv4ROgT+HdEh8QwJa3i3P2q0lZkUEhQFk3qVI5HvXUeMP2YfD/jHR/iJp11qmpQReNpIJL14Wj3QGIIF8vKEc7Bndnqa0Nc/Z48NeJvE+vaxqcl1eJrfh6Hw5dWbMoi+zxyO6uCBkPlzznHA4qfs76/8D/MJdOX+v61PKtL/bZlm8F+MtZuvC8TXOg6VHq8SWV40lvPGzBTE0jRrtlXPK4I9DW5D+0x4obWPFXh/U/BcOi69aeGT4m0pP7QWdZoCSoWYhQEcMOVG4cda6Jv2Zbe8+HfiLwZqfjPxDq+k6vZLYKbp4S1pErAjyyIwC3AG59xwK6C++A+iaj8QJ/Flxd3slzP4c/4RmS13KIjb7y5fhc78sRnOMdqT6+n+f8AwBxtbXf/AIb/AIJB+zl438V/Eb4U6L4g8W2FjZX19Ak0TWM5kWaNlyGZSq7Dn+EZ6da4D4c/EL4mzftF+OPDHie40+6trTQItU03RNOVVihZ5pFRWnZdzMwQZY4A3cLxz6t8HvhUnwf8Jp4fttf1TXLCA7bUao6O1tGBgRIVVflHvk+9Mb4P6ePidr3jiLUr6DVdX0ePRnSNlCQxo7ssiHbkPlzySRwOKqTXPeOxioy5FFvXTU6fwjqGrap4bsLrXNMTRtWliDXNhHOJlhfuocABvrWzmsfwl4ffwv4dsNKk1O91h7WIRm+1GQSTzY/idgBk/hWxih7mgtFFFIAooooAKKKKACiiigAooooA8N+K/wDyNR/64j/0J65vw9/yH9M/6+Y//QhXSfFf/kaj/wBcR/6E9c34e/5D+mf9fMf/AKEKAPcdF/5B/wD21l/9GPV+qGi/8g//ALay/wDox6v0AFFFFAGF4y/5BKf9dk/rXT6V/wAeEP8AuiuY8Zf8glP+uyf1rp9K/wCPCH/dFAFyiiigAooooAKKKKACiiigAooooAKKKKACiiigAooooAKKKKACiiigAooooAKKKKACiiigAooooAKKKKACiiigAooooAKKKKACiiigAooooAKKKKACiiigAooooAKKKKACiiigAooooAKKKKACiiigAooooAKKKKACiiigAooooAKKKKACiiigAooooAKKKKACiiigAooooAKKKKACiiigAooooAKKKKACiiigAooooAKKKKACiiigAooooAKKKKACiiigAooooAKKKKACiiigAooooAKKKKACiiigAooooAKKKKACiiigAooooAKKKKACiiigAooooA+efH3/ACNt/wDVP/QFpPAn/I1WH1f/ANAal8ff8jbf/VP/AEBaTwJ/yNVh9X/9AagD6HooooAp6nfLpunXV26s6QRtKyr1IUE4H5V4P8Nf2vtN8eeJPDWl6h4R1rwvF4mS4fRL+/MbwXvkKXkClGJXCgnkV7j4gtZb7Q9Rt4V3zTW8kaLkDLFSAMngcmvAP2a/2WdH+Gfg/R9Z1jQpIvH8VlNFI93fNdC2aTcHEI3tHHuBAOzAwcVmpPnd9rDdrI9S0v48fD3WrO+urHxdpdzbWNst7cyLONsMLEgOxPTJGMdfal0v45eAdc8KXviWx8Vafc6JYuIrm8WQhYnJAVWUjIJJGBjJ7Zr5+0P9mbxMv7Hmi+DxpNnpfjW0ulv7mylmj23jR3bSiGSaMspDrtGckDjOMGuJ+K3gnxLa+H/Hni7xJ4Xt/B2p+LL3Q9M0HwzDqULyfarWRn8550Bt43ZQxUuSg2AOecHSVoycd7FSiruz/r+tT6s039oj4caxZ3V3beLLI21rcJaTzSh4kimbO1GLKMMcHg0uoftDfDnS9F0vV7rxbYRaZqnmGzussyTBG2OQQDgK3BJwK+WbDwrc/FnwXq/hjRfCWsP4kt/GGl6x4hfWNS0+5W5j3Au4lt3EJ2ovMagHH8JzXo/7RPwt+I/i/wAXNpHh3R3vfAdx4els7W303VYtMjs9QZm3PcdJJImTYAqBhkHIGc0SXLFPd/8AAv8A8AmNur/q57V4q+OXgPwS0Q13xVp2m+dbLexCSTPmQE4Ei4Byue4pfD/xw8A+KvES6Fo/ivTdR1Zrf7UttbzbmeLG4sp6NgHJAJI7gV4Z4e+AvihPEXhe51Xw/DNBp/w7fQpXlngcR3rADygN5Jzj7wG3/aqt8N/2ffFHhfT/ANntpvDcNne+F7PUYtcaOe33W7TQFVBZX/ebnx90sB1OKNL/ANef+S+8zi3LRq3/AAyPaV/aW+FzXP2YeN9IFx5bybDPg4QkMBkcsCCNvX2pmofHTRNQ0XwvrPhbU9J1vSda1ePSzdNdmNQWyGCDaS0gI+6cV4X4b/Zu8S2el/B2O78K2y3GieKb7UtY3S2zGOCTzCjsQ535JT5V3EdwMU7R/gB4209ruNNAWCA/FubxLCiXUAUaY23bMAH4HB+T73+zSj7z10/4df5/gaW0v/XX/L8T6Bb4/fDuPxFBoDeLtNXWJrtrFLRpTv8APBwYzxgNngAkZ7ZpPEH7QHw98L+IP7D1TxRaW2reetobYK7sJmAKxkqpAYgg7c5r598Sfs7+Lr7wH4pt7Tw1E2uX3xAt9cgYXFusj2aXEbmXeXwMIp+UkHttzXBzeI9K0/4yeJdeu9B1nWfBn/Carc2w0nVLJIzfqEgeR7WVlu2ZZVbIX92wAKgjkqD5mk9/+G/zJeib6L/g/wCR9gfFj4x6Z8J9P0prizvNZ1fWLkWml6PpyBri8m27iqg4AAHJJwAOtcR4k/aWu/Ceh+F9U1/wheeE49U1tdKuotcmVGt4yhczKU3Kw4wBkc5qf9oL4eeKda8SfD3x94NsINc1rwde3E50K6uVtft0FxAYpFSVgVSQAgruwOuT643jjw547+M1j8O73W/AC+HZtM8Tx3l7pU2q2155dqqH96zKQpO442LuPAPfhr8blafh/meqaf8AGTwTq3gu58W2fiOzufDts/lz38bEpG+4LtYYyDlgMYzyK4/4gftJaLovw+0/xX4UmtPFNpc61aaQ/lzMgjaWVUYn5chlDZ2kDNeR33wk+LHhnQ/iiPC2k/Z21nx1FqkdnbXltFNe6VtQSiB2YrDISowX2kbT3xnGt/2cviDH4L8T2S+H5VuNS8aaVrdvbT6xFdSLaxFDKzzOw3Mu05HUnhdwwTcUpSV9tP0v+b+4ekWlvq/u1/r5n0J4R+O9hqUnxFn8QfZPD+l+EtaOlG8lnO2UeVG4c5AwxMm0KM5wMda21+OPgL/hG4NfPirTk0eW4+yLdySbUE2CdjZAKtgHggV86/ED9m3xx4r0P4iC1tGt7ifx9beJ9OtV1FLc6naxQxKUEqljExIYqXAIZVJwOaV/2eda1TwrpLW3gbVdMvbjxjY6vqtnr+v2+oyvDECGmZw5TgYG1WYnA4qYpSSv5fpf9fuM5+6rrXf9T6K0z44eA9Z8J3viay8U6fPoVlN9nuLxZDtikyBsYEZDEkYGMnPFUtP/AGivhzqmk6lqdv4rs2sdNlWC6mdZEEUjfdQhlBLH+6AT7V8x/Gb4f6t4KtPjBPeaStrH4s8V6LL4WWK7hhFxPGilnVslIWBjcgzhVLAZyDzl2vgO/wDiz4dvbXw3oGvReKvDviWLW9atr7XbRZdUaSIr+4u7VjAkirghflA74zR6eX6flcFfr5/hf8z68uvjl4CsfCdr4mn8U6emh3U32eG8EhYPKM5QKAW3DByuMjvXWaDrth4l0i11TTLpL2wukEkM8edrqe4zXyRrHwBv2+E8aaf8MfE0fiGfX5dZRF8X2rajY3LQqguvPdzE27btZAzcDPJOB9JfB3T/ABPpPw10Cz8YywS+JYbYLetb7dm/J7qACcYyQME5xTstfINdPM7eiiikUeG/Ff8A5Go/9cR/6E9c34e/5D+mf9fMf/oQrpPiv/yNR/64j/0J65vw9/yH9M/6+Y//AEIUAe46L/yD/wDtrL/6Mer9UNF/5B//AG1l/wDRj1foAKKKKAMLxl/yCU/67J/Wun0r/jwh/wB0VzHjL/kEp/12T+tdPpX/AB4Q/wC6KALlFFFABRRRQAUUUUAFFFFABRRRQAUUUUAFFFFABRRRQAUUUUAFFFFABRRRQAUUUUAFFFFABRRRQAUUUUAFFFFABRRRQAUUUUAFFFFABRRRQAUUUUAFFFFABRRRQAUUUUAFFFFABRRRQAUUUUAFFFFABRRRQAUUUUAFFFFABRRRQAUUUUAFFFFABRRRQAUUUUAFFFFABRRRQAUUUUAFFFFABRRRQAUUUUAFFFFABRRRQAUUUUAFFFFABRRRQAUUUUAFFFFABRRRQAUUUUAFFFFABRRRQAUUUUAFFFFABRRRQAUUUUAFFFFABRRRQAUUUUAFFFFABRRRQB88+Pv+Rtv/AKp/6AtJ4E/5Gqw+r/8AoDUvj7/kbb/6p/6AtJ4E/wCRqsPq/wD6A1AH0PRRRQAUUlLQAVn61oem+JNPl0/VtPtdUsZhiS1vYVmicf7SsCD+Iq/S0AZmheHdK8L6etjo2l2ekWS8rbWNukEY9wqgAflWnSZpaACiiigAooooAK59fAPhhPEDa8vhzSV1xuTqYsYhcn6y7d361v0UALRRRQAUUUUAFFFFAGfrWg6b4k06Ww1bT7XVLGXiS1vYFmifHqrAg/iKbofh7SvDNgtjo2mWek2ScrbWMCQxqfZVAA/KtGigBaKKKACiiigDw34r/wDI1H/riP8A0J65vw9/yH9M/wCvmP8A9CFdJ8V/+RqP/XEf+hPXN+Hv+Q/pn/XzH/6EKAPcdF/5B/8A21l/9GPV+qGi/wDIP/7ay/8Aox6v0AFFFFAGF4y/5BKf9dk/rXT6V/x4Q/7ormPGX/IJT/rsn9a6fSv+PCH/AHRQBcooooAKKKKACiiigAooooARaDS1n61a3d9pN5b2F6dNvZYWSG8ESymByMK+xuGwecHg4pPQC/SDvXyB8QNO+OPgv4j/AA48MJ8dpruPxbeXVrJct4T05DbCG2aYMF2nduK7cEjGc17t4a/tf4Q+D9U1D4j/ABD/AOEoghYS/wBp3Glw2AhTps2Q8NkkY4z2o0te4a3S7npVHpXm/gX9oTwJ8RPEB0LRtZkOseU0yWN/ZT2cs0Y+88azIhkUZGSuRTfFf7RHgDwTc6vbaxrwtrvSpo4Lm1S2mkm3um9VRFQmTjn5Acd8U9gPSvTik9a4PxZ8bvBvgjQdJ1bWdXa0t9WQSWMC200lzcKVDfJAqGQkAjI25GecVo/D/wCJ3hn4oabLf+GtUTUIYX8qaMo8UsL/AN2SNwGRvZgDR38hXWj7nWCivI7v9qn4Y2Wsf2dN4k2Fbj7K14bK4+xrLnbsa52eUDnjlutdN4++MHhP4ZQWMniDVltnvs/ZLa3ikubi4wMkxxRKzsACMkKeopX0TKs9jt6SuQ+HfxU8N/FTTrq98N30l3Fay+TcJPay28sL4ztaOVVYHHqKveNfHWg/Dnw/PrniXVLfSNLgIV7i4bALE4VVA5ZieAoBJPQU3oJa7HQmivl/4jftEaR4y1r4a2/gzxFfW0tx4mt4b6zeCexmlt2V+HilVGaMnHOCDxXtHxC+MnhH4WPZxeItVNvdXmTbWVtBLdXMwH3mWGJWcqO5C4FLpcOtvK52/rS1y/gP4j+HPiZop1Tw1qkWqWauYpCgZHicdUdGAZGHowBpvjj4keHPhtDpUviTVY9Jg1O8FhbTTK2xpijuFZgCFG2NzliBxjOSKNgWux1dJXl3hL9pP4d+NvE0Xh/SvEG7VJgTbRXVpNbLdAdTC0iKso75UmtHxd8dfA/gXUNX0/XddjsL3S7e3urmBoZGfZO0ixbAFPmMzRONqZI28gZFPsHc9BpK4HVPjh4L0TwPp/i7UdaWw0S/A+yyXUEsc05JICrCyiQtwfl259qX4d/G/wAF/FK6u7Pw9rH2jULVQ81hdW8trcopOAxhlRX2543bcUdWhX0TO+ory/xl+0d4C8BX+oWOp6pdT3OnLvvV0vTLq/FoMZ/emCNxGcc4bFO0b9ovwJrngMeNLfUryHwyZobdL+80u6tlkaVlWMoJI1LKS6jcoIGeSMGhaq4z02iuE8J/Grwf478Qato+h6sdQu9KTfdSR20ot1GSDtmKiN8EHO1jjHNc9pv7VHwy1XWrTS7fxGwku5RDbXU1lcRWk8hOAiXDRiJmJ6AMc0dg73PXOKK4Txl8a/Bnw/1v+yPEGtx6bqBs/t6wyROxki8zywVIU7mLEAKMsewrn9P/AGqPhhqel399F4nEX2GRYZ7O5tJ4bxXbO1RbuglJODjCnOOKA1PW+KK4j4b/ABg8JfFq3vZvC+qi+axkEV1bywyW88DHkB4pFV1zzjKjNYHib9p74ceENautL1TXnins5PIuporG4lt7Z/7ssyRmOMjvuYYpbNJgeq4o4xXPeIPHnh/wv4VbxLqusWljoKxrKdQllAiKtjaQe+7IwBycjFcf4P8A2hPBHxSj1i28Na1dfabK1eeWSbTLiAxoAf3qiWNQ4HUYyDQ9L+Qdj1LdRXm3w88daRp/wW0rxPq3jNdc0hLP7RL4l1C3+xCZMn52jbGz0wea8/8Ag78QvhxrnxQ1vVIPF82seL9eIW1F/YXFhGLVPuQ2qTAK4HJLKSWJJ4GAH1sL7PMfRFGK4Dxd8c/BHgLXrrRde12PT9Ut7KPUGtWikZ2hkkaNCgVTvYsjDauW46YIqb4dfGjwf8V3vYvDWr/a7qyIF1ZXFvLbXMOehaGVVdQexIwaNx7HcbaK5T4f/E/w38ULPVbnw1qa6nDpd/Lpd2yxunl3MRAdMMoJxkcjIOeCa86/am8XeLPDel+B7Dwf4g/4RjUNe8S22ky6iLKK7McUiyFiI5VKk5UHseOtLt5/qJtRTb6HuOKMV82axrvxU+Aeu+FrnxR42sviP4X1rVIdKu/O0WLTryzeU7Y5I2hbY67sAqy5x0Pp6T4q/aI+H/gmbVoNX14W9zpc6W1zapbTSzeYyCRVRFQtJ8pBOwHHfFHTcPkelcUveuF8U/Grwf4J8NaXrutawtjZaoiSWSNBI09wGUMoSFVMjNggkBcjuBUnw5+MXhL4rR3beGtXW9mtCBc2k0UlvcQZ6b4ZVV1BwcEqM0+/kF9E+52tFeTeL/2ofh14HutUi1LWLqX+y2KX02m6XdX0Vqw6rJJDE6ow7qxBFadl+0B4JvPDeia+dRurLSda1CPTLC41DTrm186d1ZlAWSNWCkKTvIC8daFr/XcHpuej0VwHhH45+CfHVrrd1o2sfabLRQTeXkltNFbqoBJZJHULIuAfmQke9ZXhr9pv4c+LvElnoVhrzrqF622zF5Y3FtHdtgnEMksapIcA8KxNHWwz1SjmuB8YfHLwV4D1qfSNd1pbHUobZbv7KYZHd42YquwKp3sSD8q5b2rCsv2pvhjqGhXOrQ+JlaK2uBay2jWs6XqzEbgn2YoJSxAJAC8gH0pXTV0B61mjNcV4D+MHhH4maLf6t4c1Zb62sGK3atDJFNbsBkq8Tqrqcc4KgmuSn/a4+FNrYafet4o8yyvYY51uYbK4kjhRxlTMyxkQkjtIVND0Dc9jpK8m1/8Aan+F/hnUEtL7xTCNxVWu4Leaa1i3AFfMuEQxx5BB+ZhWj8SvEMFhrPgFF8YTeHRqGsJFFb29n9pTVgY3b7OzYPlqQN2/I+770xXR6VSGvOvFXx/8CeCta1LSNY11bbVdPWJ5rJbeWSY+apZBGioWlJCk4QMRjnFaHw5+MPhL4sWt5N4Z1Zb5rKQR3VtLDJBcW7HOBJFIquucHG5RnFA9tztaK8c8Wfta/DDwXDfT6jrl3JZWMhiub+w0m8u7WJwcFWmhiZAwPBGcivRvCPi7T/G+g2+saWLsWNxzGb2ymtZGAPXy5UVgD2JGD2oWquD0NyivJ/2j/iFrXgnwPaWHhOWOLxr4k1CHRtEaSNZFjnkOXmZCCCscSyOQRj5QD1rX+BPxEn+Jnwx0jWL9Fh1lEa01SADb5V5ExjmXHYb1JA9CKS6+QPS3mehCivIb79qz4Zafq0lg/iGSUxz/AGd7y20+5ms0kzgqbhIzECDwctxXQ+P/AI4eDfhndWtpruqtHfXUZlhsbO1mu7h4x1cRQqzbffGKL6JjtrY7ygda8a8efGDw54k+Cd/4q0Tx1P4X0pbmG3OvQ6bJPJbyeeiGNoGQNliwQ5AI3Z7V2vjb4p+GvhrDYDX9SMNxekpbWsEElxc3LAZOyGJWdsdTtU4p26itpc7EcUteUeBP2l/AfxI8RXuhaFd6tcalYZ+1xz6FfW622FL4keSFVQlQcBiCegyapXn7W3wssdPgvD4kee3kBZmtdPuZzAoYqTMEjJiGQeX2+vSjsB7HRXG6t8XfCOh+B7Txjda3bnwxdmEQanBmWJ/NYJGQVB4LMBnoO+K5ux/ag+Gd94kTQ18TxQ3sm8Qy3NvNDbTFQSwjndBE5AUnCseho2dg3Vz1aivLPDX7S3w58XeKbbw9pniIPqd1n7Ks9pNBFd46+RK6Kkv/AABjW58QvjH4S+FrWkfiLVDbXV5n7NZW1vLdXMwHUrDErOwHchcCjawdWjtqM1xnhr4ueE/GHhG+8S6PrMd9pFirtdyIjCSDYu51eMgOrADO0qD7Vx9/+1t8K9NjtppPFHmWsyJIbuCxuJYIA4BXzpFjKxcEffK470B0uex0d68U+PX7Sej/AAd0Dw5qELHUv7cu7eO3kt7Wa6iaB2G6QGIHJ2nKgHJJGAa9K8E+ONL+IOhR6xo7XZsndo1+22U1pJkHBzHKisB6EjB7Ua2b+Qrq6R0NJXjn7Rnjjx94V8K6hH4E0mJbuLT7i+n8Q6hta1sUiUtgR53SStjAUjaOpJxg9l8MfElxrHwp8N69rFwJLq50qC8u59gUFmiV3baAAOc8AUujfYHo0u/6W/zOy4o7VzPw++ImgfFLwvbeIfDOoLqej3BZYrgRsm4qxVhtYAjBHcV4P+1n8YPHXww8d+A18J36xaULe+1TWtPNpFKby2t2ty6B2UshCPIcqQTjHuDql3Hvc+nuMUCuf1DxtpWm+B5/Fk1yo0aGxbUWnyMeSE35/wC+a8J/ZB+Kfj74jaz8QYPHd6k0tnNYXVlYraxwmwhu7c3CwEqoLlVdFLNkkqaa3a7C6J9z6Xpa8j1j9qj4ZaDq02n33iMwNBN9nmvDY3Bs4ZM42vcCPylOePmYV2mufETQPDmvaFo+o35trzXGZNPLQyGKZlXdt80LsViOQrMCe2aFqkx+p0/ek4rmz8QND/4Tj/hEFvTJ4g+yfbmtI4nfyoc7QzuFKpk9AxBbBwDg1wngP4q6D4e+E8vifWvHU3iXSI9TubdtaudOa2ZWN00awmNVzhG+TdjBC54FTdXsOzPYCM0V5Ra/tQ/DK78TQaEvieOO8uHMcE09vNFazsASVjuGQRO3B4Vial0H9pj4ceJfFVv4esPESvqV0xS0821mihuiOohmdBHKeP4WNPewvU9RzRXP2vjfR73xlf8AhWG73a7YWkN9c23luAkMrOsbbiNpyY3GASRjkDIpsfjzRJvG8/hFbsnxBDZrfva+U+BAzbQ+/btPIxjOfahO9rB3OjFFeQ6l+1d8MNLtDcS+I2lRZZoZUtbC5nkhMUjRu0ipGWjUMrDcwCnGQSOak1v9qj4X6Da2txP4pjuba4hW4E2n2012kcbdHkaJGEY93xQmmrodrOzPWc0YqhoutWHiTSbTU9Muor7TryJZre5gcNHLGwyrKRwQQa8O+OWuePL/AOMngbwX4O8at4Ki1WyvLq6uk0q3vmYxFNo2yqcfePQiplLlaTW4lZq59AGivn3w14u+Inwv+MXhnwN448RWPjvSPE9tctp+tRaaun3dvcQKHeOWONjG6FTwyhSD1Hr2PjL9pT4e+A9autK1fW5o7u0IF19msLi5jtc8/vXijZY+P7xFV0T7hrc9RzzSZrzD4reNdOb4d6Vrdh44PhrTr+8smttbsLUXy3CySLtjUAEbZAQu7oA2a1vF/wAaPBvgHVLnT/EGuQ6bd29iNReOaN+YGfywykKQzF/lCrliSOORT9e4vQ7rijivPvAvxz8HfEbVLfTtD1G4mvZ7I6jHBdWFxas0AlMRcCWNejgjHXocYINaGg/Fjwt4o8da/wCDtM1VbnxHoKRSahZiJ18pZM7SGKhW6c7ScHAOM0dbD7nY0V5F8SPipoN94V8Sx6d41n8MXGh6nb6ffapb6dJc+ROzIwhClcPuDBSVJC7uSK3vHXxs8HfDGSxs/EGruuo3cXmw2dpaTXdzKg4MghhR325/i24zUqSYHoA6Udq5Lwh8UvDHjnwrP4j0jVEk0eAuJrm4ja38kqMsHWQKykDruArmPDf7Tnw38WeILXRtO8Q5vLtzFaPc2c9vBdsP4YZpEWOU+yMau2tg6XPVaKKKQBRRRQAUUUUAFFFFABRRRQAUUUUAFFFFABRRRQAUUUUAfPPj7/kbb/6p/wCgLSeBP+RqsPq//oDUvj7/AJG2/wDqn/oC0ngT/karD6v/AOgNQB9D0UUUAYvi7xBB4R8MatrdwpaDT7WS6dR1KopYj9K+ftX+N3j640n4U+HNJXTYfG/j5bm8N5dQN9m021ij81iUBy7BWRQMjJya9/8AGnhuLxj4S1rQ5m2RalZy2rN/dDoVz+Gc14s/7P8ArPjb4e/D57/VbnwT8RPBW5NO1uxWG7UfIYX3RtlZIpEAJUlSOORyClu77afr/wAAO1vM5u8+PXj3wLb/ABP8L+JpdKv/ABZ4a0Bdc0/VrG3ZILiNiVAeIk7SrDpnkVgfAv4+fEn4wazq3h3S/E2g6+G0GPUovFVjpMkdtpt4ZVU2kqE7ZGKFm+VuMfWvR7D9lme60Dx2/iPxrdeJfGXi/Txplz4gm0+OCO3gUHYkVsjAKoJJILkk9xXsnhTw5D4V8NadpERST7JbR25mWMJ5m1Qu4rk4zjOMmlFWk29dF9+v/ABtaWVv6X/BPkDQ/jt8ZLf4GfE34gap4i0G8Phu5utNtbSHSvLJmhmVPNY7zkEE/LXpmtfFf4g+Ovibb+AfAl1pOiXdj4etdc1XWdUtWuFLTkrHDHEGHXazFieOlaQ/ZYX/AIUf49+Hn/CTHHirUbvUDqP2Dm28+YSbPL8z59u3Gdy5znA6Va8afs46ne+KtM8XeCvHV14H8XW+kx6Jd3qadFfW19aocqJIJCAHVskMGyM4ORVvpb+tP8zSVrPl3u/uuv0ueX+JP2mPiS3wvu4NJttJi+Iul+Ko/DdyDEz2t0xVmVlUnK7wAOp2k13Hgv8AaSufiJ8RPhba6UYoNH8RaPqlzqlpLH+/try1MStESeVKOzgjHPBrR0n9lWz0fwxo+np4kvLzU4PEkXibUdXvrdXl1C4UkspVSqxqc4GM7QMYNULn9kaOz+N+t/EPw94ql0RNTsrtDo/2LzYYb24iWOW7RvMXBYJGzLt5ZSdwzwXS3V//ANn/ADOeSckraar7ub/IzPhx+0Z4i8T/AByfTtQFmvgLWrm907QJUi2ytcWhHmbmz8wYbiBj+A16D8A/iNrXxI0vxzJqskAl0nxVqWj2jQxbQIIJAse4Z5YA8nvXm2l/sC+DPDOn+Ervw7dyaR410G+t79/ExWWZ71lJMyvC020CQFgcHIz379H4D/Z/8d/DfxnrOo6T8UIm8Laprt1rtz4cPhuIvIZ33tELppiw7Lu2jpnApJK3K3sv8tfzNHtdd/w1/wCAdt8FfiFqPjfw/rUWsRxHXNE1O40y68gbUkMbfK4HbcpU4rx74M/tGeI9euvEOr+OfEWi6NHo8Fzcaj4LOnyQ6lp6Rs21gzH96pUA7lBB3DmvWvgj4B1bwjoPiG61vbZ654g1W51OeGF1kFvvbEaBhwSqhckcZrhYf2TdR8UeJG1b4k/EC48dNDp9zplmsWj2+mvHFOu12leLJlbAGOFUHnbS16dvxt/mNW1T7/gX/C/7TX/CaTXGk3fhjVPCOoX+i3Gs6JNfSRyLe26DlxtJ2sNyna3Y1z3wY/aeNv8ADnwxF4xS6l1J/Bq+JH1iZ0C3xTIlQKAMOOD6fMK3/A37L174e1yDU/EPju68Uzabo02haJG+mxWyWNtIAGL7CTNJhVG4lRgH5ecjM8SfsaWfiX4ZfDnwk/iia1l8JRJay6jDZDOoWuAJYWQudivgZ5bGO9L9bfr/AMC5PW7/AK2/4IWH7RUn/CVazrN5Z6ta2dr8P18VHQZZIjGiiSQ8MF3eayqASTgDHGav+F/2vNP1fUIYtX8J6t4dtb7QpPEOm3Fy0chvLaNA74VTlWAIIB6gjpW54x/Z1h8VeKvFWrw61/Z8WueDX8IJarZ7xbKzORMG3jdgNjZgdPvc1zfir9nzUvDth4Z1/RNQk1rVfCHhC48PW2mxQiB79miSPzVkLsImGzIXa3Jxmq0Sbf8AW/8AwCoK/wAT/rT/AIJqfCn9pmb4o/EK08NR+EZdNhudFTX0v21KOYfZnYpHlFXIdm6qTwOea5b4yeLPjH4d+NXhfw54e8WaDZaR4omnS0S60cyyWgijDHc28bsnPp1rF/ZR8KeOvA/iqx0tdKhXwm2nyHVL288Irod2tyu3ylDiVjckkvuYqBgZzk4r3Xxv8JR4y+JPgfxYdVNofDMlxILT7Pv+0+amzG/eNuOvQ59qckrxaMbytKx4VqP7R3iv4ZfGb4w2+raXqXjDw/4csdGupEsTFDDpsbWztcSjdy25sMFyThG6Y56z4gftteD/AAPqi2yWx1GGPToNVu5WvobZ4reUBl8uORg0z7TkovNb/iX9mtfEWq/GS8/4SE2//CxNMs9OKfYt39n+RA8W/PmDzd2/dj5cYxk5zWJcfsm3WmatYap4Z8YQaPfjSbXSdQN/oUOoR3SwIESWNJHHlPgHuw6ZBxTutPkdFS32e36L/gnv+lalBrGm2l/av5lvcxLNE395WUMD+RFW6gtYRbW8UOc7FC8AAcDHQcD6Cp6l7mavbUWiiigZ4b8V/wDkaj/1xH/oT1zfh7/kP6Z/18x/+hCuk+K//I1H/riP/Qnrm/D3/If0z/r5j/8AQhQB7jov/IP/AO2sv/ox6v1Q0X/kH/8AbWX/ANGPV+gAooooAwvGX/IJT/rsn9a6fSv+PCH/AHRXMeMv+QSn/XZP610+lf8AHhD/ALooAuUUUUAFFFFABRRRQAUUUUAFFFFAHz78fBj9oT9nv/sLap/6b5K6r46fFDUvAP8Awiej6JZ2tzrfijUhptrNqBP2a3baXLvjk4A4A6mu08QeAtD8T+IvD2u6nY/adU8Pyyz6bP5rr5DyRmNztVgrZRiMMCB1GDzUPj74b+G/ihoJ0bxRpUWrWG8SqkjMjRuPuujqQyMOzKQfepS0sVpe77f5nzd8RF8SaP8AtNfAe18S+LdN1jUpr7UJIrKz09bd4Y/sbq7btxYqzbRg4yR7V13wi0Gxm/ao+MeryW6yahCLGCKZhyiGIlgvpk4yRXoHh39nX4eeFbzS7zTfDojv9Ou/tttfT3c89yJfKaLc80js8gCO6hXYqM5Azg11WjeBdD0DxJrWvWFl5GrayY2vrjznbzjGu1PlLFVwOPlAz3qVFqSd+/5Ey1Vj5s8YWXi3Uf22NRt9K8S2Phu7fwlbf2Q+paeLpZoxPJ9oWHLLhgxQtjkjbngV1+leCdd+COqfEH4qeKfEcHiW6bRPNuLHTrEWgkFururbQxBYj5d1epfEb4Q+D/i1p8Fp4s0K31aO3YvBIzNHNAx6tHKhV0J9VYVU+H/wO8D/AAw02/sfDmhJaW+oLsu/tNxNdvcLgja7zO7MMEjBOOacU4xst9fxG/ivbsfOfxw1zx54k/ZP17xfr3iXw/oOj6powvI9HtLESjbKgaOITM2S5LD5lHXoK9PX4W6x4u8O/Drxv4Z19NG8X6XoMNqkl5bi4triGWONnSRcgjJAO5SDW3p37Jfwp0tbhIfCUbW8yPGLWe9uZYIA4IbyYnkKQkgnmMKR2re8U/AnwV40sNKstT026MOl262tm1nqd1aSRRAABfMhlRiMAdSa00toLor9L/oZnwc+KWseL9f8V+FfFOkW2meKfDclut2+nymW1uI5kLxOjHlSQpyrciuQ/aIWJvjT8CP7XCnw9/bd3v8ANx5X237K32Xdnvu3bf8AaxXrXgH4ZeGPhfps1h4Y0iHSoJ5POnZWaSSaTGN8kjlndscZYk1a8beBdA+JHh2fQ/E2k2+s6TcYL21yuRkHIYHqrA9GUgjsaT3TXQF17M8M/auTSG+IPwOafyf7Y/4SuMW2ceb5flvvx329M9s4rm/7P8Z6p+2H8RING8Uad4b1E6Vp7WC6lpy3TT2YVt/kkspCrJu3AdyM17Jof7Mvw28OSWUtl4c3XVlcx3cF3dX1zc3CSR/c/eyyM5Uf3C232ra+JPwW8FfF2C3j8V6BBqklrnyLpZHguIQeoSaJlkUHuAwBpL3V31Y2+b7rficx8H/g/rvgPx14t8Sa94mtdcv/ABAsHnxWVkLWNXiBVXKhjlipwT3wK4b9uBtJW1+Dp13yv7IHxA037R5+PL27JvvZ425xnPbNezfDf4Q+EvhHY3Np4T0gaZFdMHndp5Z5ZSowpaSVmZsAnGTXl/7W+irr118HrSay/tC0k8c2QuYWi8xDEYLgNvGCNpBwc8c02/ehbo1+YltN+T/Ib+2MbRvC/ghbfafEJ8Uaf/ZXl483d5o8zb327N27Haqeh+H7LU/26/E+o3cCz3mn+D9P+ztIMiJnuJwzKOgbC4DdQGYdzXonhH9m/wCHPgfxJHr+j+Gki1aJSsE9xdz3ItlPVYUldliHsgUV1lr4D0Oz8b33i6Gx2eIb6zisLi881zvgjZ2RNhbaMF3OQATnknAo2a9X+ViZe8mvJfnc8f8AHXlf8NefD9tY2f2cdFvBpvn/AHPtm5d23PG/y8474zR8ZPJb9pb4KDSyv/CRCbUDdeV9/wDs37Od/mY/g8zy8Z43dOc16346+HPhr4maP/ZfifSINXslcSIswIeJx0ZHUhkYf3lIPvWP4E+Cfg74VtfXXhfQ0tNTuk2y311cTXVzKByqtPM7yFQf4d2Pap6K/Tt/X9IrdvzPG/AM3jDw14++KHh7wVpOk+JNObVjdT32o3ht3triaMMYnUKxlVRjkY4OKw/j98MR8LP2IbHwXPd/2h9hu9PhmnUFFdnvkd9o6hcuwA7ACuZ0/wAO/B7X7jUr/wCN2j3svxLmu5heLdRXsTOiuwiWBYSqsgQLtKgk9yTXqfwJ+Esfiz4XeI9A8W6Vqr+BrnXmu/Dej61czrd21jGY3hDMX81V81GdVZshSAeDiqp20vsrP7ioyUal3tc9K+Knjqx+AfwT1nxHa6YLiz0CxVoLC3wqnlUReOgywJPpk189/tRHxza/ApNS8V+LNBtra5vLIx6Pp+ngqzmZCqRzM24lf7wHQZ4FfXetaFp/iPR7vStTs4dQ028iaC4tbhA8csZGGVlPBBFeX6f+yb8KtNsZrWLwr51vInlBbvULu48hMg7YTJKxhXIHEe0YGOlTL3r26iVkkvU4jU9PttS/bg8DT3MKzS2vga5nhZxkpIbiNdw9DtZhn3NX5NHsbj9ueK9e1ia6h8GF0mKjcrfaduc+u0kfQ17E3w78PN44s/FxsD/wkNnYNpUF550ny2zMHZNm7acsoO4gnjripf8AhBdD/wCE2/4S/wCwn/hIfsX9nfbPOk/499+/Zs3bfvc5xn3xWl9YW6X/ABv/AJoJNNPzt+Fv8jybRfJ0r9rjx9dLHtDeE9Pnm8scyMs1wMn1OBiuIu/Hvjb4ufs7654+l17QfCPhPUdNupodPazFzJ5IEigSyMwUO2BkAcE19JW/gnRrXxhe+KI7LGu3lpHYz3Rlc74Y2ZkTYW2jBdjkAE55J4rhLX9lf4W2esXGow+E4VeaR5ntTdTtaCRs7nW2L+UrHJ5VAawUXy8r/rVjTtLmX9aHz3Y3i3fwr/ZFm12USeGXv7c37zf6k3H2KT7H5meMebjGeN22vsTxlj/hEdaHf7DN/wCizWU3wp8JzfD+HwRPodtdeFIoFtk0y6BmQRr90ZYlsg4IOcggEGsPwD+zn8PvhjJqEvh3QpLSW/gNrPJPqFzcsYj1QGWRto9lxV1V7T2ltFK9iI6NPyPmhdn/AAy5+zkdRK/8IwviHTTrPm/6ryf3vl+Z22ed5Wc8ZxXsf7Yf2Y/D7w6Lfb/wkH/CQ6f/AGN5ePN87z13bMc42bs44x1r1XT/AIYeFdM8AxeCotFt5vCsdv8AZV0y63XEZi/ut5hYt+JJrnfBf7N/w6+H+tw6xovhxY9SgUrbz3d5cXZtlPVYRNI4iHsgWmt9dr3/AC/yF087W/P/ADPOrfR7W/8A293vbuBJryy+H0JhdwD5bNfSBivocZGR2J9a0rhRb/ttWnlBY/tHg9zKVGC+25AUt64ycV66ngHQo/HknjJbHb4kl09dKe981+bZZDIE2btnDMTu27ucZxxSyeAtDk8cReLmsd3iKOzOnreec/EBfeU2btv3uc4z7046Wv0v+N/8xVE5c1uvL+Fv8iTwnJ4cktrw+GzpjW4vJRdf2WY9n2nP7zfs48zON2efWvC/21LXVLuw+FkGiXkGn6vJ40sha3VzD5scUmyXDMmRkD0zXtHgT4aeGvhla6nbeGtJj0qHU7+XU7tY3dvNuJcb3JZiRnaOBgDHAFT+LPAeh+OJNHfWrH7a+j30epWX754/KuEBCv8AKwzgMflbIOeRS/l8rFS1jJLrc8z034GeJvE3iPQdY+JHjNPEq6LOLuz0vTrBbS1+0AYWVxksxXJwCcVhfBvw/YXH7Ufxn1mS3WTUYnsLaOZhzGhgDMF9MnGSOuB6V9F7a5/RfAuieHfEOt65p9j9n1TWmje/n81285kXYh2sxVcLx8oGe9NOzuJq6seP3QjH7a1sdX2+W3hMjRPOxt84XH+kbM/x7dmcc7aZ4o8tv20vBP8AZJX7b/wjeof255XUW26P7P5mO/mbtuecZxxXq/xA+Fvhb4pafDZeJ9Hh1SKF/MhkLPFNC396OVGV0b3Vgaz/AAf8I/DXwo0nVP8AhDNEhsr+6jLPPPNJPPcOqnYJZpWaRgD/AHmOMmpXupN9L/jf/MqS5n62/C3+R4P8NtP8Zw6X8SfAvhHS9G1jQBrmoW/9u390YpI5Zz5kqyQhSZChl2hsjdgelVf2kPhza+FfhN8BfA91K2o2dr400TTpnbK+emJEYH0DAkY9DXH+GPDHwQ1jRYtQ+LOh6ndfFa6/e67FdRX8d1Jd9GEUcJVSowApQYwAck5Ne2/BH4S/8JL8KdAtvHmm6hPFpGvNrXh+01a6mF3YxxysbTzWD7mZVP3XJGCAwOKqHu2v05fwC65m+/N+J23xz+Jh+DPw4/tSy0yG9nkubfTbS1c7IFeVwiF8dEXPOOwrwT9pePxjo1n8MZfFni/R7mW58ZaT9m0uw04RkyCbLGORmLYVcg8cg89a+q/F3g/RvHPh+80TX9Og1XSrtNk1rcLuVh2+hB5BHIPSuC0n9lv4Y6NCqW/hrzWWaC4Se8v7m5njaGRZYgkssjOqq6qdqsFOMEEcVOt033T+QfZt6o5JdJtbz9t83k0CSXFp4SUwSMMlC05DY9MgVX8MaPYt+3d45vzax/bIvB+mbJto3DfPOGOfUiNBnrgYr2xfAuiJ42fxaLLHiF7MWDXnnPzAG3BNm7b15zjPvTbXwHoVl441DxfBY7PEV/ZxWFxeea53wRM7RpsLbRgyOcgAnPJOBUQi4qN+jf43/wAxS15rdbfhb/I8Z0GFLb9oT40iNFjWTQ7GVwvAZvLkG4++AOazP2d9BsLH9hLSYIbaNYbnw/c3Ey7QRJI/mMzH1JJ7+1e8w+AdAt/EWs67HYbdV1i3S1vp/OkPnRoCEXbu2rgMeVAPPWm6D8O9A8L+Bbfwbplh9m8OW9sbOOz86R8QkEFd7MXPU8ls+9VJNwcfJfqC+NS6L/gHgfgTQ7Cz/wCCfH2WK1jW3k8GXMjR7RhmNu7Fj6nPOfaszxE7SeEf2VGdtzNqGnFmJySfsDV9G2Xw38Paf8Pl8EwWHl+GfsLad9h86Q/6OylGTeW38qSM7s89arXHwo8LXVn4UtZNM32/hWSOXR0+0Sj7K0cflochsvhTj592epyea1lLmnKXdr8LkQi404xfZ/ikeQeA9LtLj9t74oX8luj3ltoOlRwzMoLIriTcFPbO1c/Srek2aSftleNrZP3KXng2zMxj4LN58qhj6kLwDXsOn/D/AEHSfGer+LLWx8rxBqsENteXfnSHzY4t3lrsLFRjc3KqCc85rC8beC100+J/GfhjTlk8f3GjNY29y0jMHCbniTyy2zh2JzjJ6EkcVE2kk+iT/U2k+du2m34W/wAj59+HOg+N/GHwN8Q/Dfw/puiXHhSZ7/Q4fE1zdMrmJmdHka2Cks43Nj5hkgGvqvwpoaeF/DOkaNHK88en2kVoksn3nEaBQx9zjNfF2i+D/wBna90SG58VeH9Yv/iBOnm6nbsmopqMt6wy5WOJlAYsflKgKOMYr6Y/Zv0rxRovwa8PWni97ptZRJDsv5PMuYoDIxhjlbJJdYyikkk5HJzT1tbqZtq6a2PHfG2oePviN+00+qeAtJ0bWtN+H1q+n41u5khhGoXKBpXQoDlki2oc9PMarfwHuvFvgX42+LvCfjvTtM0n/hMEbXdPg0m4eW381QEuFUsAQxG1iPxr6G8I+BdE8CWt7b6HZ/Y4768lvrjdM8ryzyNud2Z2LEk9s4AAAAAxTfEHgLQvFWtaLq2qWAuNR0WV5rG4WV0aJnUq33WG4FTgq2R7Uo6WT10/r8SpPmdzwnUtM8afsn+C7270m40/xb8N9J33Mmm3g+z39nbliziOQfLLt3cBgCfXNdj4q+HWu654osviX4B1qDS9cutNjt5rLVrYy213b53orYIaNgW6r+Iq5H+yn8MF1Rb+Xw7LeMsvnC1vdTu7izD5yCLaSVohg8j5OK3PHXwL8F/EjUo7/XdOu5byKPyhLY6pd2RKDoreRKgYexzR0XcOr8z53+PPxSu/ib+yl4+TVNKTR9e0HxBaaPqdvby+bAZ0u7Zy8b/xKVkU88g5B6V6B8ZF1Tw98dfh1r3hq3tNZ8Q3Vjd6cuj30vkI0ACyPKsuDtZSFGMHIPtXpE/wJ8BzfDt/Aw8OwQeFZJUnfT7eSSLfIsiyB2dWDs29VYsWJOOc14t8dNN8Ma78YGs/jDp91P8AD+1sI30ORY51tBdEkTGWWHDB8bQAzBcdBmqclZRW9/0Kv7lu1/zR6J4E+Huv2Hi/x5498TrZ2OqeILG2s10vT3MiW8Nukm1nkIG92MjZIAAAUVjfsV6HYWP7PumeRbRp9tubya4wo/esZ3BLevAxzXGfBXwZ4ctPjVZT/CTTNX0r4df2VdR6+9y92NPvZ2KC3WBZ3OZF+clkGADgnJr6T8GeCtH+H/h+30PQLP7BpduWaODzXk27mLN8zsWOSSeTWbhrzLa36kXu7Po/0Phqa2juf+CecFnKge1XxVJbrEeixjW5FCgegHGPSvdP2yPD+m3fwv8ABGmzWcMtiPFui24hZBtEZuFRlA7AqSD7GvTf+FC+Bf8AhX6+Cf7Dz4YW8N+LH7XP/rzOZy2/fv8A9aS2N2O2McV0HjDwDofj3T7Gy12y+3W1lew6hbp5zx7LiFw8T5RgTtYA4JIPcGtbq0e6km/w/wAjSTurLz/E8t/ais4BZ/DiURIslv4u04RMAAYwWKnb6cHHFeey6f4y1X9sTx9Bo3inT/DeoNpFg2nrqWnrdNcWgVt/k5ZSAsmdwHcjNfTPijwTo3jSOwTWbP7YtheR39sPNdPLnjOUb5WGcHscg9waxfiV8F/Bfxdt7ePxXoMGqPbZ8i5DvBcQ56hJomWRQe4Vhms4pxbfn+iJ0enl+p5TF8H9e8CaX8W/E2v+JrXXL/X9FZbiGysRaxhooXVZCoY5YqcE98D0rY/Z/wDD2nad+yL4b0+C0iW0m8PZli2ArIXiJcsP4ixJznrXbeDfgX4H+H/hvVtD0HRBZadqyGO+D3M00twpUrh5ZHaQ/KSB83GeK6TQvCGk+G/Ctr4b061+z6La24tIbbzHbbEBt27mJY8dyc+9OXwSiutvwv8A5i6r5/ofG1vcPN+x1+z7PM+7ZrOkhpHPAUTMoyfoAK+4l5Uc9q4j/hS/gr/hWtv8Pn0GG48IW8It4tNnkklCIDlcOzF8g8ht2R2NavgXwDovw50KPRtBt5rawVi4S4u5rp8nrl5XZj0HBPHatJSu5dm2/vsYU6bgo33skZnxw/5I344/7At5/wCiWqD4IeX/AMKR8Febt8r+xLTdu6bfJXOc9sV12uaLZ+JNGvtK1GHz7C9he3uIt7LvjZSrLlSCMgkZBBqLSfDOnaL4dttCs7bytKtrdbSK3LswWILtC5Ylj8vGSSfes1dKXnb9TZ6uL7X/ABt/kReEn0CTQoD4ZbTm0fLeSdKKG3+8d23Z8vXOcd81458VtNt9Z/ae+F1hdxrLbXWia9DIjDIZWjtwR+Rr1rwD8PfD/wAL/DNv4f8ADGmppWj27M0VrG7OFLMWY5YknJPc1JqXgnRdV8W6P4murLzdb0mKeCyuvNceUkwUSrtDBW3bF5YEjHGOaeja/roGttD5G0XWLnXNH039nW6laTUrLXWtdQU/ebRIWE6Mf9l1McefqK9E+G2tReEfjL+0pqphMsGnyaXP5MfBYJpqnaPyxXtdt8NfDVn4+vPG0WkxR+J7u1Wyn1EM294VOQuM7Rz3AyeMnipNJ+Hvh/RNd8Sazaacqal4iaFtVleR3W5McflplGJVQE4woAPfJ5ou+V92tX53X+Q9L+R8w/FTxP448dfso+KfGmseIvD/AIc8OapoNxPHpMNiJy0ckbBImlZh+8YlRlRwx46V1Hjq80ib9j/wgNZ8+41e70jTRo625/0p9RMKGAxHruDck+mc8V31j+yh8KtOnunh8JQmOdZVNrLd3EltH5ilXMULSGOIkMRlFUjPBFdXF8JvCsN54Wuhpe6TwxbfZdIWS4ldLVNgQEKzFWYKAA7AsBnnk0mk7262/C4tbxfa/wCNjyT9kNZ7Wz8UWfi7d/wtdbpX8RvOQXlBX9w0ZHWHbwuOAQe9eOfZYr79g3VbadBJDN4luo3Q9GVtVcEfka+zLjwDoNx42tvFrWW3xDBatYrexTSRloGbdsdVYLIARkbwcHOMZrHj+B/gqPwLJ4OXRseHJLpr17L7XNzM0xmZt+/fzIS2N2O2McVjUi5tSXa34r/IqPuq39bM8l/bM0DTrj9n3QtNe0iayXXtDhSLaMKhvIYyF9MqzLx2Jrd/astIIfCvgYxxLGbbxTpoh2qB5Y8zGFx0GOOO1eq+MPh7oHxA0ODR9esPt+nQ3MF3HD50ke2WCRZImyjA/K6KcE4OMEEcVL4s8D6L44s7O21uz+2w2d3FewL5rpsmjO5GyrAnB7HIPcGt46O7/mv+X+Rm43T9LfmeT+G7qKL9svxrbSSKk8/hLTJIo2PzOqXFyGKjuAWUH6is/QdVtL/9t3xLbW86SzWnhS3SZUOdjGdiFPocc4r0v4i/A/wT8Vrqxu/E2ii8v7EEW1/b3M1pcxKTkqs0Lo4UnqucH0qTwf8ABfwX8P8AVl1Lw9oMWl332X7GZ4Xcs8e/cd+WO5i3JZssfWs4x5bX6X/G/wDmW38Xnb8Lf5Hlf7Guj2dr8L/F1xFbxrPfeJ9Ye5baMysLh0G71wqqKd+xvoOnWXwFvIoLSGOO61TUzMoQYf8A0iRcEdxtAGPSvaPBvgPQ/AOkz6XoNj9hsp7ma8ki815MyyuXkbLsSNzMTgHAzwBS+D/Auh+AdDOjaFZfYdNMss3kedJJ88jF3O52J5ZicZwM8YqIRcYKL/lS/IHvfzueafsY8fs0eCF/hSCZF9gLiUAfgAB+Fcb+0Fp3ijVf2lPhhB4Q1iy0PWTpmolbu/tftMYQeXuXZkcnjBzX0D4L8F6P8PfDVl4f0Cz+waRZhhBb+Y8mwMxY/M7MxyzE8k9aZqPgXQ9V8XaX4nurHzdc0uGW3tLrzXXy0kxvXaGCtnaOWBIxxitanvzUuzJiuWPKef8AhH4L6jYeOIfHfjfxPJ4t8RWFpJbWCxWi21tZI+PMMcYJJdgoBYnoMVxmg/EDxt8WvAuveL4Nd0LwV4SRrqMRz2Yu5fKhZld52ZlVSQp47CvpJsYryv8A4Zh+GJ8STa5/wisX22a4+1yw/aZ/sjzZz5jWvmeSWzzuKZzzQ03o9i9lfqfMOgztcf8ABP34UO0hkH9rWChunA1AhQPQAAV7LrGg2Osft0aFc3kCzy6f4Nkntg4yqSG627wPUAsAe2TXqR+CfgtvA+n+DxooTw3p9wt3a2K3EyiOVZTMrBg+7Ack4Jx2xjitpvAeht44TxebLPiJLE6YLzzX4ty+8ps3bfvc7sZ98VtzJyv5t/erGfK+W3kvzueO/tCapD8Mvil8O/iNO3lWEDXWj6jJ0HlSxl0LH2dBj615d4Vjm+Et58NPi3rL+SPFN3f2mvyvxtS93T2hY+ivEiDPTzPevqz4jfDLw18WvDMvh7xZpa6vo8siStbNK8eWU5U7kZWGD6Gq/jr4UeFPiV4Fk8G+ItITUfDcixKbLzZIsCJlaPa6MrKVKryGB4weCaxs0tN7/h1NHZu3R/n0PlTUtKnj/Yr/AOEgvVKaj4q16DxDPu+8BcXqPGCfaPyxXvPjL4T+ILjxta+PvBGu2+leJf7Mj0y6tdSt/OtLy3VjIqnBDIwZm+ZT35HFdzr3wz8N+J/CNv4X1HTRPoVuIVis1leMKIipjAZWDYUqvfnHOayfHnwJ8GfEjUYb/XtPvJbyGEW6zWOq3dkxjBJCsYJU3DJPDZpctpNrbp91iVe3vdf87nz/APGz4pa98Rv2bfHdrdabHoOvaDq1vp2uLat9othGJI3eRTwWTaQSp5xkGuj8TfA7x98WPAOnabf/ABL0WTw8Xtb22m0/Q0jaPynV42ikDkL90DI7EjvXu3hf4b+GPBPhl/D2i6HaWGiyBvNs1j3JLuGGL7sly3csST3rgtK/ZF+Eui+IodasfCSQXcEwnihF9dG1jkDbgy2xk8lSDyMIMGrjZSv6MNeXzPYolKooY7iBgn1p9LRQC0CiiigYUUUUAFFFFABRRRQAUUUUAFFFFABRRRQAUUUUAfPPj7/kbb/6p/6AtJ4E/wCRqsPq/wD6A1L4+/5G2/8Aqn/oC0ngT/karD6v/wCgNQB9D0UUUAU9QvY9Ps57qbPlwxtI20ZOACTj3wK8r8L/ALT3grxZ8Itd+I9m9/FoGimZbuO4twlyGjx8qoGO4tldvPzbh616X4kgkufD+pxRIZJZLaVVRRklipAA/GviH4f/AAP8cabceEfCM3h27t/CHiCGw1nxC8qFVtrmxEh8hx2aZktOO4RqhX5mvT+vuHpZPsfVng/49eC/F/w30bxy+s2/h/QNWDG2l16eKzJKsykHc+M5U8AmusXxdokl7ZWa6zp7Xd9A1za263SGS4hUAtJGucsoyMsuQMjmvi/w/wCCviNovwQ+E/hKfwjfLp6xX66oYNItb2/s52mkMKhbpXjiRlb5nKnAI5FU9S+B/j/xJ8BfhN4E07QtR0TxrpjXty/iSbMQ0mACVDAXTAJnDqgUfLtG7HArSpaLly7Xt8ga5Z8p9cL8WtIuvF2m6XY3Wm6jpd5ZXF4dWt9Vt2SPyWAddm/cwHOWXIXGDitP/haXgxWugPF2g7rWBbq4X+04cwwtjbK/zfKhyMMcA5HNfMGleAfEF9rXw8ubPwLqPh6y03wLquk3Fk8J2210Qqqm7+Iuyllbq2c9axPB37NC2+vfs2Pe/DyEW9jo2or4kM2nIVWdrdGiF1kfM3mliu7OGziny62vp/w/+X4hbS/lc+yY/Gnh+YaUU13TXGrEjTtt5GftmBk+Tz+8wAT8ueOai/4T3w00c8q+IdKaO3u2sJXF9FiO5UZaFju+WQDkoeQO1fHOg/DDxh4F8O/CnWk8H6reW/hPxZq00+j2UOblLWYukLRxkjKAMDx0WquifBvxd4g8L6nb6/4JvYU1T4wf29Npt1Gsg/s90iJkbGVZByCeRkEUWT2f9XX+YKzjfr/w/wDl+J9jWvxR8G3g0/7P4s0Ob+0ZDDZ+XqULfaZAcFY8N85B7DJql8XPi1pHwX8J/wDCQ61a6he2puIrRLfS4BNO8kjBUVVLDOSR3r5A8Tfs23segfGmXS/h+ItTk8W2F14fktrBUkFuskJd7cgZVR+8J24H3q9//a98C6x8RPhXp+j6LDqD3Ta3p8jyaWcXEEazqXlVsHaVAJzg4xQ46Ra6tfp/mZylyuS7K/5nWeAPj94T+IWj6zfpLdeHTosvk6na+IoPsM1kxAK+YHOFBBGDnFXte+LWk2fhvTtc0K603xNp17fxWK3FnqtusILsFLLIzbWK5+6p3HoBmvIviF8HNQ+Dvwo1WPwFZ6l411vWtVtZddv9eVdY1Ce3DgPKscoEcjoqqVUrtBGcEivJtL+DXjW10TxVEvh7WngvvHGjataJd2lvDK1uqp5szRW6JEhBX5gqrjjd82TSjaUrdLr9P8yZNxjdK7d/1PtC/wDiJ4V0lp1vfE2j2bQmUSLcX8SbDEu6UHLDBRfmbP3RycCrH/CaeH/ti2n9u6b9ra1+3C3+1x+YbfGfOC5z5eOd3T3r5/8Ahf8AAGx1jxp8bNQ8V+FYftWs6zdW+nalfWqtKbKa2VHMLkEqrbnB2kZ5zmvArT4N/FKH4fQ66/hrUx4ytPL8GLGIyXbTVgNubgD/AJ5lnL57hQaXl5L8f6RtbX+v67n29pfxU0zVvFl9p8M1hJo1tpUWqrrUWqW8kUkbs6k7A25UATPmH5TyAeDWtYfEfwpqvh+41yx8T6NeaNb5E2pW+oRPbxY67pAxUfia+ZvFHwNeHxD410e88Pa3eeEZfAOnaMj6Ii+fLJHO5ZYS3BdcqxU5yOxziuJuvhb8TfEnweitZdEu4rXRvEkF5CIdEtLLVNRs0THmS2jK0MkqNjG5TuC5xmovv5f/ACVvyJV9/wCtrn3Joutad4i0+LUNJv7bU7CYborqzmWaJx6qykgj6Gr9eL/su+B08GeEdakjj8Q27arqsl9JB4js7ezlV2RFZkggRUjRiucBRzuOOa9oFaNWYou6HUUUUigooooAKKKKAPDfiv8A8jUf+uI/9Ceub8Pf8h/TP+vmP/0IV0nxX/5Go/8AXEf+hPXN+Hv+Q/pn/XzH/wChCgD3HRf+Qf8A9tZf/Rj1fqhov/IP/wC2sv8A6Mer9ABRRRQBheMv+QSn/XZP610+lf8AHhD/ALormPGX/IJT/rsn9a6fSv8Ajwh/3RQBcooooAKKKKACiiigAooooAKQ0tI33TQB4tr37YXwg8Na/qGian4xjtNR0+drW6jaxumSGRThlZxEVGO5zj3r1Lw34l0nxho9tq2h6la6tptwu6G7s5RLG49mBxXy38DfjZ4A+H+ufF3S/E3iTT9O1J/GWoTCznbMrxkRgEKASQSCKzdB13XPhX+zv8ZPH/hu2m8N6fd6tLq3h+1mtlUxwFo1ZxC6kKJDvYAjvnihWsn5J/kFm58kV1sfZmKK8W8KXnj7SdIufiJ418WxjRRpL3b+EbHTYVitcKHVjcnMjuFBB5CkscKMCuX8Mx/Gv4keB7Xx9Y+PbLw/PqFt9v0/wp/YkM9n5TAtHHNMx84sy7csjKATwDQ9HZ9NwWqufSH1rkPiN8TdH+F+n6Td6wLgxapqdtpMH2aMORNO+yMsCRhc9Tzj0NePap+0tqviT4IeAdc8K2lra+LPG2oR6Nax3mZILK63Os7sBgssZikIHGcCuF/aQ8MfELwnpfw6TxF40Txxplx400jzZLjTIbGe1lE4KlDCArRnkbWG4cHceRVRjeoovuk/wGttd7XPsvNFeTW3jfWpP2or3wk15nw/F4Sh1JbPyk4uWu5I2fft3cqqjbnHGcZ5qF/HmuL+1MnhH7d/xTp8Mf2ibLyU/wCPj7Rs379u/wC7xjO32zUL3rW63/C/+REnyXv0t+Nv8z1/1qpLqFrDfQWclzFHdzq7w27SASSKuNzKpOSBuXJHTcM9a+d/CesfE79oZdW8S+GfH8Pw98K2+qXOn6Va22iQX817HBI0TzTvMTtDOjYVApAAyc1zfj7wf421T9rLwbp8HxM1DSrg+F7yVLq00qzYRESwrIFSWNx85AYk5I2gAgUR1a8/8rld/I+uKWqOl29xaabaW9zdvqFzFEqS3ciKjTOFAZyqgKpY5OAABngYq9TEtQpKWigYUUUUAFFFFACUUtFABRRRQAUUUUAFJS0UAFFFFABRRRQAUUUUAFFFFABRRRQAUUUUAJRS0UAFFFFABRRRQAUUUUAFFFFABRRRQAUUUUAFFFFABRRRQAUUUUAFFFFABRRRQAUUUUAFFFFABRRRQAUUUUAFFFFABRRRQAUUUUAFFFFABRRRQAUUUUAFFFFABRRRQAUlLRQAUUUUAFFFFABRRRQAUUUUAFFFFABRRRQAUUUUAFFFFABRRRQAUUUUAFFFFABRRRQAUUUUAfPPj7/kbb/6p/6AtJ4E/wCRqsPq/wD6A1L4+/5G2/8Aqn/oC0ngT/karD6v/wCgNQB9D0UUUANziisnxV/yLOr8/wDLpL/6Aa+Fv2Pfgj4jh1DwT4+0rQbXwXo1rZ3smpahbao80niPzFZYhJb52oEb5+e49hUKXvuL7B0Vj7+/Dijnmvirw/8AGn4q2f7MVr8TdS8V2+oXmtSQadbQHS4ki04NdNC13Iykb2wMlcKo4461F4m/aD8f/DzSfiV4dTxfaeLLrR5NFWy8XSWUKC1F9LskEqRfu2MYG5eB1G7NW1yvl6jlFxvfofZNr4i0u+1i70q31Ozn1S0RXubKOdWmgVvus6A7lBwcEgZrSXrXwBr/AIq8VfC/Vv2gNc0vxpH4g8S6boWlvDr8FpCGJ34JaMBoywBOcLjBHAr0Hx1+0t4j8PfFTxLb6Jq1vrWlaT8MT4hXTo0ikQ6gJwokZ1Xd9xhlQ23BzjvVcuif9bXFG8k35/5f5n196Uds18VfFDVPGbfs42mtzfGCXVrrVL/SZppbGztYBYpLNGWVSgztBOfnznbg5BIr3f4qW81p+zH4rgudafxHPHoNyr6pIsatckI2XIjAQHt8oA4rGcuSMn1iOPvSjFdT131pa/P34R/DXxl8Ifhf4l+JWiaVa/DrToPA0skNlZaib4aheCLzEvXjYFEYY+7g/eORXpniH4hfEzw78Pfh9Nf+OLWLUPH+qWcb6uulRJDoMEltvKRhiRIxYYDSd2PAGBWzjbQz5r28z61z81KOpFfEzftAePk0lNIm8SSXkFh4yfw9c+JdIsrc31/biBpEaCJlaIvuG1iFIwpwK0YfFnxo0jwv8LtMv/GjweJvFmu3lrc3l/Y2k3kWuyQw/u4kVd6qqsV3feJBOOKVne39dP8AMcmo7n2R0or4r/aM+PXjH4df24PDHjHUL3UfBdraHVo5tPsY7O5lcqSX3nzW3K33YcbT61qfGT4ofEyHxV8TX8OeMI9A0zwr4esdZgs/7NhuDLK4ctGzMMhGA56ngYK81DaS5mXbZdz7Aor490X4ufEnQ/FWsafrPiuLWotS+HE/i+026fFANOukYKEjwCWT5s/OWOQKxfDnjz4y+IPE3w+0eT4lx2//AAmnhR9beaPRLcmwkjRGAhBGG3bxuL7h1wBxi+V3t/XX/JhZ/wBfL/M+zLvXNN0/VLHTrjULW21C+3/ZLSadUludg3P5ak5baCCcA4Byav8AevjPwj8XvEnjTW/2adS1aWxuNR1ePxAl/cHT4Wd2gtiFaNmQtESVBYRsobocjiq/w5+MnxP+1/CHX9a8XxaxpvjDV7zSbnR/7NhiSNIzJtkEijcX+QA9Bj+HvT5bSS7glzRU1s1f8/8AI+1uMUV8cfCfx38V/iV8TtEMvinUIdKtNX1OLxBZ21rYrpwhhkdLeO2kaJpXJZQH+Yn72CvBr7FFK2iYnpLlH0UUUgCiiigDw34r/wDI1H/riP8A0J65vw9/yH9M/wCvmP8A9CFdJ8V/+RqP/XEf+hPXN+Hv+Q/pn/XzH/6EKAPcdF/5B/8A21l/9GPV+qGi/wDIP/7ay/8Aox6v0AFFFFAGF4y/5BKf9dk/rXT6V/x4Q/7ormPGX/IJT/rsn9a6fSv+PCH/AHRQBcooooAKKKKACiiigAooooAKRuhpaKAPD/gL8K7vwrqXxEvfEGhW8Fzqfiq81CxnmWKV5LZwmxgwLFQSp+U4I9K2f2ovBusfEH4A+MvD2gWZ1DWL+zEVtarIsZkbepxuYgDgHqRXqtFF9Eu1vwKjLlnzre9zmZ/Cqa78PG8PagpjS6037FOBgld0e1unHGTXi3he9+MXw38C2ngO08AQ6/e6db/YNP8AEyatDFYtGoKxSTRt+9VlXbuVVYEjg19H0Unq2+5K0SXY+a9S/Zu1bwt8Evh9o/hma2v/ABX4J1GPWoPtDGOG9uC0jXCE87Q/nSYPbjNZvxZ034q/HCx8HQj4enwrZ6P4m03VLyO91S3uJ5ljmBYxiNtoVVJYlmycYC5r6moFWpNS5/O4fmeD/ETw3408H/Hay+I3hjw5/wAJjp9xoX9h3+lQXkVtcxFZzMkyNKQrD5mUqWB6Yqj4H8J+P9Y/aUk8e+JPD8OhaLP4cOn29tHeJcSW7icNslYEZZhlvlBUdNxNfQ1HFRH3bfP8f+HJklK9+tvwt/kfNPg3TfiX+zqureFtC8AHx/4Xn1S6v9KvrLVoLSS0inlaVoZ0mxnazthk3ZBHFbHxI0Dxvp/xW8E/EvRfCf8AwkUlppNxpWp6HbX8UVxD5rRuGjeUqjhWQg5IyORXv2aTd7UkuW3l/wAMU3q33KekXVxe6VZ3F3Ztp93NCjy2jOHaFyoLIWXhipyMjg44q8aWiqAKKKKACiiigAooooAKKKKACiiigAooooAKKKKACiiigAooooAKKKKACiiigAooooAKKKKACiiigAooooAKKKKACiiigAooooAKKKKACiiigAooooAKKKKACiiigAooooAKKKKACiiigAooooAKKKKACiiigAooooAKKKKACiiigAooooAKKKKACiiigAooooAKKKKACiiigAooooAKKKKACiiigAooooAKKKKACiiigAooooAKKKKACiiigAooooAKKKKACiiigAooooA+efH3/I23/wBU/wDQFpPAn/I1WH1f/wBAal8ff8jbf/VP/QFpPAn/ACNVh9X/APQGoA+h6KKKAK9xbx3MMkMqh4pFKurdCCMEH8KoaD4b0rwzolvo+k2ENhpdunlxWkC7Y0U9QB6cmpPEGtQeHND1DVbkE29lbyXMgXrtRSxx74FeJfBnxr8V/ifaaR42upfDem+BtVikuYtKSGV79ICreU3m52FiQpK7eATzmp018g10PXLH4f8AhrS/CI8LWuiWUPhsI0Q0tYR5G1mLMu08YJYn6ms7Svg74J0Pwtf+G7HwtplroV/n7VYR26+VPn++P4vx6V4N+z7+1Vf6rpPg3SvGWmatPd69fXlhbeJJYoktp545pNsQVcHhFA3bccetehW/7TWmr8XbPwDqGi3em3moTXFtY3rXUEqTSRIzkMiOXjDKrFS4AOKb117lO93fodvo/wAHfBHh+zvrTTfC+l2dtfW62dzFFbqFmhXOEcfxAZPWo/DfwX8C+D5vO0Xwppemy/ZHsC8Fsqk27MGaInupZQcH0FfOnhH44eNNQl+GX2zXpJE1Xxvq+l32YIh51rCJPLjOE4C7V5GCcck16H4N/bI8IeNPGmmaJaW08Vpq11PY6bqRniZbiaIMWBiVjJGp2ttZlAOPcVVnoydkn0/r/I9DsPgX8P8AS9B1TRLXwjpMGk6oQb2zS2Xy5yDkbh3wa37fwRoNn4T/AOEYg0q2i8P+S1t/ZwT9z5bZ3Jt9Dk/nXjHh39sPR9e1rRbd/CmuWOk6pq82hw61OifZxeRuy7OG3ENt4YDHOKXTP2urHXPFmg6Xp/hTUZ9N1rUrzTbXVXuYUUtaFhOzRlt6qu1iMjnHvSfZ9RJ66b/1/ke13HhPRrvwvJ4cm023k0GS1Nk2nsmYmgK7THt/u7eMelVdW8A+HfEHhePw5qWjWd/oUcaRJYTxBolRAAgC9sAADHpXk3gb9sDwl488daf4dtLa4gi1S4ntdNv2midbmSIMWBjVi8YIViCwAOK3vHXxJk8K/Gzw5o73t99kuNC1LUJNPhhiME3kBG3M5+dWAJCheDk57Ut9X1Fon57GV8UP2YtN8X6P4c0zw9/ZOh6Vo0skq6Leab9p06ZnAAdoldG3rztYNxuPWtf4S/s76F8N9Ftre7WHWr631OXVrad4dkdlNIoQrbpk+WgUYAyTyck5rnvhz+1tpPxB8R+EtOPhjW9FtPFUEsukajfKghuXiUtJGAGLAhQSCRg44rR+L3xP8XW/xI8PfDvwDDpsOv6nZzalcanrCvJb2lvGQv3FILMzHAGRjFVrFpdX/X6Dkr79DtvEXwY8C+LNWvNU1nwppep6heW5tLi4ubdWeWIjGxieoxxV+++G/hfUpNXe60KynfVrZLK/Z4gTcwrnbG/qoycD3rzT4gfH9fgD4J0Z/iDfabeeKbq4t4Xh0yOWOF45LhImlUMGICq5YgnJ2kDNTfEX9rDwL4BsfDd1/akd5FrVzEkRVJBiBnZWm+70UqeOvtU6NW3V7Dvr57nocnwz8KzXYuX0Gya4GmNookMQ3CxYgm3z/cJAOKdZ/Dfwvp97pN3b6FZQ3WkWZ0+wlSIBra3IAMSHspCgY9q19F1i08QaXa6lYTi5srqMSwzKCAykZBwQD+daH86rVaAnfVHI2Hwp8IaW2hNaeHdPtzoPn/2YY4QPsnngrN5f93eCQfWmf8Kn8JR6dpNnb6FZWsWjyyXGm+VEAbKVw26SP+6x3Hn3rsOtFG4JtWsfMfgn9jUeGvF+i6xea7ZTnStQ/tIXljppttQvpMscXU/mMHBLZYKi7sc19OYxSnvSdaV+gPV3HUUUUAFFFFAHhvxX/wCRqP8A1xH/AKE9c34e/wCQ/pn/AF8x/wDoQrpPiv8A8jUf+uI/9Ceub8Pf8h/TP+vmP/0IUAe46L/yD/8AtrL/AOjHq/VDRf8AkH/9tZf/AEY9X6ACiiigDC8Zf8glP+uyf1rp9K/48If90VzHjL/kEp/12T+tdPpX/HhD/uigC5RRRQAUUUUAFFFFABRRRQAmOKCaSs7xBqZ0jQtQvlXe1tbyTBfXapOP0oIlJRi5PocZ8SPjt4R+FjLb6zqDPqLDctjap5k2D0JHAUem4jPbNYvgP9p/wP4+1JNOtrufTr6Y7YodQjEfmH0BBK59iQTXzLZ/ArxF8YPCs/jew1WHVdYvrxjNYlvmVS2OWPRh12/3a6rx54P8E/An4Ztouo28OteNdQTeJF4kt27OrdUVT0xyxrz5VqkLykkktvM/P451mVSbxDgoUFqm+q7b7n2aDnpzRXnn7P8A4puvGfwj8ParfM0l28TRSSN1cxu0e4+525/GtD4peKtT8MeH449AghuvEN/MLbT4bjJjMmCxLY5wFVvxIrtUk4qXc+8w9VYmlGtHZpM7XFFebz/GCP8AsnwhPp+kXWr33iRJPsttbuqBZI4jI6yMxAXG1lJPQjFRt8aY3h02G20G+utYvLm4sf7MV0Dw3EKhmR3J2gYYfNnFU9L36Gy97Y9LpK861T4uHT77UVj0C8u9P0hki1e+imj22crRpIUCk5k2rIhJXgZrA034wahpuo+KZ9Q0y61Dw9puqGKTVEeNY7SAhNpC8M6jdkkZwM56Ut3YPM9mpOO9cB4w+K0HgzxNYaZeWaNa3TxxG7+3Qq6M7bVxCW8xhkjJAxXNeMvi1qc32E6Npl3baW3iKx0s6zujZJd15HHMnlnLBWUsu/HUjGDg01q0kEvdTbPZaK87X4vRSakzjR7o+HVvm00655ieX9oWQxsuzO7aHUruxjINdnfa3Y6bfafZ3NwsV1qEjRWsTZzKyozsB9FVjz6UxmjS1w/xC8Ra9oFxojaXDafYpr2OG8luSS2xm27UUY+Y9dxOBjvVrXvEl5D408O6Fp6xu9yJru+aQE+XaxrtGMHhmleIAnsr+lQpXdkM6zNL0rhfAviPXtW8QeKLHXIrSA2MsJt4rXcSsbqxAdj95vlB4AHOOetVvEHxVm0zxLrGjWHhu+1iTR7aC8vZoZI40SGXzMFdxG9h5TZUc9Kt6ERlzbHoXeiuMsPihp2qx6nNaRyz21lpkWqLMMATRSRs6hR2OF7+tc9cfG9pby5ttL8M3+qPaaVZ6xdMsscaxQXHm45Y/My+Q+VHJ4xSWrduhT0su56pR3ryrT/jNNdeItUll0zyvCVnpEWrHVDKoZYmjaQsUzuPyjoBmtC3+Lxt/MOteH77RhJaSX1lvdJTdRxqrOAEJKuAwO1ucA+hpXsm+wHo9Fct4D8YXXjTSP7Rm0r+zIXIMBF5FcrKhGQwaMkD3B5FdRVCuLRRRQMKKKKACiiigAooooAKKKKACiiigAooooAKKKKACiiigAooooAKKKKACiiigAooooAKKKKACiiigAooooAKKKKACiiigAooooAKKKKACiiigAooooAKKKKACiiigAooooAKKKKACiiigAooooAKKKKACiiigAooooAKKKKACiiigAooooAKKKKACiiigAooooAKKKKACiiigAooooAKKKKACiiigAooooAKKKKACiiigAooooA+efH3/I23/wBU/wDQFpPAn/I1WH1f/wBAal8ff8jbf/VP/QFpPAn/ACNVh9X/APQGoA+h6KKKAKWraZb61pt3YXcYltbqFoJkP8SMpUj8ia8c+FfwN8X/AArvLHSbT4jtf/D+wWSO18P3GjQ+esbKwWNroNkqjMCMKCdoBOM17fmjNStG2O+lj56039lFtP8ADfw10n/hJ9//AAh2sXOqtMthtN35pkOwDzD5ZXzPvZbO3oM1k+BP2N7jwf4m8JanN4yXUYPDWq3WoWsX9kpHNOk8cqMk8wctIwMikNwAFI2ZO4fTO6lqv+HG5OW/9f1c+fdD/ZTOjnwaH8Si4Tw/4j1DXmX7CV+0C6Djyf8AWHbt3/e5zjoKk+Fn7L83wp1+BdO1/TrnwtazzT21hcaDEb+PzCzBDeb9xVWbI+UNgAbsV79S0+ZkdEux89Q/ssS2PhDwzpEfiITyaF4ok8Tq/wBh2/aC0juIMGT5fv7d+T0ztrxz4O+F/HulfEaG8h8Lut9rGsXM+uWus+FHgbTraeRmlCasZFjuNqkBfLQlhgYwK+5+PWj0zUrR3/r+tBcqSsv63/zPB/hP+zPcfCfxJDJY69p954atp5Zraxm0GEX0e8sdpuw+Sqljj5QccEmuq8c/Bk+MfiZpHi3+1/sY0/RtQ0n7H9m37/tKoPM3bxjbs+7tOc9RXp340U+y7Dau2/O54J4Y/Zebw/8A8Kaz4kFx/wAK7W6U/wCg7ft/nQtHx+8Plbd2f4s4xx1rofiz8Er/AMbeLNE8X+FvFMng7xhpMElrDfmyW8glgkwXjlhZlDDIBBBBBr1qjvTcnJ3bKbvucDN8LU8WeCNO0Px5eJ4rvLee3u5b9LcWfmzQzLNGwRD8oDovy5IIGDnJrY8VfD3QfGUemx6pp8cyafdx3tsFJTZKhJU8YyMk8Hg101A/Kl/w5I2ONYowiKFRRgKowAPpUlFFAwooooAKKKKACiiigAooooA8N+K//I1H/riP/Qnrm/D3/If0z/r5j/8AQhXSfFf/AJGo/wDXEf8AoT1zfh7/AJD+mf8AXzH/AOhCgD3HRf8AkH/9tZf/AEY9X6oaL/yD/wDtrL/6Mer9ABRRRQBheMv+QSn/AF2T+tdPpX/HhD/uiuY8Zf8AIJT/AK7J/Wun0r/jwh/3RQBcooooAKKKKACiiigAooooAKr3VrHeW0sEqh4pVKOp7gjBH5GpwaWgTV1Znw/rnh34gfsw+MtQv/DsEt94fuyxSTymlgZeSBIq/dZex4z2JGa810HwL42+N/ix5xbXV7c3cubjUbhGWKIE8lmIwAB0UfQCv0nKhuoz+FGwLyAAa4pYVSavJ2XQ+HrcLwqz5fbNUr35OnyOe8A+EbbwH4Q0vQbU7obKER7z1durMfqST+NY/jH4T6N8Q/EVje+JLeDV9OsYWW3024h3IsrEbpSc8naAAMcc813PHHNLxXZZaJdD7WnCNGCpwVklZHg158IdW8G+JvCVl4OvI9P0m11W/vbONtOaa106OW1YNDIFkUsjTM7DDIQXCg8c9n4d+E76Lqml6ncasLvUYLu6vr2Rbby0uJp1VTtXediqEGASxx1PevRs80U3ruWlZu3U8z174U6nfalr0em69Dp2heIZ1udUtJLEy3BkESRMYJvMVYwyxJkMj8gkYzVK9+C+pzrrelweI4YvC+tXXnX1g+nl5xHhAYYpvNAVWC4JZGOGONpwR6yRRUpJO43qeRa18Eb/AFbxBqlwNes4tKvtTh1Xy30zzLxJEEY8sTmTAiPljChARuPzVPc/B7V5JI9Pj8SQR+GodYg1mKzOnFrkSR3KTmJp/N2mMlSABGGHGWYAg+rdKKa0t5CaTVjy8fCG/WZ9MTXYV8HvqUmqtpn2E/aTM8zTMnn+Zt8oyMzbfL3c43Yr0xoUkkRmRWaM5RiASCRgkfgSKkPWjvVB1bMTxV4dPiW0tYBcfZ/Iuornds352NnbjIxn1qLS/C/2PxZrOuzXP2m4vo4LeFfL2+RBEGITOTkl3kYnA+8BjjNdBRmpSSu+4zA0jwydL8R65qpufN/tLyf3WzHl+WpH3s/NnPoMYrzzUPB3ivVvip43m0nVE0XT7/TtNtXlvNNa4SUKLneYWEiBZF3qCTvUZXK17FSd6rchLl2PKr74L6hZ28ll4b1+HR9NudJj0e5S6sTczeXHGUR4nEiKj4JyWVgfQVpaD8J20U6uf7U8/wDtDQ7LRuYMFPs6zjzT83O7z/u8Y29Tnj0XvSetStL+ZfVPqjyq0+Ck1vajTX1eC40W60CPQtTt5LNvNnVIjGJInEgERIJJDK/bBHWr2mfDzxCuqW1/q/iGx1OfSraW20pU0too0LqqGW4HnMZX2qR8hjXDN8oyCPSDntSU+/mBw/w58A3vhG61W91K+0+5vNQdGeLSLBrK1XaMBhG0sp3Hu27njgV3VFFAgooooGFFFFABRRRQAUUUUAFFFFABRRRQAUUUUAFFFFABRRRQAUUUUAFFFFABRRRQAUUUUAFFFFABRRRQAUUUUAFFFFABRRRQAUUUUAFFFFABRRRQAUUUUAFFFFABRRRQAUUUUAFFFFABRRRQAUUUUAFFFFABRRRQAUUUUAFFFFABRRRQAUUUUAFFFFABRRRQAUUUUAFFFFABRRRQAUUUUAFFFFABRRRQAUUUUAFFFFABRRRQAUUUUAfPPj7/AJG2/wDqn/oC0ngT/karD6v/AOgNS+Pv+Rtv/qn/AKAtJ4E/5Gqw+r/+gNQB9D0UUUANNGcd6yvFDtH4b1R0Yo6WsrKynBBCHBBr4N+FvxI8S2/wR1L4dTa7qFx4r8U3Fl/Y1/PdO9ytpfB2nkVydw8lYLogg/LhenFRzatJf0yrbM/Qalr4o+Fvxh8RaL+zL8MLDS/EVzdeM9TgvZkSeybU7q6iimkDMS8igBflBZm6dK0vEP7XPizwx8D/AIc/FO4tLK5sdUaaw1XQ448Ty3G1xHNAckhVaMll5wrE54rSa9m2nsnYTVpcvr+B9gNcRrIsRdRKwJCEjcQO4FTetfJH/CwPEVv8Qvh9f6u2janrt54I1PVn1G0gO1GASRI4yGwUGQDkfNjPFY3h/wCO3xn13VvhVajUfDUI+I2kXV3bf6C5/s57eJZGc/N+83Kw+XgAk0crvbr/AMP/AJBbRNddT7P46dqK+T/Bf7SnjLXJvg9b3w09J9f13UtG1hooTtl+zI+Hjyfk3MoOOfSs6P8AaY8e6homvPp0mlSX8XxRl8H2bzQHylswq7S205LAsSW74xRyvT+uqX6iWsebp/w/+R9g9qK+J739or4waBpvjLUL2+8O3lt4I8RW2k6gsdk6PqMczouV+bERUSD1zg16b+3LqWoWPwTtzpsmpJcTazp8LR6TdtbXMytOoaNZFI2lgcdcc0nFpJ92l99v8yXJRbT6K59F1DJPHAoMkixhjtG4gcnt9a+S/AmqeMfgn8MfFmoeI77U/DVrqWq29r4X07xBN/bF9C8m1fKbafnZ2DbVLcdzXO3/AMcPE3izwfqOneK9LtbrVvDvjjStOD3tl5DOkpR1doVdgjruOMMR0PtTUby5fT9P8yZTUY80vP8AX/I+28ULjr2r5o0b4kfFfx94m+KVvoN7oljp3hO+vtPtEns2knuZhb77cfeChVdlyerAkcV59bftpeJprKz8SmGyHhZ/D8aSgRfONZa2aXbnPChgq7f9ql/wPxNbWdj7T+0RtMYlkUygZKZG4DsSPSpa+R7Xxr49tPGviu403RNN1f4hR/D7T79BHEYnuLlppcxnL42qMkLxzxnmqUv7VnirT/hhaSxXP9seMLzXYtGmt30Zra401mTcyvbs4DtgHb8wDDBqe/8AXWxO+23/AALn2PRXlv7P/jLxn4w8M6m3jbRJ9J1Czv3t7eae3W3a8g2qyzGIOwQ5ZlI3Hla9SqmrBe4tFFFAwooooAKKKKAPDfiv/wAjUf8AriP/AEJ65vw9/wAh/TP+vmP/ANCFdJ8V/wDkaj/1xH/oT1zfh7/kP6Z/18x/+hCgD3HRf+Qf/wBtZf8A0Y9X6oaL/wAg/wD7ay/+jHq/QAUUUUAYXjL/AJBKf9dk/rXT6V/x4Q/7ormPGX/IJT/rsn9a6fSv+PCH/dFAFyiiigAooooAKKKKACiiigAooooAKKKKACiiigAooooAKKKKACiiigAooooAKKKKACiiigAooooAKKKKACiiigAooooAKKKKACiiigAooooAKKKKACiiigAooooAKKKKACiiigAooooAKKKKACiiigAooooAKKKKACiiigAooooAKKKKACiiigAooooAKKKKACiiigAooooAKKKKACiiigAooooAKKKKACiiigAooooAKKKKACiiigAooooAKKKKACiiigAooooAKKKKACiiigAooooAKKKKACiiigAooooAKKKKACiiigAooooAKKKKACiiigAooooA+efH3/I23/1T/wBAWk8Cf8jVYfV//QGpfH3/ACNt/wDVP/QFpPAn/I1WH1f/ANAagD6HooooArXlrHfWs1vMu+GZDG65IypGCMj2rgdL/Z/8BaLrXhzV7Pw9HFqXh6xk07TLg3EztBbuCGTlzu4ZsM2SNxwRk12+sX7adpN9dIu97eB5Qp6EhSQP0r5X+Df7YviHxt438HaP4g0nw69t4qhvJrYeHr9p7qwFuhcm6iOdgYDAORz9KlNOTj13G72v0PYJP2X/AIaTaL4d0hvDK/YfD/mDTkF7cBoVkYu6FxJudWYklXLKemMVoab+z38P9Jl0Brbw7EqaBBc2+mQvcTPDbJOT522NnKZbJG4gsAcAgcVy+g/td+AvEPhPUPE0C6zBoVnAkrX1xpkixSyM+wQRNyJJd2AVUnqOantP2r/Az+EfEeu6gNV0RvD7Qi+0nVLFob5TMcQbYcnd5h4XB5PpVeoO99dze0f9nrwDoLaabHQ2i/s2xudMtFa+uXENtOczRKGkI2k9P7vRcVdsPgj4L0m68G3Nro3lTeD7ea00RvtUzfZIpUEci4LkPlVAy+4jGQQea8a0X9rpYfFHxM1TXrTUrDwh4Z06yu0sLjTfIv4Wlba4ZWIzyV749DXq+qfH/wAJaF4yuvDmoz3FndWvh0+KJrmSMC3jshJsJLbs7t38OOneq1sn/XX/AIIotyvboRan+zd8OdW8K23h668Oh9Ltr+TU4EW8uElhuZGLu6TBxIuSTkBgMcYxxTtG/Zw+HPh3TY9P0zwzHY2MetJ4hS3huZlRb9VVVmA38cKvy/dJGSuSSeJ8UftgaXpPw8l8V2Hg/wAUz2pu7W2tlvdNNuLoTOqrJGWblSpyM4ySo4zXo/ij4kT6V8HdU8a22lXFrcWumyX6adqsflSqVUkJIoJ2njsTWblypy7bjiuZqK67FfUPgF4F1Sx8TWd1ofmW3iS+i1LVE+2Tr9ouIypR8hwUwUX5VwDjkHJrovGfgLQviBplvp+vWP2+zt7mK8jj8549ssbh0bKMCcMAcE4PcGvnH4ZftnahqF1fx+M9O0SS2tvDT+JnufCd6bzyIUALQzKT8spB4UkZwa9JP7Vngz/hE28RLba9JYS3kdjpyDS5Fl1aWRAyfZEbBlUjPzDC8HnHNaO6tfp/w36EaSb6nf8AxB+G/h34p+Hm0TxPpq6npplSdY/NeJ0kQ5R0eNlZGB6MpBrmbX9nH4dWNjPZ2/hxYre4vrbUpVS6nBkuYAPKlY78lhjJJPzHlsmsu3/al8HX2g6de2dvrF3qV/qD6VDoKWWzUBdIpd4mjdlVCqgsSzAY6E1k2/7Y3gmTwnpPiCfTfEVnaarf3GmWUEmnB7ma4hDb0WKN2bO5WUDGSR0xzU9Xbf8Ar/gDaTWux6r4X8AaF4NvtevdHsfslzrt6dQ1B/Nd/OnKhS+GYheFAwoA46VxY/Zd+GC+F5PDq+Foxo0mrf241qLu4GbzcG8zd5m4DIHyZ244244pnjP9pDQvh/ZWGoa3oHie10meCK5n1I6W32exSRgq+e27KkEjIAJXvVL4hftWeC/hv4h1bRtSttcurrSraG9vZNN05riKC3lyFmZlOAoxznnkYBo7N+n3D1fzOv8AEHwa8IeJtS1bUdQ0ppbzVdPi0y7mju5oi9vG5kjRdjjaVY5DLhvesm1/Zt+HFr4RvvDK+Go5dJvbgXdwLi5nmnkmH3ZTO7mXeMcNvyOxFZPhv9qjwV4pvtcs7eLWLWbS9IbXQL7T2g+2WK9ZoNxBZc4HODkisCD9trwHdzQRW2l+Krie8sRqGnwx6LIX1CHGWaAZ+YL3JwPQnjKtv/X9dQPX/Avw/wBD+G+jHSvD9tNbWbSmZhcXc1y7OQAWaSV2YnAA5Pauk+leIf8ADQOmeIvFHwkl0HVpF0TxhFqUq20lhuecW8AcqzlgYWQg5GG3HjjrTvB/7XHgbxt4g0TS7KHWrYa1LLbWN/e6a0VrNPHnfCshOCw2npke9U7t2e4rWSa2Z7cKPvV4lpP7V3hXXvFeg6JpmkeIL+PXb64sNN1aK0jFlcSW5InIdpAwVNrZJUE4OAa9szS8yrWdmOooooEFFFFAHhvxX/5Go/8AXEf+hPXN+Hv+Q/pn/XzH/wChCuk+K/8AyNR/64j/ANCeub8Pf8h/TP8Ar5j/APQhQB7jov8AyD/+2sv/AKMer9UNF/5B/wD21l/9GPV+gAooooAwvGX/ACCU/wCuyf1rp9K/48If90VzHjL/AJBKf9dk/rXT6V/x4Q/7ooAuUUUUAFFFFABRRRQAUUUUAFFFFABRRRQAUUUUAFFFFABRRRQAUUUUAFFFFABRRRQAUUUUAFFFFABRRRQAUUUUAFFFFABRRRQAUUUUAFFFFABRRRQAUUUUAFFFFABRRRQAUUUUAFFFFABRRRQAUUUUAFFFFABRRRQAUUUUAFFFFABRRRQAUUUUAFFFFABRRRQAUUUUAFFFFABRRRQAUUUUAFFFFABRRRQAUUUUAFFFFABRRRQAUUUUAFFFFABRRRQAUUUUAFFFFABRRRQAUUUUAFFFFABRRRQAUUUUAFFFFABRRRQAUUUUAFFFFABRRRQAUUUUAFFFFAHzz4+/5G2/+qf+gLSeBP8AkarD6v8A+gNS+Pv+Rtv/AKp/6AtJ4E/5Gqw+r/8AoDUAfQ9FFFAGfrNi2paTfWiEK88DxBm6AlSAT7c15h8BfgHpXwb+Hlnpo0jQ4vE5tWhv9Y02zRHumJJy0mxXccj73pXrpYDr0ry/Sf2mPhnr/jo+DtM8WWt/4j3yRC0t4pXVnRWZ0WUJ5bMqqxKhsjBqOVczfUfZnAab+y5qX/DLuhfDS81a0i13SJxe2+oQIz2/2hLl549ykKzL8wB6HrisTXP2U/GPj7TfG2t+JPEOj2/jnW30trIaXBKdPtvsEnmQh9/zvvYnccDA6A17/wDDP4iaX8VPB9p4k0dLiPT7qSVI1u0VZAY5GjbIDMPvKcc9MV1LEKpJNW9ZOTCUnLRny9rn7L/jL4gWvxOk8W6/osWoeMdItLFDo8EoitZYSWGQ/LKTj5sg8ngY5qSfsq+NvHXirXdY8c+IdDUat4IfwkYdDhmAt285XWVTJ98HDE524JAAI5r1PSf2lfCmtSeG1toNTB17WbvQrXfAg23Fvu8wv8/CnacEZJ44FetZp62Xb+v8xLRaf1/Vj5y1j4KfE7xl8Fn8Ha9rHhaPUtMksZNHu7CG48pzbOrKbgNyN2wZCDjnk16d4k8J+I/G3wX1bw9q8umQ+JdS02a0lkszJ9kSR1ZQVLDftAIySM9eO1egYoqJJSun1FH3Gmuh4pH+zrpujfs9614D8PaXoWh61qugvpdxfWNotvFPcNAYzLIUQMw3EkkgmoPHHwG1vW/APw3g0XVLGz8WeB5LW5s5LyN3sp5I4fKdHC4YIwJwQMjjivcs0VTbbuLlWnz/ABPhP4u/CXWvAGm6ZNrVxYXOv+IPE0viPU9VhW7ttNs3WHy1gS4tz9qhLBl2shUsUIbg4Pf/AAp+HutfELR/hxqEXh3SPBmleDPENzNHbWbTmLULcxMonh81BIS7uxJkwWwWyc19W/pRTUmgkuZWZ8mfHv8AZG8T/F7xJ42uF1Pw/eWOuWcSadca5DNPc6RJGB8luvKRq7D5nX5gGPytXY+Mv2edb8RX3xQng1HT418VeHbXR7USF8wyxBgzPhT8p3DGMn2r6C9aBUNXjysu9mn2PnW+/Zx1268URamuo6esK/DqfwcULSbjcyOrCX7uPLAXnv7VP4X/AGd9b0Pxd8LdVm1DT5IPCfhWXQbpEL7ppmjRA8eVxtyh+9g89K+g+KUVfM/6+f8Amwv/AF93+R8x+C/2XfEPhqb4Lvcanpsg8EnWvt3lmT999siZI/KyoztLc7se2aNJ/Zn8Q6D4Z+Etq9/p9xN4J1e71W8WEyH7SknmFUiyoy3zgfNtHvX016UUOTeoRfLFRWyVv6+8+CPgHPqGj/FTSby38IaZrF9fa1ds8LPfR32gW9xI7SSG3ZTaW5VcKxh2lxgEsSSfvj0oxQBSvol2F9pyHUUUUAFFFFAHhvxX/wCRqP8A1xH/AKE9c34e/wCQ/pn/AF8x/wDoQrpPiv8A8jUf+uI/9Ceub8Pf8h/TP+vmP/0IUAe46L/yD/8AtrL/AOjHq/VDRf8AkH/9tZf/AEY9X6ACiiigDC8Zf8glP+uyf1rp9K/48If90VzHjL/kEp/12T+tdPpX/HhD/uigC5RRRQAUUUUAFFFFABRRRQAUlAqG6JFvL67T/KpeiuMk9+tL3r4M/Zbn1bwr4T8R/Ei/8H61d/2bp+rXUevz+I2uYb1opGxCtmTlCQpAbts966bwd+0p8W7LwPqXjTXfDF3f+Hn8OyaxFd3FlBbQQXG0NHFG0cztLGwb7zKrfLzinL3d+mv5/wCQcrv8z7Evr63023a4up47aBSAZJnCKMnAyTxySBVmvjH4/L46vf2PfEur+LfE+n6/Lqv9k3VlFZaettHabruFmUsGJkXlcE88H146GD49eKvh74k+JHhrx14jsZm0XSrTUbHVrHSjmN7hiiQiBSTJh8AZIJzyavlY7XgprqfVtFfO/wCzT8XPGXjDx1498I+MVmkn0GOwura4vLOG0uWjuUkba8cMjoMbAQcg4bkA1qfB3Uru6+O/xkgmuZpYLe7shDFJIzJGDbgkKpOBk+lZt2kl3I7+R7VHf2011NbJcRSXEO0yQq4LID03DqM9s1Zr4ut/jB4p0Xw78RtX0GPSbXxAfik3htLqWyUiS13QoolI+ZiA55zn0xVDxb8efjP4L0X4nahP4h0O/j+Hmo26zgaWEfU4pSmUPzYj2h+GUZOOaqOriur/AOA/1K5Xzcq/rdfofbMd5bzTywJPG80WPMiVgWTPIyOoz2zVjjNfGXxk8ca9pOpftEzaBcWuh3+naZo0yahBbL9oYPG24M3ViBwpPStXxr8XPiX4P1LwD4C0u6vNe1zU9Fl1e61jTtJt5Z3VSqpGsMskceBn5m3FsYwOSQdCetvmfXNFcX8H9c8S+JfhvoWpeMdGPh/xPNCRfaeSp8uQMy5GGYAMAGAycBsV2Y6mm9HYE7gfypeK89+O1zNafDXUJYJXhlWe1AeNipANxGDyPYmrvxG8RS6PpdnZWV3fW+s6lKYLFNOt4p7iRlRpGCrMRGMIjElyBxjqQCnpHmL5dE+52lFecfDrxRrHi74c389/JNaavbTXVmZ5I4hKGjZlV2VC0YbGMhSRmuL8J+Itb0/4Q+DrBfEOq6j4o1ezF3bfYrK1kuDDGiebxKVj2qXTLMc5cAZJFSrNNry/EhO8lHq7/ge9ccUteF+CPiD4t+Ic3hi3jv00YXVjcz3shto5Ji8Ny0QAHzICwX5sZAycetVdD+KXjvxD4se+s9B1ebw3FrE+mTlo7BbGO3huHhkuPM+0faC67CxXZjjAXvVdbDd0nc9+9KPXivF/DfxI1u8+KGj2nmajeeG9dguprWa8tLaCIeVsKmEo5lYEMc+Yo7EVc+MHjzVdEmuYvDt1qT32k2g1C+trKztpIhExYR+c87rtVvLk4jJb5ScDjKbsk31HZnrlIWCjJ4HrXl3hnxJr/wAQPE07W2rjQ9N0tLN5rOG2jla7MsSysGZwSq4baNuDxnNc3b/FDVtR8baQLWfUNQ8JeJFuhZ3F1aW0VvsSB5FeFlfzmBCdZFAIOR2qmnF2a1FH3ldHuUM0dxGskTrJGwyHQ5BHsRSLcRtMYRKhmVdxj3DcAehx6V4F8NfEHiDwf4V8AXF1qqatpetSSWX9mw2yKLfbDPMro4+Zv9TtIYkfNxitTwN4i1lbjwh4rvru3vE8bQQvJZx2yI1oGhMsapIBudVBwd5PcjFJrlZCfuqXc9uqFbiNpniWRTKgDMgYblB6EjtnB/KvHPih8QPF1v48k8OeFdM1e6ez02LUZJNKt7GXzGkeRFjk+0zx7U/dHlAW5PIxzofDm8v9Q+KWv3Wq2X9m6pPoOkSXVlvV/IlP2gum4Eg7WJGQSDjqaIpvU15dH5K/5f5nrGaBzXinij4Z+G9S+LGgWem6c1vqcc/9v6neRXMwZYo2xEmN+AZZccYwVikFdh421bWbjxZonhvR9SGiteRzXM18IEmfbHjCKrgryTySMgdKS2XdkbXO3guIrhC8UiyKGKlkIIyDgjjuCMVLnvXy9o3jzxRoOi6F4Z0W01C+1XU77Xry5vNEt7V5VFvfBTtS6lSMKzTgnliAOBySPVbzxf4r034F6r4g1PTRo3iq0065nFtc+W4WRA3ls4jZl+YBWKqxAyRmqcdLoOibPTDRXhkmpePl8UR6IfGMYS60R9a+0LpkO+GRHRTCoIwY235ywLDHDVT8ZfF3Xv8AhXkGt6JPfNq+n6L/AGtqFrp9pbPb8Rs4ErTupVW2niMlgO3SoutPP+v0HH33Zf1/Vz6AxxR0ry7RvEXiXxV8TL3T4tRj03QrDTNN1FoY7dHlnkna43xlmB2piJeRznoRzn0XVLWK+0+5t53aKCWNkd43KEKRyQw6cd6uScRRfNsW6O9ePeBvCtpqS+J5dBtp18GXsEcVhayXcqJeTKXaSdGO5lifcihhwwQsAVKk1fhjpetadqHiPQ4DH4Vvobqzuxpkc7ahbQ2xI3rHI4ViZArgkqu0nIBxkr1DQ9r70V4RP4fn8E/ErUfE3iDw5b31pe6sn2PW7fVpWnt1dI40U2xRVChlYkhj97ODVCKHWvCvjLw5Ld6JqMGv3muC1utae+RrW/t3SZyqRiRmO1FDbWjXbszuOMGb7B38j6H+lArw/wCMlpDqfxM8MWl34Z1XxZb/AGC6dbPTLmOExuGjAkbfNEMDOOCTz0qlqHw88Rx6H4dn8Q6bN4t0+xspEutGi1Jo54ZN+5JUclVmZUATDMo4yDyQVGV9fMZ77xxSdc14D4q8D+DfG2o/D3WbaxmmtNYkUMzXE0bSwiAlVdQ45GBnvkV7pp9jDptjb2tunl28KCONMk7VAwBk8n8acXe67MXVFyiiiqGFFFFABRRRQAUUUUAFFFFABRRRQAUUUUAFFFFABRRRQAUUUUAFFFFABRRRQAUUUUAFFFFABRRRQAUUUUAFFFFABRRRQAUUUUAFFFFABRRRQAUUUUAFFFFABRRRQAUUUUAFFFFABRRRQAUUUUAFFFFABRRRQAUUUUAFFFFABRRRQAUUUUAFFFFABRRRQB88+Pv+Rtv/AKp/6AtJ4E/5Gqw+r/8AoDUvj7/kbb/6p/6AtJ4E/wCRqsPq/wD6A1AH0PRRRQBg+NtNu9Y8H65YWEnlX1zZTQwPnG2RkYKc9uSK+fv2W/iHpfhvwL4Z+Fl/oWsaT4w0+1kt7uGTS5Vg85FZnlM23YQ+CQ2eSwHU19O9qRegqUt13HfRI/Pj4ZfDOXwTZ/A3xXpekapa+Jr3xJqFtqlxum3tal5ysToThYyQpAwBk571L8O11XWv2hvAvi+08MN4X1G813UbTxBbWOn3aOiGCYot1cyOUlDFAyqEAUgYI4FfoEuFo+lPtboOUubpvv8AifCXgnw9rEbfCTGm3kckPxB12Zi8DARqwm2u2RwpJGCeDmqX7PXgjXY/ipo134i1m40nx9a6levrEY0a6+06jG3mfu57symKSHbtZMKApChcHOfvrbzSjrV82xG8VHt/m/8AM/Pnwj8M5fDun/D3xna6dq0HipviBc2lxetJOXj09p5d0ZUnasJHP3QOc1nfC/QfCGufGPTL/XrrSxrOneJNVOn6pqOnzSX2szSyOtqss7IYiqna0ZV24C4CnNfolNEsyMjqGRgVZT0IPUV5l4b/AGb/AAR4X1CwubO0vJIdOm8+wsLq+lmtLOQZIaKFmKoRk4wOM1C312/4b/ImzSeuv/D/AOZ8v/s3eCtZt/jDpV7resXOleM7e9vG1e3/ALHuhPqMTb9q3F00rRvGPlZMKMYAGK+8u4opR2p391R7F9WxaKKKACiiigAooooAKKKKACiiigAooooAKKKKAPDfiv8A8jUf+uI/9Ceub8Pf8h/TP+vmP/0IV0nxX/5Go/8AXEf+hPXN+Hv+Q/pn/XzH/wChCgD3HRf+Qf8A9tZf/Rj1fqhov/IP/wC2sv8A6Mer9ABRRRQBheMv+QSn/XZP610+lf8AHhD/ALormPGX/IJT/rsn9a6fSv8Ajwh/3RQBcooooAKKKKACiiigAooooAKayiRSpGQRginUUAc14T8B6D4F8Mr4f0TTltNHVpGFoztKv7x2Z8lyxILMTgnHPpXMeFP2dvh34HuNQfRfDMNol/C9vPbNPNLbmJ/vIsLuY0U55VFAr0o0Cl3uHkeTaX+yz8LtD8M614dsvCqW+jaw8D3tqLy5Ik8l98KqxkLIqsSQqkKMnjBra8SfAnwJ4u1DXr3WfD0OoXOuWkVhqDyzS4mhibdGuA2FKk5DKA2e9d/RTu2O72OI8A/BrwZ8Lby9vPDGhx6Xd30ENtdTrNLI86RFzGXZ2Ysw8x/nOWIIBJCgDnPFH7K/ww8ZeOJPF+reG3uPEUkkcr3cep3cIZo8bCUSVUOMDjbg98163j8qSlu030J6NHn6/AjwMtpfWo0IeRfa5/wklwn2mb59QyrednfkHKr8owvHSjW/gX4G8RWPiyz1DQluLbxXJHJrKfaZl+1NHt2EkOCuNq/dx05rv6Wn1THd3v1OK1D4PeD9WuPE817ocN2/iW2itNWE0jst1FEhSNSpbA2qxGVAPckmsC6/Zh+Gl54V0rw9N4aB03SpGlsSt7crcWzP9/ZcCQSqD0IDYI4xXqtFAGX4b8O6f4T0Sz0jSrb7Jp1nGIoIQzNsUdtzEk/Ukk1q0UUCSsYvirwrpvjTQbnRtWhefT7kKJEinkgfhgwKvGyspBAIKkEYrmf+FJ+Fm01LKU67dJHci7huLrxJqU1zBIEZMxTvcGSIFWZSqMAwYgg5rZ+INvqc/hS/fSdauNBvbeJp1ureCGZvlUnaVlRlwcc8Z9DXH6D4x1Twh4W0VNTn1r4heItYjN3BZWVvZQTrEqx+awy0EQjRnTJZtxMgAzkCp5ldrsPsd54b8J6T4R0xtO0ixSysWkaUwqWYFmOWY5J5Y8n1JJPJNc1/wpLwiun2tmlpqEMNrO89uYdYvY5LfeFDxxuswZISFXMKkRnA+WsLxR8c0XwvdXXh3QtZ1O5/s6W7llghhVdNYb1HnrLKrEh0YFYw5+UnBHNTX37QGhaH450bwdfRyPrGo20csbRXtjuZmjZwv2c3AuedpG4Q7QSMsBkh/qK66HY+HPh94d8Km0OkaXHYi0ikt4FiZgscbuXZQpOMFiT078cVX/4Vj4fXxJJrkUF5bXsrmWaG31K5itJpCMF5LZZBC7kAZZkJOBk1j618TLS/06yi0u4urO6v47eVbkWySfZxLIECspcAPncMcgEE4OKi8J/HXw/4s+JGq+B7bK61piytJ/p1jcCQROqOSkFxJLEcsvEyRnkjGQQDd6bhfua/h/4R+FfC+rw6nYafMt9D5i28lxe3FwLdXxuSJZHYRIcD5UAX2p3if4U+F/GWqNqOrafLc3EkAtpljvJ4YrmIFiqTxI6pMql2IEittLHGM1nan8YrTS/EElhJoOtSafb3kdjda3HHD9jtppCqxqwMolIZnRdyRsoLDJHONH/hZ2jLpumX8vn29pqD3KJJIoAj8hZGcvhjgYifGMk8dOxuk1sPrYkuvhj4eudWsNSFtdWl5ZLHHG9jqNzbCRI/uLMscirMq44WQMPaqWj/AAa8IaHqkN/aaVILm2eRrXzr24mS0EiMrpAjyFYUZWIKRhV6cZAxyPhH9qzwZ44sdVm0fz9RubLyfKsbG6srue7819kWwQXDqhZuNszRlRksFUEilqX7S2n+CLfXL3xbZ3Whsuqx6fZaRqNzY2twrG1jmZTNJcLbn7zNu84g52glvlqtRpO9keheHfhP4W8KapDf6ZpslvNAjJbxveTSQW4b7xhhdzHEzfxMigt3JqXQfhd4a8N6wdU0+wliuhu8pZLuaWG23Z3CCF3McAbJyI1XOea57Qfj1o3izVtAsvD+n3muDV7Rb4XFrc2SpbwFihkdZLhZHVWGC0KyL6EkgVc+K3xq0L4Prpba2hKahN5KFb+ytyp45C3FxE0nX7sQdvapfuit0NvxV8O9D8ZXVtdajFeRXlupSO603Ubmwn2E5KNJbyIzISM7WJXPOK0NP8L6bpeqT6jb2xS+uIIraWZpHZnjj3bFOSem5uepzyTXIy/GjT4daS1Oha0dJN9Hp0viDyoRZQ3EjKkSMDL5x3M8ahliKhpFDMuG2tX40W9xbSTWXhjxBqGbuSxtI4ordHvpo3dJFiEsyYVShJd9i4IwxOQHsrrZh3O1s9AsbHVtQ1SC38u/vxGLmYsxLhBtQckgAAngYGST1JNUfFXgfSPGUdsuqQzmS1cvBcWd3NaTxEjB2ywujgEcEA4I4INcDJ8aLu51zQW0rw3rmqxXVjqButFt47VLu3uLee3jcSNJMkQ2F3UhZSGJBXdjNWPFX7R3hTwjceGUvS4i8QBPs0jXdlC6FnCANBLcJO5DMFIijfBzmiz0sPW50Vx8IfCc2g2mjrpklnZ2k0lxbPY3k9tcQSSFjI0c8TrKm4sc7WAIODxxW3J4T0248MyeH54pbnS5IGtpIri5lld42BBDSsxck5PzFs+9Z3hXx5F4uvNSjtNK1K3sbKWS3OpXcaRwSyxyNHIiDf5h2lc7toUhhhiQQPP7L9rTwFqWra9p9reCeXSYZpyYb+xkNwIm2ybY1uDJEFPBa4WJe+cc0CPUm8K6W2qR6ibUG8SzbT1l3txAzKWTGcclV5xnjrXN6p8EfBusRRQ3elSvbx2v2FraO+uY4ZoACAk0ayBZgMnHmBsdRiqtr8XL69m8LpF4F14prplIb7Vpri1jQKRK7JdsrKwbI8tmOAeM4BPh/wDHLw/8RvF2ueHdO+TUtJJ85Rf2V0GAcrnFtcSmPkH5ZQjf7PWlZX9BLRXR1lr4S0mzvL26gtPLnvLWGznYSN80MQfy1xnjHmPyME7uScDFW+8A6JqPgubwnPayHQZbc2r28dzMjGI9V8xXEgz6hs+9chqXx2h0HRfFGr6v4Y1LSNM0O9+xi6vtQ0y3ivDvCbo3lu1VRkg4lKEhhjJyotaF8cNJ8VQ+HZNE0vVdXOtQ/aYvsYgkjghEmx5JJvN8rap5+R2LDOwPg4V1LXcF7uxe034N+HtLsru0hufEckN0gjYXXinU7hkCkEGNpLhjGQQPmQqe2cVasfhN4Y0/TGsUsriZHuoLySe7v7i4uZZYXV4meeR2kfaUXAZiMDHTiuN8L/tU+BfGGo6zaaVfQ3Tadby3aump6ewuYozhmCi5LQgcf8fCw9frjrPhX8WNH+L3h2TWNFBWCKdreRTdW1ztZfSS2lliYcg/K5x3weKad9n0H8OjLDfC3w83iM63NBeXN4JftCRXWp3U1rHJnPmJbPIYUbJJ3KgIPOataf4B0Ww8STa8Irq41WQsVmvb6e5WDdgMIUldlhDAAERhQcdK4PRf2nPDGvf2/HZ2t5c3ejzJBJa2N3Y38kzO5Rdv2a5kCHcMbZSjDOSODjTl+NF15emrF4C8SPqNzqbaZPpjSWKXFq4haYMzG58plKLuGyRuM5wQFJF3tYHvbqd6+g2U2sW+qvBnULeFoI5t7fKjEFhjODkqOSM8Vj+KPh1o3jK8hutTOpiSJPL22Or3dnHIuSdsiQyosg5PDgjmuE0/9qzwJqnizV9Atr0TXWnC5y8V5ZyGZrfcJlESzmaPaVYbpo41OMhiCCe18K/EaDxJ4Ol8TXGmXeh6YkTXCvez2s/mQhd3mq1tNMhUjOPmzx0oskrj1Whrf8IjpKx6RGlhHFFpOPsMUOUSDC7QFVSBgLwARitkLjivGbj4/Jo99qGp+ItK1LwpoFppX20Raz9lieYtKqIysszKobcBiRkKk/MFwSOp+Gvxm8O/FLwne+INJuFW0sJXhu0F1bXXkuqhyDJbSyxN8rK3yO2M4OCCA7aN/Mnsd7R9a8xs/jtYSRtJf+HPEGihoobm3+3Qwf6RDLKkSSLsmbaCXUlX2uBnKg8Vb8efG/w38O9P1e71mU266bPBakSz29us0sqB0RJJ5EjHy5yXZQMHmpk+VJvqOzPQwaK8s1P40W+r/BLVPHXhO2l1rybWV4oLWa1lZZFBBy4m8lgp5JWRgQOCelRaT8TL/wAL+HoxrtnrWtap5ltbrZLaWy3zTTqWVHMUv2fIJA3BlVQMljy1N6bkp32PWMUV5N4s/aM0PwX4Mh8RazpV9piG6ksptP1C+06znglQZZSZ7tI3OOgikcnPANXo/icW166Iuk/smSSx+zO1vuxHNE0jEncpGQAcnOP7ppXGel/yoryzXP2gNH8L+F7rxFrmkaloWjCVIbG61S4sbZNSZ9xURM9yBGCFJzOYhitDS/jl4T1L4XXPj8X8cXh+3R2nkNxBIImRtrJ5kcjRMQ3G5ZCnfdjmndajWtvM9Epa8c8H/H/SvifdeHZPDNxGIZNYk0/UYPtNrdlQLOadQJbaWaM5Ko3yuSOQcHIrtdS+IH2XxYNBstB1bWZY0SS9u7L7OtvYq+7aZDLKhYnax2xq5AHIGRmmnHcDrKM1wmp/F/RNJ8P2+tXEN8tlNpl3qw2xKWENuqtICA33iGGAM555FUpvjPFBrOjaT/wiuuHU9WDywWck1hBMIFYAzlJbpWK4IJVQ0ij7yKeKLa2DzPSaWuAsfi5aXniaDTf7C1qHTrq7ksLTX5IofsVxcoGLRKBIZl/1cgDvEqMV4Y7l3d8KQbC0UUUAFFFFABRRRQAUUUUAFFFFABRRRQAUUUUAFFFFABRRRQAUUUUAFFFFABRRRQAUUUUAFFFFABRRRQAUUUUAFFFFABRRRQAUUUUAFFFFABRRRQAUUUUAFFFFABRRRQAUUUUAFFFFABRRRQAUUUUAFFFFAHzz4+/5G2/+qf8AoC0ngT/karD6v/6A1L4+/wCRtv8A6p/6AtJ4E/5Gqw+r/wDoDUAfQ9FFFADM/L1pe1IflGSa+WvjB+3Ro3gnXrjRfDWlf8JDc2z+XPeSTeXbqwPzKuAS+ORngZ6ZFKTUdzjxOLo4OPPWlZH1NSZFfMXwX/bf0X4g65b6H4g0z/hHdQumEdvcLL5lvI56KSQChPQZyCe4r6dXnvRGSkroeHxdHFw56MrodRiuW8ffEDT/AId6fp13qUN1PHfahBpsYtVVmWSVtqsdzDCg9SMn0BrpJp44ADJIsYJwCzAZ/Ojpc6yaioWuIUZUaRFZuVUsAT9KoaL4k0rxFZfbNM1G21C1814POglDr5iOyOuR3DKwI9QaYGrRUJuYlBJkUAZBJI4x1oFzCZPLEsZkxnaGGceuKAJMUYrF8V+Krbwj4W1XXp4Zru10+2kuXitArSSBQSVTcyqWOMDLAZ6kVj6l8VNH03T/AAxdlbm4TxFNFFZJDGu8eYu4M4ZhtVR16kdME0txOx2lFQ/aoSzr50eU+8NwyPr6VFcajDazQxv5haVtg8uJnAOCfmKghRx1bA96Yy3RVc31uuczxDBwcuOD6VL5i8/MODg89DQA+ioGu4EYq00asBkgsAQPWpEZZFDKQynoQcigB9FFFABRRRQAUUUUAeG/Ff8A5Go/9cR/6E9c34e/5D+mf9fMf/oQrpPiv/yNR/64j/0J65vw9/yH9M/6+Y//AEIUAe46L/yD/wDtrL/6Mer9UNF/5B//AG1l/wDRj1foAKKKKAMLxl/yCU/67J/Wun0r/jwh/wB0VzHjL/kEp/12T+tdPpX/AB4Q/wC6KALlFFFABRRRQAUUUUAFFFFABRRRQAUUUUAFFFFABRRRQAUUUUAFFFFABRRRQBU1CxTUbG4tJifKnjaJtpwcMCDj3wa5fXPhnZ6tp+kxWup6lod7pcTQWup6bJGLhImCh4yZEdSrbEJBXqikYIrsc0bqmyuFzza++BekXFlBaWura1pdt9la0u0s7lP9PjYsWMxdGJYs7tuUqcse3FWbf4NaZaeIhqcWq6sLYXcd+NK82P7KLlFVBMf3fmFiq4ILleeAMDHoNFUKxxNh8J9G07+0Nkt463moJqLLJMGEbq25UTj5U3FjjrljzUHg/wCEGneDdWtr631XVr1LOKa2sbS8mRobOGVlZo0CorMMomGcs3H3uTnvaM0bDPLIfg6+qeLdW1PVNW1OPTptSjvV0iCeP7JcGMK0bSKULgqyhsK6glRkGr+l/BXStP1HzpdW1jULKKa4mtdLu54zbW3niQSKgWNXKkSvjczEcYIxXolFSlZKPQOtzz61+EMEPh+50abxN4gvbNvKaz+0Tw+ZpxjYNGYXWIMSpA/1hfIGDkEgwf8ACk7JbVnHiPX11prsXp11biH7WJBCsJ48rytpjAUr5eO+Aea9IoqrsDgdX+E0PiK/0C41fX9W1KLR5obmO1uFtTHLPG25ZmIgDK+e8bJxxjBIM/jL4WWPjLWI9Ql1TVNNk+zG0uItPljRLqEsG2PuRmABGcoVPqTxXa5paW+4Hk+j/BXdr17eanq2qf2cNVXUItFS4jNnM0RVoZHXy94ZWVG2q4Usikqec9LffDKwutAt9Ntr7UNMktbqa7t9Qs5EFxDJJI7uVLIykEuwwykYx9a7TtSCltFRDuzzdvgfp8drp32HX9e0vULOO5T+1LW4i+0Tm4kSSdpQ0bIzOyKSQoxzjFQ3H7P+gSTQC31DV7KzENvDcWUFypjvBA++JpWZGcsGySVZd2TkGvT8ijNWm1qh3MnQPD1t4dsZrS18xopbia5bzSGO+WRpG7DjcxwPSub0v4Xtof8AaEen+LPEFnY3KuILFZbd4rJmbcWhLwswOScBmYDOAMYA7ukpCPNtK+CGl6LpdlaWmr6rDLBfT3811F9niku3mGJllVIVj2sMZ2KrEjdncSToeB/hTYeB777VDquq6m6Wws7dNQljZbeANuEaBEXgE/ebcx7k13GKMUB0see6x8G7TVtQu7tPEOuafJLfLqNutpLDtspwhR3iDRN99SdwfcMnKhTzWx4X+HWmeEpLV7SW6mkt7drZXuZQ7OGcuzMcDLFifQe1dXR1qbWsNu55rH8EbKHR7zR08Ra6uhSpstdL82BobABwyeQTCXwpGFV2dQOMYAA6Dw34As9A0nUbGW9vtX/tEs15cahKplmLLtYkxqgXI/ugY7Yrqc9qM07boDzjQvglpeiwwxzaxrGrGCOGCF76WL91FEwaONRHGihQR6ZIPJPGNjXvhzZ63KZ49R1HS7wagmpJd2MiB0kWEwkAOjKVaMspBU/eJBBAI7Cko8ybHEaT8MhoN7qMmm+Jtds7G6MzppiyQPb20krFneLdCzg7mZgGZlBY4GMCpPCXwt0rwpomsaaZ7jVV1iaSbULi9WFZLhnUIxYRRouSoAJ25PUknmuzxRii2gzze3+COmi1uYr7Xdd1aaS2W1hury6j822jVg6eWUjUblZQQzBif4i2TXU6F4VfS9Dm0u/1nUfESS7le41UwmUqwwVzFGgxj2zz1roKKe6sLsePJ8Bx/a0trc63rOp6LJpgs4ZLy5jM1mUlWSIRbYxnYVUhnDE7RuLc524vgvYrpt7DJr+uXOq3V1FeHW5biIXkc0a7EZMRiNcJ8pXZtYZyCWYn0U/rRQ/eWpV3sc4/g9L3wdceHdS1S/1eG4geCa8uzGLh1bIJJRFUHB4woouvA+nXWpC9dpjN9phuuHGN8S7F4x0wea6Oipetrk23OA8QfB3Tdevvtceq6rpVw7zmZ7CWMGaOXb5kTb0bCnaOV2sP73TFyH4WaLbtD/x8SLH9mAWSQEEQRmNAeOcqTn1PpXZ+tFFkPc88/wCFO2p0x7BvEeutDFOlzpzGaHzNLkXcAYG8rONrMpEm8EEg5Brcl8DxX3g2Tw7quqahrMcqFHvrt40uWJbcGzEiKCpxghR0Gc856f8AnRzVdAWhyOj/AA9Fh/Zbahr+r+ILjTbtry3uNSeHerNC8RU+VEgK7XY8jOec9qfqXgKO88WJr9rrGqaVOypHd21m8XkXqpu2iVXjY8bmGUKnB5JwMdbRQB5ZH8AdH+x3dlc61rl/YyWF1pkFrc3EZjtLe4CiRY9sYJOFXDOWYY68nO546+GNn4/l04ajqd8mn2cqTHTIkt3gnkRgyM/mRMwYEcFGUj1rtetAp3eg9bWOBt/g/p1r4gj1AavrDWUNxJd2ujNcL9jtriRWVpUAQSE/PIQrOyqXJCjC47DRNKXQ9HstPW4ubsWsSwi4vJTLNIAMbnc8sxxknuav8UtLpYLhRRRQIKKKKACiiigAooooAKKKKACiiigAooooAKKKKACiiigAooooAKKKKACiiigAooooAKKKKACiiigAooooAKKKKACiiigAooooAKKKKACiiigAooooAKKKKACiiigAooooAKKKKACiiigAooooAKKKKAPnnx9/yNt/9U/9AWk8Cf8AI1WH1f8A9Aal8ff8jbf/AFT/ANAWk8Cf8jVYfV//AEBqAPoeiiigDkvirc3ln8N/Es1hu+2R2EzR7B8wOw8j3xmvy58C+Arf4hQ3ltBrVvZeJVkDwWl+wjiuo8EtiQ8BxycHqAcc1+tssazxvG6h0YbSrDIIPUYr4o+MH7B+p3HiG51XwFfWv2O5kMh02+kaNoGJ5COAQy5J4OCBx81Y1IuVmj5LPMFWxDhVpx5ktGj5y8ealoeh21l4a8NJHdvp8wmuteVf3l1cYwRGeqxKeFHUnmv1M8Dz3V14N0Sa+BF5JZxNMG4O8oM/rXyT8E/2Fb7SPEVprPjq8tXgtZFli0qzYyeYynI8xyAAuQDtXOe5FfaCqEUKowoGAKKcZK9ysjwdehz1ay5b2SXY8v8A2hPBev8AjbwjpUXhu1t73U9P1i01EW91P5KSLE+5l34OCa83+MHwh8dfGGXwrq2qaXDCtjFd2934ettSi2BnZfLuEkkjZSwVSPuhl3cEc17/AOKvFmn+DdNW+1H7SYnkWFEs7SW5ld2zhVjjVmJ4PQU/wz4o03xhpYv9Llkkg8xonSaF4ZYpFOHR43AZGB4KsAR6Vqvydz6s8M0P4H6xo3xItNS1HQrLxXpv2W1gt77Vb8vc6UscZSRFBGHznqMZ71zHhn9nXxV4S+H+n6XpugaNDq2h+Kk1uKaK6CDVolnmdQ7BcoVSRVAbP3cV9Ux31tNdT2scyPcQbfNiVgWTcMjI7ZHSrVVd/wBfeKx8v2P7O/iLXn0yPxPZ2b2Mvim81fUbW3vHCtbSwsqpkYLfNtBXoRntVeX9n3xlP8cofFphsYLWx1pZIJrWZIxJpgi8tYGQJv3KAM5baccLmvp9L63lupbVZka5iCs8QILKD0JHbNWO9KPuu6/r+rDeqseZ/wDCDX0vwW1bw1baRZaJf3VtcRR2NvcNJCjOzEHeeec5PoTWa3wu1j+2rlv9GfTrPUY59KXf80cMk3nzhhjgh/lUD+EYrt/F3xB0jwTNYwaiuoTXF4JGhh03Tbi9kYR7d7FYUcgDevJAHIra0fWLLxBpdpqWn3CXVjdRLNBPGcq6MMgg/SnruK1jwXRPhD4itvG2ta/f6JY3r3lheW13btLbpb6i8kkRiO1IlYKFR8+YzEZ4wTW/pHwp8QaZYx2l5NDqt8lzJLLrLvtlulaF0VWByRsJCjnG3B6ls+z1QtdatL3VL3T4ZS13ZiNp49pG0OCV5Iwc7T0Papa5lyvYd9bs8kH7P2kyQhJvDukzCTRHtpxLCriW9yNszZB3OoLgSHLAMQCMmn3Hg3xcv2jS002C6tbyWxupdSe8AKNEIxIpQjcxJQkNnBzXtHek3Bs4OeeaOxDimrM8af4F2l5qWkXl7oum3c/9vX11qc06K7z2MqXWyFiwJdN7wN5Z+UFc4ytd38NfDdx4R8I2+kzRxw/Z57jyoojlEiad2jVfQBGUADgYx2rraSqvpY0bvuLRRRSEFFFFABRRRQB4b8V/+RqP/XEf+hPXN+Hv+Q/pn/XzH/6EK6T4r/8AI1H/AK4j/wBCeub8Pf8AIf0z/r5j/wDQhQB7jov/ACD/APtrL/6Mer9UNF/5B/8A21l/9GPV+gAooooAwvGX/IJT/rsn9a6fSv8Ajwh/3RXMeMv+QSn/AF2T+tdPpX/HhD/uigC5RRRQAUUUUAFFFFABRRRQAUUUUAFFFFABRRRQAUUUUAFFFFABRRRQAUUUUAFFFFABRRRQAUUUUAFFFFABRRRQAUUUUAFFFFABRRRQAUUUUAFFFFABRRRQAUUUUAFFFFABRRRQAUUUUAFFFFABRRRQAUUUUAFFFFABRRRQAUUUUAFFFFABRRRQAUUUUAFFFFABRRRQAUUUUAFFFFABRRRQAUUUUAFFFFABRRRQAUUUUAFFFFABRRRQAUUUUAFFFFABRRRQAUUUUAFFFFABRRRQAUUUUAFFFFABRRRQAUUUUAFFFFABRRRQAUUUUAFFFFABRRRQAUUUUAfPPj7/AJG2/wDqn/oC0ngT/karD6v/AOgNS+Pv+Rtv/qn/AKAtJ4E/5Gqw+r/+gNQB9D0UUUAFFFFABRRRQBxPxQ0DVdf0zSodHnNreR6lDN9pESyeSoDZYqxAYDPT3rzr4mfD3xBa6DY6Vph1LVHvbq51DUNUsFVJzeFVWMFBLGFiKlwTubbsQYOcj2XxF4m0nwjpzahrOoW+mWSsEM9y4Rdx6DJ7mn6Hr2neJtNh1DS72HULGbmO4t3Do2Dg4I9xSH2PH7fwf4v1RdMtdVfUVgkl00XzQ3ZUsi2ki3A3BsgGQqG24JJyPUT6j4a8X6Tq2qR6Wl7Npuizf2hpKm5LG8MqoGt2LPkhCs/3uAJI8crx7T70q1cpOTuJu9tNjw7xJ4R8Qr4fu7a5TWr0Mlm2zTZN7SyBWaVTmVCE3HBIYH7uM1z2q+DfGmpax4ZuZ11zSLGLTrVYLbR8XAspw7mXzTLOpyVMfLeZ90jtlvpOjioj7uwPU868eeF/EOueNvC9zouonSUtLS9S41D7Ok4XeYNqbGI5bYxyOm33rIsfhfe6Rq9/BYT3ws9N0W2t9HeW6Kx/agbjzJGVSAz/ADRklhj5uhxx65UUkqQ43uqbiFG44yT2HvVX6FXurHgNn4X8Sf2TraaTpHiDSomsLdL2C/vy8t9KsytcfZiZG2M8IkVWBUbnXhcZqfRdF1fwzfXetaT4Y8QW+lte2jjTZrlZbx41SRX4aVsgMwO1nPByPQe9/jRSuQ1c8NutI1u9jsLrxDoPiDU9Ka5vpP7M0+82XEMjzBoHfbKm5RHuUAMQpP3TkEdf8M/DaeHtd8VJ/ZOo2LXN8Z1urq5aWG4RgpGwM7bSDkEbR07jFbcnxM8Kx+IJdEfX7AatHu32fnDzF2qXbI7YUEn2FdFbXEd5BFPC4khkUOjqchgRkEH0Ippg10LFFUNQ1ey0ySJbu6itmkDsgkYKWCruYjPooJPtVmG4juoY5onWSKRQ6OpyGBGQQfQikMmooooAKKKKACiiigDw34r/API1H/riP/Qnrm/D3/If0z/r5j/9CFdJ8V/+RqP/AFxH/oT1zfh7/kP6Z/18x/8AoQoA9x0X/kH/APbWX/0Y9X6oaL/yD/8AtrL/AOjHq/QAUUUUAYXjL/kEp/12T+tdPpX/AB4Q/wC6K5jxl/yCU/67J/Wun0r/AI8If90UAXKKKKACiiigAooooAKKKKACkoXpUN3/AMe8v+6f5UnoMk3ZpQe9fOfw7vvEesaV8OPDem+JLnw9p134Xur65ubO3glujJFNbLGUaeORBxK4bcrAg8AHBFtfGni/UfCuj65fa1qmm6Dafa49S1LQLS0kmZ4Ll4w88c0T4jZE3HyVBBJOVXppKDj/AF/XYXVpdND6C70V87a3qniDw/L8X/Eek+Kr+eazitpLG1uorVrZS1pGysQIQ+FLHA3YPOQTzXoNjda54f8AHugaLfeILjWIr61urmdrm3gj+dSm1U8tFKouWwCWbB+ZmPNZx95ESkonpFFeEaD448RePZvD2iQeJJ9GOpS65cvrNhb2zTtHaXwghhiEsbxDKyKSxRiVjPclh1Wgya94k8aalE/iy+sbHw/NFbGxt7e0zf5QMz3DNCzDcTwITGB70+qK6XPSI5FmTcjhlyRlTkZBwR+YNSAZrwPwbr2u+KLbw94es9ak8LrdJq9/LqGmWdqJW8nUDGsSpLE0YBD7mbZuOM5BJNWdJ8V+LPHWreH9Jh8SSaFFcWV613faZaQNNK8MyRpJF5ySIoYE5BVh6AdaS1aXcXMuXmPc6K+brj4peOdet/DmiaZHrFzqckepNc3+gppqTzm0vDbKWW8YRqrgbmCKTk4XaOR0GseIvHNha6JrHim81bwno8NnHJqDaHDZXIiuNzBxdh45mEe3ad0BAX5tzAYNVYL9T3OikByOKWkUFFFNk+4fpQAnX3qlf6vYaXPaQ3l9b2st5L5Nuk0qo00mCdiAkbmwCcDJwDX5+/DzxtqXw1k+JlhbTzm48cajqFtpG52fbfLeNAdmTxhJA2B/czWn8H/tXgHwb8L9CgeG7VPirfaZJNfW0VzJ5YS4yUeRWaNsqPnQq2MjOCQVHW3ml+aX6k1JcnN1s2vwf+R9+4or50/ac+LHjHwn4u8F+FPCTXllJrn2iWa/0+2tZ7kCNQRHGt26wgknJLZOBwM81yd78SvjHql98FvDNzqtp4L8Q+KE1qHVpxYQXnFsqNDMiB2VZCgJ2hmUM5BDAAAj723exai27eVz634FUNT1vT9ESBtQv7WwE8ohia6mWMSSN91F3EZY9gOTXyJ4N/aO8b6f4Z8H+KfFOtQ3Ph+z8Qah4a8QzpZRRLOYywguiAuY2LJgqpC/N0qx4d+JPjbULz4L634pkgv7jxJPrWrrYy6fb77a1ELSWkMb+WGUrGFJYEMxYhiwpvTXogs72sfYVHpXxz8Lfj18QdS8SfDXW9Y8T2Os6T48vrqzk8LxadFC+jiNHZHWVSZHI2hW35HPGK+xaLdRdbD6KKKACiiigAooooAKKKKACiiigAooooAKKKKACiiigAooooAKKKKACiiigAooooAKKKKACiiigAooooAKKKKACiiigAooooAKKKKACiiigAooooAKKKKACiiigAooooAKKKKACiiigAooooAKKKKACiiigAooooAKKKKACiiigAooooASkFFeO3Pw78K+Nvi94suPEWg6dq0tpaWYguLyBXkgBVySjkZTnnKkHPNQ5WaQHr7SorqpYBm6L3OOtPz0r558H+INevLXwxb2VzHqM6ya5baZe6iiyvNFC8iWztKwLHKqoLA/MBlic1bh8b+INH0JtKuPEGsjxVdanY2Vy+vWdmP7MW4cqZIPIiSOVSFdULlxu27t2Cprt5k31a7HvnrRXnWl3OseHPHOi+H7vxHe67ayafc3EtzqMVss0jq6BcmGKNRtBP3VHvnrXEt4s8Ya94R0LWotZ1a30PddvqGoeHbWzmu1KTARExzROGh2BwfLQyZ2nOMmpUruxZ7ssiNIyhgWXGQOoz0qT3rwebx3f/2pqsej38caapqGmWcOrx2sPmRxzQs5mPyYZiANu8EAt0xxTta8XeLNBmu/DNv4jkvry11vS7Ma7dWcBmeC6z5iSLGixGVQCQVRRh48g87rfu2uZ865eb+tP+GPdqN3NfP/AIl+IHi3wbb6v4fgv9T8Tagmq2lhb6l5VjHeiOeN3YgMsVsWXZhSygfNyGPBsw3vxVn8Isl9FrulC21QxvexDSptalsPIVllKIslrvExZWCoCUUFVDGnYrse80VheDdVg1rwzp17bX9xqkMsQIu7qJY5ZCCQS6qqBWyCCAoAI6Ct2h6OwJ3CiiikMKKKKACiiigAooooAKKKKACiiigAooooA+efH3/I23/1T/0BaTwJ/wAjVYfV/wD0BqXx9/yNt/8AVP8A0BaTwJ/yNVh9X/8AQGoA+h6KKKACiiigAooooA4T4rWWr32m6ONEjifUI9UgkVriJ5IkADZZwpB2j1yOornbfwPr2matpVgdXubZdUur7U9Wn0eLyYjKREURWIYouR1Jy2GzkkmvW6XNIOx4JY+IPEFtrFxI2qa7BqSRXranHqdoyaZaKqt5DxyOixn+E/K7Z53YrA8E654m1zTr7ydZ8RWupyXOmwfYb3z5ZIYWnAnuF823iBUqdpKhlUKSW+YV9F6tpdtrWnXVheQi4tLqNoZoiSNysMEZGCOD1ByO1ZHhPwDpHgtrh9O/tCaabCvPqmqXWoS7R0RZLiR2VASTtUgZJOMnNVHR7A+ljyvXNQ8V2PxV0aw0661r+z7G4t4Jop4LiaO8gIw8zyqghGNwyC27jOOKs2Ph3xZqUmhzXXiLxJAdTkvI75IcRrAkZkMG0bP3ZO1BuP3sn+9XuHHSjjpSWisTbU8E1f8A4Te+8K6hepqGuWuoaZ4dN5aQ28JU3N8hmwrrsJckLHlB13D1rZbT/EWk+KpNP+06rq+mi70y7Se+j87YzvMJ1VtmFVQsZx/DkcjNexcUg6U/kUtI8p4hpkfinR/D9tr17r+qRXV1p9+bqPU9q21m4UtE5UhQm0qOpGQTU37P+rahrn9sSajqWsi88qILpmsvOzwcHdIplghJDHj5QQNvXkV61rWj2niDSb3Tb+H7TY3kTQTxFiu5GGCMggjg9QQR1BBrM8KeA9J8FrMdPbUJpZsCS41TU7nUJiB0US3EjuFH90EDJJxS6u+zFLV3R5/4R1eHT/At34Om0zVLPxHHa3SSp/Zk7RTSYdjILgIYmL9RltxJwRniswWfiT4f+EwkF7r2rLNokJfzkeRrSfcisyLGm4bQxOxQWwOBxXu2aKXd9x9UfO3h2HxRq3h/Tv7WGoarLbzaokN3cWc0bvC1sfLJWVQ4yWKjcAe2MjFS2V541h+IWiWcup3WkadFFax29l/Zd3NDNH5S797xqY1bduH7wrtwOtfQlHpR1v6E20PGdJt/Euj2ula9fa7qxkvFvFvre/IW2tkEUjRNtKjyyGRBuJ53H1rzrRPE3jK98K6rNZ6xrceqk2q3FrfJdXEsFuciW4hTyI2bLbRiLfgZwW7/AE/qmn2+q6dc2V3EJ7a4jMUsZyAykYI49vSsXwj8PdG8EtO2nDUJppgFafVNUutQlCjoqvcSOyr32qQM84zQvMr0M/4QzanceB7R9V1KTV7jzJAtzNZT2shQMQoZJwsmRgjcQM8EcV29LRVCWgUUUUhnhvxX/wCRqP8A1xH/AKE9c34e/wCQ/pn/AF8x/wDoQrpPiv8A8jUf+uI/9Ceub8Pf8h/TP+vmP/0IUAe46L/yD/8AtrL/AOjHq/VDRf8AkH/9tZf/AEY9X6ACiiigDC8Zf8glP+uyf1rp9K/48If90VzHjL/kEp/12T+tdPpX/HhD/uigC5RRRQAUUUUAFFFFABRRRQAU1lDKQeQRginUhOBQBh6V4N0bRZLB7HT4bZrC1eytSgP7qBmRmQc9CUU/8BFZN78JfCmoR2sc+kq0Nq8kkUKTypHukcu5ZFYK25mJIYEcmut84f3JP++TR5w/uSf98mi7Yd/M5zVPhr4b1nUbi+vNKimubm2FnM25lWWIdFZQwVsdASMgcA1a8T+CdF8Yx2y6vYLd/Zn3xPveN0PfDKQcHAyM4Petrzx/ck/75NHnj+5J/wB8mgDlrr4W+FrzQ7fR5NGhTTbaWSaGGEtEYndmZyrKwZdxZicHBzU03w38OT6tY6m2mqt/ZBRDcJLIjYUYXfhgHwOm7NdH54/uSf8AfJo88f3JP++TR5h5HM6h8MvDGqaTb6Zc6TGbK3lkmijjkeMo0jFnIZWDDczMSM4Oa07LwrpOn3FlPa2EMEtnA1tbsi48uNiCVHsSoP4Vp+cP7kn/AHyaPOH9yT/vk0Csjl9R+F/hjVtLhsLnSIzawzy3Eaxu8bJJI7PIVZSGG5mYkA4OaNQ+F3hjVriwmvNNNw1iixwJJcSlAo6Bk3bW/wCBA11Hnj+5J/3yaPPH9yT/AL5NHmh+RLRUXnj+5J/3yaPPH9yT/vk0APak9qj84f3X/wC+TWd4iutRi0PUH0eATaotvIbWKYEI8oU7A3I4LYzyOO4oIlLlTla9jAX4M+CluNNnHhuy87Tb+XU7RypJgupSTJKvP3mJOe1SQ/CHwfb/AGLy9BtU+xaq+t2+Af3d6+4POOfvHe3t8x4rzb/hJPj5/wBC1oH/AH0f/j1A8SfHz/oWtA/76P8A8erPnXb8DxnmsHp7Kf8A4Cz1bxv8OfDXxH0+Ox8S6Nb6vbxP5kSzg5jb+8rAgqfoRVex+FfhTTbjw5NbaJbRS+HUnTSnGc2izDbKFyf4h1zmvMf+Ej+Pn/QtaB/30f8A49Sf8JJ8fOv/AAjWgf8AfR/+PU1PsH9rR/59T/8AAWeh3HwU8D3ng/UfCk/huzl8O6hcPd3Wnsp8uWZm3s55zksM8Gti48CaDdahoV9LpcDXWhq6abJgg2oZNjBADgAqAPpXkv8Awknx8/6Frw//AN9H/wCPUf8ACR/Hz/oWtA/76P8A8eo515h/a0N3Sn/4Cz0LQfgv4F8L+KrjxLpXhfTrDXbgsXvYYsNlvvEDOFJ74AzXcdq8S0PxB8bJdYsE1Pw5ocOmtcRi5khYl1iLDey/vjyFyRweexr2gTeqv/3yapO69Dvw2JWKTkotf4lYnoqLzx/ck/75NHnj+5J/3yaZ2ktFReeP7kn/AHyaPPH9yT/vk0AS0VF54/uSf98mjzx/ck/75NAEtFReeP7kn/fJo88f3JP++TQBLRUXnj+5J/3yaPPH9yT/AL5NAEtFReeP7kn/AHyaPPH9yT/vk0AS0VF54/uSf98mjzx/ck/75NAEtFReeP7kn/fJo88f3JP++TQBLRUXnj+5J/3yaPPH9yT/AL5NAEtFReeP7kn/AHyaPPH9yT/vk0AS0VF54/uSf98mjzx/ck/75NAEtFReeP7kn/fJo88f3JP++TQBLRUXnj+5J/3yaPPH9yT/AL5NAEtFReeP7kn/AHyaPPH9yT/vk0AS0VF54/uSf98mjzx/ck/75NAEtFReeP7kn/fJo88f3JP++TQBLRUXnj+5J/3yaPPH9yT/AL5NAEtFReeP7kn/AHyaPPH9yT/vk0AS0VF54/uSf98mjzx/ck/75NAEtFReeP7kn/fJo88f3JP++TQBLRUXnj+5J/3yaPPH9yT/AL5NAEtFReeP7kn/AHyaPPH9yT/vk0AS0VF54/uSf98mjzx/ck/75NAEtFReeP7kn/fJo88f3JP++TQBLRUXnj+5J/3yaPPH9yT/AL5NAEtFReeP7kn/AHyaPPH9yT/vk0AS0VF54/uSf98mjzx/ck/75NAEtFReeP7kn/fJo88f3JP++TQBLRUXnj+5J/3yaPPH9yT/AL5NAEtFReeP7kn/AHyaPPH9yT/vk0AS0VF54/uSf98mjzx/ck/75NAEtFReeP7kn/fJo88f3JP++TQBLRUXnj+5J/3yaPPH9yT/AL5NAEtcd4g+E/hTxRrh1jU9K+06iUWNpRcSoHVc7Q6qwVgMn7wNdZ54/uSf98mjzx/ck/75NLTcDJn8H6NPHaJ/Z0KJZwtb2yxAxiGNl2sq7cYBXjiszT/hb4W0vR73S4NHjayvSGuEnkeZpCpypLOxYYPK4PynkYNdT54/uSf98mjzx/dk/wC+TTBHJTfCTwpNpdlp76VvtrORpYN1zMXRm+98+/cQe4JI9qLz4S+E7/T9PsZdIVLOxLG3t4JpYkXcctlUYBgT2bIrrfPH9yT/AL5NHnj+5J/3yaAMK48D6BcW19bvpcBhvRGs8YUgNsXamMdNo4BGMVFpvw98OaTpsFha6XDHbQ3SXqAszN5y42yMzEszDAwSTwAOgrofOX+7J/3yaPPH92Q/8BNHmLlVrW0Me/8ABeiatHqK3mmwzjUdhutwOZCgwhznIK9iMEVlzfCXwtNoEOjNp8v9nRTGdYhezht5GCSwfceOxJHtXWeeP7kn/fJpfPH9yT/vk0DIdN0220ixhs7OFLe1hXbHFGMKo9Kt0xGDLnBH1GKfQGwUUUUAFFFFABRRRQAUUUUAFFFFABRRRQAUUUUAfPPj7/kbb/6p/wCgLSeBP+RqsPq//oDUvj7/AJG2/wDqn/oC0ngT/karD6v/AOgNQB9D0UUUAFFFFABRRRQBzPxAN8vg3V5dOvW0+6ht5JRcRqGZdqknbngE4xnnFctq95f6xdabZDVrrTki0STUmlt5CjyygxhSxxyqgtle5celeiX1lDqFncWlwnmwTxtFIuSNykYIyOeQT0rH1rwLo3iGGyivbWQrZqY4TBdSwMEIAZC0bKWRgq5RiQdoyDgVOtw7GT/wnF5b+EvDN6mnjUdR1cQxrGJhCgkeIuWLEHC/KexPPSs+z+KN/ceQbnQhY28813ZLOt6JHW5gEu8bdgBTMLhWzk8ZUZrt59EsbhbEPbqBYyCS3VCVETBSowBgYCkjHSqg8G6P5cUZs/kjuZ7tB5jcSzb/ADW6/wAXmvx0G7gDAxUtdgOPt/ilqH2cSw6IbyztYLSW8u5LtY3AmVTlUCYYqGyRlRxx6V6YOeawofBmj29rcWsdltguEjjlTzGOVjACDO7IwFHTrjnNbv3eKenQQtFFFIYUUUUAFFFFABRRRQAUUUUAFFFFABRRRQB4b8V/+RqP/XEf+hPXN+Hv+Q/pn/XzH/6EK6T4r/8AI1H/AK4j/wBCeub8Pf8AIf0z/r5j/wDQhQB7jov/ACD/APtrL/6Mer9UNF/5B/8A21l/9GPV+gAooooAwvGX/IJT/rsn9a6fSv8Ajwh/3RXMeMv+QSn/AF2T+tdPpX/HhD/uigC5RRRQAUUUUAFFFFABRRRQAUUUUAFFJmjNAC0UmaM0ALRSZHrRmgBaKTNGaAFopM0ZoAWikyKM0ALRSZozQAtFJmjIoAWiiigAooooAKKKKACiiigAooooAKKKKACiiigAooooAKKKKACiiigAooooAKKKKACiiigAooooAKKKKACiiigAooooAKKKKACiiigAooooAKKKKACiiigAooooAKKKKACiiigAooooAKKKKACiiigAooooAKKKKACiiigAooooAKKKKACiiigAooooAKKKKACiiigAooooAKKKKACiiigAooooAKKKKACiiigAooooAKKKKACiiigAooooAKKKKACiiigD558ff8jbf/VP/QFpPAn/ACNVh9X/APQGpfH3/I23/wBU/wDQFpPAn/I1WH1f/wBAagD6HooooAKQjNGahuLuGziMk80cCDq0jBQPxNAEwGKWobe6iuoxJBKkyN0aNgwP4ipaA3FooooAKKKKACiiigAooooAKKKKACiiigAooooAKKKKACiiigAooooA8N+K/wDyNR/64j/0J65vw9/yH9M/6+Y//QhXSfFf/kaj/wBcR/6E9c34e/5D+mf9fMf/AKEKAPcdF/5B/wD21l/9GPV+qGi/8g//ALay/wDox6v0AFFFFAGF4y/5BKf9dk/rXT6V/wAeEP8AuiuY8Zf8glP+uyf1rp9K/wCPCH/dFAFyiiigAooooAKKKKACiiigBKwfHF3NY+C9eubeRobiGwnkjkQ8qwjYgj3BAre71zvxE/5EDxJ/2Dbj/wBFNWtJJ1Ip90ZVXanJrsfmX/w0R8S/+h21f/wINH/DRHxL/wCh21f/AMCDXndFf0jHLcFZfuY/cv8AI/D3jcTf+I/vPRf+GiPiX/0O2r/+BBo/4aI+Jf8A0O2r/wDgQaq/CX4R6r8VvFVhpVsk9naXXmA6k1uzwIURmwWAxk7cdepFc74r8Kah4Q1i6sL+1uIDFNJEkk0LIJQrFdy7gMg4z+Ncyw+WSrOgqceZK9rL/LyNvbY32fteaXLfe7Or/wCGiPiX/wBDtq//AIEGl/4aI+Jf/Q7av/4EGsDRfh9qGsaJ/bElzY6VprSmCG41K4EKzOBllQEEttGMkDAJAzmucmi8maSPesmxiu5DlWweoPcVpHB5fNtRpRbW+iIeJxkUm5tJ7as9B/4aI+Jf/Q7av/4EGj/hoj4l/wDQ7av/AOBBrzuitv7OwX/PqP3L/Iz+uYr/AJ+S+9non/DRHxL/AOh21f8A8CDS/wDDRPxL/wCh21f/AMCDXnVKiNI6ooLMxAVQMkk9hR/Z+B/59R+5B9cxX/PyX3s9D/4aI+Jf/Q7av/4EGl/4aI+Jf/Q7av8A+BBrzyWJ7eV4pUaORGKsjghlYHBBB6Gm1Ky/AvVUo/civreKX/LyX3s9E/4aI+Jf/Q7av/4EGj/hoj4l/wDQ7av/AOBBrzuiq/s7Bf8APqP3L/In65iv+fj+89F/4aI+Jf8A0O2r/wDgQa99/Yt+K3i/xx8U9SsNf8Q32rWaaPLOsFzLuUOJ4VDAeuGYfia+Pa+l/wBgH/ksmrf9gOb/ANKLevn8/wADhaWWVZ06UU0t0kmevlOKrzx1OMptpvqz9BKKKK/CD9fCiiigAooooAKKKKACiiigAooooAKKKKACiiigAooooAKKKKACiiigAooooAKKKKACiiigAooooAKKKKACiiigAooooAKKKKACiiigAooooAKKKKACiiigAooooAKKKKACiiigAooooAKKKKACiiigAooooAKKKKACiiigAooooAKKKKACiiigAooooAKKKKACiiigAooooAKKKKACiiigAooooAKKKKACiiigAooooAKKKKACiiigAooooAKKKKAPPtS8G6Vqt7LdXELvNJjcRIwBwABwD6AUmneDNK0q8jureF1mjztJkYgZBB4J9DW63WkoA6aiiigDK8Ra5B4a0HUNVuji3s4HnfnkhVJwPc4xX5X/ABY+Nvif4seIrnUtR1C4jsjIwtrKJ2WGFM/KoUHGcYyTyTX6jeOPDv8Awlng/WNG3+Wb61kgDehZSAfzxX5gaXrV98H9b1fwn4r8PxatpZmzdaXeKUbzFyFmicfMp6cg4ZTg9awq30XQ+K4ilUvThzNQe78/M6H4V/ELxv8AA+HRvFrX7Dw/qF15TaTczMz3cS/fkSM9FHQNkfNxzzX6X6VqUOsaba39u4e3uYlljYc5DAEfzr8n408SfHj4h2ttDC099dskENvApENpCuAqqo4VEX/OTX6s+G9HXw/4f03S0YutnbxwBj1O1QM/pRSvr2L4eqVJKpFXcFa1+555+0T4q1Twx4R0qHStQbR5tX1e10uTUkALWsUjEM6kggNgYBIOCc1H/bQ+Cs3hPQZNR1bxaviXWjZLf6xqAkktMwPJw2z5lzEcKSDlyc4AFeh+J/C+leMdEuNJ1rT4dT064XbLb3C7lYfzB9xyK5YfAfwJ/wAItF4dbw/G2kxXgv44WuJmZJwAokEhfeGwAOG6cdK2T0aPsXrY8x1D9sBYYreDTfB93qmrT3d9CtnbyTzKY7aTYX3QW0rbmPRSgA7sOtbv/DSF1J420XQm8IT6PBqlpb3ENz4gu2sHlklTeYIkMTK8icKyF1bOcKRgnr5vgJ4Cm0q107/hHIYLW1mkuIBbSywyRO/3yro4YBu4BwfSrv8Awp3we3iK01ttGWTUbTy/IeSeV0QxqERhGWKblVQAxXdwOarTqGurPJvCvxs8ReL/AAr4U1bxBpQ0lr7xUNNg/sfVSBIgMo/fKY+VBTBXPzcHK9K1PD/7Uh1y+sZn8KTWnh7V2vk0fUjfo8ly1qHLCWELmEN5b7TuY8DcFzXoem/BfwZo8gez0OOHbqA1RVWaUotyN2JFUthT8zcAAc9Kbp3wU8D6Tr15rNp4dtoNRuhKJJVL7R5v+tKIW2oWyclQCc80v6/If9fmeeeGf2pjqW2bXvDA8M2Fz4el8Q2V3camkiSQxsFdZcIPKOWXB+bIPY8Vl6b+19JdeH9eu7jwRex6ppV3Y2/9nxzyIbhbokRsjXEEJzx3UKeCGI5r1qf4N+DLq1t7WXQLeW3t9Nk0eOJ2cqLRyC0WC3IJUHJ544NV7H4GeBtMt5be38PxLHK1vJIzTSu7tAxaFmZnLMVLHBJPGAeABVe7fy/4P+Qa28zgdc+Ok3gXVfFGq+I9E1G0u9N0Kxu5NHh1NLiESzTvEkajYqhi20NJuIx2+Xntvhr8VbzxnqXiLRtY0AeH9f0Iwm5tYb1byBklUsjJKEXPAIIKjBHcc10OrfD3w5r15qtxqWkW97JqtmtheeeC6zQKWKowJxgF2OQAcnr0png/4c+Hvh/Y3dp4f0xNPS6bfM3mPJJK2MAs7sWbA4GTwOlT0dlqHU8k8P8A7Vlxqlxpz3/g19OsNVstSudOuU1RJ2mkslLyo6BAY1KjIYknsVFVPGH7RGq3Xwn0/WG8M3mh3mvoJdOsbfUy19LbeWJGmTyLecrxkfdyAQSVPTrvhf8As3+GfAujp9v020v9daC4tZ79DIA0UzkuqqWwpYEBmUAnua63VvhD4Q13TdE0++0SKe00WNYrCPzJFMEaqECAqwJXaACrEgjrmk/6/H/gB18jz3wp+0Pd+Mbjw5pfhLwpNqstzo1trF9JqmqLbGzglYoi7ijtNJlGJGFGBy2TisG6+OHiXVLXxWdX0ZdO03SfFFtpFrcaRq7R3D7po12uDERtw244PzAlcDG6vU7j4E+A7k6OW8OQI2kQi2smhlkjaOINuEZKsC6hudrZGe1WJvgv4MutU1HUJdDjN3qFxHdXTCWULJLGwZHKhtoYFQcgDOOc1TtzJ/1v/kSrnI2X7QNzeQ+KtbHhgp4K8PveQy6u2oKbmaS2yHC2oThSwZQS4PGSoFReE/j5r3iTUH0p/An2bWjBaX8VqmswyI1lO+PNMhRQHUfMY8HPQMa7WH4N+DbXxFf65FoNumo34kFywZ/LmMi7XLRbvL3MOC23J7mquk/AbwFotpJa2Xhy3iiknhuGzJI7b4m3RYZmJCqeQoO0elEbdRu+tj0FenpS0mMDApaQwooooA8N+K//ACNR/wCuI/8AQnrm/D3/ACH9M/6+Y/8A0IV0nxX/AORqP/XEf+hPXN+Hv+Q/pn/XzH/6EKAPcdF/5B//AG1l/wDRj1fqhov/ACD/APtrL/6Mer9ABRRRQBheMv8AkEp/12T+tdPpX/HhD/uiuY8Zf8glP+uyf1rp9K/48If90UAXKKKKACiiigAooooAKKKKAErnfiL/AMiD4k/7Btx/6KauirnfiL/yIPiT/sG3H/opq1o/xY+qMq38OXoz8h6KKK/qGPwo/A3uz3L9nj9pLU/hTqmnaVqV7J/whsbzST2sNqjyFmRtpVjg437SRnpmuL+L/wAYNc+LmvNc6refarS2kkWxUwpGyRFiVDbRycY65rgaK82GW4aninjIwSm9Nl9/q+p2vHV3Q+rc3u9j0iS/0Lxn8N/DOk3PiC18PapoL3MRj1C3uHiuY5ZDKHRoYpCrKxKlWABGCD1FddpPxU8P2PiXwraXN1Dc6DY6YIpGFtIIob3awEzqFWRwpIOV5APHIxXhNFRLLac005OzbdtNG92tL9erZMcVOLTSV7Wv3t/wx9IaT8S/DB8RXGpahrWgw6isVvAs9mmqi2nhDu0m8lBLJMAEADYTBHzEjA4H4lfEDT9Q8PRaT4eu1Wzlvbya6hit2j3o0xeLcWUEjGCFzx7GvLaKzoZTSoVFU5pO1rJtW0+R0zzGpOm6bitettT3DSPiNoNl8LdN0q0k0WC4jtZYdQsNTivjLNKZGIljMSmFiVK4L4KlccjBrQvPjRo9xrmrSPqIl0+2vdNuNJjjtWXYsT/vyg2DadpYHdjdnvXz/RS/sig5SlKTbbb37u+mhmsdUUFBJbWPfPG3xb0+OzvI7XxFF4gkvfED3U7W1tKjtp7ZIhLSxoR/dKg49yOa67TvHOk+LfGULWM2gXOj6fDe3puLOK+jvbC3+yugb9+jIoVmj+WISEEBlVsYr5Vq3per32h3iXenXtxYXSAhbi1maN1BGCAwIIyOK5qmSU3S5ac2mk7PTqra2X3WN4ZlUU7ySa009D6ek8Z6Lo/iKy1fWdcs4Ums7VLCSWW9lintVkYTO4jgikaYsvR41Qj1r5w8bXdhfeLtZudK2/2bNdSPb7EKL5ZYlcKQCOOxFUdU1i/128a71K9udQu2AUzXUrSuQOgLEk1TrswOXLBvn5m21a3T5abmGKxjxC5bK17+YV9L/sBf8lk1b/sBzf8ApRb180V9L/sBf8lk1b/sBzf+lFvXJxF/yK63ovzOjJv9/pep+glFFFfz2ftIUUUUAFFFFABRRRQAUUUUAFFFFABRRRQAUUUUAFFFFABRRRQAUUUUAFFFFABRRRQAUUUUAFFFFABRRRQAUUUUAFFFFABRRRQAUUUUAFFFFABRRRQAUUUUAFFFFABRRRQAUUUUAFFFFABRRRQAUUUUAFFFFABRRRQAUUUUAFFFFABRRRQAUUUUAFFFFABRRRQAUUUUAFFFFABRRRQAUUUUAFFFFABRRRQAUUUUAFFFFABRRRQAUUUUAFFFFABRRRQBzTdaSlbrSUAdNRRRQA3rXJeNPhX4S+ISx/8ACRaDZaq8f3JJ4hvX2DDkD8a6ylH1oM5wjUXLNXRy3gz4Y+Ffh7C8fh3QrLSfM++8EQDt/vN1P4mup6UUc0JW2CEI01ywVl5HHfE6812z0GF9Ea8gH2lRe3OmwJcXcFvglnhidWDsCFGNrHBOFJ6YVr8ULbRdHsYLBde+INyLd7q5ureK0inhiDspadWNuisGV02Ku/MbZXKmu38SaDJ4hsRbJql/pB3BvP02VUk47ZZWGPwrlrj4M6PJY21va6hq2nSxxyRT3dpdBZrxZHaRxMxUhtzs7ZABBY4wDikadiPQfiZDf+KLmF5pJtJvPs50+4EaqiB4PNwxOGywBIyDjaQcd68vxos4HuLkWWoXVp9lsJrazhtE+0Sm6uJoYmDGbaQ3lBgrBSoIJYliqbGp/CfQdT0W/wBJKXFraXiQRt9lmMbRrEoVAjDlflGD6gmrd78OtH1DUjfSJKsu2xQBHwoFrK8sIAx2aRs+owO1ae7casYF18Z4rPTY5JPC2uLqbXElu2kO9kk6FFDMxdrkQlcMuMSknPA4OIPGnxBkm+E9h4mgvbrwZBqD2rtc3YtjNaQyOoLNu82IHac87gM888VQ+MHwtuvFYtUstMXV7Nrh7m6tmuIoZBLtCoytLG67QNwIxnkEEV2mk+E57jwfo+ma/O15e2nkyyTIQC0kbBlyQADjABIAzgnAzis90T1t0OL8KfFK6stNWGT+0/HRur2aDSL6wtoEkv4kVWZmYmKEAZYbxtVtvHJAPQQ/F+xk1IxPo2rwaU009tBrTxxNazyxFhIihZDKMMjqGaNVYr8rEEE9be6JbX+q2GoS7vtFj5nlYbA+cANkd+AK5G6+FNra3V3f6de3pnDT3Nlp9xPmyt7mUMWdUAB5ZmOCSBuOAOMDb7FaGTbfH6ykhvbi58Ma9Y2tuLUrM32OfzvtE6wQhEhuHfcWbO1lBAByM4Bta18ctM8N69oOj6vpN9pt/qwUeTNd2Je2ZmKhZEW5LtyOsSuOevXHN/DH4M3mlw3tpq1k2laZNNa3htIrqKXzLqCdJ0lDRxJtXcigq24kcZru9W+Femax4jl1eW81GJpmikms4bgLbzPH9xmXbkkfUD2q9NP60I1t5mPJ8a4zfRW9t4Q8R332qaa1spoUtVS7ni3GSNPMuFK4VJG3yBUIQhWLFVZ958cLC3022vLfw/rl+JLKS/nit4oA1pFG5SXzC8qqWRg2VQsTtO3dxnp7bwPplrLpbxrLnTbqa7g3Pn95Kjo2eORiRsDtxVSH4Z6NBZ3Fqqz+VPZz2L5k58uZ2d8cddzHB7UtNBq/NrsYcPxeiv2lhXStR0O6jn08qupQRS+fb3U5ijkQRT8Birj5iGXGSjcKZdP+M1pfXTCTQNbsdNIujDqlxFD5ExgLCRVVZWkB+VsFkAPY1tXHw50e5vhdOJvNEVjEMScbbWZ5oe395zn1GBUWpeB47fw21ro+UvrVLl7I3DZQSy7mO71G5j9KUrWditL+RV8B/FAeO9WvbJfDmraP9lt4rkz38tm8brIzBAPIuJCCdjHDAYA5wSAe6/WvJPgf8O9V8AyajHNZjSdNnVCLD7RDPmYE5lDRxR7QRgEHcTtHPFet5pu3QhXFooopFBRRRQB4b8V/+RqP/XEf+hPXN+Hv+Q/pn/XzH/6EK6T4r/8AI1H/AK4j/wBCeub8Pf8AIf0z/r5j/wDQhQB7jov/ACD/APtrL/6Mer9UNF/5B/8A21l/9GPV+gAooooAwvGX/IJT/rsn9a6fSv8Ajwh/3RXMeMv+QSn/AF2T+tdPpX/HhD/uigC5RRRQAUUUUAFFFFABRRRQA30NUNa0mPXNHvtPmZ0hu4JIHaPAYKwKkjIIzg8ZBrQ4o6UJtO63E0pKzPl//h394D/6DfiP/wACLf8A+MUf8O/vAf8A0G/Ef/gRb/8AxivqCjivc/tzMv8An/L7zyP7IwP/AD7R8v8A/Dv7wH/0G/Ef/gRb/wDxij/h394D/wCg34j/APAi3/8AjFfUHFFH9uZl/wA/5feH9j4H/n0j5f8A+Hf3gP8A6DfiP/wIt/8A4xR/w7+8B/8AQb8R/wDgRb//ABivqDijij+3My/5/wAvvD+x8D/z6R8v/wDDv7wH/wBBvxH/AOBFv/8AGKP+Hf3gP/oN+I//AAIt/wD4xX1BRR/bmZf8/wCX3h/Y+B/59o+YP+Hf3gL/AKDfiP8A8CLf/wCMUf8ADv7wF/0G/Ef/AIEW/wD8Yr6Ph1rT7jVp9Ljv7WTUoI1mls1mUzRxscK7IDuCkggEjBxV+j+28y/5/wAvvF/ZGB/59I+YP+Hf3gP/AKDfiP8A8CLf/wCMUf8ADv7wH/0G/Ef/AIEW/wD8Yr6go4o/tzMv+f8AL7x/2Pgf+fSPl/8A4d/eA/8AoN+I/wDwIt//AIxR/wAO/vAf/Qb8R/8AgRb/APxivqCij+3My/5/y+8P7HwP/PpHzB/w798Bf9BvxH/4EW//AMYrufg7+y74Y+Cvia51zRtQ1a7uri0azZL6WJowjOjkgLGpzmMd8YJ4r2WjFYVs2x1eDp1arcXujSllmEozVSnTSa6jqKKK8o9QKKKKACiiigAooooAKKKKACiiigAooooAKKKKACiiigAooooAKKKKACiiigAooooAKKKKACiiigAooooAKKKKACiiigAooooAKKKKACiiigAooooAKKKKACiiigAooooAKKKKACiiigAooooAKKKKACiiigAooooAKKKKACiiigAooooAKKKKACiiigAooooAKKKKACiiigAooooAKKKKACiiigAooooAKKKKACiiigAooooAKKKKACiiigAooooA5putJSt1pKAOmooooAKKKKACiiigDlfH3iS+0DT7SHSooJdX1K6WytDdlvJjdgSXcAhmVQpO1SCxwMrnI5nVPHGvfDy60O38VXlnrralPOmdA0K5jkCpDvVVhE87M2QxLDjHYYJPYeMPCsfi7S1tTdTWFzBMtza3lvjfBKudrAHgjkgg8EEiqOl+Dr+O60q81jXJNZvtPkmaOY20cAZZECbSq8cYJz15o6B1RT1b4xeGdG0nS9Uup7sWGo58mdLGZljw20+bhf3eDkHdjGDnpVGD4k3X9uRW9ytpFZHWLqxkmIYFYYrUzBslsbtw5OMY7A81l+KP2f8AT/E6wxzam6wLFJC6TWkU5w8jPujZwTEwLfeXBIArobj4U6ddyOZ7iaSJ7y4vGjIADGW3MDL9ApyPejvb+thdbdP+HK1l8dvB1/p95eQ31yY7aSOMxtZTCSQyNtjMaFd0gdvlUqCCeBU0nxm8OQ6St+y6qc3L2rWa6VcteJIib2DQBPMUBCGyVxgg9CKzfCvwTs/DNsLYXsEkcdxbzRNb6Zb20gETblV3jUGT3J57965/40eAL3VJo2srHU9St7y/a/mfS0haeGQW8cCrtkkjBjKoxJ3E5I4Iodun9bf8ENTrj8cvCK3GmQyXl1BJqCo6Caymj8oOcJ525R5W4kY34zkVt+HfH2l+KNWv7DT0vpGspHiluZLGZLcurbWVJmUI5B7KTXCaT8FW1C50fXr/AOw2esCGBb63k0u3uFfysBQjOCYm2gA7DjIyPWuo8L/DU+HvGWqeIH1P7TJeh1FtDbJbxgM+8swTiR+g3sNx7mnbUNTuqKKKQwooooAKKKKACiiigAooooAKKKKAPDfiv/yNR/64j/0J65vw9/yH9M/6+Y//AEIV0nxX/wCRqP8A1xH/AKE9c34e/wCQ/pn/AF8x/wDoQoA9x0X/AJB//bWX/wBGPV+qGi/8g/8A7ay/+jHq/QAUUUUAYXjL/kEp/wBdk/rXT6V/x4Q/7ormPGX/ACCU/wCuyf1rp9K/48If90UAXKKKKACiiigAooooAKKKKACqOraeurabdWbT3FstxE0RmtJTFKmRjcjDlWHYjkGr1JS3QHyP4o+D8ulftBeA/CNv8RviONG1jStUu7pG8XXhdpIDbCMq2/IA81sjvx6V7lpeqaZ8KdS8K+B3vNd1q51drg299ql415KPLUOwllkbcRg4HB/CuQ8eD/jL34T/APYB17/0Kzpnx+1q38DfEb4ZeLtW8y38N6fc3kN/qAjZ47TzYQqNJtBKqSMbug701pGF+v8AmyNW5+X+SPSNW+JOnaP8SfD/AIJlt7p9T1uyu76CdFXyUS3MQcMSwYMfOXGFI4OSOM8z+1NrWoeHf2ffHOp6VfXGmajbaczwXdpKYpYm3L8yuCCp9wa80j+JGjfEv9rr4cXnhyV9S0W38O6yqatHEy21xIzWpZImYDftCqSy5X5wM5BA779sDH/DM3xDz0/st8/TctRL4E31/wAzWn/Es9rr9DM8AfCXw7b32ialB8TPGeq38YjuBZ3XjK4uYZmADFXhZyGU91IxitK4/aU02bXPEOjaH4U8TeKNW0K9NnfWulWsbGM7Qwfc0iqFIPAJDHB+WuI+FPib9mmHWvDw8M3ng5PFT+XFa/YgouDMwC7VwM5JJFdN+znEi+NfjM6qodvFDbmHU4gTGa1d7vsl/kZJ6K+70/M3bf8AaM8MXXgnRvFNvBqL6XqGrLo04eARy6fcmQxMtwrMCm2QbTjPJBGQc11Pi/4jWHg3XfC2jT291eah4ivWs7WK1VWKBUZ3lfLDCKq8kZOSMA14b8MvBCfET4U/Gjw+3DXnjHXBCw4KTCfcjD0IYA0v7O3iK9+NnxAHi/U4JIx4T0pNBVJQR/p7EG7cA9/kRc/WoXvW+T/D/P8AMe1/Vr7nb+vQ674feOPAvh/wz46+IW+/tw+uXlpqmoasqNczS287W6xRiPrEuwLEgG7GCQWLE62hftD6ff6/pel614W8S+EBq83kaZea7ZpHb3khG5UVkdtjMASFkCk9AM8V4Roug6jrP7P2v3WnWc2pHR/iVqWqT2Nuu954YtVkd1Vf4iFBIHfFdn8WPih4b+P1n4T8J+A746/rLeIdOv7n7NC4GlwW9wk0sk5KjymCoVCkhiWwBRD3lG/W3y0X9fIHpzfP9T0nxF8fLfS/E2qaJovhDxL4wn0mRYdRn0O1jeK0kZA4RjJIhZtrKSqBiNw9a9K0u+/tLT7e6ME9r50ayeTcoUkTIztZT0I7ivmz4va14B8J+Mtf1XQ/iNJ4J+IWFa502HdIuoyqg2B7VlPmkjau5OcYGeK94+Gutav4i8BaDqevWP8AZusXVpHLdWuCvlyEZIweR9D0px1iN7nU0UUUDCiiigAooooAKKKKACiiigAooooAKKKKACiiigAooooAKKKKACiiigAooooAKKKKACiiigAooooAKKKKACiiigAooooAKKKKACiiigAooooAKKKKACiiigAooooAKKKKACiiigAooooAKKKKACiiigAooooAKKKKACiiigAooooAKKKKACiiigAooooAKKKKACiiigAooooAKKKKACiiigAooooAKKKKACiiigAooooAKKKKACiiigAooooAKKKKACiiigAooooA5putJSt1pKAOmooooAKKKKACiiigDI8Q+IrXwzYpdXazyLJIsKR20LSyO5zhQqgk9DVrTb5dUsorpIriBZF3CO5iaKRf95WAIP1rI8bWNrqGjrHeaFc+IIhKri1tGRZAwzhgXkQDGT/FnmuP1Gz1Lw/8EfEEc6z2twtvdS29u0++W3iLM0URcE/MqlVyCQMcE4zS6NsfVI9SoNeMWvg7V9QZktdJ1HQ9ImuLUzWk98jSPjd5rgrI2FIIBG4E/wB0UuteB9Xt/iB9rL6vHo1v9m+wTaa0DR2sKIA6SeawcfMGYlQ2Q47imT/kezY6UYr5y0rR9RvptRdLS7Go31ncPpU6tsW92yByxYzMQ20qo3Ig55rttU0bX/GF9qEsuk6hpdhcS6agt5rmNZDHHLIZz+7kYKMMvRskY+gOi8x9WeqtIqsoJALcAE8n6U+vJLnwA+n6tpj/ANi3WpadZ6pI8MEVyC0MboNrjdIuVVhyMk+gPSsXRfCPimbVtavNRsNUs1vrOdbqK0ktwrTtIpUW/wC8yVxuw0m046gZoHY92orjPhdp99pfhwwX2mtpZEzeXFIV8xl7M4V3UE+itj2HSuzpkhRRRSGFFFFABRRRQAUUUUAFFFFAHhvxX/5Go/8AXEf+hPXN+Hv+Q/pn/XzH/wChCuk+K/8AyNR/64j/ANCeub8Pf8h/TP8Ar5j/APQhQB7jov8AyD/+2sv/AKMer9UNF/5B/wD21l/9GPV+gAooooAwvGX/ACCU/wCuyf1rp9K/48If90VzHjL/AJBKf9dk/rXT6V/x4Q/7ooAuUUUUAFFFFABRRRQAUUUUAFFFFADSqlg2Pm7HHNIyB1wwDD0IyKfRQBGsSLjaqjHTAxinMocEEAg9QRTqKAIVtYVIIhjBHQhRUgULnAAz1wOtOooAaqhc4AHc4FIsarnaAvOTgYp9FADVULnAA+gpqxJGSVRVJ6kADNSUUARNDGzbjGpb1KjNS0UUAFFFFABRRRQAUUUUAFFFFABRRRQAUUUUAFFFFABRRRQAUUUUAFFFFABRRRQAUUUUAFFFFABRRRQAUUUUAFFFFABRRRQAUUUUAFFFFABRRRQAUUUUAFFFFABRRRQAUUUUAFFFFABRRRQAUUUUAFFFFABRRRQAUUUUAFFFFABRRRQAUUUUAFFJS0AFFFFABRRRQAUUUUAFFFFABRRRQAUUUUAFFFFABRRRQAUUUUAFFFFABRRRQAUUUUAFFFFABRRRQAUUUUAFFFFABRRRQBzTdaSlbrSUAdH9aP5V8Yfs2/tLePPiP8VLLRNc1G3uNOkt5pGjjtY0YlUJHzAA9a+wftUnqPyr0swy+tltX2NZq9r6anBg8ZTx1P2lJO17amjRWf8AapfUflR9ql9R+Vead5oUVn/apfUflR9ql9R+VAGhVe8s4b62kt7mGO4gkUq8UqhkYHqCDwR9ar/apfUflR9ql9R+VAF8DAAHAoKgjB6VQ+1S+o/Kj7VL6j8qAKmi+DdA8O3lzd6Voem6Zd3P+vns7SOJ5ec/MygFuSTz61t1n/apfUflR9ql9R+VAGhRWf8AapfUflR9ql9R+VAGhRWf9ql9R+VH2qX1H5UAaFFZ/wBql9R+VH2qX1H5UAaFFZ/2qX1H5UfapfUflQBoUVn/AGqX1H5UfapfUflQBoUVn/apfUflR9ql9R+VAGhRWf8AapfUflR9ql9R+VAHjvxX/wCRqP8A1xH/AKE9c34e/wCQ/pn/AF8x/wDoQrofimS3icE9fJUn/vp657w9/wAh/TP+vmP/ANCFAHuOi/8AIP8A+2sv/ox6v1Q0X/kH/wDbWX/0Y9X6ACiiigDC8Zf8glP+uyf1rp9K/wCPCH/dFcx4y/5BKf8AXZP610+lf8eEP+6KALlFFFABRRRQAUUUUAFFFFABSZoqOd/LjdupAJH5Um7bjH9KK+W/2ff2oPEHxOv76/8AEWufDuy0WzgvJ7jStNvpG1m1jgcr5ssJdgqYGScfxLjrXd+Gv2svBOvJczXUOseHbVNNk1m2utasTBHfWSfengwzFl5HysFbkfLzT21F1PaaO3WvmL4rftTag3wC8UeM/CmgeIvDM2nSWD2l74i0lYo7uGe4jUvCjM28FC3BAI3KSBkV6D4K/aO0Pxw/iW0tdC8SWesaDAl1Po9/phivLiFwSkkMe4lg2DgHBzwQKOV2uO3uqXQ9dpa84+Fvxs0j4qalrulW+l614e13Q2h+3aTr1qsFxGkqlopAFd1KsFbBDEjBBAr0egQUUUUAFFFFABRRRQAUUUUAFFFFABRRRQAUUUUAFFFFABRRRQAUUUUAFFFFABRRRQAUUUUAFFFFABRRRQAUUUUAFFFFABRRRQAUUUUAFFFFABRRRQAUUUUAFFFFABRRRQAUUUUAFFFFABRRRQAUUUUAFFFFABRRRQAUUUUAFFFFACAYpaKY7bUY+gJpbALxxRXx14F/bI8V6v4/0XTdUtvB93per+IbjQotN0i9l/ti2EbuonlhZmBTC5JGOua9htP2ovCd54OsvEkdpqwsLzxC/hqNGgj8wXKzNCWI8zAj3KTnJOO3aldaef8AwP8ANCejaf8AX9WZ7JR0rwbVP2yPBWj+Ib3TLjS/Eot9P1hdD1DV00stYWVwzBU82YNgKxIwVBIyNwXIq1D+0sv/AAt3xp4Nl8H661h4atI7ifWIYUMK5jeQ7tzggMFAQgHcc52jBL7PuNatpdD28rmjFeTaH+0l4W8RSfDNba01RT8QI55dK8yGMeWIYjK3nYkO07Qcbd3Pp1p+mftDaLdfEBfCGp6F4j8N3s4uDZXms2Ahtb0Q58wxOHY4ABYFguRyMiqknHRjseq+vFLXhJ/ac0zxf4O8Z6l4d0nxPYabpOkXt9beKrnRh9gmMKtloN7r5rBhkKwUNtPOMkc54v8A2orXTPB/hSCyvtdvdavNHtNc1O80bw8t3JaWLorNPNF5hSENzwDJjnAOM0v6/r7gs/6/rzPpn8aO9eHeJ/2t/B/hfUY9NttO8R+K7x9Ei8QR/wDCP6Z9qEti7MpmyGUKF2ZYNt++oXcTgeq+C/F+mePvCuleI9GuPtOlalbrdW0pUqSjDIyDyCOhHqKLPUjmWhvUUUUFBRRRQA00e1crb+PrWbxT4g0WTTtUsxotvFczaldWjJZTrIrNiGUnDlQp3AD5TxXkXwC/aW1T4oeJNfsdf0m10u0+y/2toMlqWL3lgHdC7hmI3BlzxgYYVN7g7o+h8UV4V8Pf2wPBnxI1Hw3bWWm+JNNt/Edu82l6jqmmmG1upEBMkCyBiDIuCDj5SQdrHFGlfti+BNT8N694iNr4gs9A0WEtc6pdaW62zzeb5QtonBIkmL4G1M/eGSOcXqtxJo91pa+afiF+1ZFcfCHx5qnh6y1jwp4u8N20VzLpfiTTBDdRxyOAkoiJZWVhuAIJORggHiuz+Hf7R+jeOl1uwXR/EVlr2i6bHqU2m3+mNDcXkDKSJbaPOZFYqQBwckDAyKXRsXNrY9jpMV4nD+1j4Rh0XxVe6zpniDwzc+G4ori90vV7FY7sxyHbGyKrsrBjwPmGD1xWX48/at/4RTwHoniSDwD4qaXVNbttIi029tEimPmsvzqRIUbcrEJhsM3BIwSF2/rcdz6ANFeMeLP2pPDXg65S2vtE8SSXcNjHqWqQW1gJW0e3c4DXWHwuMHIQueCcY5rI8XfGjxxoPxK8L2Gm2HhrXvD3iC6iWzsbG4nbV2s2A33rLt8tIo8jcW45A3AkCjrZBfR3PoCikpaYwooooAKKKKACiiigAooooAKKKKACiiigAooooAKKKKAOabrSUrdaSgD4B/Yz/wCS7ab/ANelz/6LNfodX54/sZ/8l203/r0uf/RZr9Dq+14s/wCRgv8ACvzZ8tw5/uj9X+QV8+fFf9szwt8O9Zm0jT7abxBqFu2yY27BYY2HVdx6ke3evXfidqV3pPw88R3lju+1w2MrRFQSQ208jHp1r8xvBvw8vPiVDf8A9l6jBP4kjkDrpE7bJbuMglnjdjhmU8spwduSM4xXwlSTjZIecZhXwrjRw69563PuP4R/theFviZrEOj3dvLoOqTnbClwwaOVuyqw6H2PWvfK/Kvxs+ieDorHQdCMd9rGnzCe+1+JshrgAfuoCP8Almh43fxMCemK/TvwXe3OpeEdFu7wFbqazieUEEHcVBPB96KcnLRl5PmFXFOVKu03G2qMz4k/EzSvhXoJ1jWYNQmsVLeY9hatOY1AyWYL91cd6teA/HNj8Q/D8esadbX1raSMVVdQtmgkYAA7grc7SGGD3qh8ZPD9/wCKvhX4r0fS4PtWo32nTQW8O9U3uUIVdzEKMnuSBXkPxu+Gnjnxd4Z8E6FpOmSTWVrp8iXklpdW0c9tdiNFiLNKSpizu3FFZgQMetaXet1fax9M91Z97n0fRXz94P8AhF4pv/FWlaj4nN5E2n+HLWGGU34eMaioYMzojneVyDkgqexNcJ4I+DnxO8M6L4kd7PVpvE0mlzWrS3mo2LafqcrSA702FZS23cVafbtztJIqu/kLtfqfXlFfHNl8D/iDZ+Adc0qfSNfnhn1OC+sLGLUdPLqohIZZULrEybvvKrA9CGJ5r1Xxl4F8Z6x+z5oGiRadCNetltG1HR9OvjCk8aMplgSdm4JUYyzYJz82OaHon6gt0j1Pwv420vxfc6zBpzyPJpN41jdCRCgWVQCQueowRzW9XyNd/A3x6PBOq22m6PdaTaz+Jv7Sl0ODUraS5uLIxBQiySloiytglZCFO3r0NfQHwU8M33hH4c6bpuo/2olxG0jeTrE8E1xCrOxVGaD93gAjAUkAEDJxVWVrk3d/mdzRRRUlBRRRQAUUUUAFFFFABRRRQAUUUUAZF7plneXDPPaQTuPlDSRqxxnpkioo9F06KRXSwtUdSGVlhUEEdCDjir0n+sb/AHjTaAF0X/kH/wDbWX/0Y9X6oaL/AMg//trL/wCjHq/QAUUUUAYXjL/kEp/12T+tdPpX/HhD/uiuY8Zf8glP+uyf1rp9K/48If8AdFAFyiiigAooooAKKKKACiiigBKjnTzY3ToSCKlpKTVxnhfwx/Zi0jwj8H9S8I6ta6ZPquqW99ZXmsWFsqTyQ3DuSvmFQxwrAYJxlRXC+B/2LxovhHWfC+q2Pg+C2udIk0qHXdF0todTkDAASTMflzwCwBOT3r6t9KBQ9b+egcz0+8+cPEPwJ+JHjj4F6v8AD/xJ4i8PSyn+z4tNurK1mjCx28yO7TZJyzKigBRgEHk54b8Tv2Y/EPjfxh8Qdb03xJBo58RaNZabb7PNVkaCUuwkK4Oxwdp2nOCa+kjigmr5mNSajy9DwX9n39ni9+Dvjbxb4guG0K3j1+ysITp+gWbW0FvLAJQxAP3gwdTuPJO7I6V7z3paKV7kWFooopDCiiigAooooAKKKKACiiigAooooAKKKKACiiigAooooAKKKKACiiigAooooAKKKKACiiigAooooAKKKKACiiigAooooAKKKKACiiigAooooAKKKKACiiigAooooAKKKKACiiigAooooAKKKKACiiigAooooAKKKKACiiigApjruRh6ginA0tLcDx34Dfs/6Z8I7DUJ7rT9GufEl3qF3dNrFrZotw0cspdUaUqHO0HGM4ryyP8AZG8bWkMOg2/ivSP+EQsvF58UWkL2kn2tw8xlaGR87RtLNgqOeM4r6y+7k0u7mlZcyl1X9foD1TXc+afFX7LOs6/4D8f6DDrNjFP4j8Uw6/DKyPtijSWNyjYGSxEZHHHIrqb74J+I1+MPjHxBY6vpy+GPF2nQ2Wp2k8Lm6iaKJ41aIj5cENk7q9topvVJdv8AKxMYqLbXX/O58p+Av2U/HHh/xF8LptV8V6TcaL4BF9b2UFnayJPLDPbvErsxOPMUsuQMDAPOaqfDP9i/WvCfijw1qmt6tol/NpIvoLnUra2k/tDU450ZRJPO+WLjcPlyQOxr64opy974i7s+cfCvwD8feHvhX4n+Gtz4i0O78KTaLe6ZpEqWsqXaNMpWNpmyV2oGYHaCTweMc49x+yx4w0W1sT4W8S6VaXl54TtfCmt/2hbSSI8cMezzoNpBDctw3HIr6lo/Snfp/XX/ADC/T+un+R8++E/2YpvBfiia50/VIX0lPA0PhG3jmVvNEiO7ea2BjaQ44BzmvR/gZ8Pbr4VfCPwt4RvbqG9u9IsltpLi3DCNyCTlQecc967vrS8UOTd/P/g/5mfIk7/10/yFooopFhUcmRGxUAtgkA+tSUUnqB8VfDeDXfiPofxE0e9bV9H+L/i9ZLbVLzUNOljsNNt4mkjhhhcLtIETEqQSWZ8k11uh/sa/8Ku8VeEPEnhPxTq10+jWU+n39prl/LdJLaPFgx26kYixIAwA4r6lpaT200Y763Z8WfsrfAvxp4g+HXwb1LxNqlraaB4Ytpryy0k2MkN8Lh/MQLOWONqhiRgAnIyK9LX9lq4vv2bbv4Z3+swxagbx7+31K2jZkjmF19oiJVsEgEKCPTOK+h/SjtWspOTdtLmMaailfWx8v69+y74w8eaX8QNR8UeJNJ/4S/xNpttpMMmm20iWdrBDJvDEMSzMzEk9AOB71Hqn7LPjnxVa+OLzWvHFnaeItW0GDw9pd5otvJAlvbxSiQmTLZ3ORtbaeAzYzX1L9aQZ/CofYtJJ8x8veCf2UtY8GyeMLyKHwZ5/iDSrewfSI9NddODxsSzOv3n3A8sfmz9Kq6f+yL4l0v4Qt4ds/EOm2mr2vie28S6XaKk8mmWDQsrLbIGYyCMkMeMYLcCvqyjFF3e/9b3BJJW/rsfLnj39k/VfGPjweNLi28F69rF/YQ2mp23iHTXuLeOSMnElufvDg4KnGcdRXtWjeC9R0n4hQanHFoUOhRaFHpqpb2Oy+WVZNwUTf88AucR9mOa7qihaaDtfcWiiigYUUUUAFFFFABRRRQAUUUUAFFFFABRRRQAUUUUAFFFFAHNN1pKVutJQB8A/sZ/8l203/r0uf/RZr9Dq/PH9jP8A5Ltpv/Xpc/8Aos1+h1fa8Wf8jBf4V+bPluHf9zfq/wAhlxbx3dvLBMiyQyqyOjDIZSMEH2Ir4b+K/wCxP4l0vxFcaj4IljvtOlkMkdu0vlzQbj90HoQM9Rjivueivh5RUtz18bl9HHRSqrVbNbo+H/gz+xJrkniC01PxqYbLTbaRZPsMbh3nKnIViOFXI59RX2/HGsUaogCooCqB0AHQUtFEYqKsh4LAUcDBxpLfdvdhRXkH7Tuvap4f8E6PLpV5qVnNPrlnbynSH23LxM5DImeCSO3074rzrw7pPxJ8QW/h3T5NS8ZaPodx4ov1W7uSyaimlfZSYhcMwYrmYMFZhuAK4IODWkbyvbp/wP8AM9GXu29P6/I+pKK+Yr5fiRYfFJUSXxS0sOtRLFIzFtEOkKn7xpG+6ZeCSW+fd7Vwvg3xh4r1vWr65utf8SLe3Vjqq6KqzXzQa3MGdoJok2C3jCwr8qxNIG3BshhS6XQttH/Vz7Xor5b8d6L8R9N8CeEdK07UPFl7qepW7XV9rAM800F0Yl2wNHA8PlqWJG5mCqQSwaqWrWPxY1/w/HeS3/izT9StfAtldLDYq8XnauJH3qyhfmfbjcncYyDgVVr/AHjWy9D6xor5a1EfE3wlYeMbW0HijX4LrT9LmhuLhpnlt55WIu2g8sKx2ABjFGVPYFaytJ/4Wpa+EobPXJfGV3okPiKRbi60u2mi1WTT2gR4WRWeSYL5jEMN7MvKkjBAXVrsLomfVUXiDT59Zu9KS5U6haRJNNDtIKI2drEkY52nv2pvh/xFp3inThf6VdLe2bOyLOisEYqcEqSBuGRwwyD2Jr548Yp8Qz/wk7+G4vFCac2maOI/OB+3eT5z/bPJL/KbnysZ53Zx3xVXRdN+IV9plnp9pP4u07w3N4mjitJr3empR6cYv3pmJG5U352l/mA/Cjv6/r/X4h/l+h9R0V4Z8LIvE1nP4fsvEcvjG4mtNZ1SC3nk+aCW2VW8lr5mAZlK48th1bFe50tLK3UOrCiiigYUUUUAFFFFABRRRQBRk/1jf7xptOk/1jf7xptAC6L/AMg//trL/wCjHq/VDRf+Qf8A9tZf/Rj1foAKKKKAMLxl/wAglP8Arsn9a6fSv+PCH/dFcx4y/wCQSn/XZP610+lf8eEP+6KALlFFFABRRRQAUUUUAFFFFABTWBKnBwexxmnUUAVPJu/+fpf+/X/16PJu/wDn6X/v1/8AXq3RQBU8m7/5+l/79f8A16PJu/8An6X/AL9f/Xq3RQBU8m7/AOfpf+/X/wBejybv/n6X/v1/9erdFAFTybv/AJ+l/wC/X/16PJu/+fpf+/X/ANerdFAFTybv/n6X/v1/9ejybv8A5+l/79f/AF6t0UAVPJu/+fpf+/X/ANejybv/AJ+l/wC/X/16t0UAVPJu/wDn6X/v1/8AXo8m7/5+l/79f/Xq3SUAVfJu/wDn6X/v1/8AXo8m7/5+l/79f/Xq3RQBU8m7/wCfpf8Av1/9ejybv/n6X/v1/wDXq1S0AVPJu/8An6X/AL9f/Xo8m7/5+l/79f8A16tUtAFTybv/AJ+l/wC/X/16PJu/+fpf+/X/ANerdFAFTybv/n6X/v1/9ejybv8A5+l/79f/AF6t0UAVPJu/+fpf+/X/ANejybv/AJ+l/wC/X/16t0UAVPJu/wDn6X/v1/8AXo8m7/5+l/79f/Xq3RQBU8m7/wCfpf8Av1/9ejybv/n6X/v1/wDXq3RQBU8m7/5+l/79f/Xo8m7/AOfpf+/X/wBerdFAFTybv/n6X/v1/wDXo8m7/wCfpf8Av1/9erdFAFTybv8A5+l/79f/AF6PJu/+fpf+/X/16t0UAVPJu/8An6X/AL9f/Xo8m7/5+l/79f8A16t0UAVPJu/+fpf+/X/16PJu/wDn6X/v1/8AXq3RQBU8m7/5+l/79f8A16PJu/8An6X/AL9f/Xq3RQBU8m7/AOfpf+/X/wBejybv/n6X/v1/9erdFAFTybv/AJ+l/wC/X/16PJu/+fpf+/X/ANerdFAFTybv/n6X/v1/9ejybv8A5+l/79f/AF6t0UAVPJu/+fpf+/X/ANejybv/AJ+l/wC/X/16t0UAVPJu/wDn6X/v1/8AXo8m7/5+l/79f/Xq3RQBU8m7/wCfpf8Av1/9ejybv/n6X/v1/wDXq3RQBU8m7/5+l/79f/Xo8m7/AOfpf+/X/wBerdFAFTybv/n6X/v1/wDXo8m7/wCfpf8Av1/9erdFAFTybv8A5+l/79f/AF6PJu/+fpf+/X/16t0UAVPJu/8An6X/AL9f/Xo8m7/5+l/79f8A16t0UAVPJu/+fpf+/X/16PJu/wDn6X/v1/8AXq3RQBU8m7/5+l/79f8A16PJu/8An6X/AL9f/Xq3RQBU8m7/AOfpf+/X/wBejybv/n6X/v1/9erdFAFTybv/AJ+l/wC/X/16PJu/+fpf+/X/ANerdFAFTybv/n6X/v1/9ejybv8A5+l/79f/AF6t0UAVPJu/+fpf+/X/ANejybv/AJ+l/wC/X/16t0UAVPJu/wDn6X/v1/8AXo8m7/5+l/79f/Xq3RQBU8m7/wCfpf8Av1/9ejybv/n6X/v1/wDXq3RQBU8m7/5+l/79f/Xo8m7/AOfpf+/X/wBerdFAFTybv/n6X/v1/wDXo8m7/wCfpf8Av1/9erdFAFTybv8A5+l/79f/AF6PJu/+fpf+/X/16t0UAVPJu/8An6X/AL9f/Xo8m7/5+l/79f8A16t0UAVPJu/+fpf+/X/16PJu/wDn6X/v1/8AXq3RQBU8m7/5+l/79f8A16PJu/8An6X/AL9f/Xq3RQBU8m7/AOfpf+/X/wBejybv/n6X/v1/9erdFAFTybv/AJ+l/wC/X/16PJu/+fpf+/X/ANerdFAFTybv/n6X/v1/9ejybv8A5+l/79f/AF6t0UAVPJu/+fpf+/X/ANejybv/AJ+l/wC/X/16t0UARQq6x4kfzG/vBdv6VLRRQAUUUUAFFFFABRRRQAUUUUAFFFFABRRRQAUUUUAc03WkpW60lAHwD+xn/wAl203/AK9Ln/0Wa/Q6vzx/Yz/5Ltpv/Xpc/wDos1+h1fa8Wf8AIwX+Ffmz5bh3/c36v8gooor4o+pCiiigDn/G1v4ak0uC48VS2Nvp9ncx3Uc+oTrDHHMpyjbmYDIPQE1r6bqlnrVjDe6fdwX1nMu6K4tpVkjceqspII+hrjfi/HfyaPo39m2VvqF4urQMlvdzNFC3D/edUcqPcK30rnrHw34n0O/0rSotVj0Btau7/U9QXRoUmSA/u2WGF50Kjn7ztGN25yFVmBVKVk77X/yG91/Wh626rIjI4DKQQykZBB7GuU8N/Cnwp4R1Fb/SdGjtbpFZYm8x3WBW+8sasxWMHuFCjHFeb6V491+bXZUi8TyX2qsl79s8P3VlCtvpnlhvJbekayKCQud7sG3HaBWB4K+IPifxFpV9c2PjPUrmdrvTbJbbVI9LuJbXzZts8u20jUBSpCrvYkFW3L0JuKbdluJ9EfSdFeE65438SaT8VNG0Sz166uba1nt7W9tb+W2WW8Rxhp/IjsdxUbh8yzRKCB8pHBsWT+N9XfRZX8banZLrEl7HLFa6dZhbNYjIYmi3wMQzCNQxkLq25iqpldqWq5ugrpOz0Z7dRXhGq+KPG154W1DU7bX7nT7jSfDp1VYoLCBxe3KGb5Jd6MdjCNQyx7W5O1lrUluvEOneKW0jUNVuPENsl5pd1FPfWNuGhMrzCRF8uNVCr5alSQXXJyxp8r/EqOseZbHsdFeLaFrHjOHSLPXLnxLPeS6jY3zf2deWUCWtrJGpaFlMcay9VwQzMGB4AOKsfs++Lb/xkuq3d34o1LWYo1iVLLVW01p4WIJZm+xRqoBOAoZieGyBxSW7XVbil7u57DRRRSAKKKKACiiigAooooAKKKKAKMn+sb/eNNp0n+sb/eNNoAXRf+Qf/wBtZf8A0Y9X6oaL/wAg/wD7ay/+jHq/QAUUUUAYXjL/AJBKf9dk/rXT6V/x4Q/7ormPGX/IJT/rsn9a6fSv+PCH/dFAFyiiigAooooAKKKKACiiigAqGd2jgkdEMrqpYIDgsQOB+NTUUgPnHwN+2x4N1Kw8XxeNFbwD4g8LO5v9I1RwJWiDYR4v+em7KjC5OWHYg13n7Pvxiuvjp4HfxPJ4bvPDlhNcutgL0jfdW4PyzAdQD/8AqrM+L37KHw5+N3i7w/4l8UaN9p1TSZQ26Bwi3kYyViuBj94gbDAcHIxnBYH1y3torO3igt4kghiUIkcahVUAYAAHAAHamrW13B72Rz/xJ8YL4B8EatrpRZGs4dyJI21WckKoY9huIyay/hj4jl16PUFu/Eaa3dxupaBdOexNsCOgVwGdSc4YjBroPGHhmDxl4bvtHuZHgjuk2iaMAtGwIZXUMCCQwB5Hasfwf4L1XS9avNb8Q6xa6zrE8C2qyWNg1nCkKsWA2NLKSxJyW3Y9FA4pK92J30scZ8Sfivq8Wh+IX0DS5xYaddLYSa0k6hlnDorhYiMso3lS2eCrcHFTap+0n4a0vxyfD8lzpxWO/j0yVzqsK3S3DsqqotSfMZdzKCw9emKs698HNV1Jdc02x8Tw2HhrVrs6hNZPpvm3Mc5ZGYJP5qqImZSxUxs2XbDgYA1LH4bapoXiu7vdI1bTYtEvrw313Y3+ktcXPmHG7ybgTqI1O0HDRvg5wRRHaPMTZ3k1/W5e8f8AxDk8G3+j2Frp0eo3+qM6wrcXqWkXy7cr5jAgud3yoBk4PpXI/EL9pTQPhzq1xY6m+nxS6fbpc6lFcatBBNArLvxFEx3TtjsuM9BzxXZ/EXwprHjDTU0/Tr/RbO0lDJdpq+jvf+YpGP3e24iCMOfmYOOnHHPOR/B/UdA1KK78Oa7YW3nQQQX6a1pJvvP8pAivGyzRGNioAOd68D5euSO+prpb5D7/AOM09tqviOK18N3N9pfh+5ihv9QW4VQFkginDxoRl8LKARkYxnJzWLqXxe11LL4jXMmnLa6XoaqbS/tp1eQhoY3X5GXBJ3lsk4HTmo4vht4n17xh8SYl1j+xfD2sapb+dDNpxlluIVsLZGa2l8xRHllZSzLIPkwApBJ29d+DN1qUfi7T7TXYLPRPENqkT2rae0k8EyokausolVSm1BlCmcnO4DiqVuvYzq3taBS8T/tKeGvC/jS40Ke507bZ3MVndvJqsMdyk0gUqqWxO+QYdckY68ZxS6l8e7jT2vblfCd3c6PZ6yNCkvEukDtctOsEWyMjJVpHUFsjbk8HFbg+G+p6X4xv9V0TV9NttN1S6W9v7LUtJa7lMoRULQzCdPKBVFyGVxkZGMmobz4Pi68P3mmf2rt+0+JYPEXm/Zs7fLvY7rycbuc+Xt3Z43Z2nGCRS0v/AFt/wTTTU53xl8Wtaj023ji0mfS9ds9esrO606G4SYTRS5KgSbQNrAc8AjBrcvPjO+j2Nyup+HrmDWrfULTT5NMgnWXLXJAhdXwAVJOCcDBDelP8V/B2XxFqeoX8Guvp9zc6hZahG62wfymt1YBTlhuVt3PQgZA65DV+EN/qDNfa1r8N7rk2q2Woz3Fpp5t4NlsQUhjiMrsqn5iWZ2O52PTAE/5/hp/wSJN8mi11/WxkeNv2ktL+H94LHW4tN0/Uba2F5qNpc61BE8ERLbfKDYM7EKTtUD0zmu88UeOoNA8OWOp21tJqUuoSw29jao4UzSSkbAWPCjGSW5wATzWN4g+G2pzeLZvEHh/VtN065vIoob6HVtKN9HKsZO1o9s0RjcBmGSWHP3a2vG3g+Xxbotrb29+NN1OxuYb2zvPJ81I5ozkbo9y7kI3KyhlJDHBU4IHtpvcr07HnC/GyfwpdeLrzxVGmmfZrqzs7Wwu72KOGOWSJmI884UKcElm9Oldv8LfippvxU0nULvTpLVp9OuzY3S2d4l3AsvlpINkyfK67ZF5GOcjGRXPzfBW+1JdRvdV8RRXWv3N3bahDdwaaI7eCeFGRQIGkYtGVYgqz7uThs4I7nwrpWsaXorw6xf6Ze6izM32jS9NeygGQAv7pppWyMckvz7Vd1qQlaxxWpeLNf8G+LHj1PVLfWdOawutQntYLQRPYxxKGQ7wSWDfMvzAHI4pugeJ/FdnqnhyPWb+zu18T20slvFHbeWLCdYRKse4EmRdof5jg5UetHhH4Y+MNI1C/Ou+KPD2u6dqRkF/5fh2e3vbhGBVU883zqoUYAAjxgcAEk1Ppvwt1+0e3afxZBdPpFjJZ6DJ/ZW17Usip51wfOIuJAq4ygiXDNlckEZq6vfX+n/wBvXYy9Q8eeJPBc/ia2vb+18SNZWUU0M6Wwt1hupZfLjgfaSCMsrZ64NdJ4V1rXdL8aS+GNf1CDWJZrE6jbXkVsICFEgR4yoJBC7o8N1OTmsTw78I/EsHhvUvD/iPxLoupabfQsJJ9J0KayvTcEgi4aaS8nVmDANjYBkDoBiul8J+C9V07XrrXvEWsW2t6vJAtnA9lYGzhhgDFsbGllZnYkFm3AHauFXnL+0tdAd7abmb481fxN4Z1jS76z1W1uLa71G2sYtB+ygvcJJKiyuJc7gyRl5DgYwnNaC65r0fxUj0q4FrHoM1jLNAiAtMzo0YLM3QD5yAoHbOaxbz4feOm8e3fiG08XeHWt3YR21tqXhue4ls4ON0cci38agtjJby8k4zkACu1uPDv2jxdZa39o2/ZrSW18jZndvZG3bs8Y2Yxjv1px2Vxs5T4ieLfFOl/DrWdY0vTrfSb6xW4lb+0HEoEUQYq6qvDF9owCRgNz0rY+ID6zb6O9/p2vW2g21pE00809qJ9+BkLgkAA9Mjnninax4R1DxF4H13QNS1oXM2pRXEC3q2gTyY5NwVdgbDbAQM5BbGeM1k/EjwL4o8W6lpM2jeI9H02ws8vJp+r6JNfxzygja58u7gPy84U7hk57UntoGhX8YeOtZ0b4B6v4t8qLTtdttEkvwky7kilWIsMg4yARnBri4vitrkGl+IF0zxVpnjKC30r7XDrthbIYbecyKgiby3ZGOCWxuzxzXp3ijwbqPjX4Y6r4X1fVLT+0NTsJbKfULKyaKEM6FS6QtK5AGfumQ/WrXi7wcPEXgvUtCtJodNkuofLS4+z+YiMCCCUDLuGR03D60T+GTjuxqyjGL37/ccgus+LfB2reG7PW9cttesvEM72Ed4liLeW0uDBJNG21WKuhETg5wcle2ah8C/8JzdfEHXNP1TxlBqGm6O8G6BNHjha4EiMxBcOSuCB0FbGi/DrXrrXNH1Txj4js9cl0Yu9haaVpbafapKyNGZnV553eQI7qPnCgOx2k4I6LRfCn9jeKPEGsC687+1jAfJ8vHleWhXrk7s5z0GPerVtbmcr6W+Z0lFFFSWFFFFABRRRQAUUUUAFFFFABRRRQAUUUUAFFFFABRRRQAUUUUAFFFFABRRRQAUUUUAFFFFABRRRQAUUUUAFFFFABRRRQAUUUUAFFFFABRRRQAUUUUAFFFFABWfrT30emXB01IpL/b+6WdiqbvViOcCtCikB5vo/xAvbH4Of8JRrPl3WpQ2ruyWybFnmDFERVJ6s21QPVhRPrXi7SfEHg2zvpLE2t3H5WoSIh8ya4ERZtg6IoYe5OauR/DQLonhvSZdR82y0q/W+mTyMfaym9olPzfKFlMb98mMDjNb2teHf7Y1XRr3z/K/s6dptmzd5m5CuM5GOuc81Mubdd0PQ3aWiirEFFFFABRRRQAUUUUAFFFFAHlfxM8YavovirT9PTW4fCejzW5k/te5sftEUkwYDyWYkLENpzuYjPQV0XhrW5NW8Za3bG8mmGmwW0JVdogkMiCQyqBzk7gOuMDimeOPDHijxIGtdK8QaVpmk3ELQ3dvfaM95MwYEFonFxGqHB/iRxkZx2p/gf4ew+B7zUZoLyS5iuo7aJUlQBkEUSx5LA/MWxnoMZxUK+g2dlRRRViCiiigAooooAKKKKACiiigAooooAKKKKACiiigAooooAKKKKACiiigDmm60lK3WkoA+Af2M/wDku2m/9elz/wCizX6HV+eP7Gf/ACXbTf8Ar0uf/RZr9Dq+14s/5GC/wr82fLcO/wC5v1f5BRRRXxR9SFFFFABRXGfFjUru28KvYabZtqOo6nItpHaRuqNJGx/e4LMqj5AwyWABIrzqD4heIfDXg2xsYorfw/No95JYagmpxLfzwwKqvARHHcx+YzROhZkZyGyNp5Ki1v5A+h7Xrej23iDSL3TL1DJaXcLQyqDglWGDg9jzWT4X8D2vhe4muRf6hql3IixC41KfznSMHIRTgYXJzj1rzTxT8Utbs5/EUE19YLYrpFxc2NvBaSiWcrbl9zzxXIaA5/hKKw/hbPNTN8SvE0/xJi8OWV3p9pbRy26tb3OmTTvJA0CSM4ujcKqsWZlClWb5QctnFO2qYNaXZ7RRXi0/xL8Z6V4cufEN2+iXFlJp2o3VvZQ2kyPFJbqzJukMrB1bb8wCqR2Jqxq/jDx/o9xqqPf+HZVsLKDVCF02YF45XdTb5+0cMuzPndDn/Vij1HZ2uew0V47YfFbxXqnxQk0mDSrOPQoLo2sqTSQpcFdu7zlZrkOR0wohOR/FVPTPiB471DwVp2tXGoaDbNrWif2larDpsp+xSbUfDFp8SrtY9AmD69aXRyeyDyR6/wCINDtPE2h3+k36GSyvYWgmVTglWBBwex5rO8MeC7bwxNPOL7UNUu5lVGutSn82QIOQoOBhcknGKr2tjL4s8AR22o6ut495bAT3+i7rQSqcFghWRmj3DKkq24ZJVlOCMD4U6pLH4G+G9rHPYW9vc6JAzWr7hM22BCPKGcbV757U7atk/ZUuh6PRXhGo6/L4F+KPjbXFUyRahPBpOznBuvscLWi+g3O8iZ6kugzwKzIPE2rfCnwG+laJc29zrY1K6Z5b22R0nKgNK53XMCqzMS2AxPzcKaTLknFpdz6Korx+3+Lmr3mtaHpyrp6R6pDBdSXpjcx2AKZa2kw+DNKQfKO5RjcSCVUSVpviB4pg0DzdIfTII7PR7jVpjqEc9083lyuDErGYMu4L95mbb/dIGKbvexMfesl1PaaK8hX4neItC1K6tdbn0iaNV0i6W5gtpLdYYLy5lhdG3StllEORJlQd3KjHN2X4ia3r2p/2foFzpMZm1Kayjvp4XuI1jSNH3bVkXecsRwyj34wTVbjtbc9RorzDwR4z8V6jquhNrM+ky2GqpdRC3srSWOSGWBtpfzGlYMrbWO3apXcBubaS3p9IlBRRRQMoyf6xv9402nSf6xv9402gBdF/5B//AG1l/wDRj1fqhov/ACD/APtrL/6Mer9ABRRRQBheMv8AkEp/12T+tdPpX/HhD/uiuY8Zf8glP+uyf1rp9K/48If90UAXKKKKACiiigAooooAKKKKACiiigAooqOSNnQqsjRnsy4yPzBH6UASUVU+wzf8/wDcflH/APEUfYZv+f8AuPyj/wDiKALVLVT7DN/z/wBx+Uf/AMRR9hm/5/7j8o//AIigC3RVT7DN/wA/9x+Uf/xFH2Gb/n/uPyj/APiKALdFVPsM3/P/AHH5R/8AxFH2Gb/n/uPyj/8AiKALdFVPsM3/AD/3H5R//EUfYZv+f+4/KP8A+IoAt0VU+wzf8/8AcflH/wDEUfYZv+f+4/KP/wCIoAt0VU+wzf8AP/cflH/8RR9hm/5/7j8o/wD4igC3RVT7DN/z/wBx+Uf/AMRR9hm/5/7j8o//AIigC3RVT7DN/wA/9x+Uf/xFH2Gb/n/uPyj/APiKALdFVPsM3/P/AHH5R/8AxFH2Gb/n/uPyj/8AiKALdFVPsM3/AD/3H5R//EUfYpv+f+4/KP8A+IoAt0VU+xS/8/8AcflH/wDEUfYZv+f+4/KP/wCIoAt0VU+wzf8AP/cflH/8RR9hm/5/7j8o/wD4igC3RVT7DN/z/wBx+Uf/AMRR9hm/5/7j8o//AIigC3RVT7DN/wA/9x+Uf/xFH2Gb/n/uPyj/APiKALdFVPsM3/P/AHH5R/8AxFH2Gb/n/uPyj/8AiKALdFVPsM3/AD/3H5R//EUfYZv+f+4/KP8A+IoAt0VU+wzf8/8AcflH/wDEUfYZv+f+4/KP/wCIoAt0VU+wzf8AP/cflH/8RR9hm/5/7j8o/wD4igC3RVT7DN/z/wBx+Uf/AMRR9hm/5/7j8o//AIigC3RVT7DN/wA/9x+Uf/xFH2Gb/n/uPyj/APiKALdFVPsM3/P/AHH5R/8AxFH2Gb/n/uPyj/8AiKALdFVPsM3/AD/3H5R//EUfYZv+f+4/KP8A+IoAt0VU+wzf8/8AcflH/wDEUfYZv+f+4/KP/wCIoAt0VU+wzf8AP/cflH/8RR9hm/5/7j8o/wD4igC3RVT7DN/z/wBx+Uf/AMRR9hm/5/7j8o//AIigC3RVT7DN/wA/9x+Uf/xFH2Gb/n/uPyj/APiKALdFVPsM3/P/AHH5R/8AxFH2Gb/n/uPyj/8AiKALdFVPsM3/AD/3H5R//EUfYZv+f+4/KP8A+IoAt0VU+wzf8/8AcflH/wDEUfYZv+f+4/KP/wCIoAt0VU+wzf8AP/cflH/8RR9hm/5/7j8o/wD4igC3RVT7DN/z/wBx+Uf/AMRR9hm/5/7j8o//AIigC3RVT7DN/wA/9x+Uf/xFH2Gb/n/uPyj/APiKALdFVPsM3/P/AHH5R/8AxFH2Gb/n/uPyj/8AiKALdFVPsM3/AD/3H5R//EUfYZv+f+4/KP8A+IoAt0VU+wzf8/8AcflH/wDEUfYZv+f+4/KP/wCIoAt0VU+wzf8AP/cflH/8RR9hm/5/7j8o/wD4igC3RVT7DN/z/wBx+Uf/AMRR9hm/5/7j8o//AIigC3RVT7DN/wA/9x+Uf/xFH2Kb/n/uPyj/APiKALdFVPsM3/P/AHH5R/8AxFH2Gb/n/uPyj/8AiKALdFVPsM3/AD/3H5R//EUfYZv+f+4/KP8A+IoAt0VU+xS/8/8AcflH/wDEUfYpf+f+4/KP/wCIoAt0VU+xS/8AP/cflH/8RR9il/5/7j8o/wD4igC3RVT7DN/z/wBx+Uf/AMRR9hm/5/7j8o//AIigC3RVT7FL/wA/9x+Uf/xFH2KX/n/uPyj/APiKALdFVPsM3/P/AHH5R/8AxFH2KX/n/uPyj/8AiKALdFVPsUv/AD/3H5R//EUfYpf+f+4/KP8A+IoAt0VU+wzf8/8AcflH/wDEUfYpf+f+4/KP/wCIoAt0VDDG0SbWkeU/3nCg/oAKmoAKKKKACiiigAooooAKKKKACiiigAooooAKKKKAOabrSUrdaSgD4B/Yz/5Ltpv/AF6XP/os1+h1fnj+xn/yXbTf+vS5/wDRZr9Dq+14s/5GC/wr82fLcO/7m/V/kFFFFfFH1IUUUUAMeCOSRHeNWePO1ioJXPXB7VQ1Hwzo+sSiS/0qxvZFYMHubZHYMBgHLA84rkfjXdfZvDWnBm1XyJdSginTRZ5obmRCGyqtCyyc4HCsOlci3j3XPhx4NiSLT77Vbu5vLq40/TtYlnlvo9OTad0jKkkhKsyjMh3AOoZieqTvcdndLueuDwxo4vZrwaTY/a51Mctx9mTe6kYKs2MkEcEGuMm+DNpceL21mXUnktzeLeraNaQl1dSGCrPs8wJuGdobGCR0rIg+L+oXssUunaa13NqTafHa2tzcqkUTXFs824sqbgBt+bliewHQ35vjBPpt81jqOmRRXVjdvDqhhmZktogsbJMpKAsG8+LqBgbu6kVpZxlrugkmtH11PRX020kg8lrWBodrL5ZjUrtb7wxjGD3HenSWVtKXLwRuXUI25AcqMkKfUDJ4968wuPidrhs7y90/SDez+VayLavKxhijlDN5rbIjIAFCk8N16AAms+8+Ourtq2mWGkeGj4h3WVveX1xphmkiVZWdQIW8sZx5bZMmzt3ziF7z+dhPQ9Wk8P6XNqUeoSabaPqEY2pdtAplUYxgNjcOCR1qcabZrAkItYRDGnlLGI12qmMbQMYC44x0ry34xXUb+K/Cdpdr4lmsJ7a+d7Xw1dXVvM0i+RtZvs7qxVdzfeJUFulP8N+N/FGi2selavp8d3caNo1vf6te3FyBMxcSjaqqpVpP3QycqpJJyOBTtprsU07J+Vz1CysLbTbVLW0t4rW2jG1YYUCIo9Ao4FEVhbQiAR20UYt12Q7UA8tcY2rx8oxxgV5hJ8XdZ0m0uDqui2C3U9pb3WmrZ3zSRv58yQRrOzIpjwzqWYBlC7iCdpFJ4b8aa7Z+ONUsddhthcT3NnaiC0vHlt4NySsWTcinJwMjavTvxT1IbSS/rzPUH0+1kZi9tCxZ1lYsikl1xtY8csNoweowPSq974f0vUlRbvTbS6VJPOUTwK4V/wC8MjhvfrXEJ8SdZ1zUItM0DS9Pmv2luy7aheNFCIbeYREqVRmLMzKcbcAZyemdrwLr2v65da4NXtdNt7a1vXtrZrGeR3ZVAPzhkUKcMOhP9Srduw27PU6FdHsEieNbK3WOR1kZBCoVmXG1iMckbVwe20elP/s202Mn2WDYyGJl8tcFT1UjHQ56dKsUUg2Kl1o9hfRyx3NjbXEcqLFIksKuropJVWBHKgsSAeBk+tFno9hp8UUdpY21tHGSUSGFUVSeDtAHH4VbooAhSyt4vLKQRp5e4ptQDZu+9j0z39amoooAKKKKAKMn+sb/AHjTadJ/rG/3jTaAF0X/AJB//bWX/wBGPV+qGi/8g/8A7ay/+jHq/QAUUUUAYXjL/kEp/wBdk/rXT6V/x4Q/7ormPGX/ACCU/wCuyf1rp9K/48If90UAXKKKKACiiigAooooAKKKKACiiigAooooAKKSuN0HUtWTxd4gt9Wv4ZLSGOKaGOOMIkCnd1Y8k4AJJOPQUAdnRXKeJrqO+0dtQs/E7aXYW6u0lxYCGUuwAwNzq64HPygZJI5Hd/hHUtevLDSm1OzjAltTJPcF9jiTd8q+XjjK4J54PFC1A6elrzLUPGGqaX8YDYTXP/FPNZ20bQlFxHPK022TdjPJiC4Jx8w4qv4e8eapdeJfE9xdXkI0eO1SbT4LgLHGvzum5nC5O4r7+wpLUHo7HqlFea6b8WJrrTdZuXsrec6RJEbprOd2j8h1LF0LIrFlAOVIHTg1btPGs2sXnha4WCS3s9TubjyAsoHmRLC7KzqVPXGQoIxwcnpT2TYHf0CvK9G+J3iXWrTw5PH4esYhr0JktQ982YyE3nzMR9CASNuT0yBW74d+IUutX+iWklisEt8l4Zdsu4RPbuikDgbgSx546dKLdAO3oxXnS/EjVNQ1C1sNM0i3luri6vLcNcXLIiCBiu4kIT82OgHFN0H4lapqU2hTX2jW9np+rXclgjx3ReVJkSRsldgG0+UwBBzyMgUuwd/I9Iorzf4ieIpNN8VaPZSeIbvQLGe3mkd7OKJ2d1I2g743457AfWoh8QNW0TwfpV1qP2E6pKkjyJfu1u7xqxCsERHIZlwSCAATjNMZ6ZRXl1z8Umht59Xgs7i5jOl2l4lmZlCkyyhMAbeGG7qWwcdB1q7q3xI1Lw6L+LVNKt1vUsFvLOG2uGYXDGUx+VkoMMC0WcA/f9uUI9Do968yu/ic+qR2C21vJFG7WTTSQzhWSSWXa0RyhyBg56E9OOtXLD4lzzT6zLe29nZWmneeXt2uG+2gRswDGMoBtYKGBDHhhR0bDrY9Corz/wAC/E5vF2rGyktYV3232qOS1d3VRkDY5ZFw/IOBke9c94p8W6lD4u8S2lt4ivba8shb/wBn6TBaxSRzs0YZg2YyxyfR1xQ+lw3PYMUVwdt4+1E32sfadMht9O0WMSX10053n9wJCI0CnJB4OSBjoSeKgb4mX2k21vda5pMVnbXtq9zai2uDJJwm/wAuQFVCsV/ulhkHmmB6HS/xV5b/AMJVr8PjG0m1G1jtbcaFd3qWttds8chVoioYFVw4BIzggBjg9a27v4kLY6foV7PZ4h1Gwe+k2vkxBYRJtHHPXGeKP6/r7g62O3pa8x8SeLfF9v4Zs9RhsdNsXur+wiiBuXkPlyzorK37vAJDBTjOAzEHIGfRrVp2t4zcrGkxUb1iYsgPfBIBI+oFLv5AWKKKKYBRRRQAUUUUAFFFFABRRRQAUUUUAFFFFABRRRQAUUUUAFFFFABRRRQAUUUUAFFFFABRRRQAUUUUAFFFFABRRRQAUUUUAFFFFABRRRQAUUUUAFFFFABRRRQAUUUUAFRXFwlrBJNIdscalmPoAKlrk/iFe3K6OllZHF3eMEVthfao5Zio5Ix2oA3NI1aDXLJbm3DhCSpWQbWBBwQRV6vGvDPjq60DwreXd48l5ez23mQs8IjE91u8tUVQMfMxTp6mrGmxeIptT8JXl54hmnt7wmOeKJihkcIxO5VwqgYHAGck8jpR1sHmeqR30dwtx9nIneBijIvHzAZ25P1FPtJJJ7eOSaE28rLloiwYqfTI4Ncj4d09bMeIJ457rzI55UAa4dl+6DuIJwW9+tO0y/nsYfD99cXMr21zbLDN5jllD4yrHPc8jNAHaU33rkFv2k0qa8uLm8jGpXQW3it2JcIOFVB23BSxI9a47x14h1bQfCPiZbG6vLOeEW5gkuJBJLH5kiqcMcnBBPXke1XTg6klBbvQTdk2ev8A8PSqWn6tDqbXCxble3kMUisACCPx6V4h4v8AiRq8Hwx0y70HUJrXXriJ7i+mlImMK25CzqFfKrmUiPgD7xPbNafir4k3fhvWvE8thZxSafbQj7VNPMUcOqDc0ShSGKhgSGK9OK7HgaySlpq2vut/mcyxEG3HyR6vpGu2muWs89szeXDI0Tbhg5Hf6EYIPoaSw1g6mttNbWshtZgx85yq7cHA4zk55ryG38aXul65r2i2Nlb28IhWFRdzMk0rLGqrKihCrK24fxZwuevFV/CPj3xTb6L4HE9na3l5qT3FpDHDdssbBQxDy/IANoQ9ATjpycUvqdXlcu3+V/0G8RTjJI96o9a8B1j4hatokFs8t/byXKTYljTUJTIjGUjaE8sqy/75U4xgCuw8O+JNU8feLdStXU2Ok6XK1vJ5F20csrj7rAKvI65BYY96ylhqkYqbWhqqibsjvdN1VdRuL+IRmM2s3kkk53fKDn261oV4zceM9U8NzeLkgjWWw065D3OpSy5lAKA4VApDMApBJIHTqa53TfjdcwXBntLe41OQ2b3kdrb3UtyJlUDMbh0UJKSykBMggN6VpDB1qsXKCukZyxFODSk7Nn0T6UV4fD8TNRm0XTrVbi3murrVBAs1ldPIQhDPglkU9tuCKXxb4u1bXNSgbSrqa1EOtW+nRpBcsiy5tZJWDAccsyjkH7oNT9VqKXLLQpVoSV0z27rRz9a8X+H/AI91i18E6jfapcWD36XkkUa3moSsoxK67SfLLcBcfKGztzxWtpHxdvfEWm6THpmm2s2tX93dWvlyXLLbILckSSb9m4qflAG3OXGQMGqeCrK9ldLS/wCIvbw08z1Ld1FA5rxnwZ4+10R3Wni2W91+91i9SGG9u28iGOIIWG8KxCjcMAL36Dmu98O+Nl1XQNRv7y2+yXWmSzQXlur+YEeL721sDKkYYHAOGGQDxU1cLUpPUVOtGpsdT3HpRXkEfjzXL7xJ4T1G/tk03RLy0ur1Ftrtn3xiNGXzV2qNwByANwGTzWXH8dpPFWlX0EMCW323TZ7qznsp5Wlt9se4CYlFCMQeCrMMgjPStll9dq8Vdflv/kyHiacbXdr7eZ7nS1wreMJfD3w50K/MT6lqF3FaW0MckmDLNKFUFmOcDJLE8nAPU0mveMta8M+HYbnUYtEttUklZVha9lMLIBnIYRbi3qNuB61zLD1JOy6uxoqsWk32ud31poPzGvCNe+KV1faHqXiS2ku7a3/4ROa+W1t7nZtkWRhuQlWUNxwxUnGOO1O8Qa14g/4TrxjfXUki6bolpa/ZUstVnhK+Zu+YxBPLdmxyXDbcDHU11xwFTVN2/wA7pfmzF4qF1FK7Z7vR09q4nSfF+r69r1xDp+n2n9j2M/2e6urm5ZJWcKCxjQIQQCccsvQ1gD43RWniK7sr2OxmtEt7i6hm0+4eVtsILMHBRVBIHG1iM1zxwlaTair2V36Grrwirt21seqE/nR/OvH5vHmuW/jDw/f61ax6bpLaPqN/5NndtKJEUW7KJFKqN6gnGMgbjg9a1l+KGrafbpPrGi29qt5p81/Yrb3RkJ8uPzDHLlAFbGOm4deap4OqrNWel9/X/IFWgz0zrSVz3gvW9T8RaPHqOo2EOnpcKssEMc5kcIyg/P8AKAGz2UsPeuhrklFwk4vobRkpJNDqKKKkoKKKKAOabrSUrdaSgD4B/Yz/AOS7ab/16XP/AKLNfodX54/sZ/8AJdtN/wCvS5/9Fmv0Or7Xiz/kYL/CvzZ8tw7/ALm/V/kFFFFfFH1IUUUUAV7zT7bUBCLqBJhDIs0e8Z2OM4Ye4yazfEngrQ/F/wBmOs6ZBqBtmZoTKpyhOM4I7HAyOhwKt61JqUVoP7Kt7e4umYDF1IUjC92JUE/gBXPDx5LH8OLzxLNaRrPawzO8KyExs0TMpKtjJVtuVOOQRS8xq97dzYg8H6JbSQyRaZbxvC0bRlUA2tGhRCPTarMo9jReeD9F1CfUprnTLeaXUoUgvHdMmeNc7Vb1A3N+dL4f8WaV4oSU6bdrcmHaJFCspXIyOGAOD69K16p36iT6owdY8CaBr9vJBf6XDcRSeXuUgru2AhehHQEgVWuvhj4Wuzppl0S1ZtNjWG0YKVMSKchQQckA8855z6munopLTb1+YeRWl021nvre9kgR7u3R44ZiPmRX27gD6Hauf90U0aTZC8urv7NH9puolhmkK8yIu7areoG5uP8AaNW6KPIepzOn/DLwtpdpqVra6HaQ2+ooYrpAuRKpz8pyenJ4HTNQj4UeEBpEmljQLX7DI6yNFtPzMpJVic5yNxwc966yigRzF38MPCt/plrp8+h2j2drI0sMQUrsZjliCCDyeTzya1NM8MaVo2o31/ZWUdtd3zK1zKgIMpUAAt2zgAfhWnRT1AKKKKQBRRRQAUUUUAFFFFAFGT/WN/vGm06T/WN/vGm0ALov/IP/AO2sv/ox6v1Q0X/kH/8AbWX/ANGPV+gAooooAwvGX/IJT/rsn9a6fSv+PCH/AHRXMeMv+QSn/XZP610+lf8AHhD/ALooAuUUUUAFFFFABRRRQAUUUUAFFFFABRRRQAVlR6Dbx6xe6gS0j3cSQyROAU2rntjvnnNatFAHH+I/h+muSad9j1GbRYLN2lFraW8LQySHGGZWQglccfWtXT9FvLW6t57jWLu+McLRMkixokhLZDsqqPmHQYwMVt0UAcj4i+Hdh4kk1mS5nuI21S2t7ZzGQpi8pnZWQ4yGzIevoKq6h8LdOvoXVLi4tj9ntoI2j2nyzBJ5iOAQQTu6g5B9K7eigDiY/hjA7ai15qt9fvqUkD3pl2KJhECAmFUBVIIBC46e5q3ZfD+y0+602SK5uBDp1zNPa25I2R+YjIUHGdoDEgZ4+ldZRR0aA5bSfANno9r4ZgjuJ3XQYjFAX25kBjKZfA64OeMc1Tb4aw262T2GqXlhe2ctxLFcxrG7bZ2DSIVZSCuQuOMjaOa7WigDjfD/AMN7Pw7dWU8V5dXE1rJcyhp2BLtO25yTj1ziprf4f2dra6JAtxcbdJv31CJiVyzssqlW46Ymbpg8CuqzRmjt5B38zKuPD8Nx4gtdYaSQT20LwrGMbSGIJJ4znisvxB4FXXNYXUotUu9MuGtDZT/Zgh82Etu2/MpKnJPK4PNdVnrQDSA4b/hVGnLYC0W6uhGLS3swcjO2GRXU9OpKgH2rU8QeCLLxJrGh6lcySrNpMjPGiY2y7tp2tkcgMisMY5UV0tFAHEWPwp0zT4buKK4udtxqMepHJU7GRtyovHC5z78nmp7r4ex6tqxvdW1K41NFSWOGB4oo1jWRSrDciBmG0kDcT69a7CgGmHmYHhrw3deHl8qTWrvUrWNBFDDcJGBEo6fMqhmOMDLE1Y0/w/Dp2sarqSSSNLqLRNIjY2rsTaMcZ5HXNbFFAGFb+FLSKbXGfdcR6w2biKTG3HlhCowOhA7+tYkHwvtXjSHUtSvdVtoLZrW1huCgEEbLtOCqgs20AbmJNdvRS0GcZpvw5S31JLu+1a91Ro7KTTkS4CBRC5QkfKoyfkHzHk557VUs/hPaxPYi91a+1O2srWSygt59iosLpsKnaoJIAGGPPHWu+opiOMk+HklxoMmlXOvX9zCrwSWjukQe1aJw8ZUhPmwVXO/OQK6u0jkgt4opZ2uZVUBppFVS5HUkAADPsMVZooAKKKKACiiigAooooAKKKKACiiigAooooAKKKKACiiigAooooAKKKKACiiigAooooAKKKKACiiigAooooAKKKKACiiigAooooAKKKKACiiigAooooAKKKKACiiigAooooAKqNp8Lagl4ykzohjU5OACcnj8Kt1Qk1AxaxFZvHhJYmdJM9WB5XH0OaAMNfh7YfZdDt3klli0m5N1EG2/O3JAbjoGIbjHKip7jwLp02qWl8hmge3mM4ijciNmIwcr0HXtirVv4ltvJeW5ZbeMyusXVi6qcbsAcCtRrqJbfzy6+Vt3bwcjHrQBRXQLRby4uVV1e4UiRVchWJGCdvTOO9Fx4dsbrRk0uSJjZqqqF3EEAdOetWLHU7bUVc28wl2HawwQQfcHmqUmqXdzdzw2EEMiwHbJJM5UFsZwMA9KAJ77Q7TULOG2ljYRwlWi2MVZCBgEEcjisTXvh3pmu6Td2EhmiS6aIyyK+52Ebq4GTnqVwT1wa3LjWrSxdY7qZYpiASnJ259SBwPrRda5YWcnly3KI/y8cnAboTjoD604ycXzLdBurHF3HwV0Wb/hKNs91ENeRI5Argi3A5bygQcbm+Zs5y3NJ4p+DOneKtUmnmv7y3srlg15YxbPKuTt2ncSpYZUAHaRmunk8Rg6zPZxiNVt4BLI8pYcndgDAIwNvJ9+M1duNas7Py1uriOJ2XcQMkAeuccD3OK6Viq90+b+tP8AIw9jTd7rc5y9+HY1TxJaanf6vc3dtZuZLXTzDCscJxgAOqByB6FjVTRfhPbaRdaPJ/al5cRaTdS3NlDIsYEQkR1aMkKCV+diMknOOccV2i6hbSbisykCJZjj+4c4b6HB/KoxrFkZ1iWdTIyhtoyeCM5PoMVP1ipy2T0D2MG7tHDX3wXsrq41NYdX1C003Ublb24sIfLKNMAg3bihfBCL8u7HtW5pvw70zTZ7yZHuDLc3ElwzrKUYbjyuVxlR75rctdas7xZDDcK3ljc+crgevOOPeo01q3uVQ2s0bZlWM+YGXOew45OBx2qXWqSjyt6FqnFO6RmWfgPTLNdbRkaa21ZgZoJMFVATbgd+evOTk1k6H8MJ9DmuGXxLqV0vlGKyW5SFxZZ4DJ8nJA4+bdxXUTa5BHqaWgljHZ2YnhuyjjGfqak/tyx+1i2+1J5xcxhefvf3c9M+1L2s4pruNwi7PscPJ8Gba433U+s3suuGdLldUEUKOrKCBiNUEZ4JzlTnPNO034K6dp9vsfUr+5kOqJqzyOVVmlWHycfKowpHzYGMHpgcV3l5fW+nqrXEqxKxwN3c+gqJdZsmszdCcGAHaWAJ+b0xjOfwrV4mq1a5CpQTvbU4WP4MwWYJsdcvrR47w3lrIsULtbs27co3IdwJZj8+SCeMVPb/AAjt7KztRZ6zqFtqdre3F9FqX7t5d8+fNDKylWVt3QjghSOgrsm1yxW3Sc3KeVISFbB5I6jHXPtSjWLP7Wtr56+exwFIIycZxnGM47UfWq1t/wAEHsYX1Rxtr8IrewtVNprF/BqaXc14mp/u2lV5QBINrIVKnaOCvHauh0DwfZ6Dodxpu+S7F08st1POQXuJJCS7NjAyc9AAAMAcCte8voNPjEk8nlqTgHBPP0FRza1ZQ2sVw1wohl+4wyd30A5qJ4ipUVpO440oReiON0n4Tw6ffabJc6zf6jaabDLbWdncCMRxxOApU7VBbAUAFiTjvUul/DN9P0i40Y6/qE+iNatZwWMqQkW8ZXaArhN7YHA3Ma6L/hJrOS8ktUfMixeaGZSFxgnk446Vbh1KAwuzzR7o0V5Sp4GRkHnse1W8TWlu/wABexhppsYup+B7PVPCtrocksyR2ohNvdIQJY3iIKSA4xuBUHpg8jGKzLz4cXt82n3U/ijUDqln5qLfLDbhmik27oyoj2gfKMMAGHrXV/21Z/aUtzOomfGFIIzkZAzjGfan2+pWt1cSRQyiR4yQ4UH5SDggnpnNTHEVIbMPZQ00OCk+B+ky+G7jRft179nuNJl0dpCyl/LkZmZ8lfvZY9ePatrUPhvY6lJ4ieS5uFOtxW8U20r8gi3bSvHfcc5zV++8TvZ6TeXX2XfcQTGEQBj8xzxzj05qzNroWWJYthR7c3BlkYhQONueO+abxNa9+b+rp/mgVGCfMlqY0PgH7HrU95Y6veWVndv5l5p6LG0U7bQpOWUsuQBnaRk1i6T8E7Kx/s6K71e+1Oz0+zk0+1tZxGsccDpsKHaoLEKB8zEn3ruJtcsrWQRT3MaTfKGXkgZxjPHAOepqPVvEFrpccoaVWuEXcI+fwBIGB+NNYqsr2e4nRg90ctp/wnhjvbSfUtZv9XjtLOfT4Le5EYRIZQgZTtUEnEajcST70lr8JYfJaK+1m/1OKOzlsLNZxGPssUibG2lVBZsYG58niuwn1yzs/LW4nWORlDlcE7Qe5wOB9alk1S0iWV3uEVYiodieBnp+dL6zV7leyhppsJpenJpOm2tlGzPHbxrEGbqQBgE/lVwc1SutYs7Pf5s6ptIBHJOSMgYHXgZq3DKk8SSRncjDIPrXM227vc0SS0RJRRRQMKKKKAOabrSUrdaSgD4B/Yz/AOS7ab/16XP/AKLNfodRRX2vFn/IwX+Ffmz5bh3/AHN+r/IKKKK+KPqQooooA5T4kXU0OjwQRytHHcX0VtLsOC0bH5lyORn1HNR/Eq3jtfhnrdvDGscKWMiLGowAoXAAoop9yvtRLGjxqvjTVSFAxYwdP+BV09FFIyiFFFFBYUUUUAFFFFABRRRQAUUUUAFFFFABRRRQAUUUUAUZP9Y3+8abRRQAui/8g/8A7ay/+jHq/RRQAUUUUAYXjL/kEp/12T+tdPpX/HhD/uiiigC5RRRQAUUUUAFFFFABRRRQAVHN/qW7cUUUAZ3kD/npN/3+f/GjyB/z0m/7/P8A40UUAHkD/npN/wB/n/xo8gf89Jv+/wA/+NFFAB5A/wCek3/f5/8AGjyB/wA9Jv8Av8/+NFFAB5A/56Tf9/n/AMaPIH/PSb/v8/8AjRRQAeQP+ek3/f5/8aPIH/PSb/v8/wDjRRQAeQP+ek3/AH+f/GjyB/z0m/7/AD/40UUAHkD/AJ6Tf9/n/wAaPIH/AD0m/wC/z/40UUAHkD/npN/3+f8Axo8gf89Jv+/z/wCNFFAB5A/56Tf9/n/xo8gf89Jv+/z/AONFFAB5A/56Tf8Af5/8aPIH/PSb/v8AP/jRRQAeQP8AnpN/3+f/ABo8gf8APSb/AL/P/jRRQAeQP+ek3/f5/wDGjyB/z0m/7/P/AI0UUAHkD/npN/3+f/GjyB/z0m/7/P8A40UUAHkD/npN/wB/n/xo8gf89Jv+/wA/+NFFAB5A/wCek3/f5/8AGjyB/wA9Jv8Av8/+NFFAB5A/56Tf9/n/AMaPIH/PSb/v8/8AjRRQAeQP+ek3/f5/8aPIH/PSb/v8/wDjRRQAeQP+ek3/AH+f/GjyB/z0m/7/AD/40UUAHkD/AJ6Tf9/n/wAaPIH/AD0m/wC/z/40UUAHkD/npN/3+f8Axo8gf89Jv+/z/wCNFFAB5A/56Tf9/n/xo8gf89Jv+/z/AONFFAB5A/56Tf8Af5/8aPIH/PSb/v8AP/jRRQAeQP8AnpN/3+f/ABo8gf8APSb/AL/P/jRRQAeQP+ek3/f5/wDGjyB/z0m/7/P/AI0UUAHkD/npN/3+f/GjyB/z0m/7/P8A40UUAHkD/npN/wB/n/xo8gf89Jv+/wA/+NFFAB5A/wCek3/f5/8AGjyB/wA9Jv8Av8/+NFFAB5A/56Tf9/n/AMaPIH/PSb/v8/8AjRRQAeQP+ek3/f5/8aPIH/PSb/v8/wDjRRQAeQP+ek3/AH+f/GjyB/z0m/7/AD/40UUAHkD/AJ6Tf9/n/wAaPIH/AD0m/wC/z/40UUAHkD/npN/3+f8Axo8gf89Jv+/z/wCNFFAB5A/56Tf9/n/xo8gf89Jv+/z/AONFFAB5A/56Tf8Af5/8aPIH/PSb/v8AP/jRRQAeQP8AnpN/3+f/ABo8gf8APSb/AL/P/jRRQAeQP+ek3/f5/wDGjyB/z0m/7/P/AI0UUAHkD/npN/3+f/GjyB/z0m/7/P8A40UUAHkD/npN/wB/n/xo8gf89Jv+/wA/+NFFAB5A/wCek3/f5/8AGsLxQht47OaOWZZVc4bzWJGVIPeiigDGsbYNqWzzbhFW0iAEdxIvUsT0b1FbWsKdI8LTG0lmiMEA8v8Aes23kDufSiigCt4bjLarflpp3LQQOS07k5+f1P6Vc8Ox5fUx5kuPtLN/rW67V96KKAK9jH5jeIWd5GPnMuTI3QRrgdayY4gdF1Jy8hf+z4hkyN02H3oooAtzKWbWsyS8aZCw/et1/ee9SWMfmx61veRsW8YGZG6bOnXpRRQBFYx/ubn55f8AkEw/8tG9H9+ntSW261tdUmiklWWOyjZW8xjgiPI6nn6UUUAZdw0klqJnnnkkm0+N3Z5nOSzpnqeBz0HFdZrNuqf2QA8oDXig/vW6AHHeiigDIhi3+Ebt2eUt5sz581uWEzAE888AflUNxHt0u5cPJv8A7Wi+bzG/56oM9euO9FFAG1q0Ak1HTFZ5GAuSBmVuPlPvWPrEktjeXIgnmi83UIEfbKwJDRAnnPr3oooAfpNqv2y0BeZsXcp+aZzztHPWqzSzXkskk1xcO0OqpEg85woUMv8ADnGeTzjNFFAGv4mnmt77TIYrieOOabY4WZgSMeucj8KzdAixqGmr5kpAiuiMyscHzRyOetFFAG7Muy81ZQWIGnkjcST0Pc1S1P5HskXhbi0hWUf3gJUAH5M350UUARahNJc6hOZJZCLfULdI1VyFAJHVRwfqRXReF+bW9OOTez54/wCmhoooAyJh/wAViIsfu2lEhXtuER5+vNUNHYyaPq5bkxW0UaH0UFsCiigC7qaj+zvFLYG4WyfN3/1VSbRJpHiDeNxaUkluf4EoooAt6Soa41wEbh5ir83PHkqcfT/GudZBJaQRtykllbs4z1IVuaKKALd0Snh+9v1Zlu4JvMjlBOQwjCg+/HGDxXX6XK8+m28rnLtGCT05xRRQBcooooAKKKKAOabrSUUUAf/Z)"
      ]
    }
  ]
}