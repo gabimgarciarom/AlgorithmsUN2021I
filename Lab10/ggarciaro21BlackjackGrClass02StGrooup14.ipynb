{
  "nbformat": 4,
  "nbformat_minor": 0,
  "metadata": {
    "colab": {
      "name": "dicarvajalb21BlackjackGrClass02StGrooup14.ipynb",
      "provenance": [],
      "collapsed_sections": []
    },
    "kernelspec": {
      "name": "python3",
      "display_name": "Python 3"
    },
    "language_info": {
      "name": "python"
    }
  },
  "cells": [
    {
      "cell_type": "markdown",
      "metadata": {
        "id": "FzMiHlbqJyGD"
      },
      "source": [
        "##Punto 1##"
      ]
    },
    {
      "cell_type": "code",
      "metadata": {
        "colab": {
          "base_uri": "https://localhost:8080/",
          "height": 299
        },
        "id": "935ScV8oesxN",
        "outputId": "ebadc0fb-d80e-40d9-dd24-74ccdaa034ea"
      },
      "source": [
        "import random\n",
        "import matplotlib.pyplot as plt\n",
        "\n",
        "import time\n",
        "start_time = time.time()\n",
        "\n",
        "def calculateAndPlot(n, deck):\n",
        "  count = 0\n",
        "  avnc = 0\n",
        "  minc21 = 48\n",
        "  maxc21 = 0\n",
        "  nc21 = {2:0, 3:0, 4:0, 5:0, 6:0, 7:0, 8:0, 9:0, 10:0, 11:0, 12:0}\n",
        "\n",
        "  for i in range(n):\n",
        "    Auxdeck = deck.copy()\n",
        "    my_cards = []\n",
        "    nc = 0\n",
        "    while(sum(my_cards)<21):\n",
        "      card = random.choice(Auxdeck)\n",
        "      my_cards.append(card)\n",
        "      Auxdeck.remove(card)\n",
        "      nc+=1\n",
        "      if sum(my_cards) == 21:\n",
        "        count+=1\n",
        "        avnc += nc\n",
        "        nc21[nc] += 1\n",
        "        if minc21 > nc:\n",
        "          minc21 = nc\n",
        "        if maxc21 < nc:\n",
        "          maxc21 = nc\n",
        "  print(\"21 probability: \", count/n, \"Average cards: \", avnc/count, \"min cards: \", minc21, \"max cards: \", maxc21) \n",
        "  plt.bar(nc21.keys(), nc21.values(), 1, color = \"b\")\n",
        "  plt.show()\n",
        "  print(\"--- %s seconds ---\" % (time.time() - start_time))\n",
        "  \n",
        "calculateAndPlot(10000000, [1,2,3,4,5,6,7,8,9,10,11,12,13,1,2,3,4,5,6,7,8,9,10,11,12,13,1,2,3,4,5,6,7,8,9,10,11,12,13,1,2,3,4,5,6,7,8,9,10,11,12,13])"
      ],
      "execution_count": null,
      "outputs": [
        {
          "output_type": "stream",
          "text": [
            "21 probability:  0.1448081 Average cards:  3.214717270649915 min cards:  2 max cards:  9\n"
          ],
          "name": "stdout"
        },
        {
          "output_type": "display_data",
          "data": {
            "image/png": "[encoded data removed]",
            "text/plain": [
              "<Figure size 432x288 with 1 Axes>"
            ]
          },
          "metadata": {
            "tags": [],
            "needs_background": "light"
          }
        },
        {
          "output_type": "stream",
          "text": [
            "--- 58.090285539627075 seconds ---\n"
          ],
          "name": "stdout"
        }
      ]
    },
    {
      "cell_type": "code",
      "metadata": {
        "colab": {
          "base_uri": "https://localhost:8080/",
          "height": 299
        },
        "id": "4yTJuwcgliJa",
        "outputId": "b37886ba-c355-4d9b-c098-27d3cee6d47c"
      },
      "source": [
        "calculateAndPlot(10000000, [1,2,3,4,5,6,7,8,9,10,11,12,13,1,2,3,4,5,6,7,8,9,10,11,12,13,1,2,3,4,5,6,7,8,9,10,11,12,13,1,2,3,4,5,6,7,8,9,10,11,12,13])"
      ],
      "execution_count": null,
      "outputs": [
        {
          "output_type": "stream",
          "text": [
            "21 probability:  0.1447087 Average cards:  3.216048516778881 min cards:  2 max cards:  9\n"
          ],
          "name": "stdout"
        },
        {
          "output_type": "display_data",
          "data": {
            "image/png": "[encoded data removed]",
            "text/plain": [
              "<Figure size 432x288 with 1 Axes>"
            ]
          },
          "metadata": {
            "tags": [],
            "needs_background": "light"
          }
        },
        {
          "output_type": "stream",
          "text": [
            "--- 116.86242771148682 seconds ---\n"
          ],
          "name": "stdout"
        }
      ]
    },
    {
      "cell_type": "markdown",
      "metadata": {
        "id": "ZfjROyNfnUAG"
      },
      "source": [
        "##Punto 2##"
      ]
    },
    {
      "cell_type": "code",
      "metadata": {
        "colab": {
          "base_uri": "https://localhost:8080/",
          "height": 299
        },
        "id": "7ktWnXE2nBAx",
        "outputId": "0f0ebe7c-b4fa-4d0e-f1a7-d162eb5da35b"
      },
      "source": [
        "calculateAndPlot(10000000, [1,2,3,4,5,6,7,10,10,10,1,2,3,4,5,6,7,8,9,10,10,10,1,2,3,4,5,6,7,8,9,10,10,10,1,2,3,4,5,6,7,8,9,10,10,10])"
      ],
      "execution_count": null,
      "outputs": [
        {
          "output_type": "stream",
          "text": [
            "21 probability:  0.1532412 Average cards:  3.749962151170834 min cards:  3 max cards:  9\n"
          ],
          "name": "stdout"
        },
        {
          "output_type": "display_data",
          "data": {
            "image/png": "[encoded data removed]",
            "text/plain": [
              "<Figure size 432x288 with 1 Axes>"
            ]
          },
          "metadata": {
            "tags": [],
            "needs_background": "light"
          }
        },
        {
          "output_type": "stream",
          "text": [
            "--- 182.63534808158875 seconds ---\n"
          ],
          "name": "stdout"
        }
      ]
    },
    {
      "cell_type": "code",
      "metadata": {
        "colab": {
          "base_uri": "https://localhost:8080/",
          "height": 299
        },
        "id": "cYVO6NfmnX2I",
        "outputId": "d9809d15-ee31-4d80-d13c-805d232d5f93"
      },
      "source": [
        "calculateAndPlot(10000000, [1,2,3,4,5,6,7,8,9,10,11,12,13,1,2,3,4,5,6,7,8,9,10,10,10,10,1,2,3,4,5,6,7,8,9,10,10,10,10,1,2,3,4,5,6,7,8,9,10,10,10,10])"
      ],
      "execution_count": null,
      "outputs": [
        {
          "output_type": "stream",
          "text": [
            "21 probability:  0.1456218 Average cards:  3.423931719014598 min cards:  2 max cards:  9\n"
          ],
          "name": "stdout"
        },
        {
          "output_type": "display_data",
          "data": {
            "image/png": "[encoded data removed]",
            "text/plain": [
              "<Figure size 432x288 with 1 Axes>"
            ]
          },
          "metadata": {
            "tags": [],
            "needs_background": "light"
          }
        },
        {
          "output_type": "stream",
          "text": [
            "--- 331.3573589324951 seconds ---\n"
          ],
          "name": "stdout"
        }
      ]
    },
    {
      "cell_type": "markdown",
      "metadata": {
        "id": "MCWRAbzQqX18"
      },
      "source": [
        "##Punto 3##"
      ]
    },
    {
      "cell_type": "code",
      "metadata": {
        "colab": {
          "base_uri": "https://localhost:8080/",
          "height": 299
        },
        "id": "Dq-LLe-tqV8b",
        "outputId": "d975ee50-66a0-4678-8947-52d1085f91ba"
      },
      "source": [
        "import random\n",
        "import matplotlib.pyplot as plt\n",
        "\n",
        "import time\n",
        "start_time = time.time()\n",
        "\n",
        "def calculateAndPlot2(n, deck, my_cards):\n",
        "  count = 0\n",
        "  avnc = 0\n",
        "  minc21 = 48\n",
        "  maxc21 = 0\n",
        "  nc21 = {1:0, 2:0, 3:0, 4:0, 5:0, 6:0, 7:0, 8:0, 9:0, 10:0, 11:0, 12:0}\n",
        "\n",
        "  for i in range(n):\n",
        "    Auxdeck = deck.copy()\n",
        "    AuxMy_cards = my_cards.copy()\n",
        "    nc = len(AuxMy_cards)\n",
        "    while(sum(AuxMy_cards)<21):\n",
        "      card = random.choice(Auxdeck)\n",
        "      AuxMy_cards.append(card)\n",
        "      Auxdeck.remove(card)\n",
        "      nc+=1\n",
        "      if sum(AuxMy_cards) == 21:\n",
        "        count+=1\n",
        "        avnc += nc\n",
        "        nc21[nc] += 1\n",
        "        if minc21 > nc:\n",
        "          minc21 = nc\n",
        "        if maxc21 < nc:\n",
        "          maxc21 = nc\n",
        "  print(\"21 probability: \", count/n, \"Average cards: \", avnc/count, \"min cards: \", minc21, \"max cards: \", maxc21) \n",
        "  plt.bar(nc21.keys(), nc21.values(), 1, color = \"b\")\n",
        "  plt.show()\n",
        "  print(\"--- %s seconds ---\" % (time.time() - start_time))\n",
        "  \n",
        "calculateAndPlot2(10000000, [1,2,3,4,5,6,7,8,9,10,10,10,1,2,3,4,5,6,7,8,9,10,10,10], [7,7,5])"
      ],
      "execution_count": null,
      "outputs": [
        {
          "output_type": "stream",
          "text": [
            "21 probability:  0.0869663 Average cards:  4.041594272724033 min cards:  4 max cards:  5\n"
          ],
          "name": "stdout"
        },
        {
          "output_type": "display_data",
          "data": {
            "image/png": "[encoded data removed]",
            "text/plain": [
              "<Figure size 432x288 with 1 Axes>"
            ]
          },
          "metadata": {
            "tags": [],
            "needs_background": "light"
          }
        },
        {
          "output_type": "stream",
          "text": [
            "--- 21.939669609069824 seconds ---\n"
          ],
          "name": "stdout"
        }
      ]
    },
    {
      "cell_type": "markdown",
      "metadata": {
        "id": "8mQUBIyNuzw0"
      },
      "source": [
        "##Punto 4##\n",
        "\n",
        "Si nos toca la baraja restante de 4 1s y 4 2s, entonces tendríamos oportunidad de ganar, en el otro caso no. Para la baraja en donde podemos ganar tenemos una probabilidad de perder de $2/7$ para sacar un 1 y un 2, entonces la probabilidad de ganar en ese caso es de $1/2*(1-2/7)$, es decir $1/2*(5/7)$ = $5/14$"
      ]
    },
    {
      "cell_type": "code",
      "metadata": {
        "colab": {
          "base_uri": "https://localhost:8080/",
          "height": 310
        },
        "id": "3A0xDttSu11F",
        "outputId": "c6848a1f-3a8c-4880-fa40-4eeea48ad50e"
      },
      "source": [
        "import random\n",
        "import matplotlib.pyplot as plt\n",
        "\n",
        "import time\n",
        "start_time = time.time()\n",
        "\n",
        "def calculateAndPlot3(n):\n",
        "  count = 0\n",
        "  avnc = 0\n",
        "  minc21 = 48\n",
        "  maxc21 = 0\n",
        "  nc21 = {1:0, 2:0, 3:0, 4:0, 5:0, 6:0, 7:0, 8:0, 9:0, 10:0, 11:0, 12:0}\n",
        "\n",
        "  for i in range(n):\n",
        "    Auxdeck1 = [3,4,5,12,5,6,7,8]\n",
        "    Auxdeck2 = [1,1,1,1,2,2,2,2]\n",
        "    definitive_deck = random.choice([Auxdeck1, Auxdeck2])\n",
        "    AuxMy_cards = [7,7,5]\n",
        "    nc = len(AuxMy_cards)\n",
        "    while(sum(AuxMy_cards)<21):\n",
        "      card = random.choice(definitive_deck)\n",
        "      AuxMy_cards.append(card)\n",
        "      definitive_deck.remove(card)\n",
        "      nc+=1\n",
        "      if sum(AuxMy_cards) == 21:\n",
        "        count+=1\n",
        "        avnc += nc\n",
        "        nc21[nc] += 1\n",
        "        if minc21 > nc:\n",
        "          minc21 = nc\n",
        "        if maxc21 < nc:\n",
        "          maxc21 = nc\n",
        "  print(\"21 probability: \", count/n, \"Average cards: \", avnc/count, \"min cards: \", minc21, \"max cards: \", maxc21) \n",
        "  plt.bar(nc21.keys(), nc21.values(), 1, color = \"b\")\n",
        "  plt.show()\n",
        "  print(\"--- %s seconds ---\" % (time.time() - start_time))\n",
        "  \n",
        "calculateAndPlot3(10000000)"
      ],
      "execution_count": null,
      "outputs": [
        {
          "output_type": "stream",
          "text": [
            "21 probability:  0.3573413 Average cards:  4.300338919682668 min cards:  4 max cards:  5\n"
          ],
          "name": "stdout"
        },
        {
          "output_type": "display_data",
          "data": {
            "image/png": "[encoded data removed]",
            "text/plain": [
              "<Figure size 432x288 with 1 Axes>"
            ]
          },
          "metadata": {
            "tags": [],
            "needs_background": "light"
          }
        },
        {
          "output_type": "stream",
          "text": [
            "--- 36.80001950263977 seconds ---\n"
          ],
          "name": "stdout"
        }
      ]
    },
    {
      "cell_type": "markdown",
      "metadata": {
        "id": "2YpS9AiT5RSX"
      },
      "source": [
        "##Punto 5##\n",
        "\n",
        "\n",
        "Con 48 cartas:"
      ]
    },
    {
      "cell_type": "markdown",
      "metadata": {
        "id": "YtYBCm75Jkfj"
      },
      "source": [
        ""
      ]
    },
    {
      "cell_type": "code",
      "metadata": {
        "colab": {
          "base_uri": "https://localhost:8080/"
        },
        "id": "ACtAT3Sr5Qyt",
        "outputId": "1507846d-61a8-48d7-af5d-2f86525e5e7d"
      },
      "source": [
        "import random\n",
        "import matplotlib.pyplot as plt\n",
        "\n",
        "import time\n",
        "start_time = time.time()\n",
        "\n",
        "def calculateAndPlot4(n):\n",
        "  totalPlata = 0\n",
        "  for j in range(n):\n",
        "    for i in range(600):\n",
        "      random_choice = random.randint(1,10)\n",
        "      Auxdeck2 = []\n",
        "      my_cards = [7,7,5]\n",
        "      if random_choice == 1:\n",
        "        Auxdeck2 = [1,1,1,1,2,2,2,2]\n",
        "\n",
        "        while(sum(my_cards)<21):\n",
        "          card = random.choice(Auxdeck2)\n",
        "          my_cards.append(card)\n",
        "          Auxdeck2.remove(card)\n",
        "          if sum(my_cards) == 21:\n",
        "            totalPlata += 1500\n",
        "            break\n",
        "          elif sum(my_cards) > 21:\n",
        "            totalPlata -= 1000\n",
        "\n",
        "      else:\n",
        "        Auxdeck2 = [1,2,3,4,5,6,7,10,10,10,1,2,3,4,5,6,7,8,9,10,10,10,1,2,3,4,5,6,7,8,9,10,10,10,1,2,3,4,5,6,7,8,9,10,10,10]\n",
        "        while(sum(my_cards)<21):\n",
        "          card = random.choice(Auxdeck2)\n",
        "          my_cards.append(card)\n",
        "          Auxdeck2.remove(card)\n",
        "          if sum(my_cards) ==21:\n",
        "            totalPlata += 15\n",
        "            break\n",
        "          elif sum(my_cards) > 21:\n",
        "            totalPlata -= 10\n",
        "      \n",
        "      \n",
        "  print(\"Dinero promedio total: \", totalPlata/n) \n",
        "  print(\"--- %s seconds ---\" % (time.time() - start_time))\n",
        "  \n",
        "calculateAndPlot4(10000)"
      ],
      "execution_count": null,
      "outputs": [
        {
          "output_type": "stream",
          "text": [
            "Dinero promedio total:  42989.9335\n",
            "--- 24.954406023025513 seconds ---\n"
          ],
          "name": "stdout"
        }
      ]
    },
    {
      "cell_type": "markdown",
      "metadata": {
        "id": "vA_7s-XwHrNR"
      },
      "source": [
        "Con 52 cartas: "
      ]
    },
    {
      "cell_type": "code",
      "metadata": {
        "colab": {
          "base_uri": "https://localhost:8080/"
        },
        "id": "_cwidfQ1Hxvz",
        "outputId": "e2e9dea7-e42b-48f2-cfb0-7941e76e6c75"
      },
      "source": [
        "import random\n",
        "import matplotlib.pyplot as plt\n",
        "\n",
        "import time\n",
        "start_time = time.time()\n",
        "\n",
        "def calculateAndPlot4(n):\n",
        "  totalPlata = 0\n",
        "  for j in range(n):\n",
        "    for i in range(600):\n",
        "      random_choice = random.randint(1,10)\n",
        "      Auxdeck2 = []\n",
        "      my_cards = [7,7,5]\n",
        "      if random_choice == 1:\n",
        "        Auxdeck2 = [1,1,1,1,2,2,2,2]\n",
        "\n",
        "        while(sum(my_cards)<21):\n",
        "          card = random.choice(Auxdeck2)\n",
        "          my_cards.append(card)\n",
        "          Auxdeck2.remove(card)\n",
        "          if sum(my_cards) == 21:\n",
        "            totalPlata += 1500\n",
        "            break\n",
        "          elif sum(my_cards) > 21:\n",
        "            totalPlata -= 1000\n",
        "\n",
        "      else:\n",
        "        Auxdeck2 = [1,2,3,4,5,6,7,8,9,10,11,12,13,1,2,3,4,5,6,7,8,9,10,10,10,10,1,2,3,4,5,6,7,8,9,10,10,10,10,1,2,3,4,5,6,7,8,9,10,10,10,10]\n",
        "        while(sum(my_cards)<21):\n",
        "          card = random.choice(Auxdeck2)\n",
        "          my_cards.append(card)\n",
        "          Auxdeck2.remove(card)\n",
        "          if sum(my_cards) ==21:\n",
        "            totalPlata += 15\n",
        "            break\n",
        "          elif sum(my_cards) > 21:\n",
        "            totalPlata -= 10\n",
        "      \n",
        "      \n",
        "  print(\"Dinero promedio total: \", totalPlata/n) \n",
        "  print(\"--- %s seconds ---\" % (time.time() - start_time))\n",
        "  \n",
        "calculateAndPlot4(10000)"
      ],
      "execution_count": null,
      "outputs": [
        {
          "output_type": "stream",
          "text": [
            "Dinero promedio total:  42991.407\n",
            "--- 24.61412215232849 seconds ---\n"
          ],
          "name": "stdout"
        }
      ]
    }
  ]
}