{
  "nbformat": 4,
  "nbformat_minor": 0,
  "metadata": {
    "colab": {
      "name": "AlgorithmicToolboxWeek2.ipynb",
      "provenance": [],
      "collapsed_sections": []
    },
    "kernelspec": {
      "name": "python3",
      "display_name": "Python 3"
    },
    "language_info": {
      "name": "python"
    }
  },
  "cells": [
    {
      "cell_type": "markdown",
      "metadata": {
        "id": "LoTcnlkSBEPU"
      },
      "source": [
        "#**Programming Assignment 2:Algorithmic Warm-up**"
      ]
    },
    {
      "cell_type": "markdown",
      "metadata": {
        "id": "SVzXNQsVC4Zd"
      },
      "source": [
        "##Fibonacci Number\n"
      ]
    },
    {
      "cell_type": "code",
      "metadata": {
        "id": "rGsMnV-57K1x",
        "colab": {
          "base_uri": "https://localhost:8080/"
        },
        "outputId": "b9227fc9-6803-4a4f-c052-69d3e14bc545"
      },
      "source": [
        "%%writefile 1_fibonacci.cpp\n",
        "\n",
        "#include <iostream>\n",
        "#include <cassert>\n",
        "\n",
        "int fibonacci_naive(int n) {\n",
        "    if (n <= 1)\n",
        "        return n;\n",
        "\n",
        "    return fibonacci_naive(n - 1) + fibonacci_naive(n - 2);\n",
        "}\n",
        "\n",
        "int fibonacci_fast(int n) {\n",
        "    // write your code here\n",
        "    int aux1 = 0;\n",
        "    int aux2 = 1;\n",
        "    if(n==0) return 0;\n",
        "    for(int i = 1; i<n ;i++){\n",
        "        aux2 += aux1;\n",
        "        aux1 = aux2 - aux1;\n",
        "    }\n",
        "    return aux2;\n",
        "}\n",
        "\n",
        "void test_solution() {\n",
        "    assert(fibonacci_fast(3) == 2);\n",
        "    assert(fibonacci_fast(10) == 55);\n",
        "    for (int n = 0; n < 20; ++n)\n",
        "        assert(fibonacci_fast(n) == fibonacci_naive(n));\n",
        "}\n",
        "\n",
        "int main() {\n",
        "    int n = 0;\n",
        "    std::cin >> n;\n",
        "\n",
        "    //std::cout << fibonacci_naive(n) << '\\n';\n",
        "    //test_solution();\n",
        "    std::cout << fibonacci_fast(n) << '\\n';\n",
        "    return 0;\n",
        "}\n"
      ],
      "execution_count": null,
      "outputs": [
        {
          "output_type": "stream",
          "text": [
            "Overwriting 1_fibonacci.cpp\n"
          ],
          "name": "stdout"
        }
      ]
    },
    {
      "cell_type": "code",
      "metadata": {
        "colab": {
          "base_uri": "https://localhost:8080/"
        },
        "id": "EdECgiTX84y7",
        "outputId": "2f31022a-e166-4b07-a989-7b4ae7e298fb"
      },
      "source": [
        "!g++ 1_fibonacci.cpp -o executable\n",
        "!./executable"
      ],
      "execution_count": null,
      "outputs": [
        {
          "output_type": "stream",
          "text": [
            "10\n",
            "55\n"
          ],
          "name": "stdout"
        }
      ]
    },
    {
      "cell_type": "markdown",
      "metadata": {
        "id": "XKaiTPy8Bzxp"
      },
      "source": [
        "##Last Digit of a Large Fibonacci Number"
      ]
    },
    {
      "cell_type": "code",
      "metadata": {
        "colab": {
          "base_uri": "https://localhost:8080/"
        },
        "id": "DQnn68B29lWi",
        "outputId": "156663d7-90a8-412d-c767-61aa8d3d246a"
      },
      "source": [
        "%%writefile 2_last_fibo.cpp\n",
        "\n",
        "#include <iostream>\n",
        "\n",
        "int get_fibonacci_last_digit_naive(int n) {\n",
        "    if (n <= 1)\n",
        "        return n;\n",
        "\n",
        "    int previous = 0;\n",
        "    int current  = 1;\n",
        "\n",
        "    for (int i = 0; i < n - 1; ++i) {\n",
        "        int tmp_previous = previous;\n",
        "        previous = current%10;\n",
        "        current = (tmp_previous + current)%10;\n",
        "    }\n",
        "\n",
        "    return current;\n",
        "}\n",
        "\n",
        "int main() {\n",
        "    int n;\n",
        "    std::cin >> n;\n",
        "    int c = get_fibonacci_last_digit_naive(n);\n",
        "    std::cout << c << '\\n';\n",
        "    }\n"
      ],
      "execution_count": null,
      "outputs": [
        {
          "output_type": "stream",
          "text": [
            "Overwriting 2_last_fibo.cpp\n"
          ],
          "name": "stdout"
        }
      ]
    },
    {
      "cell_type": "code",
      "metadata": {
        "colab": {
          "base_uri": "https://localhost:8080/"
        },
        "id": "zjocnySA91Os",
        "outputId": "71994484-bc31-497d-8e07-ba3c1e9e3ca7"
      },
      "source": [
        "!g++ 2_last_fibo.cpp -o executable\n",
        "!./executable"
      ],
      "execution_count": null,
      "outputs": [
        {
          "output_type": "stream",
          "text": [
            "331\n",
            "9\n"
          ],
          "name": "stdout"
        }
      ]
    },
    {
      "cell_type": "markdown",
      "metadata": {
        "id": "CjFagcdZBUMX"
      },
      "source": [
        "##Greatest Common Divisor"
      ]
    },
    {
      "cell_type": "code",
      "metadata": {
        "id": "FfrhsL2Q-G9d",
        "colab": {
          "base_uri": "https://localhost:8080/"
        },
        "outputId": "0556b724-f45c-407f-fbf6-6f4bbeca7a73"
      },
      "source": [
        "%%writefile gcd.cpp\n",
        "\n",
        "#include <iostream>\n",
        "\n",
        "int gcd_naive(int a, int b) {\n",
        "  int a1 = a%b;\n",
        "  \n",
        "  if (a1 == 0) return b;\n",
        "  else return gcd_naive(b,a1);\n",
        "}\n",
        "\n",
        "int main() {\n",
        "  int a, b;\n",
        "  std::cin >> a >> b;\n",
        "  std::cout << gcd_naive(a, b) << std::endl;\n",
        "  return 0;\n",
        "}\n"
      ],
      "execution_count": null,
      "outputs": [
        {
          "output_type": "stream",
          "text": [
            "Writing gcd.cpp\n"
          ],
          "name": "stdout"
        }
      ]
    },
    {
      "cell_type": "code",
      "metadata": {
        "id": "VWNZNv7A-N6R",
        "colab": {
          "base_uri": "https://localhost:8080/"
        },
        "outputId": "834675fd-1df4-45ba-974f-5ff3a33d9897"
      },
      "source": [
        "!g++ gcd.cpp -o executable\n",
        "!./executable"
      ],
      "execution_count": null,
      "outputs": [
        {
          "output_type": "stream",
          "text": [
            "28851538 1183019\n",
            "17657\n"
          ],
          "name": "stdout"
        }
      ]
    },
    {
      "cell_type": "markdown",
      "metadata": {
        "id": "yTZi2GIIB-D4"
      },
      "source": [
        "##Least Common Multiple"
      ]
    },
    {
      "cell_type": "code",
      "metadata": {
        "colab": {
          "base_uri": "https://localhost:8080/"
        },
        "id": "V8MFOcFU-RS-",
        "outputId": "90ca3330-c110-47ad-9c90-da587f954ec9"
      },
      "source": [
        "%%writefile lcm.cpp\n",
        "\n",
        "#include <iostream>\n",
        "\n",
        "long long lcm_naive(int a, int b) {\n",
        "  long long aux1 = 0;\n",
        "  for (long l = 1; aux1 <= (long long) a * b; l++)\n",
        "  {\n",
        "    aux1 = a*l;\n",
        "    if (aux1 % b == 0)\n",
        "      return aux1;\n",
        "  }\n",
        "  return (long long) a * b;\n",
        "}\n",
        "\n",
        "int main() {\n",
        "  int a, b;\n",
        "  std::cin >> a >> b;\n",
        "  std::cout << lcm_naive(a, b) << std::endl;\n",
        "  return 0;\n",
        "}\n"
      ],
      "execution_count": null,
      "outputs": [
        {
          "output_type": "stream",
          "text": [
            "Overwriting lcm.cpp\n"
          ],
          "name": "stdout"
        }
      ]
    },
    {
      "cell_type": "code",
      "metadata": {
        "colab": {
          "base_uri": "https://localhost:8080/"
        },
        "id": "AdvBqv31-Yv3",
        "outputId": "1b14cc46-3242-4151-ddbe-28853c8cc45c"
      },
      "source": [
        "!g++ lcm.cpp -o executable\n",
        "!./executable"
      ],
      "execution_count": null,
      "outputs": [
        {
          "output_type": "stream",
          "text": [
            "761457 614573\n",
            "467970912861\n"
          ],
          "name": "stdout"
        }
      ]
    },
    {
      "cell_type": "markdown",
      "metadata": {
        "id": "TEhtinSZBcdO"
      },
      "source": [
        "##Fibonacci Number Again"
      ]
    },
    {
      "cell_type": "code",
      "metadata": {
        "colab": {
          "base_uri": "https://localhost:8080/"
        },
        "id": "WKhp9gbR-6Eh",
        "outputId": "0aff0166-a384-4dd4-e462-3e99f16dfa8c"
      },
      "source": [
        "%%writefile 5_fibo.cpp\n",
        "\n",
        "#include <iostream>\n",
        "#include <string>   \n",
        "using namespace std;\n",
        "int get_fibonacci_huge_naive(long long n, long long m) {\n",
        "    int period = 1;\n",
        "    if (n <= 1)\n",
        "        return period+1;\n",
        "    \n",
        "    int previous = 0;\n",
        "    int current  = 1;\n",
        "\n",
        "    while(true) {\n",
        "        //cout<<previous<<endl;\n",
        "        long long tmp_previous = previous;\n",
        "        previous = current%m;\n",
        "        current = (tmp_previous + current)%m;\n",
        "\n",
        "        if(previous== 0 && current==1) return period;\n",
        "        else period ++;\n",
        "    }\n",
        "\n",
        "    return period;\n",
        "}\n",
        "long long fibonacci_fast(long long n, long long m) {\n",
        "    // write your code here\n",
        "    long long aux1 = 0;\n",
        "    long long aux2 = 1;\n",
        "    if(n==0) return 0;\n",
        "    for(int i = 1; i<n ;i++){\n",
        "        long long aux3 = aux2;\n",
        "        aux2 = (aux2 + aux1)%m;\n",
        "        aux1 = (aux3)%m;\n",
        "        //cout<<aux2<<endl;\n",
        "    }\n",
        "    return aux2%m;\n",
        "}\n",
        "\n",
        "int main() {\n",
        "    long long n, m;\n",
        "    cin >> n >> m;\n",
        "    long long equal = n%get_fibonacci_huge_naive(n, m);\n",
        "    //cout<<equal<<endl;\n",
        "    equal = fibonacci_fast(equal, m);\n",
        "    cout<<equal<<endl;\n",
        "}\n"
      ],
      "execution_count": null,
      "outputs": [
        {
          "output_type": "stream",
          "text": [
            "Overwriting 5_fibo.cpp\n"
          ],
          "name": "stdout"
        }
      ]
    },
    {
      "cell_type": "code",
      "metadata": {
        "colab": {
          "base_uri": "https://localhost:8080/"
        },
        "id": "7U5XLmGt_Bl-",
        "outputId": "c6a97264-bec6-48c4-d650-f62736a4edaa"
      },
      "source": [
        "!g++ 5_fibo.cpp -o executable\n",
        "!./executable"
      ],
      "execution_count": null,
      "outputs": [
        {
          "output_type": "stream",
          "text": [
            "2816213588 239\n",
            "151\n"
          ],
          "name": "stdout"
        }
      ]
    },
    {
      "cell_type": "markdown",
      "metadata": {
        "id": "wPnZh7AQCFAE"
      },
      "source": [
        "##Last Digit of the Sum of Fibonacci Numbers"
      ]
    },
    {
      "cell_type": "code",
      "metadata": {
        "colab": {
          "base_uri": "https://localhost:8080/"
        },
        "id": "0tT7WXeh_MpE",
        "outputId": "84961f22-9101-479b-9af3-26fb15173f94"
      },
      "source": [
        "%%writefile 6_last_sum_fibo.cpp\n",
        "\n",
        "#include <iostream>\n",
        "\n",
        "int fibo_sum_mod(long long n, int m) {\n",
        "    if (n <= 1)\n",
        "        return n;\n",
        "    long long previous = 0;\n",
        "    long long current  = 1;\n",
        "    long long sum      = 1;\n",
        "\n",
        "    for (long long i = 0; i < n - 1; ++i) {\n",
        "        long long tmp_previous = previous;\n",
        "        previous = current%10;\n",
        "        current = (tmp_previous + current)%10;\n",
        "        sum = (sum + current)%10;\n",
        "    }\n",
        "    //std::cout<<sum<<std::endl;\n",
        "    return sum;\n",
        "}\n",
        "int get_period(long long m) {\n",
        "    int period = 1;\n",
        "    if (m <= 1)\n",
        "        return period-1;\n",
        "    \n",
        "    int previous = 0;\n",
        "    int current  = 1;\n",
        "    int sum      = 1;\n",
        "    while(true) {\n",
        "        //cout<<previous<<endl;\n",
        "        long long tmp_previous = previous;\n",
        "        previous = current%m;\n",
        "        current = (tmp_previous + current)%m;\n",
        "\n",
        "        if(previous== 0 && current==1) return period;\n",
        "        else period ++;\n",
        "    }\n",
        "\n",
        "    return period;\n",
        "}\n",
        "int main() {\n",
        "\n",
        "    //int sum60 = fibo_sum_mod(period, mod);\n",
        "    long long n;\n",
        "   std::cin >> n;\n",
        "   // std::cout <<n<<std::endl;\n",
        "    long long equalN = n%60;\n",
        "    //std::cout <<equalN<<std::endl;\n",
        "    std::cout << fibo_sum_mod(equalN, 10);\n",
        "}\n"
      ],
      "execution_count": null,
      "outputs": [
        {
          "output_type": "stream",
          "text": [
            "Overwriting 6_last_sum_fibo.cpp\n"
          ],
          "name": "stdout"
        }
      ]
    },
    {
      "cell_type": "code",
      "metadata": {
        "id": "vA5DWbQb_Siw",
        "colab": {
          "base_uri": "https://localhost:8080/"
        },
        "outputId": "6ed4e28f-1194-4859-9ff7-941ff2912eb0"
      },
      "source": [
        "!g++ 6_last_sum_fibo.cpp -o executable\n",
        "!./executable"
      ],
      "execution_count": null,
      "outputs": [
        {
          "output_type": "stream",
          "text": [
            "3\n",
            "4"
          ],
          "name": "stdout"
        }
      ]
    },
    {
      "cell_type": "markdown",
      "metadata": {
        "id": "Bx3clbXqBkhW"
      },
      "source": [
        "##Last Digit of the Sum of Fibonacci Numbers Again"
      ]
    },
    {
      "cell_type": "code",
      "metadata": {
        "colab": {
          "base_uri": "https://localhost:8080/"
        },
        "id": "svDAVJaC_bBQ",
        "outputId": "4590798d-9e6b-4b27-d07e-ee991d497c58"
      },
      "source": [
        "%%writefile 7_last_sum_fibo.cpp\n",
        "\n",
        "#include <iostream>\n",
        "#include <vector>\n",
        "using std::vector;\n",
        "\n",
        "long long fibo_sum_mod(long long n, int m) {\n",
        "    if(n == -1)\n",
        "        return 0;\n",
        "    if (n <= 1)\n",
        "        return n;\n",
        "    long long previous = 0;\n",
        "    long long current  = 1;\n",
        "    long long sum      = 1;\n",
        "\n",
        "    for (long long i = 0; i < n - 1; ++i) {\n",
        "        long long tmp_previous = previous;\n",
        "        previous = current%10;\n",
        "        current = (tmp_previous + current)%10;\n",
        "        sum = (sum + current);\n",
        "        //std::cout<<sum<<std::endl;\n",
        "    }\n",
        "    \n",
        "    return sum;\n",
        "\n",
        "}\n",
        "int main() {\n",
        "    long long from, to;\n",
        "    std::cin >> from >> to;\n",
        "    to = (to)%60;\n",
        "    from = (from-1)%60;\n",
        "    \n",
        "    long long resultTo = fibo_sum_mod(to, 10);\n",
        "    long long resultFrom = fibo_sum_mod(from, 10);\n",
        "    //std::cout<<resultFrom<<std::endl;\n",
        "    //std::cout<<resultTo<<std::endl;\n",
        "    int result = (resultTo-resultFrom)%10;\n",
        "    if(result<0) result =(10 +result)%10;\n",
        "    std::cout<<result<<std::endl;\n",
        "}\n"
      ],
      "execution_count": null,
      "outputs": [
        {
          "output_type": "stream",
          "text": [
            "Overwriting 7_last_sum_fibo.cpp\n"
          ],
          "name": "stdout"
        }
      ]
    },
    {
      "cell_type": "code",
      "metadata": {
        "colab": {
          "base_uri": "https://localhost:8080/"
        },
        "id": "X8MWHnEM_r2X",
        "outputId": "fea399a9-d6a1-4d24-eb97-dbd9891182fc"
      },
      "source": [
        "!g++ 7_last_sum_fibo.cpp -o executable\n",
        "!./executable"
      ],
      "execution_count": null,
      "outputs": [
        {
          "output_type": "stream",
          "text": [
            "10 200\n",
            "2\n"
          ],
          "name": "stdout"
        }
      ]
    },
    {
      "cell_type": "markdown",
      "metadata": {
        "id": "duMjRg2DCJ3Z"
      },
      "source": [
        "##Last Digit of the Sum of Squares of Fibonacci Numbers"
      ]
    },
    {
      "cell_type": "code",
      "metadata": {
        "colab": {
          "base_uri": "https://localhost:8080/"
        },
        "id": "GN0umS_e_1Ee",
        "outputId": "6db9ea7b-9345-4911-97f7-19289b975efb"
      },
      "source": [
        "%%writefile 8_last_sum_fibo.cpp\n",
        "#include <iostream>\n",
        "\n",
        "using namespace std;\n",
        "int fibo_func(int n, int m){\n",
        "\n",
        "    if(n<=1) return n%10;\n",
        "    int previous = 0;\n",
        "    int current = 1;\n",
        "\n",
        "    for(int i = 0; i<n-1; i++){\n",
        "        int aux = previous;\n",
        "        previous = current%10;\n",
        "        current = (aux + current)%10;\n",
        "    }\n",
        "\n",
        "    return current;\n",
        "}\n",
        "\n",
        "int main(){\n",
        "    int n;\n",
        "    cin>>n;\n",
        "    int n1 = fibo_func(n%60,10);\n",
        "    int n2 = fibo_func((n-1)%60,10);\n",
        "    int total = (n1*n1 + n1*n2)%10;\n",
        "    cout<<total<<endl;\n",
        "}"
      ],
      "execution_count": null,
      "outputs": [
        {
          "output_type": "stream",
          "text": [
            "Overwriting 8_last_sum_fibo.cpp\n"
          ],
          "name": "stdout"
        }
      ]
    },
    {
      "cell_type": "code",
      "metadata": {
        "colab": {
          "base_uri": "https://localhost:8080/"
        },
        "id": "TQBmVwo-_-Su",
        "outputId": "b9eb1ae8-f256-493c-d422-b14994699859"
      },
      "source": [
        "!g++ 8_last_sum_fibo.cpp -o executable\n",
        "!./executable"
      ],
      "execution_count": null,
      "outputs": [
        {
          "output_type": "stream",
          "text": [
            "73\n",
            "1\n"
          ],
          "name": "stdout"
        }
      ]
    },
    {
      "cell_type": "markdown",
      "metadata": {
        "id": "QoaP5qKvDVqF"
      },
      "source": [
        "##Captura\n"
      ]
    },
    {
      "cell_type": "markdown",
      "metadata": {
        "id": "p7V9fdEsDRlW"
      },
      "source": [
        "![Captura.PNG](data:image/png;base64,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)"
      ]
    }
  ]
}