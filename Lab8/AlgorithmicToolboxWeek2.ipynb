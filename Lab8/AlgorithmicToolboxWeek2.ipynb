{
  "nbformat": 4,
  "nbformat_minor": 0,
  "metadata": {
    "colab": {
      "name": "AlgorithmicToolboxWeek2.ipynb",
      "provenance": [],
      "collapsed_sections": [],
      "toc_visible": true
    },
    "kernelspec": {
      "name": "python3",
      "display_name": "Python 3"
    },
    "language_info": {
      "name": "python"
    }
  },
  "cells": [
    {
      "cell_type": "markdown",
      "metadata": {
        "id": "LoTcnlkSBEPU"
      },
      "source": [
        "#**Programming Assignment 2:Algorithmic Warm-up**"
      ]
    },
    {
      "cell_type": "markdown",
      "metadata": {
        "id": "SVzXNQsVC4Zd"
      },
      "source": [
        "##Fibonacci Number\n"
      ]
    },
    {
      "cell_type": "code",
      "metadata": {
        "id": "rGsMnV-57K1x",
        "colab": {
          "base_uri": "https://localhost:8080/"
        },
        "outputId": "b9227fc9-6803-4a4f-c052-69d3e14bc545"
      },
      "source": [
        "%%writefile 1_fibonacci.cpp\n",
        "\n",
        "#include <iostream>\n",
        "#include <cassert>\n",
        "\n",
        "int fibonacci_naive(int n) {\n",
        "    if (n <= 1)\n",
        "        return n;\n",
        "\n",
        "    return fibonacci_naive(n - 1) + fibonacci_naive(n - 2);\n",
        "}\n",
        "\n",
        "int fibonacci_fast(int n) {\n",
        "    // write your code here\n",
        "    int aux1 = 0;\n",
        "    int aux2 = 1;\n",
        "    if(n==0) return 0;\n",
        "    for(int i = 1; i<n ;i++){\n",
        "        aux2 += aux1;\n",
        "        aux1 = aux2 - aux1;\n",
        "    }\n",
        "    return aux2;\n",
        "}\n",
        "\n",
        "void test_solution() {\n",
        "    assert(fibonacci_fast(3) == 2);\n",
        "    assert(fibonacci_fast(10) == 55);\n",
        "    for (int n = 0; n < 20; ++n)\n",
        "        assert(fibonacci_fast(n) == fibonacci_naive(n));\n",
        "}\n",
        "\n",
        "int main() {\n",
        "    int n = 0;\n",
        "    std::cin >> n;\n",
        "\n",
        "    //std::cout << fibonacci_naive(n) << '\\n';\n",
        "    //test_solution();\n",
        "    std::cout << fibonacci_fast(n) << '\\n';\n",
        "    return 0;\n",
        "}\n"
      ],
      "execution_count": null,
      "outputs": [
        {
          "output_type": "stream",
          "text": [
            "Overwriting 1_fibonacci.cpp\n"
          ],
          "name": "stdout"
        }
      ]
    },
    {
      "cell_type": "code",
      "metadata": {
        "colab": {
          "base_uri": "https://localhost:8080/"
        },
        "id": "EdECgiTX84y7",
        "outputId": "2f31022a-e166-4b07-a989-7b4ae7e298fb"
      },
      "source": [
        "!g++ 1_fibonacci.cpp -o executable\n",
        "!./executable"
      ],
      "execution_count": null,
      "outputs": [
        {
          "output_type": "stream",
          "text": [
            "10\n",
            "55\n"
          ],
          "name": "stdout"
        }
      ]
    },
    {
      "cell_type": "markdown",
      "metadata": {
        "id": "XKaiTPy8Bzxp"
      },
      "source": [
        "##Last Digit of a Large Fibonacci Number"
      ]
    },
    {
      "cell_type": "code",
      "metadata": {
        "colab": {
          "base_uri": "https://localhost:8080/"
        },
        "id": "DQnn68B29lWi",
        "outputId": "156663d7-90a8-412d-c767-61aa8d3d246a"
      },
      "source": [
        "%%writefile 2_last_fibo.cpp\n",
        "\n",
        "#include <iostream>\n",
        "\n",
        "int get_fibonacci_last_digit_naive(int n) {\n",
        "    if (n <= 1)\n",
        "        return n;\n",
        "\n",
        "    int previous = 0;\n",
        "    int current  = 1;\n",
        "\n",
        "    for (int i = 0; i < n - 1; ++i) {\n",
        "        int tmp_previous = previous;\n",
        "        previous = current%10;\n",
        "        current = (tmp_previous + current)%10;\n",
        "    }\n",
        "\n",
        "    return current;\n",
        "}\n",
        "\n",
        "int main() {\n",
        "    int n;\n",
        "    std::cin >> n;\n",
        "    int c = get_fibonacci_last_digit_naive(n);\n",
        "    std::cout << c << '\\n';\n",
        "    }\n"
      ],
      "execution_count": null,
      "outputs": [
        {
          "output_type": "stream",
          "text": [
            "Overwriting 2_last_fibo.cpp\n"
          ],
          "name": "stdout"
        }
      ]
    },
    {
      "cell_type": "code",
      "metadata": {
        "colab": {
          "base_uri": "https://localhost:8080/"
        },
        "id": "zjocnySA91Os",
        "outputId": "71994484-bc31-497d-8e07-ba3c1e9e3ca7"
      },
      "source": [
        "!g++ 2_last_fibo.cpp -o executable\n",
        "!./executable"
      ],
      "execution_count": null,
      "outputs": [
        {
          "output_type": "stream",
          "text": [
            "331\n",
            "9\n"
          ],
          "name": "stdout"
        }
      ]
    },
    {
      "cell_type": "markdown",
      "metadata": {
        "id": "CjFagcdZBUMX"
      },
      "source": [
        "##Greatest Common Divisor"
      ]
    },
    {
      "cell_type": "code",
      "metadata": {
        "id": "FfrhsL2Q-G9d",
        "colab": {
          "base_uri": "https://localhost:8080/"
        },
        "outputId": "0556b724-f45c-407f-fbf6-6f4bbeca7a73"
      },
      "source": [
        "%%writefile gcd.cpp\n",
        "\n",
        "#include <iostream>\n",
        "\n",
        "int gcd_naive(int a, int b) {\n",
        "  int a1 = a%b;\n",
        "  \n",
        "  if (a1 == 0) return b;\n",
        "  else return gcd_naive(b,a1);\n",
        "}\n",
        "\n",
        "int main() {\n",
        "  int a, b;\n",
        "  std::cin >> a >> b;\n",
        "  std::cout << gcd_naive(a, b) << std::endl;\n",
        "  return 0;\n",
        "}\n"
      ],
      "execution_count": null,
      "outputs": [
        {
          "output_type": "stream",
          "text": [
            "Writing gcd.cpp\n"
          ],
          "name": "stdout"
        }
      ]
    },
    {
      "cell_type": "code",
      "metadata": {
        "id": "VWNZNv7A-N6R",
        "colab": {
          "base_uri": "https://localhost:8080/"
        },
        "outputId": "834675fd-1df4-45ba-974f-5ff3a33d9897"
      },
      "source": [
        "!g++ gcd.cpp -o executable\n",
        "!./executable"
      ],
      "execution_count": null,
      "outputs": [
        {
          "output_type": "stream",
          "text": [
            "28851538 1183019\n",
            "17657\n"
          ],
          "name": "stdout"
        }
      ]
    },
    {
      "cell_type": "markdown",
      "metadata": {
        "id": "yTZi2GIIB-D4"
      },
      "source": [
        "##Least Common Multiple"
      ]
    },
    {
      "cell_type": "code",
      "metadata": {
        "colab": {
          "base_uri": "https://localhost:8080/"
        },
        "id": "V8MFOcFU-RS-",
        "outputId": "90ca3330-c110-47ad-9c90-da587f954ec9"
      },
      "source": [
        "%%writefile lcm.cpp\n",
        "\n",
        "#include <iostream>\n",
        "\n",
        "long long lcm_naive(int a, int b) {\n",
        "  long long aux1 = 0;\n",
        "  for (long l = 1; aux1 <= (long long) a * b; l++)\n",
        "  {\n",
        "    aux1 = a*l;\n",
        "    if (aux1 % b == 0)\n",
        "      return aux1;\n",
        "  }\n",
        "  return (long long) a * b;\n",
        "}\n",
        "\n",
        "int main() {\n",
        "  int a, b;\n",
        "  std::cin >> a >> b;\n",
        "  std::cout << lcm_naive(a, b) << std::endl;\n",
        "  return 0;\n",
        "}\n"
      ],
      "execution_count": null,
      "outputs": [
        {
          "output_type": "stream",
          "text": [
            "Overwriting lcm.cpp\n"
          ],
          "name": "stdout"
        }
      ]
    },
    {
      "cell_type": "code",
      "metadata": {
        "colab": {
          "base_uri": "https://localhost:8080/"
        },
        "id": "AdvBqv31-Yv3",
        "outputId": "1b14cc46-3242-4151-ddbe-28853c8cc45c"
      },
      "source": [
        "!g++ lcm.cpp -o executable\n",
        "!./executable"
      ],
      "execution_count": null,
      "outputs": [
        {
          "output_type": "stream",
          "text": [
            "761457 614573\n",
            "467970912861\n"
          ],
          "name": "stdout"
        }
      ]
    },
    {
      "cell_type": "markdown",
      "metadata": {
        "id": "TEhtinSZBcdO"
      },
      "source": [
        "##Fibonacci Number Again"
      ]
    },
    {
      "cell_type": "code",
      "metadata": {
        "colab": {
          "base_uri": "https://localhost:8080/"
        },
        "id": "WKhp9gbR-6Eh",
        "outputId": "0aff0166-a384-4dd4-e462-3e99f16dfa8c"
      },
      "source": [
        "%%writefile 5_fibo.cpp\n",
        "\n",
        "#include <iostream>\n",
        "#include <string>   \n",
        "using namespace std;\n",
        "int get_fibonacci_huge_naive(long long n, long long m) {\n",
        "    int period = 1;\n",
        "    if (n <= 1)\n",
        "        return period+1;\n",
        "    \n",
        "    int previous = 0;\n",
        "    int current  = 1;\n",
        "\n",
        "    while(true) {\n",
        "        //cout<<previous<<endl;\n",
        "        long long tmp_previous = previous;\n",
        "        previous = current%m;\n",
        "        current = (tmp_previous + current)%m;\n",
        "\n",
        "        if(previous== 0 && current==1) return period;\n",
        "        else period ++;\n",
        "    }\n",
        "\n",
        "    return period;\n",
        "}\n",
        "long long fibonacci_fast(long long n, long long m) {\n",
        "    // write your code here\n",
        "    long long aux1 = 0;\n",
        "    long long aux2 = 1;\n",
        "    if(n==0) return 0;\n",
        "    for(int i = 1; i<n ;i++){\n",
        "        long long aux3 = aux2;\n",
        "        aux2 = (aux2 + aux1)%m;\n",
        "        aux1 = (aux3)%m;\n",
        "        //cout<<aux2<<endl;\n",
        "    }\n",
        "    return aux2%m;\n",
        "}\n",
        "\n",
        "int main() {\n",
        "    long long n, m;\n",
        "    cin >> n >> m;\n",
        "    long long equal = n%get_fibonacci_huge_naive(n, m);\n",
        "    //cout<<equal<<endl;\n",
        "    equal = fibonacci_fast(equal, m);\n",
        "    cout<<equal<<endl;\n",
        "}\n"
      ],
      "execution_count": null,
      "outputs": [
        {
          "output_type": "stream",
          "text": [
            "Overwriting 5_fibo.cpp\n"
          ],
          "name": "stdout"
        }
      ]
    },
    {
      "cell_type": "code",
      "metadata": {
        "colab": {
          "base_uri": "https://localhost:8080/"
        },
        "id": "7U5XLmGt_Bl-",
        "outputId": "c6a97264-bec6-48c4-d650-f62736a4edaa"
      },
      "source": [
        "!g++ 5_fibo.cpp -o executable\n",
        "!./executable"
      ],
      "execution_count": null,
      "outputs": [
        {
          "output_type": "stream",
          "text": [
            "2816213588 239\n",
            "151\n"
          ],
          "name": "stdout"
        }
      ]
    },
    {
      "cell_type": "markdown",
      "metadata": {
        "id": "wPnZh7AQCFAE"
      },
      "source": [
        "##Last Digit of the Sum of Fibonacci Numbers"
      ]
    },
    {
      "cell_type": "code",
      "metadata": {
        "colab": {
          "base_uri": "https://localhost:8080/"
        },
        "id": "0tT7WXeh_MpE",
        "outputId": "67256641-eb47-462b-e768-839990eb3677"
      },
      "source": [
        "%%writefile 6_last_sum_fibo.cpp\n",
        "\n",
        "#include <iostream>\n",
        "\n",
        "int fibo_sum_mod(long long n, int m) {\n",
        "    if (n <= 1)\n",
        "        return n;\n",
        "    long long previous = 0;\n",
        "    long long current  = 1;\n",
        "    long long sum      = 1;\n",
        "\n",
        "    for (long long i = 0; i < n - 1; ++i) {\n",
        "        long long tmp_previous = previous;\n",
        "        previous = current%10;\n",
        "        current = (tmp_previous + current)%10;\n",
        "        sum = (sum + current)%10;\n",
        "    }\n",
        "    //std::cout<<sum<<std::endl;\n",
        "    return sum;\n",
        "}\n",
        "int get_period(long long m) {\n",
        "    int period = 1;\n",
        "    if (m <= 1)\n",
        "        return period-1;\n",
        "    \n",
        "    int previous = 0;\n",
        "    int current  = 1;\n",
        "    int sum      = 1;\n",
        "    while(true) {\n",
        "        //cout<<previous<<endl;\n",
        "        long long tmp_previous = previous;\n",
        "        previous = current%m;\n",
        "        current = (tmp_previous + current)%m;\n",
        "\n",
        "        if(previous== 0 && current==1) return period;\n",
        "        else period ++;\n",
        "    }\n",
        "\n",
        "    return period;\n",
        "}\n",
        "int main() {\n",
        "\n",
        "    //int sum60 = fibo_sum_mod(period, mod);\n",
        "    long long n;\n",
        "   std::cin >> n;\n",
        "   // std::cout <<n<<std::endl;\n",
        "    long long equalN = n%60;\n",
        "    //std::cout <<equalN<<std::endl;\n",
        "    std::cout << fibo_sum_mod(equalN, 10);\n",
        "}\n"
      ],
      "execution_count": null,
      "outputs": [
        {
          "output_type": "stream",
          "text": [
            "Overwriting 6_last_sum_fibo.cpp\n"
          ],
          "name": "stdout"
        }
      ]
    },
    {
      "cell_type": "code",
      "metadata": {
        "colab": {
          "base_uri": "https://localhost:8080/"
        },
        "id": "vA5DWbQb_Siw",
        "outputId": "625d5f6e-bf4f-4d8d-f7ce-110d055db567"
      },
      "source": [
        "!g++ 6_last_sum_fibo.cpp -o executable\n",
        "!./executable"
      ],
      "execution_count": null,
      "outputs": [
        {
          "output_type": "stream",
          "text": [
            "100\n",
            "5"
          ],
          "name": "stdout"
        }
      ]
    },
    {
      "cell_type": "markdown",
      "metadata": {
        "id": "Bx3clbXqBkhW"
      },
      "source": [
        "##Last Digit of the Sum of Fibonacci Numbers Again"
      ]
    },
    {
      "cell_type": "code",
      "metadata": {
        "colab": {
          "base_uri": "https://localhost:8080/"
        },
        "id": "svDAVJaC_bBQ",
        "outputId": "4590798d-9e6b-4b27-d07e-ee991d497c58"
      },
      "source": [
        "%%writefile 7_last_sum_fibo.cpp\n",
        "\n",
        "#include <iostream>\n",
        "#include <vector>\n",
        "using std::vector;\n",
        "\n",
        "long long fibo_sum_mod(long long n, int m) {\n",
        "    if(n == -1)\n",
        "        return 0;\n",
        "    if (n <= 1)\n",
        "        return n;\n",
        "    long long previous = 0;\n",
        "    long long current  = 1;\n",
        "    long long sum      = 1;\n",
        "\n",
        "    for (long long i = 0; i < n - 1; ++i) {\n",
        "        long long tmp_previous = previous;\n",
        "        previous = current%10;\n",
        "        current = (tmp_previous + current)%10;\n",
        "        sum = (sum + current);\n",
        "        //std::cout<<sum<<std::endl;\n",
        "    }\n",
        "    \n",
        "    return sum;\n",
        "\n",
        "}\n",
        "int main() {\n",
        "    long long from, to;\n",
        "    std::cin >> from >> to;\n",
        "    to = (to)%60;\n",
        "    from = (from-1)%60;\n",
        "    \n",
        "    long long resultTo = fibo_sum_mod(to, 10);\n",
        "    long long resultFrom = fibo_sum_mod(from, 10);\n",
        "    //std::cout<<resultFrom<<std::endl;\n",
        "    //std::cout<<resultTo<<std::endl;\n",
        "    int result = (resultTo-resultFrom)%10;\n",
        "    if(result<0) result =(10 +result)%10;\n",
        "    std::cout<<result<<std::endl;\n",
        "}\n"
      ],
      "execution_count": null,
      "outputs": [
        {
          "output_type": "stream",
          "text": [
            "Overwriting 7_last_sum_fibo.cpp\n"
          ],
          "name": "stdout"
        }
      ]
    },
    {
      "cell_type": "code",
      "metadata": {
        "colab": {
          "base_uri": "https://localhost:8080/"
        },
        "id": "X8MWHnEM_r2X",
        "outputId": "fea399a9-d6a1-4d24-eb97-dbd9891182fc"
      },
      "source": [
        "!g++ 7_last_sum_fibo.cpp -o executable\n",
        "!./executable"
      ],
      "execution_count": null,
      "outputs": [
        {
          "output_type": "stream",
          "text": [
            "10 200\n",
            "2\n"
          ],
          "name": "stdout"
        }
      ]
    },
    {
      "cell_type": "markdown",
      "metadata": {
        "id": "duMjRg2DCJ3Z"
      },
      "source": [
        "##Last Digit of the Sum of Squares of Fibonacci Numbers"
      ]
    },
    {
      "cell_type": "code",
      "metadata": {
        "colab": {
          "base_uri": "https://localhost:8080/"
        },
        "id": "GN0umS_e_1Ee",
        "outputId": "6db9ea7b-9345-4911-97f7-19289b975efb"
      },
      "source": [
        "%%writefile 8_last_sum_fibo.cpp\n",
        "#include <iostream>\n",
        "\n",
        "using namespace std;\n",
        "int fibo_func(int n, int m){\n",
        "\n",
        "    if(n<=1) return n%10;\n",
        "    int previous = 0;\n",
        "    int current = 1;\n",
        "\n",
        "    for(int i = 0; i<n-1; i++){\n",
        "        int aux = previous;\n",
        "        previous = current%10;\n",
        "        current = (aux + current)%10;\n",
        "    }\n",
        "\n",
        "    return current;\n",
        "}\n",
        "\n",
        "int main(){\n",
        "    int n;\n",
        "    cin>>n;\n",
        "    int n1 = fibo_func(n%60,10);\n",
        "    int n2 = fibo_func((n-1)%60,10);\n",
        "    int total = (n1*n1 + n1*n2)%10;\n",
        "    cout<<total<<endl;\n",
        "}"
      ],
      "execution_count": null,
      "outputs": [
        {
          "output_type": "stream",
          "text": [
            "Overwriting 8_last_sum_fibo.cpp\n"
          ],
          "name": "stdout"
        }
      ]
    },
    {
      "cell_type": "code",
      "metadata": {
        "colab": {
          "base_uri": "https://localhost:8080/"
        },
        "id": "TQBmVwo-_-Su",
        "outputId": "b9eb1ae8-f256-493c-d422-b14994699859"
      },
      "source": [
        "!g++ 8_last_sum_fibo.cpp -o executable\n",
        "!./executable"
      ],
      "execution_count": null,
      "outputs": [
        {
          "output_type": "stream",
          "text": [
            "73\n",
            "1\n"
          ],
          "name": "stdout"
        }
      ]
    }
  ]
}