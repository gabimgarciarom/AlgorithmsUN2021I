{
  "nbformat": 4,
  "nbformat_minor": 0,
  "metadata": {
    "kernelspec": {
      "display_name": "Python 3",
      "language": "python",
      "name": "python3"
    },
    "language_info": {
      "codemirror_mode": {
        "name": "ipython",
        "version": 3
      },
      "file_extension": ".py",
      "mimetype": "text/x-python",
      "name": "python",
      "nbconvert_exporter": "python",
      "pygments_lexer": "ipython3",
      "version": "3.6.4"
    },
    "colab": {
      "name": "ggarciaroTutorial4.ipynb",
      "provenance": [],
      "collapsed_sections": []
    }
  },
  "cells": [
    {
      "cell_type": "markdown",
      "metadata": {
        "id": "CuIzONe4x8ck"
      },
      "source": [
        "#Introduction to Financial Python\n"
      ]
    },
    {
      "cell_type": "markdown",
      "metadata": {
        "id": "ilPcXlf-8NRv"
      },
      "source": [
        "##NumPy and Basic Pandas\n"
      ]
    },
    {
      "cell_type": "markdown",
      "metadata": {
        "id": "czR5R6Vq8R8m"
      },
      "source": [
        "###Introduction\n",
        "Now that we have introduced the fundamentals of Python, it's time to learn about NumPy and Pandas.\n",
        "\n"
      ]
    },
    {
      "cell_type": "markdown",
      "metadata": {
        "id": "8-37V5mW8VwM"
      },
      "source": [
        "###NumPy\n",
        "NumPy is the core library for scientific computing in Python. It provides a high-performance multidimensional array object, and tools for working with these arrays. It also has strong integration with Pandas, which is another powerful tool for manipulating financial data.\n",
        "\n",
        "Python packages like NumPy and Pandas contain classes and methods which we can use by importing the package:"
      ]
    },
    {
      "cell_type": "code",
      "metadata": {
        "id": "zVA54wFox7g4"
      },
      "source": [
        "import numpy as np"
      ],
      "execution_count": 1,
      "outputs": []
    },
    {
      "cell_type": "markdown",
      "metadata": {
        "id": "zebuoaJ2yGUN"
      },
      "source": [
        "####Basic NumPy Arrays\n",
        "A NumPy array is a grid of values, all of the same type, and is indexed by a tuple of nonnegative integers. Here we make an array by passing a list of Apple stock prices:"
      ]
    },
    {
      "cell_type": "code",
      "metadata": {
        "id": "x4aWMnfTx7hA",
        "colab": {
          "base_uri": "https://localhost:8080/"
        },
        "outputId": "a3761db5-dfaa-4caf-8de5-6b4b123e99d1"
      },
      "source": [
        "price_list = [143.73, 145.83, 143.68, 144.02, 143.5, 142.62]\n",
        "price_array = np.array(price_list)\n",
        "print(price_array, type(price_array))"
      ],
      "execution_count": 2,
      "outputs": [
        {
          "output_type": "stream",
          "text": [
            "[143.73 145.83 143.68 144.02 143.5  142.62] <class 'numpy.ndarray'>\n"
          ],
          "name": "stdout"
        }
      ]
    },
    {
      "cell_type": "code",
      "metadata": {
        "colab": {
          "base_uri": "https://localhost:8080/"
        },
        "id": "cFmGig6t8a-0",
        "outputId": "c462a018-e771-4f32-9270-cbfd7b9f4023"
      },
      "source": [
        "#My example\n",
        "price_list_2 = [23.3, 673, 27, 276.62, 71.2, 54.8, 455.6, 3.01]\n",
        "price_array_2 = np.array(price_list_2)\n",
        "print(price_array_2, type(price_array_2))"
      ],
      "execution_count": 3,
      "outputs": [
        {
          "output_type": "stream",
          "text": [
            "[ 23.3  673.    27.   276.62  71.2   54.8  455.6    3.01] <class 'numpy.ndarray'>\n"
          ],
          "name": "stdout"
        }
      ]
    },
    {
      "cell_type": "markdown",
      "metadata": {
        "id": "_Em3tOASyJp7"
      },
      "source": [
        "Notice that the type of array is \"ndarray\" which is a multi-dimensional array. If we pass np.array() a list of lists, it will create a 2-dimensional array."
      ]
    },
    {
      "cell_type": "code",
      "metadata": {
        "id": "WrwtkcwDx7hB",
        "colab": {
          "base_uri": "https://localhost:8080/"
        },
        "outputId": "ce0303b3-fab9-4bd3-ade2-742aa60aa66a"
      },
      "source": [
        "Ar = np.array([[1,3],[2,4]])\n",
        "print(Ar, type(Ar))"
      ],
      "execution_count": 4,
      "outputs": [
        {
          "output_type": "stream",
          "text": [
            "[[1 3]\n",
            " [2 4]] <class 'numpy.ndarray'>\n"
          ],
          "name": "stdout"
        }
      ]
    },
    {
      "cell_type": "code",
      "metadata": {
        "colab": {
          "base_uri": "https://localhost:8080/"
        },
        "id": "nzdHvpvZ9FJ-",
        "outputId": "f5585658-caa6-4fec-ce63-9db9070173b9"
      },
      "source": [
        "# My example\n",
        "Ar_2 = np.array([[1,2,3,0],[4,5,6,0], [7,8,9,0]])\n",
        "print(Ar_2, type(Ar_2))"
      ],
      "execution_count": 9,
      "outputs": [
        {
          "output_type": "stream",
          "text": [
            "[[1 2 3 0]\n",
            " [4 5 6 0]\n",
            " [7 8 9 0]] <class 'numpy.ndarray'>\n"
          ],
          "name": "stdout"
        }
      ]
    },
    {
      "cell_type": "markdown",
      "metadata": {
        "id": "xjzMQRYVyW3l"
      },
      "source": [
        "We get the dimensions of an ndarray using the .shape attribute:"
      ]
    },
    {
      "cell_type": "code",
      "metadata": {
        "id": "rW8ggqDGx7hC",
        "colab": {
          "base_uri": "https://localhost:8080/"
        },
        "outputId": "d0df1c80-0b42-4c3a-8f08-17b8637099fc"
      },
      "source": [
        "print(Ar.shape)"
      ],
      "execution_count": 10,
      "outputs": [
        {
          "output_type": "stream",
          "text": [
            "(2, 2)\n"
          ],
          "name": "stdout"
        }
      ]
    },
    {
      "cell_type": "code",
      "metadata": {
        "colab": {
          "base_uri": "https://localhost:8080/"
        },
        "id": "pB__I4Od9pS0",
        "outputId": "f0782511-bd01-400a-a51b-cb2d3491b558"
      },
      "source": [
        "# My example\n",
        "print(Ar_2.shape)"
      ],
      "execution_count": 11,
      "outputs": [
        {
          "output_type": "stream",
          "text": [
            "(3, 4)\n"
          ],
          "name": "stdout"
        }
      ]
    },
    {
      "cell_type": "markdown",
      "metadata": {
        "id": "d6qBugN9yZbi"
      },
      "source": [
        "If we create an 2-dimensional array (i.e. matrix), each row can be accessed by index:"
      ]
    },
    {
      "cell_type": "code",
      "metadata": {
        "id": "3SUez8cPx7hC",
        "colab": {
          "base_uri": "https://localhost:8080/"
        },
        "outputId": "e8fe328b-64e0-495e-a3c1-be114873a902"
      },
      "source": [
        "print(Ar[0])\n",
        "print(Ar[1])"
      ],
      "execution_count": 12,
      "outputs": [
        {
          "output_type": "stream",
          "text": [
            "[1 3]\n",
            "[2 4]\n"
          ],
          "name": "stdout"
        }
      ]
    },
    {
      "cell_type": "code",
      "metadata": {
        "colab": {
          "base_uri": "https://localhost:8080/"
        },
        "id": "6UH7iIME9u-B",
        "outputId": "6d88ab9e-474e-4a7c-af43-ab4a00366c12"
      },
      "source": [
        "# My example\n",
        "print(Ar_2[0])\n",
        "print(Ar_2[1])\n",
        "print(Ar_2[2])"
      ],
      "execution_count": 14,
      "outputs": [
        {
          "output_type": "stream",
          "text": [
            "[1 2 3 0]\n",
            "[4 5 6 0]\n",
            "[7 8 9 0]\n"
          ],
          "name": "stdout"
        }
      ]
    },
    {
      "cell_type": "markdown",
      "metadata": {
        "id": "MAhN9t9bybuP"
      },
      "source": [
        "If we want to access the matrix by column instead:"
      ]
    },
    {
      "cell_type": "code",
      "metadata": {
        "id": "Z0c5OhPMx7hD",
        "colab": {
          "base_uri": "https://localhost:8080/"
        },
        "outputId": "b05e0daa-5618-405b-829c-ab24a69f289a"
      },
      "source": [
        "print('the first column: ', Ar[:,0])\n",
        "print('the second column: ', Ar[:,1])"
      ],
      "execution_count": 15,
      "outputs": [
        {
          "output_type": "stream",
          "text": [
            "the first column:  [1 2]\n",
            "the second column:  [3 4]\n"
          ],
          "name": "stdout"
        }
      ]
    },
    {
      "cell_type": "code",
      "metadata": {
        "colab": {
          "base_uri": "https://localhost:8080/"
        },
        "id": "IclZoG8Q99ZF",
        "outputId": "bf2239c2-b230-43c9-9170-775a82a87a33"
      },
      "source": [
        "# My example\n",
        "print('the first column: ', Ar_2[:,0])\n",
        "print('the second column: ', Ar_2[:,1])\n",
        "print('the third column: ', Ar_2[:,2])\n",
        "print('the fourth column: ', Ar_2[:,3])"
      ],
      "execution_count": 17,
      "outputs": [
        {
          "output_type": "stream",
          "text": [
            "the first column:  [1 4 7]\n",
            "the second column:  [2 5 8]\n",
            "the third column:  [3 6 9]\n",
            "the fourth column:  [0 0 0]\n"
          ],
          "name": "stdout"
        }
      ]
    },
    {
      "cell_type": "markdown",
      "metadata": {
        "id": "hfT5zD8Eye9s"
      },
      "source": [
        "####Array Functions\n",
        "Some functions built in NumPy that allow us to perform calculations on arrays. For example, we can apply the natural logarithm to each element of an array:"
      ]
    },
    {
      "cell_type": "code",
      "metadata": {
        "id": "2Q2MpCcZx7hD",
        "colab": {
          "base_uri": "https://localhost:8080/"
        },
        "outputId": "a0027c2e-3dc3-4e93-cfc7-d8a251f43feb"
      },
      "source": [
        "print(np.log(price_array))"
      ],
      "execution_count": 18,
      "outputs": [
        {
          "output_type": "stream",
          "text": [
            "[4.96793654 4.98244156 4.9675886  4.96995218 4.96633504 4.96018375]\n"
          ],
          "name": "stdout"
        }
      ]
    },
    {
      "cell_type": "code",
      "metadata": {
        "colab": {
          "base_uri": "https://localhost:8080/"
        },
        "id": "N9u2y-pE-Pyg",
        "outputId": "7fda7168-9d2c-4371-ef61-585933278d38"
      },
      "source": [
        "# My example\n",
        "print(np.log(price_array_2))"
      ],
      "execution_count": 19,
      "outputs": [
        {
          "output_type": "stream",
          "text": [
            "[3.14845336 6.51174533 3.29583687 5.62264472 4.26549282 4.00369019\n",
            " 6.12161523 1.10194008]\n"
          ],
          "name": "stdout"
        }
      ]
    },
    {
      "cell_type": "markdown",
      "metadata": {
        "id": "NR8iRp-9-Y_5"
      },
      "source": [
        "Or for example the square root:"
      ]
    },
    {
      "cell_type": "code",
      "metadata": {
        "colab": {
          "base_uri": "https://localhost:8080/"
        },
        "id": "ZUB2yMGf-ep0",
        "outputId": "f18a38f8-8e6b-47f7-8448-4d6ae57030cb"
      },
      "source": [
        "print(np.sqrt(price_array))"
      ],
      "execution_count": 20,
      "outputs": [
        {
          "output_type": "stream",
          "text": [
            "[11.98874472 12.07600927 11.98665925 12.0008333  11.97914855 11.94236158]\n"
          ],
          "name": "stdout"
        }
      ]
    },
    {
      "cell_type": "code",
      "metadata": {
        "colab": {
          "base_uri": "https://localhost:8080/"
        },
        "id": "ps8jWI0D-ep1",
        "outputId": "bff5799d-f305-4086-8f46-e872a49189a8"
      },
      "source": [
        "# My example\n",
        "print(np.sqrt(price_array_2))"
      ],
      "execution_count": 21,
      "outputs": [
        {
          "output_type": "stream",
          "text": [
            "[ 4.82700735 25.94224354  5.19615242 16.63189707  8.43800924  7.40270221\n",
            " 21.34478859  1.73493516]\n"
          ],
          "name": "stdout"
        }
      ]
    },
    {
      "cell_type": "markdown",
      "metadata": {
        "id": "WHFBv5LmyiqJ"
      },
      "source": [
        "Other functions return a single value:"
      ]
    },
    {
      "cell_type": "code",
      "metadata": {
        "id": "gOdTwPmIx7hE",
        "colab": {
          "base_uri": "https://localhost:8080/"
        },
        "outputId": "e0307396-4cde-482f-e527-f2257cb79a1e"
      },
      "source": [
        "print(np.mean(price_array))\n",
        "print(np.std(price_array))\n",
        "print(np.sum(price_array))\n",
        "print(np.max(price_array))"
      ],
      "execution_count": 22,
      "outputs": [
        {
          "output_type": "stream",
          "text": [
            "143.89666666666668\n",
            "0.9673790478515796\n",
            "863.38\n",
            "145.83\n"
          ],
          "name": "stdout"
        }
      ]
    },
    {
      "cell_type": "code",
      "metadata": {
        "colab": {
          "base_uri": "https://localhost:8080/"
        },
        "id": "2DRlJR7_-lNq",
        "outputId": "28bfe2cf-4966-4f37-a670-af2649c5ab0c"
      },
      "source": [
        "# My example\n",
        "print(np.mean(price_array_2))\n",
        "print(np.std(price_array_2))\n",
        "print(np.sum(price_array_2))\n",
        "print(np.max(price_array_2))"
      ],
      "execution_count": 23,
      "outputs": [
        {
          "output_type": "stream",
          "text": [
            "198.06625\n",
            "232.52163861335035\n",
            "1584.53\n",
            "673.0\n"
          ],
          "name": "stdout"
        }
      ]
    },
    {
      "cell_type": "markdown",
      "metadata": {
        "id": "qOVElr3YynVf"
      },
      "source": [
        "The functions above return the mean, standard deviation, total and maximum value of an array.\n",
        "\n",
        "###Pandas\n",
        "Pandas is one of the most powerful tools for dealing with financial data. First we need to import Pandas:"
      ]
    },
    {
      "cell_type": "code",
      "metadata": {
        "id": "H8uGu_5Zx7hE"
      },
      "source": [
        "import pandas as pd"
      ],
      "execution_count": 24,
      "outputs": []
    },
    {
      "cell_type": "markdown",
      "metadata": {
        "id": "xrQJ3QSiypb1"
      },
      "source": [
        "####Series\n",
        "Series is a one-dimensional labeled array capable of holding any data type (integers, strings, float, Python object, etc.)\n",
        "\n",
        "We create a Series by calling pd.Series(data), where data can be a dictionary, an array or just a scalar value."
      ]
    },
    {
      "cell_type": "code",
      "metadata": {
        "id": "NfrGqG22x7hF",
        "colab": {
          "base_uri": "https://localhost:8080/"
        },
        "outputId": "9ea30779-188c-48b0-aa3c-3094ae1a60b3"
      },
      "source": [
        "price = [143.73, 145.83, 143.68, 144.02, 143.5, 142.62]\n",
        "s = pd.Series(price)\n",
        "s"
      ],
      "execution_count": 25,
      "outputs": [
        {
          "output_type": "execute_result",
          "data": {
            "text/plain": [
              "0    143.73\n",
              "1    145.83\n",
              "2    143.68\n",
              "3    144.02\n",
              "4    143.50\n",
              "5    142.62\n",
              "dtype: float64"
            ]
          },
          "metadata": {
            "tags": []
          },
          "execution_count": 25
        }
      ]
    },
    {
      "cell_type": "code",
      "metadata": {
        "colab": {
          "base_uri": "https://localhost:8080/"
        },
        "id": "qOaeG4q--4H0",
        "outputId": "2b3a84b9-8200-43e0-a01b-8af0987af4d5"
      },
      "source": [
        "#My example\n",
        "price_2 = [23.3, 673, 27, 276.62, 71.2, 54.8, 455.6, 3.01]\n",
        "s_2 = pd.Series(price_2)\n",
        "s_2"
      ],
      "execution_count": 26,
      "outputs": [
        {
          "output_type": "execute_result",
          "data": {
            "text/plain": [
              "0     23.30\n",
              "1    673.00\n",
              "2     27.00\n",
              "3    276.62\n",
              "4     71.20\n",
              "5     54.80\n",
              "6    455.60\n",
              "7      3.01\n",
              "dtype: float64"
            ]
          },
          "metadata": {
            "tags": []
          },
          "execution_count": 26
        }
      ]
    },
    {
      "cell_type": "markdown",
      "metadata": {
        "id": "NOjSVyUBytXz"
      },
      "source": [
        "We can customize the indices of a new Series:"
      ]
    },
    {
      "cell_type": "code",
      "metadata": {
        "id": "kldenqmQx7hF",
        "colab": {
          "base_uri": "https://localhost:8080/"
        },
        "outputId": "c673e66f-d81b-4bba-8ddb-588abb70695a"
      },
      "source": [
        "s = pd.Series(price,index = ['a','b','c','d','e','f'])\n",
        "s"
      ],
      "execution_count": 40,
      "outputs": [
        {
          "output_type": "execute_result",
          "data": {
            "text/plain": [
              "a    143.73\n",
              "b    145.83\n",
              "c    143.68\n",
              "d    144.02\n",
              "e    143.50\n",
              "f    142.62\n",
              "dtype: float64"
            ]
          },
          "metadata": {
            "tags": []
          },
          "execution_count": 40
        }
      ]
    },
    {
      "cell_type": "code",
      "metadata": {
        "colab": {
          "base_uri": "https://localhost:8080/"
        },
        "id": "qpFGhl-e_CX2",
        "outputId": "70221e5e-655d-436d-eed2-8fe49a463010"
      },
      "source": [
        "# My example\n",
        "s_2 = pd.Series(price_2,index = ['j','k','l','m','n','o','p','q'])\n",
        "s_2"
      ],
      "execution_count": 30,
      "outputs": [
        {
          "output_type": "execute_result",
          "data": {
            "text/plain": [
              "j     23.30\n",
              "k    673.00\n",
              "l     27.00\n",
              "m    276.62\n",
              "n     71.20\n",
              "o     54.80\n",
              "p    455.60\n",
              "q      3.01\n",
              "dtype: float64"
            ]
          },
          "metadata": {
            "tags": []
          },
          "execution_count": 30
        }
      ]
    },
    {
      "cell_type": "markdown",
      "metadata": {
        "id": "2Xw_q2npyxbE"
      },
      "source": [
        "Or we can change the indices of an existing Series:"
      ]
    },
    {
      "cell_type": "code",
      "metadata": {
        "id": "sB3ja85Dx7hG",
        "colab": {
          "base_uri": "https://localhost:8080/"
        },
        "outputId": "84881b27-04fb-486b-cfeb-8349a4744418"
      },
      "source": [
        "s.index = [6,5,4,3,2,1]\n",
        "s"
      ],
      "execution_count": 41,
      "outputs": [
        {
          "output_type": "execute_result",
          "data": {
            "text/plain": [
              "6    143.73\n",
              "5    145.83\n",
              "4    143.68\n",
              "3    144.02\n",
              "2    143.50\n",
              "1    142.62\n",
              "dtype: float64"
            ]
          },
          "metadata": {
            "tags": []
          },
          "execution_count": 41
        }
      ]
    },
    {
      "cell_type": "code",
      "metadata": {
        "colab": {
          "base_uri": "https://localhost:8080/"
        },
        "id": "izk91NdX_VI7",
        "outputId": "d5ab4946-c5c9-404e-f79a-6c1f7a372a6f"
      },
      "source": [
        "# My example\n",
        "s_2.index = [100,200,300,400,500,600,700,800]\n",
        "s_2"
      ],
      "execution_count": 32,
      "outputs": [
        {
          "output_type": "execute_result",
          "data": {
            "text/plain": [
              "100     23.30\n",
              "200    673.00\n",
              "300     27.00\n",
              "400    276.62\n",
              "500     71.20\n",
              "600     54.80\n",
              "700    455.60\n",
              "800      3.01\n",
              "dtype: float64"
            ]
          },
          "metadata": {
            "tags": []
          },
          "execution_count": 32
        }
      ]
    },
    {
      "cell_type": "markdown",
      "metadata": {
        "id": "oCBFcEvkyz53"
      },
      "source": [
        "Series is like a list since it can be sliced by index:"
      ]
    },
    {
      "cell_type": "code",
      "metadata": {
        "id": "IaxNQM9Zx7hG",
        "colab": {
          "base_uri": "https://localhost:8080/"
        },
        "outputId": "e2910c65-5d8a-4e86-e65a-850f293c0443"
      },
      "source": [
        "print(s[1:])\n",
        "print(s[:-2])"
      ],
      "execution_count": 34,
      "outputs": [
        {
          "output_type": "stream",
          "text": [
            "5    145.83\n",
            "4    143.68\n",
            "3    144.02\n",
            "2    143.50\n",
            "1    142.62\n",
            "dtype: float64\n",
            "6    143.73\n",
            "5    145.83\n",
            "4    143.68\n",
            "3    144.02\n",
            "dtype: float64\n"
          ],
          "name": "stdout"
        }
      ]
    },
    {
      "cell_type": "code",
      "metadata": {
        "colab": {
          "base_uri": "https://localhost:8080/"
        },
        "id": "84GvNCgD_ojS",
        "outputId": "c4b2ae39-ae9a-4f0c-a81d-49ee871c193a"
      },
      "source": [
        "# My example\n",
        "#The list since the fourth element\n",
        "print(s_2[4:])\n",
        "#The series reversed\n",
        "print(s_2[:-1])"
      ],
      "execution_count": 35,
      "outputs": [
        {
          "output_type": "stream",
          "text": [
            "500     71.20\n",
            "600     54.80\n",
            "700    455.60\n",
            "800      3.01\n",
            "dtype: float64\n",
            "100     23.30\n",
            "200    673.00\n",
            "300     27.00\n",
            "400    276.62\n",
            "500     71.20\n",
            "600     54.80\n",
            "700    455.60\n",
            "dtype: float64\n"
          ],
          "name": "stdout"
        }
      ]
    },
    {
      "cell_type": "markdown",
      "metadata": {
        "id": "jar3xoD0y1UZ"
      },
      "source": [
        "Series is also like a dictionary whose values can be set or fetched by index label:"
      ]
    },
    {
      "cell_type": "code",
      "metadata": {
        "id": "w6Zi8WhJx7hG",
        "colab": {
          "base_uri": "https://localhost:8080/"
        },
        "outputId": "e20fa6d7-c8f5-40ab-8244-af015c2e2458"
      },
      "source": [
        "print(s[4])\n",
        "s[4] = 0\n",
        "print(s)"
      ],
      "execution_count": 42,
      "outputs": [
        {
          "output_type": "stream",
          "text": [
            "143.68\n",
            "6    143.73\n",
            "5    145.83\n",
            "4      0.00\n",
            "3    144.02\n",
            "2    143.50\n",
            "1    142.62\n",
            "dtype: float64\n"
          ],
          "name": "stdout"
        }
      ]
    },
    {
      "cell_type": "code",
      "metadata": {
        "colab": {
          "base_uri": "https://localhost:8080/"
        },
        "id": "MAo0sESX_-8D",
        "outputId": "d5daa4e5-1b27-4ab6-e634-d4a34c2b7ea4"
      },
      "source": [
        "#My example\n",
        "print(s_2[200])\n",
        "s_2[200] = 56\n",
        "print(s_2)"
      ],
      "execution_count": 39,
      "outputs": [
        {
          "output_type": "stream",
          "text": [
            "56.0\n",
            "100     23.30\n",
            "200     56.00\n",
            "300     27.00\n",
            "400    276.62\n",
            "500     71.20\n",
            "600     54.80\n",
            "700    455.60\n",
            "800      3.01\n",
            "dtype: float64\n"
          ],
          "name": "stdout"
        }
      ]
    },
    {
      "cell_type": "markdown",
      "metadata": {
        "id": "HDgoN_h-y5ap"
      },
      "source": [
        "Series can also have a name attribute, which will be used when we make up a Pandas DataFrame using several series."
      ]
    },
    {
      "cell_type": "code",
      "metadata": {
        "id": "Yq-rha75x7hH",
        "colab": {
          "base_uri": "https://localhost:8080/"
        },
        "outputId": "092bf379-3142-480b-cd68-fcd793063308"
      },
      "source": [
        "s = pd.Series(price, name = 'Apple Price List')\n",
        "print(s)\n",
        "print(s.name)"
      ],
      "execution_count": 43,
      "outputs": [
        {
          "output_type": "stream",
          "text": [
            "0    143.73\n",
            "1    145.83\n",
            "2    143.68\n",
            "3    144.02\n",
            "4    143.50\n",
            "5    142.62\n",
            "Name: Apple Price List, dtype: float64\n",
            "Apple Price List\n"
          ],
          "name": "stdout"
        }
      ]
    },
    {
      "cell_type": "code",
      "metadata": {
        "colab": {
          "base_uri": "https://localhost:8080/"
        },
        "id": "jAEtZ1OeAXgk",
        "outputId": "f5360766-df65-41f4-e663-6c9190f12143"
      },
      "source": [
        "# My example\n",
        "s_2 = pd.Series(price_2, name = 'Cars price list')\n",
        "print(s)\n",
        "print(s.name)"
      ],
      "execution_count": 44,
      "outputs": [
        {
          "output_type": "stream",
          "text": [
            "0    143.73\n",
            "1    145.83\n",
            "2    143.68\n",
            "3    144.02\n",
            "4    143.50\n",
            "5    142.62\n",
            "Name: Apple Price List, dtype: float64\n",
            "Apple Price List\n"
          ],
          "name": "stdout"
        }
      ]
    },
    {
      "cell_type": "markdown",
      "metadata": {
        "id": "aJ4VnUKvy9KO"
      },
      "source": [
        "We can get the statistical summaries of a Series:"
      ]
    },
    {
      "cell_type": "code",
      "metadata": {
        "id": "LMFPmG5HzLH4",
        "colab": {
          "base_uri": "https://localhost:8080/"
        },
        "outputId": "9869cb13-0134-46dd-84fc-f8a4d7db3032"
      },
      "source": [
        "print (s.describe())"
      ],
      "execution_count": 45,
      "outputs": [
        {
          "output_type": "stream",
          "text": [
            "count      6.000000\n",
            "mean     143.896667\n",
            "std        1.059711\n",
            "min      142.620000\n",
            "25%      143.545000\n",
            "50%      143.705000\n",
            "75%      143.947500\n",
            "max      145.830000\n",
            "Name: Apple Price List, dtype: float64\n"
          ],
          "name": "stdout"
        }
      ]
    },
    {
      "cell_type": "code",
      "metadata": {
        "colab": {
          "base_uri": "https://localhost:8080/"
        },
        "id": "0YFjjaGXArMO",
        "outputId": "d86e1042-c771-4996-aabc-bb04c9c7fd9c"
      },
      "source": [
        "print (s_2.describe())"
      ],
      "execution_count": 46,
      "outputs": [
        {
          "output_type": "stream",
          "text": [
            "count      8.000000\n",
            "mean     198.066250\n",
            "std      248.576088\n",
            "min        3.010000\n",
            "25%       26.075000\n",
            "50%       63.000000\n",
            "75%      321.365000\n",
            "max      673.000000\n",
            "Name: Cars price list, dtype: float64\n"
          ],
          "name": "stdout"
        }
      ]
    },
    {
      "cell_type": "markdown",
      "metadata": {
        "id": "yuO9myFmzN6k"
      },
      "source": [
        "####Time Index\n",
        "Pandas has a built-in function specifically for creating date indices: pd.date_range(). We use it to create a new index for our Series:"
      ]
    },
    {
      "cell_type": "code",
      "metadata": {
        "id": "pC-fWG4gx7hH",
        "colab": {
          "base_uri": "https://localhost:8080/"
        },
        "outputId": "538effc6-51be-4e85-ffc0-b0574b9a9c08"
      },
      "source": [
        "time_index = pd.date_range('2017-01-01',periods = len(s),freq = 'D')\n",
        "print(time_index)\n",
        "s.index = time_index\n",
        "print(s)"
      ],
      "execution_count": 47,
      "outputs": [
        {
          "output_type": "stream",
          "text": [
            "DatetimeIndex(['2017-01-01', '2017-01-02', '2017-01-03', '2017-01-04',\n",
            "               '2017-01-05', '2017-01-06'],\n",
            "              dtype='datetime64[ns]', freq='D')\n",
            "2017-01-01    143.73\n",
            "2017-01-02    145.83\n",
            "2017-01-03    143.68\n",
            "2017-01-04    144.02\n",
            "2017-01-05    143.50\n",
            "2017-01-06    142.62\n",
            "Freq: D, Name: Apple Price List, dtype: float64\n"
          ],
          "name": "stdout"
        }
      ]
    },
    {
      "cell_type": "code",
      "metadata": {
        "colab": {
          "base_uri": "https://localhost:8080/"
        },
        "id": "vNS0mJMLAxWN",
        "outputId": "250813c8-f7b6-4ae8-bdb2-7e2d00f37ee1"
      },
      "source": [
        "# My example \n",
        "# For this one, the frequency is going to be monthly\n",
        "time_index_2 = pd.date_range('1810-01-01',periods = len(s_2),freq = 'M')\n",
        "print(time_index_2)\n",
        "s_2.index = time_index_2\n",
        "print(s_2)"
      ],
      "execution_count": 52,
      "outputs": [
        {
          "output_type": "stream",
          "text": [
            "DatetimeIndex(['1810-01-31', '1810-02-28', '1810-03-31', '1810-04-30',\n",
            "               '1810-05-31', '1810-06-30', '1810-07-31', '1810-08-31'],\n",
            "              dtype='datetime64[ns]', freq='M')\n",
            "1810-01-31     23.30\n",
            "1810-02-28    673.00\n",
            "1810-03-31     27.00\n",
            "1810-04-30    276.62\n",
            "1810-05-31     71.20\n",
            "1810-06-30     54.80\n",
            "1810-07-31    455.60\n",
            "1810-08-31      3.01\n",
            "Freq: M, Name: Cars price list, dtype: float64\n"
          ],
          "name": "stdout"
        }
      ]
    },
    {
      "cell_type": "markdown",
      "metadata": {
        "id": "LjtSlno4zSN9"
      },
      "source": [
        "Series are usually accessed using the iloc[] and loc[] methods. iloc[] is used to access elements by integer index, and loc[] is used to access the index of the series.\n",
        "\n",
        "iloc[] is necessary when the index of a series are integers, take our previous defined series as example:"
      ]
    },
    {
      "cell_type": "code",
      "metadata": {
        "id": "qG_CLcmbx7hH",
        "colab": {
          "base_uri": "https://localhost:8080/"
        },
        "outputId": "00b31631-dbb0-4ae1-cd6a-32acec4778b1"
      },
      "source": [
        "s.index = [6,5,4,3,2,1]\n",
        "print(s)\n",
        "print(s[1])"
      ],
      "execution_count": 54,
      "outputs": [
        {
          "output_type": "stream",
          "text": [
            "6    143.73\n",
            "5    145.83\n",
            "4    143.68\n",
            "3    144.02\n",
            "2    143.50\n",
            "1    142.62\n",
            "Name: Apple Price List, dtype: float64\n",
            "142.62\n"
          ],
          "name": "stdout"
        }
      ]
    },
    {
      "cell_type": "code",
      "metadata": {
        "colab": {
          "base_uri": "https://localhost:8080/"
        },
        "id": "hg2bS7kdBcEt",
        "outputId": "cf4ef930-5182-4c53-aa2e-e90bdf55bdee"
      },
      "source": [
        "s_2.index = [100,200,300,400,500,600,700,800]\n",
        "print(s_2)\n",
        "#Prints the element whose index is 600\n",
        "print(s_2[600])"
      ],
      "execution_count": 57,
      "outputs": [
        {
          "output_type": "stream",
          "text": [
            "100     23.30\n",
            "200    673.00\n",
            "300     27.00\n",
            "400    276.62\n",
            "500     71.20\n",
            "600     54.80\n",
            "700    455.60\n",
            "800      3.01\n",
            "Name: Cars price list, dtype: float64\n",
            "54.8\n"
          ],
          "name": "stdout"
        }
      ]
    },
    {
      "cell_type": "markdown",
      "metadata": {
        "id": "8n0jSlJSzWnB"
      },
      "source": [
        "If we intended to take the second element of the series, we would make a mistake here, because the index are integers. In order to access to the element we want, we use iloc[] here:"
      ]
    },
    {
      "cell_type": "code",
      "metadata": {
        "id": "DEdUKt7Yx7hI",
        "colab": {
          "base_uri": "https://localhost:8080/"
        },
        "outputId": "37f4cce6-0725-4c8f-9cd1-5745e6e4457d"
      },
      "source": [
        "print(s.iloc[1])"
      ],
      "execution_count": 58,
      "outputs": [
        {
          "output_type": "stream",
          "text": [
            "145.83\n"
          ],
          "name": "stdout"
        }
      ]
    },
    {
      "cell_type": "code",
      "metadata": {
        "colab": {
          "base_uri": "https://localhost:8080/"
        },
        "id": "PZpiJNEZBxkp",
        "outputId": "fb43e5d9-486b-4f81-d478-00aa94d8280a"
      },
      "source": [
        "# My example\n",
        "#Prints the fourth element of the series regardles of the index\n",
        "print(s_2.iloc[3])"
      ],
      "execution_count": 59,
      "outputs": [
        {
          "output_type": "stream",
          "text": [
            "276.62\n"
          ],
          "name": "stdout"
        }
      ]
    },
    {
      "cell_type": "markdown",
      "metadata": {
        "id": "5qlz0_p2zZZP"
      },
      "source": [
        "While working with time series data, we often use time as the index. Pandas provides us with various methods to access the data by time index."
      ]
    },
    {
      "cell_type": "code",
      "metadata": {
        "id": "998J8sAyx7hI",
        "colab": {
          "base_uri": "https://localhost:8080/"
        },
        "outputId": "f09a17b4-19be-49bb-f93b-fe344ffc20d6"
      },
      "source": [
        "s.index = time_index\n",
        "print(s['2017-01-03'])"
      ],
      "execution_count": 61,
      "outputs": [
        {
          "output_type": "stream",
          "text": [
            "143.68\n"
          ],
          "name": "stdout"
        }
      ]
    },
    {
      "cell_type": "code",
      "metadata": {
        "colab": {
          "base_uri": "https://localhost:8080/"
        },
        "id": "xyFwiWzGCCM9",
        "outputId": "839bcee3-7410-4bd0-bc2f-cebeadf7d24b"
      },
      "source": [
        "# My example\n",
        "s_2.index = time_index_2\n",
        "print(s_2['1810-02-28'])"
      ],
      "execution_count": 64,
      "outputs": [
        {
          "output_type": "stream",
          "text": [
            "673.0\n"
          ],
          "name": "stdout"
        }
      ]
    },
    {
      "cell_type": "markdown",
      "metadata": {
        "id": "2uNKuUCDzdY7"
      },
      "source": [
        "We can even access to a range of dates:\n",
        "\n"
      ]
    },
    {
      "cell_type": "code",
      "metadata": {
        "id": "lld2ftyTx7hJ",
        "colab": {
          "base_uri": "https://localhost:8080/"
        },
        "outputId": "5bf66b72-5673-4ec5-b8aa-d18e471c650f"
      },
      "source": [
        "print(s['2017-01-02':'2017-01-05'])"
      ],
      "execution_count": 65,
      "outputs": [
        {
          "output_type": "stream",
          "text": [
            "2017-01-02    145.83\n",
            "2017-01-03    143.68\n",
            "2017-01-04    144.02\n",
            "2017-01-05    143.50\n",
            "Freq: D, Name: Apple Price List, dtype: float64\n"
          ],
          "name": "stdout"
        }
      ]
    },
    {
      "cell_type": "code",
      "metadata": {
        "colab": {
          "base_uri": "https://localhost:8080/"
        },
        "id": "n2GHCihXCY9C",
        "outputId": "08b8f77d-54c8-43e5-e7ab-b46eb613916a"
      },
      "source": [
        "# My example\n",
        "print(s_2['1810-04-03':'1810-07-11'])"
      ],
      "execution_count": 67,
      "outputs": [
        {
          "output_type": "stream",
          "text": [
            "1810-04-30    276.62\n",
            "1810-05-31     71.20\n",
            "1810-06-30     54.80\n",
            "Freq: M, Name: Cars price list, dtype: float64\n"
          ],
          "name": "stdout"
        }
      ]
    },
    {
      "cell_type": "markdown",
      "metadata": {
        "id": "0hA85j6UzfBU"
      },
      "source": [
        "Series[] provides us a very flexible way to index data. We can add any condition in the square brackets:"
      ]
    },
    {
      "cell_type": "code",
      "metadata": {
        "id": "SZ6VWzxvx7hJ",
        "colab": {
          "base_uri": "https://localhost:8080/"
        },
        "outputId": "d9d4a4d4-a469-4f86-dd52-1a5fd983e091"
      },
      "source": [
        "print(s[s < np.mean(s)] )\n",
        "print([(s > np.mean(s)) & (s < np.mean(s) + 1.64*np.std(s))])"
      ],
      "execution_count": 68,
      "outputs": [
        {
          "output_type": "stream",
          "text": [
            "2017-01-01    143.73\n",
            "2017-01-03    143.68\n",
            "2017-01-05    143.50\n",
            "2017-01-06    142.62\n",
            "Name: Apple Price List, dtype: float64\n",
            "[2017-01-01    False\n",
            "2017-01-02    False\n",
            "2017-01-03    False\n",
            "2017-01-04     True\n",
            "2017-01-05    False\n",
            "2017-01-06    False\n",
            "Freq: D, Name: Apple Price List, dtype: bool]\n"
          ],
          "name": "stdout"
        }
      ]
    },
    {
      "cell_type": "code",
      "metadata": {
        "colab": {
          "base_uri": "https://localhost:8080/"
        },
        "id": "VD6pOPKiCmGZ",
        "outputId": "23e76e1f-a562-48e3-bde2-006733fbcea4"
      },
      "source": [
        "#My example\n",
        "#Prints the values of s_2 that are less that half the maximum value of s_2\n",
        "print(s_2[s_2 < np.max(s_2)/2] )\n"
      ],
      "execution_count": 69,
      "outputs": [
        {
          "output_type": "stream",
          "text": [
            "1810-01-31     23.30\n",
            "1810-03-31     27.00\n",
            "1810-04-30    276.62\n",
            "1810-05-31     71.20\n",
            "1810-06-30     54.80\n",
            "1810-08-31      3.01\n",
            "Name: Cars price list, dtype: float64\n"
          ],
          "name": "stdout"
        }
      ]
    },
    {
      "cell_type": "markdown",
      "metadata": {
        "id": "Mc1BTJUszovf"
      },
      "source": [
        "As demonstrated, we can use logical operators like & (and), | (or) and ~ (not) to group multiple conditions.\n",
        "\n"
      ]
    },
    {
      "cell_type": "markdown",
      "metadata": {
        "id": "WSByLvEADETT"
      },
      "source": [
        "###Summary\n",
        "Here we have introduced NumPy and Pandas for scientific computing in Python. In the next chapter, we will dive into Pandas to learn resampling and manipulating Pandas DataFrame, which are commonly used in financial data analysis."
      ]
    }
  ]
}