{
  "nbformat": 4,
  "nbformat_minor": 0,
  "metadata": {
    "kernelspec": {
      "display_name": "Python 3",
      "language": "python",
      "name": "python3"
    },
    "language_info": {
      "codemirror_mode": {
        "name": "ipython",
        "version": 3
      },
      "file_extension": ".py",
      "mimetype": "text/x-python",
      "name": "python",
      "nbconvert_exporter": "python",
      "pygments_lexer": "ipython3",
      "version": "3.6.4"
    },
    "colab": {
      "name": "ggarciaroTutorial6.ipynb",
      "provenance": [],
      "collapsed_sections": [],
      "toc_visible": true
    }
  },
  "cells": [
    {
      "cell_type": "markdown",
      "metadata": {
        "id": "uBs0o-aK5gYq"
      },
      "source": [
        "#Introduction to Financial Python\n",
        "##Rate of Return, Mean and Variance\n",
        "###Introduction\n",
        "In this chapter we are going to introduce some basic concepts in quantitative finance. We start with rate of return, mean and variance. You may think it's simple to calculate these values, however, there are number of different methods to calculate them. It's important to choose the appropriate calculation methods case by case.\n",
        "\n",
        "###Rate of Return\n",
        "Single-period Return\n",
        "The single-period rate of return can be calculated as following:\n",
        "\n",
        "$$r=\\frac{p_{t}}{p_{0}}-1=\\frac{p_{t}-p_{0}}{p_{0}}$$\n",
        "Where $r$ is the rate of return, $p_{t}$ is the asset price at time $t$, and $p_{0}$ is the asset price at time 0."
      ]
    },
    {
      "cell_type": "code",
      "metadata": {
        "id": "jIjSZoDW2swD",
        "colab": {
          "base_uri": "https://localhost:8080/"
        },
        "outputId": "7465788f-baaa-4167-8a85-b46b8913d722"
      },
      "source": [
        "import numpy as np\n",
        "rate_return = 102.0/100 - 1\n",
        "print(rate_return)"
      ],
      "execution_count": null,
      "outputs": [
        {
          "output_type": "stream",
          "text": [
            "0.020000000000000018\n"
          ],
          "name": "stdout"
        }
      ]
    },
    {
      "cell_type": "code",
      "metadata": {
        "colab": {
          "base_uri": "https://localhost:8080/"
        },
        "id": "ySRSTZ2eanNv",
        "outputId": "3f133d7c-9f13-4ecb-a729-0d2dd64a3321"
      },
      "source": [
        "# My example\n",
        "# pt = 107\n",
        "rate_return_2 = 107.0/100 - 1\n",
        "print(rate_return_2)"
      ],
      "execution_count": null,
      "outputs": [
        {
          "output_type": "stream",
          "text": [
            "0.07000000000000006\n"
          ],
          "name": "stdout"
        }
      ]
    },
    {
      "cell_type": "markdown",
      "metadata": {
        "id": "voGezqxYzUCk"
      },
      "source": [
        "Let's say we bought a stock at \\\\$100, and half a year later it will grow to \\\\$102. A year later the price will come to \\\\$104. How to calculate our total return? Well, we can either deem it as a single-period:\n",
        "\n",
        "$$r=\\frac{104}{100}-1=0.04$$\n",
        "or as a two-stage period:\n",
        "\n",
        "$$r=(1+r_{1})*(1+r_{2})-1=\\frac{102}{100}*\\frac{104}{102}-1=0.04$$\n",
        "Here we make calculations twice a year. It's called semi-annual compounding. How about quarterly compounding? Let's assume the stock prices at the end of each quarter are $p_{1},p_{2},p_{3},p_{4}$ respectively.\n",
        "\n",
        "$$r=(1+r_{1})∗(1+r_{2})*(1+r_{3})*(1+r_{4})-1$$\n",
        "The rate of return we calculate here is called **cumulative return** or **overall return**. It measures the total return of this asset over a period of time.\n",
        "\n",
        "Now consider the following situation: we have two strategies: strategy A and strategy B. We backtested strategy A for 1 years and the cumulative return is 20%, while we backtested strategy B for 3 months(one quarter) and the cumulative return is 6%. Which strategy has a high rate of return? Our commonly used method is to convert all the returns into **compounding annual return**, regardless of the investing horizon of each strategy. We can compare the returns of strategies with different time horizon now. Since there are four quarters in a year,the annual return of strategy B is\n",
        "\n",
        "$$(1+0.06)^{4}=1+r$$\n",
        "\n",
        "$$r=0.262$$\n",
        "\n",
        "\n",
        "Strategy B has an higher compounding annual return when we compare 26% with 20%."
      ]
    },
    {
      "cell_type": "markdown",
      "metadata": {
        "id": "P-DafRRV1uxC"
      },
      "source": [
        "$$Logarithm Return\n",
        "In the above example, strategy A has 6% return over three months. Nominally, the annual return would be 4*6% = 24%. This nominal annual interest rate is called the stated annual interest rate. It is calculated as the periodic interest rate times the number of periods per year. It works according to the simple interest and does not take into account the compounding periods, while the effective annual interest rate is 26% as we calculated above and it does account for intra-year compounding. The effective annual interest rate is an essential tool that allows the evaluation of the real return on investment. If we assume the number of compounding periods in one year is n, the formula to convert the stated annual interest rate to the effective annual interest rate is\n",
        "\n",
        "$$r_{effective}=(1+\\frac{r_{nominal}}{n})^{n}-1$$\n",
        "\n",
        "Now imagine the price of asset is changing every second or even every millisecond, the period of compounding n approaches infinite. This is called **continuous compounding**. The calculation formula is given below:\n",
        "\n",
        "$$\\lim _{n \\to \\infty}(1+\\frac{r}{n})^{n}=e^{r}$$\n",
        "\n",
        "From the above limitation equation, we know that if we assume continuous compounding:\n",
        "\n",
        "$$e^{r_{nominal}}=1+r_{effective}=\\frac{p_{t}}{p_{0}}$$\n",
        "\n",
        "Then we take **ln** on both side of the equation:\n",
        "\n",
        "$$r_{nominal}=ln(\\frac{p_{t}}{p_{0}})=ln\\ p_{t}-ln\\ p_{0}$$\n",
        "\n",
        "Here we got the **logarithmic return**, or **continuously compounded return**. This return is the nominal return with the interest compounding every millisecond. To see how it is close to effective interest rate, recall the equation above:\n",
        "\n",
        "$$e^{r_{nominal}}=1+r_{effective}$$\n",
        "then we have\n",
        "\n",
        "$$r_{effective}=e^{r_{nominal}}-1=r_{nominal}$$\n",
        "where the second equality holds due to Taylor Expansion and the interest rate being small. This is frequently used when calculating returns, because once we take the logarithm of asset prices, we can calculate the logarithm return by simply doing a subtraction. Here we use Apple stock prices as an example:"
      ]
    },
    {
      "cell_type": "code",
      "metadata": {
        "colab": {
          "base_uri": "https://localhost:8080/"
        },
        "id": "jLFZjvCy67g2",
        "outputId": "e869f920-d56d-4a6f-e6f9-5c165e6be8a1"
      },
      "source": [
        "pip install Quandl"
      ],
      "execution_count": null,
      "outputs": [
        {
          "output_type": "stream",
          "text": [
            "Collecting Quandl\n",
            "  Downloading https://files.pythonhosted.org/packages/8b/2b/feefb36015beaecc5c0f9f2533e815b409621d9fa7b50b2aac621796f828/Quandl-3.6.1-py2.py3-none-any.whl\n",
            "Requirement already satisfied: python-dateutil in /usr/local/lib/python3.7/dist-packages (from Quandl) (2.8.1)\n",
            "Requirement already satisfied: six in /usr/local/lib/python3.7/dist-packages (from Quandl) (1.15.0)\n",
            "Requirement already satisfied: more-itertools in /usr/local/lib/python3.7/dist-packages (from Quandl) (8.7.0)\n",
            "Requirement already satisfied: pandas>=0.14 in /usr/local/lib/python3.7/dist-packages (from Quandl) (1.1.5)\n",
            "Requirement already satisfied: requests>=2.7.0 in /usr/local/lib/python3.7/dist-packages (from Quandl) (2.23.0)\n",
            "Collecting inflection>=0.3.1\n",
            "  Downloading https://files.pythonhosted.org/packages/59/91/aa6bde563e0085a02a435aa99b49ef75b0a4b062635e606dab23ce18d720/inflection-0.5.1-py2.py3-none-any.whl\n",
            "Requirement already satisfied: numpy>=1.8 in /usr/local/lib/python3.7/dist-packages (from Quandl) (1.19.5)\n",
            "Requirement already satisfied: pytz>=2017.2 in /usr/local/lib/python3.7/dist-packages (from pandas>=0.14->Quandl) (2018.9)\n",
            "Requirement already satisfied: certifi>=2017.4.17 in /usr/local/lib/python3.7/dist-packages (from requests>=2.7.0->Quandl) (2020.12.5)\n",
            "Requirement already satisfied: urllib3!=1.25.0,!=1.25.1,<1.26,>=1.21.1 in /usr/local/lib/python3.7/dist-packages (from requests>=2.7.0->Quandl) (1.24.3)\n",
            "Requirement already satisfied: chardet<4,>=3.0.2 in /usr/local/lib/python3.7/dist-packages (from requests>=2.7.0->Quandl) (3.0.4)\n",
            "Requirement already satisfied: idna<3,>=2.5 in /usr/local/lib/python3.7/dist-packages (from requests>=2.7.0->Quandl) (2.10)\n",
            "Installing collected packages: inflection, Quandl\n",
            "Successfully installed Quandl-3.6.1 inflection-0.5.1\n"
          ],
          "name": "stdout"
        }
      ]
    },
    {
      "cell_type": "code",
      "metadata": {
        "id": "8Gn95mwA2swN",
        "colab": {
          "base_uri": "https://localhost:8080/"
        },
        "outputId": "0f8f8b43-da81-46da-bc6c-dc1639ffbdd6"
      },
      "source": [
        "import numpy as np\n",
        "import quandl\n",
        "quandl.ApiConfig.api_key = 'SzDnauemCyWhqDhQuwTP'\n",
        "#get quandl data\n",
        "aapl_table = quandl.get('WIKI/AAPL')\n",
        "aapl = aapl_table.loc['2017-3',['Open','Close']]\n",
        "#take log return\n",
        "aapl['log_price'] = np.log(aapl.Close)\n",
        "aapl['log_return'] = aapl.log_price.diff()\n",
        "print(aapl)"
      ],
      "execution_count": null,
      "outputs": [
        {
          "output_type": "stream",
          "text": [
            "               Open   Close  log_price  log_return\n",
            "Date                                              \n",
            "2017-03-01  137.890  139.79   4.940141         NaN\n",
            "2017-03-02  140.000  138.96   4.934186   -0.005955\n",
            "2017-03-03  138.780  139.78   4.940070    0.005884\n",
            "2017-03-06  139.365  139.34   4.936917   -0.003153\n",
            "2017-03-07  139.060  139.52   4.938208    0.001291\n",
            "2017-03-08  138.950  139.00   4.934474   -0.003734\n",
            "2017-03-09  138.740  138.68   4.932169   -0.002305\n",
            "2017-03-10  139.250  139.14   4.935481    0.003311\n",
            "2017-03-13  138.850  139.20   4.935912    0.000431\n",
            "2017-03-14  139.300  138.99   4.934402   -0.001510\n",
            "2017-03-15  139.410  140.46   4.944923    0.010521\n",
            "2017-03-16  140.720  140.69   4.946559    0.001636\n",
            "2017-03-17  141.000  139.99   4.941571   -0.004988\n",
            "2017-03-20  140.400  141.46   4.952017    0.010446\n",
            "2017-03-21  142.110  139.84   4.940499   -0.011518\n",
            "2017-03-22  139.845  141.42   4.951734    0.011235\n",
            "2017-03-23  141.260  140.92   4.948192   -0.003542\n",
            "2017-03-24  141.500  140.64   4.946203   -0.001989\n",
            "2017-03-27  139.390  140.88   4.947908    0.001705\n",
            "2017-03-28  140.910  143.80   4.968423    0.020515\n",
            "2017-03-29  143.680  144.12   4.970646    0.002223\n",
            "2017-03-30  144.190  143.93   4.969327   -0.001319\n",
            "2017-03-31  143.720  143.66   4.967449   -0.001878\n"
          ],
          "name": "stdout"
        }
      ]
    },
    {
      "cell_type": "code",
      "metadata": {
        "colab": {
          "base_uri": "https://localhost:8080/"
        },
        "id": "aVHmf1-wa8Qq",
        "outputId": "5381c854-984e-44f7-8455-5b001d57f6da"
      },
      "source": [
        "# My example\n",
        "msft_table = quandl.get('WIKI/MSFT')\n",
        "# Takin g the columns Open and Close in april 2012\n",
        "msft = msft_table.loc['2012-4',['Open','Close']]\n",
        "#take log return\n",
        "msft['log_price'] = np.log(msft.Close)\n",
        "# calculate the daily logarithmic return of Apple stock. \n",
        "msft['log_return'] = msft.log_price.diff()\n",
        "print(msft)"
      ],
      "execution_count": null,
      "outputs": [
        {
          "output_type": "stream",
          "text": [
            "             Open   Close  log_price  log_return\n",
            "Date                                            \n",
            "2012-04-02  32.22  32.290   3.474758         NaN\n",
            "2012-04-03  32.16  31.940   3.463859   -0.010898\n",
            "2012-04-04  31.66  31.210   3.440739   -0.023121\n",
            "2012-04-05  31.15  31.520   3.450622    0.009884\n",
            "2012-04-09  31.22  31.100   3.437208   -0.013414\n",
            "2012-04-10  31.06  30.470   3.416743   -0.020465\n",
            "2012-04-11  30.43  30.345   3.412632   -0.004111\n",
            "2012-04-12  30.48  30.975   3.433180    0.020549\n",
            "2012-04-13  30.89  30.810   3.427839   -0.005341\n",
            "2012-04-16  30.99  31.075   3.436404    0.008564\n",
            "2012-04-17  31.27  31.440   3.448081    0.011677\n",
            "2012-04-18  31.28  31.140   3.438493   -0.009588\n",
            "2012-04-19  31.13  31.010   3.434310   -0.004183\n",
            "2012-04-20  32.15  32.420   3.478776    0.044466\n",
            "2012-04-23  32.31  32.120   3.469479   -0.009297\n",
            "2012-04-24  32.21  31.920   3.463233   -0.006246\n",
            "2012-04-25  31.92  32.200   3.471966    0.008734\n",
            "2012-04-26  32.12  32.110   3.469168   -0.002799\n",
            "2012-04-27  32.12  31.980   3.465111   -0.004057\n",
            "2012-04-30  31.98  32.015   3.466205    0.001094\n"
          ],
          "name": "stdout"
        }
      ]
    },
    {
      "cell_type": "markdown",
      "metadata": {
        "id": "MOcrBcz17LyM"
      },
      "source": [
        "Here we calculated the daily logarithmic return of Apple stock. Given that we know the daily logarithm return of in this month, we can calculate the monthly return by simply sum all the daily returns up."
      ]
    },
    {
      "cell_type": "code",
      "metadata": {
        "id": "W4GWzyEC2swP",
        "colab": {
          "base_uri": "https://localhost:8080/"
        },
        "outputId": "8388fa68-fcda-4159-ddc9-2c388b52e3e5"
      },
      "source": [
        "month_return = aapl.log_return.sum()\n",
        "print(month_return)"
      ],
      "execution_count": null,
      "outputs": [
        {
          "output_type": "stream",
          "text": [
            "0.0273081001636184\n"
          ],
          "name": "stdout"
        }
      ]
    },
    {
      "cell_type": "code",
      "metadata": {
        "colab": {
          "base_uri": "https://localhost:8080/"
        },
        "id": "V-MTRz9bcM0m",
        "outputId": "2aff775a-c8fd-44ff-8cf3-5a5554b60e30"
      },
      "source": [
        "# My example\n",
        "# Microsoft's logarithmic return this month\n",
        "msft_month_return = msft.log_return.sum()\n",
        "print(msft_month_return)"
      ],
      "execution_count": null,
      "outputs": [
        {
          "output_type": "stream",
          "text": [
            "-0.008553041799418182\n"
          ],
          "name": "stdout"
        }
      ]
    },
    {
      "cell_type": "markdown",
      "metadata": {
        "id": "s_BzH51V7SsS"
      },
      "source": [
        "It may sounds incorrect to sum up the daily returns, but we can prove that it's mathematically correct. Let's assume the stock prices in a period of time are represented by $[p_{0},p_{1},p_{2},p_{3}.....p_{n}]$. Then the cumulative rate of return is given by:\n",
        "\n",
        "$$1+r_{effective} = 1+r_{nominal}=ln(\\frac{p_{t}}{p_{0}})=ln(\\frac{p_{t}}{p_{t-1}})+ln(\\frac{p_{t-1}}{p_{t-2}})+......+ln(\\frac{p_{1}}{p_{0}})$$\n",
        "According to the equation above, we can simple sum up each logarithmic return in a period to get the cumulative return. The convenience of this method is also one of the reasons why we use logarithmic return in quantitative finance."
      ]
    },
    {
      "cell_type": "markdown",
      "metadata": {
        "id": "-ZA8fP_2b15C"
      },
      "source": [
        "###Mean\n",
        "####Arithmetic Mean\n",
        "Mean is a measure of the central tendency of a data series. It capture the key character of the distribution of the data series. When we talk about mean, by default it refers to arithmetic mean. It's defined as the sum of the values divided by the number of observations:\n",
        "\n",
        "$$\\mu=\\frac{\\sum ^n_{i=1}x_{i}}{n}$$\n",
        "Where $(x_1,x_2,x_3.....x_n)$ is our data series.\n",
        "\n",
        "In python we can use NumPy.mean() to do the calculation:"
      ]
    },
    {
      "cell_type": "code",
      "metadata": {
        "id": "7ouJ5bZD2swR",
        "colab": {
          "base_uri": "https://localhost:8080/"
        },
        "outputId": "569e8fac-d078-4230-a64c-cd9be78d7ac3"
      },
      "source": [
        "print(np.mean(aapl.log_price))"
      ],
      "execution_count": null,
      "outputs": [
        {
          "output_type": "stream",
          "text": [
            "4.94597446550658\n"
          ],
          "name": "stdout"
        }
      ]
    },
    {
      "cell_type": "code",
      "metadata": {
        "colab": {
          "base_uri": "https://localhost:8080/"
        },
        "id": "qIpTF37DcjDf",
        "outputId": "a8c6e8a2-1548-4d3c-9e20-19128de0a3e7"
      },
      "source": [
        "#My example\n",
        "# Microsoft's daily return mean\n",
        "print(np.mean(msft.log_price))"
      ],
      "execution_count": null,
      "outputs": [
        {
          "output_type": "stream",
          "text": [
            "3.449940167694794\n"
          ],
          "name": "stdout"
        }
      ]
    },
    {
      "cell_type": "markdown",
      "metadata": {
        "id": "g1aKjEuYcya1"
      },
      "source": [
        "####Geometric Mean\n",
        "The geometric mean is an average that is useful for data series of positive numbers that are better interpreted according to their product, such as growth rate. It's calculated by:\n",
        "\n",
        "$$\\bar{x}=\\sqrt [n]{x_1x_2x_3...x_n}$$\n",
        "Let's calculate the geometric mean of a series of single-period return:\n",
        "\n",
        "$$1+\\bar{r}=\\sqrt [t]{\\frac{p_{t}}{p_{t−1}}∗\\frac{p_{t−1}}{p_{t−2}}∗...∗\\frac{p_2}{p_1}∗\\frac{p_1}{p_0}}$$\n",
        "$$(1+\\bar{r})=\\sqrt [t]{\\frac{p_t}{p_0}}$$\n",
        "Now the equation becomes the form which we are familiar with:\n",
        "\n",
        "$$(1+\\bar{r})^t=\\frac{p_t}{p_0}$$\n",
        "This is why we said it make sense when applied to growth rates."
      ]
    },
    {
      "cell_type": "markdown",
      "metadata": {
        "id": "B9sToj-biICx"
      },
      "source": [
        "###Variance and Standard Deviation\n",
        "####Variance\n",
        "Variance is a measure of dispersion. In finance, most of the time variance is a synonym for risk. The higher the variance of an asset price is, the higher risk the asset bears. Variance is usually represented by σ2, and it's calculated by\n",
        "\n",
        "$$\\sigma^2=\\frac{\\sum ^n_{i=1}(x_i - \\mu)^2}\n",
        "{n}$$\n",
        "In python we can use NumPy.var to calculate it:"
      ]
    },
    {
      "cell_type": "code",
      "metadata": {
        "id": "9Nv06U572swT",
        "colab": {
          "base_uri": "https://localhost:8080/"
        },
        "outputId": "7a61cd7e-5321-48d0-f16e-975395be5dc8"
      },
      "source": [
        "print(np.var(aapl.log_price))"
      ],
      "execution_count": null,
      "outputs": [
        {
          "output_type": "stream",
          "text": [
            "0.00014203280448152512\n"
          ],
          "name": "stdout"
        }
      ]
    },
    {
      "cell_type": "code",
      "metadata": {
        "colab": {
          "base_uri": "https://localhost:8080/"
        },
        "id": "FB517Tojcyta",
        "outputId": "818a4abe-a188-4119-c34d-e201ad4bddbf"
      },
      "source": [
        "#My example\n",
        "# Microsoft's dayly return variance\n",
        "print(np.var(msft.log_price))"
      ],
      "execution_count": null,
      "outputs": [
        {
          "output_type": "stream",
          "text": [
            "0.000381085829336668\n"
          ],
          "name": "stdout"
        }
      ]
    },
    {
      "cell_type": "markdown",
      "metadata": {
        "id": "hkwNjr2KirfM"
      },
      "source": [
        "The most commonly used measure of dispersion in finance is standard deviation. It's usually represented by σ. It's obvious to see the relation between standard deviation and variance:\n",
        "\n",
        "$$\\sigma = \\sqrt {\\sigma^2}=\\sqrt{\\frac{\\sum ^n_{i=1}(x_i-\\mu)^2}\n",
        "{n}}$$\n",
        "\n",
        "NumPy also provides us a method to calculate standard deviation."
      ]
    },
    {
      "cell_type": "code",
      "metadata": {
        "colab": {
          "base_uri": "https://localhost:8080/"
        },
        "id": "-XDQ8Nl-jJns",
        "outputId": "b13fa35e-a11a-4449-e879-88282e25d516"
      },
      "source": [
        "#My example\n",
        "# Microsoft's dayly return standar deviation\n",
        "print(np.std(msft.log_price))"
      ],
      "execution_count": null,
      "outputs": [
        {
          "output_type": "stream",
          "text": [
            "0.019521419757196658\n"
          ],
          "name": "stdout"
        }
      ]
    }
  ]
}