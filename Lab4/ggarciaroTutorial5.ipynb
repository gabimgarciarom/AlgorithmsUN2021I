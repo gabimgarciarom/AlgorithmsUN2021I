{
  "nbformat": 4,
  "nbformat_minor": 0,
  "metadata": {
    "kernelspec": {
      "display_name": "Python 3",
      "language": "python",
      "name": "python3"
    },
    "language_info": {
      "codemirror_mode": {
        "name": "ipython",
        "version": 3
      },
      "file_extension": ".py",
      "mimetype": "text/x-python",
      "name": "python",
      "nbconvert_exporter": "python",
      "pygments_lexer": "ipython3",
      "version": "3.6.4"
    },
    "colab": {
      "name": "ggarciaroTutorial5.ipynb",
      "provenance": [],
      "collapsed_sections": []
    }
  },
  "cells": [
    {
      "cell_type": "markdown",
      "metadata": {
        "id": "5SGYj6JH4FmS"
      },
      "source": [
        "#Introduction to Financial Python\n"
      ]
    },
    {
      "cell_type": "markdown",
      "metadata": {
        "id": "Jr97ch5dDWPU"
      },
      "source": [
        "##Pandas-Resampling and DataFrame\n"
      ]
    },
    {
      "cell_type": "markdown",
      "metadata": {
        "id": "aV_vp_MBDYVt"
      },
      "source": [
        "###Introduction\n",
        "In the last chapter we had a glimpse of Pandas. In this chapter we will learn about resampling methods and the DataFrame object, which is a powerful tool for financial data analysis.\n",
        "\n"
      ]
    },
    {
      "cell_type": "markdown",
      "metadata": {
        "id": "13iZ6rpuDaDL"
      },
      "source": [
        "###Fetching Data\n",
        "Here we use the Quandl API to retrieve data."
      ]
    },
    {
      "cell_type": "code",
      "metadata": {
        "colab": {
          "base_uri": "https://localhost:8080/"
        },
        "id": "m3sDEaiGoDG9",
        "outputId": "74e24cf7-c5c4-4c6d-cb22-44083aff5c10"
      },
      "source": [
        "pip install Quandl"
      ],
      "execution_count": 119,
      "outputs": [
        {
          "output_type": "stream",
          "text": [
            "Requirement already satisfied: Quandl in /usr/local/lib/python3.7/dist-packages (3.6.1)\n",
            "Requirement already satisfied: python-dateutil in /usr/local/lib/python3.7/dist-packages (from Quandl) (2.8.1)\n",
            "Requirement already satisfied: requests>=2.7.0 in /usr/local/lib/python3.7/dist-packages (from Quandl) (2.23.0)\n",
            "Requirement already satisfied: numpy>=1.8 in /usr/local/lib/python3.7/dist-packages (from Quandl) (1.19.5)\n",
            "Requirement already satisfied: six in /usr/local/lib/python3.7/dist-packages (from Quandl) (1.15.0)\n",
            "Requirement already satisfied: pandas>=0.14 in /usr/local/lib/python3.7/dist-packages (from Quandl) (1.1.5)\n",
            "Requirement already satisfied: more-itertools in /usr/local/lib/python3.7/dist-packages (from Quandl) (8.7.0)\n",
            "Requirement already satisfied: inflection>=0.3.1 in /usr/local/lib/python3.7/dist-packages (from Quandl) (0.5.1)\n",
            "Requirement already satisfied: chardet<4,>=3.0.2 in /usr/local/lib/python3.7/dist-packages (from requests>=2.7.0->Quandl) (3.0.4)\n",
            "Requirement already satisfied: certifi>=2017.4.17 in /usr/local/lib/python3.7/dist-packages (from requests>=2.7.0->Quandl) (2020.12.5)\n",
            "Requirement already satisfied: idna<3,>=2.5 in /usr/local/lib/python3.7/dist-packages (from requests>=2.7.0->Quandl) (2.10)\n",
            "Requirement already satisfied: urllib3!=1.25.0,!=1.25.1,<1.26,>=1.21.1 in /usr/local/lib/python3.7/dist-packages (from requests>=2.7.0->Quandl) (1.24.3)\n",
            "Requirement already satisfied: pytz>=2017.2 in /usr/local/lib/python3.7/dist-packages (from pandas>=0.14->Quandl) (2018.9)\n"
          ],
          "name": "stdout"
        }
      ]
    },
    {
      "cell_type": "code",
      "metadata": {
        "id": "pTp_82kT2qq3"
      },
      "source": [
        "import quandl\n",
        "import numpy as np\n",
        "import pandas as pd"
      ],
      "execution_count": 120,
      "outputs": []
    },
    {
      "cell_type": "code",
      "metadata": {
        "id": "tGsF13oL2qrA"
      },
      "source": [
        "quandl.ApiConfig.api_key = 'SzDnauemCyWhqDhQuwTP'"
      ],
      "execution_count": 121,
      "outputs": []
    },
    {
      "cell_type": "markdown",
      "metadata": {
        "id": "Xx-OECAu4Lgu"
      },
      "source": [
        "We will create a Series named \"aapl\" whose values are Apple's daily closing prices, which are of course indexed by dates:"
      ]
    },
    {
      "cell_type": "code",
      "metadata": {
        "id": "gMv7Ul9p2qrB",
        "colab": {
          "base_uri": "https://localhost:8080/"
        },
        "outputId": "257c1010-96f2-430a-bab4-cb1782d1b436"
      },
      "source": [
        "aapl_table = quandl.get('WIKI/AAPL')\n",
        "aapl = aapl_table['Adj. Close']['2017']\n",
        "print (aapl)"
      ],
      "execution_count": 122,
      "outputs": [
        {
          "output_type": "stream",
          "text": [
            "Date\n",
            "2017-01-03    114.715378\n",
            "2017-01-04    114.586983\n",
            "2017-01-05    115.169696\n",
            "2017-01-06    116.453639\n",
            "2017-01-09    117.520300\n",
            "                 ...    \n",
            "2017-12-22    175.010000\n",
            "2017-12-26    170.570000\n",
            "2017-12-27    170.600000\n",
            "2017-12-28    171.080000\n",
            "2017-12-29    169.230000\n",
            "Name: Adj. Close, Length: 249, dtype: float64\n"
          ],
          "name": "stdout"
        }
      ]
    },
    {
      "cell_type": "code",
      "metadata": {
        "colab": {
          "base_uri": "https://localhost:8080/"
        },
        "id": "vF8LYAZEDvMT",
        "outputId": "3af46b6d-1c10-4149-8270-ce1050ef75eb"
      },
      "source": [
        "# My example\n",
        "oilPrice_table = quandl.get(\"EIA/PET_RWTC_D\")\n",
        "oilprice= oilPrice_table['Value']['2012']\n",
        "print (oilprice)"
      ],
      "execution_count": 123,
      "outputs": [
        {
          "output_type": "stream",
          "text": [
            "Date\n",
            "2012-01-03    102.96\n",
            "2012-01-04    103.22\n",
            "2012-01-05    101.81\n",
            "2012-01-06    101.56\n",
            "2012-01-09    101.31\n",
            "               ...  \n",
            "2012-12-24     88.29\n",
            "2012-12-26     90.71\n",
            "2012-12-27     90.91\n",
            "2012-12-28     90.66\n",
            "2012-12-31     91.83\n",
            "Name: Value, Length: 252, dtype: float64\n"
          ],
          "name": "stdout"
        }
      ]
    },
    {
      "cell_type": "markdown",
      "metadata": {
        "id": "dvF2Neek4ZQL"
      },
      "source": [
        "Recall that we can fetch a specific data point using series['yyyy-mm-dd']. We can also fetch the data in a specific month using series['yyyy-mm']."
      ]
    },
    {
      "cell_type": "code",
      "metadata": {
        "id": "yiXqpruM2qrD",
        "colab": {
          "base_uri": "https://localhost:8080/"
        },
        "outputId": "2eeeefee-c8ba-4b10-d0b8-adfc28471fd8"
      },
      "source": [
        "print(aapl['2017-3'])"
      ],
      "execution_count": 124,
      "outputs": [
        {
          "output_type": "stream",
          "text": [
            "Date\n",
            "2017-03-01    138.657681\n",
            "2017-03-02    137.834404\n",
            "2017-03-03    138.647762\n",
            "2017-03-06    138.211326\n",
            "2017-03-07    138.389868\n",
            "2017-03-08    137.874080\n",
            "2017-03-09    137.556672\n",
            "2017-03-10    138.012946\n",
            "2017-03-13    138.072460\n",
            "2017-03-14    137.864161\n",
            "2017-03-15    139.322254\n",
            "2017-03-16    139.550391\n",
            "2017-03-17    138.856061\n",
            "2017-03-20    140.314154\n",
            "2017-03-21    138.707276\n",
            "2017-03-22    140.274478\n",
            "2017-03-23    139.778528\n",
            "2017-03-24    139.500796\n",
            "2017-03-27    139.738852\n",
            "2017-03-28    142.635200\n",
            "2017-03-29    142.952608\n",
            "2017-03-30    142.764147\n",
            "2017-03-31    142.496334\n",
            "Name: Adj. Close, dtype: float64\n"
          ],
          "name": "stdout"
        }
      ]
    },
    {
      "cell_type": "code",
      "metadata": {
        "colab": {
          "base_uri": "https://localhost:8080/"
        },
        "id": "4yS5hDqNER88",
        "outputId": "2871ab9b-17c9-4187-9534-21f7cca0288f"
      },
      "source": [
        "# My example\n",
        "print(oilprice['2012-2'])"
      ],
      "execution_count": 125,
      "outputs": [
        {
          "output_type": "stream",
          "text": [
            "Date\n",
            "2012-02-01     97.63\n",
            "2012-02-02     96.36\n",
            "2012-02-03     97.80\n",
            "2012-02-06     96.89\n",
            "2012-02-07     98.55\n",
            "2012-02-08     98.80\n",
            "2012-02-09     99.88\n",
            "2012-02-10     98.68\n",
            "2012-02-13    100.39\n",
            "2012-02-14    100.82\n",
            "2012-02-15    101.82\n",
            "2012-02-16    102.33\n",
            "2012-02-17    103.27\n",
            "2012-02-21    105.88\n",
            "2012-02-22    105.99\n",
            "2012-02-23    107.44\n",
            "2012-02-24    109.39\n",
            "2012-02-27    108.49\n",
            "2012-02-28    106.59\n",
            "2012-02-29    107.08\n",
            "Name: Value, dtype: float64\n"
          ],
          "name": "stdout"
        }
      ]
    },
    {
      "cell_type": "markdown",
      "metadata": {
        "id": "5DYZuy_P4fDa"
      },
      "source": [
        "Or in several consecutive months:"
      ]
    },
    {
      "cell_type": "code",
      "metadata": {
        "id": "cu5SWMbf2qrD",
        "colab": {
          "base_uri": "https://localhost:8080/"
        },
        "outputId": "5b8affe4-c790-43d4-cf9b-3c51d5feee25"
      },
      "source": [
        "aapl['2017-2':'2017-4']"
      ],
      "execution_count": 126,
      "outputs": [
        {
          "output_type": "execute_result",
          "data": {
            "text/plain": [
              "Date\n",
              "2017-02-01    127.159749\n",
              "2017-02-02    126.942467\n",
              "2017-02-03    127.485673\n",
              "2017-02-06    128.680728\n",
              "2017-02-07    129.905412\n",
              "                 ...    \n",
              "2017-04-24    142.476496\n",
              "2017-04-25    143.369205\n",
              "2017-04-26    142.487208\n",
              "2017-04-27    142.625281\n",
              "2017-04-28    142.486415\n",
              "Name: Adj. Close, Length: 61, dtype: float64"
            ]
          },
          "metadata": {
            "tags": []
          },
          "execution_count": 126
        }
      ]
    },
    {
      "cell_type": "code",
      "metadata": {
        "colab": {
          "base_uri": "https://localhost:8080/"
        },
        "id": "T07Z9XAQEdY7",
        "outputId": "086c96bd-bd90-41f3-9344-56535ccae345"
      },
      "source": [
        "# My example\n",
        "# Shows the first semester of 2012\n",
        "oilprice['2012-1':'2012-6']"
      ],
      "execution_count": 127,
      "outputs": [
        {
          "output_type": "execute_result",
          "data": {
            "text/plain": [
              "Date\n",
              "2012-01-03    102.96\n",
              "2012-01-04    103.22\n",
              "2012-01-05    101.81\n",
              "2012-01-06    101.56\n",
              "2012-01-09    101.31\n",
              "               ...  \n",
              "2012-06-25     78.76\n",
              "2012-06-26     79.34\n",
              "2012-06-27     80.27\n",
              "2012-06-28     77.72\n",
              "2012-06-29     85.04\n",
              "Name: Value, Length: 125, dtype: float64"
            ]
          },
          "metadata": {
            "tags": []
          },
          "execution_count": 127
        }
      ]
    },
    {
      "cell_type": "markdown",
      "metadata": {
        "id": "ywaNcwcM4m_G"
      },
      "source": [
        ".head(N) and .tail(N) are methods for quickly accessing the first or last N elements."
      ]
    },
    {
      "cell_type": "code",
      "metadata": {
        "id": "YlUJmM5o2qrE",
        "colab": {
          "base_uri": "https://localhost:8080/"
        },
        "outputId": "16b246b2-e000-42f9-deca-3b7757256bb3"
      },
      "source": [
        "print(aapl.head(5))\n",
        "print(aapl.tail(10))"
      ],
      "execution_count": 128,
      "outputs": [
        {
          "output_type": "stream",
          "text": [
            "Date\n",
            "2017-01-03    114.715378\n",
            "2017-01-04    114.586983\n",
            "2017-01-05    115.169696\n",
            "2017-01-06    116.453639\n",
            "2017-01-09    117.520300\n",
            "Name: Adj. Close, dtype: float64\n",
            "Date\n",
            "2017-12-15    173.87\n",
            "2017-12-18    176.42\n",
            "2017-12-19    174.54\n",
            "2017-12-20    174.35\n",
            "2017-12-21    175.01\n",
            "2017-12-22    175.01\n",
            "2017-12-26    170.57\n",
            "2017-12-27    170.60\n",
            "2017-12-28    171.08\n",
            "2017-12-29    169.23\n",
            "Name: Adj. Close, dtype: float64\n"
          ],
          "name": "stdout"
        }
      ]
    },
    {
      "cell_type": "code",
      "metadata": {
        "colab": {
          "base_uri": "https://localhost:8080/"
        },
        "id": "hlUfJzI_Et8L",
        "outputId": "2835e6bc-de3a-4135-84b1-1acad0e7ccb5"
      },
      "source": [
        "# My example\n",
        "#First two elements\n",
        "print(aapl.head(2))\n",
        "#Last six elements\n",
        "print(aapl.tail(10))"
      ],
      "execution_count": 129,
      "outputs": [
        {
          "output_type": "stream",
          "text": [
            "Date\n",
            "2017-01-03    114.715378\n",
            "2017-01-04    114.586983\n",
            "Name: Adj. Close, dtype: float64\n",
            "Date\n",
            "2017-12-15    173.87\n",
            "2017-12-18    176.42\n",
            "2017-12-19    174.54\n",
            "2017-12-20    174.35\n",
            "2017-12-21    175.01\n",
            "2017-12-22    175.01\n",
            "2017-12-26    170.57\n",
            "2017-12-27    170.60\n",
            "2017-12-28    171.08\n",
            "2017-12-29    169.23\n",
            "Name: Adj. Close, dtype: float64\n"
          ],
          "name": "stdout"
        }
      ]
    },
    {
      "cell_type": "markdown",
      "metadata": {
        "id": "Ks2Eo42Y4uhR"
      },
      "source": [
        "###Resampling\n",
        "**series.resample(freq)** is a class called \"DatetimeIndexResampler\" which groups data in a Series object into regular time intervals. The argument \"freq\" determines the length of each interval.\n",
        "\n",
        "**series.resample.mean()** is a complete statement that groups data into intervals, and then compute the mean of each interval. For example, if we want to aggregate the daily data into monthly data by mean:"
      ]
    },
    {
      "cell_type": "code",
      "metadata": {
        "id": "ZtqV4Xfn2qrE",
        "colab": {
          "base_uri": "https://localhost:8080/"
        },
        "outputId": "65aa62e5-7f75-46e0-adad-b3b24e1ffca7"
      },
      "source": [
        "by_month = aapl.resample('M').mean()\n",
        "print(by_month)"
      ],
      "execution_count": 130,
      "outputs": [
        {
          "output_type": "stream",
          "text": [
            "Date\n",
            "2017-01-31    118.093136\n",
            "2017-02-28    132.456268\n",
            "2017-03-31    139.478802\n",
            "2017-04-30    141.728436\n",
            "2017-05-31    151.386305\n",
            "2017-06-30    147.233064\n",
            "2017-07-31    147.706190\n",
            "2017-08-31    158.856375\n",
            "2017-09-30    157.606500\n",
            "2017-10-31    157.811627\n",
            "2017-11-30    172.214500\n",
            "2017-12-31    171.893100\n",
            "Freq: M, Name: Adj. Close, dtype: float64\n"
          ],
          "name": "stdout"
        }
      ]
    },
    {
      "cell_type": "code",
      "metadata": {
        "colab": {
          "base_uri": "https://localhost:8080/"
        },
        "id": "12m1YP1PFFhf",
        "outputId": "76bb3995-241f-421d-ee47-cc18adce305c"
      },
      "source": [
        "# My example\n",
        "oil_prices_by_month = oilprice.resample('M').mean()\n",
        "print(oil_prices_by_month)"
      ],
      "execution_count": 131,
      "outputs": [
        {
          "output_type": "stream",
          "text": [
            "Date\n",
            "2012-01-31    100.273500\n",
            "2012-02-29    102.204000\n",
            "2012-03-31    106.157727\n",
            "2012-04-30    103.321000\n",
            "2012-05-31     94.654545\n",
            "2012-06-30     82.303333\n",
            "2012-07-31     87.895238\n",
            "2012-08-31     94.131304\n",
            "2012-09-30     94.513684\n",
            "2012-10-31     89.491304\n",
            "2012-11-30     86.531429\n",
            "2012-12-31     87.859500\n",
            "Freq: M, Name: Value, dtype: float64\n"
          ],
          "name": "stdout"
        }
      ]
    },
    {
      "cell_type": "markdown",
      "metadata": {
        "id": "5DNZW5yI42f_"
      },
      "source": [
        "We can also aggregate the data by week:"
      ]
    },
    {
      "cell_type": "code",
      "metadata": {
        "id": "l77l3cQC2qrF",
        "colab": {
          "base_uri": "https://localhost:8080/"
        },
        "outputId": "7fa5c782-313f-4310-8ce4-e2994a2e34ed"
      },
      "source": [
        "by_week = aapl.resample('W').mean()\n",
        "print(by_week.head())"
      ],
      "execution_count": 132,
      "outputs": [
        {
          "output_type": "stream",
          "text": [
            "Date\n",
            "2017-01-08    115.231424\n",
            "2017-01-15    117.755360\n",
            "2017-01-22    118.461035\n",
            "2017-01-29    119.667448\n",
            "2017-02-05    124.313346\n",
            "Freq: W-SUN, Name: Adj. Close, dtype: float64\n"
          ],
          "name": "stdout"
        }
      ]
    },
    {
      "cell_type": "code",
      "metadata": {
        "colab": {
          "base_uri": "https://localhost:8080/"
        },
        "id": "gHOikiM_FR1k",
        "outputId": "a7a97820-d728-49db-b56e-b3f445499580"
      },
      "source": [
        "# My example\n",
        "op_by_week= oilprice.resample('M').mean()\n",
        "print(op_by_week)"
      ],
      "execution_count": 133,
      "outputs": [
        {
          "output_type": "stream",
          "text": [
            "Date\n",
            "2012-01-31    100.273500\n",
            "2012-02-29    102.204000\n",
            "2012-03-31    106.157727\n",
            "2012-04-30    103.321000\n",
            "2012-05-31     94.654545\n",
            "2012-06-30     82.303333\n",
            "2012-07-31     87.895238\n",
            "2012-08-31     94.131304\n",
            "2012-09-30     94.513684\n",
            "2012-10-31     89.491304\n",
            "2012-11-30     86.531429\n",
            "2012-12-31     87.859500\n",
            "Freq: M, Name: Value, dtype: float64\n"
          ],
          "name": "stdout"
        }
      ]
    },
    {
      "cell_type": "markdown",
      "metadata": {
        "id": "h0owt5S345JK"
      },
      "source": [
        "We can choose almost any frequency by using the format 'nf', where 'n' is an integer and 'f' is M for month, W for week and D for day.\n",
        "\n"
      ]
    },
    {
      "cell_type": "code",
      "metadata": {
        "id": "bmWvdR8x5MhT"
      },
      "source": [
        "three_day = aapl.resample('3D').mean()\n",
        "two_week  = aapl.resample('2W').mean()\n",
        "two_month = aapl.resample('2M').mean()"
      ],
      "execution_count": 134,
      "outputs": []
    },
    {
      "cell_type": "code",
      "metadata": {
        "colab": {
          "base_uri": "https://localhost:8080/"
        },
        "id": "lBGsaRngFcGf",
        "outputId": "35a7401a-aec0-4f5b-9982-e7ee85e9157c"
      },
      "source": [
        "# My example\n",
        "op_fifteen_days = oilprice.resample('15D').mean()\n",
        "op_six_weeks  = oilprice.resample('6W').mean()\n",
        "op_trimester = oilprice.resample('3M').mean()\n",
        "print (op_trimester)"
      ],
      "execution_count": 135,
      "outputs": [
        {
          "output_type": "stream",
          "text": [
            "Date\n",
            "2012-01-31    100.273500\n",
            "2012-04-30    103.967258\n",
            "2012-07-31     88.383906\n",
            "2012-10-31     92.601231\n",
            "2013-01-31     87.179268\n",
            "Freq: 3M, Name: Value, dtype: float64\n"
          ],
          "name": "stdout"
        }
      ]
    },
    {
      "cell_type": "markdown",
      "metadata": {
        "id": "2jzAQM4I5Rd5"
      },
      "source": [
        "Besides the mean() method, other methods can also be used with the resampler:"
      ]
    },
    {
      "cell_type": "code",
      "metadata": {
        "id": "8P2e9nFX5UAU"
      },
      "source": [
        "std = aapl.resample('W').std()    # standard deviation\n",
        "max = aapl.resample('W').max()    # maximum value\n",
        "min = aapl.resample('W').min()    # minimum value"
      ],
      "execution_count": 136,
      "outputs": []
    },
    {
      "cell_type": "code",
      "metadata": {
        "id": "VprfGtuW2qrF",
        "colab": {
          "base_uri": "https://localhost:8080/"
        },
        "outputId": "3bd4f530-ebf2-4b42-8a9b-c7b4dc38cc09"
      },
      "source": [
        "aapl.resample('M').max()"
      ],
      "execution_count": 137,
      "outputs": [
        {
          "output_type": "execute_result",
          "data": {
            "text/plain": [
              "Date\n",
              "2017-01-31    120.443739\n",
              "2017-02-28    135.999390\n",
              "2017-03-31    142.952608\n",
              "2017-04-30    143.597342\n",
              "2017-05-31    155.469192\n",
              "2017-06-30    154.821818\n",
              "2017-07-31    152.839860\n",
              "2017-08-31    164.000000\n",
              "2017-09-30    164.050000\n",
              "2017-10-31    169.040000\n",
              "2017-11-30    175.880000\n",
              "2017-12-31    176.420000\n",
              "Freq: M, Name: Adj. Close, dtype: float64"
            ]
          },
          "metadata": {
            "tags": []
          },
          "execution_count": 137
        }
      ]
    },
    {
      "cell_type": "code",
      "metadata": {
        "id": "6Q3KTr75GfUN"
      },
      "source": [
        "# My example\n",
        "op_std = oilprice.resample('W').std()    # standard deviation\n",
        "op_max = oilprice.resample('W').max()    # maximum value\n",
        "op_min = oilprice.resample('W').min()    # minimum value"
      ],
      "execution_count": 138,
      "outputs": []
    },
    {
      "cell_type": "code",
      "metadata": {
        "colab": {
          "base_uri": "https://localhost:8080/"
        },
        "id": "R56PbCMtGu8J",
        "outputId": "1fa03c26-b198-4340-968f-8962233b933e"
      },
      "source": [
        "# My example\n",
        "# the standar deviation of oil prices each month of 2012\n",
        "oilprice.resample('M').std()"
      ],
      "execution_count": 139,
      "outputs": [
        {
          "output_type": "execute_result",
          "data": {
            "text/plain": [
              "Date\n",
              "2012-01-31    1.528767\n",
              "2012-02-29    4.238912\n",
              "2012-03-31    1.439289\n",
              "2012-04-30    1.105012\n",
              "2012-05-31    5.231473\n",
              "2012-06-30    2.431967\n",
              "2012-07-31    2.377784\n",
              "2012-08-31    2.459613\n",
              "2012-09-30    2.689275\n",
              "2012-10-31    2.752730\n",
              "2012-11-30    1.245204\n",
              "2012-12-31    2.112921\n",
              "Freq: M, Name: Value, dtype: float64"
            ]
          },
          "metadata": {
            "tags": []
          },
          "execution_count": 139
        }
      ]
    },
    {
      "cell_type": "markdown",
      "metadata": {
        "id": "6hg1f0LKHoAn"
      },
      "source": [
        "Often we want to calculate monthly returns of a stock, based on prices on the last day of each month. To fetch those prices, we use the series.resample.agg() method:"
      ]
    },
    {
      "cell_type": "code",
      "metadata": {
        "id": "4z1YAFRm2qrH",
        "colab": {
          "base_uri": "https://localhost:8080/"
        },
        "outputId": "822e1b20-b61a-47b4-a27e-d58fe297aec3"
      },
      "source": [
        "last_day = aapl.resample('M').agg(lambda x: x[-1])\n",
        "print(last_day)"
      ],
      "execution_count": 140,
      "outputs": [
        {
          "output_type": "stream",
          "text": [
            "Date\n",
            "2017-01-31    119.851150\n",
            "2017-02-28    135.880362\n",
            "2017-03-31    142.496334\n",
            "2017-04-30    142.486415\n",
            "2017-05-31    152.142689\n",
            "2017-06-30    143.438008\n",
            "2017-07-31    148.248489\n",
            "2017-08-31    164.000000\n",
            "2017-09-30    154.120000\n",
            "2017-10-31    169.040000\n",
            "2017-11-30    171.850000\n",
            "2017-12-31    169.230000\n",
            "Freq: M, Name: Adj. Close, dtype: float64\n"
          ],
          "name": "stdout"
        }
      ]
    },
    {
      "cell_type": "code",
      "metadata": {
        "colab": {
          "base_uri": "https://localhost:8080/"
        },
        "id": "bSXSZzYwHKAm",
        "outputId": "9d747263-4b65-4a49-fa33-4edae2dec1d3"
      },
      "source": [
        "# My example\n",
        "# Last element of each month\n",
        "op_last_day = oilprice.resample('M').agg(lambda x: x[-1])\n",
        "print(op_last_day)"
      ],
      "execution_count": 141,
      "outputs": [
        {
          "output_type": "stream",
          "text": [
            "Date\n",
            "2012-01-31     98.46\n",
            "2012-02-29    107.08\n",
            "2012-03-31    103.03\n",
            "2012-04-30    104.89\n",
            "2012-05-31     86.52\n",
            "2012-06-30     85.04\n",
            "2012-07-31     88.08\n",
            "2012-08-31     96.47\n",
            "2012-09-30     92.18\n",
            "2012-10-31     86.23\n",
            "2012-11-30     88.54\n",
            "2012-12-31     91.83\n",
            "Freq: M, Name: Value, dtype: float64\n"
          ],
          "name": "stdout"
        }
      ]
    },
    {
      "cell_type": "markdown",
      "metadata": {
        "id": "hVd87Si7H4iN"
      },
      "source": [
        "Or directly calculate the monthly rates of return using the data for the first day and the last day:"
      ]
    },
    {
      "cell_type": "code",
      "metadata": {
        "id": "HGZtTmyD2qrG",
        "colab": {
          "base_uri": "https://localhost:8080/"
        },
        "outputId": "536418e6-4ae8-4df5-a307-e52cf7ee6d7a"
      },
      "source": [
        "monthly_return = aapl.resample('M').agg(lambda x: x[-1]/x[1] - 1)\n",
        "print(monthly_return)"
      ],
      "execution_count": 142,
      "outputs": [
        {
          "output_type": "stream",
          "text": [
            "Date\n",
            "2017-01-31    0.045940\n",
            "2017-02-28    0.070409\n",
            "2017-03-31    0.033823\n",
            "2017-04-30   -0.007736\n",
            "2017-05-31    0.039829\n",
            "2017-06-30   -0.073528\n",
            "2017-07-31    0.033035\n",
            "2017-08-31    0.047890\n",
            "2017-09-30   -0.049112\n",
            "2017-10-31    0.094252\n",
            "2017-11-30    0.022247\n",
            "2017-12-31   -0.003357\n",
            "Freq: M, Name: Adj. Close, dtype: float64\n"
          ],
          "name": "stdout"
        }
      ]
    },
    {
      "cell_type": "code",
      "metadata": {
        "colab": {
          "base_uri": "https://localhost:8080/"
        },
        "id": "H-jTgp3YHk-1",
        "outputId": "cb4aecf2-7c54-4768-9a9b-714b7d5bf341"
      },
      "source": [
        "# My example\n",
        "# returns the monthly return of oil prices for each month of 2012\n",
        "op_monthly_return = oilprice.resample('M').agg(lambda x: x[-1]/x[1] - 1)\n",
        "print(op_monthly_return)"
      ],
      "execution_count": 143,
      "outputs": [
        {
          "output_type": "stream",
          "text": [
            "Date\n",
            "2012-01-31   -0.046115\n",
            "2012-02-29    0.111249\n",
            "2012-03-31   -0.034214\n",
            "2012-04-30    0.008364\n",
            "2012-05-31   -0.177957\n",
            "2012-06-30    0.012984\n",
            "2012-07-31    0.003875\n",
            "2012-08-31    0.106054\n",
            "2012-09-30   -0.033449\n",
            "2012-10-31   -0.061493\n",
            "2012-11-30    0.042874\n",
            "2012-12-31    0.043049\n",
            "Freq: M, Name: Value, dtype: float64\n"
          ],
          "name": "stdout"
        }
      ]
    },
    {
      "cell_type": "markdown",
      "metadata": {
        "id": "dgJhl0cJH6wa"
      },
      "source": [
        "Series object also provides us some convenient methods to do some quick calculation."
      ]
    },
    {
      "cell_type": "code",
      "metadata": {
        "id": "woWBZL8W2qrI",
        "colab": {
          "base_uri": "https://localhost:8080/"
        },
        "outputId": "dbb0c2c8-d026-457c-d3c9-4dade1a22120"
      },
      "source": [
        "print(monthly_return.mean())\n",
        "print(monthly_return.std())\n",
        "print(monthly_return.max())"
      ],
      "execution_count": 144,
      "outputs": [
        {
          "output_type": "stream",
          "text": [
            "0.02114094011940022\n",
            "0.04775652864223314\n",
            "0.09425168306576914\n"
          ],
          "name": "stdout"
        }
      ]
    },
    {
      "cell_type": "code",
      "metadata": {
        "colab": {
          "base_uri": "https://localhost:8080/"
        },
        "id": "YYiLLSGHH7nX",
        "outputId": "a174078d-88ba-4077-d920-e48660b1f62f"
      },
      "source": [
        "# My example\n",
        "# Information about oil prices monthly returns\n",
        "print(op_monthly_return.mean())\n",
        "print(op_monthly_return.std())\n",
        "print(op_monthly_return.max())"
      ],
      "execution_count": 145,
      "outputs": [
        {
          "output_type": "stream",
          "text": [
            "-0.0020650195522376826\n",
            "0.07826749706854563\n",
            "0.11124948111249489\n"
          ],
          "name": "stdout"
        }
      ]
    },
    {
      "cell_type": "markdown",
      "metadata": {
        "id": "T29s3mzfILe5"
      },
      "source": [
        "Another two methods frequently used on Series are .diff() and .pct_change(). The former calculates the difference between consecutive elements, and the latter calculates the percentage change."
      ]
    },
    {
      "cell_type": "code",
      "metadata": {
        "id": "NdTdGwKv2qrJ",
        "colab": {
          "base_uri": "https://localhost:8080/"
        },
        "outputId": "ec80aa38-6f68-4984-fa26-195de0a65abc"
      },
      "source": [
        "print(last_day.diff())\n",
        "print(last_day.pct_change())"
      ],
      "execution_count": 146,
      "outputs": [
        {
          "output_type": "stream",
          "text": [
            "Date\n",
            "2017-01-31          NaN\n",
            "2017-02-28    16.029211\n",
            "2017-03-31     6.615972\n",
            "2017-04-30    -0.009919\n",
            "2017-05-31     9.656274\n",
            "2017-06-30    -8.704681\n",
            "2017-07-31     4.810482\n",
            "2017-08-31    15.751511\n",
            "2017-09-30    -9.880000\n",
            "2017-10-31    14.920000\n",
            "2017-11-30     2.810000\n",
            "2017-12-31    -2.620000\n",
            "Freq: M, Name: Adj. Close, dtype: float64\n",
            "Date\n",
            "2017-01-31         NaN\n",
            "2017-02-28    0.133743\n",
            "2017-03-31    0.048690\n",
            "2017-04-30   -0.000070\n",
            "2017-05-31    0.067770\n",
            "2017-06-30   -0.057214\n",
            "2017-07-31    0.033537\n",
            "2017-08-31    0.106251\n",
            "2017-09-30   -0.060244\n",
            "2017-10-31    0.096808\n",
            "2017-11-30    0.016623\n",
            "2017-12-31   -0.015246\n",
            "Freq: M, Name: Adj. Close, dtype: float64\n"
          ],
          "name": "stdout"
        }
      ]
    },
    {
      "cell_type": "code",
      "metadata": {
        "colab": {
          "base_uri": "https://localhost:8080/"
        },
        "id": "wVN3T7gLIKxd",
        "outputId": "72f2614c-5677-4385-c456-96b920a4fd1f"
      },
      "source": [
        "# My example\n",
        "# difference an percentage of changes of the prices of oil the last day of each month \n",
        "print(op_last_day.diff())\n",
        "print(op_last_day.pct_change())"
      ],
      "execution_count": 147,
      "outputs": [
        {
          "output_type": "stream",
          "text": [
            "Date\n",
            "2012-01-31      NaN\n",
            "2012-02-29     8.62\n",
            "2012-03-31    -4.05\n",
            "2012-04-30     1.86\n",
            "2012-05-31   -18.37\n",
            "2012-06-30    -1.48\n",
            "2012-07-31     3.04\n",
            "2012-08-31     8.39\n",
            "2012-09-30    -4.29\n",
            "2012-10-31    -5.95\n",
            "2012-11-30     2.31\n",
            "2012-12-31     3.29\n",
            "Freq: M, Name: Value, dtype: float64\n",
            "Date\n",
            "2012-01-31         NaN\n",
            "2012-02-29    0.087548\n",
            "2012-03-31   -0.037822\n",
            "2012-04-30    0.018053\n",
            "2012-05-31   -0.175136\n",
            "2012-06-30   -0.017106\n",
            "2012-07-31    0.035748\n",
            "2012-08-31    0.095254\n",
            "2012-09-30   -0.044470\n",
            "2012-10-31   -0.064548\n",
            "2012-11-30    0.026789\n",
            "2012-12-31    0.037158\n",
            "Freq: M, Name: Value, dtype: float64\n"
          ],
          "name": "stdout"
        }
      ]
    },
    {
      "cell_type": "markdown",
      "metadata": {
        "id": "DexkOxy3ITl1"
      },
      "source": [
        "Notice that we induced a NaN value while calculating percentage changes i.e. returns.\n",
        "\n",
        "When dealing with NaN values, we usually either removing the data point or fill it with a specific value. Here we fill it with 0:"
      ]
    },
    {
      "cell_type": "code",
      "metadata": {
        "id": "7rGczHqA2qrJ",
        "colab": {
          "base_uri": "https://localhost:8080/"
        },
        "outputId": "32a7055e-f6d5-4233-8e5a-b6098ca9f6a0"
      },
      "source": [
        "daily_return = last_day.pct_change()\n",
        "print(daily_return.fillna(0))"
      ],
      "execution_count": 148,
      "outputs": [
        {
          "output_type": "stream",
          "text": [
            "Date\n",
            "2017-01-31    0.000000\n",
            "2017-02-28    0.133743\n",
            "2017-03-31    0.048690\n",
            "2017-04-30   -0.000070\n",
            "2017-05-31    0.067770\n",
            "2017-06-30   -0.057214\n",
            "2017-07-31    0.033537\n",
            "2017-08-31    0.106251\n",
            "2017-09-30   -0.060244\n",
            "2017-10-31    0.096808\n",
            "2017-11-30    0.016623\n",
            "2017-12-31   -0.015246\n",
            "Freq: M, Name: Adj. Close, dtype: float64\n"
          ],
          "name": "stdout"
        }
      ]
    },
    {
      "cell_type": "code",
      "metadata": {
        "colab": {
          "base_uri": "https://localhost:8080/"
        },
        "id": "dncw8uLPIpoY",
        "outputId": "62d5f236-4a49-43af-cc4f-67f97efc846d"
      },
      "source": [
        "# My example\n",
        "# filling NaN with 0's\n",
        "op_daily_return = op_last_day.pct_change()\n",
        "print(op_daily_return.fillna(0))"
      ],
      "execution_count": 149,
      "outputs": [
        {
          "output_type": "stream",
          "text": [
            "Date\n",
            "2012-01-31    0.000000\n",
            "2012-02-29    0.087548\n",
            "2012-03-31   -0.037822\n",
            "2012-04-30    0.018053\n",
            "2012-05-31   -0.175136\n",
            "2012-06-30   -0.017106\n",
            "2012-07-31    0.035748\n",
            "2012-08-31    0.095254\n",
            "2012-09-30   -0.044470\n",
            "2012-10-31   -0.064548\n",
            "2012-11-30    0.026789\n",
            "2012-12-31    0.037158\n",
            "Freq: M, Name: Value, dtype: float64\n"
          ],
          "name": "stdout"
        }
      ]
    },
    {
      "cell_type": "markdown",
      "metadata": {
        "id": "ou4qMiVFIXf9"
      },
      "source": [
        "Alternatively, we can fill a NaN with the next fitted value. This is called 'backward fill', or 'bfill' in short:"
      ]
    },
    {
      "cell_type": "code",
      "metadata": {
        "id": "DewGsunx2qrK",
        "colab": {
          "base_uri": "https://localhost:8080/"
        },
        "outputId": "4f99d56e-94d9-4567-e194-7565c93074e4"
      },
      "source": [
        "daily_return = last_day.pct_change()\n",
        "print(daily_return.fillna(method = 'bfill'))"
      ],
      "execution_count": 150,
      "outputs": [
        {
          "output_type": "stream",
          "text": [
            "Date\n",
            "2017-01-31    0.133743\n",
            "2017-02-28    0.133743\n",
            "2017-03-31    0.048690\n",
            "2017-04-30   -0.000070\n",
            "2017-05-31    0.067770\n",
            "2017-06-30   -0.057214\n",
            "2017-07-31    0.033537\n",
            "2017-08-31    0.106251\n",
            "2017-09-30   -0.060244\n",
            "2017-10-31    0.096808\n",
            "2017-11-30    0.016623\n",
            "2017-12-31   -0.015246\n",
            "Freq: M, Name: Adj. Close, dtype: float64\n"
          ],
          "name": "stdout"
        }
      ]
    },
    {
      "cell_type": "code",
      "metadata": {
        "colab": {
          "base_uri": "https://localhost:8080/"
        },
        "id": "3fy5UBDcJAsn",
        "outputId": "e7b764fd-4ace-49d0-9604-2e92fd2ccb99"
      },
      "source": [
        "# My example\n",
        "# filling NaN with the next fitted value\n",
        "op_daily_return = op_last_day.pct_change()\n",
        "print(op_daily_return.fillna(method = 'bfill'))"
      ],
      "execution_count": 151,
      "outputs": [
        {
          "output_type": "stream",
          "text": [
            "Date\n",
            "2012-01-31    0.087548\n",
            "2012-02-29    0.087548\n",
            "2012-03-31   -0.037822\n",
            "2012-04-30    0.018053\n",
            "2012-05-31   -0.175136\n",
            "2012-06-30   -0.017106\n",
            "2012-07-31    0.035748\n",
            "2012-08-31    0.095254\n",
            "2012-09-30   -0.044470\n",
            "2012-10-31   -0.064548\n",
            "2012-11-30    0.026789\n",
            "2012-12-31    0.037158\n",
            "Freq: M, Name: Value, dtype: float64\n"
          ],
          "name": "stdout"
        }
      ]
    },
    {
      "cell_type": "markdown",
      "metadata": {
        "id": "pu2VB6hfIayr"
      },
      "source": [
        "As expected, since there is a 'backward fill' method, there must be a 'forward fill' method, or 'ffill' in short. However we can't use it here because the NaN is the first value.\n",
        "\n",
        "We can also simply remove NaN values by .dropna()"
      ]
    },
    {
      "cell_type": "code",
      "metadata": {
        "id": "8p0TYjxC2qrK",
        "colab": {
          "base_uri": "https://localhost:8080/"
        },
        "outputId": "8889ef7f-f363-4715-a9c9-0aaf8e3173f8"
      },
      "source": [
        "daily_return = last_day.pct_change()\n",
        "daily_return.dropna()"
      ],
      "execution_count": 152,
      "outputs": [
        {
          "output_type": "execute_result",
          "data": {
            "text/plain": [
              "Date\n",
              "2017-02-28    0.133743\n",
              "2017-03-31    0.048690\n",
              "2017-04-30   -0.000070\n",
              "2017-05-31    0.067770\n",
              "2017-06-30   -0.057214\n",
              "2017-07-31    0.033537\n",
              "2017-08-31    0.106251\n",
              "2017-09-30   -0.060244\n",
              "2017-10-31    0.096808\n",
              "2017-11-30    0.016623\n",
              "2017-12-31   -0.015246\n",
              "Freq: M, Name: Adj. Close, dtype: float64"
            ]
          },
          "metadata": {
            "tags": []
          },
          "execution_count": 152
        }
      ]
    },
    {
      "cell_type": "code",
      "metadata": {
        "colab": {
          "base_uri": "https://localhost:8080/"
        },
        "id": "FyUSaaOUJO9Z",
        "outputId": "bcfe8c87-a6fb-4e12-88dd-2a35c9108dac"
      },
      "source": [
        "# My example\n",
        "# drop NaN\n",
        "op_daily_return = op_last_day.pct_change()\n",
        "op_daily_return.dropna()"
      ],
      "execution_count": 153,
      "outputs": [
        {
          "output_type": "execute_result",
          "data": {
            "text/plain": [
              "Date\n",
              "2012-02-29    0.087548\n",
              "2012-03-31   -0.037822\n",
              "2012-04-30    0.018053\n",
              "2012-05-31   -0.175136\n",
              "2012-06-30   -0.017106\n",
              "2012-07-31    0.035748\n",
              "2012-08-31    0.095254\n",
              "2012-09-30   -0.044470\n",
              "2012-10-31   -0.064548\n",
              "2012-11-30    0.026789\n",
              "2012-12-31    0.037158\n",
              "Freq: M, Name: Value, dtype: float64"
            ]
          },
          "metadata": {
            "tags": []
          },
          "execution_count": 153
        }
      ]
    },
    {
      "cell_type": "markdown",
      "metadata": {
        "id": "KNuULaLTIm6X"
      },
      "source": [
        "###DataFrame\n",
        "The **DataFrame** is the most commonly used data structure in Pandas. It is essentially a table, just like an Excel spreadsheet.\n",
        "\n",
        "More precisely, a DataFrame is a collection of Series objects, each of which may contain different data types. A DataFrame can be created from various data types: dictionary, 2-D numpy.ndarray, a Series or another DataFrame."
      ]
    },
    {
      "cell_type": "markdown",
      "metadata": {
        "id": "IIbnB_qEJBK8"
      },
      "source": [
        "####Create DataFrames\n",
        "The most common method of creating a DataFrame is passing a dictionary:"
      ]
    },
    {
      "cell_type": "code",
      "metadata": {
        "id": "YFJzziMM2qrM",
        "colab": {
          "base_uri": "https://localhost:8080/"
        },
        "outputId": "82b1446d-9d28-4da8-decd-fb2ac5dfb701"
      },
      "source": [
        "dict = {'AAPL': [143.5, 144.09, 142.73, 144.18, 143.77],'GOOG':[898.7, 911.71, 906.69, 918.59, 926.99],\n",
        "        'IBM':[155.58, 153.67, 152.36, 152.94, 153.49]}\n",
        "data_index = pd.date_range('2017-07-03',periods = 5, freq = 'D')\n",
        "df = pd.DataFrame(dict, index = data_index)\n",
        "print(df)"
      ],
      "execution_count": 154,
      "outputs": [
        {
          "output_type": "stream",
          "text": [
            "              AAPL    GOOG     IBM\n",
            "2017-07-03  143.50  898.70  155.58\n",
            "2017-07-04  144.09  911.71  153.67\n",
            "2017-07-05  142.73  906.69  152.36\n",
            "2017-07-06  144.18  918.59  152.94\n",
            "2017-07-07  143.77  926.99  153.49\n"
          ],
          "name": "stdout"
        }
      ]
    },
    {
      "cell_type": "code",
      "metadata": {
        "colab": {
          "base_uri": "https://localhost:8080/"
        },
        "id": "sHTA9064Ji4A",
        "outputId": "17ba0e19-a7a5-419b-e89f-867003ecf280"
      },
      "source": [
        "# My example\n",
        "my_dict = {'Hours': [1, 7, 5, 33, 2, 5],'Price':[45.56, 34, 65.4, 67.5, 46.6, 56.12],\n",
        "        'Profits':[10, 14.32, 6.44, 15.33, 23.01, 67.4]}\n",
        "data_index_2 = pd.date_range('2012-01-01',periods = 6, freq = 'M')\n",
        "df_2 = pd.DataFrame(my_dict, index = data_index_2)\n",
        "print(df_2)"
      ],
      "execution_count": 155,
      "outputs": [
        {
          "output_type": "stream",
          "text": [
            "            Hours  Price  Profits\n",
            "2012-01-31      1  45.56    10.00\n",
            "2012-02-29      7  34.00    14.32\n",
            "2012-03-31      5  65.40     6.44\n",
            "2012-04-30     33  67.50    15.33\n",
            "2012-05-31      2  46.60    23.01\n",
            "2012-06-30      5  56.12    67.40\n"
          ],
          "name": "stdout"
        }
      ]
    },
    {
      "cell_type": "markdown",
      "metadata": {
        "id": "IJLPbWSWI-Pk"
      },
      "source": [
        "####Manipulating DataFrames\n",
        "We can fetch values in a DataFrame by columns and index. Each column in a DataFrame is essentially a Pandas Series. We can fetch a column by square brackets: df['column_name']\n",
        "\n",
        "If a column name contains no spaces, then we can also use df.column_name to fetch a column:"
      ]
    },
    {
      "cell_type": "code",
      "metadata": {
        "colab": {
          "base_uri": "https://localhost:8080/"
        },
        "id": "INc--yNCuOik",
        "outputId": "09e97244-0d55-460c-9e7d-4af688c43ea8"
      },
      "source": [
        "df = aapl_table\n",
        "print (df.Close.tail(5))\n",
        "print (df['Adj. Volume'].tail(5))"
      ],
      "execution_count": 156,
      "outputs": [
        {
          "output_type": "stream",
          "text": [
            "Date\n",
            "2018-03-21    171.270\n",
            "2018-03-22    168.845\n",
            "2018-03-23    164.940\n",
            "2018-03-26    172.770\n",
            "2018-03-27    168.340\n",
            "Name: Close, dtype: float64\n",
            "Date\n",
            "2018-03-21    35247358.0\n",
            "2018-03-22    41051076.0\n",
            "2018-03-23    40248954.0\n",
            "2018-03-26    36272617.0\n",
            "2018-03-27    38962839.0\n",
            "Name: Adj. Volume, dtype: float64\n"
          ],
          "name": "stdout"
        }
      ]
    },
    {
      "cell_type": "code",
      "metadata": {
        "colab": {
          "base_uri": "https://localhost:8080/"
        },
        "id": "eVSSew8BKkMn",
        "outputId": "a1551a01-e201-4294-ee5d-96bbb6eb14e4"
      },
      "source": [
        "# My example\n",
        "msft = quandl.get(\"wiki/msft\")\n",
        "# Printing last 4 elements of column open\n",
        "print (msft.Open.tail(4))\n",
        "# Printing first 6 elements of column low\n",
        "print (msft['Low'].head(6))\n"
      ],
      "execution_count": 157,
      "outputs": [
        {
          "output_type": "stream",
          "text": [
            "Date\n",
            "2018-03-22    91.265\n",
            "2018-03-23    89.500\n",
            "2018-03-26    90.610\n",
            "2018-03-27    94.940\n",
            "Name: Open, dtype: float64\n",
            "Date\n",
            "1986-03-13    25.50\n",
            "1986-03-14    28.00\n",
            "1986-03-17    29.00\n",
            "1986-03-18    28.50\n",
            "1986-03-19    28.00\n",
            "1986-03-20    27.25\n",
            "Name: Low, dtype: float64\n"
          ],
          "name": "stdout"
        }
      ]
    },
    {
      "cell_type": "markdown",
      "metadata": {
        "id": "cW2KKM5VJdmC"
      },
      "source": [
        "We may select certain columns of a DataFrame using their names:"
      ]
    },
    {
      "cell_type": "code",
      "metadata": {
        "id": "W6mf-7nC2qrN",
        "colab": {
          "base_uri": "https://localhost:8080/"
        },
        "outputId": "f8e59cb3-c94e-47c2-c55b-ecc26dc98cd5"
      },
      "source": [
        "aapl_2016 = df['2016']\n",
        "aapl_month = aapl_2016.resample('M').agg(lambda x: x[-1])\n",
        "print(aapl_month)"
      ],
      "execution_count": 158,
      "outputs": [
        {
          "output_type": "stream",
          "text": [
            "              Open      High     Low  ...    Adj. Low  Adj. Close  Adj. Volume\n",
            "Date                                  ...                                     \n",
            "2016-01-31   94.79   97.3400   94.35  ...   91.156128   94.044912   64416504.0\n",
            "2016-02-29   96.86   98.2300   96.65  ...   93.880927   93.919781   35216277.0\n",
            "2016-03-31  109.72  109.9000  108.88  ...  105.760531  105.867380   25888449.0\n",
            "2016-04-30   93.99   94.7200   92.51  ...   89.859540   91.054300   68531478.0\n",
            "2016-05-31   99.60  100.4000   98.82  ...   96.575559   97.591939   42307212.0\n",
            "2016-06-30   94.44   95.7700   94.30  ...   92.158220   93.428693   35836356.0\n",
            "2016-07-31  104.19  104.5500  103.68  ...  101.325177  101.843140   27733688.0\n",
            "2016-08-31  105.66  106.5699  105.64  ...  103.796505  104.248477   29662406.0\n",
            "2016-09-30  112.46  113.3700  111.80  ...  109.849008  111.077195   36379106.0\n",
            "2016-10-31  113.65  114.2300  113.20  ...  111.224577  111.558644   26419398.0\n",
            "2016-11-30  111.56  112.2000  110.27  ...  108.908004  109.154917   36162258.0\n",
            "2016-12-31  116.65  117.2000  115.43  ...  114.004271  114.389454   30586265.0\n",
            "\n",
            "[12 rows x 12 columns]\n"
          ],
          "name": "stdout"
        }
      ]
    },
    {
      "cell_type": "code",
      "metadata": {
        "colab": {
          "base_uri": "https://localhost:8080/"
        },
        "id": "OgehKUqjOzTX",
        "outputId": "f1513f79-5a09-4f44-aba7-3642be9cb33d"
      },
      "source": [
        "# My example\n",
        "# takes rows whose index date is in 2013\n",
        "msft_2013 = msft['2013']\n",
        "#rows of last day of every month of 2013\n",
        "msft_2013_ld = msft_2013.resample('M').agg(lambda x: x[-1])\n",
        "print(msft_2013_ld)"
      ],
      "execution_count": 159,
      "outputs": [
        {
          "output_type": "stream",
          "text": [
            "             Open   High     Low  ...   Adj. Low  Adj. Close  Adj. Volume\n",
            "Date                              ...                                    \n",
            "2013-01-31  27.79  27.97  27.400  ...  24.001763   24.045562   50530000.0\n",
            "2013-02-28  27.88  27.97  27.740  ...  24.498879   24.551868   35840200.0\n",
            "2013-03-31  28.32  28.66  28.260  ...  24.958122   25.262813   55453800.0\n",
            "2013-04-30  32.56  33.11  32.280  ...  28.508428   29.232620   75165200.0\n",
            "2013-05-31  34.82  35.28  34.790  ...  30.935922   31.033736   56165700.0\n",
            "2013-06-30  34.38  34.79  34.340  ...  30.535773   30.718063   65545500.0\n",
            "2013-07-31  31.97  32.05  31.710  ...  28.197128   28.312726   43898400.0\n",
            "2013-08-31  33.37  33.48  33.090  ...  29.634228   29.911853   42790200.0\n",
            "2013-09-30  33.00  33.31  32.700  ...  29.284957   29.804385   39839500.0\n",
            "2013-10-31  35.66  35.69  35.340  ...  31.649248   31.707459   41682300.0\n",
            "2013-11-30  37.82  38.29  37.820  ...  34.128377   34.408117   22090400.0\n",
            "2013-12-31  37.40  37.58  37.217  ...  33.584236   33.758397   17503500.0\n",
            "\n",
            "[12 rows x 12 columns]\n"
          ],
          "name": "stdout"
        }
      ]
    },
    {
      "cell_type": "markdown",
      "metadata": {
        "id": "sxV8pn4OvASF"
      },
      "source": [
        "We may select certain columns of a DataFrame using their names:"
      ]
    },
    {
      "cell_type": "code",
      "metadata": {
        "id": "3iWChVQE2qrO",
        "colab": {
          "base_uri": "https://localhost:8080/"
        },
        "outputId": "ea6f8dbd-4d9e-4e68-e484-665a37d281b0"
      },
      "source": [
        "aapl_bar = aapl_month[['Open', 'High', 'Low', 'Close']]\n",
        "print(aapl_bar)"
      ],
      "execution_count": 160,
      "outputs": [
        {
          "output_type": "stream",
          "text": [
            "              Open      High     Low   Close\n",
            "Date                                        \n",
            "2016-01-31   94.79   97.3400   94.35   97.34\n",
            "2016-02-29   96.86   98.2300   96.65   96.69\n",
            "2016-03-31  109.72  109.9000  108.88  108.99\n",
            "2016-04-30   93.99   94.7200   92.51   93.74\n",
            "2016-05-31   99.60  100.4000   98.82   99.86\n",
            "2016-06-30   94.44   95.7700   94.30   95.60\n",
            "2016-07-31  104.19  104.5500  103.68  104.21\n",
            "2016-08-31  105.66  106.5699  105.64  106.10\n",
            "2016-09-30  112.46  113.3700  111.80  113.05\n",
            "2016-10-31  113.65  114.2300  113.20  113.54\n",
            "2016-11-30  111.56  112.2000  110.27  110.52\n",
            "2016-12-31  116.65  117.2000  115.43  115.82\n"
          ],
          "name": "stdout"
        }
      ]
    },
    {
      "cell_type": "code",
      "metadata": {
        "colab": {
          "base_uri": "https://localhost:8080/"
        },
        "id": "rA_zZkF6PY9A",
        "outputId": "52055777-b741-4872-bc32-17e05e0f78dc"
      },
      "source": [
        "# My example\n",
        "# Only selecting Open and Close columns\n",
        "msft_bar = msft_2013_ld[['Open','Close']]\n",
        "print(msft_bar)"
      ],
      "execution_count": 161,
      "outputs": [
        {
          "output_type": "stream",
          "text": [
            "             Open   Close\n",
            "Date                     \n",
            "2013-01-31  27.79  27.450\n",
            "2013-02-28  27.88  27.800\n",
            "2013-03-31  28.32  28.605\n",
            "2013-04-30  32.56  33.100\n",
            "2013-05-31  34.82  34.900\n",
            "2013-06-30  34.38  34.545\n",
            "2013-07-31  31.97  31.840\n",
            "2013-08-31  33.37  33.400\n",
            "2013-09-30  33.00  33.280\n",
            "2013-10-31  35.66  35.405\n",
            "2013-11-30  37.82  38.130\n",
            "2013-12-31  37.40  37.410\n"
          ],
          "name": "stdout"
        }
      ]
    },
    {
      "cell_type": "markdown",
      "metadata": {
        "id": "btMVs-dLvTtL"
      },
      "source": [
        "We can even specify both rows and columns using loc[]. The row indices and column names are separated by a comma:"
      ]
    },
    {
      "cell_type": "code",
      "metadata": {
        "id": "n0XY1P1O2qrO",
        "colab": {
          "base_uri": "https://localhost:8080/"
        },
        "outputId": "4824ae5b-e77a-4303-d1e7-56d84742742b"
      },
      "source": [
        "print(aapl_month.loc['2016-03':'2016-06',['Open', 'High', 'Low', 'Close']])"
      ],
      "execution_count": 162,
      "outputs": [
        {
          "output_type": "stream",
          "text": [
            "              Open    High     Low   Close\n",
            "Date                                      \n",
            "2016-03-31  109.72  109.90  108.88  108.99\n",
            "2016-04-30   93.99   94.72   92.51   93.74\n",
            "2016-05-31   99.60  100.40   98.82   99.86\n",
            "2016-06-30   94.44   95.77   94.30   95.60\n"
          ],
          "name": "stdout"
        }
      ]
    },
    {
      "cell_type": "code",
      "metadata": {
        "colab": {
          "base_uri": "https://localhost:8080/"
        },
        "id": "TOKTjI71Pz02",
        "outputId": "480f1659-351b-4df0-99fd-607f30a04099"
      },
      "source": [
        "# My example\n",
        "# Only selecting Open and Close columns in the first semester of 2013\n",
        "print( msft_2013_ld.loc['2013-01':'2013-06',['Open','Close']])"
      ],
      "execution_count": 163,
      "outputs": [
        {
          "output_type": "stream",
          "text": [
            "             Open   Close\n",
            "Date                     \n",
            "2013-01-31  27.79  27.450\n",
            "2013-02-28  27.88  27.800\n",
            "2013-03-31  28.32  28.605\n",
            "2013-04-30  32.56  33.100\n",
            "2013-05-31  34.82  34.900\n",
            "2013-06-30  34.38  34.545\n"
          ],
          "name": "stdout"
        }
      ]
    },
    {
      "cell_type": "markdown",
      "metadata": {
        "id": "YbQZdA0AvXk0"
      },
      "source": [
        "The subset methods in DataFrame is quite useful. By writing logical statements in square brackets, we can make customized subsets:"
      ]
    },
    {
      "cell_type": "code",
      "metadata": {
        "id": "NEE6epDe2qrO",
        "colab": {
          "base_uri": "https://localhost:8080/"
        },
        "outputId": "e165c8c6-9f84-40ee-833e-1214c651c2ed"
      },
      "source": [
        "above = aapl_bar[aapl_bar.Close > np.mean(aapl_bar.Close)]\n",
        "print(above)"
      ],
      "execution_count": 164,
      "outputs": [
        {
          "output_type": "stream",
          "text": [
            "              Open      High     Low   Close\n",
            "Date                                        \n",
            "2016-03-31  109.72  109.9000  108.88  108.99\n",
            "2016-08-31  105.66  106.5699  105.64  106.10\n",
            "2016-09-30  112.46  113.3700  111.80  113.05\n",
            "2016-10-31  113.65  114.2300  113.20  113.54\n",
            "2016-11-30  111.56  112.2000  110.27  110.52\n",
            "2016-12-31  116.65  117.2000  115.43  115.82\n"
          ],
          "name": "stdout"
        }
      ]
    },
    {
      "cell_type": "code",
      "metadata": {
        "colab": {
          "base_uri": "https://localhost:8080/"
        },
        "id": "Fj53w4P7QNwi",
        "outputId": "cbb62f35-9693-42bf-d3ee-6607e15b7411"
      },
      "source": [
        "# My example\n",
        "# takes the subset of rows whose open is below the open average\n",
        "below = msft_bar[msft_bar.Open > np.mean(msft_bar.Open)]\n",
        "print(below)"
      ],
      "execution_count": 165,
      "outputs": [
        {
          "output_type": "stream",
          "text": [
            "             Open   Close\n",
            "Date                     \n",
            "2013-05-31  34.82  34.900\n",
            "2013-06-30  34.38  34.545\n",
            "2013-08-31  33.37  33.400\n",
            "2013-09-30  33.00  33.280\n",
            "2013-10-31  35.66  35.405\n",
            "2013-11-30  37.82  38.130\n",
            "2013-12-31  37.40  37.410\n"
          ],
          "name": "stdout"
        }
      ]
    },
    {
      "cell_type": "markdown",
      "metadata": {
        "id": "9zspS0Khvr13"
      },
      "source": [
        "####Data Validation\n",
        "As mentioned, all methods that apply to a Series can also be applied to a DataFrame. Here we add a new column to an existing DataFrame:"
      ]
    },
    {
      "cell_type": "code",
      "metadata": {
        "id": "XyX4A77Q2qrP",
        "colab": {
          "base_uri": "https://localhost:8080/"
        },
        "outputId": "485c01bf-12dc-410f-b44f-a81388c73370"
      },
      "source": [
        "aapl_bar['rate_return'] = aapl_bar.Close.pct_change()\n",
        "print(aapl_bar)"
      ],
      "execution_count": 166,
      "outputs": [
        {
          "output_type": "stream",
          "text": [
            "              Open      High     Low   Close  rate_return\n",
            "Date                                                     \n",
            "2016-01-31   94.79   97.3400   94.35   97.34          NaN\n",
            "2016-02-29   96.86   98.2300   96.65   96.69    -0.006678\n",
            "2016-03-31  109.72  109.9000  108.88  108.99     0.127211\n",
            "2016-04-30   93.99   94.7200   92.51   93.74    -0.139921\n",
            "2016-05-31   99.60  100.4000   98.82   99.86     0.065287\n",
            "2016-06-30   94.44   95.7700   94.30   95.60    -0.042660\n",
            "2016-07-31  104.19  104.5500  103.68  104.21     0.090063\n",
            "2016-08-31  105.66  106.5699  105.64  106.10     0.018136\n",
            "2016-09-30  112.46  113.3700  111.80  113.05     0.065504\n",
            "2016-10-31  113.65  114.2300  113.20  113.54     0.004334\n",
            "2016-11-30  111.56  112.2000  110.27  110.52    -0.026599\n",
            "2016-12-31  116.65  117.2000  115.43  115.82     0.047955\n"
          ],
          "name": "stdout"
        },
        {
          "output_type": "stream",
          "text": [
            "/usr/local/lib/python3.7/dist-packages/ipykernel_launcher.py:1: SettingWithCopyWarning: \n",
            "A value is trying to be set on a copy of a slice from a DataFrame.\n",
            "Try using .loc[row_indexer,col_indexer] = value instead\n",
            "\n",
            "See the caveats in the documentation: https://pandas.pydata.org/pandas-docs/stable/user_guide/indexing.html#returning-a-view-versus-a-copy\n",
            "  \"\"\"Entry point for launching an IPython kernel.\n"
          ],
          "name": "stderr"
        }
      ]
    },
    {
      "cell_type": "code",
      "metadata": {
        "colab": {
          "base_uri": "https://localhost:8080/"
        },
        "id": "z-38qxUNQyjU",
        "outputId": "5eedad27-555e-43f9-f488-f9967a093594"
      },
      "source": [
        "# My example\n",
        "# the column rate return in the table will represent the difference between the last day Open of each month\n",
        "msft_bar['rate_return'] = msft_bar.Open.diff()\n",
        "print(msft_bar)"
      ],
      "execution_count": 167,
      "outputs": [
        {
          "output_type": "stream",
          "text": [
            "             Open   Close  rate_return\n",
            "Date                                  \n",
            "2013-01-31  27.79  27.450          NaN\n",
            "2013-02-28  27.88  27.800         0.09\n",
            "2013-03-31  28.32  28.605         0.44\n",
            "2013-04-30  32.56  33.100         4.24\n",
            "2013-05-31  34.82  34.900         2.26\n",
            "2013-06-30  34.38  34.545        -0.44\n",
            "2013-07-31  31.97  31.840        -2.41\n",
            "2013-08-31  33.37  33.400         1.40\n",
            "2013-09-30  33.00  33.280        -0.37\n",
            "2013-10-31  35.66  35.405         2.66\n",
            "2013-11-30  37.82  38.130         2.16\n",
            "2013-12-31  37.40  37.410        -0.42\n"
          ],
          "name": "stdout"
        },
        {
          "output_type": "stream",
          "text": [
            "/usr/local/lib/python3.7/dist-packages/ipykernel_launcher.py:3: SettingWithCopyWarning: \n",
            "A value is trying to be set on a copy of a slice from a DataFrame.\n",
            "Try using .loc[row_indexer,col_indexer] = value instead\n",
            "\n",
            "See the caveats in the documentation: https://pandas.pydata.org/pandas-docs/stable/user_guide/indexing.html#returning-a-view-versus-a-copy\n",
            "  This is separate from the ipykernel package so we can avoid doing imports until\n"
          ],
          "name": "stderr"
        }
      ]
    },
    {
      "cell_type": "markdown",
      "metadata": {
        "id": "B-YnqAxyv8G4"
      },
      "source": [
        "Here the calculation introduced a NaN value. If the DataFrame is large, we would not be able to observe it. isnull() provides a convenient way to check abnormal values."
      ]
    },
    {
      "cell_type": "code",
      "metadata": {
        "id": "jhJQ_EiP2qrP",
        "colab": {
          "base_uri": "https://localhost:8080/"
        },
        "outputId": "887d126d-13cf-4dd6-dcef-df9958054b76"
      },
      "source": [
        "missing = aapl_bar.isnull()\n",
        "print(missing)\n",
        "print('\\n------------------ separate line -----------------\\n')\n",
        "print(missing.describe())"
      ],
      "execution_count": 168,
      "outputs": [
        {
          "output_type": "stream",
          "text": [
            "             Open   High    Low  Close  rate_return\n",
            "Date                                               \n",
            "2016-01-31  False  False  False  False         True\n",
            "2016-02-29  False  False  False  False        False\n",
            "2016-03-31  False  False  False  False        False\n",
            "2016-04-30  False  False  False  False        False\n",
            "2016-05-31  False  False  False  False        False\n",
            "2016-06-30  False  False  False  False        False\n",
            "2016-07-31  False  False  False  False        False\n",
            "2016-08-31  False  False  False  False        False\n",
            "2016-09-30  False  False  False  False        False\n",
            "2016-10-31  False  False  False  False        False\n",
            "2016-11-30  False  False  False  False        False\n",
            "2016-12-31  False  False  False  False        False\n",
            "\n",
            "------------------ separate line -----------------\n",
            "\n",
            "         Open   High    Low  Close rate_return\n",
            "count      12     12     12     12          12\n",
            "unique      1      1      1      1           2\n",
            "top     False  False  False  False       False\n",
            "freq       12     12     12     12          11\n"
          ],
          "name": "stdout"
        }
      ]
    },
    {
      "cell_type": "code",
      "metadata": {
        "colab": {
          "base_uri": "https://localhost:8080/"
        },
        "id": "5OSNoCSuRSae",
        "outputId": "9d2c3323-bcba-42f8-cf80-19c06a00c10a"
      },
      "source": [
        "# My example\n",
        "#print if the respective value is null \n",
        "msft_missing = msft_bar.isnull()\n",
        "print(msft_missing)\n",
        "print('\\n------------------ separate line -----------------\\n')\n",
        "# Gives statistics for each column\n",
        "print(missing.describe())"
      ],
      "execution_count": 169,
      "outputs": [
        {
          "output_type": "stream",
          "text": [
            "             Open  Close  rate_return\n",
            "Date                                 \n",
            "2013-01-31  False  False         True\n",
            "2013-02-28  False  False        False\n",
            "2013-03-31  False  False        False\n",
            "2013-04-30  False  False        False\n",
            "2013-05-31  False  False        False\n",
            "2013-06-30  False  False        False\n",
            "2013-07-31  False  False        False\n",
            "2013-08-31  False  False        False\n",
            "2013-09-30  False  False        False\n",
            "2013-10-31  False  False        False\n",
            "2013-11-30  False  False        False\n",
            "2013-12-31  False  False        False\n",
            "\n",
            "------------------ separate line -----------------\n",
            "\n",
            "         Open   High    Low  Close rate_return\n",
            "count      12     12     12     12          12\n",
            "unique      1      1      1      1           2\n",
            "top     False  False  False  False       False\n",
            "freq       12     12     12     12          11\n"
          ],
          "name": "stdout"
        }
      ]
    },
    {
      "cell_type": "markdown",
      "metadata": {
        "id": "AnZv4sTuwOGA"
      },
      "source": [
        "The row labelled \"unique\" indicates the number of unique values in each column. Since the \"rate_return\" column has 2 unique values, it has at least one missing value.\n",
        "\n",
        "We can deduce the number of missing values by comparing \"count\" with \"freq\". There are 12 counts and 11 False values, so there is one True value which corresponds to the missing value.\n",
        "\n",
        "We can also find the rows with missing values easily:"
      ]
    },
    {
      "cell_type": "code",
      "metadata": {
        "id": "8Yn_Qlsc2qrQ",
        "colab": {
          "base_uri": "https://localhost:8080/"
        },
        "outputId": "5253e42e-c29e-4246-f768-9c1c83169c05"
      },
      "source": [
        "print(missing[missing.rate_return == True])"
      ],
      "execution_count": 170,
      "outputs": [
        {
          "output_type": "stream",
          "text": [
            "             Open   High    Low  Close  rate_return\n",
            "Date                                               \n",
            "2016-01-31  False  False  False  False         True\n"
          ],
          "name": "stdout"
        }
      ]
    },
    {
      "cell_type": "code",
      "metadata": {
        "colab": {
          "base_uri": "https://localhost:8080/"
        },
        "id": "mN91KABqRvF9",
        "outputId": "3f2ee3f9-9508-4305-add8-e4af0b1f8d39"
      },
      "source": [
        "# My example\n",
        "# Only the first row will appear, beacause it's difference with the last (and inexistent) period is NaN \n",
        "print(msft_missing[msft_missing.rate_return == True])"
      ],
      "execution_count": 171,
      "outputs": [
        {
          "output_type": "stream",
          "text": [
            "             Open  Close  rate_return\n",
            "Date                                 \n",
            "2013-01-31  False  False         True\n"
          ],
          "name": "stdout"
        }
      ]
    },
    {
      "cell_type": "markdown",
      "metadata": {
        "id": "vBy4IG2swaDu"
      },
      "source": [
        "Usually when dealing with missing data, we either delete the whole row or fill it with some value. As we introduced in the Series chapter, the same method **dropna()** and **fillna()** can be applied to a DataFrame.\n"
      ]
    },
    {
      "cell_type": "code",
      "metadata": {
        "id": "3t-EoEZw2qrQ",
        "colab": {
          "base_uri": "https://localhost:8080/"
        },
        "outputId": "62cde5fa-5ebf-4ba4-959f-6cbaa2f4b567"
      },
      "source": [
        "drop = aapl_bar.dropna()\n",
        "print(drop)\n",
        "print('\\n---------------------- separate line--------------------\\n')\n",
        "fill = aapl_bar.fillna(0)\n",
        "print(fill)"
      ],
      "execution_count": 172,
      "outputs": [
        {
          "output_type": "stream",
          "text": [
            "              Open      High     Low   Close  rate_return\n",
            "Date                                                     \n",
            "2016-02-29   96.86   98.2300   96.65   96.69    -0.006678\n",
            "2016-03-31  109.72  109.9000  108.88  108.99     0.127211\n",
            "2016-04-30   93.99   94.7200   92.51   93.74    -0.139921\n",
            "2016-05-31   99.60  100.4000   98.82   99.86     0.065287\n",
            "2016-06-30   94.44   95.7700   94.30   95.60    -0.042660\n",
            "2016-07-31  104.19  104.5500  103.68  104.21     0.090063\n",
            "2016-08-31  105.66  106.5699  105.64  106.10     0.018136\n",
            "2016-09-30  112.46  113.3700  111.80  113.05     0.065504\n",
            "2016-10-31  113.65  114.2300  113.20  113.54     0.004334\n",
            "2016-11-30  111.56  112.2000  110.27  110.52    -0.026599\n",
            "2016-12-31  116.65  117.2000  115.43  115.82     0.047955\n",
            "\n",
            "---------------------- separate line--------------------\n",
            "\n",
            "              Open      High     Low   Close  rate_return\n",
            "Date                                                     \n",
            "2016-01-31   94.79   97.3400   94.35   97.34     0.000000\n",
            "2016-02-29   96.86   98.2300   96.65   96.69    -0.006678\n",
            "2016-03-31  109.72  109.9000  108.88  108.99     0.127211\n",
            "2016-04-30   93.99   94.7200   92.51   93.74    -0.139921\n",
            "2016-05-31   99.60  100.4000   98.82   99.86     0.065287\n",
            "2016-06-30   94.44   95.7700   94.30   95.60    -0.042660\n",
            "2016-07-31  104.19  104.5500  103.68  104.21     0.090063\n",
            "2016-08-31  105.66  106.5699  105.64  106.10     0.018136\n",
            "2016-09-30  112.46  113.3700  111.80  113.05     0.065504\n",
            "2016-10-31  113.65  114.2300  113.20  113.54     0.004334\n",
            "2016-11-30  111.56  112.2000  110.27  110.52    -0.026599\n",
            "2016-12-31  116.65  117.2000  115.43  115.82     0.047955\n"
          ],
          "name": "stdout"
        }
      ]
    },
    {
      "cell_type": "code",
      "metadata": {
        "colab": {
          "base_uri": "https://localhost:8080/"
        },
        "id": "q6-1vJFrSRS0",
        "outputId": "020bc726-1d7d-420b-dbcd-638541cb6ae9"
      },
      "source": [
        "#My example\n",
        "#droping NaN values\n",
        "msft_drop = msft_bar.dropna()\n",
        "print(msft_drop)\n",
        "print('\\n---------------------- separate line--------------------\\n')\n",
        "# filling NaN values with 0's\n",
        "msft_fill = msft_bar.fillna(0)\n",
        "print(msft_fill)"
      ],
      "execution_count": 173,
      "outputs": [
        {
          "output_type": "stream",
          "text": [
            "             Open   Close  rate_return\n",
            "Date                                  \n",
            "2013-02-28  27.88  27.800         0.09\n",
            "2013-03-31  28.32  28.605         0.44\n",
            "2013-04-30  32.56  33.100         4.24\n",
            "2013-05-31  34.82  34.900         2.26\n",
            "2013-06-30  34.38  34.545        -0.44\n",
            "2013-07-31  31.97  31.840        -2.41\n",
            "2013-08-31  33.37  33.400         1.40\n",
            "2013-09-30  33.00  33.280        -0.37\n",
            "2013-10-31  35.66  35.405         2.66\n",
            "2013-11-30  37.82  38.130         2.16\n",
            "2013-12-31  37.40  37.410        -0.42\n",
            "\n",
            "---------------------- separate line--------------------\n",
            "\n",
            "             Open   Close  rate_return\n",
            "Date                                  \n",
            "2013-01-31  27.79  27.450         0.00\n",
            "2013-02-28  27.88  27.800         0.09\n",
            "2013-03-31  28.32  28.605         0.44\n",
            "2013-04-30  32.56  33.100         4.24\n",
            "2013-05-31  34.82  34.900         2.26\n",
            "2013-06-30  34.38  34.545        -0.44\n",
            "2013-07-31  31.97  31.840        -2.41\n",
            "2013-08-31  33.37  33.400         1.40\n",
            "2013-09-30  33.00  33.280        -0.37\n",
            "2013-10-31  35.66  35.405         2.66\n",
            "2013-11-30  37.82  38.130         2.16\n",
            "2013-12-31  37.40  37.410        -0.42\n"
          ],
          "name": "stdout"
        }
      ]
    },
    {
      "cell_type": "markdown",
      "metadata": {
        "id": "zSBWE5CewnyO"
      },
      "source": [
        "####DataFrame Concat\n",
        "We have seen how to extract a Series from a dataFrame. Now we need to consider how to merge a Series or a DataFrame into another one.\n",
        "\n",
        "In Pandas, the function concat() allows us to merge multiple Series into a DataFrame:"
      ]
    },
    {
      "cell_type": "code",
      "metadata": {
        "id": "D7AXGWhe2qrQ",
        "colab": {
          "base_uri": "https://localhost:8080/"
        },
        "outputId": "48afe2ed-355c-4a30-88cf-65b0e24acfcf"
      },
      "source": [
        "s1 = pd.Series([143.5, 144.09, 142.73, 144.18, 143.77], name = 'AAPL')\n",
        "s2 = pd.Series([898.7, 911.71, 906.69, 918.59, 926.99], name = 'GOOG')\n",
        "data_frame = pd.concat([s1,s2], axis = 1)\n",
        "print(data_frame)"
      ],
      "execution_count": 174,
      "outputs": [
        {
          "output_type": "stream",
          "text": [
            "     AAPL    GOOG\n",
            "0  143.50  898.70\n",
            "1  144.09  911.71\n",
            "2  142.73  906.69\n",
            "3  144.18  918.59\n",
            "4  143.77  926.99\n"
          ],
          "name": "stdout"
        }
      ]
    },
    {
      "cell_type": "code",
      "metadata": {
        "id": "nUEt_K9bSrL9",
        "colab": {
          "base_uri": "https://localhost:8080/"
        },
        "outputId": "f206c8fb-3b2e-45f3-fd70-a1bfe2b4074b"
      },
      "source": [
        "# My example\n",
        "s3 = pd.Series([383.22, 567.5, 386.43, 410.55, 145.49, 448.76, 226.73], name = 'MSFT')\n",
        "s4 = pd.Series([494.45, 350.81, 435.61, 303.62, 128.92, 339.29, 102.52], name = 'TSLA')\n",
        "data_frame_2 = pd.concat([s3,s4], axis = 1)\n",
        "print(data_frame_2)"
      ],
      "execution_count": 175,
      "outputs": [
        {
          "output_type": "stream",
          "text": [
            "     MSFT    TSLA\n",
            "0  383.22  494.45\n",
            "1  567.50  350.81\n",
            "2  386.43  435.61\n",
            "3  410.55  303.62\n",
            "4  145.49  128.92\n",
            "5  448.76  339.29\n",
            "6  226.73  102.52\n"
          ],
          "name": "stdout"
        }
      ]
    },
    {
      "cell_type": "markdown",
      "metadata": {
        "id": "pbwPsOojwrqb"
      },
      "source": [
        "The \"axis = 1\" parameter will join two DataFrames by columns:"
      ]
    },
    {
      "cell_type": "code",
      "metadata": {
        "id": "tHUD0MUC2qrQ",
        "colab": {
          "base_uri": "https://localhost:8080/"
        },
        "outputId": "185f152f-2ec8-4605-fd5e-ea537c081eb6"
      },
      "source": [
        "log_price = np.log(aapl_bar.Close)\n",
        "log_price.name = 'log_price'\n",
        "print(log_price)\n",
        "print('\\n---------------------- separate line--------------------\\n')\n",
        "concat = pd.concat([aapl_bar, log_price], axis = 1)\n",
        "print(concat)"
      ],
      "execution_count": 176,
      "outputs": [
        {
          "output_type": "stream",
          "text": [
            "Date\n",
            "2016-01-31    4.578210\n",
            "2016-02-29    4.571510\n",
            "2016-03-31    4.691256\n",
            "2016-04-30    4.540525\n",
            "2016-05-31    4.603769\n",
            "2016-06-30    4.560173\n",
            "2016-07-31    4.646408\n",
            "2016-08-31    4.664382\n",
            "2016-09-30    4.727830\n",
            "2016-10-31    4.732155\n",
            "2016-11-30    4.705197\n",
            "2016-12-31    4.752037\n",
            "Freq: M, Name: log_price, dtype: float64\n",
            "\n",
            "---------------------- separate line--------------------\n",
            "\n",
            "              Open      High     Low   Close  rate_return  log_price\n",
            "Date                                                                \n",
            "2016-01-31   94.79   97.3400   94.35   97.34          NaN   4.578210\n",
            "2016-02-29   96.86   98.2300   96.65   96.69    -0.006678   4.571510\n",
            "2016-03-31  109.72  109.9000  108.88  108.99     0.127211   4.691256\n",
            "2016-04-30   93.99   94.7200   92.51   93.74    -0.139921   4.540525\n",
            "2016-05-31   99.60  100.4000   98.82   99.86     0.065287   4.603769\n",
            "2016-06-30   94.44   95.7700   94.30   95.60    -0.042660   4.560173\n",
            "2016-07-31  104.19  104.5500  103.68  104.21     0.090063   4.646408\n",
            "2016-08-31  105.66  106.5699  105.64  106.10     0.018136   4.664382\n",
            "2016-09-30  112.46  113.3700  111.80  113.05     0.065504   4.727830\n",
            "2016-10-31  113.65  114.2300  113.20  113.54     0.004334   4.732155\n",
            "2016-11-30  111.56  112.2000  110.27  110.52    -0.026599   4.705197\n",
            "2016-12-31  116.65  117.2000  115.43  115.82     0.047955   4.752037\n"
          ],
          "name": "stdout"
        }
      ]
    },
    {
      "cell_type": "code",
      "metadata": {
        "colab": {
          "base_uri": "https://localhost:8080/"
        },
        "id": "AY2y1fhBUwoW",
        "outputId": "7118025c-726a-49b2-dd7d-b6d3a20d8609"
      },
      "source": [
        "#My example\n",
        "#Applying logarithm to every value of the column Open of the table\n",
        "msft_log_price = np.log(msft_bar.Open)\n",
        "msft_log_price.name = 'Microsoft_log_price'\n",
        "print(msft_log_price)\n",
        "print('\\n---------------------- separate line--------------------\\n')\n",
        "# concatenates the column just calculated to the table\n",
        "msft_concat = pd.concat([msft_bar, msft_log_price], axis = 1)\n",
        "print(msft_concat)"
      ],
      "execution_count": 177,
      "outputs": [
        {
          "output_type": "stream",
          "text": [
            "Date\n",
            "2013-01-31    3.324676\n",
            "2013-02-28    3.327910\n",
            "2013-03-31    3.343568\n",
            "2013-04-30    3.483085\n",
            "2013-05-31    3.550192\n",
            "2013-06-30    3.537475\n",
            "2013-07-31    3.464798\n",
            "2013-08-31    3.507657\n",
            "2013-09-30    3.496508\n",
            "2013-10-31    3.574030\n",
            "2013-11-30    3.632838\n",
            "2013-12-31    3.621671\n",
            "Freq: M, Name: Microsoft_log_price, dtype: float64\n",
            "\n",
            "---------------------- separate line--------------------\n",
            "\n",
            "             Open   Close  rate_return  Microsoft_log_price\n",
            "Date                                                       \n",
            "2013-01-31  27.79  27.450          NaN             3.324676\n",
            "2013-02-28  27.88  27.800         0.09             3.327910\n",
            "2013-03-31  28.32  28.605         0.44             3.343568\n",
            "2013-04-30  32.56  33.100         4.24             3.483085\n",
            "2013-05-31  34.82  34.900         2.26             3.550192\n",
            "2013-06-30  34.38  34.545        -0.44             3.537475\n",
            "2013-07-31  31.97  31.840        -2.41             3.464798\n",
            "2013-08-31  33.37  33.400         1.40             3.507657\n",
            "2013-09-30  33.00  33.280        -0.37             3.496508\n",
            "2013-10-31  35.66  35.405         2.66             3.574030\n",
            "2013-11-30  37.82  38.130         2.16             3.632838\n",
            "2013-12-31  37.40  37.410        -0.42             3.621671\n"
          ],
          "name": "stdout"
        }
      ]
    },
    {
      "cell_type": "markdown",
      "metadata": {
        "id": "m_jfJ3nXw7fB"
      },
      "source": [
        "We can also join two DataFrames by rows. Consider these two DataFrames:"
      ]
    },
    {
      "cell_type": "code",
      "metadata": {
        "id": "FKxPEZ3O2qrR",
        "colab": {
          "base_uri": "https://localhost:8080/"
        },
        "outputId": "e41a8ec5-c15c-4312-80f5-4ba8e86e98f5"
      },
      "source": [
        "df_volume = aapl_table.loc['2016-10':'2017-04',['Volume', 'Split Ratio']].resample('M').agg(lambda x: x[-1])\n",
        "print(df_volume)\n",
        "print('\\n---------------------- separate line--------------------\\n')\n",
        "df_2017 = aapl_table.loc['2016-10':'2017-04',['Open', 'High', 'Low', 'Close']].resample('M').agg(lambda x: x[-1])\n",
        "print(df_2017)"
      ],
      "execution_count": 178,
      "outputs": [
        {
          "output_type": "stream",
          "text": [
            "                Volume  Split Ratio\n",
            "Date                               \n",
            "2016-10-31  26419398.0          1.0\n",
            "2016-11-30  36162258.0          1.0\n",
            "2016-12-31  30586265.0          1.0\n",
            "2017-01-31  49200993.0          1.0\n",
            "2017-02-28  23482860.0          1.0\n",
            "2017-03-31  19661651.0          1.0\n",
            "2017-04-30  20247187.0          1.0\n",
            "\n",
            "---------------------- separate line--------------------\n",
            "\n",
            "              Open     High     Low   Close\n",
            "Date                                       \n",
            "2016-10-31  113.65  114.230  113.20  113.54\n",
            "2016-11-30  111.56  112.200  110.27  110.52\n",
            "2016-12-31  116.65  117.200  115.43  115.82\n",
            "2017-01-31  121.15  121.390  120.62  121.35\n",
            "2017-02-28  137.08  137.435  136.70  136.99\n",
            "2017-03-31  143.72  144.270  143.01  143.66\n",
            "2017-04-30  144.09  144.300  143.27  143.65\n"
          ],
          "name": "stdout"
        }
      ]
    },
    {
      "cell_type": "code",
      "metadata": {
        "colab": {
          "base_uri": "https://localhost:8080/"
        },
        "id": "DfsuUeCUVxma",
        "outputId": "be8a3be3-f339-4e75-f5bd-b3ed6f61a4ae"
      },
      "source": [
        "#My example\n",
        "msft_OpenClose = msft_table.loc['2013-01':'2013-06',['Low', 'Open','Close']].resample('M').mean()\n",
        "print(msft_OpenClose)\n",
        "print('\\n---------------------- separate line--------------------\\n')\n",
        "msft_OpenClose_2015 = msft_table.loc['2015-01':'2015-06',['Low', 'High', 'Open','Close']].resample('M').mean()\n",
        "print(msft_OpenClose_2015 )"
      ],
      "execution_count": 179,
      "outputs": [
        {
          "output_type": "stream",
          "text": [
            "                  Low       Open      Close\n",
            "Date                                       \n",
            "2013-01-31  27.025948  27.243333  27.236714\n",
            "2013-02-28  27.525526  27.723158  27.703842\n",
            "2013-03-31  27.933750  28.087500  28.139500\n",
            "2013-04-30  29.457500  29.642273  29.870000\n",
            "2013-05-31  33.576955  33.760768  33.950636\n",
            "2013-06-30  34.319175  34.652500  34.632000\n",
            "\n",
            "---------------------- separate line--------------------\n",
            "\n",
            "                  Low       High       Open      Close\n",
            "Date                                                  \n",
            "2015-01-31  45.031745  46.070890  45.639000  45.513250\n",
            "2015-02-28  42.670526  43.272437  42.996842  43.077895\n",
            "2015-03-31  41.848182  42.527500  42.140000  42.130682\n",
            "2015-04-30  42.870952  43.736667  43.071905  43.465000\n",
            "2015-05-31  47.185250  47.976250  47.587005  47.529250\n",
            "2015-06-30  45.679550  46.465682  46.104091  45.963636\n"
          ],
          "name": "stdout"
        }
      ]
    },
    {
      "cell_type": "markdown",
      "metadata": {
        "id": "zfTYHMs_xMbG"
      },
      "source": [
        "Now we merge the DataFrames with our DataFrame 'aapl_bar'"
      ]
    },
    {
      "cell_type": "code",
      "metadata": {
        "id": "F4aYtRwN2qrR",
        "colab": {
          "base_uri": "https://localhost:8080/"
        },
        "outputId": "de8d7c47-5cdb-4c10-f6db-d002982f941e"
      },
      "source": [
        "concat = pd.concat([aapl_bar,df_volume],axis = 1)\n",
        "print(concat)"
      ],
      "execution_count": 180,
      "outputs": [
        {
          "output_type": "stream",
          "text": [
            "              Open      High     Low  ...  rate_return      Volume  Split Ratio\n",
            "Date                                  ...                                      \n",
            "2016-01-31   94.79   97.3400   94.35  ...          NaN         NaN          NaN\n",
            "2016-02-29   96.86   98.2300   96.65  ...    -0.006678         NaN          NaN\n",
            "2016-03-31  109.72  109.9000  108.88  ...     0.127211         NaN          NaN\n",
            "2016-04-30   93.99   94.7200   92.51  ...    -0.139921         NaN          NaN\n",
            "2016-05-31   99.60  100.4000   98.82  ...     0.065287         NaN          NaN\n",
            "2016-06-30   94.44   95.7700   94.30  ...    -0.042660         NaN          NaN\n",
            "2016-07-31  104.19  104.5500  103.68  ...     0.090063         NaN          NaN\n",
            "2016-08-31  105.66  106.5699  105.64  ...     0.018136         NaN          NaN\n",
            "2016-09-30  112.46  113.3700  111.80  ...     0.065504         NaN          NaN\n",
            "2016-10-31  113.65  114.2300  113.20  ...     0.004334  26419398.0          1.0\n",
            "2016-11-30  111.56  112.2000  110.27  ...    -0.026599  36162258.0          1.0\n",
            "2016-12-31  116.65  117.2000  115.43  ...     0.047955  30586265.0          1.0\n",
            "2017-01-31     NaN       NaN     NaN  ...          NaN  49200993.0          1.0\n",
            "2017-02-28     NaN       NaN     NaN  ...          NaN  23482860.0          1.0\n",
            "2017-03-31     NaN       NaN     NaN  ...          NaN  19661651.0          1.0\n",
            "2017-04-30     NaN       NaN     NaN  ...          NaN  20247187.0          1.0\n",
            "\n",
            "[16 rows x 7 columns]\n"
          ],
          "name": "stdout"
        }
      ]
    },
    {
      "cell_type": "code",
      "metadata": {
        "colab": {
          "base_uri": "https://localhost:8080/"
        },
        "id": "Oo42pEZMWhlx",
        "outputId": "32c881e3-d440-472e-e608-134be8161115"
      },
      "source": [
        "#My example\n",
        "# Merging 2 tables\n",
        "concat_2 = pd.concat([msft_bar,msft_OpenClose],axis = 1)\n",
        "print(concat_2)"
      ],
      "execution_count": 181,
      "outputs": [
        {
          "output_type": "stream",
          "text": [
            "             Open   Close  rate_return        Low       Open      Close\n",
            "Date                                                                   \n",
            "2013-01-31  27.79  27.450          NaN  27.025948  27.243333  27.236714\n",
            "2013-02-28  27.88  27.800         0.09  27.525526  27.723158  27.703842\n",
            "2013-03-31  28.32  28.605         0.44  27.933750  28.087500  28.139500\n",
            "2013-04-30  32.56  33.100         4.24  29.457500  29.642273  29.870000\n",
            "2013-05-31  34.82  34.900         2.26  33.576955  33.760768  33.950636\n",
            "2013-06-30  34.38  34.545        -0.44  34.319175  34.652500  34.632000\n",
            "2013-07-31  31.97  31.840        -2.41        NaN        NaN        NaN\n",
            "2013-08-31  33.37  33.400         1.40        NaN        NaN        NaN\n",
            "2013-09-30  33.00  33.280        -0.37        NaN        NaN        NaN\n",
            "2013-10-31  35.66  35.405         2.66        NaN        NaN        NaN\n",
            "2013-11-30  37.82  38.130         2.16        NaN        NaN        NaN\n",
            "2013-12-31  37.40  37.410        -0.42        NaN        NaN        NaN\n"
          ],
          "name": "stdout"
        }
      ]
    },
    {
      "cell_type": "markdown",
      "metadata": {
        "id": "WObfbaTJxRaq"
      },
      "source": [
        "By default the DataFrame are joined with all of the data. This default options results in zero information loss. We can also merge them by intersection, this is called 'inner join':"
      ]
    },
    {
      "cell_type": "code",
      "metadata": {
        "id": "Q6IYDoyq2qrS",
        "colab": {
          "base_uri": "https://localhost:8080/"
        },
        "outputId": "f3b2151a-9763-4669-bfd9-6c08a699093b"
      },
      "source": [
        "concat = pd.concat([aapl_bar,df_volume],axis = 1, join = 'inner')\n",
        "print(concat)"
      ],
      "execution_count": 182,
      "outputs": [
        {
          "output_type": "stream",
          "text": [
            "              Open    High     Low  ...  rate_return      Volume  Split Ratio\n",
            "Date                                ...                                      \n",
            "2016-10-31  113.65  114.23  113.20  ...     0.004334  26419398.0          1.0\n",
            "2016-11-30  111.56  112.20  110.27  ...    -0.026599  36162258.0          1.0\n",
            "2016-12-31  116.65  117.20  115.43  ...     0.047955  30586265.0          1.0\n",
            "\n",
            "[3 rows x 7 columns]\n"
          ],
          "name": "stdout"
        }
      ]
    },
    {
      "cell_type": "code",
      "metadata": {
        "colab": {
          "base_uri": "https://localhost:8080/"
        },
        "id": "Td4j7jZJXaC9",
        "outputId": "efd3550a-6936-4867-9b24-c053b1265cf2"
      },
      "source": [
        "# My example\n",
        "# Inner join\n",
        "concat_2 = pd.concat([msft_bar,msft_OpenClose],axis = 1, join = 'inner')\n",
        "print(concat_2)"
      ],
      "execution_count": 183,
      "outputs": [
        {
          "output_type": "stream",
          "text": [
            "             Open   Close  rate_return        Low       Open      Close\n",
            "Date                                                                   \n",
            "2013-01-31  27.79  27.450          NaN  27.025948  27.243333  27.236714\n",
            "2013-02-28  27.88  27.800         0.09  27.525526  27.723158  27.703842\n",
            "2013-03-31  28.32  28.605         0.44  27.933750  28.087500  28.139500\n",
            "2013-04-30  32.56  33.100         4.24  29.457500  29.642273  29.870000\n",
            "2013-05-31  34.82  34.900         2.26  33.576955  33.760768  33.950636\n",
            "2013-06-30  34.38  34.545        -0.44  34.319175  34.652500  34.632000\n"
          ],
          "name": "stdout"
        }
      ]
    },
    {
      "cell_type": "markdown",
      "metadata": {
        "id": "a-wajjuxxow7"
      },
      "source": [
        "Only the intersection part was left if use 'inner join' method. Now let's try to append a DataFrame to another one:"
      ]
    },
    {
      "cell_type": "code",
      "metadata": {
        "id": "PD_SiyWX2qrS",
        "colab": {
          "base_uri": "https://localhost:8080/"
        },
        "outputId": "f3462766-a940-430a-ad86-08208503f770"
      },
      "source": [
        "append = aapl_bar.append(df_2017)\n",
        "print(append)"
      ],
      "execution_count": 184,
      "outputs": [
        {
          "output_type": "stream",
          "text": [
            "              Open      High     Low   Close  rate_return\n",
            "Date                                                     \n",
            "2016-01-31   94.79   97.3400   94.35   97.34          NaN\n",
            "2016-02-29   96.86   98.2300   96.65   96.69    -0.006678\n",
            "2016-03-31  109.72  109.9000  108.88  108.99     0.127211\n",
            "2016-04-30   93.99   94.7200   92.51   93.74    -0.139921\n",
            "2016-05-31   99.60  100.4000   98.82   99.86     0.065287\n",
            "2016-06-30   94.44   95.7700   94.30   95.60    -0.042660\n",
            "2016-07-31  104.19  104.5500  103.68  104.21     0.090063\n",
            "2016-08-31  105.66  106.5699  105.64  106.10     0.018136\n",
            "2016-09-30  112.46  113.3700  111.80  113.05     0.065504\n",
            "2016-10-31  113.65  114.2300  113.20  113.54     0.004334\n",
            "2016-11-30  111.56  112.2000  110.27  110.52    -0.026599\n",
            "2016-12-31  116.65  117.2000  115.43  115.82     0.047955\n",
            "2016-10-31  113.65  114.2300  113.20  113.54          NaN\n",
            "2016-11-30  111.56  112.2000  110.27  110.52          NaN\n",
            "2016-12-31  116.65  117.2000  115.43  115.82          NaN\n",
            "2017-01-31  121.15  121.3900  120.62  121.35          NaN\n",
            "2017-02-28  137.08  137.4350  136.70  136.99          NaN\n",
            "2017-03-31  143.72  144.2700  143.01  143.66          NaN\n",
            "2017-04-30  144.09  144.3000  143.27  143.65          NaN\n"
          ],
          "name": "stdout"
        }
      ]
    },
    {
      "cell_type": "code",
      "metadata": {
        "colab": {
          "base_uri": "https://localhost:8080/"
        },
        "id": "cH1_B00_Y1oW",
        "outputId": "f64e78dc-688e-42e6-d2d4-23a754c3236f"
      },
      "source": [
        "# My example\n",
        "append_2 = msft_OpenClose.append(msft_OpenClose_2015)\n",
        "print(append_2)"
      ],
      "execution_count": 185,
      "outputs": [
        {
          "output_type": "stream",
          "text": [
            "                  Low       Open      Close       High\n",
            "Date                                                  \n",
            "2013-01-31  27.025948  27.243333  27.236714        NaN\n",
            "2013-02-28  27.525526  27.723158  27.703842        NaN\n",
            "2013-03-31  27.933750  28.087500  28.139500        NaN\n",
            "2013-04-30  29.457500  29.642273  29.870000        NaN\n",
            "2013-05-31  33.576955  33.760768  33.950636        NaN\n",
            "2013-06-30  34.319175  34.652500  34.632000        NaN\n",
            "2015-01-31  45.031745  45.639000  45.513250  46.070890\n",
            "2015-02-28  42.670526  42.996842  43.077895  43.272437\n",
            "2015-03-31  41.848182  42.140000  42.130682  42.527500\n",
            "2015-04-30  42.870952  43.071905  43.465000  43.736667\n",
            "2015-05-31  47.185250  47.587005  47.529250  47.976250\n",
            "2015-06-30  45.679550  46.104091  45.963636  46.465682\n"
          ],
          "name": "stdout"
        }
      ]
    },
    {
      "cell_type": "markdown",
      "metadata": {
        "id": "56IWtTVzxtkH"
      },
      "source": [
        "'Append' is essentially to concat two DataFrames by axis = 0, thus here is an alternative way to append:"
      ]
    },
    {
      "cell_type": "code",
      "metadata": {
        "id": "PC1GAR1r2qrS",
        "colab": {
          "base_uri": "https://localhost:8080/"
        },
        "outputId": "321a61b8-2231-4194-a2e4-1da842934946"
      },
      "source": [
        "concat = pd.concat([aapl_bar, df_2017], axis = 0)\n",
        "print(concat)"
      ],
      "execution_count": 186,
      "outputs": [
        {
          "output_type": "stream",
          "text": [
            "              Open      High     Low   Close  rate_return\n",
            "Date                                                     \n",
            "2016-01-31   94.79   97.3400   94.35   97.34          NaN\n",
            "2016-02-29   96.86   98.2300   96.65   96.69    -0.006678\n",
            "2016-03-31  109.72  109.9000  108.88  108.99     0.127211\n",
            "2016-04-30   93.99   94.7200   92.51   93.74    -0.139921\n",
            "2016-05-31   99.60  100.4000   98.82   99.86     0.065287\n",
            "2016-06-30   94.44   95.7700   94.30   95.60    -0.042660\n",
            "2016-07-31  104.19  104.5500  103.68  104.21     0.090063\n",
            "2016-08-31  105.66  106.5699  105.64  106.10     0.018136\n",
            "2016-09-30  112.46  113.3700  111.80  113.05     0.065504\n",
            "2016-10-31  113.65  114.2300  113.20  113.54     0.004334\n",
            "2016-11-30  111.56  112.2000  110.27  110.52    -0.026599\n",
            "2016-12-31  116.65  117.2000  115.43  115.82     0.047955\n",
            "2016-10-31  113.65  114.2300  113.20  113.54          NaN\n",
            "2016-11-30  111.56  112.2000  110.27  110.52          NaN\n",
            "2016-12-31  116.65  117.2000  115.43  115.82          NaN\n",
            "2017-01-31  121.15  121.3900  120.62  121.35          NaN\n",
            "2017-02-28  137.08  137.4350  136.70  136.99          NaN\n",
            "2017-03-31  143.72  144.2700  143.01  143.66          NaN\n",
            "2017-04-30  144.09  144.3000  143.27  143.65          NaN\n"
          ],
          "name": "stdout"
        }
      ]
    },
    {
      "cell_type": "code",
      "metadata": {
        "colab": {
          "base_uri": "https://localhost:8080/"
        },
        "id": "dJ-eOhEGZXJn",
        "outputId": "09e4d708-5804-4792-eda7-8c6307c75904"
      },
      "source": [
        "# My example\n",
        "# concatenating rows\n",
        "concat_2 = pd.concat([msft_OpenClose, msft_OpenClose_2015], axis = 0)\n",
        "print(concat_2)"
      ],
      "execution_count": 187,
      "outputs": [
        {
          "output_type": "stream",
          "text": [
            "                  Low       Open      Close       High\n",
            "Date                                                  \n",
            "2013-01-31  27.025948  27.243333  27.236714        NaN\n",
            "2013-02-28  27.525526  27.723158  27.703842        NaN\n",
            "2013-03-31  27.933750  28.087500  28.139500        NaN\n",
            "2013-04-30  29.457500  29.642273  29.870000        NaN\n",
            "2013-05-31  33.576955  33.760768  33.950636        NaN\n",
            "2013-06-30  34.319175  34.652500  34.632000        NaN\n",
            "2015-01-31  45.031745  45.639000  45.513250  46.070890\n",
            "2015-02-28  42.670526  42.996842  43.077895  43.272437\n",
            "2015-03-31  41.848182  42.140000  42.130682  42.527500\n",
            "2015-04-30  42.870952  43.071905  43.465000  43.736667\n",
            "2015-05-31  47.185250  47.587005  47.529250  47.976250\n",
            "2015-06-30  45.679550  46.104091  45.963636  46.465682\n"
          ],
          "name": "stdout"
        }
      ]
    },
    {
      "cell_type": "markdown",
      "metadata": {
        "id": "k3spHEYOx57h"
      },
      "source": [
        "Please note that if the two DataFrame have some columns with the same column names, these columns are considered to be the same and will be merged. It's very important to have the right column names. If we change a column names here:"
      ]
    },
    {
      "cell_type": "code",
      "metadata": {
        "id": "9HsgeOx_2qrT",
        "colab": {
          "base_uri": "https://localhost:8080/"
        },
        "outputId": "22675ab8-1c60-4b09-8afb-a8dbe5ca44e1"
      },
      "source": [
        "df_2017.columns = ['Change', 'High','Low','Close']\n",
        "concat = pd.concat([aapl_bar, df_2017], axis = 0)\n",
        "print(concat)"
      ],
      "execution_count": 188,
      "outputs": [
        {
          "output_type": "stream",
          "text": [
            "              Open      High     Low   Close  rate_return  Change\n",
            "Date                                                             \n",
            "2016-01-31   94.79   97.3400   94.35   97.34          NaN     NaN\n",
            "2016-02-29   96.86   98.2300   96.65   96.69    -0.006678     NaN\n",
            "2016-03-31  109.72  109.9000  108.88  108.99     0.127211     NaN\n",
            "2016-04-30   93.99   94.7200   92.51   93.74    -0.139921     NaN\n",
            "2016-05-31   99.60  100.4000   98.82   99.86     0.065287     NaN\n",
            "2016-06-30   94.44   95.7700   94.30   95.60    -0.042660     NaN\n",
            "2016-07-31  104.19  104.5500  103.68  104.21     0.090063     NaN\n",
            "2016-08-31  105.66  106.5699  105.64  106.10     0.018136     NaN\n",
            "2016-09-30  112.46  113.3700  111.80  113.05     0.065504     NaN\n",
            "2016-10-31  113.65  114.2300  113.20  113.54     0.004334     NaN\n",
            "2016-11-30  111.56  112.2000  110.27  110.52    -0.026599     NaN\n",
            "2016-12-31  116.65  117.2000  115.43  115.82     0.047955     NaN\n",
            "2016-10-31     NaN  114.2300  113.20  113.54          NaN  113.65\n",
            "2016-11-30     NaN  112.2000  110.27  110.52          NaN  111.56\n",
            "2016-12-31     NaN  117.2000  115.43  115.82          NaN  116.65\n",
            "2017-01-31     NaN  121.3900  120.62  121.35          NaN  121.15\n",
            "2017-02-28     NaN  137.4350  136.70  136.99          NaN  137.08\n",
            "2017-03-31     NaN  144.2700  143.01  143.66          NaN  143.72\n",
            "2017-04-30     NaN  144.3000  143.27  143.65          NaN  144.09\n"
          ],
          "name": "stdout"
        }
      ]
    },
    {
      "cell_type": "code",
      "metadata": {
        "colab": {
          "base_uri": "https://localhost:8080/"
        },
        "id": "MErBvMEBZqAw",
        "outputId": "918555d0-45b3-4710-ac79-04da797406c8"
      },
      "source": [
        "# My example \n",
        "msft_OpenClose.columns = msft_bar.columns\n",
        "concat = pd.concat([msft_bar, msft_OpenClose], axis = 0)\n",
        "print(concat)"
      ],
      "execution_count": 189,
      "outputs": [
        {
          "output_type": "stream",
          "text": [
            "                 Open      Close  rate_return\n",
            "Date                                         \n",
            "2013-01-31  27.790000  27.450000          NaN\n",
            "2013-02-28  27.880000  27.800000     0.090000\n",
            "2013-03-31  28.320000  28.605000     0.440000\n",
            "2013-04-30  32.560000  33.100000     4.240000\n",
            "2013-05-31  34.820000  34.900000     2.260000\n",
            "2013-06-30  34.380000  34.545000    -0.440000\n",
            "2013-07-31  31.970000  31.840000    -2.410000\n",
            "2013-08-31  33.370000  33.400000     1.400000\n",
            "2013-09-30  33.000000  33.280000    -0.370000\n",
            "2013-10-31  35.660000  35.405000     2.660000\n",
            "2013-11-30  37.820000  38.130000     2.160000\n",
            "2013-12-31  37.400000  37.410000    -0.420000\n",
            "2013-01-31  27.025948  27.243333    27.236714\n",
            "2013-02-28  27.525526  27.723158    27.703842\n",
            "2013-03-31  27.933750  28.087500    28.139500\n",
            "2013-04-30  29.457500  29.642273    29.870000\n",
            "2013-05-31  33.576955  33.760768    33.950636\n",
            "2013-06-30  34.319175  34.652500    34.632000\n"
          ],
          "name": "stdout"
        }
      ]
    },
    {
      "cell_type": "markdown",
      "metadata": {
        "id": "tyTC94DByKTr"
      },
      "source": [
        "Since the column name of 'Open' has been changed, the new DataFrame has an new column named 'Change'."
      ]
    },
    {
      "cell_type": "markdown",
      "metadata": {
        "id": "TbW6MxCNyGqI"
      },
      "source": [
        "###Summary\n",
        "Hereby we introduced the most import part of python: resampling and DataFrame manipulation. We only introduced the most commonly used method in Financial data analysis. There are also many methods used in data mining, which are also beneficial. You can always check the Pandas official documentations for help."
      ]
    }
  ]
}